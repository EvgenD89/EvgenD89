{
  "metadata": {
    "kernelspec": {
      "name": "python",
      "display_name": "Python (Pyodide)",
      "language": "python"
    },
    "language_info": {
      "codemirror_mode": {
        "name": "python",
        "version": 3
      },
      "file_extension": ".py",
      "mimetype": "text/x-python",
      "name": "python",
      "nbconvert_exporter": "python",
      "pygments_lexer": "ipython3",
      "version": "3.8"
    },
    "ExecuteTimeLog": [
      {
        "duration": 89,
        "start_time": "2025-08-23T09:36:37.229Z"
      },
      {
        "duration": 118,
        "start_time": "2025-08-23T09:36:45.404Z"
      },
      {
        "duration": 125,
        "start_time": "2025-08-23T09:36:59.811Z"
      },
      {
        "duration": 530,
        "start_time": "2025-08-23T09:37:20.987Z"
      },
      {
        "duration": 35,
        "start_time": "2025-08-23T09:37:27.123Z"
      },
      {
        "duration": 24,
        "start_time": "2025-08-23T09:37:28.841Z"
      },
      {
        "duration": 9,
        "start_time": "2025-08-23T09:38:44.114Z"
      },
      {
        "duration": 16,
        "start_time": "2025-08-23T09:39:08.139Z"
      },
      {
        "duration": 7,
        "start_time": "2025-08-23T09:39:31.098Z"
      },
      {
        "duration": 6,
        "start_time": "2025-08-23T09:39:42.930Z"
      },
      {
        "duration": 5,
        "start_time": "2025-08-23T09:45:41.850Z"
      },
      {
        "duration": 13,
        "start_time": "2025-08-23T09:45:55.554Z"
      },
      {
        "duration": 1480,
        "start_time": "2025-08-23T09:48:31.025Z"
      },
      {
        "duration": 520,
        "start_time": "2025-08-23T09:51:28.544Z"
      },
      {
        "duration": 13,
        "start_time": "2025-08-23T09:51:29.744Z"
      },
      {
        "duration": 12,
        "start_time": "2025-08-23T09:51:32.496Z"
      },
      {
        "duration": 2094,
        "start_time": "2025-08-23T09:51:33.792Z"
      },
      {
        "duration": 9,
        "start_time": "2025-08-23T09:53:41.800Z"
      },
      {
        "duration": 24,
        "start_time": "2025-08-23T09:53:52.296Z"
      },
      {
        "duration": 6,
        "start_time": "2025-08-23T09:53:53.432Z"
      },
      {
        "duration": 12,
        "start_time": "2025-08-23T09:53:54.448Z"
      },
      {
        "duration": 4,
        "start_time": "2025-08-23T09:53:55.799Z"
      },
      {
        "duration": 7,
        "start_time": "2025-08-23T09:55:24.400Z"
      },
      {
        "duration": 6,
        "start_time": "2025-08-23T09:55:38.360Z"
      },
      {
        "duration": 5,
        "start_time": "2025-08-23T09:58:58.247Z"
      },
      {
        "duration": 6,
        "start_time": "2025-08-23T10:02:50.158Z"
      },
      {
        "duration": 24,
        "start_time": "2025-08-23T10:06:42.533Z"
      },
      {
        "duration": 6,
        "start_time": "2025-08-23T10:06:43.501Z"
      },
      {
        "duration": 13,
        "start_time": "2025-08-23T10:06:44.797Z"
      },
      {
        "duration": 4,
        "start_time": "2025-08-23T10:06:46.078Z"
      },
      {
        "duration": 10,
        "start_time": "2025-08-23T10:06:47.725Z"
      },
      {
        "duration": 7,
        "start_time": "2025-08-23T10:06:48.805Z"
      },
      {
        "duration": 6,
        "start_time": "2025-08-23T10:06:50.093Z"
      },
      {
        "duration": 6,
        "start_time": "2025-08-23T10:06:54.197Z"
      },
      {
        "duration": 8,
        "start_time": "2025-08-23T10:09:41.613Z"
      },
      {
        "duration": 10,
        "start_time": "2025-08-23T10:20:31.674Z"
      },
      {
        "duration": 1659,
        "start_time": "2025-08-23T10:27:30.257Z"
      },
      {
        "duration": 32,
        "start_time": "2025-08-23T10:27:31.918Z"
      },
      {
        "duration": 21,
        "start_time": "2025-08-23T10:28:06.744Z"
      },
      {
        "duration": 19,
        "start_time": "2025-08-23T10:28:11.401Z"
      },
      {
        "duration": 363,
        "start_time": "2025-08-23T10:30:28.145Z"
      },
      {
        "duration": 59,
        "start_time": "2025-08-23T10:39:18.807Z"
      },
      {
        "duration": 8,
        "start_time": "2025-08-23T10:39:31.215Z"
      },
      {
        "duration": 63,
        "start_time": "2025-08-23T10:42:07.919Z"
      },
      {
        "duration": 240,
        "start_time": "2025-08-23T10:45:26.647Z"
      },
      {
        "duration": 13,
        "start_time": "2025-08-23T10:51:34.981Z"
      },
      {
        "duration": 21,
        "start_time": "2025-08-23T10:55:34.014Z"
      },
      {
        "duration": 17,
        "start_time": "2025-08-23T11:03:58.452Z"
      },
      {
        "duration": 6,
        "start_time": "2025-08-23T11:04:13.740Z"
      },
      {
        "duration": 5,
        "start_time": "2025-08-23T11:04:31.573Z"
      },
      {
        "duration": 5,
        "start_time": "2025-08-23T11:04:34.733Z"
      },
      {
        "duration": 7,
        "start_time": "2025-08-23T11:05:05.812Z"
      },
      {
        "duration": 32,
        "start_time": "2025-08-23T11:05:38.309Z"
      },
      {
        "duration": 6,
        "start_time": "2025-08-23T11:05:39.212Z"
      },
      {
        "duration": 11,
        "start_time": "2025-08-23T11:05:40.533Z"
      },
      {
        "duration": 5,
        "start_time": "2025-08-23T11:05:42.084Z"
      },
      {
        "duration": 11,
        "start_time": "2025-08-23T11:05:43.948Z"
      },
      {
        "duration": 8,
        "start_time": "2025-08-23T11:05:44.677Z"
      },
      {
        "duration": 7,
        "start_time": "2025-08-23T11:05:45.357Z"
      },
      {
        "duration": 6,
        "start_time": "2025-08-23T11:05:48.628Z"
      },
      {
        "duration": 1612,
        "start_time": "2025-08-23T11:05:55.180Z"
      },
      {
        "duration": 21,
        "start_time": "2025-08-23T11:05:56.794Z"
      },
      {
        "duration": 233,
        "start_time": "2025-08-23T11:05:58.668Z"
      },
      {
        "duration": 8,
        "start_time": "2025-08-23T11:06:01.620Z"
      },
      {
        "duration": 49,
        "start_time": "2025-08-23T11:06:03.684Z"
      },
      {
        "duration": 21,
        "start_time": "2025-08-23T11:06:12.405Z"
      },
      {
        "duration": 7,
        "start_time": "2025-08-23T11:06:15.996Z"
      },
      {
        "duration": 5,
        "start_time": "2025-08-23T11:07:30.077Z"
      },
      {
        "duration": 7,
        "start_time": "2025-08-23T11:17:07.602Z"
      },
      {
        "duration": 6,
        "start_time": "2025-08-23T11:17:51.619Z"
      },
      {
        "duration": 7,
        "start_time": "2025-08-23T11:18:08.754Z"
      },
      {
        "duration": 7,
        "start_time": "2025-08-23T11:18:41.842Z"
      },
      {
        "duration": 7,
        "start_time": "2025-08-23T11:18:45.698Z"
      },
      {
        "duration": 7,
        "start_time": "2025-08-23T11:19:04.474Z"
      },
      {
        "duration": 21,
        "start_time": "2025-08-23T11:19:32.833Z"
      },
      {
        "duration": 16,
        "start_time": "2025-08-23T11:19:53.825Z"
      },
      {
        "duration": 91,
        "start_time": "2025-08-23T11:21:59.658Z"
      },
      {
        "duration": 22,
        "start_time": "2025-08-23T11:24:53.313Z"
      },
      {
        "duration": 24,
        "start_time": "2025-08-23T11:26:08.017Z"
      },
      {
        "duration": 18,
        "start_time": "2025-08-23T11:26:27.680Z"
      },
      {
        "duration": 16,
        "start_time": "2025-08-23T11:26:49.281Z"
      },
      {
        "duration": 95,
        "start_time": "2025-08-23T11:29:24.191Z"
      },
      {
        "duration": 608,
        "start_time": "2025-08-23T11:30:13.279Z"
      },
      {
        "duration": 367,
        "start_time": "2025-08-23T11:31:05.031Z"
      },
      {
        "duration": 339,
        "start_time": "2025-08-23T11:31:18.439Z"
      },
      {
        "duration": 150,
        "start_time": "2025-08-23T11:35:25.207Z"
      },
      {
        "duration": 13,
        "start_time": "2025-08-23T11:38:20.439Z"
      },
      {
        "duration": 13,
        "start_time": "2025-08-23T11:38:57.870Z"
      },
      {
        "duration": 23,
        "start_time": "2025-08-23T11:41:08.263Z"
      },
      {
        "duration": 24,
        "start_time": "2025-08-23T11:49:17.148Z"
      },
      {
        "duration": 948,
        "start_time": "2025-08-23T11:57:34.631Z"
      },
      {
        "duration": 97,
        "start_time": "2025-08-23T11:57:35.581Z"
      },
      {
        "duration": 0,
        "start_time": "2025-08-23T11:57:35.680Z"
      },
      {
        "duration": 0,
        "start_time": "2025-08-23T11:57:35.682Z"
      },
      {
        "duration": 0,
        "start_time": "2025-08-23T11:57:35.683Z"
      },
      {
        "duration": 0,
        "start_time": "2025-08-23T11:57:35.684Z"
      },
      {
        "duration": 1,
        "start_time": "2025-08-23T11:57:35.685Z"
      },
      {
        "duration": 0,
        "start_time": "2025-08-23T11:57:35.687Z"
      },
      {
        "duration": 0,
        "start_time": "2025-08-23T11:57:35.688Z"
      },
      {
        "duration": 0,
        "start_time": "2025-08-23T11:57:35.689Z"
      },
      {
        "duration": 0,
        "start_time": "2025-08-23T11:57:35.691Z"
      },
      {
        "duration": 0,
        "start_time": "2025-08-23T11:57:35.692Z"
      },
      {
        "duration": 0,
        "start_time": "2025-08-23T11:57:35.693Z"
      },
      {
        "duration": 0,
        "start_time": "2025-08-23T11:57:35.694Z"
      },
      {
        "duration": 0,
        "start_time": "2025-08-23T11:57:35.695Z"
      },
      {
        "duration": 0,
        "start_time": "2025-08-23T11:57:35.696Z"
      },
      {
        "duration": 0,
        "start_time": "2025-08-23T11:57:35.697Z"
      },
      {
        "duration": 0,
        "start_time": "2025-08-23T11:57:35.699Z"
      },
      {
        "duration": 0,
        "start_time": "2025-08-23T11:57:35.700Z"
      },
      {
        "duration": 0,
        "start_time": "2025-08-23T11:57:35.701Z"
      },
      {
        "duration": 0,
        "start_time": "2025-08-23T11:57:35.702Z"
      },
      {
        "duration": 9,
        "start_time": "2025-08-23T11:58:09.977Z"
      },
      {
        "duration": 13,
        "start_time": "2025-08-23T11:58:15.729Z"
      },
      {
        "duration": 910,
        "start_time": "2025-08-23T11:58:23.264Z"
      },
      {
        "duration": 7,
        "start_time": "2025-08-23T11:58:24.176Z"
      },
      {
        "duration": 16,
        "start_time": "2025-08-23T11:58:24.185Z"
      },
      {
        "duration": 4,
        "start_time": "2025-08-23T11:58:24.203Z"
      },
      {
        "duration": 14,
        "start_time": "2025-08-23T11:58:24.209Z"
      },
      {
        "duration": 23,
        "start_time": "2025-08-23T11:58:24.225Z"
      },
      {
        "duration": 7,
        "start_time": "2025-08-23T11:58:24.251Z"
      },
      {
        "duration": 6,
        "start_time": "2025-08-23T11:58:24.260Z"
      },
      {
        "duration": 1897,
        "start_time": "2025-08-23T11:58:24.268Z"
      },
      {
        "duration": 30,
        "start_time": "2025-08-23T11:58:26.169Z"
      },
      {
        "duration": 412,
        "start_time": "2025-08-23T11:58:26.201Z"
      },
      {
        "duration": 12,
        "start_time": "2025-08-23T11:58:26.616Z"
      },
      {
        "duration": 58,
        "start_time": "2025-08-23T11:58:26.650Z"
      },
      {
        "duration": 41,
        "start_time": "2025-08-23T11:58:26.710Z"
      },
      {
        "duration": 8,
        "start_time": "2025-08-23T11:58:26.753Z"
      },
      {
        "duration": 8,
        "start_time": "2025-08-23T11:58:26.763Z"
      },
      {
        "duration": 21,
        "start_time": "2025-08-23T11:58:26.773Z"
      },
      {
        "duration": 134,
        "start_time": "2025-08-23T11:58:26.796Z"
      },
      {
        "duration": 197,
        "start_time": "2025-08-23T11:58:26.931Z"
      },
      {
        "duration": 20,
        "start_time": "2025-08-23T11:58:27.129Z"
      },
      {
        "duration": 118,
        "start_time": "2025-08-23T11:58:27.151Z"
      },
      {
        "duration": 32,
        "start_time": "2025-08-23T11:59:44.201Z"
      },
      {
        "duration": 107,
        "start_time": "2025-08-23T12:04:44.264Z"
      },
      {
        "duration": 22,
        "start_time": "2025-08-23T12:05:19.162Z"
      },
      {
        "duration": 4,
        "start_time": "2025-08-23T12:05:38.362Z"
      },
      {
        "duration": 22,
        "start_time": "2025-08-23T12:13:28.966Z"
      },
      {
        "duration": 7,
        "start_time": "2025-08-23T12:14:13.846Z"
      },
      {
        "duration": 5,
        "start_time": "2025-08-23T12:15:01.102Z"
      },
      {
        "duration": 971,
        "start_time": "2025-08-23T12:22:33.873Z"
      },
      {
        "duration": 8,
        "start_time": "2025-08-23T12:22:34.846Z"
      },
      {
        "duration": 13,
        "start_time": "2025-08-23T12:22:34.856Z"
      },
      {
        "duration": 5,
        "start_time": "2025-08-23T12:22:34.871Z"
      },
      {
        "duration": 16,
        "start_time": "2025-08-23T12:22:34.877Z"
      },
      {
        "duration": 39,
        "start_time": "2025-08-23T12:22:34.895Z"
      },
      {
        "duration": 11,
        "start_time": "2025-08-23T12:22:34.936Z"
      },
      {
        "duration": 8,
        "start_time": "2025-08-23T12:22:34.950Z"
      },
      {
        "duration": 1606,
        "start_time": "2025-08-23T12:22:34.960Z"
      },
      {
        "duration": 21,
        "start_time": "2025-08-23T12:22:36.570Z"
      },
      {
        "duration": 263,
        "start_time": "2025-08-23T12:22:36.593Z"
      },
      {
        "duration": 8,
        "start_time": "2025-08-23T12:22:36.858Z"
      },
      {
        "duration": 61,
        "start_time": "2025-08-23T12:22:36.868Z"
      },
      {
        "duration": 35,
        "start_time": "2025-08-23T12:22:36.930Z"
      },
      {
        "duration": 7,
        "start_time": "2025-08-23T12:22:36.966Z"
      },
      {
        "duration": 12,
        "start_time": "2025-08-23T12:22:36.976Z"
      },
      {
        "duration": 63,
        "start_time": "2025-08-23T12:22:36.991Z"
      },
      {
        "duration": 101,
        "start_time": "2025-08-23T12:22:37.056Z"
      },
      {
        "duration": 174,
        "start_time": "2025-08-23T12:22:37.159Z"
      },
      {
        "duration": 22,
        "start_time": "2025-08-23T12:22:37.335Z"
      },
      {
        "duration": 24,
        "start_time": "2025-08-23T12:22:37.359Z"
      },
      {
        "duration": 7,
        "start_time": "2025-08-23T12:22:37.385Z"
      },
      {
        "duration": 955,
        "start_time": "2025-08-23T12:33:16.362Z"
      },
      {
        "duration": 8,
        "start_time": "2025-08-23T12:33:17.319Z"
      },
      {
        "duration": 36,
        "start_time": "2025-08-23T12:33:17.329Z"
      },
      {
        "duration": 4,
        "start_time": "2025-08-23T12:33:17.367Z"
      },
      {
        "duration": 10,
        "start_time": "2025-08-23T12:33:17.374Z"
      },
      {
        "duration": 6,
        "start_time": "2025-08-23T12:33:17.386Z"
      },
      {
        "duration": 7,
        "start_time": "2025-08-23T12:33:17.394Z"
      },
      {
        "duration": 5,
        "start_time": "2025-08-23T12:33:17.402Z"
      },
      {
        "duration": 1714,
        "start_time": "2025-08-23T12:33:17.409Z"
      },
      {
        "duration": 25,
        "start_time": "2025-08-23T12:33:19.126Z"
      },
      {
        "duration": 254,
        "start_time": "2025-08-23T12:33:19.153Z"
      },
      {
        "duration": 10,
        "start_time": "2025-08-23T12:33:19.409Z"
      },
      {
        "duration": 74,
        "start_time": "2025-08-23T12:33:19.421Z"
      },
      {
        "duration": 22,
        "start_time": "2025-08-23T12:33:19.498Z"
      },
      {
        "duration": 32,
        "start_time": "2025-08-23T12:33:19.522Z"
      },
      {
        "duration": 8,
        "start_time": "2025-08-23T12:33:19.556Z"
      },
      {
        "duration": 25,
        "start_time": "2025-08-23T12:33:19.566Z"
      },
      {
        "duration": 127,
        "start_time": "2025-08-23T12:33:19.592Z"
      },
      {
        "duration": 170,
        "start_time": "2025-08-23T12:33:19.721Z"
      },
      {
        "duration": 14,
        "start_time": "2025-08-23T12:33:19.893Z"
      },
      {
        "duration": 44,
        "start_time": "2025-08-23T12:33:19.909Z"
      },
      {
        "duration": 7,
        "start_time": "2025-08-23T12:33:19.955Z"
      },
      {
        "duration": 53,
        "start_time": "2025-08-24T07:06:29.534Z"
      },
      {
        "duration": 6,
        "start_time": "2025-08-24T07:06:35.452Z"
      },
      {
        "duration": 1044,
        "start_time": "2025-08-24T07:06:46.141Z"
      },
      {
        "duration": 16,
        "start_time": "2025-08-24T07:06:47.292Z"
      },
      {
        "duration": 3,
        "start_time": "2025-08-24T07:06:57.893Z"
      },
      {
        "duration": 24,
        "start_time": "2025-08-24T07:06:59.556Z"
      },
      {
        "duration": 8,
        "start_time": "2025-08-24T07:07:04.108Z"
      },
      {
        "duration": 14,
        "start_time": "2025-08-24T07:07:14.125Z"
      },
      {
        "duration": 13,
        "start_time": "2025-08-24T07:07:16.470Z"
      },
      {
        "duration": 5,
        "start_time": "2025-08-24T07:07:24.175Z"
      },
      {
        "duration": 13,
        "start_time": "2025-08-24T07:32:00.730Z"
      },
      {
        "duration": 12,
        "start_time": "2025-08-24T07:32:12.254Z"
      },
      {
        "duration": 3,
        "start_time": "2025-08-24T07:34:20.874Z"
      },
      {
        "duration": 33,
        "start_time": "2025-08-24T07:34:21.986Z"
      },
      {
        "duration": 8,
        "start_time": "2025-08-24T07:34:24.954Z"
      },
      {
        "duration": 12,
        "start_time": "2025-08-24T07:34:27.083Z"
      },
      {
        "duration": 4,
        "start_time": "2025-08-24T07:34:29.081Z"
      },
      {
        "duration": 12,
        "start_time": "2025-08-24T07:34:31.428Z"
      },
      {
        "duration": 7,
        "start_time": "2025-08-24T07:34:32.595Z"
      },
      {
        "duration": 13,
        "start_time": "2025-08-24T07:34:34.627Z"
      },
      {
        "duration": 59,
        "start_time": "2025-08-24T07:52:52.366Z"
      },
      {
        "duration": 1645,
        "start_time": "2025-08-24T07:52:56.509Z"
      },
      {
        "duration": 22,
        "start_time": "2025-08-24T07:52:58.156Z"
      },
      {
        "duration": 1466,
        "start_time": "2025-08-24T07:53:00.060Z"
      },
      {
        "duration": 912,
        "start_time": "2025-08-24T07:53:23.067Z"
      },
      {
        "duration": 26,
        "start_time": "2025-08-24T07:53:23.981Z"
      },
      {
        "duration": 18,
        "start_time": "2025-08-24T07:53:24.009Z"
      },
      {
        "duration": 21,
        "start_time": "2025-08-24T07:53:24.029Z"
      },
      {
        "duration": 5,
        "start_time": "2025-08-24T07:53:24.052Z"
      },
      {
        "duration": 9,
        "start_time": "2025-08-24T07:53:24.059Z"
      },
      {
        "duration": 6,
        "start_time": "2025-08-24T07:53:24.070Z"
      },
      {
        "duration": 12,
        "start_time": "2025-08-24T07:53:24.078Z"
      },
      {
        "duration": 5,
        "start_time": "2025-08-24T07:53:24.092Z"
      },
      {
        "duration": 1660,
        "start_time": "2025-08-24T07:53:24.099Z"
      },
      {
        "duration": 20,
        "start_time": "2025-08-24T07:53:25.761Z"
      },
      {
        "duration": 1926,
        "start_time": "2025-08-24T07:53:25.783Z"
      },
      {
        "duration": 0,
        "start_time": "2025-08-24T07:53:27.711Z"
      },
      {
        "duration": 0,
        "start_time": "2025-08-24T07:53:27.712Z"
      },
      {
        "duration": 0,
        "start_time": "2025-08-24T07:53:27.714Z"
      },
      {
        "duration": 0,
        "start_time": "2025-08-24T07:53:27.715Z"
      },
      {
        "duration": 0,
        "start_time": "2025-08-24T07:53:27.716Z"
      },
      {
        "duration": 0,
        "start_time": "2025-08-24T07:53:27.717Z"
      },
      {
        "duration": 0,
        "start_time": "2025-08-24T07:53:27.718Z"
      },
      {
        "duration": 0,
        "start_time": "2025-08-24T07:53:27.720Z"
      },
      {
        "duration": 0,
        "start_time": "2025-08-24T07:53:27.721Z"
      },
      {
        "duration": 0,
        "start_time": "2025-08-24T07:53:27.722Z"
      },
      {
        "duration": 0,
        "start_time": "2025-08-24T07:53:27.723Z"
      },
      {
        "duration": 0,
        "start_time": "2025-08-24T07:53:27.724Z"
      },
      {
        "duration": 14,
        "start_time": "2025-08-24T07:58:10.941Z"
      },
      {
        "duration": 239,
        "start_time": "2025-08-24T07:58:32.994Z"
      },
      {
        "duration": 1842,
        "start_time": "2025-08-24T07:58:44.145Z"
      },
      {
        "duration": 446,
        "start_time": "2025-08-24T07:59:05.237Z"
      },
      {
        "duration": 9,
        "start_time": "2025-08-24T08:03:30.776Z"
      },
      {
        "duration": 31,
        "start_time": "2025-08-24T08:11:21.522Z"
      },
      {
        "duration": 134,
        "start_time": "2025-08-24T09:47:53.995Z"
      },
      {
        "duration": 239,
        "start_time": "2025-08-24T09:47:57.268Z"
      },
      {
        "duration": 472,
        "start_time": "2025-08-24T09:48:00.883Z"
      },
      {
        "duration": 135,
        "start_time": "2025-08-24T10:04:13.667Z"
      },
      {
        "duration": 9,
        "start_time": "2025-08-24T10:27:59.492Z"
      },
      {
        "duration": 400,
        "start_time": "2025-08-24T10:28:41.608Z"
      },
      {
        "duration": 406,
        "start_time": "2025-08-24T10:29:07.838Z"
      },
      {
        "duration": 381,
        "start_time": "2025-08-24T10:29:18.886Z"
      },
      {
        "duration": 9,
        "start_time": "2025-08-24T10:30:01.816Z"
      },
      {
        "duration": 10,
        "start_time": "2025-08-24T10:40:10.218Z"
      },
      {
        "duration": 912,
        "start_time": "2025-08-24T10:40:18.638Z"
      },
      {
        "duration": 25,
        "start_time": "2025-08-24T10:40:19.552Z"
      },
      {
        "duration": 15,
        "start_time": "2025-08-24T10:40:19.579Z"
      },
      {
        "duration": 13,
        "start_time": "2025-08-24T10:40:19.596Z"
      },
      {
        "duration": 4,
        "start_time": "2025-08-24T10:40:19.611Z"
      },
      {
        "duration": 10,
        "start_time": "2025-08-24T10:40:19.617Z"
      },
      {
        "duration": 28,
        "start_time": "2025-08-24T10:40:19.628Z"
      },
      {
        "duration": 12,
        "start_time": "2025-08-24T10:40:19.658Z"
      },
      {
        "duration": 5,
        "start_time": "2025-08-24T10:40:19.672Z"
      },
      {
        "duration": 1594,
        "start_time": "2025-08-24T10:40:19.680Z"
      },
      {
        "duration": 21,
        "start_time": "2025-08-24T10:40:21.276Z"
      },
      {
        "duration": 67,
        "start_time": "2025-08-24T10:40:21.298Z"
      },
      {
        "duration": 147,
        "start_time": "2025-08-24T10:40:21.367Z"
      },
      {
        "duration": 254,
        "start_time": "2025-08-24T10:40:21.515Z"
      },
      {
        "duration": 460,
        "start_time": "2025-08-24T10:40:21.771Z"
      },
      {
        "duration": 436,
        "start_time": "2025-08-24T10:40:22.234Z"
      },
      {
        "duration": 8,
        "start_time": "2025-08-24T10:40:22.672Z"
      },
      {
        "duration": 72,
        "start_time": "2025-08-24T10:40:22.682Z"
      },
      {
        "duration": 20,
        "start_time": "2025-08-24T10:40:22.756Z"
      },
      {
        "duration": 7,
        "start_time": "2025-08-24T10:40:22.778Z"
      },
      {
        "duration": 16,
        "start_time": "2025-08-24T10:40:22.787Z"
      },
      {
        "duration": 50,
        "start_time": "2025-08-24T10:40:22.805Z"
      },
      {
        "duration": 101,
        "start_time": "2025-08-24T10:40:22.858Z"
      },
      {
        "duration": 163,
        "start_time": "2025-08-24T10:40:22.961Z"
      },
      {
        "duration": 27,
        "start_time": "2025-08-24T10:40:23.126Z"
      },
      {
        "duration": 25,
        "start_time": "2025-08-24T10:40:23.155Z"
      },
      {
        "duration": 8,
        "start_time": "2025-08-24T10:40:23.182Z"
      },
      {
        "duration": 29,
        "start_time": "2025-08-24T10:41:15.489Z"
      },
      {
        "duration": 964,
        "start_time": "2025-08-24T10:42:55.167Z"
      },
      {
        "duration": 970,
        "start_time": "2025-08-24T10:51:55.585Z"
      },
      {
        "duration": 46,
        "start_time": "2025-08-24T10:51:56.558Z"
      },
      {
        "duration": 16,
        "start_time": "2025-08-24T10:51:56.606Z"
      },
      {
        "duration": 47,
        "start_time": "2025-08-24T10:51:56.624Z"
      },
      {
        "duration": 4,
        "start_time": "2025-08-24T10:51:56.672Z"
      },
      {
        "duration": 19,
        "start_time": "2025-08-24T10:51:56.678Z"
      },
      {
        "duration": 15,
        "start_time": "2025-08-24T10:51:56.699Z"
      },
      {
        "duration": 12,
        "start_time": "2025-08-24T10:51:56.716Z"
      },
      {
        "duration": 9,
        "start_time": "2025-08-24T10:51:56.730Z"
      },
      {
        "duration": 1598,
        "start_time": "2025-08-24T10:51:56.742Z"
      },
      {
        "duration": 24,
        "start_time": "2025-08-24T10:51:58.342Z"
      },
      {
        "duration": 44,
        "start_time": "2025-08-24T10:51:58.368Z"
      },
      {
        "duration": 139,
        "start_time": "2025-08-24T10:51:58.414Z"
      },
      {
        "duration": 248,
        "start_time": "2025-08-24T10:51:58.555Z"
      },
      {
        "duration": 457,
        "start_time": "2025-08-24T10:51:58.805Z"
      },
      {
        "duration": 374,
        "start_time": "2025-08-24T10:51:59.263Z"
      },
      {
        "duration": 10,
        "start_time": "2025-08-24T10:51:59.639Z"
      },
      {
        "duration": 55,
        "start_time": "2025-08-24T10:51:59.651Z"
      },
      {
        "duration": 42,
        "start_time": "2025-08-24T10:51:59.708Z"
      },
      {
        "duration": 7,
        "start_time": "2025-08-24T10:51:59.752Z"
      },
      {
        "duration": 53,
        "start_time": "2025-08-24T10:51:59.761Z"
      },
      {
        "duration": 25,
        "start_time": "2025-08-24T10:51:59.816Z"
      },
      {
        "duration": 88,
        "start_time": "2025-08-24T10:51:59.843Z"
      },
      {
        "duration": 171,
        "start_time": "2025-08-24T10:51:59.933Z"
      },
      {
        "duration": 57,
        "start_time": "2025-08-24T10:52:00.106Z"
      },
      {
        "duration": 155,
        "start_time": "2025-08-24T10:52:00.165Z"
      },
      {
        "duration": 759,
        "start_time": "2025-08-24T10:52:00.322Z"
      },
      {
        "duration": 9,
        "start_time": "2025-08-24T10:52:01.084Z"
      },
      {
        "duration": 1276,
        "start_time": "2025-08-24T10:57:47.328Z"
      },
      {
        "duration": 28,
        "start_time": "2025-08-24T10:57:48.606Z"
      },
      {
        "duration": 45,
        "start_time": "2025-08-24T10:57:48.635Z"
      },
      {
        "duration": 12,
        "start_time": "2025-08-24T10:57:48.682Z"
      },
      {
        "duration": 5,
        "start_time": "2025-08-24T10:57:48.696Z"
      },
      {
        "duration": 15,
        "start_time": "2025-08-24T10:57:48.703Z"
      },
      {
        "duration": 20,
        "start_time": "2025-08-24T10:57:48.720Z"
      },
      {
        "duration": 16,
        "start_time": "2025-08-24T10:57:48.742Z"
      },
      {
        "duration": 5,
        "start_time": "2025-08-24T10:57:48.760Z"
      },
      {
        "duration": 1581,
        "start_time": "2025-08-24T10:57:48.768Z"
      },
      {
        "duration": 20,
        "start_time": "2025-08-24T10:57:50.351Z"
      },
      {
        "duration": 58,
        "start_time": "2025-08-24T10:57:50.372Z"
      },
      {
        "duration": 132,
        "start_time": "2025-08-24T10:57:50.432Z"
      },
      {
        "duration": 250,
        "start_time": "2025-08-24T10:57:50.566Z"
      },
      {
        "duration": 478,
        "start_time": "2025-08-24T10:57:50.818Z"
      },
      {
        "duration": 399,
        "start_time": "2025-08-24T10:57:51.298Z"
      },
      {
        "duration": 8,
        "start_time": "2025-08-24T10:57:51.699Z"
      },
      {
        "duration": 70,
        "start_time": "2025-08-24T10:57:51.709Z"
      },
      {
        "duration": 85,
        "start_time": "2025-08-24T10:57:51.781Z"
      },
      {
        "duration": 15,
        "start_time": "2025-08-24T10:57:51.867Z"
      },
      {
        "duration": 25,
        "start_time": "2025-08-24T10:57:51.884Z"
      },
      {
        "duration": 56,
        "start_time": "2025-08-24T10:57:51.910Z"
      },
      {
        "duration": 164,
        "start_time": "2025-08-24T10:57:51.968Z"
      },
      {
        "duration": 170,
        "start_time": "2025-08-24T10:57:52.134Z"
      },
      {
        "duration": 14,
        "start_time": "2025-08-24T10:57:52.306Z"
      },
      {
        "duration": 51,
        "start_time": "2025-08-24T10:57:52.322Z"
      },
      {
        "duration": 413,
        "start_time": "2025-08-24T10:57:52.375Z"
      },
      {
        "duration": 7,
        "start_time": "2025-08-24T10:57:52.791Z"
      },
      {
        "duration": 14,
        "start_time": "2025-08-24T10:59:15.470Z"
      },
      {
        "duration": 1310,
        "start_time": "2025-08-24T10:59:24.875Z"
      },
      {
        "duration": 36,
        "start_time": "2025-08-24T10:59:26.188Z"
      },
      {
        "duration": 14,
        "start_time": "2025-08-24T10:59:26.226Z"
      },
      {
        "duration": 37,
        "start_time": "2025-08-24T10:59:26.243Z"
      },
      {
        "duration": 9,
        "start_time": "2025-08-24T10:59:26.282Z"
      },
      {
        "duration": 10,
        "start_time": "2025-08-24T10:59:26.293Z"
      },
      {
        "duration": 9,
        "start_time": "2025-08-24T10:59:26.305Z"
      },
      {
        "duration": 12,
        "start_time": "2025-08-24T10:59:26.316Z"
      },
      {
        "duration": 8,
        "start_time": "2025-08-24T10:59:26.330Z"
      },
      {
        "duration": 1593,
        "start_time": "2025-08-24T10:59:26.349Z"
      },
      {
        "duration": 30,
        "start_time": "2025-08-24T10:59:27.944Z"
      },
      {
        "duration": 18,
        "start_time": "2025-08-24T10:59:27.976Z"
      },
      {
        "duration": 171,
        "start_time": "2025-08-24T10:59:27.995Z"
      },
      {
        "duration": 254,
        "start_time": "2025-08-24T10:59:28.168Z"
      },
      {
        "duration": 441,
        "start_time": "2025-08-24T10:59:28.424Z"
      },
      {
        "duration": 373,
        "start_time": "2025-08-24T10:59:28.866Z"
      },
      {
        "duration": 13,
        "start_time": "2025-08-24T10:59:29.241Z"
      },
      {
        "duration": 48,
        "start_time": "2025-08-24T10:59:29.256Z"
      },
      {
        "duration": 44,
        "start_time": "2025-08-24T10:59:29.306Z"
      },
      {
        "duration": 7,
        "start_time": "2025-08-24T10:59:29.352Z"
      },
      {
        "duration": 9,
        "start_time": "2025-08-24T10:59:29.360Z"
      },
      {
        "duration": 104,
        "start_time": "2025-08-24T10:59:29.371Z"
      },
      {
        "duration": 89,
        "start_time": "2025-08-24T10:59:29.477Z"
      },
      {
        "duration": 160,
        "start_time": "2025-08-24T10:59:29.568Z"
      },
      {
        "duration": 24,
        "start_time": "2025-08-24T10:59:29.730Z"
      },
      {
        "duration": 127,
        "start_time": "2025-08-24T10:59:29.756Z"
      },
      {
        "duration": 391,
        "start_time": "2025-08-24T10:59:29.885Z"
      },
      {
        "duration": 7,
        "start_time": "2025-08-24T10:59:30.280Z"
      }
    ],
    "colab": {
      "provenance": [],
      "toc_visible": true
    },
    "toc": {
      "base_numbering": 1,
      "nav_menu": {},
      "number_sections": true,
      "sideBar": true,
      "skip_h1_title": true,
      "title_cell": "Table of Contents",
      "title_sidebar": "Contents",
      "toc_cell": false,
      "toc_position": {},
      "toc_section_display": true,
      "toc_window_display": false
    }
  },
  "nbformat_minor": 5,
  "nbformat": 4,
  "cells": [
    {
      "id": "_E41Wr5fqnFT",
      "cell_type": "markdown",
      "source": "# Часть 1. Проверка гипотезы в Python и составление аналитической записки",
      "metadata": {
        "id": "_E41Wr5fqnFT"
      }
    },
    {
      "id": "Z5_6nf-FrY7o",
      "cell_type": "markdown",
      "source": "Вы предобработали данные в SQL, и теперь они готовы для проверки гипотезы в Python. Загрузите данные пользователей из Москвы и Санкт-Петербурга c суммой часов их активности из файла yandex_knigi_data.csv. Если работаете локально, скачать файл можно по ссылке.\n\nПроверьте наличие дубликатов в идентификаторах пользователей. Сравните размеры групп, их статистики и распределение.\n\nНапомним, как выглядит гипотеза: пользователи из Санкт-Петербурга проводят в среднем больше времени за чтением и прослушиванием книг в приложении, чем пользователи из Москвы. Попробуйте статистически это доказать, используя одностороннюю проверку гипотезы с двумя выборками:\n\nНулевая гипотеза $H_0: \\mu_{\\text{СПб}} \\leq \\mu_{\\text{Москва}}$ <br> Среднее время активности пользователей в Санкт-Петербурге не больше, чем в Москве.\n\nАльтернативная гипотеза $H_1: \\mu_{\\text{СПб}} > \\mu_{\\text{Москва}}$ <br> Среднее время активности пользователей в Санкт-Петербурге больше, и это различие статистически значимо.\n\nПо результатам анализа данных подготовьте аналитическую записку, в которой опишите:\n\nВыбранный тип t-теста и уровень статистической значимости.\n\nРезультат теста, или p-value.\n\nВывод на основе полученного p-value, то есть интерпретацию результатов.\n\nОдну или две возможные причины, объясняющие полученные результаты.",
      "metadata": {
        "id": "Z5_6nf-FrY7o"
      }
    },
    {
      "id": "e06910dd",
      "cell_type": "markdown",
      "source": "## Проверка гипотезы о времени активности пользователей в приложении\n\n- Автор:Дорошенко Евгений\n- Дата:22.08.2025",
      "metadata": {
        "id": "e06910dd"
      }
    },
    {
      "id": "4149134c",
      "cell_type": "markdown",
      "source": "## Цели и задачи проекта\n\nПроверка гипотез в Python и результаты А/Б-теста и анализ результатов A/B-тестирования.",
      "metadata": {
        "id": "4149134c"
      }
    },
    {
      "id": "728986ea",
      "cell_type": "markdown",
      "source": "## Описание данных\nДанные\nhttps://code.s3.yandex.net/datasets/ab_test_participants.csv — таблица участников тестов.\nСтруктура файла:\nuser_id — идентификатор пользователя;\ngroup — группа пользователя;\nab_test — название теста;\ndevice — устройство, с которого происходила регистрация.\nhttps://code.s3.yandex.net/datasets/ab_test_events.zip — архив с одним csv-файлом, в котором собраны события 2020 года;\nСтруктура файла:\nuser_id — идентификатор пользователя;\nevent_dt — дата и время события;\nevent_name — тип события;\ndetails — дополнительные данные о событии.",
      "metadata": {
        "id": "728986ea"
      }
    },
    {
      "id": "4fecaf95",
      "cell_type": "markdown",
      "source": "## Содержимое проекта\n\nВведение\n- Цели и задачи проекта\n- Описание данных и источников\n\nЗагрузка и подготовка данных\n- Загрузка данных из CSV-файлов\n- Проверка наличия дубликатов и их устранение\n- Объединение и предварительный анализ данных\n\nАнализ гипотезы о времени активности пользователей\n- Формулировка гипотезы\n- Выбор статистического теста (t-тест)\n- Проверка условий применения теста\n- Проведение теста и интерпретация результатов\n- Обсуждение возможных причин полученных результатов\n\nАнализ результатов A/B-теста\n- Загрузка данных о тестировании\n- Проверка корректности проведения теста\n- Анализ конверсии и статистическая проверка гипотезы\n- Вывод результатов A/B-тестирования\n\n",
      "metadata": {
        "id": "4fecaf95"
      }
    },
    {
      "id": "6f7d21d6",
      "cell_type": "markdown",
      "source": "## 1. Загрузка данных и знакомство с ними\n\nЗагрузите данные пользователей из Москвы и Санкт-Петербурга c их активностью (суммой часов чтения и прослушивания) из файла `/datasets/yandex_knigi_data.csv`.",
      "metadata": {
        "id": "6f7d21d6"
      }
    },
    {
      "id": "05faf34b",
      "cell_type": "code",
      "source": "# Загрузим данные\nimport pandas as pd\nfrom scipy import stats\nimport scipy.stats as st\nfrom statsmodels.stats.proportion import proportions_ztest\nimport numpy as np\nimport math\nfrom scipy.stats import norm\nimport matplotlib.pyplot as plt\nimport seaborn as sns\n\n\n",
      "metadata": {
        "id": "05faf34b"
      },
      "outputs": [],
      "execution_count": 1
    },
    {
      "id": "013caf6d",
      "cell_type": "code",
      "source": "df = pd.read_csv('/datasets/yandex_knigi_data.csv')",
      "metadata": {},
      "outputs": [],
      "execution_count": 2
    },
    {
      "id": "ce87c1db",
      "cell_type": "code",
      "source": "# Просмотр первых строк\ndisplay(df.head())",
      "metadata": {
        "id": "ce87c1db"
      },
      "outputs": [
        {
          "data": {
            "text/html": [
              "<div>\n",
              "<style scoped>\n",
              "    .dataframe tbody tr th:only-of-type {\n",
              "        vertical-align: middle;\n",
              "    }\n",
              "\n",
              "    .dataframe tbody tr th {\n",
              "        vertical-align: top;\n",
              "    }\n",
              "\n",
              "    .dataframe thead th {\n",
              "        text-align: right;\n",
              "    }\n",
              "</style>\n",
              "<table border=\"1\" class=\"dataframe\">\n",
              "  <thead>\n",
              "    <tr style=\"text-align: right;\">\n",
              "      <th></th>\n",
              "      <th>Unnamed: 0</th>\n",
              "      <th>city</th>\n",
              "      <th>puid</th>\n",
              "      <th>hours</th>\n",
              "    </tr>\n",
              "  </thead>\n",
              "  <tbody>\n",
              "    <tr>\n",
              "      <th>0</th>\n",
              "      <td>0</td>\n",
              "      <td>Москва</td>\n",
              "      <td>9668</td>\n",
              "      <td>26.167776</td>\n",
              "    </tr>\n",
              "    <tr>\n",
              "      <th>1</th>\n",
              "      <td>1</td>\n",
              "      <td>Москва</td>\n",
              "      <td>16598</td>\n",
              "      <td>82.111217</td>\n",
              "    </tr>\n",
              "    <tr>\n",
              "      <th>2</th>\n",
              "      <td>2</td>\n",
              "      <td>Москва</td>\n",
              "      <td>80401</td>\n",
              "      <td>4.656906</td>\n",
              "    </tr>\n",
              "    <tr>\n",
              "      <th>3</th>\n",
              "      <td>3</td>\n",
              "      <td>Москва</td>\n",
              "      <td>140205</td>\n",
              "      <td>1.840556</td>\n",
              "    </tr>\n",
              "    <tr>\n",
              "      <th>4</th>\n",
              "      <td>4</td>\n",
              "      <td>Москва</td>\n",
              "      <td>248755</td>\n",
              "      <td>151.326434</td>\n",
              "    </tr>\n",
              "  </tbody>\n",
              "</table>\n",
              "</div>"
            ],
            "text/plain": [
              "   Unnamed: 0    city    puid       hours\n",
              "0           0  Москва    9668   26.167776\n",
              "1           1  Москва   16598   82.111217\n",
              "2           2  Москва   80401    4.656906\n",
              "3           3  Москва  140205    1.840556\n",
              "4           4  Москва  248755  151.326434"
            ]
          },
          "metadata": {},
          "output_type": "display_data"
        }
      ],
      "execution_count": 3
    },
    {
      "id": "f68a7419",
      "cell_type": "code",
      "source": "# Общая информация о данных\nprint(df.info())",
      "metadata": {
        "id": "f68a7419"
      },
      "outputs": [
        {
          "name": "stdout",
          "output_type": "stream",
          "text": "<class 'pandas.core.frame.DataFrame'>\n,RangeIndex: 8784 entries, 0 to 8783\n,Data columns (total 4 columns):\n, #   Column      Non-Null Count  Dtype  \n,---  ------      --------------  -----  \n, 0   Unnamed: 0  8784 non-null   int64  \n, 1   city        8784 non-null   object \n, 2   puid        8784 non-null   int64  \n, 3   hours       8784 non-null   float64\n,dtypes: float64(1), int64(2), object(1)\n,memory usage: 274.6+ KB\n,None\n"
        }
      ],
      "execution_count": 4
    },
    {
      "id": "6cc0b891",
      "cell_type": "code",
      "source": "# 2. Проверка на дубликаты\nduplicates = df['puid'].duplicated().sum()\nprint(f'Количество дубликатов puid: {duplicates}')",
      "metadata": {
        "scrolled": true
      },
      "outputs": [
        {
          "name": "stdout",
          "output_type": "stream",
          "text": "Количество дубликатов puid: 244\n"
        }
      ],
      "execution_count": 5
    },
    {
      "id": "2d2c31f3",
      "cell_type": "markdown",
      "source": " В некоторых случаях дубликаты могут быть допустимы.  Например, один и тот же пользователь мог совершить несколько действий, которые случайно зарегистрировались как разные записи с одинаковым puid.Поэтому дубли удалять не будем а проведем агрегацию",
      "metadata": {}
    },
    {
      "id": "da1156ff",
      "cell_type": "code",
      "source": "# Группируем по 'puid', вычисляем среднее значение 'hours' и берем первое значение 'city'\ndf = df.groupby('puid').agg({'hours': 'mean', 'city': 'first'}).reset_index()\n\n",
      "metadata": {},
      "outputs": [],
      "execution_count": 6
    },
    {
      "id": "7bece7ab",
      "cell_type": "code",
      "source": "# 3. Разделение данных по городам\nmoscow = df[df['city'] == 'Москва']['hours']\nspb = df[df['city'] == 'Санкт-Петербург']['hours']",
      "metadata": {},
      "outputs": [],
      "execution_count": 7
    },
    {
      "id": "c469c533",
      "cell_type": "code",
      "source": "# 4. Сравнение размеров групп и статистик\nprint(f'Медиана времени в Москве: {moscow.median()}')\nprint(f'Медиана времени в Санкт-Петербурге: {spb.median()}')\nprint(f'Минимальное время в Москве: {moscow.min()}')\nprint(f'Минимальное время в Санкт-Петербурге: {spb.min()}')\nprint(f'Максимальное время в Москве: {moscow.max()}')\nprint(f'Максимальное время в Санкт-Петербурге: {spb.max()}')\nprint(f'Q1 (25-й перцентиль) в Москве: {moscow.quantile(0.25)}')\nprint(f'Q1 (25-й перцентиль) в Санкт-Петербурге: {spb.quantile(0.25)}')\nprint(f'Q3 (75-й перцентиль) в Москве: {moscow.quantile(0.75)}')\nprint(f'Q3 (75-й перцентиль) в Санкт-Петербурге: {spb.quantile(0.75)}')\n",
      "metadata": {},
      "outputs": [
        {
          "name": "stdout",
          "output_type": "stream",
          "text": "Медиана времени в Москве: 0.9790666666666668\n,Медиана времени в Санкт-Петербурге: 0.8753550505050504\n,Минимальное время в Москве: 2.19444444444e-05\n,Минимальное время в Санкт-Петербурге: 2.52777777777e-05\n,Максимальное время в Москве: 857.2093727777777\n,Максимальное время в Санкт-Петербурге: 978.7647747474748\n,Q1 (25-й перцентиль) в Москве: 0.06330151515151507\n,Q1 (25-й перцентиль) в Санкт-Петербурге: 0.060173194444444425\n,Q3 (75-й перцентиль) в Москве: 6.139026805555556\n,Q3 (75-й перцентиль) в Санкт-Петербурге: 6.1384235416666675\n"
        }
      ],
      "execution_count": 8
    },
    {
      "id": "4a322d90",
      "cell_type": "markdown",
      "source": "Медианное время в Москве: 0.98 часа\nМедианное время в Санкт-Петербурге: 0.88 часа\n\nРазница в медианных значениях (0.10 часа) говорит о том, что пользователи из Москвы в среднем проводят больше времени в приложении, чем пользователи из Санкт-Петербурга.\n\nQ1 и Q3 также близки друг к другу, что может свидетельствовать о схожести распределения времени пользователей в обоих городах, несмотря на различия в медианах.",
      "metadata": {}
    },
    {
      "id": "956e82e2",
      "cell_type": "markdown",
      "source": "## 2. Проверка гипотезы в Python\n\nГипотеза звучит так: пользователи из Санкт-Петербурга проводят в среднем больше времени за чтением и прослушиванием книг в приложении, чем пользователи из Москвы. Попробуйте статистически это доказать, используя одностороннюю проверку гипотезы с двумя выборками:\n\n- Нулевая гипотеза H₀: Средняя активность пользователей в часах в двух группах (Москва и Санкт-Петербург) не различается.\n\n- Альтернативная гипотеза H₁: Средняя активность пользователей в Санкт-Петербурге больше, и это различие статистически значимо.",
      "metadata": {
        "id": "956e82e2"
      }
    },
    {
      "id": "67956690",
      "cell_type": "code",
      "source": "# 5. T-тест (односторонний)\nalpha = 0.05 # Уровень значимости\nresults = stats.ttest_ind(spb, moscow, alternative='greater', equal_var=False) # equal_var=False т.к. дисперсии отличаются\n\nprint(f'p-value: {results.pvalue}')\n\nif results.pvalue < alpha:\n    print(\"Отвергаем нулевую гипотезу\")\nelse:\n    print(\"Не получилось отвергнуть нулевую гипотезу\")",
      "metadata": {
        "id": "67956690"
      },
      "outputs": [
        {
          "name": "stdout",
          "output_type": "stream",
          "text": "p-value: 0.3663231235311074\n,Не получилось отвергнуть нулевую гипотезу\n"
        }
      ],
      "execution_count": 9
    },
    {
      "id": "6953e84c",
      "cell_type": "markdown",
      "source": "## 3. Аналитическая записка\nПо результатам анализа данных подготовьте аналитическую записку, в которой опишете:\n\n- Выбранный тип t-теста и уровень статистической значимости.\n\n- Результат теста, или p-value.\n\n- Вывод на основе полученного p-value, то есть интерпретацию результатов.\n\n- Одну или две возможные причины, объясняющие полученные результаты.\n\n",
      "metadata": {
        "id": "6953e84c"
      }
    },
    {
      "id": "e15fb272",
      "cell_type": "markdown",
      "source": "Тема: Сравнение времени использования приложения в Москве и Санкт-Петербурге\n\n\n3. Методология\n\n\nДля сравнения времени использования приложения между двумя городами был использован односторонний t-тест для независимых выборок. T-тест позволяет определить, существует ли статистически значимая разница между средними значениями двух групп. Было принято решение использовать t-тест с equal_var=False, так как дисперсии времени использования приложения в Москве и Санкт-Петербурге значительно различаются. Альтернативная гипотеза: пользователи из Санкт-Петербурга проводят больше времени в приложении, чем пользователи из Москвы. Уровень значимости (alpha) был установлен на 0.05.\n\n\n4. Результаты\n\n\nРезультаты t-теста:\n\n\np-value: 0.366\n\n5. Выводы и интерпретация\n\n\nПоскольку p-value (0.366) больше установленного уровня значимости (0.05), мы не можем отвергнуть нулевую гипотезу. Это означает, что на основании проведенного анализа, у нас нет статистически значимых доказательств того, что пользователи из Санкт-Петербурга проводят больше времени в приложении, чем пользователи из Москвы.",
      "metadata": {}
    },
    {
      "id": "hc1d6jVISegz",
      "cell_type": "markdown",
      "source": "----",
      "metadata": {
        "id": "hc1d6jVISegz"
      }
    },
    {
      "id": "NqOUIYhbrIfC",
      "cell_type": "markdown",
      "source": "# Часть 2. Анализ результатов A/B-тестирования",
      "metadata": {
        "id": "NqOUIYhbrIfC"
      }
    },
    {
      "id": "tDwMKFNGsClr",
      "cell_type": "markdown",
      "source": "Теперь вам нужно проанализировать другие данные. Представьте, что к вам обратились представители интернет-магазина BitMotion Kit, в котором продаются геймифицированные товары для тех, кто ведёт здоровый образ жизни. У него есть своя целевая аудитория, даже появились хиты продаж: эспандер со счётчиком и напоминанием, так и подстольный велотренажёр с Bluetooth.\n\nВ будущем компания хочет расширить ассортимент товаров. Но перед этим нужно решить одну проблему. Интерфейс онлайн-магазина слишком сложен для пользователей — об этом говорят отзывы.\n\nЧтобы привлечь новых клиентов и увеличить число продаж, владельцы магазина разработали новую версию сайта и протестировали его на части пользователей. По задумке, это решение доказуемо повысит количество пользователей, которые совершат покупку.\n\nВаша задача — провести оценку результатов A/B-теста. В вашем распоряжении:\n\n* данные о действиях пользователей и распределении их на группы,\n\n* техническое задание.\n\nОцените корректность проведения теста и проанализируйте его результаты.",
      "metadata": {
        "id": "tDwMKFNGsClr"
      }
    },
    {
      "id": "UNXAAyF5r9Rk",
      "cell_type": "markdown",
      "source": "## 1. Опишите цели исследования.\n\n",
      "metadata": {
        "id": "UNXAAyF5r9Rk"
      }
    },
    {
      "id": "kHx-51yES8bd",
      "cell_type": "markdown",
      "source": "Главная цель:\n\n- Оценить влияние новой версии сайта на конверсию пользователей в покупку.\n\nВспомогательные цели:\n\n- Оценить влияние новой версии сайта на средний чек покупки.\n- Оценить влияние новой версии сайта на время, проведенное пользователями на сайте.\n- Выявить, какие элементы новой версии сайта оказывают наибольшее влияние на поведение пользователей.",
      "metadata": {
        "id": "kHx-51yES8bd"
      }
    },
    {
      "id": "_CZryx2OsH-s",
      "cell_type": "markdown",
      "source": "## 2. Загрузите данные, оцените их целостность.\n",
      "metadata": {
        "id": "_CZryx2OsH-s"
      }
    },
    {
      "id": "DjFcJbeGsTIg",
      "cell_type": "code",
      "source": "participants = pd.read_csv('https://code.s3.yandex.net/datasets/ab_test_participants.csv')\nevents = pd.read_csv('https://code.s3.yandex.net/datasets/ab_test_events.zip',\n                     parse_dates=['event_dt'], low_memory=False)",
      "metadata": {
        "id": "DjFcJbeGsTIg"
      },
      "outputs": [],
      "execution_count": 10
    },
    {
      "id": "b9d0ba23",
      "cell_type": "code",
      "source": "# Изучение participants\nprint(\"Participants info:\")\nprint(participants.head())\nprint(participants.info())\nprint(participants.isna().sum()) #проверка на пропуски",
      "metadata": {},
      "outputs": [
        {
          "name": "stdout",
          "output_type": "stream",
          "text": "Participants info:\n,            user_id group                  ab_test   device\n,0  0002CE61FF2C4011     B        interface_eu_test      Mac\n,1  001064FEAAB631A1     B  recommender_system_test  Android\n,2  001064FEAAB631A1     A        interface_eu_test  Android\n,3  0010A1C096941592     A  recommender_system_test  Android\n,4  001E72F50D1C48FA     A        interface_eu_test      Mac\n,<class 'pandas.core.frame.DataFrame'>\n,RangeIndex: 14525 entries, 0 to 14524\n,Data columns (total 4 columns):\n, #   Column   Non-Null Count  Dtype \n,---  ------   --------------  ----- \n, 0   user_id  14525 non-null  object\n, 1   group    14525 non-null  object\n, 2   ab_test  14525 non-null  object\n, 3   device   14525 non-null  object\n,dtypes: object(4)\n,memory usage: 454.0+ KB\n,None\n,user_id    0\n,group      0\n,ab_test    0\n,device     0\n,dtype: int64\n"
        }
      ],
      "execution_count": 11
    },
    {
      "id": "86464277",
      "cell_type": "code",
      "source": "# Проверка дубликатов в participants\nprint(\"Дубликаты в participants:\")\nprint(f\"Количество полных дубликатов: {participants.duplicated().sum()}\")\nprint(f\"Количество дубликатов по user_id: {participants['user_id'].duplicated().sum()}\")",
      "metadata": {},
      "outputs": [
        {
          "name": "stdout",
          "output_type": "stream",
          "text": "Дубликаты в participants:\n,Количество полных дубликатов: 0\n,Количество дубликатов по user_id: 887\n"
        }
      ],
      "execution_count": 12
    },
    {
      "id": "2c200819",
      "cell_type": "code",
      "source": "# Проведем агрегацию по user_id\naggregated_data = participants.groupby('user_id').agg({\n    'ab_test': lambda x: ', '.join(sorted(set(x))),  # Все тесты\n    'group': 'first',  # Первая группа\n    'device': 'first'  # Первое устройство\n}).reset_index()\n# Выводим результат\nprint(aggregated_data.head())",
      "metadata": {},
      "outputs": [
        {
          "name": "stdout",
          "output_type": "stream",
          "text": "            user_id                                     ab_test group   device\n,0  0002CE61FF2C4011                           interface_eu_test     B      Mac\n,1  001064FEAAB631A1  interface_eu_test, recommender_system_test     B  Android\n,2  0010A1C096941592                     recommender_system_test     A  Android\n,3  001E72F50D1C48FA                           interface_eu_test     A      Mac\n,4  002412F1EB3F6E38                           interface_eu_test     B      Mac\n"
        }
      ],
      "execution_count": 13
    },
    {
      "id": "fb20175a",
      "cell_type": "code",
      "source": "# Изучение events\nprint(\"\\nEvents info:\")\nprint(events.head())\nprint(events.info())\nprint(events.isna().sum()) #проверка на пропуски",
      "metadata": {},
      "outputs": [
        {
          "name": "stdout",
          "output_type": "stream",
          "text": "\n,Events info:\n,            user_id            event_dt                        event_name  \\\n,0            GLOBAL 2020-12-01 00:00:00  End of Black Friday Ads Campaign   \n,1  CCBE9E7E99F94A08 2020-12-01 00:00:11                      registration   \n,2            GLOBAL 2020-12-01 00:00:25                      product_page   \n,3  CCBE9E7E99F94A08 2020-12-01 00:00:33                             login   \n,4  CCBE9E7E99F94A08 2020-12-01 00:00:52                      product_page   \n,\n,       details  \n,0  ZONE_CODE15  \n,1          0.0  \n,2          NaN  \n,3          NaN  \n,4          NaN  \n,<class 'pandas.core.frame.DataFrame'>\n,RangeIndex: 787286 entries, 0 to 787285\n,Data columns (total 4 columns):\n, #   Column      Non-Null Count   Dtype         \n,---  ------      --------------   -----         \n, 0   user_id     787286 non-null  object        \n, 1   event_dt    787286 non-null  datetime64[ns]\n, 2   event_name  787286 non-null  object        \n, 3   details     249022 non-null  object        \n,dtypes: datetime64[ns](1), object(3)\n,memory usage: 24.0+ MB\n,None\n,user_id            0\n,event_dt           0\n,event_name         0\n,details       538264\n,dtype: int64\n"
        }
      ],
      "execution_count": 14
    },
    {
      "id": "53cf9d52",
      "cell_type": "code",
      "source": "# Проверка дубликатов в events\nprint(\"\\nДубликаты в events:\")\nprint(f\"Количество полных дубликатов: {events.duplicated().sum()}\")\nprint(f\"Количество дубликатов по event_id: {events['event_dt'].duplicated().sum()}\")\nprint(f\"Количество дубликатов по user_id: {events['user_id'].duplicated().sum()}\")",
      "metadata": {},
      "outputs": [
        {
          "name": "stdout",
          "output_type": "stream",
          "text": "\n,Дубликаты в events:\n,Количество полных дубликатов: 36318\n,Количество дубликатов по event_id: 180713\n,Количество дубликатов по user_id: 643102\n"
        }
      ],
      "execution_count": 15
    },
    {
      "id": "48b4c742",
      "cell_type": "code",
      "source": "# Агрегация по пользователям \nuser_events_aggregated = events.groupby('user_id').agg({\n    'event_dt': 'count',  # количество событий\n    \n}).reset_index()\n",
      "metadata": {},
      "outputs": [],
      "execution_count": 16
    },
    {
      "id": "c18166ca",
      "cell_type": "code",
      "source": "print(participants.groupby('ab_test')['group'].value_counts())\n",
      "metadata": {},
      "outputs": [
        {
          "name": "stdout",
          "output_type": "stream",
          "text": "ab_test                  group\n,interface_eu_test        B        5467\n,                         A        5383\n,recommender_system_test  A        2747\n,                         B         928\n,Name: group, dtype: int64\n"
        }
      ],
      "execution_count": 17
    },
    {
      "id": "ea7b5f0f",
      "cell_type": "markdown",
      "source": "\ninterface_eu_test:\n\nГруппа A: 5383 участника\nГруппа B: 5467 участника\nРазница в количестве участников между группами небольшая, что говорит о хорошей сбалансированности.\nrecommender_system_test:\n\nrecommender_system_test:\n\nГруппа A: 2747 участников\nГруппа B: 928 участников\nЗдесь наблюдается существенный дисбаланс между группами. В группе A почти в три раза больше участников, чем в группе B. Это может повлиять на результаты A/B-теста, и необходимо будет учитывать этот фактор при анализе.",
      "metadata": {}
    },
    {
      "id": "e92be399",
      "cell_type": "code",
      "source": "print(events['event_name'].unique())\n",
      "metadata": {},
      "outputs": [
        {
          "name": "stdout",
          "output_type": "stream",
          "text": "['End of Black Friday Ads Campaign' 'registration' 'product_page' 'login'\n, 'product_cart' 'purchase' 'Start of Christmas&New Year Promo'\n, 'Start of CIS New Year Gift Lottery']\n"
        }
      ],
      "execution_count": 18
    },
    {
      "id": "92094a58",
      "cell_type": "markdown",
      "source": "Воронка продаж: Мы видим основные этапы воронки продаж: просмотр страницы продукта (product_page), добавление в корзину (product_cart), покупка (purchase). Также есть регистрация (registration) и вход в систему (login).\n\nРекламные кампании:  Есть события, связанные с началом и окончанием рекламных кампаний (End of Black Friday Ads Campaign, Start of Christmas&New Year Promo, Start of CIS New Year Gift Lottery).  Эти события, скорее всего, не связаны с действиями конкретных пользователей, участвующих в A/B-тестах, но могут влиять на их поведение (например, повышенный трафик на сайт во время акций).\n\nГлобальные события: Скорее всего события, связанные с рекламными кампаниями, будут помечены в user_id как \"GLOBAL\".",
      "metadata": {}
    },
    {
      "id": "CnzA-efasUrk",
      "cell_type": "markdown",
      "source": "## 3. По таблице `ab_test_participants` оцените корректность проведения теста:\n\n   3\\.1 Выделите пользователей, участвующих в тесте, и проверьте:\n\n   - соответствие требованиям технического задания,\n\n   - равномерность распределения пользователей по группам теста,\n\n   - отсутствие пересечений с конкурирующим тестом (нет пользователей, участвующих одновременно в двух тестовых группах).",
      "metadata": {
        "id": "CnzA-efasUrk"
      }
    },
    {
      "id": "aNa3zHrKslEN",
      "cell_type": "code",
      "source": "# Разделение данных на группы\ninterface_a = participants[(participants['ab_test'] == 'interface_eu_test') & (participants['group'] == 'A')]['user_id'].unique()\ninterface_b = participants[(participants['ab_test'] == 'interface_eu_test') & (participants['group'] == 'B')]['user_id'].unique()\n\n# Проверка на пересечение в interface_eu_test\nintersection_interface = set(interface_a) & set(interface_b)\nprint(f\"Количество пользователей, попавших в обе группы interface_eu_test: {len(intersection_interface)}\")\n\n# 2. Анализ временного интервала\nprint(f\"Минимальная дата в events: {events['event_dt'].min()}\")\nprint(f\"Максимальная дата в events: {events['event_dt'].max()}\")",
      "metadata": {
        "id": "aNa3zHrKslEN"
      },
      "outputs": [
        {
          "name": "stdout",
          "output_type": "stream",
          "text": "Количество пользователей, попавших в обе группы interface_eu_test: 0\n,Минимальная дата в events: 2020-12-01 00:00:00\n,Максимальная дата в events: 2020-12-31 23:59:48\n"
        }
      ],
      "execution_count": 19
    },
    {
      "id": "8ab6099f",
      "cell_type": "code",
      "source": "# 1. Соответствие требованиям технического задания\ntarget_test = 'interface_eu_test'\nparticipants_target_test = participants[participants['ab_test'] == target_test]\nprint(f\"Количество пользователей в тесте {target_test}: {len(participants_target_test)}\")",
      "metadata": {},
      "outputs": [
        {
          "name": "stdout",
          "output_type": "stream",
          "text": "Количество пользователей в тесте interface_eu_test: 10850\n"
        }
      ],
      "execution_count": 20
    },
    {
      "id": "1af936bf",
      "cell_type": "code",
      "source": "# 2. Равномерность распределения пользователей по группам теста\ngroup_distribution = participants_target_test['group'].value_counts(normalize=True) * 100\nprint(\"\\nРавномерность распределения по группам:\")\nprint(group_distribution)",
      "metadata": {},
      "outputs": [
        {
          "name": "stdout",
          "output_type": "stream",
          "text": "\n,Равномерность распределения по группам:\n,B    50.387097\n,A    49.612903\n,Name: group, dtype: float64\n"
        }
      ],
      "execution_count": 21
    },
    {
      "id": "1e9df6bd",
      "cell_type": "code",
      "source": "# 3. Отсутствие пересечений с конкурирующим тестом\n# Выявляем пользователей, участвующих в нескольких тестах\nuser_test_counts = participants.groupby('user_id')['ab_test'].nunique()\nmultiple_test_users = user_test_counts[user_test_counts > 1].index\n\nif len(multiple_test_users) > 0:\n    print(\"\\nПользователи, участвующие в нескольких тестах:\")\n    print(participants[participants['user_id'].isin(multiple_test_users)])\nelse:\n    print(\"\\nНет пользователей, участвующих в нескольких тестах.\")",
      "metadata": {},
      "outputs": [
        {
          "name": "stdout",
          "output_type": "stream",
          "text": "\n,Пользователи, участвующие в нескольких тестах:\n,                user_id group                  ab_test   device\n,1      001064FEAAB631A1     B  recommender_system_test  Android\n,2      001064FEAAB631A1     A        interface_eu_test  Android\n,9      00341D8401F0F665     A  recommender_system_test   iPhone\n,10     00341D8401F0F665     B        interface_eu_test   iPhone\n,25     0082295A41A867B5     A        interface_eu_test   iPhone\n,...                 ...   ...                      ...      ...\n,14490  FF2174A1AA0EAD20     A  recommender_system_test  Android\n,14495  FF44696E39039D29     B        interface_eu_test      Mac\n,14496  FF44696E39039D29     A  recommender_system_test      Mac\n,14522  FFF28D02B1EACBE1     B  recommender_system_test       PC\n,14523  FFF28D02B1EACBE1     B        interface_eu_test       PC\n,\n,[1774 rows x 4 columns]\n"
        }
      ],
      "execution_count": 22
    },
    {
      "id": "GjulgSrlsqUU",
      "cell_type": "markdown",
      "source": "3\\.2 Проанализируйте данные о пользовательской активности по таблице `ab_test_events`:\n\n- оставьте только события, связанные с участвующими в изучаемом тесте пользователями;",
      "metadata": {
        "id": "GjulgSrlsqUU"
      }
    },
    {
      "id": "QMt0Ybo_swDK",
      "cell_type": "code",
      "source": "# 1. Определяем целевой тест \ntarget_test = 'interface_eu_test'\n\n# 2. Выделяем пользователей, участвующих в целевом тесте\nparticipants_target_test = participants[participants['ab_test'] == target_test]\ntarget_users = participants_target_test['user_id'].unique()\n\n# 3. Фильтруем события, оставляя только события пользователей из целевого теста\nevents_target_test = events[events['user_id'].isin(target_users)]\n\n# 4. Выводим информацию о полученном датасете\nprint(f\"Исходное количество событий: {len(events)}\")\nprint(f\"Количество событий после фильтрации (только для пользователей из {target_test}): {len(events_target_test)}\")\n",
      "metadata": {
        "id": "QMt0Ybo_swDK"
      },
      "outputs": [
        {
          "name": "stdout",
          "output_type": "stream",
          "text": "Исходное количество событий: 787286\n,Количество событий после фильтрации (только для пользователей из interface_eu_test): 79715\n"
        }
      ],
      "execution_count": 23
    },
    {
      "id": "772fc6ce",
      "cell_type": "markdown",
      "source": "Результат показывает, что после фильтрации у вас осталось 79715 событий из исходных 787286.  Это означает, что большая часть событий в исходном датасете была сгенерирована пользователями, не участвовавшими в данном A/B-тесте.",
      "metadata": {}
    },
    {
      "id": "fBZ4DC2xswZJ",
      "cell_type": "markdown",
      "source": "- определите горизонт анализа: рассчитайте время (лайфтайм) совершения события пользователем после регистрации и оставьте только те события, которые были выполнены в течение первых семи дней с момента регистрации;",
      "metadata": {
        "id": "fBZ4DC2xswZJ"
      }
    },
    {
      "id": "sES4-dKts0Yb",
      "cell_type": "code",
      "source": "# Фильтруем события, оставляя только события пользователей из целевого теста\nevents_target_test = events[events['user_id'].isin(target_users)].copy() # делаем копию DataFrame\n\n# Задаем дату регистрации\nregistration_date = pd.to_datetime('2020-12-01')\n\n# Присваиваем дату регистрации всем пользователям\nregistration_dates = pd.DataFrame({\n    'user_id': target_users,\n    'registration_dt': [registration_date] * len(target_users)\n})\n\n# 1. Объединяем данные о событиях с датами регистрации\nevents_target_test = pd.merge(events_target_test, registration_dates, on='user_id', how='left')\n\n# 2. Преобразуем registration_dt в datetime64[ns]\nevents_target_test['registration_dt'] = pd.to_datetime(events_target_test['registration_dt'])\n\n# 3. Рассчитываем время, прошедшее с момента регистрации до события\nevents_target_test['lifetime'] = (events_target_test['event_dt'] - events_target_test['registration_dt']).dt.days\n\n# 4. Фильтруем события, оставляя только те, которые произошли в течение 7 дней после регистрации\nevents_target_test = events_target_test[events_target_test['lifetime'] <= 7]\n\n# 5. Выводим информацию о результате\nprint(f\"Количество событий после фильтрации по 7-дневному лайфтайму: {len(events_target_test)}\")\n\n# Выводим первые несколько строк для проверки\nprint(\"\\nПервые 5 строк отфильтрованного датасета:\")\nprint(events_target_test.head())\n",
      "metadata": {
        "id": "sES4-dKts0Yb"
      },
      "outputs": [
        {
          "name": "stdout",
          "output_type": "stream",
          "text": "Количество событий после фильтрации по 7-дневному лайфтайму: 5637\n,\n,Первые 5 строк отфильтрованного датасета:\n,            user_id            event_dt    event_name details registration_dt  \\\n,0  5F506CEBEDC05D30 2020-12-06 14:10:01  registration     0.0      2020-12-01   \n,1  51278A006E918D97 2020-12-06 14:37:25  registration    -3.8      2020-12-01   \n,2  A0C1E8EFAD874D8B 2020-12-06 17:20:22  registration   -3.32      2020-12-01   \n,3  275A8D6254ACF530 2020-12-06 19:36:54  registration   -0.48      2020-12-01   \n,4  0B704EB2DC7FCA4B 2020-12-06 19:42:20  registration     0.0      2020-12-01   \n,\n,   lifetime  \n,0         5  \n,1         5  \n,2         5  \n,3         5  \n,4         5  \n"
        }
      ],
      "execution_count": 24
    },
    {
      "id": "7cf1df48",
      "cell_type": "markdown",
      "source": "Оцените достаточность выборки для получения статистически значимых результатов A/B-теста. Заданные параметры:\n\n- базовый показатель конверсии — 30%,\n\n- мощность теста — 80%,\n\n- достоверность теста — 95%.",
      "metadata": {}
    },
    {
      "id": "7d97b466",
      "cell_type": "code",
      "source": "\n# Заданные параметры\nbaseline_conversion = 0.3  # 30%\npower = 0.8  # 80%\nalpha = 0.05  # Уровень значимости\nmde = 0.03  # 3% (относительное изменение)\n\ndef calculate_sample_size_simplified(baseline_conversion, mde, power, alpha):\n  \n \n    # Z-критические значения для alpha и power\n    Z_alpha = norm.ppf(1 - alpha / 2)\n    Z_beta = norm.ppf(power)\n\n    # Расчет размера выборки \n    p1 = baseline_conversion\n    p2 = baseline_conversion * (1 + mde)  # Ожидаемая конверсия в группе B\n    pooled_variance = (p1 * (1 - p1) + p2 * (1 - p2)) / 2\n    effect_size = abs(p2 - p1)\n\n    sample_size = ((Z_alpha + Z_beta)**2 * 2 * pooled_variance) / (effect_size**2)\n\n    return int(np.ceil(sample_size))\n\n\n# Рассчитываем размер выборки\nsample_size_per_group = calculate_sample_size_simplified(baseline_conversion, mde, power, alpha)\n\nprint(f\"Необходимый размер выборки на группу (приблизительно): {sample_size_per_group}\")\n\n# Теперь проверим, соответствует ли размер наших групп этому требованию\ngroup_sizes = participants_target_test.groupby('group')['user_id'].nunique()\nprint(\"\\nРазмеры групп в нашем тесте:\")\nprint(group_sizes)\n\n# Сравним с минимальным размером выборки\ngroup_A_size = group_sizes['A']\ngroup_B_size = group_sizes['B']\n\nif group_A_size >= sample_size_per_group and group_B_size >= sample_size_per_group:\n  print(\"\\nРазмер выборки достаточен (приблизительно) для проведения A/B-теста с заданными параметрами.\")\nelse:\n  print(\"\\nРазмер выборки *недостаточен* (приблизительно) для проведения A/B-теста с заданными параметрами.\")\n  print(\"Рекомендуется увеличить размер выборки или снизить требования к мощности/достоверности/MDE.\")",
      "metadata": {},
      "outputs": [
        {
          "name": "stdout",
          "output_type": "stream",
          "text": "Необходимый размер выборки на группу (приблизительно): 41039\n,\n,Размеры групп в нашем тесте:\n,group\n,A    5383\n,B    5467\n,Name: user_id, dtype: int64\n,\n,Размер выборки *недостаточен* (приблизительно) для проведения A/B-теста с заданными параметрами.\n,Рекомендуется увеличить размер выборки или снизить требования к мощности/достоверности/MDE.\n"
        }
      ],
      "execution_count": 25
    },
    {
      "id": "SadyUDgZs0t3",
      "cell_type": "markdown",
      "source": "- рассчитайте для каждой группы количество посетителей, сделавших покупку, и общее количество посетителей.",
      "metadata": {
        "id": "SadyUDgZs0t3"
      }
    },
    {
      "id": "7ph853Xks4sy",
      "cell_type": "code",
      "source": "# Создаем копию participants_target_test, чтобы быть уверенными, что работаем с независимым DataFrame\nparticipants_target_test = participants[participants['ab_test'] == target_test].copy()\n\n# Определяем пользователей, совершивших покупку\npurchase_users = events_target_test[events_target_test['event_name'] == 'purchase']['user_id'].unique()\n\n# Добавляем столбец 'purchased' в participants_target_test\nparticipants_target_test.loc[:, 'purchased'] = participants_target_test['user_id'].isin(purchase_users)\n\n# Группируем по группе и считаем количество посетителей и количество сделавших покупку\nsummary_data = participants_target_test.groupby('group').agg(\n    total_visitors=('user_id', 'nunique'),  # общее количество посетителей\n    purchased_visitors=('purchased', lambda x: x.sum())  # количество посетителей, сделавших покупку\n).reset_index()\n\n# Добавляем расчет конверсии\nsummary_data['conversion_rate'] = (summary_data['purchased_visitors'] / summary_data['total_visitors']) * 100\n\n# Выводим результат\nprint(\"\\nРезультаты A/B-теста:\")\nprint(summary_data)\nprint(f\"\\nКонверсия группы A: {summary_data.loc[summary_data['group'] == 'A', 'conversion_rate'].values[0]:.2f}%\")\nprint(f\"Конверсия группы B: {summary_data.loc[summary_data['group'] == 'B', 'conversion_rate'].values[0]:.2f}%\")\n\n",
      "metadata": {
        "id": "7ph853Xks4sy"
      },
      "outputs": [
        {
          "name": "stdout",
          "output_type": "stream",
          "text": "\n,Результаты A/B-теста:\n,  group  total_visitors  purchased_visitors  conversion_rate\n,0     A            5383                  34         0.631618\n,1     B            5467                  31         0.567039\n,\n,Конверсия группы A: 0.63%\n,Конверсия группы B: 0.57%\n"
        }
      ],
      "execution_count": 26
    },
    {
      "id": "47fab5c4",
      "cell_type": "code",
      "source": "plt.figure(figsize=(10, 6))\n\n# График конверсии\nplt.subplot(1, 2, 1)\nsns.barplot(data=summary_data, x='group', y='conversion_rate')\nplt.title('Конверсия по группам')\nplt.ylabel('Конверсия (%)')\nplt.xlabel('Группа')\n\n# График количества пользователей\nplt.subplot(1, 2, 2)\nsns.barplot(data=summary_data, x='group', y='total_visitors')\nplt.title('Количество пользователей по группам')\nplt.ylabel('Количество пользователей')\nplt.xlabel('Группа')\n\nplt.tight_layout()\nplt.show()\n",
      "metadata": {},
      "outputs": [
        {
          "data": {
            "image/png": "[encoded data removed]",
            "text/plain": [
              "<Figure size 720x432 with 2 Axes>"
            ]
          },
          "metadata": {
            "needs_background": "light"
          },
          "output_type": "display_data"
        }
      ],
      "execution_count": 27
    },
    {
      "id": "sh1JpGvAs5E3",
      "cell_type": "markdown",
      "source": "- сделайте предварительный общий вывод об изменении пользовательской активности в тестовой группе по сравнению с контрольной.",
      "metadata": {
        "id": "sh1JpGvAs5E3"
      }
    },
    {
      "id": "40cc784a",
      "cell_type": "markdown",
      "source": "Размер групп:  Группы A (контрольная) и B (тестовая) имеют сопоставимые размеры: 5383 и 5467 посетителей соответственно. Это говорит о том, что разделение пользователей на группы было достаточно равномерным.\n\nКонверсия в покупку:\n\n\nВ контрольной группе (A) из 5383 посетителей 34 совершили покупку.\nВ тестовой группе (B) из 5467 посетителей 31 совершили покупку.\nПредварительный вывод об изменении:  Количество покупателей в тестовой группе (B) немного меньше, чем в контрольной группе (A).  Однако, чтобы сделать значимый вывод, нужно рассчитать коэффициенты конверсии и провести статистический анализ (например, z-тест или хи-квадрат), чтобы определить, является ли это различие статистически значимым или случайным.",
      "metadata": {
        "id": "hHTHPkJYs8mE"
      }
    },
    {
      "id": "IKZ1Oo3Ws919",
      "cell_type": "markdown",
      "source": "## 4. Проведите оценку результатов A/B-тестирования:",
      "metadata": {
        "id": "IKZ1Oo3Ws919"
      }
    },
    {
      "id": "dcUdBSmvtC-E",
      "cell_type": "markdown",
      "source": "- Проверьте изменение конверсии подходящим статистическим тестом, учитывая все этапы проверки гипотез.",
      "metadata": {
        "id": "dcUdBSmvtC-E"
      }
    },
    {
      "id": "57ae9839",
      "cell_type": "code",
      "source": "# Данные A/B-теста\nn1 = 5383  # Общее количество посетителей в группе A\nx1 = 34    # Количество покупателей в группе A\nn2 = 5467  # Общее количество посетителей в группе B\nx2 = 31    # Количество покупателей в группе B\n\n# 1. Рассчитываем коэффициенты конверсии\np1 = x1 / n1\np2 = x2 / n2\n\n# 2. Рассчитываем объединенную оценку пропорции\np = (x1 + x2) / (n1 + n2)\n\n# 3. Рассчитываем Z-статистику\nz = (p1 - p2) / math.sqrt(p * (1 - p) * (1/n1 + 1/n2))\n\n# 4. Рассчитываем p-значение (двусторонний тест)\np_value = 2 * (1 - st.norm.cdf(abs(z)))\n\n# Выводим результаты\nprint(f\"Коэффициент конверсии в группе A: {p1:.5f}\")\nprint(f\"Коэффициент конверсии в группе B: {p2:.5f}\")\nprint(f\"Объединенная оценка пропорции: {p:.5f}\")\nprint(f\"Z-статистика: {z:.3f}\")\nprint(f\"P-значение: {p_value:.4f}\")\n\n# Интерпретация результатов (сравнение с уровнем значимости alpha)\nalpha = 0.05\nif p_value < alpha:\n    print(f\"P-значение ({p_value:.4f}) < уровень значимости ({alpha}). Отвергаем нулевую гипотезу.\")\nelse:\n    print(f\"P-значение ({p_value:.4f}) >= уровень значимости ({alpha}). Не отвергаем нулевую гипотезу.\")",
      "metadata": {},
      "outputs": [
        {
          "name": "stdout",
          "output_type": "stream",
          "text": "Коэффициент конверсии в группе A: 0.00632\n,Коэффициент конверсии в группе B: 0.00567\n,Объединенная оценка пропорции: 0.00599\n,Z-статистика: 0.436\n,P-значение: 0.6630\n,P-значение (0.6630) >= уровень значимости (0.05). Не отвергаем нулевую гипотезу.\n"
        }
      ],
      "execution_count": 28
    },
    {
      "id": "ea0a154c",
      "cell_type": "markdown",
      "source": "Мы выбираем уровень значимости alpha = 0.05 .  Если p-значение меньше alpha, мы отвергаем нулевую гипотезу.  В противном случае мы не отвергаем нулевую гипотезу.\n\n\nВ нашем случае, p-значение (0.6630) > alpha (0.05).  Следовательно, мы не отвергаем нулевую гипотезу.",
      "metadata": {}
    },
    {
      "id": "9jkyKOjgtGoc",
      "cell_type": "markdown",
      "source": "- Опишите выводы по проведённой оценке результатов A/B-тестирования. Что можно сказать про результаты A/B-тестирования? Был ли достигнут ожидаемый эффект в изменении конверсии?",
      "metadata": {
        "id": "9jkyKOjgtGoc"
      }
    },
    {
      "id": "npoPPSKytKvR",
      "cell_type": "markdown",
      "source": "Выводы по результатам проведенной оценки A/B-тестирования:\n\n\nНа основании проведенного A/B-тестирования и статистического анализа с использованием Z-теста для сравнения двух пропорций, мы не обнаружили статистически значимого различия в коэффициентах конверсии между контрольной группой (A) и тестовой группой (B).\n\n\nP-значение (0.6630) значительно превышает выбранный уровень значимости (alpha = 0.05). Это означает, что вероятность получить наблюдаемую разницу в коэффициентах конверсии (или более экстремальную) при условии, что нулевая гипотеза верна, довольно высока.  Иными словами, наблюдаемая разница может быть результатом случайных колебаний, а не реального эффекта от изменения в тестовой группе.\n\nМы не можем отвергнуть нулевую гипотезу, которая утверждает, что изменение в тестовой группе (B) не оказывает влияния на конверсию по сравнению с контрольной группой (A).\n\n\nЧто можно сказать про результаты A/B-тестирования:\n\n\nРезультаты A/B-тестирования не подтверждают, что изменение, внесенное в тестовой группе (B), положительно или отрицательно повлияло на конверсию.  Новый вариант (B) показал немного более низкий коэффициент конверсии, чем старый (A), но эта разница не является статистически значимой.\n\n\nБыл ли достигнут ожидаемый эффект в изменении конверсии?\n\n\nНет, ожидаемый эффект в изменении конверсии не был достигнут. Мы не можем утверждать, что изменение, внесенное в тестовой группе, привело к какому-либо существенному изменению (увеличению или уменьшению) конверсии.\n\n",
      "metadata": {
        "id": "npoPPSKytKvR"
      }
    }
  ]
}