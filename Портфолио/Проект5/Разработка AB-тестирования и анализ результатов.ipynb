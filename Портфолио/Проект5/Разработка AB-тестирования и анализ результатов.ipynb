{
  "metadata": {
    "kernelspec": {
      "name": "python",
      "display_name": "Python (Pyodide)",
      "language": "python"
    },
    "language_info": {
      "codemirror_mode": {
        "name": "python",
        "version": 3
      },
      "file_extension": ".py",
      "mimetype": "text/x-python",
      "name": "python",
      "nbconvert_exporter": "python",
      "pygments_lexer": "ipython3",
      "version": "3.8"
    },
    "ExecuteTimeLog": [
      {
        "duration": 463,
        "start_time": "2025-08-16T10:49:32.943Z"
      },
      {
        "duration": 48,
        "start_time": "2025-08-16T10:49:50.559Z"
      },
      {
        "duration": 86,
        "start_time": "2025-08-16T10:52:20.353Z"
      },
      {
        "duration": 52,
        "start_time": "2025-08-16T10:52:37.518Z"
      },
      {
        "duration": 51,
        "start_time": "2025-08-16T10:53:21.800Z"
      },
      {
        "duration": 962,
        "start_time": "2025-08-16T10:53:50.552Z"
      },
      {
        "duration": 3,
        "start_time": "2025-08-16T10:59:10.417Z"
      },
      {
        "duration": 4,
        "start_time": "2025-08-16T10:59:22.400Z"
      },
      {
        "duration": 3,
        "start_time": "2025-08-16T10:59:28.329Z"
      },
      {
        "duration": 526,
        "start_time": "2025-08-16T10:59:47.394Z"
      },
      {
        "duration": 505,
        "start_time": "2025-08-16T11:00:36.665Z"
      },
      {
        "duration": 254,
        "start_time": "2025-08-16T11:00:50.228Z"
      },
      {
        "duration": 500,
        "start_time": "2025-08-16T11:00:58.825Z"
      },
      {
        "duration": 1359,
        "start_time": "2025-08-16T11:02:28.554Z"
      },
      {
        "duration": 481,
        "start_time": "2025-08-16T11:04:53.316Z"
      },
      {
        "duration": 487,
        "start_time": "2025-08-16T11:08:31.009Z"
      },
      {
        "duration": 503,
        "start_time": "2025-08-16T11:08:49.314Z"
      },
      {
        "duration": 485,
        "start_time": "2025-08-16T11:09:13.061Z"
      },
      {
        "duration": 457,
        "start_time": "2025-08-16T11:09:26.310Z"
      },
      {
        "duration": 478,
        "start_time": "2025-08-16T11:09:49.405Z"
      },
      {
        "duration": 513,
        "start_time": "2025-08-16T11:10:01.454Z"
      },
      {
        "duration": 529,
        "start_time": "2025-08-16T11:11:25.543Z"
      },
      {
        "duration": 538,
        "start_time": "2025-08-16T11:13:14.806Z"
      },
      {
        "duration": 432,
        "start_time": "2025-08-16T12:00:04.426Z"
      },
      {
        "duration": 66,
        "start_time": "2025-08-16T12:00:11.499Z"
      },
      {
        "duration": 900,
        "start_time": "2025-08-16T12:00:17.041Z"
      },
      {
        "duration": 500,
        "start_time": "2025-08-16T12:00:55.426Z"
      },
      {
        "duration": 57,
        "start_time": "2025-08-16T12:00:58.193Z"
      },
      {
        "duration": 339,
        "start_time": "2025-08-16T12:02:32.380Z"
      },
      {
        "duration": 279,
        "start_time": "2025-08-16T12:02:34.668Z"
      },
      {
        "duration": 10,
        "start_time": "2025-08-16T12:05:52.300Z"
      },
      {
        "duration": 158,
        "start_time": "2025-08-16T12:06:39.614Z"
      },
      {
        "duration": 462,
        "start_time": "2025-08-16T12:28:45.856Z"
      },
      {
        "duration": 451,
        "start_time": "2025-08-16T13:14:25.356Z"
      },
      {
        "duration": 140,
        "start_time": "2025-08-16T13:43:52.681Z"
      },
      {
        "duration": 84,
        "start_time": "2025-08-16T13:44:20.471Z"
      },
      {
        "duration": 94,
        "start_time": "2025-08-16T13:44:29.050Z"
      },
      {
        "duration": 34,
        "start_time": "2025-08-16T13:44:57.263Z"
      },
      {
        "duration": 13,
        "start_time": "2025-08-16T13:45:10.975Z"
      },
      {
        "duration": 9,
        "start_time": "2025-08-16T13:45:13.752Z"
      },
      {
        "duration": 135,
        "start_time": "2025-08-16T13:50:46.906Z"
      },
      {
        "duration": 147,
        "start_time": "2025-08-16T13:51:52.058Z"
      },
      {
        "duration": 74,
        "start_time": "2025-08-16T13:56:11.502Z"
      },
      {
        "duration": 23,
        "start_time": "2025-08-16T13:56:46.372Z"
      },
      {
        "duration": 34,
        "start_time": "2025-08-16T13:57:16.781Z"
      },
      {
        "duration": 23,
        "start_time": "2025-08-16T13:57:30.399Z"
      },
      {
        "duration": 43,
        "start_time": "2025-08-16T14:01:22.631Z"
      },
      {
        "duration": 31,
        "start_time": "2025-08-16T14:03:18.407Z"
      },
      {
        "duration": 25,
        "start_time": "2025-08-16T14:05:39.648Z"
      },
      {
        "duration": 26,
        "start_time": "2025-08-16T14:06:33.081Z"
      },
      {
        "duration": 26,
        "start_time": "2025-08-16T14:08:23.635Z"
      },
      {
        "duration": 109,
        "start_time": "2025-08-16T14:11:11.204Z"
      },
      {
        "duration": 27,
        "start_time": "2025-08-16T14:12:04.319Z"
      },
      {
        "duration": 107,
        "start_time": "2025-08-16T14:12:52.269Z"
      },
      {
        "duration": 7,
        "start_time": "2025-08-16T14:20:42.476Z"
      },
      {
        "duration": 161,
        "start_time": "2025-08-16T14:23:02.987Z"
      },
      {
        "duration": 170,
        "start_time": "2025-08-16T14:29:34.700Z"
      },
      {
        "duration": 52,
        "start_time": "2025-08-16T14:36:22.198Z"
      },
      {
        "duration": 1641,
        "start_time": "2025-08-16T14:36:53.095Z"
      },
      {
        "duration": 263,
        "start_time": "2025-08-16T14:38:03.240Z"
      },
      {
        "duration": 280,
        "start_time": "2025-08-16T14:40:21.864Z"
      },
      {
        "duration": 40,
        "start_time": "2025-08-16T14:42:50.624Z"
      },
      {
        "duration": 7,
        "start_time": "2025-08-16T14:44:38.282Z"
      },
      {
        "duration": 37,
        "start_time": "2025-08-16T14:47:29.440Z"
      },
      {
        "duration": 6,
        "start_time": "2025-08-16T14:49:00.629Z"
      },
      {
        "duration": 6,
        "start_time": "2025-08-16T14:49:06.996Z"
      },
      {
        "duration": 9,
        "start_time": "2025-08-16T14:52:12.727Z"
      },
      {
        "duration": 10,
        "start_time": "2025-08-16T14:53:00.087Z"
      },
      {
        "duration": 12,
        "start_time": "2025-08-16T14:54:33.289Z"
      },
      {
        "duration": 54,
        "start_time": "2025-08-16T14:56:34.972Z"
      },
      {
        "duration": 1355,
        "start_time": "2025-08-16T20:43:26.564Z"
      },
      {
        "duration": 553,
        "start_time": "2025-08-16T20:43:27.920Z"
      },
      {
        "duration": 392,
        "start_time": "2025-08-16T20:43:28.475Z"
      },
      {
        "duration": 711,
        "start_time": "2025-08-16T20:43:28.870Z"
      },
      {
        "duration": 151,
        "start_time": "2025-08-16T20:43:29.589Z"
      },
      {
        "duration": 443,
        "start_time": "2025-08-16T20:43:29.741Z"
      },
      {
        "duration": 474,
        "start_time": "2025-08-16T20:43:30.186Z"
      },
      {
        "duration": 154,
        "start_time": "2025-08-16T20:43:30.662Z"
      },
      {
        "duration": 121,
        "start_time": "2025-08-16T20:43:30.818Z"
      },
      {
        "duration": 120,
        "start_time": "2025-08-16T20:43:30.941Z"
      },
      {
        "duration": 144,
        "start_time": "2025-08-16T20:43:31.063Z"
      },
      {
        "duration": 155,
        "start_time": "2025-08-16T20:43:31.209Z"
      },
      {
        "duration": 192,
        "start_time": "2025-08-16T20:43:31.366Z"
      },
      {
        "duration": 294,
        "start_time": "2025-08-16T20:43:31.560Z"
      },
      {
        "duration": 60,
        "start_time": "2025-08-16T20:43:31.856Z"
      },
      {
        "duration": 7,
        "start_time": "2025-08-16T20:43:31.918Z"
      },
      {
        "duration": 49,
        "start_time": "2025-08-16T20:43:31.927Z"
      },
      {
        "duration": 70,
        "start_time": "2025-08-16T20:43:31.978Z"
      },
      {
        "duration": 48,
        "start_time": "2025-08-17T06:44:49.002Z"
      },
      {
        "duration": 7,
        "start_time": "2025-08-17T06:45:10.843Z"
      },
      {
        "duration": 6,
        "start_time": "2025-08-17T06:45:15.683Z"
      },
      {
        "duration": 1512,
        "start_time": "2025-08-17T06:45:22.430Z"
      },
      {
        "duration": 575,
        "start_time": "2025-08-17T06:45:23.945Z"
      },
      {
        "duration": 404,
        "start_time": "2025-08-17T06:45:24.521Z"
      },
      {
        "duration": 692,
        "start_time": "2025-08-17T06:45:24.927Z"
      },
      {
        "duration": 161,
        "start_time": "2025-08-17T06:45:25.621Z"
      },
      {
        "duration": 434,
        "start_time": "2025-08-17T06:45:25.784Z"
      },
      {
        "duration": 481,
        "start_time": "2025-08-17T06:45:26.220Z"
      },
      {
        "duration": 153,
        "start_time": "2025-08-17T06:45:26.702Z"
      },
      {
        "duration": 28,
        "start_time": "2025-08-17T06:45:26.856Z"
      },
      {
        "duration": 109,
        "start_time": "2025-08-17T06:45:26.887Z"
      },
      {
        "duration": 7,
        "start_time": "2025-08-17T06:45:26.997Z"
      },
      {
        "duration": 171,
        "start_time": "2025-08-17T06:45:27.005Z"
      },
      {
        "duration": 168,
        "start_time": "2025-08-17T06:45:27.177Z"
      },
      {
        "duration": 281,
        "start_time": "2025-08-17T06:45:27.346Z"
      },
      {
        "duration": 48,
        "start_time": "2025-08-17T06:45:27.628Z"
      },
      {
        "duration": 7,
        "start_time": "2025-08-17T06:45:27.678Z"
      },
      {
        "duration": 53,
        "start_time": "2025-08-17T06:45:27.686Z"
      },
      {
        "duration": 56,
        "start_time": "2025-08-17T06:45:27.741Z"
      },
      {
        "duration": 159,
        "start_time": "2025-08-17T07:00:32.565Z"
      },
      {
        "duration": 140,
        "start_time": "2025-08-17T07:00:49.969Z"
      },
      {
        "duration": 136,
        "start_time": "2025-08-17T07:00:57.030Z"
      },
      {
        "duration": 2584,
        "start_time": "2025-08-17T08:07:44.384Z"
      },
      {
        "duration": 602,
        "start_time": "2025-08-17T08:07:46.970Z"
      },
      {
        "duration": 414,
        "start_time": "2025-08-17T08:07:47.574Z"
      },
      {
        "duration": 544,
        "start_time": "2025-08-17T08:07:47.990Z"
      },
      {
        "duration": 154,
        "start_time": "2025-08-17T08:07:48.535Z"
      },
      {
        "duration": 476,
        "start_time": "2025-08-17T08:07:48.691Z"
      },
      {
        "duration": 479,
        "start_time": "2025-08-17T08:07:49.169Z"
      },
      {
        "duration": 149,
        "start_time": "2025-08-17T08:07:49.650Z"
      },
      {
        "duration": 28,
        "start_time": "2025-08-17T08:07:49.801Z"
      },
      {
        "duration": 117,
        "start_time": "2025-08-17T08:07:49.832Z"
      },
      {
        "duration": 9,
        "start_time": "2025-08-17T08:07:49.951Z"
      },
      {
        "duration": 177,
        "start_time": "2025-08-17T08:07:49.961Z"
      },
      {
        "duration": 177,
        "start_time": "2025-08-17T08:07:50.140Z"
      },
      {
        "duration": 278,
        "start_time": "2025-08-17T08:07:50.319Z"
      },
      {
        "duration": 50,
        "start_time": "2025-08-17T08:07:50.599Z"
      },
      {
        "duration": 6,
        "start_time": "2025-08-17T08:07:50.651Z"
      },
      {
        "duration": 54,
        "start_time": "2025-08-17T08:07:50.659Z"
      },
      {
        "duration": 55,
        "start_time": "2025-08-17T08:07:50.714Z"
      },
      {
        "duration": 135,
        "start_time": "2025-08-17T08:08:11.339Z"
      },
      {
        "duration": 122,
        "start_time": "2025-08-17T08:08:18.651Z"
      },
      {
        "duration": 148,
        "start_time": "2025-08-17T08:08:23.849Z"
      },
      {
        "duration": 158,
        "start_time": "2025-08-17T08:08:50.725Z"
      },
      {
        "duration": 150,
        "start_time": "2025-08-17T08:08:54.884Z"
      },
      {
        "duration": 102,
        "start_time": "2025-08-17T08:09:55.481Z"
      },
      {
        "duration": 112,
        "start_time": "2025-08-17T08:10:00.361Z"
      },
      {
        "duration": 123,
        "start_time": "2025-08-17T08:11:16.933Z"
      },
      {
        "duration": 100,
        "start_time": "2025-08-17T08:11:20.944Z"
      },
      {
        "duration": 29,
        "start_time": "2025-08-17T08:11:22.250Z"
      },
      {
        "duration": 1476,
        "start_time": "2025-08-17T08:11:46.383Z"
      },
      {
        "duration": 632,
        "start_time": "2025-08-17T08:11:47.861Z"
      },
      {
        "duration": 465,
        "start_time": "2025-08-17T08:11:48.495Z"
      },
      {
        "duration": 601,
        "start_time": "2025-08-17T08:11:48.964Z"
      },
      {
        "duration": 170,
        "start_time": "2025-08-17T08:11:49.568Z"
      },
      {
        "duration": 517,
        "start_time": "2025-08-17T08:11:49.741Z"
      },
      {
        "duration": 505,
        "start_time": "2025-08-17T08:11:50.260Z"
      },
      {
        "duration": 160,
        "start_time": "2025-08-17T08:11:50.766Z"
      },
      {
        "duration": 38,
        "start_time": "2025-08-17T08:11:50.927Z"
      },
      {
        "duration": 122,
        "start_time": "2025-08-17T08:11:50.968Z"
      },
      {
        "duration": 8,
        "start_time": "2025-08-17T08:11:51.092Z"
      },
      {
        "duration": 300,
        "start_time": "2025-08-17T08:11:51.102Z"
      },
      {
        "duration": 200,
        "start_time": "2025-08-17T08:11:51.404Z"
      },
      {
        "duration": 340,
        "start_time": "2025-08-17T08:11:51.606Z"
      },
      {
        "duration": 50,
        "start_time": "2025-08-17T08:11:51.949Z"
      },
      {
        "duration": 38,
        "start_time": "2025-08-17T08:11:52.001Z"
      },
      {
        "duration": 43,
        "start_time": "2025-08-17T08:11:52.042Z"
      },
      {
        "duration": 66,
        "start_time": "2025-08-17T08:11:52.086Z"
      },
      {
        "duration": 207,
        "start_time": "2025-08-17T08:15:16.724Z"
      },
      {
        "duration": 97,
        "start_time": "2025-08-17T08:17:34.088Z"
      },
      {
        "duration": 97,
        "start_time": "2025-08-17T08:17:35.530Z"
      },
      {
        "duration": 1648,
        "start_time": "2025-08-17T08:17:46.240Z"
      },
      {
        "duration": 625,
        "start_time": "2025-08-17T08:17:47.890Z"
      },
      {
        "duration": 463,
        "start_time": "2025-08-17T08:17:48.517Z"
      },
      {
        "duration": 534,
        "start_time": "2025-08-17T08:17:48.982Z"
      },
      {
        "duration": 167,
        "start_time": "2025-08-17T08:17:49.518Z"
      },
      {
        "duration": 505,
        "start_time": "2025-08-17T08:17:49.687Z"
      },
      {
        "duration": 534,
        "start_time": "2025-08-17T08:17:50.193Z"
      },
      {
        "duration": 155,
        "start_time": "2025-08-17T08:17:50.729Z"
      },
      {
        "duration": 29,
        "start_time": "2025-08-17T08:17:50.885Z"
      },
      {
        "duration": 208,
        "start_time": "2025-08-17T08:17:50.917Z"
      },
      {
        "duration": 11,
        "start_time": "2025-08-17T08:17:51.135Z"
      },
      {
        "duration": 286,
        "start_time": "2025-08-17T08:17:51.148Z"
      },
      {
        "duration": 211,
        "start_time": "2025-08-17T08:17:51.436Z"
      },
      {
        "duration": 350,
        "start_time": "2025-08-17T08:17:51.649Z"
      },
      {
        "duration": 62,
        "start_time": "2025-08-17T08:17:52.000Z"
      },
      {
        "duration": 55,
        "start_time": "2025-08-17T08:17:52.064Z"
      },
      {
        "duration": 64,
        "start_time": "2025-08-17T08:17:52.121Z"
      },
      {
        "duration": 78,
        "start_time": "2025-08-17T08:17:52.187Z"
      },
      {
        "duration": 178,
        "start_time": "2025-08-17T08:18:09.391Z"
      },
      {
        "duration": 92,
        "start_time": "2025-08-17T08:18:36.599Z"
      },
      {
        "duration": 28,
        "start_time": "2025-08-17T08:18:41.694Z"
      },
      {
        "duration": 1484,
        "start_time": "2025-08-17T08:18:48.240Z"
      },
      {
        "duration": 564,
        "start_time": "2025-08-17T08:18:49.725Z"
      },
      {
        "duration": 425,
        "start_time": "2025-08-17T08:18:50.291Z"
      },
      {
        "duration": 522,
        "start_time": "2025-08-17T08:18:50.718Z"
      },
      {
        "duration": 176,
        "start_time": "2025-08-17T08:18:51.243Z"
      },
      {
        "duration": 503,
        "start_time": "2025-08-17T08:18:51.420Z"
      },
      {
        "duration": 517,
        "start_time": "2025-08-17T08:18:51.925Z"
      },
      {
        "duration": 173,
        "start_time": "2025-08-17T08:18:52.445Z"
      },
      {
        "duration": 36,
        "start_time": "2025-08-17T08:18:52.619Z"
      },
      {
        "duration": 121,
        "start_time": "2025-08-17T08:18:52.658Z"
      },
      {
        "duration": 7,
        "start_time": "2025-08-17T08:18:52.781Z"
      },
      {
        "duration": 191,
        "start_time": "2025-08-17T08:18:52.790Z"
      },
      {
        "duration": 189,
        "start_time": "2025-08-17T08:18:52.983Z"
      },
      {
        "duration": 281,
        "start_time": "2025-08-17T08:18:53.173Z"
      },
      {
        "duration": 45,
        "start_time": "2025-08-17T08:18:53.456Z"
      },
      {
        "duration": 6,
        "start_time": "2025-08-17T08:18:53.503Z"
      },
      {
        "duration": 56,
        "start_time": "2025-08-17T08:18:53.510Z"
      },
      {
        "duration": 67,
        "start_time": "2025-08-17T08:18:53.567Z"
      },
      {
        "duration": 190,
        "start_time": "2025-08-17T08:19:02.947Z"
      },
      {
        "duration": 96,
        "start_time": "2025-08-17T08:19:05.479Z"
      },
      {
        "duration": 28,
        "start_time": "2025-08-17T08:19:12.369Z"
      },
      {
        "duration": 119,
        "start_time": "2025-08-17T08:19:13.801Z"
      },
      {
        "duration": 152,
        "start_time": "2025-08-17T08:21:16.638Z"
      },
      {
        "duration": 158,
        "start_time": "2025-08-17T08:21:28.536Z"
      },
      {
        "duration": 134,
        "start_time": "2025-08-17T08:22:43.864Z"
      },
      {
        "duration": 174,
        "start_time": "2025-08-17T08:24:04.535Z"
      },
      {
        "duration": 15,
        "start_time": "2025-08-17T08:25:31.984Z"
      },
      {
        "duration": 16,
        "start_time": "2025-08-17T08:32:48.020Z"
      },
      {
        "duration": 167,
        "start_time": "2025-08-17T08:33:47.652Z"
      },
      {
        "duration": 179,
        "start_time": "2025-08-17T08:37:20.038Z"
      },
      {
        "duration": 178,
        "start_time": "2025-08-17T08:37:36.204Z"
      },
      {
        "duration": 183,
        "start_time": "2025-08-17T08:37:57.701Z"
      },
      {
        "duration": 216,
        "start_time": "2025-08-17T08:38:52.383Z"
      },
      {
        "duration": 186,
        "start_time": "2025-08-17T08:39:50.279Z"
      },
      {
        "duration": 202,
        "start_time": "2025-08-17T08:42:31.903Z"
      },
      {
        "duration": 208,
        "start_time": "2025-08-17T08:42:44.332Z"
      },
      {
        "duration": 285,
        "start_time": "2025-08-17T08:44:13.272Z"
      },
      {
        "duration": 178,
        "start_time": "2025-08-17T08:44:18.759Z"
      },
      {
        "duration": 196,
        "start_time": "2025-08-17T08:46:12.695Z"
      },
      {
        "duration": 122,
        "start_time": "2025-08-17T08:46:19.346Z"
      },
      {
        "duration": 124,
        "start_time": "2025-08-17T08:46:48.471Z"
      },
      {
        "duration": 954,
        "start_time": "2025-08-17T10:29:20.750Z"
      },
      {
        "duration": 986,
        "start_time": "2025-08-17T10:29:28.720Z"
      },
      {
        "duration": 1091,
        "start_time": "2025-08-17T10:29:35.986Z"
      },
      {
        "duration": 231,
        "start_time": "2025-08-17T10:30:16.749Z"
      },
      {
        "duration": 194,
        "start_time": "2025-08-17T10:30:30.722Z"
      },
      {
        "duration": 152,
        "start_time": "2025-08-17T10:31:22.931Z"
      },
      {
        "duration": 159,
        "start_time": "2025-08-17T10:32:47.308Z"
      },
      {
        "duration": 245,
        "start_time": "2025-08-17T10:32:59.068Z"
      },
      {
        "duration": 158,
        "start_time": "2025-08-17T10:33:11.198Z"
      },
      {
        "duration": 175,
        "start_time": "2025-08-17T10:33:24.206Z"
      },
      {
        "duration": 167,
        "start_time": "2025-08-17T10:34:38.886Z"
      },
      {
        "duration": 173,
        "start_time": "2025-08-17T10:34:43.481Z"
      },
      {
        "duration": 166,
        "start_time": "2025-08-17T10:34:47.453Z"
      },
      {
        "duration": 170,
        "start_time": "2025-08-17T10:34:53.350Z"
      },
      {
        "duration": 160,
        "start_time": "2025-08-17T10:38:32.918Z"
      },
      {
        "duration": 1535,
        "start_time": "2025-08-17T10:47:17.948Z"
      },
      {
        "duration": 576,
        "start_time": "2025-08-17T10:47:19.485Z"
      },
      {
        "duration": 407,
        "start_time": "2025-08-17T10:47:20.062Z"
      },
      {
        "duration": 527,
        "start_time": "2025-08-17T10:47:20.471Z"
      },
      {
        "duration": 190,
        "start_time": "2025-08-17T10:47:20.999Z"
      },
      {
        "duration": 173,
        "start_time": "2025-08-17T10:47:21.190Z"
      },
      {
        "duration": 440,
        "start_time": "2025-08-17T10:47:21.364Z"
      },
      {
        "duration": 467,
        "start_time": "2025-08-17T10:47:21.806Z"
      },
      {
        "duration": 130,
        "start_time": "2025-08-17T10:47:22.275Z"
      },
      {
        "duration": 29,
        "start_time": "2025-08-17T10:47:22.407Z"
      },
      {
        "duration": 150,
        "start_time": "2025-08-17T10:47:22.437Z"
      },
      {
        "duration": 7,
        "start_time": "2025-08-17T10:47:22.588Z"
      },
      {
        "duration": 212,
        "start_time": "2025-08-17T10:47:22.596Z"
      },
      {
        "duration": 195,
        "start_time": "2025-08-17T10:47:22.810Z"
      },
      {
        "duration": 260,
        "start_time": "2025-08-17T10:47:23.007Z"
      },
      {
        "duration": 41,
        "start_time": "2025-08-17T10:47:23.268Z"
      },
      {
        "duration": 5,
        "start_time": "2025-08-17T10:47:23.311Z"
      },
      {
        "duration": 70,
        "start_time": "2025-08-17T10:47:23.317Z"
      },
      {
        "duration": 54,
        "start_time": "2025-08-17T10:47:23.389Z"
      },
      {
        "duration": 1733,
        "start_time": "2025-08-18T07:21:39.619Z"
      },
      {
        "duration": 677,
        "start_time": "2025-08-18T07:21:41.355Z"
      },
      {
        "duration": 460,
        "start_time": "2025-08-18T07:21:42.034Z"
      },
      {
        "duration": 787,
        "start_time": "2025-08-18T07:21:42.496Z"
      },
      {
        "duration": 221,
        "start_time": "2025-08-18T07:21:43.285Z"
      },
      {
        "duration": 194,
        "start_time": "2025-08-18T07:21:43.507Z"
      },
      {
        "duration": 546,
        "start_time": "2025-08-18T07:21:43.703Z"
      },
      {
        "duration": 462,
        "start_time": "2025-08-18T07:21:44.251Z"
      },
      {
        "duration": 177,
        "start_time": "2025-08-18T07:21:44.715Z"
      },
      {
        "duration": 28,
        "start_time": "2025-08-18T07:21:44.895Z"
      },
      {
        "duration": 146,
        "start_time": "2025-08-18T07:21:44.925Z"
      },
      {
        "duration": 8,
        "start_time": "2025-08-18T07:21:45.072Z"
      },
      {
        "duration": 213,
        "start_time": "2025-08-18T07:21:45.082Z"
      },
      {
        "duration": 210,
        "start_time": "2025-08-18T07:21:45.297Z"
      },
      {
        "duration": 309,
        "start_time": "2025-08-18T07:21:45.509Z"
      },
      {
        "duration": 57,
        "start_time": "2025-08-18T07:21:45.819Z"
      },
      {
        "duration": 6,
        "start_time": "2025-08-18T07:21:45.878Z"
      },
      {
        "duration": 39,
        "start_time": "2025-08-18T07:21:45.885Z"
      },
      {
        "duration": 85,
        "start_time": "2025-08-18T07:21:45.926Z"
      }
    ],
    "colab": {
      "provenance": []
    },
    "toc": {
      "base_numbering": 1,
      "nav_menu": {},
      "number_sections": true,
      "sideBar": true,
      "skip_h1_title": true,
      "title_cell": "Table of Contents",
      "title_sidebar": "Contents",
      "toc_cell": false,
      "toc_position": {},
      "toc_section_display": true,
      "toc_window_display": false
    }
  },
  "nbformat_minor": 4,
  "nbformat": 4,
  "cells": [
    {
      "cell_type": "markdown",
      "source": "# Разработка A/B-тестирования и анализ результатов\n\nВы работаете продуктовым аналитиком в компании, которая разрабатывает развлекательное приложение с функцией «бесконечной» ленты, как, например, в приложениях с короткими видео. В вашем приложении существует две модели монетизации: первая — ежемесячная платная подписка, которая позволяет пользователям смотреть ленту без рекламы, вторая — демонстрация рекламы для пользователей, которые ещё не оформили подписку.\n\nКоманда разработчиков рекомендательных систем создала новый алгоритм рекомендаций, который, по их мнению, будет показывать более интересный контент для каждого пользователя. Вас, как аналитика, просят помочь рассчитать параметры A/B-теста, который позволит проверить эту гипотезу, и проанализировать его результаты.",
      "metadata": {
        "id": "u98L9TgH0eMk"
      }
    },
    {
      "cell_type": "markdown",
      "source": "## Описание данных\n\nВы будете работать с тремя таблицами:\n\n- `sessions_project_history.csv` — таблица с историческими данными по сессиям пользователей на период с 2025-08-11 по 2025-09-23. Путь к файлу: `/datasets/sessions_project_history.csv`.\n\n- `sessions_project_test_part.csv` — таблица с данными за первый день проведения A/B-теста, то есть за 2025-10-14. Путь к файлу: `/datasets/sessions_project_test_part.csv`.\n\n- `sessions_project_test.csv` — таблица с данными за весь период проведения A/B-теста, то есть с 2025-10-14 по 2025-11-02. Путь к файлу: `/datasets/sessions_project_test.csv`.\n\nУ этих таблиц почти совпадает структура и содержание колонок, различаются лишь периоды наблюдения.\n\nПоля таблиц `sessions_project_history.csv`, `sessions_project_test.csv`, `sessions_project_test_part.csv`:\n\n- `user_id` — идентификатор пользователя;\n\n- `session_id` — идентификатор сессии в приложении;\n\n- `session_date` — дата сессии;\n\n- `session_start_ts` — дата и время начала сессии;\n\n- `install_date` — дата установки приложения;\n\n- `session_number` — порядковый номер сессии для конкретного пользователя;\n\n- `registration_flag` — является ли пользователь зарегистрированным;\n\n- `page_counter` — количество просмотренных страниц во время сессии;\n\n- `region` — регион пользователя;\n\n- `device` — тип устройства пользователя;\n\n- `test_group` — тестовая группа (в таблице с историческими данными этого столбца нет).\n\n\n## Что нужно сделать\nВаши задачи: рассчитать параметры теста, оценить корректность его проведения и проанализировать результаты эксперимента.",
      "metadata": {
        "id": "LJBRALHs0eMf"
      }
    },
    {
      "cell_type": "markdown",
      "source": "### 1. Работа с историческими данными (EDA)",
      "metadata": {
        "id": "UpOucjID0eMl"
      }
    },
    {
      "cell_type": "markdown",
      "source": "#### 1.1. Загрузка исторических данных\nНа первом этапе поработайте с историческими данными приложения:\n\n- Импортируйте библиотеку pandas.\n\n- Считайте и сохраните в датафрейм `sessions_history` CSV-файл с историческими данными о сессиях пользователей `sessions_project_history.csv`.\n\nВыведите на экран первые пять строк полученного датафрейма.",
      "metadata": {
        "id": "8iJMtL-30eMl"
      }
    },
    {
      "cell_type": "code",
      "source": "import pandas as pd\n\nsessions_history = pd.read_csv('/datasets/sessions_project_history.csv')\n\nsessions_history.head()\n\nsessions_history.info()\n",
      "metadata": {
        "id": "6TPR2-1RPboT"
      },
      "outputs": [
        {
          "name": "stdout",
          "output_type": "stream",
          "text": "<class 'pandas.core.frame.DataFrame'>\n,RangeIndex: 435924 entries, 0 to 435923\n,Data columns (total 10 columns):\n, #   Column             Non-Null Count   Dtype \n,---  ------             --------------   ----- \n, 0   user_id            435924 non-null  object\n, 1   session_id         435924 non-null  object\n, 2   session_date       435924 non-null  object\n, 3   session_start_ts   435924 non-null  object\n, 4   install_date       435924 non-null  object\n, 5   session_number     435924 non-null  int64 \n, 6   registration_flag  435924 non-null  int64 \n, 7   page_counter       435924 non-null  int64 \n, 8   region             435924 non-null  object\n, 9   device             435924 non-null  object\n,dtypes: int64(3), object(7)\n,memory usage: 33.3+ MB\n"
        }
      ],
      "execution_count": 1
    },
    {
      "cell_type": "markdown",
      "source": "#### 1.2. Знакомство с данными\n- Для каждого уникального пользователя `user_id` рассчитайте количество уникальных сессий `session_id`.\n\n- Выведите на экран все данные из таблицы `sessions_history` для одного пользователя с наибольшим количеством сессий. Если таких пользователей несколько, выберите любого из них.\n\n- Изучите таблицу для одного пользователя, чтобы лучше понять логику формирования каждого столбца данных.\n\n",
      "metadata": {
        "id": "qTDoiODz0eMo"
      }
    },
    {
      "cell_type": "code",
      "source": "# Расчитаем для каждого уникального пользователя уникальные сессии\ngrouped = sessions_history.groupby('user_id')\nunique_sessions_count = grouped['session_id'].nunique()\n\n# Найдем пользователя с наибольшим количеством сессий\nmax_sessions = unique_sessions_count.max()\nuser_with_max_sessions = unique_sessions_count[unique_sessions_count == max_sessions].index\nprint(user_with_max_sessions)\n\n# вывести все данные из таблицы sessions_history\nuser_data = sessions_history[sessions_history['user_id'] == user_with_max_sessions[0]]\n\ndisplay(user_data)",
      "metadata": {
        "id": "PWZO9vTIPbPN"
      },
      "outputs": [
        {
          "name": "stdout",
          "output_type": "stream",
          "text": "Index(['10E0DEFC1ABDBBE0', '6A73CB5566BB494D'], dtype='object', name='user_id')\n"
        },
        {
          "data": {
            "text/html": [
              "<div>\n",
              "<style scoped>\n",
              "    .dataframe tbody tr th:only-of-type {\n",
              "        vertical-align: middle;\n",
              "    }\n",
              "\n",
              "    .dataframe tbody tr th {\n",
              "        vertical-align: top;\n",
              "    }\n",
              "\n",
              "    .dataframe thead th {\n",
              "        text-align: right;\n",
              "    }\n",
              "</style>\n",
              "<table border=\"1\" class=\"dataframe\">\n",
              "  <thead>\n",
              "    <tr style=\"text-align: right;\">\n",
              "      <th></th>\n",
              "      <th>user_id</th>\n",
              "      <th>session_id</th>\n",
              "      <th>session_date</th>\n",
              "      <th>session_start_ts</th>\n",
              "      <th>install_date</th>\n",
              "      <th>session_number</th>\n",
              "      <th>registration_flag</th>\n",
              "      <th>page_counter</th>\n",
              "      <th>region</th>\n",
              "      <th>device</th>\n",
              "    </tr>\n",
              "  </thead>\n",
              "  <tbody>\n",
              "    <tr>\n",
              "      <th>115558</th>\n",
              "      <td>10E0DEFC1ABDBBE0</td>\n",
              "      <td>B8F0423BBFFCF5DC</td>\n",
              "      <td>2025-08-14</td>\n",
              "      <td>2025-08-14 13:57:39</td>\n",
              "      <td>2025-08-14</td>\n",
              "      <td>1</td>\n",
              "      <td>0</td>\n",
              "      <td>4</td>\n",
              "      <td>CIS</td>\n",
              "      <td>Android</td>\n",
              "    </tr>\n",
              "    <tr>\n",
              "      <th>191751</th>\n",
              "      <td>10E0DEFC1ABDBBE0</td>\n",
              "      <td>87CA2FA549473837</td>\n",
              "      <td>2025-08-15</td>\n",
              "      <td>2025-08-15 16:42:10</td>\n",
              "      <td>2025-08-14</td>\n",
              "      <td>2</td>\n",
              "      <td>0</td>\n",
              "      <td>3</td>\n",
              "      <td>CIS</td>\n",
              "      <td>Android</td>\n",
              "    </tr>\n",
              "    <tr>\n",
              "      <th>239370</th>\n",
              "      <td>10E0DEFC1ABDBBE0</td>\n",
              "      <td>4ADD8011DCDCE318</td>\n",
              "      <td>2025-08-16</td>\n",
              "      <td>2025-08-16 19:53:21</td>\n",
              "      <td>2025-08-14</td>\n",
              "      <td>3</td>\n",
              "      <td>0</td>\n",
              "      <td>3</td>\n",
              "      <td>CIS</td>\n",
              "      <td>Android</td>\n",
              "    </tr>\n",
              "    <tr>\n",
              "      <th>274629</th>\n",
              "      <td>10E0DEFC1ABDBBE0</td>\n",
              "      <td>DF0FD0E09BF1F3D7</td>\n",
              "      <td>2025-08-17</td>\n",
              "      <td>2025-08-17 15:03:43</td>\n",
              "      <td>2025-08-14</td>\n",
              "      <td>4</td>\n",
              "      <td>0</td>\n",
              "      <td>1</td>\n",
              "      <td>CIS</td>\n",
              "      <td>Android</td>\n",
              "    </tr>\n",
              "    <tr>\n",
              "      <th>302501</th>\n",
              "      <td>10E0DEFC1ABDBBE0</td>\n",
              "      <td>3C221774B4DE6885</td>\n",
              "      <td>2025-08-18</td>\n",
              "      <td>2025-08-18 17:29:14</td>\n",
              "      <td>2025-08-14</td>\n",
              "      <td>5</td>\n",
              "      <td>0</td>\n",
              "      <td>4</td>\n",
              "      <td>CIS</td>\n",
              "      <td>Android</td>\n",
              "    </tr>\n",
              "    <tr>\n",
              "      <th>325557</th>\n",
              "      <td>10E0DEFC1ABDBBE0</td>\n",
              "      <td>031BD7A67048105B</td>\n",
              "      <td>2025-08-19</td>\n",
              "      <td>2025-08-19 13:23:55</td>\n",
              "      <td>2025-08-14</td>\n",
              "      <td>6</td>\n",
              "      <td>0</td>\n",
              "      <td>2</td>\n",
              "      <td>CIS</td>\n",
              "      <td>Android</td>\n",
              "    </tr>\n",
              "    <tr>\n",
              "      <th>345336</th>\n",
              "      <td>10E0DEFC1ABDBBE0</td>\n",
              "      <td>FF4315CF4AD4B100</td>\n",
              "      <td>2025-08-20</td>\n",
              "      <td>2025-08-20 19:31:54</td>\n",
              "      <td>2025-08-14</td>\n",
              "      <td>7</td>\n",
              "      <td>0</td>\n",
              "      <td>2</td>\n",
              "      <td>CIS</td>\n",
              "      <td>Android</td>\n",
              "    </tr>\n",
              "    <tr>\n",
              "      <th>377532</th>\n",
              "      <td>10E0DEFC1ABDBBE0</td>\n",
              "      <td>4045FEA0747203B4</td>\n",
              "      <td>2025-08-22</td>\n",
              "      <td>2025-08-22 17:54:13</td>\n",
              "      <td>2025-08-14</td>\n",
              "      <td>8</td>\n",
              "      <td>0</td>\n",
              "      <td>2</td>\n",
              "      <td>CIS</td>\n",
              "      <td>Android</td>\n",
              "    </tr>\n",
              "    <tr>\n",
              "      <th>403538</th>\n",
              "      <td>10E0DEFC1ABDBBE0</td>\n",
              "      <td>344B086C421C7F37</td>\n",
              "      <td>2025-08-24</td>\n",
              "      <td>2025-08-24 14:46:13</td>\n",
              "      <td>2025-08-14</td>\n",
              "      <td>9</td>\n",
              "      <td>0</td>\n",
              "      <td>2</td>\n",
              "      <td>CIS</td>\n",
              "      <td>Android</td>\n",
              "    </tr>\n",
              "    <tr>\n",
              "      <th>414743</th>\n",
              "      <td>10E0DEFC1ABDBBE0</td>\n",
              "      <td>054F20BA371E4C9D</td>\n",
              "      <td>2025-08-25</td>\n",
              "      <td>2025-08-25 18:36:41</td>\n",
              "      <td>2025-08-14</td>\n",
              "      <td>10</td>\n",
              "      <td>0</td>\n",
              "      <td>3</td>\n",
              "      <td>CIS</td>\n",
              "      <td>Android</td>\n",
              "    </tr>\n",
              "  </tbody>\n",
              "</table>\n",
              "</div>"
            ],
            "text/plain": [
              "                 user_id        session_id session_date     session_start_ts  \\\n",
              "115558  10E0DEFC1ABDBBE0  B8F0423BBFFCF5DC   2025-08-14  2025-08-14 13:57:39   \n",
              "191751  10E0DEFC1ABDBBE0  87CA2FA549473837   2025-08-15  2025-08-15 16:42:10   \n",
              "239370  10E0DEFC1ABDBBE0  4ADD8011DCDCE318   2025-08-16  2025-08-16 19:53:21   \n",
              "274629  10E0DEFC1ABDBBE0  DF0FD0E09BF1F3D7   2025-08-17  2025-08-17 15:03:43   \n",
              "302501  10E0DEFC1ABDBBE0  3C221774B4DE6885   2025-08-18  2025-08-18 17:29:14   \n",
              "325557  10E0DEFC1ABDBBE0  031BD7A67048105B   2025-08-19  2025-08-19 13:23:55   \n",
              "345336  10E0DEFC1ABDBBE0  FF4315CF4AD4B100   2025-08-20  2025-08-20 19:31:54   \n",
              "377532  10E0DEFC1ABDBBE0  4045FEA0747203B4   2025-08-22  2025-08-22 17:54:13   \n",
              "403538  10E0DEFC1ABDBBE0  344B086C421C7F37   2025-08-24  2025-08-24 14:46:13   \n",
              "414743  10E0DEFC1ABDBBE0  054F20BA371E4C9D   2025-08-25  2025-08-25 18:36:41   \n",
              "\n",
              "       install_date  session_number  registration_flag  page_counter region  \\\n",
              "115558   2025-08-14               1                  0             4    CIS   \n",
              "191751   2025-08-14               2                  0             3    CIS   \n",
              "239370   2025-08-14               3                  0             3    CIS   \n",
              "274629   2025-08-14               4                  0             1    CIS   \n",
              "302501   2025-08-14               5                  0             4    CIS   \n",
              "325557   2025-08-14               6                  0             2    CIS   \n",
              "345336   2025-08-14               7                  0             2    CIS   \n",
              "377532   2025-08-14               8                  0             2    CIS   \n",
              "403538   2025-08-14               9                  0             2    CIS   \n",
              "414743   2025-08-14              10                  0             3    CIS   \n",
              "\n",
              "         device  \n",
              "115558  Android  \n",
              "191751  Android  \n",
              "239370  Android  \n",
              "274629  Android  \n",
              "302501  Android  \n",
              "325557  Android  \n",
              "345336  Android  \n",
              "377532  Android  \n",
              "403538  Android  \n",
              "414743  Android  "
            ]
          },
          "metadata": {},
          "output_type": "display_data"
        }
      ],
      "execution_count": 2
    },
    {
      "cell_type": "markdown",
      "source": "#### 1.3. Анализ числа регистраций\nОдна из важнейших метрик продукта — число зарегистрированных пользователей. Используя исторические данные, визуализируйте, как менялось число регистраций в приложении за время его существования.\n\n- Агрегируйте исторические данные и рассчитайте число уникальных пользователей и число зарегистрированных пользователей для каждого дня наблюдения. Для простоты считайте, что у пользователя в течение дня бывает одна сессия максимум и статус регистрации в течение одного дня не может измениться.\n\n- Постройте линейные графики общего числа пользователей и общего числа зарегистрированных пользователей по дням. Отобразите их на одном графике.\n\n- Постройте отдельный линейный график доли зарегистрированных пользователей от всех пользователей по дням.\n\n- На обоих графиках должны быть заголовок, подписанные оси X и Y, сетка и легенда.",
      "metadata": {
        "id": "CmcGpJTP0eMq"
      }
    },
    {
      "cell_type": "code",
      "source": "# Преобразуем столбец с датой в формат datetime\nsessions_history['session_date'] = pd.to_datetime(sessions_history['session_date'])\n\n# Сгруппируем данные по дате и статусу регистрации\ngrouped = sessions_history.groupby([sessions_history['session_date'].dt.date, 'registration_flag'])\n\n# Подсчитаем количество уникальных пользователей для каждой группы\nunique_users_count = grouped['user_id'].nunique()\n\n# Распределиv данные по двум сериям: общее число пользователей и число зарегистрированных пользователей\naggregated_data = unique_users_count.unstack(fill_value=0)\n\n",
      "metadata": {
        "id": "tN_6Ml3EPatS"
      },
      "outputs": [],
      "execution_count": 3
    },
    {
      "cell_type": "code",
      "source": "import matplotlib.pyplot as plt\n\n# Построим графики\naggregated_data.plot(kind='line', grid=True, figsize=(12, 6))\nplt.title('Число пользователей по дням')\nplt.xlabel('Дата')\nplt.ylabel('Число пользователей')\nplt.legend(['Незарегистрированные', 'Зарегистрированные'])\nplt.show()",
      "metadata": {},
      "outputs": [
        {
          "data": {
            "image/png": "[encoded data removed]",
            "text/plain": [
              "<Figure size 864x432 with 1 Axes>"
            ]
          },
          "metadata": {
            "needs_background": "light"
          },
          "output_type": "display_data"
        }
      ],
      "execution_count": 4
    },
    {
      "cell_type": "code",
      "source": "# Рассчитываем общее число пользователей и число зарегистрированных пользователей\ntotal_users = aggregated_data.sum(axis=1)\nregistered_users = aggregated_data[1]  \n\n# Вычисляем долю зарегистрированных пользователей\nregistration_rate = registered_users / total_users\n\n# Строим график\nregistration_rate.plot(kind='line', grid=True, figsize=(12, 6))\nplt.title('Доля зарегистрированных пользователей по дням')\nplt.xlabel('Дата')\nplt.ylabel('Доля зарегистрированных пользователей')\nplt.show()",
      "metadata": {},
      "outputs": [
        {
          "data": {
            "image/png": "[encoded data removed]",
            "text/plain": [
              "<Figure size 864x432 with 1 Axes>"
            ]
          },
          "metadata": {
            "needs_background": "light"
          },
          "output_type": "display_data"
        }
      ],
      "execution_count": 5
    },
    {
      "cell_type": "markdown",
      "source": "#### 1.4. Анализ числа просмотренных страниц\nДругая важная метрика продукта — число просмотренных страниц в приложении. Чем больше страниц просмотрено, тем сильнее пользователь увлечён контентом, а значит, выше шансы, что он зарегистрируется и оплатит подписку.\n\n- Найдите количество сессий для каждого значения количества просмотренных страниц. Например: одну страницу просмотрели в 29 160 сессиях, две страницы — в 105 536 сессиях и так далее.\n\n- Постройте столбчатую диаграмму, где по оси X будет число просмотренных страниц, по оси Y — количество сессий.\n\n- На диаграмме должны быть заголовок, подписанные оси X и Y.",
      "metadata": {
        "id": "UR7D7RhF0eMr"
      }
    },
    {
      "cell_type": "code",
      "source": "# Подсчитаем количество сессий для каждого количества просмотренных страниц\npage_views_count = sessions_history.groupby('page_counter').size()\n\n# построим столбчатую диаграмму\npage_views_count.plot(kind='bar')\nplt.title('Количество сессий по числу просмотренных страниц')\nplt.xlabel('Число просмотренных страниц')\nplt.ylabel('Количество сессий')\nplt.grid(axis='y')\n\nfor i, v in enumerate(page_views_count.values):\n    plt.text(page_views_count.index[i] - 0.9, v, str(v), ha='center', va='bottom')\nplt.show()\n",
      "metadata": {
        "id": "cb6hPlVzPaSf"
      },
      "outputs": [
        {
          "data": {
            "image/png": "[encoded data removed]",
            "text/plain": [
              "<Figure size 432x288 with 1 Axes>"
            ]
          },
          "metadata": {
            "needs_background": "light"
          },
          "output_type": "display_data"
        }
      ],
      "execution_count": 6
    },
    {
      "cell_type": "markdown",
      "source": "#### 1.5. Доля пользователей, просмотревших более четырёх страниц\nПродуктовая команда продукта считает, что сессии, в рамках которых пользователь просмотрел 4 и более страниц, говорят об удовлетворённости контентом и алгоритмами рекомендаций. Этот показатель является важной прокси-метрикой для продукта.\n\n- В датафрейме `sessions_history` создайте дополнительный столбец `good_session`. В него войдёт значение `1`, если за одну сессию было просмотрено 4 и более страниц, и значение `0`, если было просмотрено меньше.\n\n- Постройте график со средним значением доли успешных сессий от всех сессий по дням за весь период наблюдения.",
      "metadata": {
        "id": "xDltSpVP0eMr"
      }
    },
    {
      "cell_type": "code",
      "source": "# создадим дополнительный столбец good_session в датафрейме sessions_history\nsessions_history['good_session'] = sessions_history['page_counter'].apply(lambda x: 1 if x >= 4 else 0)\n\n# Группируем данные по дате\ngrouped_by_date = sessions_history.groupby(sessions_history['session_date'].dt.date)['good_session'].mean()\n\n# Строим график\ngrouped_by_date.plot(kind='line')\nplt.title('Доля успешных сессий по дням')\nplt.xlabel('Дата')\nplt.ylabel('Доля успешных сессий')\nplt.grid(axis='y')\nplt.show()\n\n",
      "metadata": {
        "id": "iygaPfixPYMW"
      },
      "outputs": [
        {
          "data": {
            "image/png": "[encoded data removed]",
            "text/plain": [
              "<Figure size 432x288 with 1 Axes>"
            ]
          },
          "metadata": {
            "needs_background": "light"
          },
          "output_type": "display_data"
        }
      ],
      "execution_count": 7
    },
    {
      "cell_type": "markdown",
      "source": "### 2. Подготовка к тесту\nПри планировании теста необходимо проделать несколько важных шагов:\n\n- Сформулировать нулевую и альтернативную гипотезы\n\n- Определиться с целевой метрикой.\n\n- Рассчитать необходимый размер выборки.\n\n- Исходя из текущих значений трафика рассчитать необходимую длительность проведения теста.",
      "metadata": {
        "id": "21JcG77Y0eMt"
      }
    },
    {
      "cell_type": "markdown",
      "source": "#### 2.1 Формулировка нулевой и альтернативной гипотез\n\nПеред тем как проводить А/B-тест, необходимо сформулировать нулевую и альтернативную гипотезы. Напомним изначальное условие: команда разработчиков рекомендательных систем создала новый алгоритм, который, по их мнению, будет показывать более интересный контент для каждого пользователя.\n\nО какой метрике идёт речь? Как она будет учтена в формулировке гипотез?",
      "metadata": {
        "id": "kXdcwkjf859k"
      }
    },
    {
      "cell_type": "markdown",
      "source": "Сформулируйте нулевую и альтернативную гипотезы:\n\n\n\n\n",
      "metadata": {
        "id": "RiKI8eT49h3F"
      }
    },
    {
      "cell_type": "markdown",
      "source": "Нулевая гипотеза (H0): новый алгоритм не влияет на метрику вовлечённости пользователей ( количество просмотренных страниц), и среднее значение этой метрики остаётся неизменным по сравнению с текущим алгоритмом.\n\nАльтернативная гипотеза (H1): новый алгоритм улучшает метрику вовлечённости пользователей, и среднее значение этой метрики увеличивается по сравнению с текущим алгоритмом.\n",
      "metadata": {}
    },
    {
      "cell_type": "markdown",
      "source": "#### 2.2. Расчёт размера выборки\nВ рамках курса вы уже рассчитывали размеры выборки и  использовали для этого онлайн-калькулятор. В этом задании предлагаем воспользоваться готовым кодом и рассчитать необходимое для вашего эксперимента количество пользователей.\n\nДля этого установите в коде ниже следующие параметры:\n\n- Уровень значимости — 0.05.\n\n- Вероятность ошибки второго рода — 0.2.\n\n- Мощность теста.\n\n- Минимальный детектируемый эффект, или MDE, — 3%. Обратите внимание, что здесь нужно указать десятичную дробь, а не процент.\n\nПри расчёте размера выборки используйте метод `solve_power()` из класса `power.NormalIndPower` модуля `statsmodels.stats`.\n\nЗапустите ячейку и изучите полученное значение.",
      "metadata": {
        "id": "uzaeln270eMt"
      }
    },
    {
      "cell_type": "code",
      "source": "from statsmodels.stats.power import NormalIndPower\nfrom statsmodels.stats.proportion import proportion_effectsize\n\n# Задаём параметры\nalpha = 0.05  # Уровень значимости\nbeta = 0.2  # Ошибка второго рода, часто 1 - мощность\npower = 1 - beta  # Мощность теста\np = 0.3  # Базовый уровень доли\nmde = 0.03 * p  # Минимальный детектируемый эффект\neffect_size = proportion_effectsize(p, p + mde)\n\n# Инициализируем класс NormalIndPower\npower_analysis = NormalIndPower()\n\n# Рассчитываем размер выборки\nsample_size = power_analysis.solve_power(\n    effect_size=effect_size,\n    power=power,\n    alpha=alpha,\n    ratio=1  # Равномерное распределение выборок\n)\n\nprint(f\"Необходимый размер выборки для каждой группы: {int(sample_size)}\")\n",
      "metadata": {
        "id": "zSxJyPGPNdaI"
      },
      "outputs": [
        {
          "name": "stdout",
          "output_type": "stream",
          "text": "Необходимый размер выборки для каждой группы: 41040\n"
        }
      ],
      "execution_count": 8
    },
    {
      "cell_type": "markdown",
      "source": "#### 2.3. Расчёт длительности A/B-теста\n\nИспользуйте данные о количестве пользователей в каждой выборке и среднем количестве пользователей приложения. Рассчитайте длительность теста, разделив одно на другое.\n\n- Рассчитайте среднее количество уникальных пользователей приложения в день.\n\n- Определите длительность теста исходя из рассчитанного значения размера выборок и среднего дневного трафика приложения. Количество дней округлите в большую сторону.",
      "metadata": {
        "id": "qLEv4RoV0eMu"
      }
    },
    {
      "cell_type": "code",
      "source": "from math import ceil\n\n\n# Среднее количество пользователей приложения в день по историческим данным\ndaily_unique_users = sessions_history.groupby('session_date')['user_id'].nunique()\navg_daily_users = daily_unique_users.mean()\n\n# Рассчитываем длительность теста в днях как отношение размера выборки к среднему числу пользователей\ntest_duration = ceil((sample_size*2) / avg_daily_users)\n\n\nprint(f\"Рассчитанная длительность A/B-теста при текущем уровене трафика в {avg_daily_users} пользователей в день составит {test_duration} дней\")",
      "metadata": {
        "id": "KZDRbryDOGHa"
      },
      "outputs": [
        {
          "name": "stdout",
          "output_type": "stream",
          "text": "Рассчитанная длительность A/B-теста при текущем уровене трафика в 9907.363636363636 пользователей в день составит 9 дней\n"
        }
      ],
      "execution_count": 9
    },
    {
      "cell_type": "markdown",
      "source": "### 3. Мониторинг А/В-теста",
      "metadata": {
        "id": "ZuvtAdha0eMv"
      }
    },
    {
      "cell_type": "markdown",
      "source": "#### 3.1. Проверка распределения пользователей\n\nA/B-тест успешно запущен, и уже доступны данные за первые три дня. На этом этапе нужно убедиться, что всё идёт хорошо: пользователи разделены правильным образом, а интересующие вас метрики корректно считаются.\n\n- Считайте и сохраните в датафрейм `sessions_test_part` CSV-файл с историческими данными о сессиях пользователей `sessions_project_test_part.csv`.\n\n- Рассчитайте количество уникальных пользователей в каждой из экспериментальных групп для одного дня наблюдения.\n\n- Рассчитайте и выведите на экран процентную разницу в количестве пользователей в группах A и B. Постройте любую удобную визуализацию, на которой будет видно возможное различие двух групп.\n\nДля расчёта процентной разницы воспользуйтесь формулой:\n$$P = 100 \\cdot  \\frac{|A − B|}{A}$$",
      "metadata": {
        "id": "jq5sE3Ya0eMv"
      }
    },
    {
      "cell_type": "code",
      "source": "# Прочитаем данные из CSV-файла\nsessions_test_part = pd.read_csv('/datasets/sessions_project_test_part.csv')\n\n# Рассчитаем количество уникальных пользователей в каждой группе для одного дня:\ndaily_unique_users = sessions_test_part.groupby(['session_date', 'test_group'])['user_id'].nunique()\n\ndate_of_interest = '2025-10-14'  \nusers_per_group = daily_unique_users.loc[date_of_interest]\nprint(users_per_group)\n\n# Рассчитать процентную разницу:\ngroup_A_users = users_per_group['A']\ngroup_B_users = users_per_group['B']\nP = 100 * abs(group_A_users - group_B_users) / group_A_users\nprint(f\"Процентная разница в количестве пользователей: {P}%\")",
      "metadata": {
        "id": "G1bqIzDJOUiz"
      },
      "outputs": [
        {
          "name": "stdout",
          "output_type": "stream",
          "text": "test_group\n,A    1477\n,B    1466\n,Name: user_id, dtype: int64\n,Процентная разница в количестве пользователей: 0.7447528774542993%\n"
        }
      ],
      "execution_count": 10
    },
    {
      "cell_type": "code",
      "source": "# Визуализируем результат\nplt.figure(figsize=(10, 5))  # Устанавливаем размеры фигуры\nplt.bar(['Группа A', 'Группа B'], [group_A_users, group_B_users])\nplt.title('Количество уникальных пользователей')\nplt.xlabel('Группа')\nplt.ylabel('Количество уникальных пользователей')\nplt.grid(axis='y')\n\n# Добавляем подписи значений на столбцы\nfor i, v in enumerate([group_A_users, group_B_users]):\n    plt.text(i, v, str(v), ha='center', va='bottom')\n\nplt.show()\n",
      "metadata": {},
      "outputs": [
        {
          "data": {
            "image/png": "[encoded data removed]",
            "text/plain": [
              "<Figure size 720x360 with 1 Axes>"
            ]
          },
          "metadata": {
            "needs_background": "light"
          },
          "output_type": "display_data"
        }
      ],
      "execution_count": 11
    },
    {
      "cell_type": "markdown",
      "source": "Процентная разница в количестве пользователей между группами A и B показывает, насколько различается количество уникальных пользователей в этих группах относительно друг друга. В нашем случае разница составила примерно 0.74%.\n\nТакое небольшое различие может указывать на то, что распределение пользователей по группам произошло равномерно и случайно, без значительных смещений, что является хорошим признаком корректности проведения A/B-теста",
      "metadata": {}
    },
    {
      "cell_type": "markdown",
      "source": "#### 3.2. Проверка пересечений пользователей\nПомимо проверки равенства количества пользователей в группах, полезно убедиться в том, что группы независимы. Для этого нужно убедиться, что никто из пользователей случайно не попал в обе группы одновременно.\n\n- Рассчитайте количество пользователей, которые встречаются одновременно в группах A и B, или убедитесь, что таких нет.",
      "metadata": {
        "id": "sgpNY5bv0eM0"
      }
    },
    {
      "cell_type": "code",
      "source": "# рассчитаем количество пользователей, которые встречаются одновременно в группах A и B\ngroup_A_users = set(sessions_test_part[sessions_test_part['test_group'] == 'A']['user_id'])\ngroup_B_users = set(sessions_test_part[sessions_test_part['test_group'] == 'B']['user_id'])\n\n# Находим пересечение пользователей в обеих группах\ncommon_users = group_A_users.intersection(group_B_users)\n\n# Выводим количество общих пользователей\nprint(f\"Количество пользователей, встречающихся одновременно в группах A и B: {len(common_users)}\")\n",
      "metadata": {
        "id": "E72ozN9FOX1u"
      },
      "outputs": [
        {
          "name": "stdout",
          "output_type": "stream",
          "text": "Количество пользователей, встречающихся одновременно в группах A и B: 0\n"
        }
      ],
      "execution_count": 12
    },
    {
      "cell_type": "markdown",
      "source": "Выяснили, что пересечений между группами нет — это подтверждает независимость групп, что является важным условием для корректного проведения A/B-теста. ",
      "metadata": {}
    },
    {
      "cell_type": "markdown",
      "source": "#### 3.3. Равномерность разделения пользователей по устройствам\nПолезно также убедиться в том, что пользователи равномерно распределены по всем доступным категориальным переменным — типам устройств и регионам.\n\nПостройте две диаграммы:\n\n- доля каждого типа устройства для пользователей из группы A,\n\n- доля каждого типа устройства для пользователей из группы B.\n\nПостарайтесь добавить на диаграммы все необходимые подписи, пояснения и заголовки, которые позволят сделать вывод о том, совпадает ли распределение устройств в группах A и B.\n",
      "metadata": {
        "id": "6RvkNLrg0eM1"
      }
    },
    {
      "cell_type": "code",
      "source": "# Группируем данные по группе и типу устройства\ngroup_A_device_counts = sessions_test_part[sessions_test_part['test_group'] == 'A'].groupby('device')['user_id'].nunique()\ngroup_B_device_counts = sessions_test_part[sessions_test_part['test_group'] == 'B'].groupby('device')['user_id'].nunique()\n\n# Рассчитываем доли для каждой группы\ngroup_A_device_shares = group_A_device_counts / group_A_device_counts.sum()\ngroup_B_device_shares = group_B_device_counts / group_B_device_counts.sum()\n\n# Строим диаграммы\nfig, axes = plt.subplots(1, 2, figsize=(12, 5))\n\naxes[0].pie(group_A_device_shares, labels=group_A_device_shares.index, autopct='%1.1f%%')\naxes[0].set_title('Доля каждого типа устройства в группе A')\n\naxes[1].pie(group_B_device_shares, labels=group_B_device_shares.index, autopct='%1.1f%%')\naxes[1].set_title('Доля каждого типа устройства в группе B')\n\nplt.show()\n ",
      "metadata": {
        "id": "x_IP6PUNPWHC"
      },
      "outputs": [
        {
          "data": {
            "image/png": "[encoded data removed]",
            "text/plain": [
              "<Figure size 864x360 with 2 Axes>"
            ]
          },
          "metadata": {},
          "output_type": "display_data"
        }
      ],
      "execution_count": 13
    },
    {
      "cell_type": "markdown",
      "source": "На круговых диаграммах мы наблюдаем примерно одинаковое распределение устройств по группам. Это хороший знак, так как повышает вероятность того, что любые выявленные различия в результатах теста будут обусловлены влиянием тестируемого фактора, а не характеристиками устройств.  ",
      "metadata": {}
    },
    {
      "cell_type": "markdown",
      "source": "#### 3.4. Равномерность распределения пользователей по регионам\nТеперь убедитесь, что пользователи равномерно распределены по регионам.\n\nПостройте две диаграммы:\n\n- доля каждого региона для пользователей из группы A,\n\n- доля каждого региона для пользователей из группы B.\n\nПостарайтесь добавить на диаграммы все необходимые подписи, пояснения и заголовки, которые позволят сделать вывод о том, совпадает ли распределение регионов в группах A и B. Постарайтесь использовать другой тип диаграммы, не тот, что в прошлом задании.\n",
      "metadata": {
        "id": "gAgmP6vo0eM1"
      }
    },
    {
      "cell_type": "code",
      "source": "# Группируем данные по группе и региону, учитывая уникальных пользователей\ngroup_A_region_counts = sessions_test_part[sessions_test_part['test_group'] == 'A'].groupby('region')['user_id'].nunique()\ngroup_B_region_counts = sessions_test_part[sessions_test_part['test_group'] == 'B'].groupby('region')['user_id'].nunique()\n\n# Рассчитываем доли для каждой группы\ngroup_A_region_shares = group_A_region_counts / group_A_region_counts.sum()\ngroup_B_region_shares = group_B_region_counts / group_B_region_counts.sum()\n\n# Строим диаграммы\nfig, axes = plt.subplots(1, 2, figsize=(12, 5))\n\naxes[0].bar(group_A_region_shares.index, group_A_region_shares, color='skyblue')\naxes[0].set_title('Доля каждого региона в группе A')\naxes[0].set_ylabel('Доля пользователей')\n\nfor i, v in enumerate(group_A_region_shares): axes[0].text(i, v, f'{v:.2f}', ha='center', va='bottom')\n\naxes[1].bar(group_B_region_shares.index, group_B_region_shares, color='orange')\naxes[1].set_title('Доля каждого региона в группе B')\naxes[1].set_ylabel('Доля пользователей')\n\nfor i, v in enumerate(group_B_region_shares): axes[1].text(i, v, f'{v:.2f}', ha='center', va='bottom')\n\nplt.show()\n\n",
      "metadata": {
        "id": "3hAq-FG4OdYM"
      },
      "outputs": [
        {
          "data": {
            "image/png": "[encoded data removed]",
            "text/plain": [
              "<Figure size 864x360 with 2 Axes>"
            ]
          },
          "metadata": {
            "needs_background": "light"
          },
          "output_type": "display_data"
        }
      ],
      "execution_count": 14
    },
    {
      "cell_type": "markdown",
      "source": "#### 3.5. Вывод после проверки A/B-теста\n\nНа основе проведённого анализа A/B-теста сформулируйте и запишите свои выводы. В выводе обязательно укажите:\n\n- Было ли обнаружено различие в количестве пользователей в двух группах.\n\n- Являются ли выборки независимыми. Было ли обнаружено пересечение пользователей из тестовой и контрольной групп.\n\n- Сохраняется ли равномерное распределение пользователей тестовой и контрольной групп по категориальным переменным: устройствам и регионам.\n\nСделайте заключение: корректно ли проходит A/B-тест, или наблюдаются какие-либо нарушения.",
      "metadata": {
        "id": "X2WSZ-sDrSUi"
      }
    },
    {
      "cell_type": "markdown",
      "source": "#### Различие в количестве пользователей в двух группах: на основе рассчитанной процентной разницы было выявлено минимальное различие в количестве пользователей между группами A и B, что указывает на равномерное распределение пользователей.\n\n#### Независимость выборок: проверка пересечений показала, что пользователей, попавших одновременно в обе группы, нет. Это подтверждает независимость выборок и корректность разделения групп.\n\n#### Равномерное распределение по категориальным переменным: анализ распределения пользователей по типам устройств и регионам в группах A и B показал схожесть в распределении. Это говорит о том, что группы сопоставимы по ключевым характеристикам и факторам, что важно для достоверности результатов теста.\n\n### Заключение: на основании проведённого анализа можно сделать вывод, что A/B-тест проходит корректно. Выборок независимы, пользователи равномерно распределены по группам и ключевым категориальным переменным. Это создаёт условия для получения надёжных и интерпретируемых результатов тестирования.",
      "metadata": {
        "id": "dDELHlAcOi8d"
      }
    },
    {
      "cell_type": "markdown",
      "source": "### 4. Проверка результатов A/B-теста\n\nA/B-тест завершён, и у вас есть результаты за все дни проведения эксперимента. Необходимо убедиться в корректности теста и верно интерпретировать результаты.",
      "metadata": {
        "id": "nudRr_BQ0eM2"
      }
    },
    {
      "cell_type": "markdown",
      "source": "#### 4.1. Получение результатов теста и подсчёт основной метрики\n\n- Считайте и сохраните в датафрейм `sessions_test` CSV-файл с историческими данными о сессиях пользователей `sessions_project_test.csv`.\n\n- В датафрейме `sessions_test` создайте дополнительный столбец `good_session`. В него войдёт значение `1`, если за одну сессию было просмотрено 4 и более страниц, и значение `0`, если просмотрено меньше.",
      "metadata": {
        "id": "JVve-YBB0eM2"
      }
    },
    {
      "cell_type": "code",
      "source": "# Читаем данные из CSV-файла\nsessions_test = pd.read_csv('/datasets/sessions_project_test.csv')\n\n# Создаём дополнительный столбец good_session\nsessions_test['good_session'] = sessions_test['page_counter'].apply(lambda x: 1 if x >= 4 else 0)\n\ndisplay(sessions_test)\n",
      "metadata": {
        "id": "EqRlwMtKPTir"
      },
      "outputs": [
        {
          "data": {
            "text/html": [
              "<div>\n",
              "<style scoped>\n",
              "    .dataframe tbody tr th:only-of-type {\n",
              "        vertical-align: middle;\n",
              "    }\n",
              "\n",
              "    .dataframe tbody tr th {\n",
              "        vertical-align: top;\n",
              "    }\n",
              "\n",
              "    .dataframe thead th {\n",
              "        text-align: right;\n",
              "    }\n",
              "</style>\n",
              "<table border=\"1\" class=\"dataframe\">\n",
              "  <thead>\n",
              "    <tr style=\"text-align: right;\">\n",
              "      <th></th>\n",
              "      <th>user_id</th>\n",
              "      <th>session_id</th>\n",
              "      <th>session_date</th>\n",
              "      <th>session_start_ts</th>\n",
              "      <th>install_date</th>\n",
              "      <th>session_number</th>\n",
              "      <th>registration_flag</th>\n",
              "      <th>page_counter</th>\n",
              "      <th>region</th>\n",
              "      <th>device</th>\n",
              "      <th>test_group</th>\n",
              "      <th>good_session</th>\n",
              "    </tr>\n",
              "  </thead>\n",
              "  <tbody>\n",
              "    <tr>\n",
              "      <th>0</th>\n",
              "      <td>6DAE3B3654DA738E</td>\n",
              "      <td>C69249E26E58F6E2</td>\n",
              "      <td>2025-10-26</td>\n",
              "      <td>2025-10-26 18:15:05</td>\n",
              "      <td>2025-10-16</td>\n",
              "      <td>3</td>\n",
              "      <td>0</td>\n",
              "      <td>3</td>\n",
              "      <td>MENA</td>\n",
              "      <td>Android</td>\n",
              "      <td>A</td>\n",
              "      <td>0</td>\n",
              "    </tr>\n",
              "    <tr>\n",
              "      <th>1</th>\n",
              "      <td>0A3FE5D1DD59110A</td>\n",
              "      <td>66D66D7C9F5181B7</td>\n",
              "      <td>2025-10-21</td>\n",
              "      <td>2025-10-21 17:04:53</td>\n",
              "      <td>2025-10-15</td>\n",
              "      <td>2</td>\n",
              "      <td>1</td>\n",
              "      <td>2</td>\n",
              "      <td>CIS</td>\n",
              "      <td>Android</td>\n",
              "      <td>B</td>\n",
              "      <td>0</td>\n",
              "    </tr>\n",
              "    <tr>\n",
              "      <th>2</th>\n",
              "      <td>2041F1D7AA740B88</td>\n",
              "      <td>50DE51D42215E74C</td>\n",
              "      <td>2025-10-23</td>\n",
              "      <td>2025-10-23 17:39:29</td>\n",
              "      <td>2025-10-19</td>\n",
              "      <td>3</td>\n",
              "      <td>0</td>\n",
              "      <td>2</td>\n",
              "      <td>MENA</td>\n",
              "      <td>Android</td>\n",
              "      <td>A</td>\n",
              "      <td>0</td>\n",
              "    </tr>\n",
              "    <tr>\n",
              "      <th>3</th>\n",
              "      <td>43D7585009168086</td>\n",
              "      <td>5763C0C353C22263</td>\n",
              "      <td>2025-10-24</td>\n",
              "      <td>2025-10-24 15:01:57</td>\n",
              "      <td>2025-10-18</td>\n",
              "      <td>4</td>\n",
              "      <td>0</td>\n",
              "      <td>1</td>\n",
              "      <td>CIS</td>\n",
              "      <td>iPhone</td>\n",
              "      <td>B</td>\n",
              "      <td>0</td>\n",
              "    </tr>\n",
              "    <tr>\n",
              "      <th>4</th>\n",
              "      <td>15AD68B14D62D88C</td>\n",
              "      <td>B1AD09F93C1053BC</td>\n",
              "      <td>2025-10-17</td>\n",
              "      <td>2025-10-17 17:34:39</td>\n",
              "      <td>2025-10-17</td>\n",
              "      <td>1</td>\n",
              "      <td>0</td>\n",
              "      <td>2</td>\n",
              "      <td>MENA</td>\n",
              "      <td>Android</td>\n",
              "      <td>B</td>\n",
              "      <td>0</td>\n",
              "    </tr>\n",
              "    <tr>\n",
              "      <th>...</th>\n",
              "      <td>...</td>\n",
              "      <td>...</td>\n",
              "      <td>...</td>\n",
              "      <td>...</td>\n",
              "      <td>...</td>\n",
              "      <td>...</td>\n",
              "      <td>...</td>\n",
              "      <td>...</td>\n",
              "      <td>...</td>\n",
              "      <td>...</td>\n",
              "      <td>...</td>\n",
              "      <td>...</td>\n",
              "    </tr>\n",
              "    <tr>\n",
              "      <th>100000</th>\n",
              "      <td>CF77C27B238C1BE3</td>\n",
              "      <td>0F7BC9B33685377C</td>\n",
              "      <td>2025-10-22</td>\n",
              "      <td>2025-10-22 19:01:50</td>\n",
              "      <td>2025-10-20</td>\n",
              "      <td>3</td>\n",
              "      <td>0</td>\n",
              "      <td>3</td>\n",
              "      <td>MENA</td>\n",
              "      <td>Android</td>\n",
              "      <td>A</td>\n",
              "      <td>0</td>\n",
              "    </tr>\n",
              "    <tr>\n",
              "      <th>100001</th>\n",
              "      <td>D7ED66C581409AC2</td>\n",
              "      <td>26C4475005E70F47</td>\n",
              "      <td>2025-10-17</td>\n",
              "      <td>2025-10-17 22:12:38</td>\n",
              "      <td>2025-10-17</td>\n",
              "      <td>1</td>\n",
              "      <td>0</td>\n",
              "      <td>5</td>\n",
              "      <td>CIS</td>\n",
              "      <td>PC</td>\n",
              "      <td>A</td>\n",
              "      <td>1</td>\n",
              "    </tr>\n",
              "    <tr>\n",
              "      <th>100002</th>\n",
              "      <td>E7EA2D51238020C6</td>\n",
              "      <td>9B9CDE6A612CBD73</td>\n",
              "      <td>2025-10-24</td>\n",
              "      <td>2025-10-24 14:54:07</td>\n",
              "      <td>2025-10-14</td>\n",
              "      <td>2</td>\n",
              "      <td>0</td>\n",
              "      <td>3</td>\n",
              "      <td>MENA</td>\n",
              "      <td>PC</td>\n",
              "      <td>B</td>\n",
              "      <td>0</td>\n",
              "    </tr>\n",
              "    <tr>\n",
              "      <th>100003</th>\n",
              "      <td>8A6FEFD7F34C5DA1</td>\n",
              "      <td>37291EC27106EF9D</td>\n",
              "      <td>2025-10-18</td>\n",
              "      <td>2025-10-18 00:05:10</td>\n",
              "      <td>2025-10-14</td>\n",
              "      <td>3</td>\n",
              "      <td>0</td>\n",
              "      <td>4</td>\n",
              "      <td>EU</td>\n",
              "      <td>Android</td>\n",
              "      <td>B</td>\n",
              "      <td>1</td>\n",
              "    </tr>\n",
              "    <tr>\n",
              "      <th>100004</th>\n",
              "      <td>EE2CA3C8481A0DE8</td>\n",
              "      <td>A4C833633CD4412E</td>\n",
              "      <td>2025-10-23</td>\n",
              "      <td>2025-10-23 10:02:27</td>\n",
              "      <td>2025-10-19</td>\n",
              "      <td>2</td>\n",
              "      <td>0</td>\n",
              "      <td>2</td>\n",
              "      <td>MENA</td>\n",
              "      <td>Android</td>\n",
              "      <td>B</td>\n",
              "      <td>0</td>\n",
              "    </tr>\n",
              "  </tbody>\n",
              "</table>\n",
              "<p>100005 rows × 12 columns</p>\n",
              "</div>"
            ],
            "text/plain": [
              "                 user_id        session_id session_date     session_start_ts  \\\n",
              "0       6DAE3B3654DA738E  C69249E26E58F6E2   2025-10-26  2025-10-26 18:15:05   \n",
              "1       0A3FE5D1DD59110A  66D66D7C9F5181B7   2025-10-21  2025-10-21 17:04:53   \n",
              "2       2041F1D7AA740B88  50DE51D42215E74C   2025-10-23  2025-10-23 17:39:29   \n",
              "3       43D7585009168086  5763C0C353C22263   2025-10-24  2025-10-24 15:01:57   \n",
              "4       15AD68B14D62D88C  B1AD09F93C1053BC   2025-10-17  2025-10-17 17:34:39   \n",
              "...                  ...               ...          ...                  ...   \n",
              "100000  CF77C27B238C1BE3  0F7BC9B33685377C   2025-10-22  2025-10-22 19:01:50   \n",
              "100001  D7ED66C581409AC2  26C4475005E70F47   2025-10-17  2025-10-17 22:12:38   \n",
              "100002  E7EA2D51238020C6  9B9CDE6A612CBD73   2025-10-24  2025-10-24 14:54:07   \n",
              "100003  8A6FEFD7F34C5DA1  37291EC27106EF9D   2025-10-18  2025-10-18 00:05:10   \n",
              "100004  EE2CA3C8481A0DE8  A4C833633CD4412E   2025-10-23  2025-10-23 10:02:27   \n",
              "\n",
              "       install_date  session_number  registration_flag  page_counter region  \\\n",
              "0        2025-10-16               3                  0             3   MENA   \n",
              "1        2025-10-15               2                  1             2    CIS   \n",
              "2        2025-10-19               3                  0             2   MENA   \n",
              "3        2025-10-18               4                  0             1    CIS   \n",
              "4        2025-10-17               1                  0             2   MENA   \n",
              "...             ...             ...                ...           ...    ...   \n",
              "100000   2025-10-20               3                  0             3   MENA   \n",
              "100001   2025-10-17               1                  0             5    CIS   \n",
              "100002   2025-10-14               2                  0             3   MENA   \n",
              "100003   2025-10-14               3                  0             4     EU   \n",
              "100004   2025-10-19               2                  0             2   MENA   \n",
              "\n",
              "         device test_group  good_session  \n",
              "0       Android          A             0  \n",
              "1       Android          B             0  \n",
              "2       Android          A             0  \n",
              "3        iPhone          B             0  \n",
              "4       Android          B             0  \n",
              "...         ...        ...           ...  \n",
              "100000  Android          A             0  \n",
              "100001       PC          A             1  \n",
              "100002       PC          B             0  \n",
              "100003  Android          B             1  \n",
              "100004  Android          B             0  \n",
              "\n",
              "[100005 rows x 12 columns]"
            ]
          },
          "metadata": {},
          "output_type": "display_data"
        }
      ],
      "execution_count": 15
    },
    {
      "cell_type": "markdown",
      "source": "#### 4.2. Проверка корректности результатов теста\n\nПрежде чем приступать к анализу ключевых продуктовых метрик, необходимо убедиться, что тест проведён корректно и вы будете сравнивать две сопоставимые группы.\n\n- Рассчитайте количество уникальных сессий для каждого дня и обеих тестовых групп, используя группировку.\n\n- Проверьте, что количество уникальных дневных сессий в двух выборках не различается или различия не статистически значимыми. Используйте статистический тест, который позволит сделать вывод о равенстве средних двух выборок.\n\n- В качестве ответа выведите на экран полученное значение p-value и интерпретируйте его.",
      "metadata": {
        "id": "aeYhrMYy0eM2"
      }
    },
    {
      "cell_type": "code",
      "source": "# Группируем данные по дате и группе и подсчитываем количество уникальных сессий\ndaily_unique_sessions = sessions_test.groupby(['session_date', 'test_group'])['user_id'].nunique()\n\n# Выводим результат\nprint(daily_unique_sessions)\n",
      "metadata": {
        "id": "5NUlcltkTTSU"
      },
      "outputs": [
        {
          "name": "stdout",
          "output_type": "stream",
          "text": "session_date  test_group\n,2025-10-14    A             1477\n,              B             1466\n,2025-10-15    A             2220\n,              B             2262\n,2025-10-16    A             3255\n,              B             3214\n,2025-10-17    A             4070\n,              B             4028\n,2025-10-18    A             4999\n,              B             5038\n,2025-10-19    A             6532\n,              B             6763\n,2025-10-20    A             5822\n,              B             6076\n,2025-10-21    A             3919\n,              B             3972\n,2025-10-22    A             3062\n,              B             3093\n,2025-10-23    A             2459\n,              B             2529\n,2025-10-24    A             2082\n,              B             2064\n,2025-10-25    A             1888\n,              B             1797\n,2025-10-26    A             1658\n,              B             1678\n,2025-10-27    A             1449\n,              B             1486\n,2025-10-28    A             1258\n,              B             1270\n,2025-10-29    A             1053\n,              B             1104\n,2025-10-30    A              871\n,              B              863\n,2025-10-31    A              622\n,              B              639\n,2025-11-01    A              408\n,              B              447\n,2025-11-02    A              138\n,              B              140\n,Name: user_id, dtype: int64\n"
        }
      ],
      "execution_count": 16
    },
    {
      "cell_type": "code",
      "source": "from scipy.stats import ttest_ind\n\n# Разделяем данные по группам A и B\ngroup_A_sessions = daily_unique_sessions.loc[:, 'A'].values\ngroup_B_sessions = daily_unique_sessions.loc[:, 'B'].values\n\n# Проводим t-тест\nt_stat, p_value = ttest_ind(group_A_sessions, group_B_sessions)\n\nprint(f\"Значение p-value: {p_value}\")\n",
      "metadata": {},
      "outputs": [
        {
          "name": "stdout",
          "output_type": "stream",
          "text": "Значение p-value: 0.9530788808724806\n"
        }
      ],
      "execution_count": 17
    },
    {
      "cell_type": "markdown",
      "source": "p-value равное примерно 0.953. Это значение значительно больше общепринятого уровня значимости 0.05. Следовательно, можно сделать вывод, что различия в количестве уникальных сессий между группами A и B не являются статистически значимыми. ",
      "metadata": {}
    },
    {
      "cell_type": "markdown",
      "source": "#### 4.3. Сравнение доли успешных сессий\n\nКогда вы убедились, что количество сессий в обеих выборках не различалось, можно переходить к анализу ключевой метрики — доли успешных сессий.\n\nИспользуйте созданный на первом шаге задания столбец `good_session` и рассчитайте долю успешных сессий для выборок A и B, а также разницу в этом показателе. Полученный вывод отобразите на экране.",
      "metadata": {
        "id": "7kwRxzg70eM3"
      }
    },
    {
      "cell_type": "code",
      "source": "# Группируем данные по тестовой группе и рассчитываем долю успешных сессий\ngroup_A_success_rate = sessions_test[sessions_test['test_group'] == 'A']['good_session'].mean()\ngroup_B_success_rate = sessions_test[sessions_test['test_group'] == 'B']['good_session'].mean()\n\n# Рассчитываем разницу в доле успешных сессий между группами\ndifference_in_success_rates = group_A_success_rate - group_B_success_rate\n\nprint(f\"Доля успешных сессий в группе A: {group_A_success_rate}\")\nprint(f\"Доля успешных сессий в группе B: {group_B_success_rate}\")\nprint(f\"Разница в доле успешных сессий: {difference_in_success_rates}\")\n",
      "metadata": {
        "id": "Uku-V1CpPRCz"
      },
      "outputs": [
        {
          "name": "stdout",
          "output_type": "stream",
          "text": "Доля успешных сессий в группе A: 0.3077233557344958\n,Доля успешных сессий в группе B: 0.31828992745867524\n,Разница в доле успешных сессий: -0.010566571724179463\n"
        }
      ],
      "execution_count": 18
    },
    {
      "cell_type": "markdown",
      "source": "#### 4.4. Насколько статистически значимо изменение ключевой метрики\n\nНа предыдущем шаге вы убедились, что количество успешных сессий в тестовой выборке примерно на 1.1% выше, чем в контрольной, но делать выводы только на основе этого значения будет некорректно. Для принятия решения всегда необходимо отвечать на вопрос: является ли это изменение статистически значимым.\n\n- Используя статистический тест, рассчитайте, является ли изменение в метрике доли успешных сессий статистически значимым.\n\n- Выведите на экран полученное значение p-value и свои выводы о статистической значимости. Напомним, что уровень значимости в эксперименте был выбран на уровне 0.05.",
      "metadata": {
        "id": "9fMFuja10eM4"
      }
    },
    {
      "cell_type": "code",
      "source": "from statsmodels.stats.proportion import proportions_ztest\n\n# Подсчитываем количество успешных и общее количество сессий для каждой группы\nsuccesses_A = sessions_test[sessions_test['test_group'] == 'A']['good_session'].sum()\ntotal_A = len(sessions_test[sessions_test['test_group'] == 'A'])\n\nsuccesses_B = sessions_test[sessions_test['test_group'] == 'B']['good_session'].sum()\ntotal_B = len(sessions_test[sessions_test['test_group'] == 'B'])\n\n# Проводим z-тест\nstat, p_value = proportions_ztest([successes_A, successes_B], [total_A, total_B])\n\nprint(f\"Значение p-value: {p_value}\")\n\n",
      "metadata": {
        "id": "gFvhRGwlPLS0"
      },
      "outputs": [
        {
          "name": "stdout",
          "output_type": "stream",
          "text": "Значение p-value: 0.0003149479976072246\n"
        }
      ],
      "execution_count": 19
    },
    {
      "cell_type": "markdown",
      "source": "Мы получили значение p-value равное примерно 0.0003. Это значение значительно меньше общепринятого уровня значимости 0.05. Следовательно, можно сделать вывод, что разница в доле успешных сессий между группами A и B является статистически значимой и изменения в тестовой группе эффективны.",
      "metadata": {}
    },
    {
      "cell_type": "markdown",
      "source": "#### 4.5. Вывод по результатам A/B-эксперимента\n\nНа основе проведённого анализа результатов теста сформулируйте и запишите свои выводы для команды разработки приложения. В выводе обязательно укажите:\n\n- Характеристики проведённого эксперимента, количество задействованных пользователей и длительность эксперимента.\n\n- Повлияло ли внедрение нового алгоритма рекомендаций на рост ключевой метрики и как.\n\n- Каким получилось значение p-value для оценки статистической значимости выявленного эффекта.\n\n- Стоит ли внедрять нововведение в приложение.",
      "metadata": {
        "id": "GnJrkY9Q63zS"
      }
    },
    {
      "cell_type": "markdown",
      "source": "Вывод по результатам A/B-эксперимента: - Эксперимент проводился с [2025-10-14] по [2025-11-02], в нём участвовало [41040] человек в каждой группе. - Внедрение нового алгоритма рекомендаций привело к увеличению доли успешных сессий на [1.1]%. - Полученное значение p-value составило [0.0003], что указывает на статистическую значимость выявленного эффекта. - На основании результатов эксперимента рекомендуется внедрить новый алгоритм рекомендаций в приложение, так как он положительно влияет на ключевую метрику.",
      "metadata": {
        "id": "rri8KRIgPMrW"
      }
    }
  ]
}