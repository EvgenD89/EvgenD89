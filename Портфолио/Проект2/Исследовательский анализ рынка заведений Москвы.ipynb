{
  "metadata": {
    "kernelspec": {
      "name": "python",
      "display_name": "Python (Pyodide)",
      "language": "python"
    },
    "language_info": {
      "codemirror_mode": {
        "name": "python",
        "version": 3
      },
      "file_extension": ".py",
      "mimetype": "text/x-python",
      "name": "python",
      "nbconvert_exporter": "python",
      "pygments_lexer": "ipython3",
      "version": "3.8"
    },
    "ExecuteTimeLog": [
      {
        "duration": 389,
        "start_time": "2025-06-08T06:04:01.699Z"
      },
      {
        "duration": 77,
        "start_time": "2025-06-08T06:04:04.457Z"
      },
      {
        "duration": 21,
        "start_time": "2025-06-08T06:04:06.233Z"
      },
      {
        "duration": 10,
        "start_time": "2025-06-08T06:05:07.745Z"
      },
      {
        "duration": 22,
        "start_time": "2025-06-08T06:05:35.417Z"
      },
      {
        "duration": 10,
        "start_time": "2025-06-08T06:06:28.080Z"
      },
      {
        "duration": 63,
        "start_time": "2025-06-08T06:13:29.392Z"
      },
      {
        "duration": 57,
        "start_time": "2025-06-08T06:26:51.641Z"
      },
      {
        "duration": 415,
        "start_time": "2025-06-08T06:27:09.813Z"
      },
      {
        "duration": 74,
        "start_time": "2025-06-08T06:27:10.229Z"
      },
      {
        "duration": 2,
        "start_time": "2025-06-08T06:27:10.305Z"
      },
      {
        "duration": 21,
        "start_time": "2025-06-08T06:27:10.309Z"
      },
      {
        "duration": 9,
        "start_time": "2025-06-08T06:27:10.332Z"
      },
      {
        "duration": 21,
        "start_time": "2025-06-08T06:27:10.343Z"
      },
      {
        "duration": 9,
        "start_time": "2025-06-08T06:27:10.366Z"
      },
      {
        "duration": 88,
        "start_time": "2025-06-08T06:27:10.377Z"
      },
      {
        "duration": 0,
        "start_time": "2025-06-08T06:27:10.467Z"
      },
      {
        "duration": 0,
        "start_time": "2025-06-08T06:27:10.468Z"
      },
      {
        "duration": 0,
        "start_time": "2025-06-08T06:27:10.470Z"
      },
      {
        "duration": 0,
        "start_time": "2025-06-08T06:27:10.471Z"
      },
      {
        "duration": 0,
        "start_time": "2025-06-08T06:27:10.472Z"
      },
      {
        "duration": 0,
        "start_time": "2025-06-08T06:27:10.474Z"
      },
      {
        "duration": 381,
        "start_time": "2025-06-08T06:27:27.348Z"
      },
      {
        "duration": 75,
        "start_time": "2025-06-08T06:27:28.453Z"
      },
      {
        "duration": 20,
        "start_time": "2025-06-08T06:27:29.612Z"
      },
      {
        "duration": 12,
        "start_time": "2025-06-08T06:27:31.228Z"
      },
      {
        "duration": 22,
        "start_time": "2025-06-08T06:27:32.548Z"
      },
      {
        "duration": 10,
        "start_time": "2025-06-08T06:27:33.931Z"
      },
      {
        "duration": 67,
        "start_time": "2025-06-08T06:27:36.628Z"
      },
      {
        "duration": 12,
        "start_time": "2025-06-08T06:31:00.684Z"
      },
      {
        "duration": 11,
        "start_time": "2025-06-08T06:31:03.227Z"
      },
      {
        "duration": 414,
        "start_time": "2025-06-08T06:31:19.603Z"
      },
      {
        "duration": 76,
        "start_time": "2025-06-08T06:31:20.379Z"
      },
      {
        "duration": 21,
        "start_time": "2025-06-08T06:31:21.883Z"
      },
      {
        "duration": 11,
        "start_time": "2025-06-08T06:31:23.580Z"
      },
      {
        "duration": 23,
        "start_time": "2025-06-08T06:31:25.122Z"
      },
      {
        "duration": 11,
        "start_time": "2025-06-08T06:31:26.419Z"
      },
      {
        "duration": 13,
        "start_time": "2025-06-08T06:31:30.307Z"
      },
      {
        "duration": 3,
        "start_time": "2025-06-08T06:31:39.676Z"
      },
      {
        "duration": 4,
        "start_time": "2025-06-08T06:31:41.571Z"
      },
      {
        "duration": 4,
        "start_time": "2025-06-08T06:31:42.323Z"
      },
      {
        "duration": 8,
        "start_time": "2025-06-08T06:32:01.627Z"
      },
      {
        "duration": 3,
        "start_time": "2025-06-08T06:32:22.291Z"
      },
      {
        "duration": 70,
        "start_time": "2025-06-08T06:33:47.587Z"
      },
      {
        "duration": 15,
        "start_time": "2025-06-08T06:34:38.891Z"
      },
      {
        "duration": 394,
        "start_time": "2025-06-08T06:35:03.067Z"
      },
      {
        "duration": 76,
        "start_time": "2025-06-08T06:35:03.914Z"
      },
      {
        "duration": 21,
        "start_time": "2025-06-08T06:35:05.666Z"
      },
      {
        "duration": 14,
        "start_time": "2025-06-08T06:35:07.201Z"
      },
      {
        "duration": 33,
        "start_time": "2025-06-08T06:35:08.627Z"
      },
      {
        "duration": 14,
        "start_time": "2025-06-08T06:35:10.922Z"
      },
      {
        "duration": 13,
        "start_time": "2025-06-08T06:35:13.298Z"
      },
      {
        "duration": 4,
        "start_time": "2025-06-08T06:35:15.690Z"
      },
      {
        "duration": 4,
        "start_time": "2025-06-08T06:35:18.530Z"
      },
      {
        "duration": 6,
        "start_time": "2025-06-08T06:35:19.586Z"
      },
      {
        "duration": 10,
        "start_time": "2025-06-08T06:35:21.954Z"
      },
      {
        "duration": 5,
        "start_time": "2025-06-08T06:35:23.762Z"
      },
      {
        "duration": 5,
        "start_time": "2025-06-08T06:35:24.402Z"
      },
      {
        "duration": 5,
        "start_time": "2025-06-08T06:35:26.139Z"
      },
      {
        "duration": 406,
        "start_time": "2025-06-08T06:42:16.155Z"
      },
      {
        "duration": 79,
        "start_time": "2025-06-08T06:42:16.563Z"
      },
      {
        "duration": 3,
        "start_time": "2025-06-08T06:42:16.644Z"
      },
      {
        "duration": 33,
        "start_time": "2025-06-08T06:42:16.649Z"
      },
      {
        "duration": 11,
        "start_time": "2025-06-08T06:42:16.684Z"
      },
      {
        "duration": 113,
        "start_time": "2025-06-08T06:42:16.697Z"
      },
      {
        "duration": 9,
        "start_time": "2025-06-08T06:42:16.811Z"
      },
      {
        "duration": 10,
        "start_time": "2025-06-08T06:42:16.821Z"
      },
      {
        "duration": 3,
        "start_time": "2025-06-08T06:42:16.832Z"
      },
      {
        "duration": 4,
        "start_time": "2025-06-08T06:42:16.839Z"
      },
      {
        "duration": 83,
        "start_time": "2025-06-08T06:42:16.845Z"
      },
      {
        "duration": 8,
        "start_time": "2025-06-08T06:42:16.930Z"
      },
      {
        "duration": 3,
        "start_time": "2025-06-08T06:42:16.939Z"
      },
      {
        "duration": 74,
        "start_time": "2025-06-08T06:42:16.944Z"
      },
      {
        "duration": 0,
        "start_time": "2025-06-08T06:42:17.020Z"
      },
      {
        "duration": 0,
        "start_time": "2025-06-08T06:42:17.022Z"
      },
      {
        "duration": 0,
        "start_time": "2025-06-08T06:42:17.023Z"
      },
      {
        "duration": 0,
        "start_time": "2025-06-08T06:42:17.024Z"
      },
      {
        "duration": 0,
        "start_time": "2025-06-08T06:42:17.026Z"
      },
      {
        "duration": 62,
        "start_time": "2025-06-08T06:43:38.009Z"
      },
      {
        "duration": 3,
        "start_time": "2025-06-08T06:44:01.473Z"
      },
      {
        "duration": 76,
        "start_time": "2025-06-08T06:44:02.032Z"
      },
      {
        "duration": 19,
        "start_time": "2025-06-08T06:44:03.873Z"
      },
      {
        "duration": 9,
        "start_time": "2025-06-08T06:44:05.441Z"
      },
      {
        "duration": 24,
        "start_time": "2025-06-08T06:44:07.065Z"
      },
      {
        "duration": 10,
        "start_time": "2025-06-08T06:44:08.537Z"
      },
      {
        "duration": 11,
        "start_time": "2025-06-08T06:44:10.385Z"
      },
      {
        "duration": 4,
        "start_time": "2025-06-08T06:44:13.936Z"
      },
      {
        "duration": 3,
        "start_time": "2025-06-08T06:44:14.657Z"
      },
      {
        "duration": 4,
        "start_time": "2025-06-08T06:44:15.465Z"
      },
      {
        "duration": 9,
        "start_time": "2025-06-08T06:44:16.953Z"
      },
      {
        "duration": 3,
        "start_time": "2025-06-08T06:44:18.361Z"
      },
      {
        "duration": 70,
        "start_time": "2025-06-08T06:44:25.545Z"
      },
      {
        "duration": 3,
        "start_time": "2025-06-08T06:45:03.793Z"
      },
      {
        "duration": 391,
        "start_time": "2025-06-08T06:45:15.354Z"
      },
      {
        "duration": 77,
        "start_time": "2025-06-08T06:45:15.746Z"
      },
      {
        "duration": 3,
        "start_time": "2025-06-08T06:45:15.824Z"
      },
      {
        "duration": 39,
        "start_time": "2025-06-08T06:45:15.828Z"
      },
      {
        "duration": 9,
        "start_time": "2025-06-08T06:45:15.870Z"
      },
      {
        "duration": 21,
        "start_time": "2025-06-08T06:45:15.881Z"
      },
      {
        "duration": 8,
        "start_time": "2025-06-08T06:45:15.903Z"
      },
      {
        "duration": 27,
        "start_time": "2025-06-08T06:45:15.913Z"
      },
      {
        "duration": 4,
        "start_time": "2025-06-08T06:45:15.941Z"
      },
      {
        "duration": 3,
        "start_time": "2025-06-08T06:45:15.946Z"
      },
      {
        "duration": 14,
        "start_time": "2025-06-08T06:45:15.950Z"
      },
      {
        "duration": 8,
        "start_time": "2025-06-08T06:45:15.965Z"
      },
      {
        "duration": 2,
        "start_time": "2025-06-08T06:45:15.975Z"
      },
      {
        "duration": 3,
        "start_time": "2025-06-08T06:45:15.980Z"
      },
      {
        "duration": 67,
        "start_time": "2025-06-08T06:45:15.984Z"
      },
      {
        "duration": 0,
        "start_time": "2025-06-08T06:45:16.053Z"
      },
      {
        "duration": 0,
        "start_time": "2025-06-08T06:45:16.054Z"
      },
      {
        "duration": 0,
        "start_time": "2025-06-08T06:45:16.055Z"
      },
      {
        "duration": 0,
        "start_time": "2025-06-08T06:45:16.056Z"
      },
      {
        "duration": 3,
        "start_time": "2025-06-08T06:45:35.585Z"
      },
      {
        "duration": 86,
        "start_time": "2025-06-08T06:45:36.873Z"
      },
      {
        "duration": 72,
        "start_time": "2025-06-08T06:45:44.649Z"
      },
      {
        "duration": 21,
        "start_time": "2025-06-08T06:56:11.119Z"
      },
      {
        "duration": 14,
        "start_time": "2025-06-08T06:56:13.328Z"
      },
      {
        "duration": 358,
        "start_time": "2025-06-08T07:00:45.287Z"
      },
      {
        "duration": 76,
        "start_time": "2025-06-08T07:00:45.647Z"
      },
      {
        "duration": 2,
        "start_time": "2025-06-08T07:00:45.724Z"
      },
      {
        "duration": 27,
        "start_time": "2025-06-08T07:00:45.728Z"
      },
      {
        "duration": 11,
        "start_time": "2025-06-08T07:00:45.757Z"
      },
      {
        "duration": 22,
        "start_time": "2025-06-08T07:00:45.770Z"
      },
      {
        "duration": 10,
        "start_time": "2025-06-08T07:00:45.794Z"
      },
      {
        "duration": 38,
        "start_time": "2025-06-08T07:00:45.805Z"
      },
      {
        "duration": 3,
        "start_time": "2025-06-08T07:00:45.844Z"
      },
      {
        "duration": 4,
        "start_time": "2025-06-08T07:00:45.849Z"
      },
      {
        "duration": 7,
        "start_time": "2025-06-08T07:00:45.854Z"
      },
      {
        "duration": 8,
        "start_time": "2025-06-08T07:00:45.862Z"
      },
      {
        "duration": 78,
        "start_time": "2025-06-08T07:00:45.872Z"
      },
      {
        "duration": 0,
        "start_time": "2025-06-08T07:00:45.953Z"
      },
      {
        "duration": 0,
        "start_time": "2025-06-08T07:00:45.954Z"
      },
      {
        "duration": 0,
        "start_time": "2025-06-08T07:00:45.955Z"
      },
      {
        "duration": 363,
        "start_time": "2025-06-08T07:01:10.372Z"
      },
      {
        "duration": 75,
        "start_time": "2025-06-08T07:01:10.737Z"
      },
      {
        "duration": 15,
        "start_time": "2025-06-08T07:01:10.813Z"
      },
      {
        "duration": 20,
        "start_time": "2025-06-08T07:01:10.830Z"
      },
      {
        "duration": 11,
        "start_time": "2025-06-08T07:01:10.852Z"
      },
      {
        "duration": 22,
        "start_time": "2025-06-08T07:01:10.864Z"
      },
      {
        "duration": 10,
        "start_time": "2025-06-08T07:01:10.887Z"
      },
      {
        "duration": 10,
        "start_time": "2025-06-08T07:01:10.899Z"
      },
      {
        "duration": 63,
        "start_time": "2025-06-08T07:01:10.936Z"
      },
      {
        "duration": 4,
        "start_time": "2025-06-08T07:01:11.001Z"
      },
      {
        "duration": 6,
        "start_time": "2025-06-08T07:01:11.007Z"
      },
      {
        "duration": 11,
        "start_time": "2025-06-08T07:01:11.015Z"
      },
      {
        "duration": 5,
        "start_time": "2025-06-08T07:01:11.027Z"
      },
      {
        "duration": 4,
        "start_time": "2025-06-08T07:01:11.034Z"
      },
      {
        "duration": 71,
        "start_time": "2025-06-08T07:01:11.039Z"
      },
      {
        "duration": 45,
        "start_time": "2025-06-08T07:02:02.766Z"
      },
      {
        "duration": 6,
        "start_time": "2025-06-08T07:02:10.182Z"
      },
      {
        "duration": 3,
        "start_time": "2025-06-08T07:02:26.165Z"
      },
      {
        "duration": 2,
        "start_time": "2025-06-08T07:02:27.845Z"
      },
      {
        "duration": 7,
        "start_time": "2025-06-08T07:09:42.756Z"
      },
      {
        "duration": 368,
        "start_time": "2025-06-08T07:09:51.070Z"
      },
      {
        "duration": 77,
        "start_time": "2025-06-08T07:09:51.439Z"
      },
      {
        "duration": 3,
        "start_time": "2025-06-08T07:09:51.517Z"
      },
      {
        "duration": 50,
        "start_time": "2025-06-08T07:09:51.522Z"
      },
      {
        "duration": 11,
        "start_time": "2025-06-08T07:09:51.575Z"
      },
      {
        "duration": 24,
        "start_time": "2025-06-08T07:09:51.587Z"
      },
      {
        "duration": 8,
        "start_time": "2025-06-08T07:09:51.613Z"
      },
      {
        "duration": 21,
        "start_time": "2025-06-08T07:09:51.623Z"
      },
      {
        "duration": 2,
        "start_time": "2025-06-08T07:09:51.646Z"
      },
      {
        "duration": 6,
        "start_time": "2025-06-08T07:09:51.650Z"
      },
      {
        "duration": 7,
        "start_time": "2025-06-08T07:09:51.658Z"
      },
      {
        "duration": 18,
        "start_time": "2025-06-08T07:09:51.666Z"
      },
      {
        "duration": 4,
        "start_time": "2025-06-08T07:09:51.686Z"
      },
      {
        "duration": 10,
        "start_time": "2025-06-08T07:09:51.692Z"
      },
      {
        "duration": 18,
        "start_time": "2025-06-08T07:09:51.704Z"
      },
      {
        "duration": 66,
        "start_time": "2025-06-08T07:12:19.027Z"
      },
      {
        "duration": 363,
        "start_time": "2025-06-08T07:12:44.268Z"
      },
      {
        "duration": 77,
        "start_time": "2025-06-08T07:12:44.633Z"
      },
      {
        "duration": 2,
        "start_time": "2025-06-08T07:12:44.713Z"
      },
      {
        "duration": 24,
        "start_time": "2025-06-08T07:12:44.717Z"
      },
      {
        "duration": 10,
        "start_time": "2025-06-08T07:12:44.743Z"
      },
      {
        "duration": 38,
        "start_time": "2025-06-08T07:12:44.755Z"
      },
      {
        "duration": 9,
        "start_time": "2025-06-08T07:12:44.795Z"
      },
      {
        "duration": 14,
        "start_time": "2025-06-08T07:12:44.806Z"
      },
      {
        "duration": 4,
        "start_time": "2025-06-08T07:12:44.822Z"
      },
      {
        "duration": 15,
        "start_time": "2025-06-08T07:12:44.827Z"
      },
      {
        "duration": 5,
        "start_time": "2025-06-08T07:12:44.844Z"
      },
      {
        "duration": 9,
        "start_time": "2025-06-08T07:12:44.850Z"
      },
      {
        "duration": 4,
        "start_time": "2025-06-08T07:12:44.861Z"
      },
      {
        "duration": 6,
        "start_time": "2025-06-08T07:12:44.868Z"
      },
      {
        "duration": 18,
        "start_time": "2025-06-08T07:12:44.876Z"
      },
      {
        "duration": 97,
        "start_time": "2025-06-08T07:12:44.896Z"
      },
      {
        "duration": 368,
        "start_time": "2025-06-08T07:14:03.885Z"
      },
      {
        "duration": 86,
        "start_time": "2025-06-08T07:14:04.255Z"
      },
      {
        "duration": 2,
        "start_time": "2025-06-08T07:14:04.343Z"
      },
      {
        "duration": 27,
        "start_time": "2025-06-08T07:14:04.347Z"
      },
      {
        "duration": 10,
        "start_time": "2025-06-08T07:14:04.375Z"
      },
      {
        "duration": 30,
        "start_time": "2025-06-08T07:14:04.387Z"
      },
      {
        "duration": 8,
        "start_time": "2025-06-08T07:14:04.419Z"
      },
      {
        "duration": 14,
        "start_time": "2025-06-08T07:14:04.428Z"
      },
      {
        "duration": 21,
        "start_time": "2025-06-08T07:14:04.443Z"
      },
      {
        "duration": 10,
        "start_time": "2025-06-08T07:14:04.466Z"
      },
      {
        "duration": 10,
        "start_time": "2025-06-08T07:14:04.477Z"
      },
      {
        "duration": 28,
        "start_time": "2025-06-08T07:14:04.489Z"
      },
      {
        "duration": 5,
        "start_time": "2025-06-08T07:14:04.518Z"
      },
      {
        "duration": 86,
        "start_time": "2025-06-08T07:14:04.525Z"
      },
      {
        "duration": 17,
        "start_time": "2025-06-08T07:14:04.613Z"
      },
      {
        "duration": 15,
        "start_time": "2025-06-08T07:14:04.631Z"
      },
      {
        "duration": 1476,
        "start_time": "2025-06-08T07:16:24.979Z"
      },
      {
        "duration": 404,
        "start_time": "2025-06-08T07:17:22.234Z"
      },
      {
        "duration": 87,
        "start_time": "2025-06-08T07:17:22.640Z"
      },
      {
        "duration": 2,
        "start_time": "2025-06-08T07:17:22.729Z"
      },
      {
        "duration": 20,
        "start_time": "2025-06-08T07:17:22.733Z"
      },
      {
        "duration": 10,
        "start_time": "2025-06-08T07:17:22.755Z"
      },
      {
        "duration": 30,
        "start_time": "2025-06-08T07:17:22.766Z"
      },
      {
        "duration": 9,
        "start_time": "2025-06-08T07:17:22.798Z"
      },
      {
        "duration": 94,
        "start_time": "2025-06-08T07:17:22.809Z"
      },
      {
        "duration": 9,
        "start_time": "2025-06-08T07:17:22.905Z"
      },
      {
        "duration": 9,
        "start_time": "2025-06-08T07:17:22.915Z"
      },
      {
        "duration": 5,
        "start_time": "2025-06-08T07:17:22.925Z"
      },
      {
        "duration": 8,
        "start_time": "2025-06-08T07:17:22.931Z"
      },
      {
        "duration": 8,
        "start_time": "2025-06-08T07:17:22.940Z"
      },
      {
        "duration": 6,
        "start_time": "2025-06-08T07:17:22.950Z"
      },
      {
        "duration": 129,
        "start_time": "2025-06-08T07:17:22.957Z"
      },
      {
        "duration": 3,
        "start_time": "2025-06-08T07:17:23.088Z"
      },
      {
        "duration": 355,
        "start_time": "2025-06-08T07:17:23.093Z"
      },
      {
        "duration": 0,
        "start_time": "2025-06-08T07:17:23.450Z"
      },
      {
        "duration": 396,
        "start_time": "2025-06-08T07:18:24.330Z"
      },
      {
        "duration": 75,
        "start_time": "2025-06-08T07:18:24.727Z"
      },
      {
        "duration": 3,
        "start_time": "2025-06-08T07:18:24.803Z"
      },
      {
        "duration": 87,
        "start_time": "2025-06-08T07:18:24.807Z"
      },
      {
        "duration": 10,
        "start_time": "2025-06-08T07:18:24.896Z"
      },
      {
        "duration": 23,
        "start_time": "2025-06-08T07:18:24.907Z"
      },
      {
        "duration": 8,
        "start_time": "2025-06-08T07:18:24.931Z"
      },
      {
        "duration": 10,
        "start_time": "2025-06-08T07:18:24.940Z"
      },
      {
        "duration": 2,
        "start_time": "2025-06-08T07:18:24.952Z"
      },
      {
        "duration": 3,
        "start_time": "2025-06-08T07:18:24.956Z"
      },
      {
        "duration": 37,
        "start_time": "2025-06-08T07:18:24.960Z"
      },
      {
        "duration": 64,
        "start_time": "2025-06-08T07:18:24.998Z"
      },
      {
        "duration": 6,
        "start_time": "2025-06-08T07:18:25.063Z"
      },
      {
        "duration": 3,
        "start_time": "2025-06-08T07:18:25.071Z"
      },
      {
        "duration": 1218,
        "start_time": "2025-06-08T07:18:25.076Z"
      },
      {
        "duration": 0,
        "start_time": "2025-06-08T07:18:26.296Z"
      },
      {
        "duration": 0,
        "start_time": "2025-06-08T07:18:26.297Z"
      },
      {
        "duration": 0,
        "start_time": "2025-06-08T07:18:26.298Z"
      },
      {
        "duration": 364,
        "start_time": "2025-06-08T07:19:21.467Z"
      },
      {
        "duration": 75,
        "start_time": "2025-06-08T07:19:21.832Z"
      },
      {
        "duration": 3,
        "start_time": "2025-06-08T07:19:21.909Z"
      },
      {
        "duration": 20,
        "start_time": "2025-06-08T07:19:21.914Z"
      },
      {
        "duration": 10,
        "start_time": "2025-06-08T07:19:21.937Z"
      },
      {
        "duration": 28,
        "start_time": "2025-06-08T07:19:21.948Z"
      },
      {
        "duration": 9,
        "start_time": "2025-06-08T07:19:21.977Z"
      },
      {
        "duration": 18,
        "start_time": "2025-06-08T07:19:21.987Z"
      },
      {
        "duration": 4,
        "start_time": "2025-06-08T07:19:22.006Z"
      },
      {
        "duration": 32,
        "start_time": "2025-06-08T07:19:22.011Z"
      },
      {
        "duration": 9,
        "start_time": "2025-06-08T07:19:22.044Z"
      },
      {
        "duration": 20,
        "start_time": "2025-06-08T07:19:22.055Z"
      },
      {
        "duration": 5,
        "start_time": "2025-06-08T07:19:22.076Z"
      },
      {
        "duration": 3,
        "start_time": "2025-06-08T07:19:22.084Z"
      },
      {
        "duration": 1705,
        "start_time": "2025-06-08T07:19:22.089Z"
      },
      {
        "duration": 0,
        "start_time": "2025-06-08T07:19:23.795Z"
      },
      {
        "duration": 0,
        "start_time": "2025-06-08T07:19:23.796Z"
      },
      {
        "duration": 0,
        "start_time": "2025-06-08T07:19:23.797Z"
      },
      {
        "duration": 373,
        "start_time": "2025-06-08T07:19:58.557Z"
      },
      {
        "duration": 76,
        "start_time": "2025-06-08T07:19:58.932Z"
      },
      {
        "duration": 2,
        "start_time": "2025-06-08T07:19:59.010Z"
      },
      {
        "duration": 63,
        "start_time": "2025-06-08T07:19:59.014Z"
      },
      {
        "duration": 10,
        "start_time": "2025-06-08T07:19:59.079Z"
      },
      {
        "duration": 20,
        "start_time": "2025-06-08T07:19:59.091Z"
      },
      {
        "duration": 9,
        "start_time": "2025-06-08T07:19:59.113Z"
      },
      {
        "duration": 13,
        "start_time": "2025-06-08T07:19:59.124Z"
      },
      {
        "duration": 3,
        "start_time": "2025-06-08T07:19:59.139Z"
      },
      {
        "duration": 4,
        "start_time": "2025-06-08T07:19:59.143Z"
      },
      {
        "duration": 5,
        "start_time": "2025-06-08T07:19:59.148Z"
      },
      {
        "duration": 9,
        "start_time": "2025-06-08T07:19:59.154Z"
      },
      {
        "duration": 4,
        "start_time": "2025-06-08T07:19:59.165Z"
      },
      {
        "duration": 3,
        "start_time": "2025-06-08T07:19:59.171Z"
      },
      {
        "duration": 23,
        "start_time": "2025-06-08T07:19:59.175Z"
      },
      {
        "duration": 4,
        "start_time": "2025-06-08T07:19:59.200Z"
      },
      {
        "duration": 422,
        "start_time": "2025-06-08T07:19:59.236Z"
      },
      {
        "duration": 0,
        "start_time": "2025-06-08T07:19:59.659Z"
      },
      {
        "duration": 294,
        "start_time": "2025-06-08T07:20:33.579Z"
      },
      {
        "duration": 391,
        "start_time": "2025-06-08T07:24:01.263Z"
      },
      {
        "duration": 77,
        "start_time": "2025-06-08T07:24:01.656Z"
      },
      {
        "duration": 3,
        "start_time": "2025-06-08T07:24:01.734Z"
      },
      {
        "duration": 87,
        "start_time": "2025-06-08T07:24:01.739Z"
      },
      {
        "duration": 10,
        "start_time": "2025-06-08T07:24:01.827Z"
      },
      {
        "duration": 21,
        "start_time": "2025-06-08T07:24:01.838Z"
      },
      {
        "duration": 9,
        "start_time": "2025-06-08T07:24:01.861Z"
      },
      {
        "duration": 48,
        "start_time": "2025-06-08T07:24:01.871Z"
      },
      {
        "duration": 3,
        "start_time": "2025-06-08T07:24:01.920Z"
      },
      {
        "duration": 15,
        "start_time": "2025-06-08T07:24:01.926Z"
      },
      {
        "duration": 5,
        "start_time": "2025-06-08T07:24:01.942Z"
      },
      {
        "duration": 12,
        "start_time": "2025-06-08T07:24:01.949Z"
      },
      {
        "duration": 38,
        "start_time": "2025-06-08T07:24:01.962Z"
      },
      {
        "duration": 29,
        "start_time": "2025-06-08T07:24:02.002Z"
      },
      {
        "duration": 50,
        "start_time": "2025-06-08T07:24:02.033Z"
      },
      {
        "duration": 28,
        "start_time": "2025-06-08T07:24:02.085Z"
      },
      {
        "duration": 21,
        "start_time": "2025-06-08T07:24:02.114Z"
      },
      {
        "duration": 369,
        "start_time": "2025-06-08T07:24:02.136Z"
      },
      {
        "duration": 0,
        "start_time": "2025-06-08T07:24:02.507Z"
      },
      {
        "duration": 3,
        "start_time": "2025-06-08T07:24:37.818Z"
      },
      {
        "duration": 20,
        "start_time": "2025-06-08T07:24:41.057Z"
      },
      {
        "duration": 3,
        "start_time": "2025-06-08T07:24:42.369Z"
      },
      {
        "duration": 302,
        "start_time": "2025-06-08T07:24:43.930Z"
      },
      {
        "duration": 2,
        "start_time": "2025-06-08T07:25:22.298Z"
      },
      {
        "duration": 526,
        "start_time": "2025-06-08T07:25:23.362Z"
      },
      {
        "duration": 3,
        "start_time": "2025-06-08T07:25:34.178Z"
      },
      {
        "duration": 21,
        "start_time": "2025-06-08T07:25:35.066Z"
      },
      {
        "duration": 14,
        "start_time": "2025-06-08T07:25:36.690Z"
      },
      {
        "duration": 21,
        "start_time": "2025-06-08T07:26:47.457Z"
      },
      {
        "duration": 12,
        "start_time": "2025-06-08T07:27:15.049Z"
      },
      {
        "duration": 10,
        "start_time": "2025-06-08T07:31:08.329Z"
      },
      {
        "duration": 10,
        "start_time": "2025-06-08T07:32:15.081Z"
      },
      {
        "duration": 422,
        "start_time": "2025-06-09T04:14:25.777Z"
      },
      {
        "duration": 82,
        "start_time": "2025-06-09T04:14:26.201Z"
      },
      {
        "duration": 3,
        "start_time": "2025-06-09T04:14:26.285Z"
      },
      {
        "duration": 23,
        "start_time": "2025-06-09T04:14:26.290Z"
      },
      {
        "duration": 12,
        "start_time": "2025-06-09T04:14:26.315Z"
      },
      {
        "duration": 38,
        "start_time": "2025-06-09T04:14:26.328Z"
      },
      {
        "duration": 11,
        "start_time": "2025-06-09T04:14:26.368Z"
      },
      {
        "duration": 11,
        "start_time": "2025-06-09T04:14:26.380Z"
      },
      {
        "duration": 3,
        "start_time": "2025-06-09T04:14:26.393Z"
      },
      {
        "duration": 4,
        "start_time": "2025-06-09T04:14:26.398Z"
      },
      {
        "duration": 6,
        "start_time": "2025-06-09T04:14:26.404Z"
      },
      {
        "duration": 11,
        "start_time": "2025-06-09T04:14:26.412Z"
      },
      {
        "duration": 38,
        "start_time": "2025-06-09T04:14:26.425Z"
      },
      {
        "duration": 4,
        "start_time": "2025-06-09T04:14:26.466Z"
      },
      {
        "duration": 4,
        "start_time": "2025-06-09T04:14:26.471Z"
      },
      {
        "duration": 26,
        "start_time": "2025-06-09T04:14:26.476Z"
      },
      {
        "duration": 14,
        "start_time": "2025-06-09T04:14:26.504Z"
      },
      {
        "duration": 11,
        "start_time": "2025-06-09T04:14:26.520Z"
      },
      {
        "duration": 70,
        "start_time": "2025-06-09T17:53:47.303Z"
      },
      {
        "duration": 71,
        "start_time": "2025-06-09T18:07:17.502Z"
      },
      {
        "duration": 67,
        "start_time": "2025-06-09T18:07:32.348Z"
      },
      {
        "duration": 361,
        "start_time": "2025-06-09T18:08:50.885Z"
      },
      {
        "duration": 75,
        "start_time": "2025-06-09T18:08:51.247Z"
      },
      {
        "duration": 2,
        "start_time": "2025-06-09T18:08:51.324Z"
      },
      {
        "duration": 27,
        "start_time": "2025-06-09T18:08:51.328Z"
      },
      {
        "duration": 10,
        "start_time": "2025-06-09T18:08:51.356Z"
      },
      {
        "duration": 21,
        "start_time": "2025-06-09T18:08:51.368Z"
      },
      {
        "duration": 9,
        "start_time": "2025-06-09T18:08:51.390Z"
      },
      {
        "duration": 34,
        "start_time": "2025-06-09T18:08:51.401Z"
      },
      {
        "duration": 3,
        "start_time": "2025-06-09T18:08:51.437Z"
      },
      {
        "duration": 3,
        "start_time": "2025-06-09T18:08:51.442Z"
      },
      {
        "duration": 4,
        "start_time": "2025-06-09T18:08:51.446Z"
      },
      {
        "duration": 8,
        "start_time": "2025-06-09T18:08:51.452Z"
      },
      {
        "duration": 10,
        "start_time": "2025-06-09T18:08:51.461Z"
      },
      {
        "duration": 4,
        "start_time": "2025-06-09T18:08:51.473Z"
      },
      {
        "duration": 4,
        "start_time": "2025-06-09T18:08:51.479Z"
      },
      {
        "duration": 7,
        "start_time": "2025-06-09T18:08:51.484Z"
      },
      {
        "duration": 4,
        "start_time": "2025-06-09T18:08:51.492Z"
      },
      {
        "duration": 4,
        "start_time": "2025-06-09T18:08:51.498Z"
      },
      {
        "duration": 33,
        "start_time": "2025-06-09T18:08:51.503Z"
      },
      {
        "duration": 4,
        "start_time": "2025-06-09T18:08:51.538Z"
      },
      {
        "duration": 13,
        "start_time": "2025-06-09T18:08:51.544Z"
      },
      {
        "duration": 20,
        "start_time": "2025-06-09T18:08:51.559Z"
      },
      {
        "duration": 12,
        "start_time": "2025-06-09T18:08:51.581Z"
      },
      {
        "duration": 9,
        "start_time": "2025-06-09T18:08:51.594Z"
      },
      {
        "duration": 28,
        "start_time": "2025-06-09T18:08:51.604Z"
      },
      {
        "duration": 22,
        "start_time": "2025-06-09T18:08:51.634Z"
      },
      {
        "duration": 21,
        "start_time": "2025-06-09T18:08:51.658Z"
      },
      {
        "duration": 857,
        "start_time": "2025-06-09T18:08:51.683Z"
      },
      {
        "duration": 5,
        "start_time": "2025-06-09T18:08:52.541Z"
      },
      {
        "duration": 398,
        "start_time": "2025-06-09T18:08:52.547Z"
      },
      {
        "duration": 4,
        "start_time": "2025-06-09T18:08:52.947Z"
      },
      {
        "duration": 357,
        "start_time": "2025-06-09T18:08:52.952Z"
      },
      {
        "duration": 6,
        "start_time": "2025-06-09T18:08:53.310Z"
      },
      {
        "duration": 17,
        "start_time": "2025-06-09T18:08:53.318Z"
      },
      {
        "duration": 264,
        "start_time": "2025-06-09T18:08:53.337Z"
      },
      {
        "duration": 3,
        "start_time": "2025-06-09T18:08:53.603Z"
      },
      {
        "duration": 230,
        "start_time": "2025-06-09T18:08:53.608Z"
      },
      {
        "duration": 6,
        "start_time": "2025-06-09T18:08:53.839Z"
      },
      {
        "duration": 374,
        "start_time": "2025-06-09T18:08:53.847Z"
      },
      {
        "duration": 3,
        "start_time": "2025-06-09T18:08:54.222Z"
      },
      {
        "duration": 116,
        "start_time": "2025-06-09T18:08:54.226Z"
      },
      {
        "duration": 6,
        "start_time": "2025-06-09T18:08:54.343Z"
      },
      {
        "duration": 102,
        "start_time": "2025-06-09T18:08:54.350Z"
      },
      {
        "duration": 9,
        "start_time": "2025-06-09T18:08:54.453Z"
      },
      {
        "duration": 10,
        "start_time": "2025-06-09T18:08:54.463Z"
      },
      {
        "duration": 3,
        "start_time": "2025-06-09T18:08:54.474Z"
      },
      {
        "duration": 28,
        "start_time": "2025-06-09T18:08:54.478Z"
      },
      {
        "duration": 157,
        "start_time": "2025-06-09T18:08:54.507Z"
      },
      {
        "duration": 4,
        "start_time": "2025-06-09T18:08:54.665Z"
      },
      {
        "duration": 382,
        "start_time": "2025-06-09T18:08:54.670Z"
      },
      {
        "duration": 9,
        "start_time": "2025-06-09T18:08:55.054Z"
      },
      {
        "duration": 5,
        "start_time": "2025-06-09T18:08:55.065Z"
      },
      {
        "duration": 421,
        "start_time": "2025-06-09T18:08:55.071Z"
      },
      {
        "duration": 3,
        "start_time": "2025-06-09T18:08:55.494Z"
      },
      {
        "duration": 9,
        "start_time": "2025-06-09T18:08:55.499Z"
      },
      {
        "duration": 3,
        "start_time": "2025-06-09T18:08:55.510Z"
      },
      {
        "duration": 5,
        "start_time": "2025-06-09T18:08:55.534Z"
      },
      {
        "duration": 8,
        "start_time": "2025-06-09T18:08:55.541Z"
      },
      {
        "duration": 5,
        "start_time": "2025-06-09T18:08:55.550Z"
      },
      {
        "duration": 247,
        "start_time": "2025-06-09T18:08:55.556Z"
      },
      {
        "duration": 8,
        "start_time": "2025-06-09T18:08:55.805Z"
      },
      {
        "duration": 3,
        "start_time": "2025-06-09T18:08:55.814Z"
      },
      {
        "duration": 4,
        "start_time": "2025-06-09T18:08:55.835Z"
      },
      {
        "duration": 5,
        "start_time": "2025-06-09T18:08:55.841Z"
      },
      {
        "duration": 14,
        "start_time": "2025-06-09T18:08:55.848Z"
      },
      {
        "duration": 164,
        "start_time": "2025-06-09T18:08:55.863Z"
      },
      {
        "duration": 16,
        "start_time": "2025-06-09T18:08:56.029Z"
      },
      {
        "duration": 79,
        "start_time": "2025-06-09T18:08:56.046Z"
      },
      {
        "duration": 300,
        "start_time": "2025-06-09T18:08:56.127Z"
      },
      {
        "duration": 11,
        "start_time": "2025-06-09T18:08:56.428Z"
      },
      {
        "duration": 451,
        "start_time": "2025-06-09T18:08:56.441Z"
      },
      {
        "duration": 193,
        "start_time": "2025-06-09T18:09:42.996Z"
      },
      {
        "duration": 231,
        "start_time": "2025-06-09T18:09:52.116Z"
      },
      {
        "duration": 154,
        "start_time": "2025-06-09T18:09:58.308Z"
      },
      {
        "duration": 283,
        "start_time": "2025-06-09T18:10:05.539Z"
      },
      {
        "duration": 50,
        "start_time": "2025-06-11T16:28:23.124Z"
      },
      {
        "duration": 449,
        "start_time": "2025-06-11T16:28:32.019Z"
      },
      {
        "duration": 159,
        "start_time": "2025-06-11T16:28:32.471Z"
      },
      {
        "duration": 3,
        "start_time": "2025-06-11T16:28:32.632Z"
      },
      {
        "duration": 39,
        "start_time": "2025-06-11T16:28:32.636Z"
      },
      {
        "duration": 20,
        "start_time": "2025-06-11T16:28:32.677Z"
      },
      {
        "duration": 35,
        "start_time": "2025-06-11T16:28:32.699Z"
      },
      {
        "duration": 21,
        "start_time": "2025-06-11T16:28:32.736Z"
      },
      {
        "duration": 11,
        "start_time": "2025-06-11T16:28:32.758Z"
      },
      {
        "duration": 88,
        "start_time": "2025-06-11T16:28:32.771Z"
      },
      {
        "duration": 51,
        "start_time": "2025-06-11T16:28:32.861Z"
      },
      {
        "duration": 22,
        "start_time": "2025-06-11T16:28:32.914Z"
      },
      {
        "duration": 38,
        "start_time": "2025-06-11T16:28:32.937Z"
      },
      {
        "duration": 95,
        "start_time": "2025-06-11T16:28:32.977Z"
      },
      {
        "duration": 12,
        "start_time": "2025-06-11T16:28:33.077Z"
      },
      {
        "duration": 15,
        "start_time": "2025-06-11T16:28:33.091Z"
      },
      {
        "duration": 15,
        "start_time": "2025-06-11T16:28:33.108Z"
      },
      {
        "duration": 8,
        "start_time": "2025-06-11T16:28:33.124Z"
      },
      {
        "duration": 10,
        "start_time": "2025-06-11T16:28:33.134Z"
      },
      {
        "duration": 12,
        "start_time": "2025-06-11T16:28:33.145Z"
      },
      {
        "duration": 5,
        "start_time": "2025-06-11T16:28:33.158Z"
      },
      {
        "duration": 20,
        "start_time": "2025-06-11T16:28:33.165Z"
      },
      {
        "duration": 125,
        "start_time": "2025-06-11T16:28:33.187Z"
      },
      {
        "duration": 36,
        "start_time": "2025-06-11T16:28:33.313Z"
      },
      {
        "duration": 11,
        "start_time": "2025-06-11T16:28:33.351Z"
      },
      {
        "duration": 10,
        "start_time": "2025-06-11T16:28:33.364Z"
      },
      {
        "duration": 44,
        "start_time": "2025-06-11T16:28:33.376Z"
      },
      {
        "duration": 24,
        "start_time": "2025-06-11T16:28:33.421Z"
      },
      {
        "duration": 944,
        "start_time": "2025-06-11T16:28:33.447Z"
      },
      {
        "duration": 7,
        "start_time": "2025-06-11T16:28:34.395Z"
      },
      {
        "duration": 366,
        "start_time": "2025-06-11T16:28:34.405Z"
      },
      {
        "duration": 5,
        "start_time": "2025-06-11T16:28:34.772Z"
      },
      {
        "duration": 475,
        "start_time": "2025-06-11T16:28:34.779Z"
      },
      {
        "duration": 7,
        "start_time": "2025-06-11T16:28:35.255Z"
      },
      {
        "duration": 64,
        "start_time": "2025-06-11T16:28:35.263Z"
      },
      {
        "duration": 325,
        "start_time": "2025-06-11T16:28:35.329Z"
      },
      {
        "duration": 5,
        "start_time": "2025-06-11T16:28:35.656Z"
      },
      {
        "duration": 291,
        "start_time": "2025-06-11T16:28:35.663Z"
      },
      {
        "duration": 7,
        "start_time": "2025-06-11T16:28:35.955Z"
      },
      {
        "duration": 392,
        "start_time": "2025-06-11T16:28:35.964Z"
      },
      {
        "duration": 3,
        "start_time": "2025-06-11T16:28:36.358Z"
      },
      {
        "duration": 128,
        "start_time": "2025-06-11T16:28:36.365Z"
      },
      {
        "duration": 7,
        "start_time": "2025-06-11T16:28:36.494Z"
      },
      {
        "duration": 28,
        "start_time": "2025-06-11T16:28:36.502Z"
      },
      {
        "duration": 17,
        "start_time": "2025-06-11T16:28:36.532Z"
      },
      {
        "duration": 12,
        "start_time": "2025-06-11T16:28:36.551Z"
      },
      {
        "duration": 124,
        "start_time": "2025-06-11T16:28:36.565Z"
      },
      {
        "duration": 43,
        "start_time": "2025-06-11T16:28:36.691Z"
      },
      {
        "duration": 300,
        "start_time": "2025-06-11T16:28:36.736Z"
      },
      {
        "duration": 4,
        "start_time": "2025-06-11T16:28:37.039Z"
      },
      {
        "duration": 357,
        "start_time": "2025-06-11T16:28:37.044Z"
      },
      {
        "duration": 10,
        "start_time": "2025-06-11T16:28:37.403Z"
      },
      {
        "duration": 21,
        "start_time": "2025-06-11T16:28:37.415Z"
      },
      {
        "duration": 503,
        "start_time": "2025-06-11T16:28:37.438Z"
      },
      {
        "duration": 5,
        "start_time": "2025-06-11T16:28:37.943Z"
      },
      {
        "duration": 20,
        "start_time": "2025-06-11T16:28:37.949Z"
      },
      {
        "duration": 136,
        "start_time": "2025-06-11T16:28:37.971Z"
      },
      {
        "duration": 6,
        "start_time": "2025-06-11T16:28:38.109Z"
      },
      {
        "duration": 16,
        "start_time": "2025-06-11T16:28:38.117Z"
      },
      {
        "duration": 9,
        "start_time": "2025-06-11T16:28:38.134Z"
      },
      {
        "duration": 267,
        "start_time": "2025-06-11T16:28:38.144Z"
      },
      {
        "duration": 10,
        "start_time": "2025-06-11T16:28:38.413Z"
      },
      {
        "duration": 11,
        "start_time": "2025-06-11T16:28:38.425Z"
      },
      {
        "duration": 5,
        "start_time": "2025-06-11T16:28:38.438Z"
      },
      {
        "duration": 23,
        "start_time": "2025-06-11T16:28:38.445Z"
      },
      {
        "duration": 41,
        "start_time": "2025-06-11T16:28:38.470Z"
      },
      {
        "duration": 175,
        "start_time": "2025-06-11T16:28:38.513Z"
      },
      {
        "duration": 12,
        "start_time": "2025-06-11T16:28:38.690Z"
      },
      {
        "duration": 7,
        "start_time": "2025-06-11T16:28:38.704Z"
      },
      {
        "duration": 373,
        "start_time": "2025-06-11T16:28:38.712Z"
      },
      {
        "duration": 8,
        "start_time": "2025-06-11T16:28:39.087Z"
      },
      {
        "duration": 442,
        "start_time": "2025-06-11T16:28:39.097Z"
      },
      {
        "duration": 29,
        "start_time": "2025-06-11T16:31:16.367Z"
      },
      {
        "duration": 379,
        "start_time": "2025-06-11T16:35:10.884Z"
      },
      {
        "duration": 95,
        "start_time": "2025-06-11T16:35:11.265Z"
      },
      {
        "duration": 2,
        "start_time": "2025-06-11T16:35:11.362Z"
      },
      {
        "duration": 57,
        "start_time": "2025-06-11T16:35:11.366Z"
      },
      {
        "duration": 20,
        "start_time": "2025-06-11T16:35:11.425Z"
      },
      {
        "duration": 52,
        "start_time": "2025-06-11T16:35:11.446Z"
      },
      {
        "duration": 25,
        "start_time": "2025-06-11T16:35:11.500Z"
      },
      {
        "duration": 11,
        "start_time": "2025-06-11T16:35:11.527Z"
      },
      {
        "duration": 8,
        "start_time": "2025-06-11T16:35:11.540Z"
      },
      {
        "duration": 8,
        "start_time": "2025-06-11T16:35:11.551Z"
      },
      {
        "duration": 17,
        "start_time": "2025-06-11T16:35:11.561Z"
      },
      {
        "duration": 18,
        "start_time": "2025-06-11T16:35:11.580Z"
      },
      {
        "duration": 11,
        "start_time": "2025-06-11T16:35:11.600Z"
      },
      {
        "duration": 8,
        "start_time": "2025-06-11T16:35:11.613Z"
      },
      {
        "duration": 16,
        "start_time": "2025-06-11T16:35:11.622Z"
      },
      {
        "duration": 5,
        "start_time": "2025-06-11T16:35:11.642Z"
      },
      {
        "duration": 6,
        "start_time": "2025-06-11T16:35:11.648Z"
      },
      {
        "duration": 8,
        "start_time": "2025-06-11T16:35:11.656Z"
      },
      {
        "duration": 4,
        "start_time": "2025-06-11T16:35:11.667Z"
      },
      {
        "duration": 5,
        "start_time": "2025-06-11T16:35:11.673Z"
      },
      {
        "duration": 23,
        "start_time": "2025-06-11T16:35:11.679Z"
      },
      {
        "duration": 37,
        "start_time": "2025-06-11T16:35:11.704Z"
      },
      {
        "duration": 29,
        "start_time": "2025-06-11T16:35:11.743Z"
      },
      {
        "duration": 18,
        "start_time": "2025-06-11T16:35:11.773Z"
      },
      {
        "duration": 4,
        "start_time": "2025-06-11T16:35:11.793Z"
      },
      {
        "duration": 14,
        "start_time": "2025-06-11T16:35:11.798Z"
      },
      {
        "duration": 27,
        "start_time": "2025-06-11T16:35:11.814Z"
      },
      {
        "duration": 817,
        "start_time": "2025-06-11T16:35:11.846Z"
      },
      {
        "duration": 5,
        "start_time": "2025-06-11T16:35:12.665Z"
      },
      {
        "duration": 353,
        "start_time": "2025-06-11T16:35:12.672Z"
      },
      {
        "duration": 11,
        "start_time": "2025-06-11T16:35:13.027Z"
      },
      {
        "duration": 391,
        "start_time": "2025-06-11T16:35:13.040Z"
      },
      {
        "duration": 5,
        "start_time": "2025-06-11T16:35:13.436Z"
      },
      {
        "duration": 9,
        "start_time": "2025-06-11T16:35:13.442Z"
      },
      {
        "duration": 347,
        "start_time": "2025-06-11T16:35:13.453Z"
      },
      {
        "duration": 3,
        "start_time": "2025-06-11T16:35:13.802Z"
      },
      {
        "duration": 245,
        "start_time": "2025-06-11T16:35:13.807Z"
      },
      {
        "duration": 7,
        "start_time": "2025-06-11T16:35:14.054Z"
      },
      {
        "duration": 417,
        "start_time": "2025-06-11T16:35:14.062Z"
      },
      {
        "duration": 3,
        "start_time": "2025-06-11T16:35:14.481Z"
      },
      {
        "duration": 132,
        "start_time": "2025-06-11T16:35:14.486Z"
      },
      {
        "duration": 16,
        "start_time": "2025-06-11T16:35:14.620Z"
      },
      {
        "duration": 28,
        "start_time": "2025-06-11T16:35:14.638Z"
      },
      {
        "duration": 5,
        "start_time": "2025-06-11T16:35:14.668Z"
      },
      {
        "duration": 17,
        "start_time": "2025-06-11T16:35:14.675Z"
      },
      {
        "duration": 3,
        "start_time": "2025-06-11T16:35:14.694Z"
      },
      {
        "duration": 26,
        "start_time": "2025-06-11T16:35:14.699Z"
      },
      {
        "duration": 239,
        "start_time": "2025-06-11T16:35:14.727Z"
      },
      {
        "duration": 4,
        "start_time": "2025-06-11T16:35:14.968Z"
      },
      {
        "duration": 452,
        "start_time": "2025-06-11T16:35:14.974Z"
      },
      {
        "duration": 17,
        "start_time": "2025-06-11T16:35:15.428Z"
      },
      {
        "duration": 8,
        "start_time": "2025-06-11T16:35:15.446Z"
      },
      {
        "duration": 476,
        "start_time": "2025-06-11T16:35:15.456Z"
      },
      {
        "duration": 4,
        "start_time": "2025-06-11T16:35:15.935Z"
      },
      {
        "duration": 15,
        "start_time": "2025-06-11T16:35:15.941Z"
      },
      {
        "duration": 13,
        "start_time": "2025-06-11T16:35:15.958Z"
      },
      {
        "duration": 26,
        "start_time": "2025-06-11T16:35:15.973Z"
      },
      {
        "duration": 113,
        "start_time": "2025-06-11T16:35:16.001Z"
      },
      {
        "duration": 15,
        "start_time": "2025-06-11T16:35:16.115Z"
      },
      {
        "duration": 265,
        "start_time": "2025-06-11T16:35:16.132Z"
      },
      {
        "duration": 8,
        "start_time": "2025-06-11T16:35:16.399Z"
      },
      {
        "duration": 10,
        "start_time": "2025-06-11T16:35:16.409Z"
      },
      {
        "duration": 15,
        "start_time": "2025-06-11T16:35:16.421Z"
      },
      {
        "duration": 13,
        "start_time": "2025-06-11T16:35:16.438Z"
      },
      {
        "duration": 11,
        "start_time": "2025-06-11T16:35:16.453Z"
      },
      {
        "duration": 229,
        "start_time": "2025-06-11T16:35:16.466Z"
      },
      {
        "duration": 13,
        "start_time": "2025-06-11T16:35:16.697Z"
      },
      {
        "duration": 7,
        "start_time": "2025-06-11T16:35:16.712Z"
      },
      {
        "duration": 335,
        "start_time": "2025-06-11T16:35:16.721Z"
      },
      {
        "duration": 8,
        "start_time": "2025-06-11T16:35:17.058Z"
      },
      {
        "duration": 424,
        "start_time": "2025-06-11T16:35:17.068Z"
      },
      {
        "duration": 49,
        "start_time": "2025-06-11T17:07:30.984Z"
      },
      {
        "duration": 6,
        "start_time": "2025-06-11T17:07:36.614Z"
      },
      {
        "duration": 416,
        "start_time": "2025-06-11T17:07:42.284Z"
      },
      {
        "duration": 80,
        "start_time": "2025-06-11T17:07:42.702Z"
      },
      {
        "duration": 2,
        "start_time": "2025-06-11T17:07:42.784Z"
      },
      {
        "duration": 25,
        "start_time": "2025-06-11T17:07:42.788Z"
      },
      {
        "duration": 10,
        "start_time": "2025-06-11T17:07:42.815Z"
      },
      {
        "duration": 23,
        "start_time": "2025-06-11T17:07:42.827Z"
      },
      {
        "duration": 30,
        "start_time": "2025-06-11T17:07:42.852Z"
      },
      {
        "duration": 21,
        "start_time": "2025-06-11T17:07:42.883Z"
      },
      {
        "duration": 3,
        "start_time": "2025-06-11T17:07:42.906Z"
      },
      {
        "duration": 3,
        "start_time": "2025-06-11T17:07:42.913Z"
      },
      {
        "duration": 4,
        "start_time": "2025-06-11T17:07:42.918Z"
      },
      {
        "duration": 9,
        "start_time": "2025-06-11T17:07:42.924Z"
      },
      {
        "duration": 6,
        "start_time": "2025-06-11T17:07:42.935Z"
      },
      {
        "duration": 35,
        "start_time": "2025-06-11T17:07:42.942Z"
      },
      {
        "duration": 136,
        "start_time": "2025-06-11T17:07:42.979Z"
      },
      {
        "duration": 7,
        "start_time": "2025-06-11T17:07:43.116Z"
      },
      {
        "duration": 6,
        "start_time": "2025-06-11T17:07:43.125Z"
      },
      {
        "duration": 7,
        "start_time": "2025-06-11T17:07:43.132Z"
      },
      {
        "duration": 12,
        "start_time": "2025-06-11T17:07:43.140Z"
      },
      {
        "duration": 7,
        "start_time": "2025-06-11T17:07:43.153Z"
      },
      {
        "duration": 9,
        "start_time": "2025-06-11T17:07:43.161Z"
      },
      {
        "duration": 155,
        "start_time": "2025-06-11T17:07:43.172Z"
      },
      {
        "duration": 27,
        "start_time": "2025-06-11T17:07:43.329Z"
      },
      {
        "duration": 11,
        "start_time": "2025-06-11T17:07:43.358Z"
      },
      {
        "duration": 4,
        "start_time": "2025-06-11T17:07:43.371Z"
      },
      {
        "duration": 14,
        "start_time": "2025-06-11T17:07:43.376Z"
      },
      {
        "duration": 14,
        "start_time": "2025-06-11T17:07:43.391Z"
      },
      {
        "duration": 888,
        "start_time": "2025-06-11T17:07:43.409Z"
      },
      {
        "duration": 5,
        "start_time": "2025-06-11T17:07:44.298Z"
      },
      {
        "duration": 383,
        "start_time": "2025-06-11T17:07:44.304Z"
      },
      {
        "duration": 5,
        "start_time": "2025-06-11T17:07:44.688Z"
      },
      {
        "duration": 370,
        "start_time": "2025-06-11T17:07:44.694Z"
      },
      {
        "duration": 10,
        "start_time": "2025-06-11T17:07:45.066Z"
      },
      {
        "duration": 57,
        "start_time": "2025-06-11T17:07:45.078Z"
      },
      {
        "duration": 312,
        "start_time": "2025-06-11T17:07:45.137Z"
      },
      {
        "duration": 4,
        "start_time": "2025-06-11T17:07:45.450Z"
      },
      {
        "duration": 233,
        "start_time": "2025-06-11T17:07:45.456Z"
      },
      {
        "duration": 7,
        "start_time": "2025-06-11T17:07:45.690Z"
      },
      {
        "duration": 400,
        "start_time": "2025-06-11T17:07:45.698Z"
      },
      {
        "duration": 3,
        "start_time": "2025-06-11T17:07:46.099Z"
      },
      {
        "duration": 130,
        "start_time": "2025-06-11T17:07:46.104Z"
      },
      {
        "duration": 6,
        "start_time": "2025-06-11T17:07:46.236Z"
      },
      {
        "duration": 73,
        "start_time": "2025-06-11T17:07:46.244Z"
      },
      {
        "duration": 9,
        "start_time": "2025-06-11T17:07:46.319Z"
      },
      {
        "duration": 9,
        "start_time": "2025-06-11T17:07:46.330Z"
      },
      {
        "duration": 4,
        "start_time": "2025-06-11T17:07:46.341Z"
      },
      {
        "duration": 27,
        "start_time": "2025-06-11T17:07:46.347Z"
      },
      {
        "duration": 314,
        "start_time": "2025-06-11T17:07:46.376Z"
      },
      {
        "duration": 3,
        "start_time": "2025-06-11T17:07:46.692Z"
      },
      {
        "duration": 356,
        "start_time": "2025-06-11T17:07:46.697Z"
      },
      {
        "duration": 21,
        "start_time": "2025-06-11T17:07:47.055Z"
      },
      {
        "duration": 62,
        "start_time": "2025-06-11T17:07:47.078Z"
      },
      {
        "duration": 483,
        "start_time": "2025-06-11T17:07:47.142Z"
      },
      {
        "duration": 3,
        "start_time": "2025-06-11T17:07:47.626Z"
      },
      {
        "duration": 10,
        "start_time": "2025-06-11T17:07:47.631Z"
      },
      {
        "duration": 3,
        "start_time": "2025-06-11T17:07:47.643Z"
      },
      {
        "duration": 11,
        "start_time": "2025-06-11T17:07:47.647Z"
      },
      {
        "duration": 21,
        "start_time": "2025-06-11T17:07:47.659Z"
      },
      {
        "duration": 23,
        "start_time": "2025-06-11T17:07:47.681Z"
      },
      {
        "duration": 253,
        "start_time": "2025-06-11T17:07:47.705Z"
      },
      {
        "duration": 16,
        "start_time": "2025-06-11T17:07:47.960Z"
      },
      {
        "duration": 15,
        "start_time": "2025-06-11T17:07:47.978Z"
      },
      {
        "duration": 18,
        "start_time": "2025-06-11T17:07:47.994Z"
      },
      {
        "duration": 8,
        "start_time": "2025-06-11T17:07:48.014Z"
      },
      {
        "duration": 27,
        "start_time": "2025-06-11T17:07:48.023Z"
      },
      {
        "duration": 180,
        "start_time": "2025-06-11T17:07:48.051Z"
      },
      {
        "duration": 14,
        "start_time": "2025-06-11T17:07:48.233Z"
      },
      {
        "duration": 91,
        "start_time": "2025-06-11T17:07:48.249Z"
      },
      {
        "duration": 323,
        "start_time": "2025-06-11T17:07:48.341Z"
      },
      {
        "duration": 16,
        "start_time": "2025-06-11T17:07:48.665Z"
      },
      {
        "duration": 451,
        "start_time": "2025-06-11T17:07:48.682Z"
      },
      {
        "duration": 422,
        "start_time": "2025-06-11T17:26:40.244Z"
      },
      {
        "duration": 79,
        "start_time": "2025-06-11T17:26:40.668Z"
      },
      {
        "duration": 2,
        "start_time": "2025-06-11T17:26:40.749Z"
      },
      {
        "duration": 26,
        "start_time": "2025-06-11T17:26:40.753Z"
      },
      {
        "duration": 12,
        "start_time": "2025-06-11T17:26:40.781Z"
      },
      {
        "duration": 32,
        "start_time": "2025-06-11T17:26:40.795Z"
      },
      {
        "duration": 26,
        "start_time": "2025-06-11T17:26:40.828Z"
      },
      {
        "duration": 20,
        "start_time": "2025-06-11T17:26:40.856Z"
      },
      {
        "duration": 3,
        "start_time": "2025-06-11T17:26:40.878Z"
      },
      {
        "duration": 8,
        "start_time": "2025-06-11T17:26:40.884Z"
      },
      {
        "duration": 8,
        "start_time": "2025-06-11T17:26:40.893Z"
      },
      {
        "duration": 13,
        "start_time": "2025-06-11T17:26:40.902Z"
      },
      {
        "duration": 3,
        "start_time": "2025-06-11T17:26:40.917Z"
      },
      {
        "duration": 22,
        "start_time": "2025-06-11T17:26:40.921Z"
      },
      {
        "duration": 45,
        "start_time": "2025-06-11T17:26:40.944Z"
      },
      {
        "duration": 10,
        "start_time": "2025-06-11T17:26:40.990Z"
      },
      {
        "duration": 3,
        "start_time": "2025-06-11T17:26:41.002Z"
      },
      {
        "duration": 15,
        "start_time": "2025-06-11T17:26:41.007Z"
      },
      {
        "duration": 17,
        "start_time": "2025-06-11T17:26:41.024Z"
      },
      {
        "duration": 734,
        "start_time": "2025-06-11T17:26:41.076Z"
      },
      {
        "duration": 5,
        "start_time": "2025-06-11T17:26:41.812Z"
      },
      {
        "duration": 373,
        "start_time": "2025-06-11T17:26:41.820Z"
      },
      {
        "duration": 4,
        "start_time": "2025-06-11T17:26:42.195Z"
      },
      {
        "duration": 397,
        "start_time": "2025-06-11T17:26:42.201Z"
      },
      {
        "duration": 6,
        "start_time": "2025-06-11T17:26:42.599Z"
      },
      {
        "duration": 8,
        "start_time": "2025-06-11T17:26:42.607Z"
      },
      {
        "duration": 345,
        "start_time": "2025-06-11T17:26:42.617Z"
      },
      {
        "duration": 3,
        "start_time": "2025-06-11T17:26:42.976Z"
      },
      {
        "duration": 216,
        "start_time": "2025-06-11T17:26:42.981Z"
      },
      {
        "duration": 6,
        "start_time": "2025-06-11T17:26:43.199Z"
      },
      {
        "duration": 381,
        "start_time": "2025-06-11T17:26:43.206Z"
      },
      {
        "duration": 3,
        "start_time": "2025-06-11T17:26:43.588Z"
      },
      {
        "duration": 118,
        "start_time": "2025-06-11T17:26:43.592Z"
      },
      {
        "duration": 7,
        "start_time": "2025-06-11T17:26:43.712Z"
      },
      {
        "duration": 3,
        "start_time": "2025-06-11T17:26:43.720Z"
      },
      {
        "duration": 5,
        "start_time": "2025-06-11T17:26:43.724Z"
      },
      {
        "duration": 6,
        "start_time": "2025-06-11T17:26:43.730Z"
      },
      {
        "duration": 38,
        "start_time": "2025-06-11T17:26:43.738Z"
      },
      {
        "duration": 25,
        "start_time": "2025-06-11T17:26:43.778Z"
      },
      {
        "duration": 248,
        "start_time": "2025-06-11T17:26:43.804Z"
      },
      {
        "duration": 3,
        "start_time": "2025-06-11T17:26:44.054Z"
      },
      {
        "duration": 438,
        "start_time": "2025-06-11T17:26:44.058Z"
      },
      {
        "duration": 15,
        "start_time": "2025-06-11T17:26:44.497Z"
      },
      {
        "duration": 4,
        "start_time": "2025-06-11T17:26:44.514Z"
      },
      {
        "duration": 528,
        "start_time": "2025-06-11T17:26:44.519Z"
      },
      {
        "duration": 3,
        "start_time": "2025-06-11T17:26:45.049Z"
      },
      {
        "duration": 45,
        "start_time": "2025-06-11T17:26:45.053Z"
      },
      {
        "duration": 100,
        "start_time": "2025-06-11T17:26:45.100Z"
      },
      {
        "duration": 27,
        "start_time": "2025-06-11T17:26:45.202Z"
      },
      {
        "duration": 8,
        "start_time": "2025-06-11T17:26:45.231Z"
      },
      {
        "duration": 150,
        "start_time": "2025-06-11T17:26:45.241Z"
      },
      {
        "duration": 255,
        "start_time": "2025-06-11T17:26:45.393Z"
      },
      {
        "duration": 7,
        "start_time": "2025-06-11T17:26:45.649Z"
      },
      {
        "duration": 29,
        "start_time": "2025-06-11T17:26:45.657Z"
      },
      {
        "duration": 12,
        "start_time": "2025-06-11T17:26:45.688Z"
      },
      {
        "duration": 9,
        "start_time": "2025-06-11T17:26:45.701Z"
      },
      {
        "duration": 17,
        "start_time": "2025-06-11T17:26:45.711Z"
      },
      {
        "duration": 181,
        "start_time": "2025-06-11T17:26:45.730Z"
      },
      {
        "duration": 14,
        "start_time": "2025-06-11T17:26:45.912Z"
      },
      {
        "duration": 14,
        "start_time": "2025-06-11T17:26:45.928Z"
      },
      {
        "duration": 335,
        "start_time": "2025-06-11T17:26:45.943Z"
      },
      {
        "duration": 7,
        "start_time": "2025-06-11T17:26:46.280Z"
      },
      {
        "duration": 533,
        "start_time": "2025-06-11T17:26:46.289Z"
      },
      {
        "duration": 399,
        "start_time": "2025-06-11T17:27:33.296Z"
      },
      {
        "duration": 80,
        "start_time": "2025-06-11T17:27:33.696Z"
      },
      {
        "duration": 3,
        "start_time": "2025-06-11T17:27:33.777Z"
      },
      {
        "duration": 34,
        "start_time": "2025-06-11T17:27:33.782Z"
      },
      {
        "duration": 11,
        "start_time": "2025-06-11T17:27:33.817Z"
      },
      {
        "duration": 34,
        "start_time": "2025-06-11T17:27:33.829Z"
      },
      {
        "duration": 17,
        "start_time": "2025-06-11T17:27:33.865Z"
      },
      {
        "duration": 10,
        "start_time": "2025-06-11T17:27:33.884Z"
      },
      {
        "duration": 3,
        "start_time": "2025-06-11T17:27:33.896Z"
      },
      {
        "duration": 16,
        "start_time": "2025-06-11T17:27:33.901Z"
      },
      {
        "duration": 23,
        "start_time": "2025-06-11T17:27:33.919Z"
      },
      {
        "duration": 33,
        "start_time": "2025-06-11T17:27:33.943Z"
      },
      {
        "duration": 5,
        "start_time": "2025-06-11T17:27:33.978Z"
      },
      {
        "duration": 23,
        "start_time": "2025-06-11T17:27:33.985Z"
      },
      {
        "duration": 13,
        "start_time": "2025-06-11T17:27:34.010Z"
      },
      {
        "duration": 18,
        "start_time": "2025-06-11T17:27:34.025Z"
      },
      {
        "duration": 21,
        "start_time": "2025-06-11T17:27:34.045Z"
      },
      {
        "duration": 30,
        "start_time": "2025-06-11T17:27:34.067Z"
      },
      {
        "duration": 32,
        "start_time": "2025-06-11T17:27:34.099Z"
      },
      {
        "duration": 769,
        "start_time": "2025-06-11T17:27:34.132Z"
      },
      {
        "duration": 5,
        "start_time": "2025-06-11T17:27:34.902Z"
      },
      {
        "duration": 328,
        "start_time": "2025-06-11T17:27:34.908Z"
      },
      {
        "duration": 5,
        "start_time": "2025-06-11T17:27:35.237Z"
      },
      {
        "duration": 469,
        "start_time": "2025-06-11T17:27:35.243Z"
      },
      {
        "duration": 5,
        "start_time": "2025-06-11T17:27:35.714Z"
      },
      {
        "duration": 52,
        "start_time": "2025-06-11T17:27:35.721Z"
      },
      {
        "duration": 347,
        "start_time": "2025-06-11T17:27:35.775Z"
      },
      {
        "duration": 4,
        "start_time": "2025-06-11T17:27:36.126Z"
      },
      {
        "duration": 254,
        "start_time": "2025-06-11T17:27:36.131Z"
      },
      {
        "duration": 7,
        "start_time": "2025-06-11T17:27:36.386Z"
      },
      {
        "duration": 373,
        "start_time": "2025-06-11T17:27:36.395Z"
      },
      {
        "duration": 7,
        "start_time": "2025-06-11T17:27:36.770Z"
      },
      {
        "duration": 120,
        "start_time": "2025-06-11T17:27:36.778Z"
      },
      {
        "duration": 5,
        "start_time": "2025-06-11T17:27:36.900Z"
      },
      {
        "duration": 15,
        "start_time": "2025-06-11T17:27:36.907Z"
      },
      {
        "duration": 40,
        "start_time": "2025-06-11T17:27:36.924Z"
      },
      {
        "duration": 9,
        "start_time": "2025-06-11T17:27:36.965Z"
      },
      {
        "duration": 10,
        "start_time": "2025-06-11T17:27:36.975Z"
      },
      {
        "duration": 28,
        "start_time": "2025-06-11T17:27:36.986Z"
      },
      {
        "duration": 235,
        "start_time": "2025-06-11T17:27:37.015Z"
      },
      {
        "duration": 4,
        "start_time": "2025-06-11T17:27:37.251Z"
      },
      {
        "duration": 529,
        "start_time": "2025-06-11T17:27:37.256Z"
      },
      {
        "duration": 18,
        "start_time": "2025-06-11T17:27:37.787Z"
      },
      {
        "duration": 4,
        "start_time": "2025-06-11T17:27:37.807Z"
      },
      {
        "duration": 490,
        "start_time": "2025-06-11T17:27:37.813Z"
      },
      {
        "duration": 2,
        "start_time": "2025-06-11T17:27:38.305Z"
      },
      {
        "duration": 99,
        "start_time": "2025-06-11T17:27:38.309Z"
      },
      {
        "duration": 4,
        "start_time": "2025-06-11T17:27:38.410Z"
      },
      {
        "duration": 22,
        "start_time": "2025-06-11T17:27:38.416Z"
      },
      {
        "duration": 47,
        "start_time": "2025-06-11T17:27:38.440Z"
      },
      {
        "duration": 7,
        "start_time": "2025-06-11T17:27:38.488Z"
      },
      {
        "duration": 247,
        "start_time": "2025-06-11T17:27:38.497Z"
      },
      {
        "duration": 9,
        "start_time": "2025-06-11T17:27:38.746Z"
      },
      {
        "duration": 20,
        "start_time": "2025-06-11T17:27:38.757Z"
      },
      {
        "duration": 13,
        "start_time": "2025-06-11T17:27:38.779Z"
      },
      {
        "duration": 26,
        "start_time": "2025-06-11T17:27:38.793Z"
      },
      {
        "duration": 15,
        "start_time": "2025-06-11T17:27:38.820Z"
      },
      {
        "duration": 184,
        "start_time": "2025-06-11T17:27:38.836Z"
      },
      {
        "duration": 16,
        "start_time": "2025-06-11T17:27:39.022Z"
      },
      {
        "duration": 149,
        "start_time": "2025-06-11T17:27:39.040Z"
      },
      {
        "duration": 359,
        "start_time": "2025-06-11T17:27:39.191Z"
      },
      {
        "duration": 9,
        "start_time": "2025-06-11T17:27:39.552Z"
      },
      {
        "duration": 447,
        "start_time": "2025-06-11T17:27:39.563Z"
      },
      {
        "duration": 3,
        "start_time": "2025-06-11T17:36:00.328Z"
      },
      {
        "duration": 5,
        "start_time": "2025-06-11T17:36:01.825Z"
      },
      {
        "duration": 6,
        "start_time": "2025-06-11T17:36:17.432Z"
      },
      {
        "duration": 5,
        "start_time": "2025-06-11T17:36:45.632Z"
      },
      {
        "duration": 8,
        "start_time": "2025-06-11T17:37:01.336Z"
      },
      {
        "duration": 99,
        "start_time": "2025-06-11T17:43:04.168Z"
      },
      {
        "duration": 6,
        "start_time": "2025-06-11T17:43:05.879Z"
      },
      {
        "duration": 14,
        "start_time": "2025-06-11T17:43:06.959Z"
      },
      {
        "duration": 14,
        "start_time": "2025-06-11T17:43:11.072Z"
      },
      {
        "duration": 399,
        "start_time": "2025-06-11T17:44:12.680Z"
      },
      {
        "duration": 80,
        "start_time": "2025-06-11T17:44:13.456Z"
      },
      {
        "duration": 20,
        "start_time": "2025-06-11T17:44:14.376Z"
      },
      {
        "duration": 10,
        "start_time": "2025-06-11T17:44:16.192Z"
      },
      {
        "duration": 23,
        "start_time": "2025-06-11T17:44:18.256Z"
      },
      {
        "duration": 11,
        "start_time": "2025-06-11T17:44:19.343Z"
      },
      {
        "duration": 11,
        "start_time": "2025-06-11T17:44:21.264Z"
      },
      {
        "duration": 4,
        "start_time": "2025-06-11T17:44:22.687Z"
      },
      {
        "duration": 3,
        "start_time": "2025-06-11T17:44:23.359Z"
      },
      {
        "duration": 5,
        "start_time": "2025-06-11T17:44:24.031Z"
      },
      {
        "duration": 8,
        "start_time": "2025-06-11T17:44:26.359Z"
      },
      {
        "duration": 3,
        "start_time": "2025-06-11T17:44:30.111Z"
      },
      {
        "duration": 4,
        "start_time": "2025-06-11T17:44:31.328Z"
      },
      {
        "duration": 5,
        "start_time": "2025-06-11T17:44:32.784Z"
      },
      {
        "duration": 8,
        "start_time": "2025-06-11T17:44:33.696Z"
      },
      {
        "duration": 4,
        "start_time": "2025-06-11T17:44:36.816Z"
      },
      {
        "duration": 67,
        "start_time": "2025-06-11T17:44:37.615Z"
      },
      {
        "duration": 4,
        "start_time": "2025-06-11T17:45:59.559Z"
      },
      {
        "duration": 4,
        "start_time": "2025-06-11T17:46:02.271Z"
      },
      {
        "duration": 12,
        "start_time": "2025-06-11T17:46:04.359Z"
      },
      {
        "duration": 12,
        "start_time": "2025-06-11T17:46:26.136Z"
      },
      {
        "duration": 11,
        "start_time": "2025-06-11T17:46:33.463Z"
      },
      {
        "duration": 12,
        "start_time": "2025-06-11T17:46:35.432Z"
      },
      {
        "duration": 5,
        "start_time": "2025-06-11T17:46:56.287Z"
      },
      {
        "duration": 4,
        "start_time": "2025-06-11T17:47:32.743Z"
      },
      {
        "duration": 10,
        "start_time": "2025-06-11T17:47:52.465Z"
      },
      {
        "duration": 4,
        "start_time": "2025-06-11T17:47:54.495Z"
      },
      {
        "duration": 5,
        "start_time": "2025-06-11T17:47:56.670Z"
      },
      {
        "duration": 14,
        "start_time": "2025-06-11T17:47:57.431Z"
      },
      {
        "duration": 6,
        "start_time": "2025-06-11T17:48:17.006Z"
      },
      {
        "duration": 10,
        "start_time": "2025-06-11T17:48:19.199Z"
      },
      {
        "duration": 5,
        "start_time": "2025-06-11T17:48:29.615Z"
      },
      {
        "duration": 9,
        "start_time": "2025-06-11T17:48:30.799Z"
      },
      {
        "duration": 64,
        "start_time": "2025-06-11T17:54:59.367Z"
      },
      {
        "duration": 61,
        "start_time": "2025-06-11T17:55:13.030Z"
      },
      {
        "duration": 79,
        "start_time": "2025-06-11T17:56:13.262Z"
      },
      {
        "duration": 92,
        "start_time": "2025-06-11T17:56:50.102Z"
      },
      {
        "duration": 14,
        "start_time": "2025-06-11T17:56:56.501Z"
      },
      {
        "duration": 6,
        "start_time": "2025-06-11T18:06:12.020Z"
      },
      {
        "duration": 3,
        "start_time": "2025-06-11T18:06:28.355Z"
      },
      {
        "duration": 7,
        "start_time": "2025-06-11T18:08:05.811Z"
      },
      {
        "duration": 3,
        "start_time": "2025-06-11T18:09:35.139Z"
      },
      {
        "duration": 1166,
        "start_time": "2025-06-11T18:09:36.780Z"
      },
      {
        "duration": 0,
        "start_time": "2025-06-11T18:09:37.947Z"
      },
      {
        "duration": 4,
        "start_time": "2025-06-11T18:11:14.867Z"
      },
      {
        "duration": 5,
        "start_time": "2025-06-11T18:11:15.770Z"
      },
      {
        "duration": 1323,
        "start_time": "2025-06-11T18:11:35.515Z"
      },
      {
        "duration": 1237,
        "start_time": "2025-06-11T18:11:38.506Z"
      },
      {
        "duration": 3,
        "start_time": "2025-06-11T18:11:54.362Z"
      },
      {
        "duration": 89,
        "start_time": "2025-06-11T18:11:55.626Z"
      },
      {
        "duration": 19,
        "start_time": "2025-06-11T18:11:56.818Z"
      },
      {
        "duration": 10,
        "start_time": "2025-06-11T18:11:58.018Z"
      },
      {
        "duration": 23,
        "start_time": "2025-06-11T18:11:59.794Z"
      },
      {
        "duration": 10,
        "start_time": "2025-06-11T18:12:00.914Z"
      },
      {
        "duration": 11,
        "start_time": "2025-06-11T18:12:08.738Z"
      },
      {
        "duration": 4,
        "start_time": "2025-06-11T18:12:09.874Z"
      },
      {
        "duration": 3,
        "start_time": "2025-06-11T18:12:10.426Z"
      },
      {
        "duration": 4,
        "start_time": "2025-06-11T18:12:11.242Z"
      },
      {
        "duration": 9,
        "start_time": "2025-06-11T18:12:12.738Z"
      },
      {
        "duration": 3,
        "start_time": "2025-06-11T18:12:15.066Z"
      },
      {
        "duration": 3,
        "start_time": "2025-06-11T18:12:15.970Z"
      },
      {
        "duration": 3,
        "start_time": "2025-06-11T18:13:22.834Z"
      },
      {
        "duration": 3,
        "start_time": "2025-06-11T18:13:23.498Z"
      },
      {
        "duration": 1328,
        "start_time": "2025-06-11T18:13:25.322Z"
      },
      {
        "duration": 3,
        "start_time": "2025-06-11T18:35:17.298Z"
      },
      {
        "duration": 4,
        "start_time": "2025-06-11T18:35:19.274Z"
      },
      {
        "duration": 1201,
        "start_time": "2025-06-11T18:37:09.812Z"
      },
      {
        "duration": 11,
        "start_time": "2025-06-11T18:37:39.186Z"
      },
      {
        "duration": 11,
        "start_time": "2025-06-11T18:38:28.425Z"
      },
      {
        "duration": 2,
        "start_time": "2025-06-11T18:40:12.573Z"
      },
      {
        "duration": 1161,
        "start_time": "2025-06-11T18:40:23.861Z"
      },
      {
        "duration": 3,
        "start_time": "2025-06-11T18:41:13.819Z"
      },
      {
        "duration": 3,
        "start_time": "2025-06-11T18:41:16.322Z"
      },
      {
        "duration": 10,
        "start_time": "2025-06-11T18:41:39.549Z"
      },
      {
        "duration": 4,
        "start_time": "2025-06-11T18:41:41.026Z"
      },
      {
        "duration": 3,
        "start_time": "2025-06-11T18:41:41.890Z"
      },
      {
        "duration": 9,
        "start_time": "2025-06-11T18:41:44.755Z"
      },
      {
        "duration": 3,
        "start_time": "2025-06-11T18:41:47.343Z"
      },
      {
        "duration": 24,
        "start_time": "2025-06-11T18:41:50.299Z"
      },
      {
        "duration": 3,
        "start_time": "2025-06-11T18:41:53.640Z"
      },
      {
        "duration": 422,
        "start_time": "2025-06-11T18:41:59.168Z"
      },
      {
        "duration": 79,
        "start_time": "2025-06-11T18:41:59.592Z"
      },
      {
        "duration": 3,
        "start_time": "2025-06-11T18:41:59.673Z"
      },
      {
        "duration": 31,
        "start_time": "2025-06-11T18:41:59.678Z"
      },
      {
        "duration": 11,
        "start_time": "2025-06-11T18:41:59.711Z"
      },
      {
        "duration": 23,
        "start_time": "2025-06-11T18:41:59.723Z"
      },
      {
        "duration": 34,
        "start_time": "2025-06-11T18:41:59.748Z"
      },
      {
        "duration": 11,
        "start_time": "2025-06-11T18:41:59.783Z"
      },
      {
        "duration": 4,
        "start_time": "2025-06-11T18:41:59.795Z"
      },
      {
        "duration": 4,
        "start_time": "2025-06-11T18:41:59.800Z"
      },
      {
        "duration": 6,
        "start_time": "2025-06-11T18:41:59.805Z"
      },
      {
        "duration": 8,
        "start_time": "2025-06-11T18:41:59.812Z"
      },
      {
        "duration": 4,
        "start_time": "2025-06-11T18:41:59.821Z"
      },
      {
        "duration": 63,
        "start_time": "2025-06-11T18:41:59.829Z"
      },
      {
        "duration": 13,
        "start_time": "2025-06-11T18:41:59.894Z"
      },
      {
        "duration": 9,
        "start_time": "2025-06-11T18:41:59.909Z"
      },
      {
        "duration": 7,
        "start_time": "2025-06-11T18:41:59.919Z"
      },
      {
        "duration": 5,
        "start_time": "2025-06-11T18:41:59.927Z"
      },
      {
        "duration": 796,
        "start_time": "2025-06-11T18:41:59.934Z"
      },
      {
        "duration": 4,
        "start_time": "2025-06-11T18:42:00.732Z"
      },
      {
        "duration": 303,
        "start_time": "2025-06-11T18:42:00.737Z"
      },
      {
        "duration": 4,
        "start_time": "2025-06-11T18:42:01.042Z"
      },
      {
        "duration": 342,
        "start_time": "2025-06-11T18:42:01.048Z"
      },
      {
        "duration": 5,
        "start_time": "2025-06-11T18:42:01.392Z"
      },
      {
        "duration": 64,
        "start_time": "2025-06-11T18:42:01.399Z"
      },
      {
        "duration": 499,
        "start_time": "2025-06-11T18:42:01.465Z"
      },
      {
        "duration": 12,
        "start_time": "2025-06-11T18:42:01.966Z"
      },
      {
        "duration": 235,
        "start_time": "2025-06-11T18:42:01.980Z"
      },
      {
        "duration": 8,
        "start_time": "2025-06-11T18:42:02.217Z"
      },
      {
        "duration": 373,
        "start_time": "2025-06-11T18:42:02.227Z"
      },
      {
        "duration": 3,
        "start_time": "2025-06-11T18:42:02.602Z"
      },
      {
        "duration": 175,
        "start_time": "2025-06-11T18:42:02.606Z"
      },
      {
        "duration": 7,
        "start_time": "2025-06-11T18:42:02.782Z"
      },
      {
        "duration": 10,
        "start_time": "2025-06-11T18:42:02.790Z"
      },
      {
        "duration": 9,
        "start_time": "2025-06-11T18:42:02.802Z"
      },
      {
        "duration": 13,
        "start_time": "2025-06-11T18:42:02.812Z"
      },
      {
        "duration": 15,
        "start_time": "2025-06-11T18:42:02.826Z"
      },
      {
        "duration": 46,
        "start_time": "2025-06-11T18:42:02.843Z"
      },
      {
        "duration": 198,
        "start_time": "2025-06-11T18:42:02.890Z"
      },
      {
        "duration": 4,
        "start_time": "2025-06-11T18:42:03.090Z"
      },
      {
        "duration": 420,
        "start_time": "2025-06-11T18:42:03.097Z"
      },
      {
        "duration": 11,
        "start_time": "2025-06-11T18:42:03.519Z"
      },
      {
        "duration": 48,
        "start_time": "2025-06-11T18:42:03.531Z"
      },
      {
        "duration": 486,
        "start_time": "2025-06-11T18:42:03.581Z"
      },
      {
        "duration": 3,
        "start_time": "2025-06-11T18:42:04.075Z"
      },
      {
        "duration": 9,
        "start_time": "2025-06-11T18:42:04.079Z"
      },
      {
        "duration": 15,
        "start_time": "2025-06-11T18:42:04.090Z"
      },
      {
        "duration": 13,
        "start_time": "2025-06-11T18:42:04.107Z"
      },
      {
        "duration": 40,
        "start_time": "2025-06-11T18:42:04.122Z"
      },
      {
        "duration": 15,
        "start_time": "2025-06-11T18:42:04.164Z"
      },
      {
        "duration": 239,
        "start_time": "2025-06-11T18:42:04.181Z"
      },
      {
        "duration": 8,
        "start_time": "2025-06-11T18:42:04.421Z"
      },
      {
        "duration": 13,
        "start_time": "2025-06-11T18:42:04.430Z"
      },
      {
        "duration": 13,
        "start_time": "2025-06-11T18:42:04.445Z"
      },
      {
        "duration": 21,
        "start_time": "2025-06-11T18:42:04.459Z"
      },
      {
        "duration": 7,
        "start_time": "2025-06-11T18:42:04.481Z"
      },
      {
        "duration": 169,
        "start_time": "2025-06-11T18:42:04.489Z"
      },
      {
        "duration": 20,
        "start_time": "2025-06-11T18:42:04.660Z"
      },
      {
        "duration": 9,
        "start_time": "2025-06-11T18:42:04.681Z"
      },
      {
        "duration": 386,
        "start_time": "2025-06-11T18:42:04.691Z"
      },
      {
        "duration": 8,
        "start_time": "2025-06-11T18:42:05.079Z"
      },
      {
        "duration": 412,
        "start_time": "2025-06-11T18:42:05.088Z"
      },
      {
        "duration": 3,
        "start_time": "2025-06-11T18:43:05.600Z"
      },
      {
        "duration": 23,
        "start_time": "2025-06-11T18:43:08.311Z"
      },
      {
        "duration": 10,
        "start_time": "2025-06-11T18:43:10.597Z"
      },
      {
        "duration": 10,
        "start_time": "2025-06-11T18:43:13.628Z"
      },
      {
        "duration": 8,
        "start_time": "2025-06-11T18:45:33.067Z"
      },
      {
        "duration": 11,
        "start_time": "2025-06-11T18:46:08.493Z"
      },
      {
        "duration": 4,
        "start_time": "2025-06-11T18:46:11.451Z"
      },
      {
        "duration": 30,
        "start_time": "2025-06-11T18:46:12.400Z"
      },
      {
        "duration": 22,
        "start_time": "2025-06-11T18:46:13.087Z"
      },
      {
        "duration": 2,
        "start_time": "2025-06-11T18:49:33.487Z"
      },
      {
        "duration": 11,
        "start_time": "2025-06-11T18:49:34.549Z"
      },
      {
        "duration": 8,
        "start_time": "2025-06-11T18:49:35.804Z"
      },
      {
        "duration": 11,
        "start_time": "2025-06-11T18:50:07.152Z"
      },
      {
        "duration": 3,
        "start_time": "2025-06-11T18:57:03.532Z"
      },
      {
        "duration": 11,
        "start_time": "2025-06-11T18:57:04.624Z"
      },
      {
        "duration": 13,
        "start_time": "2025-06-11T18:57:05.642Z"
      },
      {
        "duration": 363,
        "start_time": "2025-06-11T18:59:19.225Z"
      },
      {
        "duration": 324,
        "start_time": "2025-06-11T18:59:45.674Z"
      },
      {
        "duration": 349,
        "start_time": "2025-06-11T18:59:50.827Z"
      },
      {
        "duration": 5,
        "start_time": "2025-06-11T19:10:51.034Z"
      },
      {
        "duration": 4,
        "start_time": "2025-06-11T19:10:52.111Z"
      },
      {
        "duration": 5,
        "start_time": "2025-06-11T19:10:53.007Z"
      },
      {
        "duration": 5,
        "start_time": "2025-06-11T19:10:53.831Z"
      },
      {
        "duration": 5,
        "start_time": "2025-06-11T19:14:08.398Z"
      },
      {
        "duration": 5,
        "start_time": "2025-06-11T19:14:08.950Z"
      },
      {
        "duration": 4,
        "start_time": "2025-06-11T19:14:28.153Z"
      },
      {
        "duration": 5,
        "start_time": "2025-06-11T19:14:48.637Z"
      },
      {
        "duration": 315,
        "start_time": "2025-06-11T19:14:59.184Z"
      },
      {
        "duration": 3,
        "start_time": "2025-06-11T19:19:03.957Z"
      },
      {
        "duration": 103,
        "start_time": "2025-06-11T19:19:04.609Z"
      },
      {
        "duration": 8,
        "start_time": "2025-06-11T19:19:06.669Z"
      },
      {
        "duration": 2,
        "start_time": "2025-06-11T19:19:07.570Z"
      },
      {
        "duration": 3,
        "start_time": "2025-06-11T19:19:09.343Z"
      },
      {
        "duration": 4,
        "start_time": "2025-06-11T19:19:10.621Z"
      },
      {
        "duration": 292,
        "start_time": "2025-06-11T19:19:12.328Z"
      },
      {
        "duration": 12,
        "start_time": "2025-06-11T19:23:20.664Z"
      },
      {
        "duration": 49,
        "start_time": "2025-06-11T19:23:30.479Z"
      },
      {
        "duration": 2761,
        "start_time": "2025-06-11T19:23:46.485Z"
      },
      {
        "duration": 12,
        "start_time": "2025-06-11T19:24:29.613Z"
      },
      {
        "duration": 49,
        "start_time": "2025-06-11T19:24:30.781Z"
      },
      {
        "duration": 12,
        "start_time": "2025-06-11T19:24:38.149Z"
      },
      {
        "duration": 45,
        "start_time": "2025-06-11T19:24:39.161Z"
      },
      {
        "duration": 2643,
        "start_time": "2025-06-11T19:24:40.261Z"
      },
      {
        "duration": 441,
        "start_time": "2025-06-11T19:25:35.661Z"
      },
      {
        "duration": 81,
        "start_time": "2025-06-11T19:25:36.104Z"
      },
      {
        "duration": 3,
        "start_time": "2025-06-11T19:25:36.186Z"
      },
      {
        "duration": 51,
        "start_time": "2025-06-11T19:25:36.190Z"
      },
      {
        "duration": 11,
        "start_time": "2025-06-11T19:25:36.244Z"
      },
      {
        "duration": 23,
        "start_time": "2025-06-11T19:25:36.257Z"
      },
      {
        "duration": 10,
        "start_time": "2025-06-11T19:25:36.282Z"
      },
      {
        "duration": 11,
        "start_time": "2025-06-11T19:25:36.294Z"
      },
      {
        "duration": 3,
        "start_time": "2025-06-11T19:25:36.307Z"
      },
      {
        "duration": 5,
        "start_time": "2025-06-11T19:25:36.311Z"
      },
      {
        "duration": 13,
        "start_time": "2025-06-11T19:25:36.317Z"
      },
      {
        "duration": 32,
        "start_time": "2025-06-11T19:25:36.332Z"
      },
      {
        "duration": 17,
        "start_time": "2025-06-11T19:25:36.366Z"
      },
      {
        "duration": 374,
        "start_time": "2025-06-11T19:25:36.387Z"
      },
      {
        "duration": 0,
        "start_time": "2025-06-11T19:25:36.764Z"
      },
      {
        "duration": 0,
        "start_time": "2025-06-11T19:25:36.765Z"
      },
      {
        "duration": 0,
        "start_time": "2025-06-11T19:25:36.767Z"
      },
      {
        "duration": 0,
        "start_time": "2025-06-11T19:25:36.768Z"
      },
      {
        "duration": 0,
        "start_time": "2025-06-11T19:25:36.769Z"
      },
      {
        "duration": 0,
        "start_time": "2025-06-11T19:25:36.770Z"
      },
      {
        "duration": 0,
        "start_time": "2025-06-11T19:25:36.771Z"
      },
      {
        "duration": 0,
        "start_time": "2025-06-11T19:25:36.772Z"
      },
      {
        "duration": 0,
        "start_time": "2025-06-11T19:25:36.773Z"
      },
      {
        "duration": 0,
        "start_time": "2025-06-11T19:25:36.774Z"
      },
      {
        "duration": 0,
        "start_time": "2025-06-11T19:25:36.775Z"
      },
      {
        "duration": 0,
        "start_time": "2025-06-11T19:25:36.777Z"
      },
      {
        "duration": 0,
        "start_time": "2025-06-11T19:25:36.778Z"
      },
      {
        "duration": 0,
        "start_time": "2025-06-11T19:25:36.779Z"
      },
      {
        "duration": 0,
        "start_time": "2025-06-11T19:25:36.780Z"
      },
      {
        "duration": 0,
        "start_time": "2025-06-11T19:25:36.781Z"
      },
      {
        "duration": 0,
        "start_time": "2025-06-11T19:25:36.782Z"
      },
      {
        "duration": 0,
        "start_time": "2025-06-11T19:25:36.783Z"
      },
      {
        "duration": 0,
        "start_time": "2025-06-11T19:25:36.784Z"
      },
      {
        "duration": 0,
        "start_time": "2025-06-11T19:25:36.786Z"
      },
      {
        "duration": 0,
        "start_time": "2025-06-11T19:25:36.787Z"
      },
      {
        "duration": 0,
        "start_time": "2025-06-11T19:25:36.788Z"
      },
      {
        "duration": 0,
        "start_time": "2025-06-11T19:25:36.789Z"
      },
      {
        "duration": 0,
        "start_time": "2025-06-11T19:25:36.790Z"
      },
      {
        "duration": 0,
        "start_time": "2025-06-11T19:25:36.791Z"
      },
      {
        "duration": 0,
        "start_time": "2025-06-11T19:25:36.792Z"
      },
      {
        "duration": 0,
        "start_time": "2025-06-11T19:25:36.793Z"
      },
      {
        "duration": 0,
        "start_time": "2025-06-11T19:25:36.794Z"
      },
      {
        "duration": 0,
        "start_time": "2025-06-11T19:25:36.795Z"
      },
      {
        "duration": 0,
        "start_time": "2025-06-11T19:25:36.796Z"
      },
      {
        "duration": 0,
        "start_time": "2025-06-11T19:25:36.797Z"
      },
      {
        "duration": 0,
        "start_time": "2025-06-11T19:25:36.798Z"
      },
      {
        "duration": 0,
        "start_time": "2025-06-11T19:25:36.799Z"
      },
      {
        "duration": 0,
        "start_time": "2025-06-11T19:25:36.800Z"
      },
      {
        "duration": 0,
        "start_time": "2025-06-11T19:25:36.801Z"
      },
      {
        "duration": 0,
        "start_time": "2025-06-11T19:25:36.802Z"
      },
      {
        "duration": 0,
        "start_time": "2025-06-11T19:25:36.803Z"
      },
      {
        "duration": 0,
        "start_time": "2025-06-11T19:25:36.804Z"
      },
      {
        "duration": 0,
        "start_time": "2025-06-11T19:25:36.805Z"
      },
      {
        "duration": 0,
        "start_time": "2025-06-11T19:25:36.806Z"
      },
      {
        "duration": 0,
        "start_time": "2025-06-11T19:25:36.807Z"
      },
      {
        "duration": 0,
        "start_time": "2025-06-11T19:25:36.808Z"
      },
      {
        "duration": 0,
        "start_time": "2025-06-11T19:25:36.809Z"
      },
      {
        "duration": 0,
        "start_time": "2025-06-11T19:25:36.810Z"
      },
      {
        "duration": 0,
        "start_time": "2025-06-11T19:25:36.811Z"
      },
      {
        "duration": 0,
        "start_time": "2025-06-11T19:25:36.812Z"
      },
      {
        "duration": 0,
        "start_time": "2025-06-11T19:25:36.813Z"
      },
      {
        "duration": 0,
        "start_time": "2025-06-11T19:25:36.814Z"
      },
      {
        "duration": 0,
        "start_time": "2025-06-11T19:25:36.815Z"
      },
      {
        "duration": 0,
        "start_time": "2025-06-11T19:25:36.877Z"
      },
      {
        "duration": 3,
        "start_time": "2025-06-11T19:26:08.730Z"
      },
      {
        "duration": 77,
        "start_time": "2025-06-11T19:26:09.616Z"
      },
      {
        "duration": 20,
        "start_time": "2025-06-11T19:26:10.901Z"
      },
      {
        "duration": 10,
        "start_time": "2025-06-11T19:26:12.756Z"
      },
      {
        "duration": 22,
        "start_time": "2025-06-11T19:26:15.380Z"
      },
      {
        "duration": 11,
        "start_time": "2025-06-11T19:26:20.219Z"
      },
      {
        "duration": 4,
        "start_time": "2025-06-11T19:26:21.250Z"
      },
      {
        "duration": 3,
        "start_time": "2025-06-11T19:26:21.774Z"
      },
      {
        "duration": 4,
        "start_time": "2025-06-11T19:26:23.266Z"
      },
      {
        "duration": 9,
        "start_time": "2025-06-11T19:26:24.762Z"
      },
      {
        "duration": 3,
        "start_time": "2025-06-11T19:26:26.803Z"
      },
      {
        "duration": 339,
        "start_time": "2025-06-11T19:26:27.899Z"
      },
      {
        "duration": 3,
        "start_time": "2025-06-11T19:27:35.380Z"
      },
      {
        "duration": 3,
        "start_time": "2025-06-11T19:27:50.015Z"
      },
      {
        "duration": 30,
        "start_time": "2025-06-11T19:27:51.599Z"
      },
      {
        "duration": 16,
        "start_time": "2025-06-11T19:27:53.717Z"
      },
      {
        "duration": 3,
        "start_time": "2025-06-11T19:28:03.058Z"
      },
      {
        "duration": 11,
        "start_time": "2025-06-11T19:28:04.043Z"
      },
      {
        "duration": 17,
        "start_time": "2025-06-11T19:28:04.971Z"
      },
      {
        "duration": 779,
        "start_time": "2025-06-11T19:29:06.982Z"
      },
      {
        "duration": 13,
        "start_time": "2025-06-11T19:29:07.763Z"
      },
      {
        "duration": 312,
        "start_time": "2025-06-11T19:29:08.686Z"
      },
      {
        "duration": 4,
        "start_time": "2025-06-11T19:29:20.200Z"
      },
      {
        "duration": 341,
        "start_time": "2025-06-11T19:29:20.826Z"
      },
      {
        "duration": 5,
        "start_time": "2025-06-11T19:29:26.930Z"
      },
      {
        "duration": 5,
        "start_time": "2025-06-11T19:29:27.545Z"
      },
      {
        "duration": 5,
        "start_time": "2025-06-11T19:29:28.622Z"
      },
      {
        "duration": 4,
        "start_time": "2025-06-11T19:29:29.252Z"
      },
      {
        "duration": 358,
        "start_time": "2025-06-11T19:29:30.498Z"
      },
      {
        "duration": 3,
        "start_time": "2025-06-11T19:29:46.274Z"
      },
      {
        "duration": 212,
        "start_time": "2025-06-11T19:29:47.378Z"
      },
      {
        "duration": 6,
        "start_time": "2025-06-11T19:29:50.306Z"
      },
      {
        "duration": 348,
        "start_time": "2025-06-11T19:29:50.999Z"
      },
      {
        "duration": 3,
        "start_time": "2025-06-11T19:31:15.604Z"
      },
      {
        "duration": 105,
        "start_time": "2025-06-11T19:31:16.200Z"
      },
      {
        "duration": 7,
        "start_time": "2025-06-11T19:31:18.290Z"
      },
      {
        "duration": 3,
        "start_time": "2025-06-11T19:31:19.132Z"
      },
      {
        "duration": 3,
        "start_time": "2025-06-11T19:31:20.210Z"
      },
      {
        "duration": 5,
        "start_time": "2025-06-11T19:31:22.718Z"
      },
      {
        "duration": 3,
        "start_time": "2025-06-11T19:31:24.362Z"
      },
      {
        "duration": 25,
        "start_time": "2025-06-11T19:31:25.345Z"
      },
      {
        "duration": 207,
        "start_time": "2025-06-11T19:32:01.602Z"
      },
      {
        "duration": 5,
        "start_time": "2025-06-11T19:32:47.866Z"
      },
      {
        "duration": 399,
        "start_time": "2025-06-11T19:32:48.698Z"
      },
      {
        "duration": 12,
        "start_time": "2025-06-11T19:34:29.410Z"
      },
      {
        "duration": 45,
        "start_time": "2025-06-11T19:34:30.308Z"
      },
      {
        "duration": 2715,
        "start_time": "2025-06-11T19:34:30.842Z"
      },
      {
        "duration": 2,
        "start_time": "2025-06-11T19:34:45.934Z"
      },
      {
        "duration": 12,
        "start_time": "2025-06-11T19:34:47.161Z"
      },
      {
        "duration": 42,
        "start_time": "2025-06-11T19:34:53.138Z"
      },
      {
        "duration": 2,
        "start_time": "2025-06-11T19:34:55.564Z"
      },
      {
        "duration": 14,
        "start_time": "2025-06-11T19:34:56.483Z"
      },
      {
        "duration": 9,
        "start_time": "2025-06-11T19:34:57.166Z"
      },
      {
        "duration": 5,
        "start_time": "2025-06-11T19:39:24.745Z"
      },
      {
        "duration": 3,
        "start_time": "2025-06-11T19:39:25.617Z"
      },
      {
        "duration": 294,
        "start_time": "2025-06-11T19:40:16.240Z"
      },
      {
        "duration": 16,
        "start_time": "2025-06-11T19:42:25.045Z"
      },
      {
        "duration": 4,
        "start_time": "2025-06-11T19:42:37.361Z"
      },
      {
        "duration": 13,
        "start_time": "2025-06-11T19:43:12.929Z"
      },
      {
        "duration": 7,
        "start_time": "2025-06-11T19:43:16.657Z"
      },
      {
        "duration": 125,
        "start_time": "2025-06-11T19:43:17.333Z"
      },
      {
        "duration": 14,
        "start_time": "2025-06-11T19:43:31.640Z"
      },
      {
        "duration": 4,
        "start_time": "2025-06-11T19:43:33.401Z"
      },
      {
        "duration": 4,
        "start_time": "2025-06-11T19:43:34.815Z"
      },
      {
        "duration": 125,
        "start_time": "2025-06-11T19:43:36.218Z"
      },
      {
        "duration": 389,
        "start_time": "2025-06-11T19:43:44.505Z"
      },
      {
        "duration": 78,
        "start_time": "2025-06-11T19:43:44.896Z"
      },
      {
        "duration": 2,
        "start_time": "2025-06-11T19:43:44.976Z"
      },
      {
        "duration": 22,
        "start_time": "2025-06-11T19:43:44.980Z"
      },
      {
        "duration": 12,
        "start_time": "2025-06-11T19:43:45.004Z"
      },
      {
        "duration": 68,
        "start_time": "2025-06-11T19:43:45.018Z"
      },
      {
        "duration": 31,
        "start_time": "2025-06-11T19:43:45.088Z"
      },
      {
        "duration": 51,
        "start_time": "2025-06-11T19:43:45.121Z"
      },
      {
        "duration": 3,
        "start_time": "2025-06-11T19:43:45.174Z"
      },
      {
        "duration": 31,
        "start_time": "2025-06-11T19:43:45.180Z"
      },
      {
        "duration": 34,
        "start_time": "2025-06-11T19:43:45.213Z"
      },
      {
        "duration": 37,
        "start_time": "2025-06-11T19:43:45.249Z"
      },
      {
        "duration": 29,
        "start_time": "2025-06-11T19:43:45.288Z"
      },
      {
        "duration": 55,
        "start_time": "2025-06-11T19:43:45.318Z"
      },
      {
        "duration": 24,
        "start_time": "2025-06-11T19:43:45.375Z"
      },
      {
        "duration": 3,
        "start_time": "2025-06-11T19:43:45.400Z"
      },
      {
        "duration": 54,
        "start_time": "2025-06-11T19:43:45.405Z"
      },
      {
        "duration": 19,
        "start_time": "2025-06-11T19:43:45.461Z"
      },
      {
        "duration": 721,
        "start_time": "2025-06-11T19:43:45.482Z"
      },
      {
        "duration": 5,
        "start_time": "2025-06-11T19:43:46.204Z"
      },
      {
        "duration": 318,
        "start_time": "2025-06-11T19:43:46.211Z"
      },
      {
        "duration": 5,
        "start_time": "2025-06-11T19:43:46.531Z"
      },
      {
        "duration": 344,
        "start_time": "2025-06-11T19:43:46.538Z"
      },
      {
        "duration": 5,
        "start_time": "2025-06-11T19:43:46.884Z"
      },
      {
        "duration": 27,
        "start_time": "2025-06-11T19:43:46.890Z"
      },
      {
        "duration": 9,
        "start_time": "2025-06-11T19:43:46.919Z"
      },
      {
        "duration": 15,
        "start_time": "2025-06-11T19:43:46.929Z"
      },
      {
        "duration": 344,
        "start_time": "2025-06-11T19:43:46.948Z"
      },
      {
        "duration": 4,
        "start_time": "2025-06-11T19:43:47.294Z"
      },
      {
        "duration": 206,
        "start_time": "2025-06-11T19:43:47.299Z"
      },
      {
        "duration": 7,
        "start_time": "2025-06-11T19:43:47.506Z"
      },
      {
        "duration": 447,
        "start_time": "2025-06-11T19:43:47.514Z"
      },
      {
        "duration": 2,
        "start_time": "2025-06-11T19:43:47.963Z"
      },
      {
        "duration": 115,
        "start_time": "2025-06-11T19:43:47.967Z"
      },
      {
        "duration": 7,
        "start_time": "2025-06-11T19:43:48.083Z"
      },
      {
        "duration": 5,
        "start_time": "2025-06-11T19:43:48.091Z"
      },
      {
        "duration": 8,
        "start_time": "2025-06-11T19:43:48.097Z"
      },
      {
        "duration": 5,
        "start_time": "2025-06-11T19:43:48.107Z"
      },
      {
        "duration": 20,
        "start_time": "2025-06-11T19:43:48.114Z"
      },
      {
        "duration": 32,
        "start_time": "2025-06-11T19:43:48.136Z"
      },
      {
        "duration": 214,
        "start_time": "2025-06-11T19:43:48.176Z"
      },
      {
        "duration": 4,
        "start_time": "2025-06-11T19:43:48.391Z"
      },
      {
        "duration": 454,
        "start_time": "2025-06-11T19:43:48.397Z"
      },
      {
        "duration": 12,
        "start_time": "2025-06-11T19:43:48.853Z"
      },
      {
        "duration": 87,
        "start_time": "2025-06-11T19:43:48.867Z"
      },
      {
        "duration": 2698,
        "start_time": "2025-06-11T19:43:48.955Z"
      },
      {
        "duration": 5,
        "start_time": "2025-06-11T19:43:51.654Z"
      },
      {
        "duration": 38,
        "start_time": "2025-06-11T19:43:51.661Z"
      },
      {
        "duration": 247,
        "start_time": "2025-06-11T19:43:51.701Z"
      },
      {
        "duration": 27,
        "start_time": "2025-06-11T19:43:51.950Z"
      },
      {
        "duration": 4,
        "start_time": "2025-06-11T19:43:51.978Z"
      },
      {
        "duration": 18,
        "start_time": "2025-06-11T19:43:51.984Z"
      },
      {
        "duration": 158,
        "start_time": "2025-06-11T19:43:52.005Z"
      },
      {
        "duration": 97,
        "start_time": "2025-06-11T19:43:52.165Z"
      },
      {
        "duration": 0,
        "start_time": "2025-06-11T19:43:52.263Z"
      },
      {
        "duration": 0,
        "start_time": "2025-06-11T19:43:52.265Z"
      },
      {
        "duration": 0,
        "start_time": "2025-06-11T19:43:52.266Z"
      },
      {
        "duration": 0,
        "start_time": "2025-06-11T19:43:52.267Z"
      },
      {
        "duration": 0,
        "start_time": "2025-06-11T19:43:52.268Z"
      },
      {
        "duration": 0,
        "start_time": "2025-06-11T19:43:52.276Z"
      },
      {
        "duration": 0,
        "start_time": "2025-06-11T19:43:52.277Z"
      },
      {
        "duration": 0,
        "start_time": "2025-06-11T19:43:52.278Z"
      },
      {
        "duration": 0,
        "start_time": "2025-06-11T19:43:52.279Z"
      },
      {
        "duration": 0,
        "start_time": "2025-06-11T19:43:52.279Z"
      },
      {
        "duration": 14,
        "start_time": "2025-06-11T19:49:40.528Z"
      },
      {
        "duration": 4,
        "start_time": "2025-06-11T19:49:41.489Z"
      },
      {
        "duration": 4,
        "start_time": "2025-06-11T19:49:42.696Z"
      },
      {
        "duration": 21,
        "start_time": "2025-06-11T19:52:45.232Z"
      },
      {
        "duration": 5,
        "start_time": "2025-06-11T19:52:48.336Z"
      },
      {
        "duration": 4,
        "start_time": "2025-06-11T19:52:51.301Z"
      },
      {
        "duration": 17,
        "start_time": "2025-06-11T19:52:53.218Z"
      },
      {
        "duration": 247,
        "start_time": "2025-06-11T19:53:14.017Z"
      },
      {
        "duration": 9,
        "start_time": "2025-06-11T19:57:58.084Z"
      },
      {
        "duration": 9,
        "start_time": "2025-06-11T19:58:00.087Z"
      },
      {
        "duration": 1291,
        "start_time": "2025-06-11T20:00:07.048Z"
      },
      {
        "duration": 4,
        "start_time": "2025-06-11T20:00:40.864Z"
      },
      {
        "duration": 2,
        "start_time": "2025-06-11T20:00:44.950Z"
      },
      {
        "duration": 4,
        "start_time": "2025-06-11T20:00:49.529Z"
      },
      {
        "duration": 6,
        "start_time": "2025-06-11T20:00:53.014Z"
      },
      {
        "duration": 5,
        "start_time": "2025-06-11T20:00:54.194Z"
      },
      {
        "duration": 21,
        "start_time": "2025-06-11T20:00:55.515Z"
      },
      {
        "duration": 59,
        "start_time": "2025-06-11T20:01:27.294Z"
      },
      {
        "duration": 4,
        "start_time": "2025-06-11T20:01:28.897Z"
      },
      {
        "duration": 73,
        "start_time": "2025-06-11T20:01:29.501Z"
      },
      {
        "duration": 6,
        "start_time": "2025-06-11T20:05:20.428Z"
      },
      {
        "duration": 3,
        "start_time": "2025-06-11T20:05:24.610Z"
      },
      {
        "duration": 6,
        "start_time": "2025-06-11T20:05:25.580Z"
      },
      {
        "duration": 5,
        "start_time": "2025-06-11T20:05:26.829Z"
      },
      {
        "duration": 4,
        "start_time": "2025-06-11T20:05:29.544Z"
      },
      {
        "duration": 5,
        "start_time": "2025-06-11T20:05:31.894Z"
      },
      {
        "duration": 3,
        "start_time": "2025-06-11T20:05:32.797Z"
      },
      {
        "duration": 6,
        "start_time": "2025-06-11T20:05:35.060Z"
      },
      {
        "duration": 6,
        "start_time": "2025-06-11T20:06:38.141Z"
      },
      {
        "duration": 11,
        "start_time": "2025-06-11T20:06:40.099Z"
      },
      {
        "duration": 5,
        "start_time": "2025-06-11T20:06:41.430Z"
      },
      {
        "duration": 17,
        "start_time": "2025-06-11T20:06:42.597Z"
      },
      {
        "duration": 5,
        "start_time": "2025-06-11T20:07:11.708Z"
      },
      {
        "duration": 19,
        "start_time": "2025-06-11T20:07:19.019Z"
      },
      {
        "duration": 17,
        "start_time": "2025-06-11T20:07:24.620Z"
      },
      {
        "duration": 4,
        "start_time": "2025-06-11T20:07:30.367Z"
      },
      {
        "duration": 6,
        "start_time": "2025-06-11T20:07:31.123Z"
      },
      {
        "duration": 10,
        "start_time": "2025-06-11T20:07:32.443Z"
      },
      {
        "duration": 6,
        "start_time": "2025-06-11T20:07:33.059Z"
      },
      {
        "duration": 4,
        "start_time": "2025-06-11T20:11:35.571Z"
      },
      {
        "duration": 7,
        "start_time": "2025-06-11T20:11:36.867Z"
      },
      {
        "duration": 10,
        "start_time": "2025-06-11T20:11:37.947Z"
      },
      {
        "duration": 6,
        "start_time": "2025-06-11T20:11:39.650Z"
      },
      {
        "duration": 25,
        "start_time": "2025-06-11T20:14:29.965Z"
      },
      {
        "duration": 5,
        "start_time": "2025-06-11T20:14:31.273Z"
      },
      {
        "duration": 5,
        "start_time": "2025-06-11T20:14:32.981Z"
      },
      {
        "duration": 351,
        "start_time": "2025-06-11T20:14:34.331Z"
      },
      {
        "duration": 5,
        "start_time": "2025-06-11T20:14:38.002Z"
      },
      {
        "duration": 7,
        "start_time": "2025-06-11T20:14:39.770Z"
      },
      {
        "duration": 10,
        "start_time": "2025-06-11T20:14:40.579Z"
      },
      {
        "duration": 5,
        "start_time": "2025-06-11T20:14:41.818Z"
      },
      {
        "duration": 9,
        "start_time": "2025-06-11T20:16:38.386Z"
      },
      {
        "duration": 85,
        "start_time": "2025-06-11T20:16:39.859Z"
      },
      {
        "duration": 3,
        "start_time": "2025-06-11T20:18:41.277Z"
      },
      {
        "duration": 9,
        "start_time": "2025-06-11T20:19:17.634Z"
      },
      {
        "duration": 4,
        "start_time": "2025-06-11T20:19:21.498Z"
      },
      {
        "duration": 10,
        "start_time": "2025-06-11T20:20:21.082Z"
      },
      {
        "duration": 17,
        "start_time": "2025-06-11T20:20:54.857Z"
      },
      {
        "duration": 8,
        "start_time": "2025-06-11T20:22:01.974Z"
      },
      {
        "duration": 12,
        "start_time": "2025-06-11T20:22:30.697Z"
      },
      {
        "duration": 5,
        "start_time": "2025-06-11T20:23:51.009Z"
      },
      {
        "duration": 10,
        "start_time": "2025-06-11T20:24:31.954Z"
      },
      {
        "duration": 17,
        "start_time": "2025-06-11T20:24:54.496Z"
      },
      {
        "duration": 8,
        "start_time": "2025-06-11T20:25:21.761Z"
      },
      {
        "duration": 74,
        "start_time": "2025-06-11T20:25:43.633Z"
      },
      {
        "duration": 12,
        "start_time": "2025-06-11T20:26:05.705Z"
      },
      {
        "duration": 69,
        "start_time": "2025-06-11T20:26:36.483Z"
      },
      {
        "duration": 8,
        "start_time": "2025-06-11T20:26:50.090Z"
      },
      {
        "duration": 138,
        "start_time": "2025-06-11T20:27:43.071Z"
      },
      {
        "duration": 65,
        "start_time": "2025-06-11T20:28:20.224Z"
      },
      {
        "duration": 9,
        "start_time": "2025-06-11T20:28:33.803Z"
      },
      {
        "duration": 137,
        "start_time": "2025-06-11T20:29:29.879Z"
      },
      {
        "duration": 50,
        "start_time": "2025-06-12T09:42:56.358Z"
      },
      {
        "duration": 7,
        "start_time": "2025-06-12T09:42:59.860Z"
      },
      {
        "duration": 434,
        "start_time": "2025-06-12T09:43:15.481Z"
      },
      {
        "duration": 77,
        "start_time": "2025-06-12T09:43:15.917Z"
      },
      {
        "duration": 3,
        "start_time": "2025-06-12T09:43:15.996Z"
      },
      {
        "duration": 32,
        "start_time": "2025-06-12T09:43:16.000Z"
      },
      {
        "duration": 12,
        "start_time": "2025-06-12T09:43:16.034Z"
      },
      {
        "duration": 36,
        "start_time": "2025-06-12T09:43:16.047Z"
      },
      {
        "duration": 27,
        "start_time": "2025-06-12T09:43:16.086Z"
      },
      {
        "duration": 15,
        "start_time": "2025-06-12T09:43:16.115Z"
      },
      {
        "duration": 5,
        "start_time": "2025-06-12T09:43:16.132Z"
      },
      {
        "duration": 5,
        "start_time": "2025-06-12T09:43:16.138Z"
      },
      {
        "duration": 7,
        "start_time": "2025-06-12T09:43:16.145Z"
      },
      {
        "duration": 33,
        "start_time": "2025-06-12T09:43:16.154Z"
      },
      {
        "duration": 22,
        "start_time": "2025-06-12T09:43:16.189Z"
      },
      {
        "duration": 32,
        "start_time": "2025-06-12T09:43:16.216Z"
      },
      {
        "duration": 17,
        "start_time": "2025-06-12T09:43:16.249Z"
      },
      {
        "duration": 3,
        "start_time": "2025-06-12T09:43:16.267Z"
      },
      {
        "duration": 14,
        "start_time": "2025-06-12T09:43:16.272Z"
      },
      {
        "duration": 16,
        "start_time": "2025-06-12T09:43:16.304Z"
      },
      {
        "duration": 1110,
        "start_time": "2025-06-12T09:43:16.321Z"
      },
      {
        "duration": 5,
        "start_time": "2025-06-12T09:43:17.433Z"
      },
      {
        "duration": 482,
        "start_time": "2025-06-12T09:43:17.439Z"
      },
      {
        "duration": 5,
        "start_time": "2025-06-12T09:43:17.922Z"
      },
      {
        "duration": 384,
        "start_time": "2025-06-12T09:43:17.928Z"
      },
      {
        "duration": 6,
        "start_time": "2025-06-12T09:43:18.314Z"
      },
      {
        "duration": 241,
        "start_time": "2025-06-12T09:43:18.321Z"
      },
      {
        "duration": 13,
        "start_time": "2025-06-12T09:43:18.564Z"
      },
      {
        "duration": 5,
        "start_time": "2025-06-12T09:43:18.579Z"
      },
      {
        "duration": 329,
        "start_time": "2025-06-12T09:43:18.585Z"
      },
      {
        "duration": 4,
        "start_time": "2025-06-12T09:43:18.915Z"
      },
      {
        "duration": 292,
        "start_time": "2025-06-12T09:43:18.920Z"
      },
      {
        "duration": 6,
        "start_time": "2025-06-12T09:43:19.214Z"
      },
      {
        "duration": 404,
        "start_time": "2025-06-12T09:43:19.222Z"
      },
      {
        "duration": 2,
        "start_time": "2025-06-12T09:43:19.628Z"
      },
      {
        "duration": 128,
        "start_time": "2025-06-12T09:43:19.632Z"
      },
      {
        "duration": 7,
        "start_time": "2025-06-12T09:43:19.762Z"
      },
      {
        "duration": 3,
        "start_time": "2025-06-12T09:43:19.771Z"
      },
      {
        "duration": 17,
        "start_time": "2025-06-12T09:43:19.776Z"
      },
      {
        "duration": 15,
        "start_time": "2025-06-12T09:43:19.795Z"
      },
      {
        "duration": 4,
        "start_time": "2025-06-12T09:43:19.812Z"
      },
      {
        "duration": 31,
        "start_time": "2025-06-12T09:43:19.817Z"
      },
      {
        "duration": 306,
        "start_time": "2025-06-12T09:43:19.853Z"
      },
      {
        "duration": 4,
        "start_time": "2025-06-12T09:43:20.161Z"
      },
      {
        "duration": 389,
        "start_time": "2025-06-12T09:43:20.167Z"
      },
      {
        "duration": 13,
        "start_time": "2025-06-12T09:43:20.558Z"
      },
      {
        "duration": 84,
        "start_time": "2025-06-12T09:43:20.572Z"
      },
      {
        "duration": 2876,
        "start_time": "2025-06-12T09:43:20.658Z"
      },
      {
        "duration": 5,
        "start_time": "2025-06-12T09:43:23.535Z"
      },
      {
        "duration": 9,
        "start_time": "2025-06-12T09:43:23.542Z"
      },
      {
        "duration": 291,
        "start_time": "2025-06-12T09:43:23.552Z"
      },
      {
        "duration": 33,
        "start_time": "2025-06-12T09:43:23.844Z"
      },
      {
        "duration": 4,
        "start_time": "2025-06-12T09:43:23.879Z"
      },
      {
        "duration": 40,
        "start_time": "2025-06-12T09:43:23.885Z"
      },
      {
        "duration": 267,
        "start_time": "2025-06-12T09:43:23.927Z"
      },
      {
        "duration": 22,
        "start_time": "2025-06-12T09:43:24.197Z"
      },
      {
        "duration": 16,
        "start_time": "2025-06-12T09:43:24.221Z"
      },
      {
        "duration": 33,
        "start_time": "2025-06-12T09:43:24.239Z"
      },
      {
        "duration": 21,
        "start_time": "2025-06-12T09:43:24.274Z"
      },
      {
        "duration": 235,
        "start_time": "2025-06-12T09:43:24.296Z"
      },
      {
        "duration": 0,
        "start_time": "2025-06-12T09:43:24.532Z"
      },
      {
        "duration": 0,
        "start_time": "2025-06-12T09:43:24.534Z"
      },
      {
        "duration": 0,
        "start_time": "2025-06-12T09:43:24.535Z"
      },
      {
        "duration": 0,
        "start_time": "2025-06-12T09:43:24.536Z"
      },
      {
        "duration": 0,
        "start_time": "2025-06-12T09:43:24.537Z"
      },
      {
        "duration": 9,
        "start_time": "2025-06-12T09:46:25.275Z"
      },
      {
        "duration": 12,
        "start_time": "2025-06-12T09:46:28.248Z"
      },
      {
        "duration": 13,
        "start_time": "2025-06-12T09:46:52.740Z"
      },
      {
        "duration": 14,
        "start_time": "2025-06-12T09:46:53.764Z"
      },
      {
        "duration": 2906,
        "start_time": "2025-06-12T09:46:55.658Z"
      },
      {
        "duration": 10,
        "start_time": "2025-06-12T09:50:14.580Z"
      },
      {
        "duration": 13,
        "start_time": "2025-06-12T09:50:36.412Z"
      },
      {
        "duration": 4,
        "start_time": "2025-06-12T09:51:16.500Z"
      },
      {
        "duration": 17,
        "start_time": "2025-06-12T09:51:48.428Z"
      },
      {
        "duration": 4078,
        "start_time": "2025-06-12T09:51:50.278Z"
      },
      {
        "duration": 4,
        "start_time": "2025-06-12T09:53:21.926Z"
      },
      {
        "duration": 3,
        "start_time": "2025-06-12T09:53:40.672Z"
      },
      {
        "duration": 3,
        "start_time": "2025-06-12T09:59:41.812Z"
      },
      {
        "duration": 4,
        "start_time": "2025-06-12T10:00:08.829Z"
      },
      {
        "duration": 4,
        "start_time": "2025-06-12T10:00:58.772Z"
      },
      {
        "duration": 6,
        "start_time": "2025-06-12T10:01:46.125Z"
      },
      {
        "duration": 3,
        "start_time": "2025-06-12T10:01:47.561Z"
      },
      {
        "duration": 4,
        "start_time": "2025-06-12T10:01:49.198Z"
      },
      {
        "duration": 11,
        "start_time": "2025-06-12T10:06:11.907Z"
      },
      {
        "duration": 12,
        "start_time": "2025-06-12T10:07:22.374Z"
      },
      {
        "duration": 348,
        "start_time": "2025-06-12T10:08:09.965Z"
      },
      {
        "duration": 11,
        "start_time": "2025-06-12T10:08:59.319Z"
      },
      {
        "duration": 137,
        "start_time": "2025-06-12T10:09:52.384Z"
      },
      {
        "duration": 15,
        "start_time": "2025-06-12T10:16:29.564Z"
      },
      {
        "duration": 14,
        "start_time": "2025-06-12T10:16:32.362Z"
      },
      {
        "duration": 3037,
        "start_time": "2025-06-12T10:16:33.177Z"
      },
      {
        "duration": 4,
        "start_time": "2025-06-12T10:16:43.962Z"
      },
      {
        "duration": 3,
        "start_time": "2025-06-12T10:16:45.074Z"
      },
      {
        "duration": 141,
        "start_time": "2025-06-12T10:16:51.409Z"
      },
      {
        "duration": 65,
        "start_time": "2025-06-12T10:20:15.531Z"
      },
      {
        "duration": 20,
        "start_time": "2025-06-12T10:20:41.226Z"
      },
      {
        "duration": 6,
        "start_time": "2025-06-12T10:20:46.392Z"
      },
      {
        "duration": 6,
        "start_time": "2025-06-12T10:20:47.513Z"
      },
      {
        "duration": 279,
        "start_time": "2025-06-12T10:20:49.193Z"
      },
      {
        "duration": 442,
        "start_time": "2025-06-12T10:21:21.093Z"
      },
      {
        "duration": 82,
        "start_time": "2025-06-12T10:21:21.537Z"
      },
      {
        "duration": 2,
        "start_time": "2025-06-12T10:21:21.621Z"
      },
      {
        "duration": 120,
        "start_time": "2025-06-12T10:21:21.625Z"
      },
      {
        "duration": 11,
        "start_time": "2025-06-12T10:21:21.747Z"
      },
      {
        "duration": 25,
        "start_time": "2025-06-12T10:21:21.759Z"
      },
      {
        "duration": 14,
        "start_time": "2025-06-12T10:21:21.787Z"
      },
      {
        "duration": 15,
        "start_time": "2025-06-12T10:21:21.804Z"
      },
      {
        "duration": 5,
        "start_time": "2025-06-12T10:21:21.821Z"
      },
      {
        "duration": 13,
        "start_time": "2025-06-12T10:21:21.829Z"
      },
      {
        "duration": 14,
        "start_time": "2025-06-12T10:21:21.844Z"
      },
      {
        "duration": 70,
        "start_time": "2025-06-12T10:21:21.860Z"
      },
      {
        "duration": 32,
        "start_time": "2025-06-12T10:21:21.931Z"
      },
      {
        "duration": 56,
        "start_time": "2025-06-12T10:21:21.964Z"
      },
      {
        "duration": 18,
        "start_time": "2025-06-12T10:21:22.022Z"
      },
      {
        "duration": 3,
        "start_time": "2025-06-12T10:21:22.042Z"
      },
      {
        "duration": 17,
        "start_time": "2025-06-12T10:21:22.046Z"
      },
      {
        "duration": 44,
        "start_time": "2025-06-12T10:21:22.065Z"
      },
      {
        "duration": 777,
        "start_time": "2025-06-12T10:21:22.110Z"
      },
      {
        "duration": 5,
        "start_time": "2025-06-12T10:21:22.888Z"
      },
      {
        "duration": 342,
        "start_time": "2025-06-12T10:21:22.895Z"
      },
      {
        "duration": 6,
        "start_time": "2025-06-12T10:21:23.239Z"
      },
      {
        "duration": 378,
        "start_time": "2025-06-12T10:21:23.247Z"
      },
      {
        "duration": 5,
        "start_time": "2025-06-12T10:21:23.627Z"
      },
      {
        "duration": 87,
        "start_time": "2025-06-12T10:21:23.641Z"
      },
      {
        "duration": 5,
        "start_time": "2025-06-12T10:21:23.730Z"
      },
      {
        "duration": 6,
        "start_time": "2025-06-12T10:21:23.737Z"
      },
      {
        "duration": 373,
        "start_time": "2025-06-12T10:21:23.749Z"
      },
      {
        "duration": 4,
        "start_time": "2025-06-12T10:21:24.123Z"
      },
      {
        "duration": 209,
        "start_time": "2025-06-12T10:21:24.129Z"
      },
      {
        "duration": 7,
        "start_time": "2025-06-12T10:21:24.339Z"
      },
      {
        "duration": 372,
        "start_time": "2025-06-12T10:21:24.347Z"
      },
      {
        "duration": 3,
        "start_time": "2025-06-12T10:21:24.721Z"
      },
      {
        "duration": 167,
        "start_time": "2025-06-12T10:21:24.726Z"
      },
      {
        "duration": 8,
        "start_time": "2025-06-12T10:21:24.906Z"
      },
      {
        "duration": 3,
        "start_time": "2025-06-12T10:21:24.915Z"
      },
      {
        "duration": 9,
        "start_time": "2025-06-12T10:21:24.920Z"
      },
      {
        "duration": 12,
        "start_time": "2025-06-12T10:21:24.931Z"
      },
      {
        "duration": 11,
        "start_time": "2025-06-12T10:21:24.945Z"
      },
      {
        "duration": 52,
        "start_time": "2025-06-12T10:21:24.958Z"
      },
      {
        "duration": 230,
        "start_time": "2025-06-12T10:21:25.011Z"
      },
      {
        "duration": 3,
        "start_time": "2025-06-12T10:21:25.243Z"
      },
      {
        "duration": 464,
        "start_time": "2025-06-12T10:21:25.248Z"
      },
      {
        "duration": 13,
        "start_time": "2025-06-12T10:21:25.714Z"
      },
      {
        "duration": 13,
        "start_time": "2025-06-12T10:21:25.729Z"
      },
      {
        "duration": 2986,
        "start_time": "2025-06-12T10:21:25.744Z"
      },
      {
        "duration": 5,
        "start_time": "2025-06-12T10:21:28.731Z"
      },
      {
        "duration": 33,
        "start_time": "2025-06-12T10:21:28.737Z"
      },
      {
        "duration": 152,
        "start_time": "2025-06-12T10:21:28.772Z"
      },
      {
        "duration": 21,
        "start_time": "2025-06-12T10:21:28.926Z"
      },
      {
        "duration": 37,
        "start_time": "2025-06-12T10:21:28.949Z"
      },
      {
        "duration": 17,
        "start_time": "2025-06-12T10:21:28.987Z"
      },
      {
        "duration": 266,
        "start_time": "2025-06-12T10:21:29.005Z"
      },
      {
        "duration": 18,
        "start_time": "2025-06-12T10:21:29.273Z"
      },
      {
        "duration": 19,
        "start_time": "2025-06-12T10:21:29.292Z"
      },
      {
        "duration": 12,
        "start_time": "2025-06-12T10:21:29.313Z"
      },
      {
        "duration": 18,
        "start_time": "2025-06-12T10:21:29.327Z"
      },
      {
        "duration": 270,
        "start_time": "2025-06-12T10:21:29.347Z"
      },
      {
        "duration": 0,
        "start_time": "2025-06-12T10:21:29.619Z"
      },
      {
        "duration": 0,
        "start_time": "2025-06-12T10:21:29.620Z"
      },
      {
        "duration": 0,
        "start_time": "2025-06-12T10:21:29.622Z"
      },
      {
        "duration": 0,
        "start_time": "2025-06-12T10:21:29.623Z"
      },
      {
        "duration": 0,
        "start_time": "2025-06-12T10:21:29.624Z"
      },
      {
        "duration": 142,
        "start_time": "2025-06-12T10:22:45.572Z"
      },
      {
        "duration": 59,
        "start_time": "2025-06-12T10:29:33.667Z"
      },
      {
        "duration": 112,
        "start_time": "2025-06-12T10:29:35.267Z"
      },
      {
        "duration": 68,
        "start_time": "2025-06-12T10:33:54.641Z"
      },
      {
        "duration": 16,
        "start_time": "2025-06-12T10:35:17.625Z"
      },
      {
        "duration": 8,
        "start_time": "2025-06-12T10:35:20.172Z"
      },
      {
        "duration": 63,
        "start_time": "2025-06-12T10:37:26.521Z"
      },
      {
        "duration": 96,
        "start_time": "2025-06-12T10:37:31.993Z"
      },
      {
        "duration": 18,
        "start_time": "2025-06-12T10:37:40.681Z"
      },
      {
        "duration": 100,
        "start_time": "2025-06-12T10:37:54.849Z"
      },
      {
        "duration": 70,
        "start_time": "2025-06-12T10:38:05.145Z"
      },
      {
        "duration": 67,
        "start_time": "2025-06-12T10:38:08.608Z"
      },
      {
        "duration": 68,
        "start_time": "2025-06-12T10:38:14.960Z"
      },
      {
        "duration": 64,
        "start_time": "2025-06-12T10:38:19.776Z"
      },
      {
        "duration": 68,
        "start_time": "2025-06-12T10:38:23.120Z"
      },
      {
        "duration": 237,
        "start_time": "2025-06-12T10:38:27.928Z"
      },
      {
        "duration": 16,
        "start_time": "2025-06-12T10:42:07.991Z"
      },
      {
        "duration": 15,
        "start_time": "2025-06-12T10:44:09.336Z"
      },
      {
        "duration": 396,
        "start_time": "2025-06-12T10:45:59.643Z"
      },
      {
        "duration": 80,
        "start_time": "2025-06-12T10:46:00.043Z"
      },
      {
        "duration": 22,
        "start_time": "2025-06-12T10:46:00.125Z"
      },
      {
        "duration": 51,
        "start_time": "2025-06-12T10:46:00.149Z"
      },
      {
        "duration": 21,
        "start_time": "2025-06-12T10:46:00.201Z"
      },
      {
        "duration": 67,
        "start_time": "2025-06-12T10:46:00.224Z"
      },
      {
        "duration": 32,
        "start_time": "2025-06-12T10:46:00.293Z"
      },
      {
        "duration": 41,
        "start_time": "2025-06-12T10:46:00.327Z"
      },
      {
        "duration": 34,
        "start_time": "2025-06-12T10:46:00.369Z"
      },
      {
        "duration": 38,
        "start_time": "2025-06-12T10:46:00.405Z"
      },
      {
        "duration": 42,
        "start_time": "2025-06-12T10:46:00.445Z"
      },
      {
        "duration": 30,
        "start_time": "2025-06-12T10:46:00.489Z"
      },
      {
        "duration": 40,
        "start_time": "2025-06-12T10:46:00.521Z"
      },
      {
        "duration": 75,
        "start_time": "2025-06-12T10:46:00.563Z"
      },
      {
        "duration": 26,
        "start_time": "2025-06-12T10:46:00.639Z"
      },
      {
        "duration": 107,
        "start_time": "2025-06-12T10:46:00.667Z"
      },
      {
        "duration": 35,
        "start_time": "2025-06-12T10:46:00.776Z"
      },
      {
        "duration": 126,
        "start_time": "2025-06-12T10:46:00.812Z"
      },
      {
        "duration": 797,
        "start_time": "2025-06-12T10:46:00.940Z"
      },
      {
        "duration": 6,
        "start_time": "2025-06-12T10:46:01.738Z"
      },
      {
        "duration": 349,
        "start_time": "2025-06-12T10:46:01.746Z"
      },
      {
        "duration": 5,
        "start_time": "2025-06-12T10:46:02.104Z"
      },
      {
        "duration": 395,
        "start_time": "2025-06-12T10:46:02.110Z"
      },
      {
        "duration": 5,
        "start_time": "2025-06-12T10:46:02.507Z"
      },
      {
        "duration": 37,
        "start_time": "2025-06-12T10:46:02.513Z"
      },
      {
        "duration": 201,
        "start_time": "2025-06-12T10:46:02.551Z"
      },
      {
        "duration": 19,
        "start_time": "2025-06-12T10:46:02.754Z"
      },
      {
        "duration": 343,
        "start_time": "2025-06-12T10:46:02.777Z"
      },
      {
        "duration": 4,
        "start_time": "2025-06-12T10:46:03.121Z"
      },
      {
        "duration": 291,
        "start_time": "2025-06-12T10:46:03.127Z"
      },
      {
        "duration": 7,
        "start_time": "2025-06-12T10:46:03.420Z"
      },
      {
        "duration": 388,
        "start_time": "2025-06-12T10:46:03.428Z"
      },
      {
        "duration": 3,
        "start_time": "2025-06-12T10:46:03.818Z"
      },
      {
        "duration": 283,
        "start_time": "2025-06-12T10:46:03.822Z"
      },
      {
        "duration": 7,
        "start_time": "2025-06-12T10:46:04.107Z"
      },
      {
        "duration": 9,
        "start_time": "2025-06-12T10:46:04.115Z"
      },
      {
        "duration": 17,
        "start_time": "2025-06-12T10:46:04.126Z"
      },
      {
        "duration": 18,
        "start_time": "2025-06-12T10:46:04.145Z"
      },
      {
        "duration": 8,
        "start_time": "2025-06-12T10:46:04.165Z"
      },
      {
        "duration": 43,
        "start_time": "2025-06-12T10:46:04.174Z"
      },
      {
        "duration": 224,
        "start_time": "2025-06-12T10:46:04.219Z"
      },
      {
        "duration": 5,
        "start_time": "2025-06-12T10:46:04.445Z"
      },
      {
        "duration": 449,
        "start_time": "2025-06-12T10:46:04.451Z"
      },
      {
        "duration": 14,
        "start_time": "2025-06-12T10:46:04.904Z"
      },
      {
        "duration": 59,
        "start_time": "2025-06-12T10:46:04.920Z"
      },
      {
        "duration": 2873,
        "start_time": "2025-06-12T10:46:04.981Z"
      },
      {
        "duration": 5,
        "start_time": "2025-06-12T10:46:07.856Z"
      },
      {
        "duration": 5,
        "start_time": "2025-06-12T10:46:07.862Z"
      },
      {
        "duration": 139,
        "start_time": "2025-06-12T10:46:07.868Z"
      },
      {
        "duration": 21,
        "start_time": "2025-06-12T10:46:08.008Z"
      },
      {
        "duration": 4,
        "start_time": "2025-06-12T10:46:08.031Z"
      },
      {
        "duration": 4,
        "start_time": "2025-06-12T10:46:08.036Z"
      },
      {
        "duration": 276,
        "start_time": "2025-06-12T10:46:08.042Z"
      },
      {
        "duration": 17,
        "start_time": "2025-06-12T10:46:08.320Z"
      },
      {
        "duration": 7,
        "start_time": "2025-06-12T10:46:08.339Z"
      },
      {
        "duration": 11,
        "start_time": "2025-06-12T10:46:08.347Z"
      },
      {
        "duration": 7,
        "start_time": "2025-06-12T10:46:08.360Z"
      },
      {
        "duration": 147,
        "start_time": "2025-06-12T10:46:08.369Z"
      },
      {
        "duration": 0,
        "start_time": "2025-06-12T10:46:08.518Z"
      },
      {
        "duration": 0,
        "start_time": "2025-06-12T10:46:08.519Z"
      },
      {
        "duration": 0,
        "start_time": "2025-06-12T10:46:08.520Z"
      },
      {
        "duration": 0,
        "start_time": "2025-06-12T10:46:08.521Z"
      },
      {
        "duration": 0,
        "start_time": "2025-06-12T10:46:08.522Z"
      },
      {
        "duration": 21,
        "start_time": "2025-06-12T10:47:56.008Z"
      },
      {
        "duration": 5,
        "start_time": "2025-06-12T10:47:56.816Z"
      },
      {
        "duration": 5,
        "start_time": "2025-06-12T10:47:57.639Z"
      },
      {
        "duration": 257,
        "start_time": "2025-06-12T10:47:59.063Z"
      },
      {
        "duration": 18,
        "start_time": "2025-06-12T10:48:03.495Z"
      },
      {
        "duration": 17,
        "start_time": "2025-06-12T10:48:09.040Z"
      },
      {
        "duration": 13,
        "start_time": "2025-06-12T10:48:44.087Z"
      },
      {
        "duration": 21,
        "start_time": "2025-06-12T10:49:36.999Z"
      },
      {
        "duration": 6,
        "start_time": "2025-06-12T10:49:40.711Z"
      },
      {
        "duration": 5,
        "start_time": "2025-06-12T10:49:42.639Z"
      },
      {
        "duration": 345,
        "start_time": "2025-06-12T10:49:43.679Z"
      },
      {
        "duration": 230,
        "start_time": "2025-06-12T10:52:51.871Z"
      },
      {
        "duration": 10,
        "start_time": "2025-06-12T10:59:30.061Z"
      },
      {
        "duration": 9,
        "start_time": "2025-06-12T10:59:50.557Z"
      },
      {
        "duration": 5,
        "start_time": "2025-06-12T11:00:08.198Z"
      },
      {
        "duration": 8,
        "start_time": "2025-06-12T11:00:09.269Z"
      },
      {
        "duration": 23,
        "start_time": "2025-06-12T11:00:54.038Z"
      },
      {
        "duration": 9,
        "start_time": "2025-06-12T11:01:09.789Z"
      },
      {
        "duration": 256,
        "start_time": "2025-06-12T11:02:03.054Z"
      },
      {
        "duration": 16,
        "start_time": "2025-06-12T11:04:04.492Z"
      },
      {
        "duration": 64,
        "start_time": "2025-06-12T11:04:05.188Z"
      },
      {
        "duration": 466,
        "start_time": "2025-06-12T11:04:43.575Z"
      },
      {
        "duration": 94,
        "start_time": "2025-06-12T11:04:44.044Z"
      },
      {
        "duration": 3,
        "start_time": "2025-06-12T11:04:44.140Z"
      },
      {
        "duration": 30,
        "start_time": "2025-06-12T11:04:44.146Z"
      },
      {
        "duration": 12,
        "start_time": "2025-06-12T11:04:44.179Z"
      },
      {
        "duration": 27,
        "start_time": "2025-06-12T11:04:44.193Z"
      },
      {
        "duration": 9,
        "start_time": "2025-06-12T11:04:44.222Z"
      },
      {
        "duration": 11,
        "start_time": "2025-06-12T11:04:44.233Z"
      },
      {
        "duration": 3,
        "start_time": "2025-06-12T11:04:44.245Z"
      },
      {
        "duration": 3,
        "start_time": "2025-06-12T11:04:44.251Z"
      },
      {
        "duration": 6,
        "start_time": "2025-06-12T11:04:44.255Z"
      },
      {
        "duration": 43,
        "start_time": "2025-06-12T11:04:44.262Z"
      },
      {
        "duration": 3,
        "start_time": "2025-06-12T11:04:44.307Z"
      },
      {
        "duration": 38,
        "start_time": "2025-06-12T11:04:44.312Z"
      },
      {
        "duration": 19,
        "start_time": "2025-06-12T11:04:44.351Z"
      },
      {
        "duration": 12,
        "start_time": "2025-06-12T11:04:44.371Z"
      },
      {
        "duration": 30,
        "start_time": "2025-06-12T11:04:44.384Z"
      },
      {
        "duration": 17,
        "start_time": "2025-06-12T11:04:44.416Z"
      },
      {
        "duration": 814,
        "start_time": "2025-06-12T11:04:44.434Z"
      },
      {
        "duration": 6,
        "start_time": "2025-06-12T11:04:45.249Z"
      },
      {
        "duration": 365,
        "start_time": "2025-06-12T11:04:45.257Z"
      },
      {
        "duration": 4,
        "start_time": "2025-06-12T11:04:45.624Z"
      },
      {
        "duration": 402,
        "start_time": "2025-06-12T11:04:45.630Z"
      },
      {
        "duration": 5,
        "start_time": "2025-06-12T11:04:46.034Z"
      },
      {
        "duration": 10,
        "start_time": "2025-06-12T11:04:46.040Z"
      },
      {
        "duration": 14,
        "start_time": "2025-06-12T11:04:46.052Z"
      },
      {
        "duration": 33,
        "start_time": "2025-06-12T11:04:46.069Z"
      },
      {
        "duration": 384,
        "start_time": "2025-06-12T11:04:46.110Z"
      },
      {
        "duration": 10,
        "start_time": "2025-06-12T11:04:46.495Z"
      },
      {
        "duration": 223,
        "start_time": "2025-06-12T11:04:46.507Z"
      },
      {
        "duration": 7,
        "start_time": "2025-06-12T11:04:46.731Z"
      },
      {
        "duration": 380,
        "start_time": "2025-06-12T11:04:46.740Z"
      },
      {
        "duration": 3,
        "start_time": "2025-06-12T11:04:47.122Z"
      },
      {
        "duration": 121,
        "start_time": "2025-06-12T11:04:47.126Z"
      },
      {
        "duration": 7,
        "start_time": "2025-06-12T11:04:47.248Z"
      },
      {
        "duration": 45,
        "start_time": "2025-06-12T11:04:47.256Z"
      },
      {
        "duration": 4,
        "start_time": "2025-06-12T11:04:47.303Z"
      },
      {
        "duration": 13,
        "start_time": "2025-06-12T11:04:47.308Z"
      },
      {
        "duration": 5,
        "start_time": "2025-06-12T11:04:47.322Z"
      },
      {
        "duration": 26,
        "start_time": "2025-06-12T11:04:47.329Z"
      },
      {
        "duration": 235,
        "start_time": "2025-06-12T11:04:47.356Z"
      },
      {
        "duration": 4,
        "start_time": "2025-06-12T11:04:47.592Z"
      },
      {
        "duration": 439,
        "start_time": "2025-06-12T11:04:47.597Z"
      },
      {
        "duration": 13,
        "start_time": "2025-06-12T11:04:48.038Z"
      },
      {
        "duration": 14,
        "start_time": "2025-06-12T11:04:48.052Z"
      },
      {
        "duration": 2915,
        "start_time": "2025-06-12T11:04:48.067Z"
      },
      {
        "duration": 5,
        "start_time": "2025-06-12T11:04:50.983Z"
      },
      {
        "duration": 47,
        "start_time": "2025-06-12T11:04:50.990Z"
      },
      {
        "duration": 183,
        "start_time": "2025-06-12T11:04:51.039Z"
      },
      {
        "duration": 11,
        "start_time": "2025-06-12T11:04:51.224Z"
      },
      {
        "duration": 47,
        "start_time": "2025-06-12T11:04:51.236Z"
      },
      {
        "duration": 37,
        "start_time": "2025-06-12T11:04:51.285Z"
      },
      {
        "duration": 73,
        "start_time": "2025-06-12T11:04:51.323Z"
      },
      {
        "duration": 0,
        "start_time": "2025-06-12T11:04:51.398Z"
      },
      {
        "duration": 0,
        "start_time": "2025-06-12T11:04:51.399Z"
      },
      {
        "duration": 0,
        "start_time": "2025-06-12T11:04:51.399Z"
      },
      {
        "duration": 0,
        "start_time": "2025-06-12T11:04:51.400Z"
      },
      {
        "duration": 0,
        "start_time": "2025-06-12T11:04:51.401Z"
      },
      {
        "duration": 0,
        "start_time": "2025-06-12T11:04:51.402Z"
      },
      {
        "duration": 0,
        "start_time": "2025-06-12T11:04:51.403Z"
      },
      {
        "duration": 0,
        "start_time": "2025-06-12T11:04:51.404Z"
      },
      {
        "duration": 0,
        "start_time": "2025-06-12T11:04:51.405Z"
      },
      {
        "duration": 0,
        "start_time": "2025-06-12T11:04:51.406Z"
      },
      {
        "duration": 0,
        "start_time": "2025-06-12T11:04:51.407Z"
      },
      {
        "duration": 0,
        "start_time": "2025-06-12T11:04:51.409Z"
      },
      {
        "duration": 0,
        "start_time": "2025-06-12T11:04:51.409Z"
      },
      {
        "duration": 0,
        "start_time": "2025-06-12T11:04:51.411Z"
      },
      {
        "duration": 0,
        "start_time": "2025-06-12T11:04:51.412Z"
      },
      {
        "duration": 0,
        "start_time": "2025-06-12T11:04:51.413Z"
      },
      {
        "duration": 0,
        "start_time": "2025-06-12T11:04:51.414Z"
      },
      {
        "duration": 8,
        "start_time": "2025-06-12T11:05:28.885Z"
      },
      {
        "duration": 268,
        "start_time": "2025-06-12T11:05:33.428Z"
      },
      {
        "duration": 289,
        "start_time": "2025-06-12T11:05:46.029Z"
      },
      {
        "duration": 273,
        "start_time": "2025-06-12T11:06:15.861Z"
      },
      {
        "duration": 5,
        "start_time": "2025-06-12T11:13:52.827Z"
      },
      {
        "duration": 351,
        "start_time": "2025-06-12T11:13:54.260Z"
      },
      {
        "duration": 7,
        "start_time": "2025-06-12T11:13:59.556Z"
      },
      {
        "duration": 499,
        "start_time": "2025-06-12T11:14:09.147Z"
      },
      {
        "duration": 440,
        "start_time": "2025-06-12T11:15:06.907Z"
      },
      {
        "duration": 418,
        "start_time": "2025-06-12T11:15:33.636Z"
      },
      {
        "duration": 8,
        "start_time": "2025-06-12T11:16:39.043Z"
      },
      {
        "duration": 8,
        "start_time": "2025-06-12T11:16:43.875Z"
      },
      {
        "duration": 107,
        "start_time": "2025-06-12T11:18:15.331Z"
      },
      {
        "duration": 17,
        "start_time": "2025-06-12T11:18:37.522Z"
      },
      {
        "duration": 15,
        "start_time": "2025-06-12T11:19:57.899Z"
      },
      {
        "duration": 379,
        "start_time": "2025-06-12T11:25:40.459Z"
      },
      {
        "duration": 85,
        "start_time": "2025-06-12T11:25:40.840Z"
      },
      {
        "duration": 3,
        "start_time": "2025-06-12T11:25:40.928Z"
      },
      {
        "duration": 30,
        "start_time": "2025-06-12T11:25:40.934Z"
      },
      {
        "duration": 13,
        "start_time": "2025-06-12T11:25:40.966Z"
      },
      {
        "duration": 44,
        "start_time": "2025-06-12T11:25:40.981Z"
      },
      {
        "duration": 10,
        "start_time": "2025-06-12T11:25:41.026Z"
      },
      {
        "duration": 11,
        "start_time": "2025-06-12T11:25:41.037Z"
      },
      {
        "duration": 3,
        "start_time": "2025-06-12T11:25:41.050Z"
      },
      {
        "duration": 97,
        "start_time": "2025-06-12T11:25:41.055Z"
      },
      {
        "duration": 10,
        "start_time": "2025-06-12T11:25:41.154Z"
      },
      {
        "duration": 10,
        "start_time": "2025-06-12T11:25:41.166Z"
      },
      {
        "duration": 4,
        "start_time": "2025-06-12T11:25:41.177Z"
      },
      {
        "duration": 36,
        "start_time": "2025-06-12T11:25:41.182Z"
      },
      {
        "duration": 18,
        "start_time": "2025-06-12T11:25:41.220Z"
      },
      {
        "duration": 4,
        "start_time": "2025-06-12T11:25:41.239Z"
      },
      {
        "duration": 12,
        "start_time": "2025-06-12T11:25:41.244Z"
      },
      {
        "duration": 52,
        "start_time": "2025-06-12T11:25:41.258Z"
      },
      {
        "duration": 812,
        "start_time": "2025-06-12T11:25:41.312Z"
      },
      {
        "duration": 5,
        "start_time": "2025-06-12T11:25:42.126Z"
      },
      {
        "duration": 412,
        "start_time": "2025-06-12T11:25:42.133Z"
      },
      {
        "duration": 4,
        "start_time": "2025-06-12T11:25:42.547Z"
      },
      {
        "duration": 363,
        "start_time": "2025-06-12T11:25:42.553Z"
      },
      {
        "duration": 5,
        "start_time": "2025-06-12T11:25:42.918Z"
      },
      {
        "duration": 6,
        "start_time": "2025-06-12T11:25:42.925Z"
      },
      {
        "duration": 39,
        "start_time": "2025-06-12T11:25:42.933Z"
      },
      {
        "duration": 12,
        "start_time": "2025-06-12T11:25:42.973Z"
      },
      {
        "duration": 344,
        "start_time": "2025-06-12T11:25:42.989Z"
      },
      {
        "duration": 3,
        "start_time": "2025-06-12T11:25:43.335Z"
      },
      {
        "duration": 265,
        "start_time": "2025-06-12T11:25:43.340Z"
      },
      {
        "duration": 7,
        "start_time": "2025-06-12T11:25:43.607Z"
      },
      {
        "duration": 396,
        "start_time": "2025-06-12T11:25:43.615Z"
      },
      {
        "duration": 3,
        "start_time": "2025-06-12T11:25:44.013Z"
      },
      {
        "duration": 126,
        "start_time": "2025-06-12T11:25:44.017Z"
      },
      {
        "duration": 6,
        "start_time": "2025-06-12T11:25:44.145Z"
      },
      {
        "duration": 60,
        "start_time": "2025-06-12T11:25:44.153Z"
      },
      {
        "duration": 20,
        "start_time": "2025-06-12T11:25:44.214Z"
      },
      {
        "duration": 7,
        "start_time": "2025-06-12T11:25:44.236Z"
      },
      {
        "duration": 9,
        "start_time": "2025-06-12T11:25:44.244Z"
      },
      {
        "duration": 32,
        "start_time": "2025-06-12T11:25:44.254Z"
      },
      {
        "duration": 216,
        "start_time": "2025-06-12T11:25:44.287Z"
      },
      {
        "duration": 3,
        "start_time": "2025-06-12T11:25:44.505Z"
      },
      {
        "duration": 448,
        "start_time": "2025-06-12T11:25:44.510Z"
      },
      {
        "duration": 18,
        "start_time": "2025-06-12T11:25:44.960Z"
      },
      {
        "duration": 30,
        "start_time": "2025-06-12T11:25:44.980Z"
      },
      {
        "duration": 3042,
        "start_time": "2025-06-12T11:25:45.012Z"
      },
      {
        "duration": 5,
        "start_time": "2025-06-12T11:25:48.055Z"
      },
      {
        "duration": 9,
        "start_time": "2025-06-12T11:25:48.062Z"
      },
      {
        "duration": 143,
        "start_time": "2025-06-12T11:25:48.073Z"
      },
      {
        "duration": 10,
        "start_time": "2025-06-12T11:25:48.218Z"
      },
      {
        "duration": 85,
        "start_time": "2025-06-12T11:25:48.229Z"
      },
      {
        "duration": 14,
        "start_time": "2025-06-12T11:25:48.316Z"
      },
      {
        "duration": 7,
        "start_time": "2025-06-12T11:25:48.332Z"
      },
      {
        "duration": 258,
        "start_time": "2025-06-12T11:25:48.340Z"
      },
      {
        "duration": 255,
        "start_time": "2025-06-12T11:25:48.600Z"
      },
      {
        "duration": 6,
        "start_time": "2025-06-12T11:25:48.856Z"
      },
      {
        "duration": 478,
        "start_time": "2025-06-12T11:25:48.863Z"
      },
      {
        "duration": 8,
        "start_time": "2025-06-12T11:25:49.342Z"
      },
      {
        "duration": 73,
        "start_time": "2025-06-12T11:25:49.351Z"
      },
      {
        "duration": 162,
        "start_time": "2025-06-12T11:43:09.920Z"
      },
      {
        "duration": 46,
        "start_time": "2025-06-13T11:59:24.090Z"
      },
      {
        "duration": 372,
        "start_time": "2025-06-13T11:59:32.414Z"
      },
      {
        "duration": 80,
        "start_time": "2025-06-13T11:59:32.788Z"
      },
      {
        "duration": 3,
        "start_time": "2025-06-13T11:59:32.870Z"
      },
      {
        "duration": 23,
        "start_time": "2025-06-13T11:59:32.875Z"
      },
      {
        "duration": 11,
        "start_time": "2025-06-13T11:59:32.900Z"
      },
      {
        "duration": 47,
        "start_time": "2025-06-13T11:59:32.912Z"
      },
      {
        "duration": 10,
        "start_time": "2025-06-13T11:59:32.961Z"
      },
      {
        "duration": 14,
        "start_time": "2025-06-13T11:59:32.972Z"
      },
      {
        "duration": 3,
        "start_time": "2025-06-13T11:59:32.988Z"
      },
      {
        "duration": 4,
        "start_time": "2025-06-13T11:59:32.992Z"
      },
      {
        "duration": 9,
        "start_time": "2025-06-13T11:59:32.997Z"
      },
      {
        "duration": 20,
        "start_time": "2025-06-13T11:59:33.007Z"
      },
      {
        "duration": 32,
        "start_time": "2025-06-13T11:59:33.029Z"
      },
      {
        "duration": 34,
        "start_time": "2025-06-13T11:59:33.065Z"
      },
      {
        "duration": 18,
        "start_time": "2025-06-13T11:59:33.100Z"
      },
      {
        "duration": 33,
        "start_time": "2025-06-13T11:59:33.120Z"
      },
      {
        "duration": 22,
        "start_time": "2025-06-13T11:59:33.155Z"
      },
      {
        "duration": 16,
        "start_time": "2025-06-13T11:59:33.179Z"
      },
      {
        "duration": 5,
        "start_time": "2025-06-13T11:59:33.196Z"
      },
      {
        "duration": 781,
        "start_time": "2025-06-13T11:59:33.203Z"
      },
      {
        "duration": 5,
        "start_time": "2025-06-13T11:59:33.986Z"
      },
      {
        "duration": 331,
        "start_time": "2025-06-13T11:59:33.992Z"
      },
      {
        "duration": 5,
        "start_time": "2025-06-13T11:59:34.325Z"
      },
      {
        "duration": 344,
        "start_time": "2025-06-13T11:59:34.331Z"
      },
      {
        "duration": 5,
        "start_time": "2025-06-13T11:59:34.677Z"
      },
      {
        "duration": 7,
        "start_time": "2025-06-13T11:59:34.684Z"
      },
      {
        "duration": 6,
        "start_time": "2025-06-13T11:59:34.692Z"
      },
      {
        "duration": 5,
        "start_time": "2025-06-13T11:59:34.699Z"
      },
      {
        "duration": 355,
        "start_time": "2025-06-13T11:59:34.706Z"
      },
      {
        "duration": 4,
        "start_time": "2025-06-13T11:59:35.062Z"
      },
      {
        "duration": 226,
        "start_time": "2025-06-13T11:59:35.067Z"
      },
      {
        "duration": 7,
        "start_time": "2025-06-13T11:59:35.294Z"
      },
      {
        "duration": 456,
        "start_time": "2025-06-13T11:59:35.302Z"
      },
      {
        "duration": 4,
        "start_time": "2025-06-13T11:59:35.759Z"
      },
      {
        "duration": 121,
        "start_time": "2025-06-13T11:59:35.765Z"
      },
      {
        "duration": 7,
        "start_time": "2025-06-13T11:59:35.888Z"
      },
      {
        "duration": 4,
        "start_time": "2025-06-13T11:59:35.896Z"
      },
      {
        "duration": 76,
        "start_time": "2025-06-13T11:59:35.901Z"
      },
      {
        "duration": 30,
        "start_time": "2025-06-13T11:59:35.979Z"
      },
      {
        "duration": 18,
        "start_time": "2025-06-13T11:59:36.010Z"
      },
      {
        "duration": 44,
        "start_time": "2025-06-13T11:59:36.032Z"
      },
      {
        "duration": 209,
        "start_time": "2025-06-13T11:59:36.077Z"
      },
      {
        "duration": 4,
        "start_time": "2025-06-13T11:59:36.287Z"
      },
      {
        "duration": 465,
        "start_time": "2025-06-13T11:59:36.293Z"
      },
      {
        "duration": 12,
        "start_time": "2025-06-13T11:59:36.759Z"
      },
      {
        "duration": 15,
        "start_time": "2025-06-13T11:59:36.773Z"
      },
      {
        "duration": 2746,
        "start_time": "2025-06-13T11:59:36.790Z"
      },
      {
        "duration": 4,
        "start_time": "2025-06-13T11:59:39.538Z"
      },
      {
        "duration": 15,
        "start_time": "2025-06-13T11:59:39.544Z"
      },
      {
        "duration": 146,
        "start_time": "2025-06-13T11:59:39.561Z"
      },
      {
        "duration": 9,
        "start_time": "2025-06-13T11:59:39.709Z"
      },
      {
        "duration": 20,
        "start_time": "2025-06-13T11:59:39.720Z"
      },
      {
        "duration": 24,
        "start_time": "2025-06-13T11:59:39.741Z"
      },
      {
        "duration": 8,
        "start_time": "2025-06-13T11:59:39.767Z"
      },
      {
        "duration": 264,
        "start_time": "2025-06-13T11:59:39.776Z"
      },
      {
        "duration": 244,
        "start_time": "2025-06-13T11:59:40.041Z"
      },
      {
        "duration": 5,
        "start_time": "2025-06-13T11:59:40.287Z"
      },
      {
        "duration": 449,
        "start_time": "2025-06-13T11:59:40.294Z"
      },
      {
        "duration": 16,
        "start_time": "2025-06-13T11:59:40.745Z"
      },
      {
        "duration": 435,
        "start_time": "2025-06-13T12:14:41.365Z"
      },
      {
        "duration": 82,
        "start_time": "2025-06-13T12:14:41.802Z"
      },
      {
        "duration": 2,
        "start_time": "2025-06-13T12:14:41.886Z"
      },
      {
        "duration": 157,
        "start_time": "2025-06-13T12:14:41.890Z"
      },
      {
        "duration": 11,
        "start_time": "2025-06-13T12:14:42.049Z"
      },
      {
        "duration": 22,
        "start_time": "2025-06-13T12:14:42.061Z"
      },
      {
        "duration": 8,
        "start_time": "2025-06-13T12:14:42.085Z"
      },
      {
        "duration": 11,
        "start_time": "2025-06-13T12:14:42.095Z"
      },
      {
        "duration": 4,
        "start_time": "2025-06-13T12:14:42.107Z"
      },
      {
        "duration": 4,
        "start_time": "2025-06-13T12:14:42.113Z"
      },
      {
        "duration": 5,
        "start_time": "2025-06-13T12:14:42.119Z"
      },
      {
        "duration": 9,
        "start_time": "2025-06-13T12:14:42.158Z"
      },
      {
        "duration": 95,
        "start_time": "2025-06-13T12:14:42.168Z"
      },
      {
        "duration": 31,
        "start_time": "2025-06-13T12:14:42.265Z"
      },
      {
        "duration": 17,
        "start_time": "2025-06-13T12:14:42.298Z"
      },
      {
        "duration": 3,
        "start_time": "2025-06-13T12:14:42.316Z"
      },
      {
        "duration": 14,
        "start_time": "2025-06-13T12:14:42.322Z"
      },
      {
        "duration": 34,
        "start_time": "2025-06-13T12:14:42.337Z"
      },
      {
        "duration": 802,
        "start_time": "2025-06-13T12:14:42.373Z"
      },
      {
        "duration": 5,
        "start_time": "2025-06-13T12:14:43.176Z"
      },
      {
        "duration": 394,
        "start_time": "2025-06-13T12:14:43.182Z"
      },
      {
        "duration": 4,
        "start_time": "2025-06-13T12:14:43.578Z"
      },
      {
        "duration": 374,
        "start_time": "2025-06-13T12:14:43.584Z"
      },
      {
        "duration": 5,
        "start_time": "2025-06-13T12:14:43.959Z"
      },
      {
        "duration": 91,
        "start_time": "2025-06-13T12:14:43.966Z"
      },
      {
        "duration": 5,
        "start_time": "2025-06-13T12:14:44.058Z"
      },
      {
        "duration": 7,
        "start_time": "2025-06-13T12:14:44.064Z"
      },
      {
        "duration": 369,
        "start_time": "2025-06-13T12:14:44.074Z"
      },
      {
        "duration": 13,
        "start_time": "2025-06-13T12:14:44.445Z"
      },
      {
        "duration": 219,
        "start_time": "2025-06-13T12:14:44.459Z"
      },
      {
        "duration": 6,
        "start_time": "2025-06-13T12:14:44.679Z"
      },
      {
        "duration": 364,
        "start_time": "2025-06-13T12:14:44.686Z"
      },
      {
        "duration": 7,
        "start_time": "2025-06-13T12:14:45.052Z"
      },
      {
        "duration": 136,
        "start_time": "2025-06-13T12:14:45.060Z"
      },
      {
        "duration": 11,
        "start_time": "2025-06-13T12:14:45.198Z"
      },
      {
        "duration": 83,
        "start_time": "2025-06-13T12:14:45.211Z"
      },
      {
        "duration": 20,
        "start_time": "2025-06-13T12:14:45.296Z"
      },
      {
        "duration": 9,
        "start_time": "2025-06-13T12:14:45.318Z"
      },
      {
        "duration": 9,
        "start_time": "2025-06-13T12:14:45.328Z"
      },
      {
        "duration": 26,
        "start_time": "2025-06-13T12:14:45.338Z"
      },
      {
        "duration": 321,
        "start_time": "2025-06-13T12:14:45.366Z"
      },
      {
        "duration": 4,
        "start_time": "2025-06-13T12:14:45.688Z"
      },
      {
        "duration": 428,
        "start_time": "2025-06-13T12:14:45.693Z"
      },
      {
        "duration": 13,
        "start_time": "2025-06-13T12:14:46.122Z"
      },
      {
        "duration": 25,
        "start_time": "2025-06-13T12:14:46.136Z"
      },
      {
        "duration": 2743,
        "start_time": "2025-06-13T12:14:46.163Z"
      },
      {
        "duration": 4,
        "start_time": "2025-06-13T12:14:48.908Z"
      },
      {
        "duration": 8,
        "start_time": "2025-06-13T12:14:48.913Z"
      },
      {
        "duration": 153,
        "start_time": "2025-06-13T12:14:48.923Z"
      },
      {
        "duration": 10,
        "start_time": "2025-06-13T12:14:49.077Z"
      },
      {
        "duration": 4,
        "start_time": "2025-06-13T12:14:49.088Z"
      },
      {
        "duration": 14,
        "start_time": "2025-06-13T12:14:49.094Z"
      },
      {
        "duration": 25,
        "start_time": "2025-06-13T12:14:49.109Z"
      },
      {
        "duration": 257,
        "start_time": "2025-06-13T12:14:49.135Z"
      },
      {
        "duration": 248,
        "start_time": "2025-06-13T12:14:49.394Z"
      },
      {
        "duration": 15,
        "start_time": "2025-06-13T12:14:49.643Z"
      },
      {
        "duration": 428,
        "start_time": "2025-06-13T12:14:49.659Z"
      },
      {
        "duration": 8,
        "start_time": "2025-06-13T12:14:50.089Z"
      },
      {
        "duration": 403,
        "start_time": "2025-06-13T12:17:03.793Z"
      },
      {
        "duration": 83,
        "start_time": "2025-06-13T12:17:04.197Z"
      },
      {
        "duration": 3,
        "start_time": "2025-06-13T12:17:04.281Z"
      },
      {
        "duration": 29,
        "start_time": "2025-06-13T12:17:04.287Z"
      },
      {
        "duration": 12,
        "start_time": "2025-06-13T12:17:04.318Z"
      },
      {
        "duration": 29,
        "start_time": "2025-06-13T12:17:04.332Z"
      },
      {
        "duration": 10,
        "start_time": "2025-06-13T12:17:04.363Z"
      },
      {
        "duration": 16,
        "start_time": "2025-06-13T12:17:04.375Z"
      },
      {
        "duration": 4,
        "start_time": "2025-06-13T12:17:04.393Z"
      },
      {
        "duration": 4,
        "start_time": "2025-06-13T12:17:04.400Z"
      },
      {
        "duration": 29,
        "start_time": "2025-06-13T12:17:04.406Z"
      },
      {
        "duration": 25,
        "start_time": "2025-06-13T12:17:04.437Z"
      },
      {
        "duration": 16,
        "start_time": "2025-06-13T12:17:04.464Z"
      },
      {
        "duration": 34,
        "start_time": "2025-06-13T12:17:04.481Z"
      },
      {
        "duration": 34,
        "start_time": "2025-06-13T12:17:04.517Z"
      },
      {
        "duration": 3,
        "start_time": "2025-06-13T12:17:04.553Z"
      },
      {
        "duration": 22,
        "start_time": "2025-06-13T12:17:04.558Z"
      },
      {
        "duration": 18,
        "start_time": "2025-06-13T12:17:04.581Z"
      },
      {
        "duration": 780,
        "start_time": "2025-06-13T12:17:04.600Z"
      },
      {
        "duration": 6,
        "start_time": "2025-06-13T12:17:05.382Z"
      },
      {
        "duration": 408,
        "start_time": "2025-06-13T12:17:05.389Z"
      },
      {
        "duration": 4,
        "start_time": "2025-06-13T12:17:05.799Z"
      },
      {
        "duration": 384,
        "start_time": "2025-06-13T12:17:05.804Z"
      },
      {
        "duration": 5,
        "start_time": "2025-06-13T12:17:06.189Z"
      },
      {
        "duration": 84,
        "start_time": "2025-06-13T12:17:06.196Z"
      },
      {
        "duration": 20,
        "start_time": "2025-06-13T12:17:06.282Z"
      },
      {
        "duration": 26,
        "start_time": "2025-06-13T12:17:06.305Z"
      },
      {
        "duration": 330,
        "start_time": "2025-06-13T12:17:06.336Z"
      },
      {
        "duration": 5,
        "start_time": "2025-06-13T12:17:06.667Z"
      },
      {
        "duration": 216,
        "start_time": "2025-06-13T12:17:06.674Z"
      },
      {
        "duration": 6,
        "start_time": "2025-06-13T12:17:06.892Z"
      },
      {
        "duration": 375,
        "start_time": "2025-06-13T12:17:06.900Z"
      },
      {
        "duration": 3,
        "start_time": "2025-06-13T12:17:07.276Z"
      },
      {
        "duration": 161,
        "start_time": "2025-06-13T12:17:07.280Z"
      },
      {
        "duration": 18,
        "start_time": "2025-06-13T12:17:07.443Z"
      },
      {
        "duration": 6,
        "start_time": "2025-06-13T12:17:07.463Z"
      },
      {
        "duration": 5,
        "start_time": "2025-06-13T12:17:07.471Z"
      },
      {
        "duration": 7,
        "start_time": "2025-06-13T12:17:07.477Z"
      },
      {
        "duration": 6,
        "start_time": "2025-06-13T12:17:07.486Z"
      },
      {
        "duration": 26,
        "start_time": "2025-06-13T12:17:07.493Z"
      },
      {
        "duration": 291,
        "start_time": "2025-06-13T12:17:07.520Z"
      },
      {
        "duration": 3,
        "start_time": "2025-06-13T12:17:07.813Z"
      },
      {
        "duration": 433,
        "start_time": "2025-06-13T12:17:07.818Z"
      },
      {
        "duration": 15,
        "start_time": "2025-06-13T12:17:08.252Z"
      },
      {
        "duration": 13,
        "start_time": "2025-06-13T12:17:08.269Z"
      },
      {
        "duration": 2853,
        "start_time": "2025-06-13T12:17:08.284Z"
      },
      {
        "duration": 4,
        "start_time": "2025-06-13T12:17:11.139Z"
      },
      {
        "duration": 16,
        "start_time": "2025-06-13T12:17:11.145Z"
      },
      {
        "duration": 168,
        "start_time": "2025-06-13T12:17:11.163Z"
      },
      {
        "duration": 26,
        "start_time": "2025-06-13T12:17:11.332Z"
      },
      {
        "duration": 6,
        "start_time": "2025-06-13T12:17:11.360Z"
      },
      {
        "duration": 136,
        "start_time": "2025-06-13T12:17:11.367Z"
      },
      {
        "duration": 10,
        "start_time": "2025-06-13T12:17:11.505Z"
      },
      {
        "duration": 323,
        "start_time": "2025-06-13T12:17:11.518Z"
      },
      {
        "duration": 268,
        "start_time": "2025-06-13T12:17:11.843Z"
      },
      {
        "duration": 6,
        "start_time": "2025-06-13T12:17:12.113Z"
      },
      {
        "duration": 465,
        "start_time": "2025-06-13T12:17:12.121Z"
      },
      {
        "duration": 8,
        "start_time": "2025-06-13T12:17:12.588Z"
      },
      {
        "duration": 45,
        "start_time": "2025-06-13T18:31:13.894Z"
      },
      {
        "duration": 367,
        "start_time": "2025-06-13T18:34:16.815Z"
      },
      {
        "duration": 76,
        "start_time": "2025-06-13T18:34:17.183Z"
      },
      {
        "duration": 3,
        "start_time": "2025-06-13T18:34:17.260Z"
      },
      {
        "duration": 20,
        "start_time": "2025-06-13T18:34:17.264Z"
      },
      {
        "duration": 11,
        "start_time": "2025-06-13T18:34:17.287Z"
      },
      {
        "duration": 21,
        "start_time": "2025-06-13T18:34:17.299Z"
      },
      {
        "duration": 41,
        "start_time": "2025-06-13T18:34:17.322Z"
      },
      {
        "duration": 10,
        "start_time": "2025-06-13T18:34:17.364Z"
      },
      {
        "duration": 3,
        "start_time": "2025-06-13T18:34:17.376Z"
      },
      {
        "duration": 10,
        "start_time": "2025-06-13T18:34:17.380Z"
      },
      {
        "duration": 7,
        "start_time": "2025-06-13T18:34:17.391Z"
      },
      {
        "duration": 15,
        "start_time": "2025-06-13T18:34:17.399Z"
      },
      {
        "duration": 4,
        "start_time": "2025-06-13T18:34:17.415Z"
      },
      {
        "duration": 78,
        "start_time": "2025-06-13T18:34:17.422Z"
      },
      {
        "duration": 19,
        "start_time": "2025-06-13T18:34:17.502Z"
      },
      {
        "duration": 76,
        "start_time": "2025-06-13T18:34:17.523Z"
      },
      {
        "duration": 0,
        "start_time": "2025-06-13T18:34:17.601Z"
      },
      {
        "duration": 0,
        "start_time": "2025-06-13T18:34:17.602Z"
      },
      {
        "duration": 0,
        "start_time": "2025-06-13T18:34:17.603Z"
      },
      {
        "duration": 0,
        "start_time": "2025-06-13T18:34:17.604Z"
      },
      {
        "duration": 0,
        "start_time": "2025-06-13T18:34:17.605Z"
      },
      {
        "duration": 0,
        "start_time": "2025-06-13T18:34:17.606Z"
      },
      {
        "duration": 0,
        "start_time": "2025-06-13T18:34:17.607Z"
      },
      {
        "duration": 0,
        "start_time": "2025-06-13T18:34:17.608Z"
      },
      {
        "duration": 0,
        "start_time": "2025-06-13T18:34:17.609Z"
      },
      {
        "duration": 0,
        "start_time": "2025-06-13T18:34:17.610Z"
      },
      {
        "duration": 0,
        "start_time": "2025-06-13T18:34:17.611Z"
      },
      {
        "duration": 0,
        "start_time": "2025-06-13T18:34:17.612Z"
      },
      {
        "duration": 0,
        "start_time": "2025-06-13T18:34:17.613Z"
      },
      {
        "duration": 0,
        "start_time": "2025-06-13T18:34:17.614Z"
      },
      {
        "duration": 0,
        "start_time": "2025-06-13T18:34:17.615Z"
      },
      {
        "duration": 0,
        "start_time": "2025-06-13T18:34:17.616Z"
      },
      {
        "duration": 0,
        "start_time": "2025-06-13T18:34:17.617Z"
      },
      {
        "duration": 0,
        "start_time": "2025-06-13T18:34:17.618Z"
      },
      {
        "duration": 0,
        "start_time": "2025-06-13T18:34:17.619Z"
      },
      {
        "duration": 0,
        "start_time": "2025-06-13T18:34:17.620Z"
      },
      {
        "duration": 0,
        "start_time": "2025-06-13T18:34:17.621Z"
      },
      {
        "duration": 0,
        "start_time": "2025-06-13T18:34:17.622Z"
      },
      {
        "duration": 0,
        "start_time": "2025-06-13T18:34:17.623Z"
      },
      {
        "duration": 0,
        "start_time": "2025-06-13T18:34:17.660Z"
      },
      {
        "duration": 0,
        "start_time": "2025-06-13T18:34:17.661Z"
      },
      {
        "duration": 0,
        "start_time": "2025-06-13T18:34:17.662Z"
      },
      {
        "duration": 0,
        "start_time": "2025-06-13T18:34:17.663Z"
      },
      {
        "duration": 0,
        "start_time": "2025-06-13T18:34:17.664Z"
      },
      {
        "duration": 0,
        "start_time": "2025-06-13T18:34:17.665Z"
      },
      {
        "duration": 0,
        "start_time": "2025-06-13T18:34:17.666Z"
      },
      {
        "duration": 0,
        "start_time": "2025-06-13T18:34:17.667Z"
      },
      {
        "duration": 0,
        "start_time": "2025-06-13T18:34:17.668Z"
      },
      {
        "duration": 0,
        "start_time": "2025-06-13T18:34:17.669Z"
      },
      {
        "duration": 0,
        "start_time": "2025-06-13T18:34:17.670Z"
      },
      {
        "duration": 0,
        "start_time": "2025-06-13T18:34:17.671Z"
      },
      {
        "duration": 0,
        "start_time": "2025-06-13T18:34:17.672Z"
      },
      {
        "duration": 0,
        "start_time": "2025-06-13T18:34:17.673Z"
      },
      {
        "duration": 0,
        "start_time": "2025-06-13T18:34:17.674Z"
      },
      {
        "duration": 0,
        "start_time": "2025-06-13T18:34:17.675Z"
      },
      {
        "duration": 0,
        "start_time": "2025-06-13T18:34:17.675Z"
      },
      {
        "duration": 0,
        "start_time": "2025-06-13T18:34:17.677Z"
      },
      {
        "duration": 0,
        "start_time": "2025-06-13T18:34:17.678Z"
      },
      {
        "duration": 0,
        "start_time": "2025-06-13T18:34:17.679Z"
      },
      {
        "duration": 15,
        "start_time": "2025-06-13T18:38:08.709Z"
      },
      {
        "duration": 14,
        "start_time": "2025-06-13T18:39:56.649Z"
      },
      {
        "duration": 26,
        "start_time": "2025-06-13T18:43:31.125Z"
      },
      {
        "duration": 10,
        "start_time": "2025-06-13T18:45:50.207Z"
      },
      {
        "duration": 1240,
        "start_time": "2025-06-13T18:54:41.420Z"
      },
      {
        "duration": 1483,
        "start_time": "2025-06-14T10:41:11.420Z"
      },
      {
        "duration": 151,
        "start_time": "2025-06-14T10:41:12.905Z"
      },
      {
        "duration": 10,
        "start_time": "2025-06-14T10:41:13.440Z"
      },
      {
        "duration": 377,
        "start_time": "2025-06-14T10:41:24.892Z"
      },
      {
        "duration": 319,
        "start_time": "2025-06-14T10:41:25.272Z"
      },
      {
        "duration": 3,
        "start_time": "2025-06-14T10:41:25.592Z"
      },
      {
        "duration": 27,
        "start_time": "2025-06-14T10:41:25.597Z"
      },
      {
        "duration": 11,
        "start_time": "2025-06-14T10:41:25.626Z"
      },
      {
        "duration": 24,
        "start_time": "2025-06-14T10:41:25.639Z"
      },
      {
        "duration": 11,
        "start_time": "2025-06-14T10:41:25.665Z"
      },
      {
        "duration": 10,
        "start_time": "2025-06-14T10:41:25.678Z"
      },
      {
        "duration": 9,
        "start_time": "2025-06-14T10:41:25.690Z"
      },
      {
        "duration": 8,
        "start_time": "2025-06-14T10:41:25.701Z"
      },
      {
        "duration": 27,
        "start_time": "2025-06-14T10:41:25.711Z"
      },
      {
        "duration": 9,
        "start_time": "2025-06-14T10:41:25.740Z"
      },
      {
        "duration": 10,
        "start_time": "2025-06-14T10:41:25.751Z"
      },
      {
        "duration": 155,
        "start_time": "2025-06-14T10:41:25.762Z"
      },
      {
        "duration": 18,
        "start_time": "2025-06-14T10:41:25.919Z"
      },
      {
        "duration": 15,
        "start_time": "2025-06-14T10:41:25.939Z"
      },
      {
        "duration": 3,
        "start_time": "2025-06-14T10:41:25.956Z"
      },
      {
        "duration": 13,
        "start_time": "2025-06-14T10:41:25.961Z"
      },
      {
        "duration": 18,
        "start_time": "2025-06-14T10:41:25.976Z"
      },
      {
        "duration": 789,
        "start_time": "2025-06-14T10:41:25.996Z"
      },
      {
        "duration": 5,
        "start_time": "2025-06-14T10:41:26.786Z"
      },
      {
        "duration": 327,
        "start_time": "2025-06-14T10:41:26.793Z"
      },
      {
        "duration": 17,
        "start_time": "2025-06-14T10:41:27.122Z"
      },
      {
        "duration": 535,
        "start_time": "2025-06-14T10:41:27.140Z"
      },
      {
        "duration": 6,
        "start_time": "2025-06-14T10:41:27.676Z"
      },
      {
        "duration": 8,
        "start_time": "2025-06-14T10:41:27.683Z"
      },
      {
        "duration": 5,
        "start_time": "2025-06-14T10:41:27.693Z"
      },
      {
        "duration": 6,
        "start_time": "2025-06-14T10:41:27.702Z"
      },
      {
        "duration": 363,
        "start_time": "2025-06-14T10:41:27.709Z"
      },
      {
        "duration": 4,
        "start_time": "2025-06-14T10:41:28.074Z"
      },
      {
        "duration": 261,
        "start_time": "2025-06-14T10:41:28.079Z"
      },
      {
        "duration": 7,
        "start_time": "2025-06-14T10:41:28.342Z"
      },
      {
        "duration": 384,
        "start_time": "2025-06-14T10:41:28.351Z"
      },
      {
        "duration": 3,
        "start_time": "2025-06-14T10:41:28.737Z"
      },
      {
        "duration": 195,
        "start_time": "2025-06-14T10:41:28.742Z"
      },
      {
        "duration": 7,
        "start_time": "2025-06-14T10:41:28.938Z"
      },
      {
        "duration": 6,
        "start_time": "2025-06-14T10:41:28.946Z"
      },
      {
        "duration": 111,
        "start_time": "2025-06-14T10:41:28.953Z"
      },
      {
        "duration": 7,
        "start_time": "2025-06-14T10:41:29.066Z"
      },
      {
        "duration": 9,
        "start_time": "2025-06-14T10:41:29.074Z"
      },
      {
        "duration": 41,
        "start_time": "2025-06-14T10:41:29.085Z"
      },
      {
        "duration": 229,
        "start_time": "2025-06-14T10:41:29.128Z"
      },
      {
        "duration": 4,
        "start_time": "2025-06-14T10:41:29.359Z"
      },
      {
        "duration": 459,
        "start_time": "2025-06-14T10:41:29.365Z"
      },
      {
        "duration": 9,
        "start_time": "2025-06-14T10:41:29.827Z"
      },
      {
        "duration": 82,
        "start_time": "2025-06-14T10:41:29.837Z"
      },
      {
        "duration": 5,
        "start_time": "2025-06-14T10:41:29.921Z"
      },
      {
        "duration": 19,
        "start_time": "2025-06-14T10:41:29.928Z"
      },
      {
        "duration": 113,
        "start_time": "2025-06-14T10:41:29.949Z"
      },
      {
        "duration": 0,
        "start_time": "2025-06-14T10:41:30.064Z"
      },
      {
        "duration": 0,
        "start_time": "2025-06-14T10:41:30.065Z"
      },
      {
        "duration": 0,
        "start_time": "2025-06-14T10:41:30.067Z"
      },
      {
        "duration": 0,
        "start_time": "2025-06-14T10:41:30.068Z"
      },
      {
        "duration": 0,
        "start_time": "2025-06-14T10:41:30.069Z"
      },
      {
        "duration": 0,
        "start_time": "2025-06-14T10:41:30.070Z"
      },
      {
        "duration": 0,
        "start_time": "2025-06-14T10:41:30.072Z"
      },
      {
        "duration": 0,
        "start_time": "2025-06-14T10:41:30.073Z"
      },
      {
        "duration": 1,
        "start_time": "2025-06-14T10:41:30.074Z"
      },
      {
        "duration": 0,
        "start_time": "2025-06-14T10:41:30.076Z"
      },
      {
        "duration": 0,
        "start_time": "2025-06-14T10:41:30.077Z"
      },
      {
        "duration": 0,
        "start_time": "2025-06-14T10:41:30.078Z"
      },
      {
        "duration": 0,
        "start_time": "2025-06-14T10:41:30.079Z"
      },
      {
        "duration": 0,
        "start_time": "2025-06-14T10:41:30.080Z"
      },
      {
        "duration": 0,
        "start_time": "2025-06-14T10:41:30.082Z"
      },
      {
        "duration": 132,
        "start_time": "2025-06-14T10:53:08.354Z"
      },
      {
        "duration": 1254,
        "start_time": "2025-06-14T10:53:29.326Z"
      },
      {
        "duration": 23,
        "start_time": "2025-06-14T10:53:46.297Z"
      },
      {
        "duration": 14,
        "start_time": "2025-06-14T11:00:27.334Z"
      },
      {
        "duration": 15,
        "start_time": "2025-06-14T11:00:40.207Z"
      },
      {
        "duration": 4,
        "start_time": "2025-06-14T11:00:53.765Z"
      },
      {
        "duration": 6,
        "start_time": "2025-06-14T11:00:55.226Z"
      },
      {
        "duration": 16,
        "start_time": "2025-06-14T11:00:56.746Z"
      },
      {
        "duration": 13,
        "start_time": "2025-06-14T11:05:39.648Z"
      },
      {
        "duration": 3,
        "start_time": "2025-06-14T11:05:41.428Z"
      },
      {
        "duration": 5,
        "start_time": "2025-06-14T11:05:42.506Z"
      },
      {
        "duration": 14,
        "start_time": "2025-06-14T11:05:43.886Z"
      },
      {
        "duration": 19564,
        "start_time": "2025-06-14T11:05:59.085Z"
      },
      {
        "duration": 283,
        "start_time": "2025-06-14T11:06:18.652Z"
      },
      {
        "duration": 7,
        "start_time": "2025-06-14T11:06:18.938Z"
      },
      {
        "duration": 25,
        "start_time": "2025-06-14T11:21:36.920Z"
      },
      {
        "duration": 3,
        "start_time": "2025-06-14T11:26:51.696Z"
      },
      {
        "duration": 22,
        "start_time": "2025-06-14T11:26:52.833Z"
      },
      {
        "duration": 3,
        "start_time": "2025-06-14T11:26:53.455Z"
      },
      {
        "duration": 6,
        "start_time": "2025-06-14T11:26:54.312Z"
      },
      {
        "duration": 15,
        "start_time": "2025-06-14T11:36:09.172Z"
      },
      {
        "duration": 3,
        "start_time": "2025-06-14T11:36:11.423Z"
      },
      {
        "duration": 14,
        "start_time": "2025-06-14T11:36:12.500Z"
      },
      {
        "duration": 3,
        "start_time": "2025-06-14T11:36:49.349Z"
      },
      {
        "duration": 14,
        "start_time": "2025-06-14T11:36:51.455Z"
      },
      {
        "duration": 3,
        "start_time": "2025-06-14T11:36:53.096Z"
      },
      {
        "duration": 6,
        "start_time": "2025-06-14T11:36:55.813Z"
      },
      {
        "duration": 12,
        "start_time": "2025-06-14T11:37:00.988Z"
      },
      {
        "duration": 424,
        "start_time": "2025-06-14T18:42:57.903Z"
      },
      {
        "duration": 79,
        "start_time": "2025-06-14T18:42:58.329Z"
      },
      {
        "duration": 3,
        "start_time": "2025-06-14T18:42:58.409Z"
      },
      {
        "duration": 37,
        "start_time": "2025-06-14T18:42:58.414Z"
      },
      {
        "duration": 12,
        "start_time": "2025-06-14T18:42:58.452Z"
      },
      {
        "duration": 36,
        "start_time": "2025-06-14T18:42:58.465Z"
      },
      {
        "duration": 9,
        "start_time": "2025-06-14T18:42:58.503Z"
      },
      {
        "duration": 13,
        "start_time": "2025-06-14T18:42:58.514Z"
      },
      {
        "duration": 3,
        "start_time": "2025-06-14T18:42:58.528Z"
      },
      {
        "duration": 18,
        "start_time": "2025-06-14T18:42:58.534Z"
      },
      {
        "duration": 49,
        "start_time": "2025-06-14T18:42:58.554Z"
      },
      {
        "duration": 18,
        "start_time": "2025-06-14T18:42:58.604Z"
      },
      {
        "duration": 6,
        "start_time": "2025-06-14T18:42:58.624Z"
      },
      {
        "duration": 33,
        "start_time": "2025-06-14T18:42:58.632Z"
      },
      {
        "duration": 18,
        "start_time": "2025-06-14T18:42:58.667Z"
      },
      {
        "duration": 16,
        "start_time": "2025-06-14T18:42:58.706Z"
      },
      {
        "duration": 3,
        "start_time": "2025-06-14T18:42:58.723Z"
      },
      {
        "duration": 15,
        "start_time": "2025-06-14T18:42:58.728Z"
      },
      {
        "duration": 20,
        "start_time": "2025-06-14T18:42:58.745Z"
      },
      {
        "duration": 979,
        "start_time": "2025-06-14T18:42:58.766Z"
      },
      {
        "duration": 6,
        "start_time": "2025-06-14T18:42:59.747Z"
      },
      {
        "duration": 377,
        "start_time": "2025-06-14T18:42:59.754Z"
      },
      {
        "duration": 5,
        "start_time": "2025-06-14T18:43:00.133Z"
      },
      {
        "duration": 457,
        "start_time": "2025-06-14T18:43:00.139Z"
      },
      {
        "duration": 10,
        "start_time": "2025-06-14T18:43:00.598Z"
      },
      {
        "duration": 60,
        "start_time": "2025-06-14T18:43:00.610Z"
      },
      {
        "duration": 52,
        "start_time": "2025-06-14T18:43:00.672Z"
      },
      {
        "duration": 35,
        "start_time": "2025-06-14T18:43:00.728Z"
      },
      {
        "duration": 369,
        "start_time": "2025-06-14T18:43:00.765Z"
      },
      {
        "duration": 3,
        "start_time": "2025-06-14T18:43:01.136Z"
      },
      {
        "duration": 287,
        "start_time": "2025-06-14T18:43:01.141Z"
      },
      {
        "duration": 7,
        "start_time": "2025-06-14T18:43:01.429Z"
      },
      {
        "duration": 382,
        "start_time": "2025-06-14T18:43:01.437Z"
      },
      {
        "duration": 2,
        "start_time": "2025-06-14T18:43:01.821Z"
      },
      {
        "duration": 143,
        "start_time": "2025-06-14T18:43:01.825Z"
      },
      {
        "duration": 8,
        "start_time": "2025-06-14T18:43:01.969Z"
      },
      {
        "duration": 24,
        "start_time": "2025-06-14T18:43:01.978Z"
      },
      {
        "duration": 17,
        "start_time": "2025-06-14T18:43:02.003Z"
      },
      {
        "duration": 52,
        "start_time": "2025-06-14T18:43:02.021Z"
      },
      {
        "duration": 21,
        "start_time": "2025-06-14T18:43:02.074Z"
      },
      {
        "duration": 31,
        "start_time": "2025-06-14T18:43:02.096Z"
      },
      {
        "duration": 307,
        "start_time": "2025-06-14T18:43:02.128Z"
      },
      {
        "duration": 4,
        "start_time": "2025-06-14T18:43:02.436Z"
      },
      {
        "duration": 392,
        "start_time": "2025-06-14T18:43:02.441Z"
      },
      {
        "duration": 4,
        "start_time": "2025-06-14T18:43:02.834Z"
      },
      {
        "duration": 33,
        "start_time": "2025-06-14T18:43:02.839Z"
      },
      {
        "duration": 1357,
        "start_time": "2025-06-14T18:43:02.873Z"
      },
      {
        "duration": 0,
        "start_time": "2025-06-14T18:43:04.232Z"
      },
      {
        "duration": 0,
        "start_time": "2025-06-14T18:43:04.233Z"
      },
      {
        "duration": 0,
        "start_time": "2025-06-14T18:43:04.235Z"
      },
      {
        "duration": 0,
        "start_time": "2025-06-14T18:43:04.237Z"
      },
      {
        "duration": 0,
        "start_time": "2025-06-14T18:43:04.239Z"
      },
      {
        "duration": 0,
        "start_time": "2025-06-14T18:43:04.240Z"
      },
      {
        "duration": 0,
        "start_time": "2025-06-14T18:43:04.242Z"
      },
      {
        "duration": 0,
        "start_time": "2025-06-14T18:43:04.244Z"
      },
      {
        "duration": 0,
        "start_time": "2025-06-14T18:43:04.245Z"
      },
      {
        "duration": 0,
        "start_time": "2025-06-14T18:43:04.246Z"
      },
      {
        "duration": 0,
        "start_time": "2025-06-14T18:43:04.248Z"
      },
      {
        "duration": 0,
        "start_time": "2025-06-14T18:43:04.250Z"
      },
      {
        "duration": 0,
        "start_time": "2025-06-14T18:43:04.251Z"
      },
      {
        "duration": 0,
        "start_time": "2025-06-14T18:43:04.253Z"
      },
      {
        "duration": 0,
        "start_time": "2025-06-14T18:43:04.254Z"
      },
      {
        "duration": 0,
        "start_time": "2025-06-14T18:43:04.256Z"
      },
      {
        "duration": 0,
        "start_time": "2025-06-14T18:43:04.257Z"
      },
      {
        "duration": 0,
        "start_time": "2025-06-14T18:43:04.259Z"
      },
      {
        "duration": 0,
        "start_time": "2025-06-14T18:43:04.260Z"
      },
      {
        "duration": 3,
        "start_time": "2025-06-14T18:44:45.881Z"
      },
      {
        "duration": 75,
        "start_time": "2025-06-14T18:44:48.490Z"
      },
      {
        "duration": 280,
        "start_time": "2025-06-14T18:44:52.400Z"
      },
      {
        "duration": 16,
        "start_time": "2025-06-14T18:45:38.010Z"
      },
      {
        "duration": 6,
        "start_time": "2025-06-14T18:47:19.793Z"
      },
      {
        "duration": 12,
        "start_time": "2025-06-14T18:48:00.849Z"
      },
      {
        "duration": 12,
        "start_time": "2025-06-14T18:48:03.760Z"
      },
      {
        "duration": 9,
        "start_time": "2025-06-14T18:49:23.425Z"
      },
      {
        "duration": 384,
        "start_time": "2025-06-14T18:49:49.646Z"
      },
      {
        "duration": 81,
        "start_time": "2025-06-14T18:49:50.032Z"
      },
      {
        "duration": 3,
        "start_time": "2025-06-14T18:49:50.115Z"
      },
      {
        "duration": 24,
        "start_time": "2025-06-14T18:49:50.119Z"
      },
      {
        "duration": 12,
        "start_time": "2025-06-14T18:49:50.145Z"
      },
      {
        "duration": 58,
        "start_time": "2025-06-14T18:49:50.159Z"
      },
      {
        "duration": 8,
        "start_time": "2025-06-14T18:49:50.219Z"
      },
      {
        "duration": 32,
        "start_time": "2025-06-14T18:49:50.229Z"
      },
      {
        "duration": 23,
        "start_time": "2025-06-14T18:49:50.263Z"
      },
      {
        "duration": 65,
        "start_time": "2025-06-14T18:49:50.289Z"
      },
      {
        "duration": 30,
        "start_time": "2025-06-14T18:49:50.356Z"
      },
      {
        "duration": 14,
        "start_time": "2025-06-14T18:49:50.388Z"
      },
      {
        "duration": 21,
        "start_time": "2025-06-14T18:49:50.404Z"
      },
      {
        "duration": 49,
        "start_time": "2025-06-14T18:49:50.426Z"
      },
      {
        "duration": 20,
        "start_time": "2025-06-14T18:49:50.477Z"
      },
      {
        "duration": 17,
        "start_time": "2025-06-14T18:49:50.498Z"
      },
      {
        "duration": 3,
        "start_time": "2025-06-14T18:49:50.516Z"
      },
      {
        "duration": 25,
        "start_time": "2025-06-14T18:49:50.521Z"
      },
      {
        "duration": 31,
        "start_time": "2025-06-14T18:49:50.547Z"
      },
      {
        "duration": 858,
        "start_time": "2025-06-14T18:49:50.580Z"
      },
      {
        "duration": 4,
        "start_time": "2025-06-14T18:49:51.440Z"
      },
      {
        "duration": 332,
        "start_time": "2025-06-14T18:49:51.446Z"
      },
      {
        "duration": 4,
        "start_time": "2025-06-14T18:49:51.780Z"
      },
      {
        "duration": 353,
        "start_time": "2025-06-14T18:49:51.786Z"
      },
      {
        "duration": 4,
        "start_time": "2025-06-14T18:49:52.141Z"
      },
      {
        "duration": 68,
        "start_time": "2025-06-14T18:49:52.146Z"
      },
      {
        "duration": 61,
        "start_time": "2025-06-14T18:49:52.216Z"
      },
      {
        "duration": 11,
        "start_time": "2025-06-14T18:49:52.281Z"
      },
      {
        "duration": 366,
        "start_time": "2025-06-14T18:49:52.293Z"
      },
      {
        "duration": 5,
        "start_time": "2025-06-14T18:49:52.660Z"
      },
      {
        "duration": 261,
        "start_time": "2025-06-14T18:49:52.666Z"
      },
      {
        "duration": 9,
        "start_time": "2025-06-14T18:49:52.929Z"
      },
      {
        "duration": 378,
        "start_time": "2025-06-14T18:49:52.940Z"
      },
      {
        "duration": 3,
        "start_time": "2025-06-14T18:49:53.321Z"
      },
      {
        "duration": 140,
        "start_time": "2025-06-14T18:49:53.326Z"
      },
      {
        "duration": 9,
        "start_time": "2025-06-14T18:49:53.468Z"
      },
      {
        "duration": 19,
        "start_time": "2025-06-14T18:49:53.479Z"
      },
      {
        "duration": 16,
        "start_time": "2025-06-14T18:49:53.505Z"
      },
      {
        "duration": 16,
        "start_time": "2025-06-14T18:49:53.523Z"
      },
      {
        "duration": 27,
        "start_time": "2025-06-14T18:49:53.541Z"
      },
      {
        "duration": 58,
        "start_time": "2025-06-14T18:49:53.569Z"
      },
      {
        "duration": 225,
        "start_time": "2025-06-14T18:49:53.629Z"
      },
      {
        "duration": 4,
        "start_time": "2025-06-14T18:49:53.855Z"
      },
      {
        "duration": 460,
        "start_time": "2025-06-14T18:49:53.860Z"
      },
      {
        "duration": 3,
        "start_time": "2025-06-14T18:49:54.321Z"
      },
      {
        "duration": 56,
        "start_time": "2025-06-14T18:49:54.326Z"
      },
      {
        "duration": 29,
        "start_time": "2025-06-14T18:49:54.384Z"
      },
      {
        "duration": 77,
        "start_time": "2025-06-14T18:49:54.415Z"
      },
      {
        "duration": 287,
        "start_time": "2025-06-14T18:49:54.494Z"
      },
      {
        "duration": 6,
        "start_time": "2025-06-14T18:49:54.783Z"
      },
      {
        "duration": 123,
        "start_time": "2025-06-14T18:49:54.790Z"
      },
      {
        "duration": 0,
        "start_time": "2025-06-14T18:49:54.915Z"
      },
      {
        "duration": 0,
        "start_time": "2025-06-14T18:49:54.917Z"
      },
      {
        "duration": 0,
        "start_time": "2025-06-14T18:49:54.917Z"
      },
      {
        "duration": 0,
        "start_time": "2025-06-14T18:49:54.919Z"
      },
      {
        "duration": 0,
        "start_time": "2025-06-14T18:49:54.920Z"
      },
      {
        "duration": 0,
        "start_time": "2025-06-14T18:49:54.921Z"
      },
      {
        "duration": 0,
        "start_time": "2025-06-14T18:49:54.922Z"
      },
      {
        "duration": 0,
        "start_time": "2025-06-14T18:49:54.924Z"
      },
      {
        "duration": 0,
        "start_time": "2025-06-14T18:49:54.925Z"
      },
      {
        "duration": 0,
        "start_time": "2025-06-14T18:49:54.926Z"
      },
      {
        "duration": 0,
        "start_time": "2025-06-14T18:49:54.927Z"
      },
      {
        "duration": 420,
        "start_time": "2025-06-14T19:12:09.013Z"
      },
      {
        "duration": 82,
        "start_time": "2025-06-14T19:12:09.435Z"
      },
      {
        "duration": 3,
        "start_time": "2025-06-14T19:12:09.519Z"
      },
      {
        "duration": 39,
        "start_time": "2025-06-14T19:12:09.524Z"
      },
      {
        "duration": 11,
        "start_time": "2025-06-14T19:12:09.565Z"
      },
      {
        "duration": 47,
        "start_time": "2025-06-14T19:12:09.578Z"
      },
      {
        "duration": 10,
        "start_time": "2025-06-14T19:12:09.627Z"
      },
      {
        "duration": 12,
        "start_time": "2025-06-14T19:12:09.638Z"
      },
      {
        "duration": 6,
        "start_time": "2025-06-14T19:12:09.651Z"
      },
      {
        "duration": 3,
        "start_time": "2025-06-14T19:12:09.661Z"
      },
      {
        "duration": 12,
        "start_time": "2025-06-14T19:12:09.665Z"
      },
      {
        "duration": 9,
        "start_time": "2025-06-14T19:12:09.706Z"
      },
      {
        "duration": 7,
        "start_time": "2025-06-14T19:12:09.717Z"
      },
      {
        "duration": 67,
        "start_time": "2025-06-14T19:12:09.725Z"
      },
      {
        "duration": 19,
        "start_time": "2025-06-14T19:12:09.794Z"
      },
      {
        "duration": 3,
        "start_time": "2025-06-14T19:12:09.815Z"
      },
      {
        "duration": 13,
        "start_time": "2025-06-14T19:12:09.819Z"
      },
      {
        "duration": 18,
        "start_time": "2025-06-14T19:12:09.833Z"
      },
      {
        "duration": 790,
        "start_time": "2025-06-14T19:12:09.853Z"
      },
      {
        "duration": 5,
        "start_time": "2025-06-14T19:12:10.645Z"
      },
      {
        "duration": 330,
        "start_time": "2025-06-14T19:12:10.652Z"
      },
      {
        "duration": 5,
        "start_time": "2025-06-14T19:12:10.985Z"
      },
      {
        "duration": 405,
        "start_time": "2025-06-14T19:12:11.005Z"
      },
      {
        "duration": 7,
        "start_time": "2025-06-14T19:12:11.413Z"
      },
      {
        "duration": 8,
        "start_time": "2025-06-14T19:12:11.421Z"
      },
      {
        "duration": 20,
        "start_time": "2025-06-14T19:12:11.431Z"
      },
      {
        "duration": 12,
        "start_time": "2025-06-14T19:12:11.453Z"
      },
      {
        "duration": 360,
        "start_time": "2025-06-14T19:12:11.469Z"
      },
      {
        "duration": 3,
        "start_time": "2025-06-14T19:12:11.831Z"
      },
      {
        "duration": 203,
        "start_time": "2025-06-14T19:12:11.835Z"
      },
      {
        "duration": 7,
        "start_time": "2025-06-14T19:12:12.039Z"
      },
      {
        "duration": 415,
        "start_time": "2025-06-14T19:12:12.048Z"
      },
      {
        "duration": 3,
        "start_time": "2025-06-14T19:12:12.465Z"
      },
      {
        "duration": 145,
        "start_time": "2025-06-14T19:12:12.469Z"
      },
      {
        "duration": 7,
        "start_time": "2025-06-14T19:12:12.615Z"
      },
      {
        "duration": 11,
        "start_time": "2025-06-14T19:12:12.623Z"
      },
      {
        "duration": 29,
        "start_time": "2025-06-14T19:12:12.635Z"
      },
      {
        "duration": 11,
        "start_time": "2025-06-14T19:12:12.666Z"
      },
      {
        "duration": 3,
        "start_time": "2025-06-14T19:12:12.679Z"
      },
      {
        "duration": 35,
        "start_time": "2025-06-14T19:12:12.684Z"
      },
      {
        "duration": 242,
        "start_time": "2025-06-14T19:12:12.721Z"
      },
      {
        "duration": 4,
        "start_time": "2025-06-14T19:12:12.965Z"
      },
      {
        "duration": 455,
        "start_time": "2025-06-14T19:12:12.971Z"
      },
      {
        "duration": 3,
        "start_time": "2025-06-14T19:12:13.427Z"
      },
      {
        "duration": 6,
        "start_time": "2025-06-14T19:12:13.432Z"
      },
      {
        "duration": 9,
        "start_time": "2025-06-14T19:12:13.439Z"
      },
      {
        "duration": 100,
        "start_time": "2025-06-14T19:12:13.450Z"
      },
      {
        "duration": 327,
        "start_time": "2025-06-14T19:12:13.551Z"
      },
      {
        "duration": 6,
        "start_time": "2025-06-14T19:12:13.880Z"
      },
      {
        "duration": 25,
        "start_time": "2025-06-14T19:12:13.887Z"
      },
      {
        "duration": 4,
        "start_time": "2025-06-14T19:12:13.914Z"
      },
      {
        "duration": 17,
        "start_time": "2025-06-14T19:12:13.919Z"
      },
      {
        "duration": 8,
        "start_time": "2025-06-14T19:12:13.938Z"
      },
      {
        "duration": 308,
        "start_time": "2025-06-14T19:12:13.947Z"
      },
      {
        "duration": 274,
        "start_time": "2025-06-14T19:12:14.257Z"
      },
      {
        "duration": 6,
        "start_time": "2025-06-14T19:12:14.533Z"
      },
      {
        "duration": 480,
        "start_time": "2025-06-14T19:12:14.541Z"
      },
      {
        "duration": 19,
        "start_time": "2025-06-14T19:12:15.023Z"
      },
      {
        "duration": 64,
        "start_time": "2025-06-14T19:19:05.169Z"
      },
      {
        "duration": 433,
        "start_time": "2025-06-14T19:21:54.907Z"
      },
      {
        "duration": 83,
        "start_time": "2025-06-14T19:21:55.342Z"
      },
      {
        "duration": 4,
        "start_time": "2025-06-14T19:21:55.427Z"
      },
      {
        "duration": 24,
        "start_time": "2025-06-14T19:21:55.433Z"
      },
      {
        "duration": 12,
        "start_time": "2025-06-14T19:21:55.459Z"
      },
      {
        "duration": 47,
        "start_time": "2025-06-14T19:21:55.473Z"
      },
      {
        "duration": 10,
        "start_time": "2025-06-14T19:21:55.522Z"
      },
      {
        "duration": 11,
        "start_time": "2025-06-14T19:21:55.534Z"
      },
      {
        "duration": 3,
        "start_time": "2025-06-14T19:21:55.547Z"
      },
      {
        "duration": 4,
        "start_time": "2025-06-14T19:21:55.553Z"
      },
      {
        "duration": 5,
        "start_time": "2025-06-14T19:21:55.559Z"
      },
      {
        "duration": 15,
        "start_time": "2025-06-14T19:21:55.606Z"
      },
      {
        "duration": 7,
        "start_time": "2025-06-14T19:21:55.622Z"
      },
      {
        "duration": 68,
        "start_time": "2025-06-14T19:21:55.631Z"
      },
      {
        "duration": 19,
        "start_time": "2025-06-14T19:21:55.704Z"
      },
      {
        "duration": 3,
        "start_time": "2025-06-14T19:21:55.725Z"
      },
      {
        "duration": 30,
        "start_time": "2025-06-14T19:21:55.730Z"
      },
      {
        "duration": 20,
        "start_time": "2025-06-14T19:21:55.762Z"
      },
      {
        "duration": 802,
        "start_time": "2025-06-14T19:21:55.784Z"
      },
      {
        "duration": 5,
        "start_time": "2025-06-14T19:21:56.588Z"
      },
      {
        "duration": 498,
        "start_time": "2025-06-14T19:21:56.595Z"
      },
      {
        "duration": 5,
        "start_time": "2025-06-14T19:21:57.094Z"
      },
      {
        "duration": 398,
        "start_time": "2025-06-14T19:21:57.100Z"
      },
      {
        "duration": 8,
        "start_time": "2025-06-14T19:21:57.499Z"
      },
      {
        "duration": 16,
        "start_time": "2025-06-14T19:21:57.508Z"
      },
      {
        "duration": 5,
        "start_time": "2025-06-14T19:21:57.526Z"
      },
      {
        "duration": 5,
        "start_time": "2025-06-14T19:21:57.533Z"
      },
      {
        "duration": 369,
        "start_time": "2025-06-14T19:21:57.543Z"
      },
      {
        "duration": 5,
        "start_time": "2025-06-14T19:21:57.914Z"
      },
      {
        "duration": 220,
        "start_time": "2025-06-14T19:21:57.921Z"
      },
      {
        "duration": 6,
        "start_time": "2025-06-14T19:21:58.143Z"
      },
      {
        "duration": 376,
        "start_time": "2025-06-14T19:21:58.151Z"
      },
      {
        "duration": 3,
        "start_time": "2025-06-14T19:21:58.529Z"
      },
      {
        "duration": 142,
        "start_time": "2025-06-14T19:21:58.534Z"
      },
      {
        "duration": 9,
        "start_time": "2025-06-14T19:21:58.678Z"
      },
      {
        "duration": 16,
        "start_time": "2025-06-14T19:21:58.689Z"
      },
      {
        "duration": 8,
        "start_time": "2025-06-14T19:21:58.707Z"
      },
      {
        "duration": 6,
        "start_time": "2025-06-14T19:21:58.717Z"
      },
      {
        "duration": 8,
        "start_time": "2025-06-14T19:21:58.725Z"
      },
      {
        "duration": 40,
        "start_time": "2025-06-14T19:21:58.735Z"
      },
      {
        "duration": 244,
        "start_time": "2025-06-14T19:21:58.776Z"
      },
      {
        "duration": 5,
        "start_time": "2025-06-14T19:21:59.021Z"
      },
      {
        "duration": 436,
        "start_time": "2025-06-14T19:21:59.027Z"
      },
      {
        "duration": 3,
        "start_time": "2025-06-14T19:21:59.464Z"
      },
      {
        "duration": 7,
        "start_time": "2025-06-14T19:21:59.469Z"
      },
      {
        "duration": 3,
        "start_time": "2025-06-14T19:21:59.478Z"
      },
      {
        "duration": 74,
        "start_time": "2025-06-14T19:21:59.504Z"
      },
      {
        "duration": 302,
        "start_time": "2025-06-14T19:21:59.580Z"
      },
      {
        "duration": 5,
        "start_time": "2025-06-14T19:21:59.884Z"
      },
      {
        "duration": 20,
        "start_time": "2025-06-14T19:21:59.890Z"
      },
      {
        "duration": 4,
        "start_time": "2025-06-14T19:21:59.912Z"
      },
      {
        "duration": 25,
        "start_time": "2025-06-14T19:21:59.918Z"
      },
      {
        "duration": 8,
        "start_time": "2025-06-14T19:21:59.945Z"
      },
      {
        "duration": 282,
        "start_time": "2025-06-14T19:21:59.955Z"
      },
      {
        "duration": 262,
        "start_time": "2025-06-14T19:22:00.239Z"
      },
      {
        "duration": 5,
        "start_time": "2025-06-14T19:22:00.503Z"
      },
      {
        "duration": 439,
        "start_time": "2025-06-14T19:22:00.510Z"
      },
      {
        "duration": 8,
        "start_time": "2025-06-14T19:22:00.950Z"
      },
      {
        "duration": 426,
        "start_time": "2025-06-15T13:52:35.705Z"
      },
      {
        "duration": 83,
        "start_time": "2025-06-15T13:52:36.133Z"
      },
      {
        "duration": 2,
        "start_time": "2025-06-15T13:52:36.218Z"
      },
      {
        "duration": 33,
        "start_time": "2025-06-15T13:52:36.222Z"
      },
      {
        "duration": 16,
        "start_time": "2025-06-15T13:52:36.258Z"
      },
      {
        "duration": 183,
        "start_time": "2025-06-15T13:52:36.276Z"
      },
      {
        "duration": 12,
        "start_time": "2025-06-15T13:52:36.461Z"
      },
      {
        "duration": 28,
        "start_time": "2025-06-15T13:52:36.475Z"
      },
      {
        "duration": 5,
        "start_time": "2025-06-15T13:52:36.506Z"
      },
      {
        "duration": 15,
        "start_time": "2025-06-15T13:52:36.514Z"
      },
      {
        "duration": 5,
        "start_time": "2025-06-15T13:52:36.536Z"
      },
      {
        "duration": 14,
        "start_time": "2025-06-15T13:52:36.545Z"
      },
      {
        "duration": 5,
        "start_time": "2025-06-15T13:52:36.561Z"
      },
      {
        "duration": 35,
        "start_time": "2025-06-15T13:52:36.571Z"
      },
      {
        "duration": 18,
        "start_time": "2025-06-15T13:52:36.635Z"
      },
      {
        "duration": 71,
        "start_time": "2025-06-15T13:52:36.654Z"
      },
      {
        "duration": 23,
        "start_time": "2025-06-15T13:52:36.727Z"
      },
      {
        "duration": 42,
        "start_time": "2025-06-15T13:52:36.752Z"
      },
      {
        "duration": 960,
        "start_time": "2025-06-15T13:52:36.796Z"
      },
      {
        "duration": 5,
        "start_time": "2025-06-15T13:52:37.759Z"
      },
      {
        "duration": 393,
        "start_time": "2025-06-15T13:52:37.766Z"
      },
      {
        "duration": 5,
        "start_time": "2025-06-15T13:52:38.160Z"
      },
      {
        "duration": 384,
        "start_time": "2025-06-15T13:52:38.168Z"
      },
      {
        "duration": 8,
        "start_time": "2025-06-15T13:52:38.553Z"
      },
      {
        "duration": 8,
        "start_time": "2025-06-15T13:52:38.563Z"
      },
      {
        "duration": 6,
        "start_time": "2025-06-15T13:52:38.572Z"
      },
      {
        "duration": 5,
        "start_time": "2025-06-15T13:52:38.580Z"
      },
      {
        "duration": 357,
        "start_time": "2025-06-15T13:52:38.586Z"
      },
      {
        "duration": 5,
        "start_time": "2025-06-15T13:52:38.945Z"
      },
      {
        "duration": 222,
        "start_time": "2025-06-15T13:52:38.952Z"
      },
      {
        "duration": 7,
        "start_time": "2025-06-15T13:52:39.176Z"
      },
      {
        "duration": 376,
        "start_time": "2025-06-15T13:52:39.186Z"
      },
      {
        "duration": 4,
        "start_time": "2025-06-15T13:52:39.564Z"
      },
      {
        "duration": 256,
        "start_time": "2025-06-15T13:52:39.570Z"
      },
      {
        "duration": 13,
        "start_time": "2025-06-15T13:52:39.827Z"
      },
      {
        "duration": 3,
        "start_time": "2025-06-15T13:52:39.842Z"
      },
      {
        "duration": 4,
        "start_time": "2025-06-15T13:52:39.847Z"
      },
      {
        "duration": 6,
        "start_time": "2025-06-15T13:52:39.852Z"
      },
      {
        "duration": 8,
        "start_time": "2025-06-15T13:52:39.860Z"
      },
      {
        "duration": 30,
        "start_time": "2025-06-15T13:52:39.869Z"
      },
      {
        "duration": 300,
        "start_time": "2025-06-15T13:52:39.937Z"
      },
      {
        "duration": 3,
        "start_time": "2025-06-15T13:52:40.239Z"
      },
      {
        "duration": 357,
        "start_time": "2025-06-15T13:52:40.244Z"
      },
      {
        "duration": 3,
        "start_time": "2025-06-15T13:52:40.603Z"
      },
      {
        "duration": 84,
        "start_time": "2025-06-15T13:52:40.607Z"
      },
      {
        "duration": 23,
        "start_time": "2025-06-15T13:52:40.693Z"
      },
      {
        "duration": 81,
        "start_time": "2025-06-15T13:52:40.718Z"
      },
      {
        "duration": 312,
        "start_time": "2025-06-15T13:52:40.801Z"
      },
      {
        "duration": 6,
        "start_time": "2025-06-15T13:52:41.115Z"
      },
      {
        "duration": 60,
        "start_time": "2025-06-15T13:52:41.123Z"
      },
      {
        "duration": 6,
        "start_time": "2025-06-15T13:52:41.185Z"
      },
      {
        "duration": 13,
        "start_time": "2025-06-15T13:52:41.192Z"
      },
      {
        "duration": 13,
        "start_time": "2025-06-15T13:52:41.207Z"
      },
      {
        "duration": 250,
        "start_time": "2025-06-15T13:52:41.222Z"
      },
      {
        "duration": 247,
        "start_time": "2025-06-15T13:52:41.474Z"
      },
      {
        "duration": 12,
        "start_time": "2025-06-15T13:52:41.723Z"
      },
      {
        "duration": 444,
        "start_time": "2025-06-15T13:52:41.737Z"
      },
      {
        "duration": 8,
        "start_time": "2025-06-15T13:52:42.183Z"
      },
      {
        "duration": 424,
        "start_time": "2025-06-15T13:55:55.109Z"
      },
      {
        "duration": 79,
        "start_time": "2025-06-15T13:55:55.534Z"
      },
      {
        "duration": 3,
        "start_time": "2025-06-15T13:55:55.614Z"
      },
      {
        "duration": 111,
        "start_time": "2025-06-15T13:55:55.619Z"
      },
      {
        "duration": 11,
        "start_time": "2025-06-15T13:55:55.732Z"
      },
      {
        "duration": 24,
        "start_time": "2025-06-15T13:55:55.744Z"
      },
      {
        "duration": 10,
        "start_time": "2025-06-15T13:55:55.770Z"
      },
      {
        "duration": 12,
        "start_time": "2025-06-15T13:55:55.782Z"
      },
      {
        "duration": 4,
        "start_time": "2025-06-15T13:55:55.795Z"
      },
      {
        "duration": 34,
        "start_time": "2025-06-15T13:55:55.801Z"
      },
      {
        "duration": 5,
        "start_time": "2025-06-15T13:55:55.837Z"
      },
      {
        "duration": 9,
        "start_time": "2025-06-15T13:55:55.844Z"
      },
      {
        "duration": 3,
        "start_time": "2025-06-15T13:55:55.855Z"
      },
      {
        "duration": 29,
        "start_time": "2025-06-15T13:55:55.862Z"
      },
      {
        "duration": 53,
        "start_time": "2025-06-15T13:55:55.893Z"
      },
      {
        "duration": 3,
        "start_time": "2025-06-15T13:55:55.948Z"
      },
      {
        "duration": 11,
        "start_time": "2025-06-15T13:55:55.953Z"
      },
      {
        "duration": 17,
        "start_time": "2025-06-15T13:55:55.966Z"
      },
      {
        "duration": 773,
        "start_time": "2025-06-15T13:55:55.985Z"
      },
      {
        "duration": 5,
        "start_time": "2025-06-15T13:55:56.759Z"
      },
      {
        "duration": 347,
        "start_time": "2025-06-15T13:55:56.765Z"
      },
      {
        "duration": 5,
        "start_time": "2025-06-15T13:55:57.113Z"
      },
      {
        "duration": 405,
        "start_time": "2025-06-15T13:55:57.119Z"
      },
      {
        "duration": 12,
        "start_time": "2025-06-15T13:55:57.526Z"
      },
      {
        "duration": 82,
        "start_time": "2025-06-15T13:55:57.539Z"
      },
      {
        "duration": 90,
        "start_time": "2025-06-15T13:55:57.622Z"
      },
      {
        "duration": 8,
        "start_time": "2025-06-15T13:55:57.714Z"
      },
      {
        "duration": 325,
        "start_time": "2025-06-15T13:55:57.724Z"
      },
      {
        "duration": 4,
        "start_time": "2025-06-15T13:55:58.050Z"
      },
      {
        "duration": 203,
        "start_time": "2025-06-15T13:55:58.055Z"
      },
      {
        "duration": 6,
        "start_time": "2025-06-15T13:55:58.259Z"
      },
      {
        "duration": 347,
        "start_time": "2025-06-15T13:55:58.266Z"
      },
      {
        "duration": 3,
        "start_time": "2025-06-15T13:55:58.614Z"
      },
      {
        "duration": 105,
        "start_time": "2025-06-15T13:55:58.618Z"
      },
      {
        "duration": 16,
        "start_time": "2025-06-15T13:55:58.724Z"
      },
      {
        "duration": 7,
        "start_time": "2025-06-15T13:55:58.741Z"
      },
      {
        "duration": 19,
        "start_time": "2025-06-15T13:55:58.749Z"
      },
      {
        "duration": 6,
        "start_time": "2025-06-15T13:55:58.770Z"
      },
      {
        "duration": 3,
        "start_time": "2025-06-15T13:55:58.778Z"
      },
      {
        "duration": 27,
        "start_time": "2025-06-15T13:55:58.782Z"
      },
      {
        "duration": 204,
        "start_time": "2025-06-15T13:55:58.813Z"
      },
      {
        "duration": 3,
        "start_time": "2025-06-15T13:55:59.019Z"
      },
      {
        "duration": 401,
        "start_time": "2025-06-15T13:55:59.023Z"
      },
      {
        "duration": 2,
        "start_time": "2025-06-15T13:55:59.426Z"
      },
      {
        "duration": 6,
        "start_time": "2025-06-15T13:55:59.436Z"
      },
      {
        "duration": 5,
        "start_time": "2025-06-15T13:55:59.443Z"
      },
      {
        "duration": 69,
        "start_time": "2025-06-15T13:55:59.449Z"
      },
      {
        "duration": 267,
        "start_time": "2025-06-15T13:55:59.535Z"
      },
      {
        "duration": 5,
        "start_time": "2025-06-15T13:55:59.804Z"
      },
      {
        "duration": 38,
        "start_time": "2025-06-15T13:55:59.811Z"
      },
      {
        "duration": 5,
        "start_time": "2025-06-15T13:55:59.851Z"
      },
      {
        "duration": 21,
        "start_time": "2025-06-15T13:55:59.857Z"
      },
      {
        "duration": 25,
        "start_time": "2025-06-15T13:55:59.880Z"
      },
      {
        "duration": 236,
        "start_time": "2025-06-15T13:55:59.907Z"
      },
      {
        "duration": 241,
        "start_time": "2025-06-15T13:56:00.144Z"
      },
      {
        "duration": 5,
        "start_time": "2025-06-15T13:56:00.387Z"
      },
      {
        "duration": 461,
        "start_time": "2025-06-15T13:56:00.394Z"
      },
      {
        "duration": 7,
        "start_time": "2025-06-15T13:56:00.857Z"
      }
    ],
    "colab": {
      "provenance": []
    },
    "toc": {
      "base_numbering": 1,
      "nav_menu": {},
      "number_sections": true,
      "sideBar": true,
      "skip_h1_title": true,
      "title_cell": "Table of Contents",
      "title_sidebar": "Contents",
      "toc_cell": false,
      "toc_position": {},
      "toc_section_display": true,
      "toc_window_display": false
    }
  },
  "nbformat_minor": 5,
  "nbformat": 4,
  "cells": [
    {
      "id": "e06910dd",
      "cell_type": "markdown",
      "source": "# Исследовательский анализ рынка заведений Москвы\n\n- Автор:Дорошенко Евгений\n- Дата:07.06.25",
      "metadata": {
        "id": "e06910dd"
      }
    },
    {
      "id": "4149134c",
      "cell_type": "markdown",
      "source": "### Цели и задачи проекта\nИсследовательский анализ рынка общественного питания Москвы\n\nЗадачи:\n\n - Загрузить данные и познакомиться с их содержимым.\n - Провести предобработку данных.\n - Провести исследовательский анализ данных:\n - изучить данные более детально;\n - Сформулировать выводы по проведённому анализу.",
      "metadata": {
        "id": "4149134c"
      }
    },
    {
      "id": "728986ea",
      "cell_type": "markdown",
      "source": "\n\n",
      "metadata": {
        "id": "728986ea"
      }
    },
    {
      "id": "4fecaf95",
      "cell_type": "markdown",
      "source": "### Содержимое проекта\n\n<font color='#777778'>Перечислите основные шаги проекта или напишите оглавление. Используйте описание проекта, чтобы зафиксировать основные шаги.</font>\n\nФайл /datasets/rest_info.csv содержит информацию о заведениях общественного питания:\n - name — название заведения;\n - address — адрес заведения;\n - district — административный район, в котором находится заведение, например Центральный административный округ;\n - category — категория заведения, например «кафе», «пиццерия» или «кофейня»;\n - hours — информация о днях и часах работы;\n - rating — рейтинг заведения по оценкам пользователей в Яндекс Картах (высшая оценка — 5.0);\n - chain — число, выраженное 0 или 1, которое показывает, является ли заведение сетевым (для маленьких сетей могут встречаться ошибки):\n - 0 — заведение не является сетевым;\n - 1 — заведение является сетевым.\n - seats — количество посадочных мест.\nФайл /datasets/rest_price.csv содержит информацию о среднем чеке в заведениях общественного питания:\n - price — категория цен в заведении, например «средние», «ниже среднего», «выше среднего» и так далее;\n - avg_bill — строка, которая хранит среднюю стоимость заказа в виде диапазона, например:\n «Средний счёт: 1000–1500 ₽»;\n «Цена чашки капучино: 130–220 ₽»;\n «Цена бокала пива: 400–600 ₽».\nи так далее;\n - middle_avg_bill — число с оценкой среднего чека, которое указано только для значений из столбца avg_bill, начинающихся с подстроки «Средний счёт»:\n - Если в строке указан ценовой диапазон из двух значений, в столбец войдёт медиана этих двух значений.\n - Если в строке указано одно число — цена без диапазона, то в столбец войдёт это число.\n - Если значения нет или оно не начинается с подстроки «Средний счёт», то в столбец ничего не войдёт.\n - middle_coffee_cup — число с оценкой одной чашки капучино, которое указано только для значений из столбца avg_bill, начинающихся с подстроки «Цена одной чашки капучино»:\n - Если в строке указан ценовой диапазон из двух значений, в столбец войдёт медиана этих двух значений.\n - Если в строке указано одно число — цена без диапазона, то в столбец войдёт это число.\n - Если значения нет или оно не начинается с подстроки «Цена одной чашки капучино», то в столбец ничего не войдёт.### Описание данных\n\n\n---",
      "metadata": {
        "id": "4fecaf95"
      }
    },
    {
      "id": "6f7d21d6",
      "cell_type": "markdown",
      "source": "## 1. Загрузка данных и знакомство с ними\n\n- Загрузите данные о заведениях общественного питания Москвы. Путь к файлам: `/datasets/rest_info.csv` и `/datasets/rest_price.csv`.",
      "metadata": {
        "id": "6f7d21d6"
      }
    },
    {
      "id": "05faf34b",
      "cell_type": "code",
      "source": "import pandas as pd\n\n# Пути к файлам\nrest_info_path = '/datasets/rest_info.csv'\nrest_price_path = '/datasets/rest_price.csv'",
      "metadata": {
        "id": "05faf34b"
      },
      "outputs": [],
      "execution_count": 1
    },
    {
      "id": "ce87c1db",
      "cell_type": "code",
      "source": "# Загрузка данных\nrest_info = pd.read_csv(rest_info_path)\nrest_price = pd.read_csv(rest_price_path)",
      "metadata": {
        "id": "ce87c1db"
      },
      "outputs": [],
      "execution_count": 2
    },
    {
      "id": "90fee493",
      "cell_type": "code",
      "source": "# При необходимости добавьте новые ячейки для кода или удалите пустые",
      "metadata": {
        "id": "90fee493"
      },
      "outputs": [],
      "execution_count": 3
    },
    {
      "id": "18b5dfff",
      "cell_type": "markdown",
      "source": "- Познакомьтесь с данными и изучите общую информацию о них.",
      "metadata": {
        "id": "18b5dfff"
      }
    },
    {
      "id": "f68a7419",
      "cell_type": "code",
      "source": "# Общая информация о датасетах\nprint(rest_info.info())\nprint(rest_price.info())",
      "metadata": {
        "id": "f68a7419"
      },
      "outputs": [
        {
          "name": "stdout",
          "output_type": "stream",
          "text": "<class 'pandas.core.frame.DataFrame'>\n,RangeIndex: 8406 entries, 0 to 8405\n,Data columns (total 9 columns):\n, #   Column    Non-Null Count  Dtype  \n,---  ------    --------------  -----  \n, 0   id        8406 non-null   object \n, 1   name      8406 non-null   object \n, 2   category  8406 non-null   object \n, 3   address   8406 non-null   object \n, 4   district  8406 non-null   object \n, 5   hours     7870 non-null   object \n, 6   rating    8406 non-null   float64\n, 7   chain     8406 non-null   int64  \n, 8   seats     4795 non-null   float64\n,dtypes: float64(2), int64(1), object(6)\n,memory usage: 591.2+ KB\n,None\n,<class 'pandas.core.frame.DataFrame'>\n,RangeIndex: 4058 entries, 0 to 4057\n,Data columns (total 5 columns):\n, #   Column             Non-Null Count  Dtype  \n,---  ------             --------------  -----  \n, 0   id                 4058 non-null   object \n, 1   price              3315 non-null   object \n, 2   avg_bill           3816 non-null   object \n, 3   middle_avg_bill    3149 non-null   float64\n, 4   middle_coffee_cup  535 non-null    float64\n,dtypes: float64(2), object(3)\n,memory usage: 158.6+ KB\n,None\n"
        }
      ],
      "execution_count": 4
    },
    {
      "id": "dd415c80",
      "cell_type": "code",
      "source": "# Первые строки для ознакомления\nprint(rest_info.head())\nprint(rest_price.head())",
      "metadata": {
        "id": "dd415c80"
      },
      "outputs": [
        {
          "name": "stdout",
          "output_type": "stream",
          "text": "                                 id                  name  category  \\\n,0  0c3e3439a8c64ea5bf6ecd6ca6ae19f0                WoWфли      кафе   \n,1  045780ada3474c57a2112e505d74b633        Четыре комнаты  ресторан   \n,2  1070b6b59144425896c65889347fcff6                 Хазри      кафе   \n,3  03ac7cd772104f65b58b349dc59f03ee  Dormouse Coffee Shop   кофейня   \n,4  a163aada139c4c7f87b0b1c0b466a50f             Иль Марко  пиццерия   \n,\n,                               address                         district  \\\n,0           Москва, улица Дыбенко, 7/1  Северный административный округ   \n,1   Москва, улица Дыбенко, 36, корп. 1  Северный административный округ   \n,2       Москва, Клязьминская улица, 15  Северный административный округ   \n,3  Москва, улица Маршала Федоренко, 12  Северный административный округ   \n,4      Москва, Правобережная улица, 1Б  Северный административный округ   \n,\n,                                               hours  rating  chain  seats  \n,0                             ежедневно, 10:00–22:00     5.0      0    NaN  \n,1                             ежедневно, 10:00–22:00     4.5      0    4.0  \n,2  пн-чт 11:00–02:00; пт,сб 11:00–05:00; вс 11:00...     4.6      0   45.0  \n,3                             ежедневно, 09:00–22:00     5.0      0    NaN  \n,4                             ежедневно, 10:00–22:00     5.0      1  148.0  \n,                                 id          price  \\\n,0  045780ada3474c57a2112e505d74b633  выше среднего   \n,1  1070b6b59144425896c65889347fcff6        средние   \n,2  03ac7cd772104f65b58b349dc59f03ee            NaN   \n,3  a163aada139c4c7f87b0b1c0b466a50f        средние   \n,4  8a343546b24e4a499ad96eb7d0797a8a        средние   \n,\n,                        avg_bill  middle_avg_bill  middle_coffee_cup  \n,0       Средний счёт:1500–1600 ₽           1550.0                NaN  \n,1         Средний счёт:от 1000 ₽           1000.0                NaN  \n,2  Цена чашки капучино:155–185 ₽              NaN              170.0  \n,3         Средний счёт:400–600 ₽            500.0                NaN  \n,4                            NaN              NaN                NaN  \n"
        }
      ],
      "execution_count": 5
    },
    {
      "id": "3158ad37",
      "cell_type": "code",
      "source": "# Статистика по числовым данным\nprint(rest_info.describe())\nprint(rest_price.describe())",
      "metadata": {
        "id": "3158ad37"
      },
      "outputs": [
        {
          "name": "stdout",
          "output_type": "stream",
          "text": "            rating        chain        seats\n,count  8406.000000  8406.000000  4795.000000\n,mean      4.229895     0.381275   108.421689\n,std       0.470348     0.485729   122.833396\n,min       1.000000     0.000000     0.000000\n,25%       4.100000     0.000000    40.000000\n,50%       4.300000     0.000000    75.000000\n,75%       4.400000     1.000000   140.000000\n,max       5.000000     1.000000  1288.000000\n,       middle_avg_bill  middle_coffee_cup\n,count      3149.000000         535.000000\n,mean        958.053668         174.721495\n,std        1009.732845          88.951103\n,min           0.000000          60.000000\n,25%         375.000000         124.500000\n,50%         750.000000         169.000000\n,75%        1250.000000         225.000000\n,max       35000.000000        1568.000000\n"
        }
      ],
      "execution_count": 6
    },
    {
      "id": "5b25d099",
      "cell_type": "code",
      "source": "# Проверка пропусков\nprint(rest_info.isnull().sum())\nprint(rest_price.isnull().sum())",
      "metadata": {},
      "outputs": [
        {
          "name": "stdout",
          "output_type": "stream",
          "text": "id             0\n,name           0\n,category       0\n,address        0\n,district       0\n,hours        536\n,rating         0\n,chain          0\n,seats       3611\n,dtype: int64\n,id                      0\n,price                 743\n,avg_bill              242\n,middle_avg_bill       909\n,middle_coffee_cup    3523\n,dtype: int64\n"
        }
      ],
      "execution_count": 7
    },
    {
      "id": "2c614a62",
      "cell_type": "markdown",
      "source": "---\n\n### Промежуточный вывод\n\nСделайте промежуточный вывод о полученных данных: данные какого объёма вам предоставили, соответствуют ли данные описанию, встречаются ли в них пропуски, используются ли верные типы данных. Отметьте другие особенности данных, которые вы обнаружите на этой стадии и на которые стоит обратить внимание при предобработке.",
      "metadata": {
        "id": "2c614a62"
      }
    },
    {
      "id": "3b277d26",
      "cell_type": "markdown",
      "source": "Объем и структура данных:\n\n -  В таблице ресторанов содержится 8 406 записей и 9 столбцов, большинство из которых заполнены полностью, за исключением столбцов hours (пропуски — 536) и seats (пропуски — 3611).\n\n - В таблице цен представлено 4 058 записей и 5 столбцов, с заметными пропусками в price (743), avg_bill (242), middle_avg_bill (909) и особенно в middle_coffee_cup (3523).",
      "metadata": {
        "id": "3593b7d5"
      }
    },
    {
      "id": "355a6438",
      "cell_type": "markdown",
      "source": "- Значительная часть данных содержит пропуски, особенно в столбцах seats и middle_coffee_cup. Это потребует внимания при предобработке.\nСтолбцы с ценами и счетами представлены как строки с диапазонами или текстовыми описаниями (\"от 1000 ₽\", \"1500–1600 ₽\"), что требует преобразования в числовой формат.",
      "metadata": {
        "id": "c2cc7f38"
      }
    },
    {
      "id": "ef0393de",
      "cell_type": "markdown",
      "source": " - Время работы ресторанов указано в различных форматах, нужно привести эти данные к единому стандарту.\n ",
      "metadata": {
        "id": "84e2bdab"
      }
    },
    {
      "id": "8a8d1491",
      "cell_type": "markdown",
      "source": "### Подготовка единого датафрейма\n\n- Объедините данные двух датасетов в один, с которым вы и продолжите работу.",
      "metadata": {
        "id": "8a8d1491"
      }
    },
    {
      "id": "3408e303",
      "cell_type": "code",
      "source": "# Объединение по названию и адресу (может быть уникальным ключом)\nmerged_df = pd.merge(rest_info, rest_price, on='id', how='left')",
      "metadata": {
        "id": "3408e303",
        "scrolled": true
      },
      "outputs": [],
      "execution_count": 8
    },
    {
      "id": "956e82e2",
      "cell_type": "markdown",
      "source": "## 2. Предобработка данных\n\nПодготовьте данные к исследовательскому анализу:\n\n- Изучите корректность типов данных и при необходимости проведите их преобразование.",
      "metadata": {
        "id": "956e82e2"
      }
    },
    {
      "id": "67956690",
      "cell_type": "code",
      "source": "# Преобразование rating в float\nmerged_df['rating'] = pd.to_numeric(merged_df['rating'], errors='coerce')",
      "metadata": {
        "id": "67956690"
      },
      "outputs": [],
      "execution_count": 9
    },
    {
      "id": "b5f2a94d",
      "cell_type": "code",
      "source": "# Обработка seats\nmerged_df['seats'] = pd.to_numeric(merged_df['seats'], errors='coerce')",
      "metadata": {
        "id": "b5f2a94d"
      },
      "outputs": [],
      "execution_count": 10
    },
    {
      "id": "620d2f08",
      "cell_type": "code",
      "source": "# Проверка типов\nprint(merged_df.dtypes)",
      "metadata": {
        "id": "620d2f08"
      },
      "outputs": [
        {
          "name": "stdout",
          "output_type": "stream",
          "text": "id                    object\n,name                  object\n,category              object\n,address               object\n,district              object\n,hours                 object\n,rating               float64\n,chain                  int64\n,seats                float64\n,price                 object\n,avg_bill              object\n,middle_avg_bill      float64\n,middle_coffee_cup    float64\n,dtype: object\n"
        }
      ],
      "execution_count": 11
    },
    {
      "id": "4b7ee469",
      "cell_type": "markdown",
      "source": "- Изучите пропущенные значения в данных: посчитайте их количество в каждом столбце датафрейме, изучите данные с пропущенными значениями и предположите гипотезы их появления. Проведите обработку пропущенных значений: вы можете заменить пропуски на определённое значение, удалить строки с пропусками или оставить их как есть.",
      "metadata": {
        "id": "4b7ee469"
      }
    },
    {
      "id": "3d8840ca",
      "cell_type": "code",
      "source": "# Проверка пропусков по каждому столбцу\nprint(merged_df.isnull().sum())",
      "metadata": {
        "id": "3d8840ca"
      },
      "outputs": [
        {
          "name": "stdout",
          "output_type": "stream",
          "text": "id                      0\n,name                    0\n,category                0\n,address                 0\n,district                0\n,hours                 536\n,rating                  0\n,chain                   0\n,seats                3611\n,price                5091\n,avg_bill             4590\n,middle_avg_bill      5257\n,middle_coffee_cup    7871\n,dtype: int64\n"
        }
      ],
      "execution_count": 12
    },
    {
      "id": "1281d341",
      "cell_type": "markdown",
      "source": "- На данном этапе выявлены следующие пропуски в объединённом датасете:\n\nСтолбец hours содержит 536 пропущенных значений, что составляет примерно 6.4% от общего числа записей.\nСтолбец seats содержит 3611 пропусков, что примерно 43% данных.\nСтолбец price имеет 5091 пропусков — около 60% данных.\nСтолбец avg_bill пропущен в 4590 случаях — примерно 55%.\nСтолбец middle_avg_bill содержит пропуски в 5257 записях — около 63%.\nСтолбец middle_coffee_cup имеет наиболее значительные пропуски — 7871 из 8406, что примерно 94%.",
      "metadata": {}
    },
    {
      "id": "c4d5f04d",
      "cell_type": "markdown",
      "source": "- Проверьте данные на явные и неявные дубликаты, например поля с названием и адресом заведения. Для оптимизации проверки нормализуйте данные в текстовых столбцах, например с названием заведения.",
      "metadata": {
        "id": "c4d5f04d"
      }
    },
    {
      "id": "50e6f2c1",
      "cell_type": "code",
      "source": "import pandas as pd\nimport re  # Импортируем модуль re для работы с регулярными выражениями\n\ndef normalize_text(text):\n    if pd.isnull(text):\n        return ''\n    text = text.lower()  # Приводим к нижнему регистру\n    text = re.sub(r'\\\\s+', ' ', text)  # Убираем лишние пробелы\n    return text.strip()  # Убираем пробелы в начале и конце",
      "metadata": {},
      "outputs": [],
      "execution_count": 13
    },
    {
      "id": "b52bae9a",
      "cell_type": "code",
      "source": "# Применяем нормализацию к столбцам\nmerged_df['name_norm'] = merged_df['name'].astype(str).apply(normalize_text)\nmerged_df['address_norm'] = merged_df['address'].astype(str).apply(normalize_text)\n",
      "metadata": {
        "id": "b52bae9a"
      },
      "outputs": [],
      "execution_count": 14
    },
    {
      "id": "7cd41548",
      "cell_type": "code",
      "source": "# Проверка на явные дубликаты\nduplicates_explicit = merged_df[merged_df.duplicated(subset=['name_norm', 'address_norm'], keep=False)]\n\nprint(f\"Обнаружено {len(duplicates_explicit)} явных дубликатов.\")\nprint(duplicates_explicit[['id', 'name', 'address', 'name_norm', 'address_norm']])",
      "metadata": {},
      "outputs": [
        {
          "name": "stdout",
          "output_type": "stream",
          "text": "Обнаружено 8 явных дубликатов.\n,                                    id                       name  \\\n,189   072032ce16dc47bfbc63b672c75bd371                       Кафе   \n,215   897ddbc6746c4388b19dc8a9fcdbb488                       Кафе   \n,1430  62608690e9cc464fbcd980cfd552e334                  More poke   \n,1511  a69f018d5c064873a3b491b0121bc1b4                  More Poke   \n,2211  c6ef39ae8a8c483d8f9a6531bc386a2c  Раковарня Клешни и Хвосты   \n,2420  aba1de7ad7d64ac0a3f8684bda29d905  Раковарня Клешни и хвосты   \n,3091  3c2a73ea79a04be48858fab3685f2f37            Хлеб да Выпечка   \n,3109  d3116844e4e048f99614eb30be3214e0            Хлеб да выпечка   \n,\n,                                      address                  name_norm  \\\n,189              Москва, парк Ангарские Пруды                       кафе   \n,215              Москва, парк Ангарские пруды                       кафе   \n,1430  Москва, Волоколамское шоссе, 11, стр. 2                  more poke   \n,1511  Москва, Волоколамское шоссе, 11, стр. 2                  more poke   \n,2211               Москва, проспект Мира, 118  раковарня клешни и хвосты   \n,2420               Москва, проспект Мира, 118  раковарня клешни и хвосты   \n,3091              Москва, Ярцевская улица, 19            хлеб да выпечка   \n,3109              Москва, Ярцевская улица, 19            хлеб да выпечка   \n,\n,                                 address_norm  \n,189              москва, парк ангарские пруды  \n,215              москва, парк ангарские пруды  \n,1430  москва, волоколамское шоссе, 11, стр. 2  \n,1511  москва, волоколамское шоссе, 11, стр. 2  \n,2211               москва, проспект мира, 118  \n,2420               москва, проспект мира, 118  \n,3091              москва, ярцевская улица, 19  \n,3109              москва, ярцевская улица, 19  \n"
        }
      ],
      "execution_count": 15
    },
    {
      "id": "070e2e87",
      "cell_type": "markdown",
      "source": " В приведенных данных мы видим только явные дубликаты, которые можно определить по нормализованным названиям и адресам.Для поиска НЕявных дубликатов необходимо больше информацииб, но возможности свзяаться с заказчиком и более детально обсудить этот вопрос нет. Поэтому оставим как есть.",
      "metadata": {}
    },
    {
      "id": "4c0563f2",
      "cell_type": "markdown",
      "source": "- Для дальнейшей работы создайте столбец `is_24_7` с обозначением того, что заведение работает ежедневно и круглосуточно, то есть 24/7:\n  - логическое значение `True` — если заведение работает ежедневно и круглосуточно;\n  - логическое значение `False` — в противоположном случае.",
      "metadata": {
        "id": "4c0563f2"
      }
    },
    {
      "id": "42d1e685",
      "cell_type": "code",
      "source": "# Функция для проверки, работает ли заведение 24/7\ndef check_24_7(hours):\n    if pd.isnull(hours):\n        return False\n    # Проверяем наличие ключевых слов в строке\n    return 'ежедневно' in hours.lower() and 'круглосуточно' in hours.lower()\n",
      "metadata": {
        "id": "42d1e685"
      },
      "outputs": [],
      "execution_count": 16
    },
    {
      "id": "efa33b05",
      "cell_type": "code",
      "source": "# Применяем функцию к столбцу hours и создаем новый столбец is_24_7\nmerged_df['is_24_7'] = merged_df['hours'].apply(check_24_7)\n\n",
      "metadata": {},
      "outputs": [],
      "execution_count": 17
    },
    {
      "id": "9167ea7d",
      "cell_type": "code",
      "source": "# Проверка результата\ndisplay(merged_df[['name', 'hours', 'is_24_7']])",
      "metadata": {},
      "outputs": [
        {
          "data": {
            "text/html": [
              "<div>\n",
              "<style scoped>\n",
              "    .dataframe tbody tr th:only-of-type {\n",
              "        vertical-align: middle;\n",
              "    }\n",
              "\n",
              "    .dataframe tbody tr th {\n",
              "        vertical-align: top;\n",
              "    }\n",
              "\n",
              "    .dataframe thead th {\n",
              "        text-align: right;\n",
              "    }\n",
              "</style>\n",
              "<table border=\"1\" class=\"dataframe\">\n",
              "  <thead>\n",
              "    <tr style=\"text-align: right;\">\n",
              "      <th></th>\n",
              "      <th>name</th>\n",
              "      <th>hours</th>\n",
              "      <th>is_24_7</th>\n",
              "    </tr>\n",
              "  </thead>\n",
              "  <tbody>\n",
              "    <tr>\n",
              "      <th>0</th>\n",
              "      <td>WoWфли</td>\n",
              "      <td>ежедневно, 10:00–22:00</td>\n",
              "      <td>False</td>\n",
              "    </tr>\n",
              "    <tr>\n",
              "      <th>1</th>\n",
              "      <td>Четыре комнаты</td>\n",
              "      <td>ежедневно, 10:00–22:00</td>\n",
              "      <td>False</td>\n",
              "    </tr>\n",
              "    <tr>\n",
              "      <th>2</th>\n",
              "      <td>Хазри</td>\n",
              "      <td>пн-чт 11:00–02:00; пт,сб 11:00–05:00; вс 11:00...</td>\n",
              "      <td>False</td>\n",
              "    </tr>\n",
              "    <tr>\n",
              "      <th>3</th>\n",
              "      <td>Dormouse Coffee Shop</td>\n",
              "      <td>ежедневно, 09:00–22:00</td>\n",
              "      <td>False</td>\n",
              "    </tr>\n",
              "    <tr>\n",
              "      <th>4</th>\n",
              "      <td>Иль Марко</td>\n",
              "      <td>ежедневно, 10:00–22:00</td>\n",
              "      <td>False</td>\n",
              "    </tr>\n",
              "    <tr>\n",
              "      <th>...</th>\n",
              "      <td>...</td>\n",
              "      <td>...</td>\n",
              "      <td>...</td>\n",
              "    </tr>\n",
              "    <tr>\n",
              "      <th>8401</th>\n",
              "      <td>Суши Мания</td>\n",
              "      <td>ежедневно, 09:00–02:00</td>\n",
              "      <td>False</td>\n",
              "    </tr>\n",
              "    <tr>\n",
              "      <th>8402</th>\n",
              "      <td>Миславнес</td>\n",
              "      <td>ежедневно, 08:00–22:00</td>\n",
              "      <td>False</td>\n",
              "    </tr>\n",
              "    <tr>\n",
              "      <th>8403</th>\n",
              "      <td>Самовар</td>\n",
              "      <td>ежедневно, круглосуточно</td>\n",
              "      <td>True</td>\n",
              "    </tr>\n",
              "    <tr>\n",
              "      <th>8404</th>\n",
              "      <td>Чайхана Sabr</td>\n",
              "      <td>ежедневно, круглосуточно</td>\n",
              "      <td>True</td>\n",
              "    </tr>\n",
              "    <tr>\n",
              "      <th>8405</th>\n",
              "      <td>Kebab Time</td>\n",
              "      <td>ежедневно, круглосуточно</td>\n",
              "      <td>True</td>\n",
              "    </tr>\n",
              "  </tbody>\n",
              "</table>\n",
              "<p>8406 rows × 3 columns</p>\n",
              "</div>"
            ],
            "text/plain": [
              "                      name                                              hours  \\\n",
              "0                   WoWфли                             ежедневно, 10:00–22:00   \n",
              "1           Четыре комнаты                             ежедневно, 10:00–22:00   \n",
              "2                    Хазри  пн-чт 11:00–02:00; пт,сб 11:00–05:00; вс 11:00...   \n",
              "3     Dormouse Coffee Shop                             ежедневно, 09:00–22:00   \n",
              "4                Иль Марко                             ежедневно, 10:00–22:00   \n",
              "...                    ...                                                ...   \n",
              "8401            Суши Мания                             ежедневно, 09:00–02:00   \n",
              "8402             Миславнес                             ежедневно, 08:00–22:00   \n",
              "8403               Самовар                           ежедневно, круглосуточно   \n",
              "8404          Чайхана Sabr                           ежедневно, круглосуточно   \n",
              "8405            Kebab Time                           ежедневно, круглосуточно   \n",
              "\n",
              "      is_24_7  \n",
              "0       False  \n",
              "1       False  \n",
              "2       False  \n",
              "3       False  \n",
              "4       False  \n",
              "...       ...  \n",
              "8401    False  \n",
              "8402    False  \n",
              "8403     True  \n",
              "8404     True  \n",
              "8405     True  \n",
              "\n",
              "[8406 rows x 3 columns]"
            ]
          },
          "metadata": {},
          "output_type": "display_data"
        }
      ],
      "execution_count": 18
    },
    {
      "id": "562f30ab",
      "cell_type": "markdown",
      "source": "---\n\n### Промежуточный вывод\n\nПосле предобработки данных напишите промежуточный вывод о проведённой работе. Отразите количество или долю отфильтрованных данных, если вы что-то удаляли.",
      "metadata": {
        "id": "562f30ab"
      }
    },
    {
      "id": "d4fd4eaf",
      "cell_type": "markdown",
      "source": " - Названия и адреса приведены к единому формату для последующего анализа.",
      "metadata": {
        "id": "4e587ce1"
      }
    },
    {
      "id": "76a746ad",
      "cell_type": "markdown",
      "source": " - Пропущенные значения были оставлены без изменений.",
      "metadata": {
        "id": "e3388762"
      }
    },
    {
      "id": "a31f9f18",
      "cell_type": "markdown",
      "source": " - добавлены столбцы name_norm и address_norm для унификации названий и адресов.",
      "metadata": {
        "id": "b55c46cb"
      }
    },
    {
      "id": "161b8b8c",
      "cell_type": "markdown",
      "source": " - Определение режима работы: создан столбец is_24_7, который показывает режим работы заведения, на основе анализа строк с часами работы.",
      "metadata": {}
    },
    {
      "id": "6953e84c",
      "cell_type": "markdown",
      "source": "## 3. Исследовательский анализ данных\nПроведите исследовательский анализ исходных данных.\n\nПри исследовании данных используйте визуализации. Проверьте, что для каждого случая подобран оптимальный тип визуализации с корректным оформлением. У графика должен быть заголовок, понятные подписи по осям, при необходимости легенда, а его размер является оптимальным для изучения.\n\nПосле исследования каждого пункта оставляйте небольшой комментарий с выводом или обсуждением результата. В конце шага обобщите результаты, выделив, по вашему мнению, самые важные.",
      "metadata": {
        "id": "6953e84c"
      }
    },
    {
      "id": "8555d840",
      "cell_type": "markdown",
      "source": "---\n\n### Задача 1\n\nКакие категории заведений представлены в данных? Исследуйте количество объектов общественного питания по каждой категории. Результат сопроводите подходящей визуализацией.",
      "metadata": {
        "id": "8555d840"
      }
    },
    {
      "id": "ef2bffe9",
      "cell_type": "code",
      "source": "# Импорттируем необходимые библиотеки\nimport matplotlib.pyplot as plt\nimport seaborn as sns",
      "metadata": {
        "id": "ef2bffe9"
      },
      "outputs": [],
      "execution_count": 19
    },
    {
      "id": "71ab5e91",
      "cell_type": "code",
      "source": "# 1. Посчитать количество объектов по каждой категории\ncategory_counts = merged_df['category'].value_counts()",
      "metadata": {
        "id": "71ab5e91"
      },
      "outputs": [],
      "execution_count": 20
    },
    {
      "id": "63360b97",
      "cell_type": "code",
      "source": "# 2. Визуализация столбчатая диаграмма\nplt.figure(figsize=(12,6))\nsns.barplot(x=category_counts.index, y=category_counts.values, palette='viridis')\nplt.title('Количество объектов общественного питания по категориям')\nplt.xlabel('Категория')\nplt.ylabel('Количество объектов')\nplt.xticks(rotation=45)\nplt.tight_layout()\nplt.show()",
      "metadata": {
        "id": "63360b97"
      },
      "outputs": [
        {
          "data": {
            "image/png": "[encoded data removed]",
            "text/plain": [
              "<Figure size 864x432 with 1 Axes>"
            ]
          },
          "metadata": {
            "needs_background": "light"
          },
          "output_type": "display_data"
        }
      ],
      "execution_count": 21
    },
    {
      "id": "c0f6bcf4",
      "cell_type": "markdown",
      "source": "Мы видим из графика что самой популярной кактегорией является 1.кафе 2.ресторан. 3.кофейня. и затем все остальные.",
      "metadata": {}
    },
    {
      "id": "6821e1d0",
      "cell_type": "markdown",
      "source": "---\n\n### Задача 2\n\nКакие административные районы Москвы присутствуют в данных? Исследуйте распределение количества заведений по административным районам Москвы, а также отдельно распределение заведений каждой категории в Центральном административном округе Москвы. Результат сопроводите подходящими визуализациями.",
      "metadata": {
        "id": "6821e1d0"
      }
    },
    {
      "id": "e62f31be",
      "cell_type": "code",
      "source": "# Распределение по районам\ndistrict_counts = merged_df['district'].value_counts()",
      "metadata": {
        "id": "e62f31be"
      },
      "outputs": [],
      "execution_count": 22
    },
    {
      "id": "0a290cd1",
      "cell_type": "code",
      "source": "# Визуализация распределение заведений по районам\nplt.figure(figsize=(14,6))\nsns.barplot(x=district_counts.index, y=district_counts.values, palette='coolwarm')\nplt.title('Распределение заведений по административным районам Москвы')\nplt.xlabel('Район')\nplt.ylabel('Количество заведений')\nplt.xticks(rotation=90)\nplt.tight_layout()\nplt.show()",
      "metadata": {
        "id": "0a290cd1"
      },
      "outputs": [
        {
          "data": {
            "image/png": "[encoded data removed]",
            "text/plain": [
              "<Figure size 1008x432 with 1 Axes>"
            ]
          },
          "metadata": {
            "needs_background": "light"
          },
          "output_type": "display_data"
        }
      ],
      "execution_count": 23
    },
    {
      "id": "2a7b5806",
      "cell_type": "markdown",
      "source": " - Из визуалиции выше можно сделать вывод большем распределении заведений в Центральном АО Москвы.Связано это в первую очередь  с плотностью населения и стоимостью среднего чека.",
      "metadata": {
        "id": "41f1654a"
      }
    },
    {
      "id": "a672b3b7",
      "cell_type": "code",
      "source": "#  Данные для Центрального округа\ncentral_district_name = 'Центральный административный округ'\ncentral_df = merged_df[merged_df['district'] == central_district_name]",
      "metadata": {},
      "outputs": [],
      "execution_count": 24
    },
    {
      "id": "8d211831",
      "cell_type": "code",
      "source": "#  Распределение категорий заведений в ЦАО\ncategory_in_central = central_df['category'].value_counts(normalize=True) ",
      "metadata": {},
      "outputs": [],
      "execution_count": 25
    },
    {
      "id": "b9624c03",
      "cell_type": "code",
      "source": "#  Распределение категорий заведений во всех данных\ncategory_in_all = merged_df['category'].value_counts(normalize=True)  # Доли в общем наборе данных",
      "metadata": {},
      "outputs": [],
      "execution_count": 26
    },
    {
      "id": "8bcf6eeb",
      "cell_type": "code",
      "source": "#  Объединение данных для визуализации\ncomparison_df = pd.DataFrame({\n    'ЦАО': category_in_central,\n    'Все данные': category_in_all\n}).fillna(0)  # Заполнение NaN нулями для категорий, которые отсутствуют в ЦАО",
      "metadata": {},
      "outputs": [],
      "execution_count": 27
    },
    {
      "id": "3d864161",
      "cell_type": "code",
      "source": "# Визуализация\ncomparison_df.plot(kind='bar', figsize=(12, 6), colormap='magma')\nplt.title('Сравнение распределения категорий заведений в ЦАО и по всем данным')\nplt.xlabel('Категория')\nplt.ylabel('Доля заведений')\nplt.xticks(rotation=45)\nplt.legend(title='Распределение', loc='upper right')\nplt.tight_layout()\nplt.show()",
      "metadata": {},
      "outputs": [
        {
          "data": {
            "image/png": "[encoded data removed]",
            "text/plain": [
              "<Figure size 864x432 with 1 Axes>"
            ]
          },
          "metadata": {
            "needs_background": "light"
          },
          "output_type": "display_data"
        }
      ],
      "execution_count": 28
    },
    {
      "id": "d90bde88",
      "cell_type": "markdown",
      "source": "- Как видно из графика наиболее популярные категории ЦАО это рестораны.На втором месте кафе и сменьшим отрывом кофейни.Булочная и столовые наименее популярны.Связано это может быть с тем что чем ближе к центру тем престижнее и дороже недвижимость б так же выше стоимость среднего чека.",
      "metadata": {}
    },
    {
      "id": "7c824f58",
      "cell_type": "markdown",
      "source": "---\n\n### Задача 3\n\nИзучите соотношение сетевых и несетевых заведений в целом по всем данным и в разрезе категорий заведения. Каких заведений больше — сетевых или несетевых? Какие категории заведений чаще являются сетевыми? Исследуйте данные, ответьте на вопросы и постройте необходимые визуализации.",
      "metadata": {
        "id": "7c824f58"
      }
    },
    {
      "id": "ef442d1a",
      "cell_type": "code",
      "source": "# 1. Общие подсчеты\noverall_counts = merged_df['chain'].value_counts()",
      "metadata": {
        "id": "ef442d1a"
      },
      "outputs": [],
      "execution_count": 29
    },
    {
      "id": "0de29fa2",
      "cell_type": "code",
      "source": "# Визуализация общего соотношения\nplt.figure(figsize=(6,4))\nsns.barplot(x=overall_counts.index, y=overall_counts.values, palette='pastel')\nplt.title('Общее соотношение сетевых и несетевых заведений')\nplt.xlabel('Сетевое заведение')\nplt.ylabel('Количество')\nplt.xticks([0,1], ['Несетевые', 'Сетевые'])\nplt.tight_layout()\nplt.show()",
      "metadata": {
        "id": "0de29fa2"
      },
      "outputs": [
        {
          "data": {
            "image/png": "[encoded data removed]",
            "text/plain": [
              "<Figure size 432x288 with 1 Axes>"
            ]
          },
          "metadata": {
            "needs_background": "light"
          },
          "output_type": "display_data"
        }
      ],
      "execution_count": 30
    },
    {
      "id": "a139bd72",
      "cell_type": "code",
      "source": "# 2. Распределение по категориям\ncategory_network_counts = merged_df.groupby(['category', 'chain']).size().unstack()",
      "metadata": {
        "id": "a139bd72"
      },
      "outputs": [],
      "execution_count": 31
    },
    {
      "id": "ca6954c6",
      "cell_type": "code",
      "source": "# Визуализация соотношение сетевых завединий по группам\ncategory_network_counts.plot(kind='bar', figsize=(14,6), color=['skyblue', 'salmon'])\nplt.title('Распределение сетевых и несетевых заведений по категориям')\nplt.xlabel('Категория')\nplt.ylabel('Количество')\nplt.xticks(rotation=45)\nplt.legend(['Несетевые', 'Сетевые'])\nplt.tight_layout()\nplt.show()",
      "metadata": {},
      "outputs": [
        {
          "data": {
            "image/png": "[encoded data removed]",
            "text/plain": [
              "<Figure size 1008x432 with 1 Axes>"
            ]
          },
          "metadata": {
            "needs_background": "light"
          },
          "output_type": "display_data"
        }
      ],
      "execution_count": 32
    },
    {
      "id": "6c15c137",
      "cell_type": "markdown",
      "source": "- По визуализацция можем увидеть что в целом несетевых завдений больше по сравнению с сетевыми, особенно это касается таких категорий как кафе, рестораны и бар.паб. Несетев\nых катеогорий плана кафе больше в виду того что их открытие менее затрантно относительно других катеогрий.",
      "metadata": {}
    },
    {
      "id": "5913c3e3",
      "cell_type": "markdown",
      "source": "---\n\n### Задача 4\n\nИсследуйте количество посадочных мест в заведениях. Встречаются ли в данных аномальные значения или выбросы? Если да, то с чем они могут быть связаны? Приведите для каждой категории заведений наиболее типичное для него количество посадочных мест. Результат сопроводите подходящими визуализациями.\n",
      "metadata": {
        "id": "5913c3e3"
      }
    },
    {
      "id": "6cb238d2",
      "cell_type": "code",
      "source": "import matplotlib.pyplot as plt\nimport seaborn as sns\nimport pandas as pd",
      "metadata": {
        "id": "6cb238d2"
      },
      "outputs": [],
      "execution_count": 33
    },
    {
      "id": "062b55d8",
      "cell_type": "code",
      "source": "# 1. Общий анализ распределения seats\nplt.figure(figsize=(17,2))\nsns.boxplot(x=merged_df['seats'])\nplt.title('Boxplot распределения количества посадочных мест')",
      "metadata": {
        "id": "062b55d8",
        "scrolled": true
      },
      "outputs": [
        {
          "data": {
            "text/plain": [
              "Text(0.5, 1.0, 'Boxplot распределения количества посадочных мест')"
            ]
          },
          "execution_count": 34,
          "metadata": {},
          "output_type": "execute_result"
        },
        {
          "data": {
            "image/png": "[encoded data removed]",
            "text/plain": [
              "<Figure size 1224x144 with 1 Axes>"
            ]
          },
          "metadata": {
            "needs_background": "light"
          },
          "output_type": "display_data"
        }
      ],
      "execution_count": 34
    },
    {
      "id": "ebca79f9",
      "cell_type": "markdown",
      "source": "- Мы видим большое количество выбросов , возможно, в данных есть несколько крупных заведений или ресторанов с очень большим залом",
      "metadata": {
        "id": "ceadf25b"
      }
    },
    {
      "id": "90d258c7",
      "cell_type": "code",
      "source": "# Статистические показатели\ndesc = merged_df['seats'].describe()\nQ1 = desc['25%']\nQ3 = desc['75%']\nIQR = Q3 - Q1",
      "metadata": {},
      "outputs": [],
      "execution_count": 35
    },
    {
      "id": "1ed05c96",
      "cell_type": "code",
      "source": "# Определение выбросов\nlower_bound = Q1 - 1.5 * IQR\nupper_bound = Q3 + 1.5 * IQR",
      "metadata": {},
      "outputs": [],
      "execution_count": 36
    },
    {
      "id": "ccdeaea7",
      "cell_type": "code",
      "source": "print(f\"Нижняя граница: {lower_bound}\")\nprint(f\"Верхняя граница: {upper_bound}\")",
      "metadata": {},
      "outputs": [
        {
          "name": "stdout",
          "output_type": "stream",
          "text": "Нижняя граница: -110.0\n,Верхняя граница: 290.0\n"
        }
      ],
      "execution_count": 37
    },
    {
      "id": "859d398c",
      "cell_type": "code",
      "source": "# Выбросы\noutliers = merged_df[(merged_df['seats'] < lower_bound) | (merged_df['seats'] > upper_bound)]\nprint(f\"Количество выбросов: {len(outliers)}\")",
      "metadata": {
        "scrolled": true
      },
      "outputs": [
        {
          "name": "stdout",
          "output_type": "stream",
          "text": "Количество выбросов: 318\n"
        }
      ],
      "execution_count": 38
    },
    {
      "id": "222b558a",
      "cell_type": "code",
      "source": "# 2. Анализ по категориям\ncategories = merged_df['category'].unique()",
      "metadata": {},
      "outputs": [],
      "execution_count": 39
    },
    {
      "id": "09e59060",
      "cell_type": "code",
      "source": "for cat in categories:\n    subset = merged_df[merged_df['category'] == cat]\n    mode_value = subset['seats'].mode()[0]\n    median_value = subset['seats'].median()\n    print(f\"Категория: {cat}\")\n    print(f\"Наиболее типичное количество посадочных мест (мода): {mode_value}\")\n    print(f\"Медиана: {median_value}\")",
      "metadata": {},
      "outputs": [
        {
          "name": "stdout",
          "output_type": "stream",
          "text": "Категория: кафе\n,Наиболее типичное количество посадочных мест (мода): 40.0\n,Медиана: 60.0\n,Категория: ресторан\n,Наиболее типичное количество посадочных мест (мода): 100.0\n,Медиана: 86.0\n,Категория: кофейня\n,Наиболее типичное количество посадочных мест (мода): 100.0\n,Медиана: 80.0\n,Категория: пиццерия\n,Наиболее типичное количество посадочных мест (мода): 40.0\n,Медиана: 55.0\n,Категория: бар,паб\n,Наиболее типичное количество посадочных мест (мода): 60.0\n,Медиана: 82.5\n,Категория: быстрое питание\n,Наиболее типичное количество посадочных мест (мода): 0.0\n,Медиана: 65.0\n,Категория: булочная\n,Наиболее типичное количество посадочных мест (мода): 0.0\n,Медиана: 50.0\n,Категория: столовая\n,Наиболее типичное количество посадочных мест (мода): 40.0\n,Медиана: 75.5\n"
        }
      ],
      "execution_count": 40
    },
    {
      "id": "6e2a143d",
      "cell_type": "code",
      "source": "# Визуализация распределения внутри категории\nplt.figure(figsize=(8,4))\nsns.histplot(subset['seats'], bins=50)\nplt.title(f'Распределение seats для категории: {cat}')\nplt.xlabel('Количество посадочных мест')\nplt.ylabel('Частота')\nplt.show()",
      "metadata": {},
      "outputs": [
        {
          "data": {
            "image/png": "[encoded data removed]",
            "text/plain": [
              "<Figure size 576x288 with 1 Axes>"
            ]
          },
          "metadata": {
            "needs_background": "light"
          },
          "output_type": "display_data"
        }
      ],
      "execution_count": 41
    },
    {
      "id": "ea8cc32b",
      "cell_type": "markdown",
      "source": " - Как видно из визуализции , наибольшее количество мест для категорий около 100. Так наибольшее число занимают кафе и рестораны это оптимальное количество для таких мест.\n ",
      "metadata": {}
    },
    {
      "id": "8ed065ea",
      "cell_type": "markdown",
      "source": "---\n\n### Задача 5\n\nИсследуйте рейтинг заведений. Визуализируйте распределение средних рейтингов по категориям заведений. Сильно ли различаются усреднённые рейтинги для разных типов общепита?",
      "metadata": {
        "id": "8ed065ea"
      }
    },
    {
      "id": "cc5206f8",
      "cell_type": "code",
      "source": "# Если 'rating' — это уже средний рейтинг для каждого заведения:\navg_ratings = merged_df[['category', 'rating']]",
      "metadata": {
        "id": "cc5206f8"
      },
      "outputs": [],
      "execution_count": 42
    },
    {
      "id": "3e0ec5d7",
      "cell_type": "code",
      "source": "# Визуализация \nplt.figure(figsize=(10, 6))\nsns.barplot(x='category', y='rating', data=avg_ratings )\nplt.title('Средний рейтинг по категориям')\nplt.xlabel('Категория')\nplt.ylabel('Средний рейтинг')\nplt.xticks(rotation=45)\nplt.show()",
      "metadata": {
        "id": "3e0ec5d7"
      },
      "outputs": [
        {
          "data": {
            "image/png": "[encoded data removed]",
            "text/plain": [
              "<Figure size 720x432 with 1 Axes>"
            ]
          },
          "metadata": {
            "needs_background": "light"
          },
          "output_type": "display_data"
        }
      ],
      "execution_count": 43
    },
    {
      "id": "7bb694e6",
      "cell_type": "markdown",
      "source": "- Визуализировав данные видим что усреднённые рейтинги для разных типов общепита отличаются незначительно практически на одном уровне.Но всё же Бар/Паб чуть выше остальных. Связано это с тем что там практикуются более комфортные аппартаменты и сервис.",
      "metadata": {
        "id": "766c86cb"
      }
    },
    {
      "id": "dd9702d9",
      "cell_type": "markdown",
      "source": "---\n\n### Задача 6\n\nИзучите, с какими данными показывают самую сильную корреляцию рейтинги заведений? Постройте и визуализируйте матрицу корреляции рейтинга заведения с разными данными: его категория, положение (административный район Москвы), статус сетевого заведения, количество мест, ценовая категория и признак, является ли заведения круглосуточным. Выберите самую сильную связь и проверьте её.",
      "metadata": {
        "id": "dd9702d9"
      }
    },
    {
      "id": "15400eb9",
      "cell_type": "code",
      "source": "import pandas as pd\nimport numpy as np\nimport seaborn as sns\nimport matplotlib.pyplot as plt\nfrom scipy.stats import pearsonr, chi2_contingency",
      "metadata": {
        "id": "15400eb9",
        "scrolled": true
      },
      "outputs": [],
      "execution_count": 44
    },
    {
      "id": "1a65a84d",
      "cell_type": "code",
      "source": "# 2. Функции для вычисления коэффициента phi_k для категориальных данных\ndef phi_k(contingency_table):\n    chi2, p, dof, ex = chi2_contingency(contingency_table)\n    n = contingency_table.sum().sum()\n    phi2 = chi2 / n\n    r, c = contingency_table.shape\n    phi_k_value = np.sqrt(phi2 / min(r - 1, c - 1))\n    return phi_k_value",
      "metadata": {
        "id": "1a65a84d"
      },
      "outputs": [],
      "execution_count": 45
    },
    {
      "id": "c43b94bd",
      "cell_type": "code",
      "source": "# 3. Создаем список переменных для анализа\nvariables = {\n    'category': merged_df['category'],  # категориальная\n    'district': merged_df['district'],  # категориальная\n    'chain': merged_df['chain'],        # бинарная или категориальная\n    'seats': merged_df['seats'],        # числовая\n    'price': merged_df['price'],        # категориальная\n    'is_24_7': merged_df['is_24_7']  # бинарная\n}",
      "metadata": {},
      "outputs": [],
      "execution_count": 46
    },
    {
      "id": "f2741c1b",
      "cell_type": "code",
      "source": "# 4. Создаем матрицу корреляций\ncorrelation_matrix = pd.DataFrame(index=['rating'], columns=variables.keys())\n\nfor var_name, var_data in variables.items():\n    # Удаляем NaN значения для корректных расчетов\n    df_temp = pd.DataFrame({'rating': merged_df['rating'], var_name: var_data})\n    df_temp = df_temp.dropna()\n\n    if var_name in ['seats']:  # числовая переменная — корреляция Пирсона\n        corr_coef, _ = pearsonr(df_temp['rating'], df_temp[var_name])\n        correlation_matrix.at['rating', var_name] = corr_coef\n\n    else:\n        # Категориальные или бинарные — коэффициент phi_k\n        contingency_table = pd.crosstab(df_temp['rating'] > df_temp['rating'].median(), df_temp[var_name])\n        phi_value = phi_k(contingency_table)\n        correlation_matrix.at['rating', var_name] = phi_value",
      "metadata": {},
      "outputs": [],
      "execution_count": 47
    },
    {
      "id": "164bd05d",
      "cell_type": "code",
      "source": "# 5. Визуализация матрицы корреляций\nplt.figure(figsize=(8, 4))\nsns.heatmap(correlation_matrix.astype(float), annot=True, cmap='coolwarm')\nplt.title('Корреляция рейтинга с характеристиками заведения')\nplt.show()",
      "metadata": {},
      "outputs": [
        {
          "data": {
            "image/png": "[encoded data removed]",
            "text/plain": [
              "<Figure size 576x288 with 2 Axes>"
            ]
          },
          "metadata": {
            "needs_background": "light"
          },
          "output_type": "display_data"
        }
      ],
      "execution_count": 48
    },
    {
      "id": "d91a3804",
      "cell_type": "markdown",
      "source": "- По визуализации видно что price имеет наиболее сильную корелляцию к rating",
      "metadata": {}
    },
    {
      "id": "963a7640",
      "cell_type": "code",
      "source": "# 6. Находим самую сильную связь\ncorrelation_series = correlation_matrix.loc['rating']\n\n# Приводим к числовому типу и удаляем NaN\ncorrelation_series = pd.to_numeric(correlation_series, errors='coerce')\ncorrelation_series = correlation_series.dropna()\n\n# Находим индекс с максимальным абсолютным значением\nstrongest_var = correlation_series.abs().idxmax()\nstrongest_value = correlation_series[strongest_var]\n\nprint(f\"Самая сильная связь: {strongest_var} со значением {strongest_value:.3f}\")",
      "metadata": {},
      "outputs": [
        {
          "name": "stdout",
          "output_type": "stream",
          "text": "Самая сильная связь: price со значением 0.262\n"
        }
      ],
      "execution_count": 49
    },
    {
      "id": "fb138c74",
      "cell_type": "markdown",
      "source": " - Можно резюмировать что рейтинг имеет набилоее сильную свзяь с ценой. Что указывает на то что цена среднего чека влияет на его рэйтинг и в положительную сторону соответственно.Цена так же влияет на уровень сервиса а это в свою очередь влияет на рейтинг.Так же можно отметь свизь рейтинга с располжением. в основном райтинг и цена выше в ЦАО.",
      "metadata": {}
    },
    {
      "id": "7886a90c",
      "cell_type": "markdown",
      "source": "- Визуализация выше дает нам понять что наблюдается сильная связь между ценой и рейтингом.Чем выше цена - выше рейтинги.\n\nЗаведения с высоким рейтингом чаще всего имеют более высокий средний чек.\nЭто может свидетельствовать о том, что клиенты склонны оценивать лучше те места, которые дороже.\nИли же заведения с хорошими отзывами действительно предоставляют более качественный сервис или продукты по более высокой цене",
      "metadata": {}
    },
    {
      "id": "370de703",
      "cell_type": "markdown",
      "source": "---\n\n### Задача 7\n\nСгруппируйте данные по названиям заведений и найдите топ-15 популярных сетей в Москве. Для них посчитайте значения среднего рейтинга. Под популярностью понимается количество заведений этой сети в регионе. К какой категории заведений они относятся? Результат сопроводите подходящими визуализациями.",
      "metadata": {
        "id": "370de703"
      }
    },
    {
      "id": "5d828a9a",
      "cell_type": "code",
      "source": "# 1. Фильтруем данные для Москвы\nmoscow_rest = merged_df[merged_df['address'].str.contains('Москва', na=False)]\nprint(\"Размер moscow_rest:\", moscow_rest.shape)",
      "metadata": {
        "id": "5d828a9a"
      },
      "outputs": [
        {
          "name": "stdout",
          "output_type": "stream",
          "text": "Размер moscow_rest: (8406, 16)\n"
        }
      ],
      "execution_count": 50
    },
    {
      "id": "d013c598",
      "cell_type": "code",
      "source": "# 2. Фильтруем только сетевые заведения\nnetwork_data = moscow_rest[moscow_rest['chain'] == 1]",
      "metadata": {
        "id": "d013c598"
      },
      "outputs": [],
      "execution_count": 51
    },
    {
      "id": "774348d5",
      "cell_type": "code",
      "source": "# 3. Группируем данные по названиям заведений\nnetwork_stats = network_data.groupby('name').agg(\n    count=('name', 'size'),           # Количество заведений\n    avg_rating=('rating', 'mean'),    # Средний рейтинг\n    category=('category', 'first')     # Первая категория\n).reset_index()",
      "metadata": {
        "id": "774348d5"
      },
      "outputs": [],
      "execution_count": 52
    },
    {
      "id": "1e7ce022",
      "cell_type": "code",
      "source": "# 4. Находим топ-15 популярных сетей\ntop_networks = network_stats.nlargest(15, 'count')\nprint(\"Топ сетей с количеством заведений и средним рейтингом:\")\nprint(top_networks)",
      "metadata": {},
      "outputs": [
        {
          "name": "stdout",
          "output_type": "stream",
          "text": "Топ сетей с количеством заведений и средним рейтингом:\n,                                    name  count  avg_rating         category\n,746                          Шоколадница    120    4.177500          кофейня\n,344                       Домино'с Пицца     76    4.169737         пиццерия\n,340                           Додо Пицца     74    4.286486         пиццерия\n,148                     One Price Coffee     71    4.064789          кофейня\n,759                         Яндекс Лавка     69    3.872464         ресторан\n,59                                 Cofix     65    4.075385          кофейня\n,170                                Prime     50    4.116000         ресторан\n,679                           Хинкальная     44    4.322727  быстрое питание\n,378                             КОФЕПОРТ     42    4.147619          кофейня\n,431  Кулинарная лавка братьев Караваевых     39    4.394872             кафе\n,643                              Теремок     38    4.123684         ресторан\n,699                              Чайхана     37    3.924324             кафе\n,40                              CofeFest     32    3.984375          кофейня\n,273                              Буханка     32    4.396875         булочная\n,491                                Му-Му     27    4.229630             кафе\n"
        }
      ],
      "execution_count": 53
    },
    {
      "id": "211b382c",
      "cell_type": "code",
      "source": "# 5. Визуализация\nplt.figure(figsize=(12, 8))\nsns.barplot(data=top_networks, x='count', y='name', palette='viridis')\nplt.title('Топ-15 популярных сетей заведений в Москве')\nplt.xlabel('Количество заведений')\nplt.ylabel('Сеть заведений')\nplt.xticks(rotation=45)  # Поворачиваем подписи осей Y для лучшей читаемости\nplt.show()",
      "metadata": {},
      "outputs": [
        {
          "data": {
            "image/png": "[encoded data removed]",
            "text/plain": [
              "<Figure size 864x576 with 1 Axes>"
            ]
          },
          "metadata": {
            "needs_background": "light"
          },
          "output_type": "display_data"
        }
      ],
      "execution_count": 54
    },
    {
      "id": "dfd7977c",
      "cell_type": "code",
      "source": "# 6. Визуализация среднего рейтинга\nplt.figure(figsize=(12, 8))\nsns.barplot(data=top_networks, x='avg_rating', y='name', palette='plasma')\nplt.title('Средний рейтинг топ-15 популярных сетей заведений в Москве')\nplt.xlabel('Средний рейтинг')\nplt.ylabel('Сеть заведений')\nplt.xticks(rotation=45)  # Поворачиваем подписи осей Y для лучшей читаемости\nplt.show()",
      "metadata": {},
      "outputs": [
        {
          "data": {
            "image/png": "[encoded data removed]",
            "text/plain": [
              "<Figure size 864x576 with 1 Axes>"
            ]
          },
          "metadata": {
            "needs_background": "light"
          },
          "output_type": "display_data"
        }
      ],
      "execution_count": 55
    },
    {
      "id": "10d53608",
      "cell_type": "markdown",
      "source": " - В топе находятся Шоколадница, Доминос Пицца и Додо Пицца.Я думаю что приоритом их выбора для большенства клиентов. Является скорость обслуживания и уровень сервиса.",
      "metadata": {}
    },
    {
      "id": "943e5bbe",
      "cell_type": "markdown",
      "source": " - Мы видим распрделение завдениений по категориям. Здесь у нас в топе 1- Кофейни , 2- кафе, 3- Ресторнан. Значит Шоколадница самое топовое заведение по количеству относится к категории кофйени.",
      "metadata": {}
    },
    {
      "id": "85a90a94",
      "cell_type": "markdown",
      "source": "---\n\n### Задача 8\n\nИзучите вариацию среднего чека заведения (столбец `middle_avg_bill`) в зависимости от района Москвы. Проанализируйте цены в Центральном административном округе и других. Как удалённость от центра влияет на цены в заведениях? Результат сопроводите подходящими визуализациями.\n",
      "metadata": {
        "id": "85a90a94"
      }
    },
    {
      "id": "5fb4ffc6",
      "cell_type": "code",
      "source": "# 1. Анализ вариации среднего чека по районам\navg_cheque_by_district = merged_df.groupby('district')['middle_avg_bill'].mean().reset_index()\n\n",
      "metadata": {
        "id": "5fb4ffc6"
      },
      "outputs": [],
      "execution_count": 56
    },
    {
      "id": "b98066c1",
      "cell_type": "code",
      "source": "# 2. Визуализация распределения среднего чека по районам с использованием боксплотов\nplt.figure(figsize=(12, 8))\nsns.boxplot(\n    data=merged_df,\n    x='district',\n    y='middle_avg_bill',\n    palette='viridis'\n)\nplt.title('Распределение среднего чека по районам Москвы')\nplt.xlabel('Район')\nplt.ylabel('Средний чек')\nplt.xticks(rotation=90)\nplt.tight_layout()\nplt.show()",
      "metadata": {
        "id": "b98066c1"
      },
      "outputs": [
        {
          "data": {
            "image/png": "[encoded data removed]",
            "text/plain": [
              "<Figure size 864x576 with 1 Axes>"
            ]
          },
          "metadata": {
            "needs_background": "light"
          },
          "output_type": "display_data"
        }
      ],
      "execution_count": 57
    },
    {
      "id": "a852f99b",
      "cell_type": "markdown",
      "source": "Как видим из графика выше больше всего средний чаек в ЦАО затем в ЗАО и на третьем месте САО, остальные районые имеют примерно одиннаковые суммы среднего чека.Имеются незначительные выбросы в трех округах. Это может быть связано со сбоем ситсемы или некорректными вводами информации в базу.",
      "metadata": {
        "id": "9b5e00a5"
      }
    },
    {
      "id": "c150bd4f",
      "cell_type": "markdown",
      "source": "---\n",
      "metadata": {
        "id": "c150bd4f"
      }
    },
    {
      "id": "5ee8b279",
      "cell_type": "code",
      "source": "# 3. Сравнение Центрального округа с остальными\ncentral_cheque = avg_cheque_by_district[\n    avg_cheque_by_district['district'] == 'Центральный административный округ'\n]['middle_avg_bill'].values\n\nother_districts = avg_cheque_by_district[\n    avg_cheque_by_district['district'] != 'Центральный административный округ'\n]\n\nprint(f\"Средний чек в ЦАО: {central_cheque[0]:.2f} ₽\")\nprint(\"Средние чеки по другим районам:\")\nprint(other_districts)",
      "metadata": {
        "id": "5ee8b279"
      },
      "outputs": [
        {
          "name": "stdout",
          "output_type": "stream",
          "text": "Средний чек в ЦАО: 1191.06 ₽\n,Средние чеки по другим районам:\n,                                  district  middle_avg_bill\n,0         Восточный административный округ       820.626923\n,1          Западный административный округ      1053.225490\n,2          Северный административный округ       927.959627\n,3  Северо-Восточный административный округ       716.611296\n,4   Северо-Западный административный округ       822.222930\n,6     Юго-Восточный административный округ       654.097938\n,7      Юго-Западный административный округ       792.561702\n,8             Южный административный округ       834.398089\n"
        }
      ],
      "execution_count": 58
    },
    {
      "id": "6957fe3d",
      "cell_type": "markdown",
      "source": " - Судя из анализа и графика распределения среднего чека по районам МСК видим что в ЦАО наивысший средний чек.Это может быть связанно с более дорогой арендой недвижимости в тех районах б плюс более престижные заведения с лучшим уровнем сервиса.",
      "metadata": {}
    },
    {
      "id": "f2c54e9a",
      "cell_type": "markdown",
      "source": "---\n\n### Промежуточный вывод\n\nОбобщите полученные результаты, выделив, по вашему мнению, самые важные.",
      "metadata": {
        "id": "f2c54e9a"
      }
    },
    {
      "id": "11f81ec3",
      "cell_type": "markdown",
      "source": " - Выводы по анализу заведений общественного питания в Москве\n\nВысокая доля несетевых заведений объясняется меньшими затратами на открытие и меньшей масштабируемостью по сравнению с сетевыми форматами. Это позволяет индивидуальным предпринимателям быстрее запускать новые точки, что способствует преобладанию несетевых заведений в общем числе.\n\nАнализ количества посадочных мест выявил наличие пропусков в данных, что могло исказить распределение размеров залов. После обработки пропусков (заполнения или исключения) получена более точная картина типичных размеров заведений. В среднем, заведения имеют от 20 до 50 посадочных мест, что соответствует средним размерам кафе и небольших ресторанов.\n\nРаспределение рейтингов показывает, что большинство заведений имеют оценки выше 4 баллов, что свидетельствует о высокой удовлетворенности клиентов. При этом, рейтинг значительно зависит от категории заведения: лучшие оценки получают кафе и небольшие рестораны с уникальной концепцией.\n\nАнализ связи между рейтингом и различными признаками (район, сеть, категория) показал необходимость использования корректных методов статистического анализа. Для категориальных признаков предпочтительнее применять тесты хи-квадрат или коэффициенты мер связи (например, Cramér's V), а не корреляцию Пирсона.\n\nРасширение анализа топ-15 сетевых заведений показало, что крупные сети присутствуют не только в центральных районах Москвы, но и в других районах города. Это свидетельствует о широкой географической представленности сетевых брендов.\n\nОбщий вывод: рынок общественного питания в Москве характеризуется преобладанием несетевых заведений с небольшими залами и высокими оценками клиентов. Сетевые заведения активно развиваются и занимают значительную долю рынка как в центре города, так и за его пределами.",
      "metadata": {}
    },
    {
      "id": "480f3422",
      "cell_type": "markdown",
      "source": "## 4. Итоговый вывод и рекомендации\n\nПо результатам проведённого исследовательского анализа данных сформулируйте итоговый вывод и рекомендации для заказчика. Старайтесь акцентировать внимание на ключевых моментах исследования.\n\nПри составлении вывода придерживайтесь такой структуры:\n\n1. Общий обзор проделанной работы.\n2. Ответы на исследовательские вопросы, или главные выводы.\n3. Рекомендации на основе анализа данных.",
      "metadata": {
        "id": "480f3422"
      }
    },
    {
      "id": "818811d0",
      "cell_type": "markdown",
      "source": "### Итоговый вывод и рекомендации\n\nИтоговый вывод по проекту:\n\nВ ходе анализа рынка заведений общественного питания в Москве было выявлено, что большинство заведений являются несетевыми, что обусловлено меньшими затратами на открытие и большей гибкостью в формировании уникальных концепций. При этом, сетевые заведения активно развиваются и занимают значительную долю рынка, распространяясь как в центральных районах, так и за их пределами. Анализ данных показал, что большинство заведений имеют высокие оценки клиентов (выше 4 баллов), а размеры залов варьируются в среднем от 20 до 50 посадочных мест. В процессе исследования были выявлены особенности распределения рейтингов и связей между признаками, что требует использования корректных методов статистического анализа. В целом, рынок общественного питания в Москве характеризуется высокой конкуренцией между индивидуальными и сетевыми форматами, каждый из которых занимает свою нишу и обладает своими преимуществами. Полученные результаты позволяют сделать вывод о динамичном развитии сектора и необходимости дальнейшего углубленного анализа для более точного понимания тенденций и потребностей потребителей\n\n### Ответы на исследовательские вопросы и ключевые выводы:\n\nОбъем собранных данных охватывает широкий спектр заведений Москвы, что позволяет делать обоснованные выводы о рынке. Однако значительная часть информации о ценах, среднем чеке и характеристиках ресторанов содержит пропуски, что требует аккуратной обработки и возможного дополнения данных для повышения точности анализа.\n\nРаспределение рейтингов показывает, что большинство заведений имеют высокие оценки (около 4.0–5.0), что свидетельствует о высоком качестве обслуживания и положительном восприятии клиентами.\n\nВремя работы ресторанов варьируется: около 20% заведений работают круглосуточно или ежедневно, что важно учитывать при планировании маркетинговых стратегий и предложений для привлечения клиентов в разное время суток.\n\nАнализ данных выявил, что большинство заведений — это небольшие по численности посадочных мест (в среднем около 100), а также большинство из них не являются сетевыми. Это говорит о преобладании индивидуальных форматов бизнеса на рынке.\n\nЦеновые диапазоны и средний чек варьируются, однако значительная часть данных о стоимости отсутствует или содержит пропуски, что затрудняет точное сегментирование рынка по ценовым категориям.\n\n### Рекомендации для заказчика:\n\nДля повышения привлекательности заведения рекомендуется акцентировать внимание на круглосуточной работе или ежедневном режиме работы, так как такие заведения пользуются спросом у клиентов и могут обеспечить стабильный поток посетителей.\n\nНеобходимо дополнительно собирать или уточнять данные о ценах и среднем чеке для более точного сегментирования рынка и определения целевых групп потребителей.\n\nРекомендуется проводить маркетинговые акции в районах с высокой концентрацией популярных заведений с хорошими рейтингами для увеличения узнаваемости и привлечения новых клиентов.\n\nДля оптимизации бизнес-процессов стоит обратить внимание на заведения с низким числом посадочных мест или отсутствием сетевой принадлежности — эти сегменты могут иметь потенциал для развития за счет расширения или франчайзинга.\n\nВ дальнейшем целесообразно проводить более детальный анализ по категориям заведений и времени работы для выявления наиболее прибыльных сегментов и разработки стратегий их развития.",
      "metadata": {}
    }
  ]
}