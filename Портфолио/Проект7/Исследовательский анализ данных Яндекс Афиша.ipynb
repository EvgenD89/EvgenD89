{
  "metadata": {
    "kernelspec": {
      "name": "python",
      "display_name": "Python (Pyodide)",
      "language": "python"
    },
    "language_info": {
      "codemirror_mode": {
        "name": "python",
        "version": 3
      },
      "file_extension": ".py",
      "mimetype": "text/x-python",
      "name": "python",
      "nbconvert_exporter": "python",
      "pygments_lexer": "ipython3",
      "version": "3.8"
    },
    "ExecuteTimeLog": [
      {
        "duration": 7,
        "start_time": "2025-09-09T05:55:20.070Z"
      },
      {
        "duration": 77,
        "start_time": "2025-09-09T06:01:25.038Z"
      },
      {
        "duration": 476,
        "start_time": "2025-09-09T06:06:59.134Z"
      },
      {
        "duration": 1637,
        "start_time": "2025-09-09T06:09:00.432Z"
      },
      {
        "duration": 1421,
        "start_time": "2025-09-09T06:09:39.087Z"
      },
      {
        "duration": 1311,
        "start_time": "2025-09-09T06:23:24.595Z"
      },
      {
        "duration": 1459,
        "start_time": "2025-09-09T06:28:08.132Z"
      },
      {
        "duration": 94,
        "start_time": "2025-09-09T06:28:59.018Z"
      },
      {
        "duration": 1592,
        "start_time": "2025-09-09T06:40:37.389Z"
      },
      {
        "duration": 3,
        "start_time": "2025-09-09T06:41:08.395Z"
      },
      {
        "duration": 1266,
        "start_time": "2025-09-09T06:41:09.491Z"
      },
      {
        "duration": 1427,
        "start_time": "2025-09-09T06:42:27.887Z"
      },
      {
        "duration": 1084,
        "start_time": "2025-09-09T06:42:41.479Z"
      },
      {
        "duration": 1699,
        "start_time": "2025-09-09T06:43:29.005Z"
      },
      {
        "duration": 115,
        "start_time": "2025-09-09T06:43:49.564Z"
      },
      {
        "duration": 1765,
        "start_time": "2025-09-09T07:07:41.703Z"
      },
      {
        "duration": 115,
        "start_time": "2025-09-09T07:08:21.159Z"
      },
      {
        "duration": 355,
        "start_time": "2025-09-09T07:11:24.624Z"
      },
      {
        "duration": 595,
        "start_time": "2025-09-09T07:11:47.328Z"
      },
      {
        "duration": 766,
        "start_time": "2025-09-09T07:12:24.455Z"
      },
      {
        "duration": 786,
        "start_time": "2025-09-09T07:13:07.587Z"
      },
      {
        "duration": 794,
        "start_time": "2025-09-09T07:13:40.593Z"
      },
      {
        "duration": 233,
        "start_time": "2025-09-09T09:02:16.666Z"
      },
      {
        "duration": 638,
        "start_time": "2025-09-09T09:05:12.649Z"
      },
      {
        "duration": 2167,
        "start_time": "2025-09-09T09:15:25.247Z"
      },
      {
        "duration": 1577,
        "start_time": "2025-09-09T09:16:24.061Z"
      },
      {
        "duration": 887,
        "start_time": "2025-09-09T09:16:51.203Z"
      },
      {
        "duration": 573,
        "start_time": "2025-09-09T09:20:55.429Z"
      },
      {
        "duration": 216,
        "start_time": "2025-09-09T09:26:39.417Z"
      },
      {
        "duration": 368,
        "start_time": "2025-09-09T09:27:16.611Z"
      },
      {
        "duration": 203,
        "start_time": "2025-09-09T09:27:24.569Z"
      },
      {
        "duration": 268,
        "start_time": "2025-09-09T09:35:56.104Z"
      },
      {
        "duration": 147,
        "start_time": "2025-09-09T09:35:57.702Z"
      },
      {
        "duration": 389,
        "start_time": "2025-09-09T09:38:39.804Z"
      },
      {
        "duration": 3,
        "start_time": "2025-09-09T09:45:34.300Z"
      },
      {
        "duration": 1588,
        "start_time": "2025-09-09T09:45:39.960Z"
      },
      {
        "duration": 803,
        "start_time": "2025-09-09T09:45:46.299Z"
      },
      {
        "duration": 237,
        "start_time": "2025-09-09T09:45:49.957Z"
      },
      {
        "duration": 606,
        "start_time": "2025-09-09T09:45:55.868Z"
      },
      {
        "duration": 206,
        "start_time": "2025-09-09T09:45:58.697Z"
      },
      {
        "duration": 75,
        "start_time": "2025-09-09T10:11:03.380Z"
      },
      {
        "duration": 20,
        "start_time": "2025-09-09T10:13:30.953Z"
      },
      {
        "duration": 4486,
        "start_time": "2025-09-09T10:13:57.489Z"
      },
      {
        "duration": 5,
        "start_time": "2025-09-09T10:18:48.441Z"
      },
      {
        "duration": 1849,
        "start_time": "2025-09-09T10:18:50.536Z"
      },
      {
        "duration": 128,
        "start_time": "2025-09-09T10:19:52.284Z"
      },
      {
        "duration": 447,
        "start_time": "2025-09-09T10:19:56.044Z"
      },
      {
        "duration": 133,
        "start_time": "2025-09-09T10:20:00.746Z"
      },
      {
        "duration": 394,
        "start_time": "2025-09-09T10:20:05.978Z"
      },
      {
        "duration": 3,
        "start_time": "2025-09-09T10:21:46.131Z"
      },
      {
        "duration": 1826,
        "start_time": "2025-09-09T10:21:48.703Z"
      },
      {
        "duration": 403,
        "start_time": "2025-09-09T10:21:50.696Z"
      },
      {
        "duration": 429,
        "start_time": "2025-09-09T10:22:36.735Z"
      },
      {
        "duration": 1263,
        "start_time": "2025-09-09T10:22:44.969Z"
      },
      {
        "duration": 2482,
        "start_time": "2025-09-09T10:22:46.234Z"
      },
      {
        "duration": 148,
        "start_time": "2025-09-09T10:22:48.718Z"
      },
      {
        "duration": 587,
        "start_time": "2025-09-09T10:22:48.868Z"
      },
      {
        "duration": 0,
        "start_time": "2025-09-09T10:22:49.457Z"
      },
      {
        "duration": 0,
        "start_time": "2025-09-09T10:22:49.458Z"
      },
      {
        "duration": 0,
        "start_time": "2025-09-09T10:22:49.460Z"
      },
      {
        "duration": 0,
        "start_time": "2025-09-09T10:22:49.461Z"
      },
      {
        "duration": 0,
        "start_time": "2025-09-09T10:22:49.462Z"
      },
      {
        "duration": 0,
        "start_time": "2025-09-09T10:22:49.464Z"
      },
      {
        "duration": 1438,
        "start_time": "2025-09-09T10:23:28.318Z"
      },
      {
        "duration": 127,
        "start_time": "2025-09-09T10:23:37.938Z"
      },
      {
        "duration": 826,
        "start_time": "2025-09-09T10:23:42.474Z"
      },
      {
        "duration": 784,
        "start_time": "2025-09-09T10:23:54.115Z"
      },
      {
        "duration": 259,
        "start_time": "2025-09-09T10:23:57.554Z"
      },
      {
        "duration": 624,
        "start_time": "2025-09-09T10:24:00.083Z"
      },
      {
        "duration": 204,
        "start_time": "2025-09-09T10:24:03.875Z"
      },
      {
        "duration": 507,
        "start_time": "2025-09-09T10:24:05.980Z"
      },
      {
        "duration": 22,
        "start_time": "2025-09-09T10:24:09.749Z"
      },
      {
        "duration": 18,
        "start_time": "2025-09-09T10:26:59.975Z"
      },
      {
        "duration": 1703,
        "start_time": "2025-09-09T10:29:01.291Z"
      },
      {
        "duration": 503,
        "start_time": "2025-09-09T10:35:47.148Z"
      },
      {
        "duration": 12,
        "start_time": "2025-09-09T10:36:05.485Z"
      },
      {
        "duration": 13,
        "start_time": "2025-09-09T10:42:52.293Z"
      },
      {
        "duration": 884,
        "start_time": "2025-09-09T10:43:17.493Z"
      },
      {
        "duration": 1799,
        "start_time": "2025-09-09T10:43:19.088Z"
      },
      {
        "duration": 888,
        "start_time": "2025-09-09T10:43:21.204Z"
      },
      {
        "duration": 661,
        "start_time": "2025-09-09T10:43:23.205Z"
      },
      {
        "duration": 221,
        "start_time": "2025-09-09T10:43:27.862Z"
      },
      {
        "duration": 313,
        "start_time": "2025-09-09T10:43:29.997Z"
      },
      {
        "duration": 391,
        "start_time": "2025-09-09T10:43:38.039Z"
      },
      {
        "duration": 57,
        "start_time": "2025-09-09T10:45:11.336Z"
      },
      {
        "duration": 414,
        "start_time": "2025-09-09T10:47:29.382Z"
      },
      {
        "duration": 807,
        "start_time": "2025-09-09T10:48:21.781Z"
      },
      {
        "duration": 43,
        "start_time": "2025-09-09T10:48:24.037Z"
      },
      {
        "duration": 9,
        "start_time": "2025-09-09T10:48:26.575Z"
      },
      {
        "duration": 9,
        "start_time": "2025-09-09T10:48:29.449Z"
      },
      {
        "duration": 9,
        "start_time": "2025-09-09T10:48:31.615Z"
      },
      {
        "duration": 3,
        "start_time": "2025-09-09T10:49:22.518Z"
      },
      {
        "duration": 2258,
        "start_time": "2025-09-09T10:49:23.986Z"
      },
      {
        "duration": 134,
        "start_time": "2025-09-09T10:49:26.245Z"
      },
      {
        "duration": 860,
        "start_time": "2025-09-09T10:49:26.482Z"
      },
      {
        "duration": 239,
        "start_time": "2025-09-09T10:49:33.582Z"
      },
      {
        "duration": 644,
        "start_time": "2025-09-09T10:49:36.574Z"
      },
      {
        "duration": 205,
        "start_time": "2025-09-09T10:49:50.480Z"
      },
      {
        "duration": 553,
        "start_time": "2025-09-09T10:49:56.206Z"
      },
      {
        "duration": 1328,
        "start_time": "2025-09-09T10:50:30.664Z"
      },
      {
        "duration": 1737,
        "start_time": "2025-09-09T10:50:31.994Z"
      },
      {
        "duration": 123,
        "start_time": "2025-09-09T10:50:33.733Z"
      },
      {
        "duration": 869,
        "start_time": "2025-09-09T10:50:33.858Z"
      },
      {
        "duration": 250,
        "start_time": "2025-09-09T10:50:34.729Z"
      },
      {
        "duration": 652,
        "start_time": "2025-09-09T10:50:34.981Z"
      },
      {
        "duration": 219,
        "start_time": "2025-09-09T10:50:35.635Z"
      },
      {
        "duration": 302,
        "start_time": "2025-09-09T10:50:35.855Z"
      },
      {
        "duration": 375,
        "start_time": "2025-09-09T10:50:36.159Z"
      },
      {
        "duration": 46,
        "start_time": "2025-09-09T10:59:42.050Z"
      },
      {
        "duration": 9,
        "start_time": "2025-09-09T12:35:33.969Z"
      },
      {
        "duration": 8,
        "start_time": "2025-09-09T12:35:56.275Z"
      },
      {
        "duration": 8,
        "start_time": "2025-09-09T12:36:02.677Z"
      },
      {
        "duration": 7,
        "start_time": "2025-09-09T13:21:55.477Z"
      },
      {
        "duration": 6,
        "start_time": "2025-09-09T13:21:59.766Z"
      },
      {
        "duration": 6,
        "start_time": "2025-09-09T13:22:11.556Z"
      },
      {
        "duration": 8,
        "start_time": "2025-09-09T13:22:14.745Z"
      },
      {
        "duration": 1153,
        "start_time": "2025-09-09T13:22:19.381Z"
      },
      {
        "duration": 4773,
        "start_time": "2025-09-09T13:22:20.824Z"
      },
      {
        "duration": 122,
        "start_time": "2025-09-09T13:22:25.599Z"
      },
      {
        "duration": 124,
        "start_time": "2025-09-09T13:22:29.764Z"
      },
      {
        "duration": 397,
        "start_time": "2025-09-09T13:22:33.173Z"
      },
      {
        "duration": 207,
        "start_time": "2025-09-09T13:22:41.660Z"
      },
      {
        "duration": 3,
        "start_time": "2025-09-09T13:23:13.614Z"
      },
      {
        "duration": 1777,
        "start_time": "2025-09-09T13:23:16.184Z"
      },
      {
        "duration": 361,
        "start_time": "2025-09-09T13:23:20.713Z"
      },
      {
        "duration": 220,
        "start_time": "2025-09-09T13:23:23.413Z"
      },
      {
        "duration": 1177,
        "start_time": "2025-09-09T13:23:29.372Z"
      },
      {
        "duration": 1517,
        "start_time": "2025-09-09T13:23:30.551Z"
      },
      {
        "duration": 124,
        "start_time": "2025-09-09T13:23:32.069Z"
      },
      {
        "duration": 387,
        "start_time": "2025-09-09T13:23:32.195Z"
      },
      {
        "duration": 215,
        "start_time": "2025-09-09T13:23:32.585Z"
      },
      {
        "duration": 535,
        "start_time": "2025-09-09T13:23:32.801Z"
      },
      {
        "duration": 183,
        "start_time": "2025-09-09T13:23:33.339Z"
      },
      {
        "duration": 294,
        "start_time": "2025-09-09T13:23:33.524Z"
      },
      {
        "duration": 382,
        "start_time": "2025-09-09T13:23:33.820Z"
      },
      {
        "duration": 107,
        "start_time": "2025-09-09T13:23:34.203Z"
      },
      {
        "duration": 370,
        "start_time": "2025-09-09T13:50:16.937Z"
      },
      {
        "duration": 225,
        "start_time": "2025-09-09T13:50:19.247Z"
      },
      {
        "duration": 542,
        "start_time": "2025-09-09T13:50:31.683Z"
      },
      {
        "duration": 230,
        "start_time": "2025-09-09T13:50:33.602Z"
      },
      {
        "duration": 2854,
        "start_time": "2025-09-09T14:08:51.500Z"
      },
      {
        "duration": 11,
        "start_time": "2025-09-09T14:09:25.223Z"
      },
      {
        "duration": 4,
        "start_time": "2025-09-09T14:10:59.778Z"
      },
      {
        "duration": 2647,
        "start_time": "2025-09-09T14:11:45.300Z"
      },
      {
        "duration": 2571,
        "start_time": "2025-09-09T14:12:23.831Z"
      },
      {
        "duration": 2586,
        "start_time": "2025-09-09T14:12:43.718Z"
      },
      {
        "duration": 34,
        "start_time": "2025-09-09T14:15:05.344Z"
      },
      {
        "duration": 14,
        "start_time": "2025-09-09T14:20:28.988Z"
      },
      {
        "duration": 207,
        "start_time": "2025-09-09T14:20:45.192Z"
      },
      {
        "duration": 142,
        "start_time": "2025-09-09T14:20:48.441Z"
      },
      {
        "duration": 5094,
        "start_time": "2025-09-09T14:21:02.331Z"
      },
      {
        "duration": 94,
        "start_time": "2025-09-09T14:21:07.427Z"
      },
      {
        "duration": 11,
        "start_time": "2025-09-09T14:22:08.136Z"
      },
      {
        "duration": 3,
        "start_time": "2025-09-09T14:22:11.608Z"
      },
      {
        "duration": 1886,
        "start_time": "2025-09-09T14:22:12.534Z"
      },
      {
        "duration": 116,
        "start_time": "2025-09-09T14:22:16.337Z"
      },
      {
        "duration": 519,
        "start_time": "2025-09-09T14:22:18.387Z"
      },
      {
        "duration": 227,
        "start_time": "2025-09-09T14:22:19.873Z"
      },
      {
        "duration": 592,
        "start_time": "2025-09-09T14:22:21.847Z"
      },
      {
        "duration": 87,
        "start_time": "2025-09-09T14:22:24.352Z"
      },
      {
        "duration": 327,
        "start_time": "2025-09-09T14:22:37.521Z"
      },
      {
        "duration": 4349,
        "start_time": "2025-09-09T14:22:41.152Z"
      },
      {
        "duration": 92,
        "start_time": "2025-09-09T14:22:48.519Z"
      },
      {
        "duration": 16,
        "start_time": "2025-09-09T14:23:52.904Z"
      },
      {
        "duration": 1060,
        "start_time": "2025-09-09T14:58:51.650Z"
      },
      {
        "duration": 58,
        "start_time": "2025-09-09T14:59:17.626Z"
      },
      {
        "duration": 958,
        "start_time": "2025-09-09T15:00:53.844Z"
      },
      {
        "duration": 130,
        "start_time": "2025-09-09T15:01:29.915Z"
      },
      {
        "duration": 140,
        "start_time": "2025-09-09T15:03:31.612Z"
      },
      {
        "duration": 1401,
        "start_time": "2025-09-10T05:54:34.136Z"
      },
      {
        "duration": 89,
        "start_time": "2025-09-10T05:55:32.653Z"
      },
      {
        "duration": 104,
        "start_time": "2025-09-10T05:55:41.214Z"
      },
      {
        "duration": 2362,
        "start_time": "2025-09-10T05:55:55.087Z"
      },
      {
        "duration": 632,
        "start_time": "2025-09-10T05:55:57.478Z"
      },
      {
        "duration": 248,
        "start_time": "2025-09-10T05:55:58.983Z"
      },
      {
        "duration": 680,
        "start_time": "2025-09-10T05:56:00.870Z"
      },
      {
        "duration": 94,
        "start_time": "2025-09-10T05:56:02.786Z"
      },
      {
        "duration": 314,
        "start_time": "2025-09-10T05:56:03.857Z"
      },
      {
        "duration": 4497,
        "start_time": "2025-09-10T05:56:06.118Z"
      },
      {
        "duration": 23,
        "start_time": "2025-09-10T05:56:10.617Z"
      },
      {
        "duration": 15,
        "start_time": "2025-09-10T05:56:11.981Z"
      },
      {
        "duration": 14,
        "start_time": "2025-09-10T05:56:19.791Z"
      },
      {
        "duration": 953,
        "start_time": "2025-09-10T05:56:21.957Z"
      },
      {
        "duration": 1275,
        "start_time": "2025-09-10T05:57:44.013Z"
      },
      {
        "duration": 1708,
        "start_time": "2025-09-10T05:57:45.290Z"
      },
      {
        "duration": 136,
        "start_time": "2025-09-10T05:57:47.000Z"
      },
      {
        "duration": 650,
        "start_time": "2025-09-10T05:57:47.137Z"
      },
      {
        "duration": 255,
        "start_time": "2025-09-10T05:57:47.789Z"
      },
      {
        "duration": 665,
        "start_time": "2025-09-10T05:57:48.046Z"
      },
      {
        "duration": 100,
        "start_time": "2025-09-10T05:57:48.713Z"
      },
      {
        "duration": 331,
        "start_time": "2025-09-10T05:57:48.815Z"
      },
      {
        "duration": 4480,
        "start_time": "2025-09-10T05:57:49.148Z"
      },
      {
        "duration": 111,
        "start_time": "2025-09-10T05:57:53.630Z"
      },
      {
        "duration": 15,
        "start_time": "2025-09-10T05:57:53.743Z"
      },
      {
        "duration": 1179,
        "start_time": "2025-09-10T05:57:53.760Z"
      },
      {
        "duration": 66,
        "start_time": "2025-09-10T05:57:54.941Z"
      },
      {
        "duration": 1102,
        "start_time": "2025-09-10T05:57:55.011Z"
      },
      {
        "duration": 158,
        "start_time": "2025-09-10T05:57:56.115Z"
      },
      {
        "duration": 4,
        "start_time": "2025-09-10T05:57:56.275Z"
      },
      {
        "duration": 4,
        "start_time": "2025-09-10T05:58:50.541Z"
      },
      {
        "duration": 3,
        "start_time": "2025-09-10T05:59:13.310Z"
      },
      {
        "duration": 183,
        "start_time": "2025-09-10T05:59:17.989Z"
      },
      {
        "duration": 71,
        "start_time": "2025-09-10T05:59:30.990Z"
      },
      {
        "duration": 568,
        "start_time": "2025-09-10T06:00:45.168Z"
      },
      {
        "duration": 9,
        "start_time": "2025-09-10T06:04:48.728Z"
      },
      {
        "duration": 6,
        "start_time": "2025-09-10T06:06:21.273Z"
      },
      {
        "duration": 757,
        "start_time": "2025-09-10T06:06:33.651Z"
      },
      {
        "duration": 5,
        "start_time": "2025-09-10T06:06:50.316Z"
      },
      {
        "duration": 1283,
        "start_time": "2025-09-10T06:07:01.433Z"
      },
      {
        "duration": 262,
        "start_time": "2025-09-10T06:08:17.948Z"
      },
      {
        "duration": 6,
        "start_time": "2025-09-10T06:10:30.781Z"
      },
      {
        "duration": 691,
        "start_time": "2025-09-10T06:10:32.091Z"
      },
      {
        "duration": 5,
        "start_time": "2025-09-10T06:10:34.712Z"
      },
      {
        "duration": 441,
        "start_time": "2025-09-10T06:13:34.328Z"
      },
      {
        "duration": 9,
        "start_time": "2025-09-10T06:18:16.768Z"
      },
      {
        "duration": 157,
        "start_time": "2025-09-10T06:20:26.712Z"
      },
      {
        "duration": 112,
        "start_time": "2025-09-10T06:22:53.410Z"
      },
      {
        "duration": 16,
        "start_time": "2025-09-10T06:23:10.819Z"
      },
      {
        "duration": 7,
        "start_time": "2025-09-10T06:23:19.548Z"
      },
      {
        "duration": 16,
        "start_time": "2025-09-10T06:23:33.482Z"
      },
      {
        "duration": 8,
        "start_time": "2025-09-10T06:24:24.512Z"
      },
      {
        "duration": 10,
        "start_time": "2025-09-10T06:25:17.532Z"
      },
      {
        "duration": 8,
        "start_time": "2025-09-10T06:25:40.211Z"
      },
      {
        "duration": 24,
        "start_time": "2025-09-10T06:26:00.871Z"
      },
      {
        "duration": 9,
        "start_time": "2025-09-10T06:26:15.125Z"
      },
      {
        "duration": 10,
        "start_time": "2025-09-10T06:27:38.653Z"
      },
      {
        "duration": 7,
        "start_time": "2025-09-10T06:28:23.301Z"
      },
      {
        "duration": 700,
        "start_time": "2025-09-10T06:28:25.316Z"
      },
      {
        "duration": 4,
        "start_time": "2025-09-10T06:28:26.234Z"
      },
      {
        "duration": 1177,
        "start_time": "2025-09-10T06:28:28.098Z"
      },
      {
        "duration": 679,
        "start_time": "2025-09-10T06:29:02.715Z"
      },
      {
        "duration": 6,
        "start_time": "2025-09-10T06:29:05.202Z"
      },
      {
        "duration": 1133,
        "start_time": "2025-09-10T06:29:07.956Z"
      },
      {
        "duration": 696,
        "start_time": "2025-09-10T06:29:20.148Z"
      },
      {
        "duration": 5,
        "start_time": "2025-09-10T06:29:21.803Z"
      },
      {
        "duration": 1161,
        "start_time": "2025-09-10T06:29:23.316Z"
      },
      {
        "duration": 691,
        "start_time": "2025-09-10T06:29:31.779Z"
      },
      {
        "duration": 5,
        "start_time": "2025-09-10T06:29:43.306Z"
      },
      {
        "duration": 1321,
        "start_time": "2025-09-10T06:29:45.243Z"
      },
      {
        "duration": 11,
        "start_time": "2025-09-10T06:34:16.933Z"
      },
      {
        "duration": 69,
        "start_time": "2025-09-10T06:35:11.656Z"
      },
      {
        "duration": 6,
        "start_time": "2025-09-10T06:37:20.600Z"
      },
      {
        "duration": 10,
        "start_time": "2025-09-10T06:44:38.937Z"
      },
      {
        "duration": 10,
        "start_time": "2025-09-10T06:44:41.699Z"
      },
      {
        "duration": 685,
        "start_time": "2025-09-10T06:45:24.602Z"
      },
      {
        "duration": 781,
        "start_time": "2025-09-10T06:49:10.934Z"
      },
      {
        "duration": 16,
        "start_time": "2025-09-10T06:49:52.909Z"
      },
      {
        "duration": 23,
        "start_time": "2025-09-10T06:49:58.044Z"
      },
      {
        "duration": 15,
        "start_time": "2025-09-10T06:50:23.436Z"
      },
      {
        "duration": 677,
        "start_time": "2025-09-10T06:50:54.165Z"
      },
      {
        "duration": 1330,
        "start_time": "2025-09-10T06:51:42.537Z"
      },
      {
        "duration": 1987,
        "start_time": "2025-09-10T06:51:43.869Z"
      },
      {
        "duration": 150,
        "start_time": "2025-09-10T06:51:45.858Z"
      },
      {
        "duration": 690,
        "start_time": "2025-09-10T06:51:46.011Z"
      },
      {
        "duration": 264,
        "start_time": "2025-09-10T06:51:46.703Z"
      },
      {
        "duration": 692,
        "start_time": "2025-09-10T06:51:46.969Z"
      },
      {
        "duration": 96,
        "start_time": "2025-09-10T06:51:47.662Z"
      },
      {
        "duration": 325,
        "start_time": "2025-09-10T06:51:47.760Z"
      },
      {
        "duration": 4593,
        "start_time": "2025-09-10T06:51:48.087Z"
      },
      {
        "duration": 109,
        "start_time": "2025-09-10T06:51:52.683Z"
      },
      {
        "duration": 16,
        "start_time": "2025-09-10T06:51:52.794Z"
      },
      {
        "duration": 1228,
        "start_time": "2025-09-10T06:51:52.812Z"
      },
      {
        "duration": 69,
        "start_time": "2025-09-10T06:51:54.041Z"
      },
      {
        "duration": 1174,
        "start_time": "2025-09-10T06:51:54.112Z"
      },
      {
        "duration": 161,
        "start_time": "2025-09-10T06:51:55.288Z"
      },
      {
        "duration": 205,
        "start_time": "2025-09-10T06:51:55.451Z"
      },
      {
        "duration": 84,
        "start_time": "2025-09-10T06:51:55.658Z"
      },
      {
        "duration": 611,
        "start_time": "2025-09-10T06:51:55.744Z"
      },
      {
        "duration": 11,
        "start_time": "2025-09-10T06:51:56.357Z"
      },
      {
        "duration": 8,
        "start_time": "2025-09-10T06:51:56.370Z"
      },
      {
        "duration": 759,
        "start_time": "2025-09-10T06:51:56.380Z"
      },
      {
        "duration": 6,
        "start_time": "2025-09-10T06:51:57.141Z"
      },
      {
        "duration": 788,
        "start_time": "2025-09-10T06:51:57.148Z"
      },
      {
        "duration": 669,
        "start_time": "2025-09-10T06:51:57.938Z"
      },
      {
        "duration": 286,
        "start_time": "2025-09-10T06:51:58.609Z"
      },
      {
        "duration": 420,
        "start_time": "2025-09-10T06:51:58.896Z"
      },
      {
        "duration": 679,
        "start_time": "2025-09-10T07:00:40.062Z"
      },
      {
        "duration": 661,
        "start_time": "2025-09-10T07:02:49.958Z"
      },
      {
        "duration": 642,
        "start_time": "2025-09-10T07:03:29.312Z"
      },
      {
        "duration": 7,
        "start_time": "2025-09-10T08:09:05.216Z"
      },
      {
        "duration": 604,
        "start_time": "2025-09-10T08:09:07.666Z"
      },
      {
        "duration": 253,
        "start_time": "2025-09-10T08:26:43.545Z"
      },
      {
        "duration": 245,
        "start_time": "2025-09-10T08:27:40.148Z"
      },
      {
        "duration": 283,
        "start_time": "2025-09-10T08:28:28.947Z"
      },
      {
        "duration": 35,
        "start_time": "2025-09-10T08:33:26.801Z"
      },
      {
        "duration": 32,
        "start_time": "2025-09-10T08:33:35.101Z"
      },
      {
        "duration": 35,
        "start_time": "2025-09-10T08:33:42.922Z"
      },
      {
        "duration": 6,
        "start_time": "2025-09-10T08:33:43.745Z"
      },
      {
        "duration": 727,
        "start_time": "2025-09-10T08:35:00.204Z"
      },
      {
        "duration": 821,
        "start_time": "2025-09-10T08:35:40.035Z"
      },
      {
        "duration": 37,
        "start_time": "2025-09-10T08:36:16.962Z"
      },
      {
        "duration": 182,
        "start_time": "2025-09-10T08:36:58.726Z"
      },
      {
        "duration": 686,
        "start_time": "2025-09-10T08:37:00.548Z"
      },
      {
        "duration": 35,
        "start_time": "2025-09-10T08:37:04.592Z"
      },
      {
        "duration": 29,
        "start_time": "2025-09-10T08:37:12.226Z"
      },
      {
        "duration": 35,
        "start_time": "2025-09-10T08:37:31.218Z"
      },
      {
        "duration": 6,
        "start_time": "2025-09-10T08:38:13.573Z"
      },
      {
        "duration": 1279,
        "start_time": "2025-09-10T08:38:19.296Z"
      },
      {
        "duration": 1933,
        "start_time": "2025-09-10T08:38:20.578Z"
      },
      {
        "duration": 166,
        "start_time": "2025-09-10T08:38:22.513Z"
      },
      {
        "duration": 676,
        "start_time": "2025-09-10T08:38:22.681Z"
      },
      {
        "duration": 257,
        "start_time": "2025-09-10T08:38:23.359Z"
      },
      {
        "duration": 675,
        "start_time": "2025-09-10T08:38:23.617Z"
      },
      {
        "duration": 95,
        "start_time": "2025-09-10T08:38:24.294Z"
      },
      {
        "duration": 324,
        "start_time": "2025-09-10T08:38:24.391Z"
      },
      {
        "duration": 4606,
        "start_time": "2025-09-10T08:38:24.716Z"
      },
      {
        "duration": 113,
        "start_time": "2025-09-10T08:38:29.323Z"
      },
      {
        "duration": 15,
        "start_time": "2025-09-10T08:38:29.438Z"
      },
      {
        "duration": 1185,
        "start_time": "2025-09-10T08:38:29.455Z"
      },
      {
        "duration": 65,
        "start_time": "2025-09-10T08:38:30.642Z"
      },
      {
        "duration": 1124,
        "start_time": "2025-09-10T08:38:30.710Z"
      },
      {
        "duration": 159,
        "start_time": "2025-09-10T08:38:31.836Z"
      },
      {
        "duration": 205,
        "start_time": "2025-09-10T08:38:31.997Z"
      },
      {
        "duration": 74,
        "start_time": "2025-09-10T08:38:32.204Z"
      },
      {
        "duration": 577,
        "start_time": "2025-09-10T08:38:32.279Z"
      },
      {
        "duration": 10,
        "start_time": "2025-09-10T08:38:32.858Z"
      },
      {
        "duration": 21,
        "start_time": "2025-09-10T08:38:32.870Z"
      },
      {
        "duration": 475,
        "start_time": "2025-09-10T08:38:32.893Z"
      },
      {
        "duration": 5,
        "start_time": "2025-09-10T08:38:33.369Z"
      },
      {
        "duration": 812,
        "start_time": "2025-09-10T08:38:33.376Z"
      },
      {
        "duration": 759,
        "start_time": "2025-09-10T08:38:34.190Z"
      },
      {
        "duration": 185,
        "start_time": "2025-09-10T08:38:34.951Z"
      },
      {
        "duration": 463,
        "start_time": "2025-09-10T08:38:35.138Z"
      },
      {
        "duration": 306,
        "start_time": "2025-09-10T08:38:35.603Z"
      },
      {
        "duration": 720,
        "start_time": "2025-09-10T08:38:35.911Z"
      },
      {
        "duration": 35,
        "start_time": "2025-09-10T08:38:36.633Z"
      },
      {
        "duration": 104,
        "start_time": "2025-09-10T08:38:36.670Z"
      },
      {
        "duration": 35,
        "start_time": "2025-09-10T08:38:36.775Z"
      },
      {
        "duration": 7,
        "start_time": "2025-09-10T08:38:36.812Z"
      },
      {
        "duration": 43,
        "start_time": "2025-09-10T08:38:36.821Z"
      },
      {
        "duration": 1499,
        "start_time": "2025-09-10T08:39:50.713Z"
      },
      {
        "duration": 24,
        "start_time": "2025-09-10T08:40:54.098Z"
      },
      {
        "duration": 52,
        "start_time": "2025-09-10T09:05:34.019Z"
      },
      {
        "duration": 51,
        "start_time": "2025-09-10T09:10:04.239Z"
      },
      {
        "duration": 57,
        "start_time": "2025-09-10T09:13:50.456Z"
      },
      {
        "duration": 7,
        "start_time": "2025-09-10T09:14:29.778Z"
      },
      {
        "duration": 1019,
        "start_time": "2025-09-10T09:33:38.465Z"
      },
      {
        "duration": 1821,
        "start_time": "2025-09-10T09:35:04.195Z"
      },
      {
        "duration": 823,
        "start_time": "2025-09-10T09:35:38.244Z"
      },
      {
        "duration": 3,
        "start_time": "2025-09-10T09:36:32.870Z"
      },
      {
        "duration": 813,
        "start_time": "2025-09-10T09:36:48.568Z"
      },
      {
        "duration": 3,
        "start_time": "2025-09-10T09:36:49.640Z"
      },
      {
        "duration": 40,
        "start_time": "2025-09-10T09:37:40.171Z"
      },
      {
        "duration": 10,
        "start_time": "2025-09-10T09:38:53.595Z"
      },
      {
        "duration": 11,
        "start_time": "2025-09-10T09:40:44.149Z"
      },
      {
        "duration": 48,
        "start_time": "2025-09-10T09:42:55.990Z"
      },
      {
        "duration": 2,
        "start_time": "2025-09-10T09:43:30.588Z"
      },
      {
        "duration": 44,
        "start_time": "2025-09-10T09:43:34.366Z"
      },
      {
        "duration": 821,
        "start_time": "2025-09-10T09:44:14.948Z"
      },
      {
        "duration": 698,
        "start_time": "2025-09-10T09:45:08.331Z"
      },
      {
        "duration": 3,
        "start_time": "2025-09-10T09:45:09.956Z"
      },
      {
        "duration": 3,
        "start_time": "2025-09-10T09:45:17.915Z"
      },
      {
        "duration": 737,
        "start_time": "2025-09-10T09:45:19.063Z"
      },
      {
        "duration": 3,
        "start_time": "2025-09-10T09:45:19.828Z"
      },
      {
        "duration": 5,
        "start_time": "2025-09-10T09:45:20.944Z"
      },
      {
        "duration": 4393,
        "start_time": "2025-09-10T09:45:47.269Z"
      },
      {
        "duration": 745,
        "start_time": "2025-09-10T09:47:47.823Z"
      },
      {
        "duration": 41,
        "start_time": "2025-09-10T09:49:04.159Z"
      },
      {
        "duration": 19,
        "start_time": "2025-09-10T09:49:34.359Z"
      },
      {
        "duration": 164,
        "start_time": "2025-09-10T09:49:49.920Z"
      },
      {
        "duration": 3456,
        "start_time": "2025-09-10T09:50:22.742Z"
      },
      {
        "duration": 3,
        "start_time": "2025-09-10T09:50:35.631Z"
      },
      {
        "duration": 15,
        "start_time": "2025-09-10T09:51:02.976Z"
      },
      {
        "duration": 726,
        "start_time": "2025-09-10T09:51:30.281Z"
      },
      {
        "duration": 42,
        "start_time": "2025-09-10T09:51:31.880Z"
      },
      {
        "duration": 19,
        "start_time": "2025-09-10T09:51:34.903Z"
      },
      {
        "duration": 166,
        "start_time": "2025-09-10T09:51:36.881Z"
      },
      {
        "duration": 3436,
        "start_time": "2025-09-10T09:51:39.354Z"
      },
      {
        "duration": 32,
        "start_time": "2025-09-10T09:51:42.810Z"
      },
      {
        "duration": 4320,
        "start_time": "2025-09-10T09:52:02.549Z"
      },
      {
        "duration": 6,
        "start_time": "2025-09-10T10:00:44.766Z"
      },
      {
        "duration": 6,
        "start_time": "2025-09-10T10:00:50.155Z"
      },
      {
        "duration": 7,
        "start_time": "2025-09-10T10:01:44.228Z"
      },
      {
        "duration": 6,
        "start_time": "2025-09-10T10:01:45.478Z"
      },
      {
        "duration": 91,
        "start_time": "2025-09-10T10:02:07.211Z"
      },
      {
        "duration": 182,
        "start_time": "2025-09-10T10:02:12.436Z"
      },
      {
        "duration": 114,
        "start_time": "2025-09-10T10:02:30.294Z"
      },
      {
        "duration": 6,
        "start_time": "2025-09-10T10:02:33.886Z"
      },
      {
        "duration": 8,
        "start_time": "2025-09-10T10:02:35.028Z"
      },
      {
        "duration": 161,
        "start_time": "2025-09-10T10:02:37.525Z"
      },
      {
        "duration": 6,
        "start_time": "2025-09-10T10:04:53.928Z"
      },
      {
        "duration": 6,
        "start_time": "2025-09-10T10:04:56.695Z"
      },
      {
        "duration": 155,
        "start_time": "2025-09-10T10:04:59.375Z"
      },
      {
        "duration": 7,
        "start_time": "2025-09-10T10:06:34.759Z"
      },
      {
        "duration": 7,
        "start_time": "2025-09-10T10:06:58.341Z"
      },
      {
        "duration": 7,
        "start_time": "2025-09-10T10:07:28.638Z"
      },
      {
        "duration": 1281,
        "start_time": "2025-09-10T10:07:57.009Z"
      },
      {
        "duration": 2065,
        "start_time": "2025-09-10T10:07:58.292Z"
      },
      {
        "duration": 147,
        "start_time": "2025-09-10T10:08:00.358Z"
      },
      {
        "duration": 676,
        "start_time": "2025-09-10T10:08:00.506Z"
      },
      {
        "duration": 263,
        "start_time": "2025-09-10T10:08:01.184Z"
      },
      {
        "duration": 722,
        "start_time": "2025-09-10T10:08:01.449Z"
      },
      {
        "duration": 98,
        "start_time": "2025-09-10T10:08:02.173Z"
      },
      {
        "duration": 340,
        "start_time": "2025-09-10T10:08:02.272Z"
      },
      {
        "duration": 4619,
        "start_time": "2025-09-10T10:08:02.615Z"
      },
      {
        "duration": 107,
        "start_time": "2025-09-10T10:08:07.236Z"
      },
      {
        "duration": 16,
        "start_time": "2025-09-10T10:08:07.345Z"
      },
      {
        "duration": 1217,
        "start_time": "2025-09-10T10:08:07.363Z"
      },
      {
        "duration": 84,
        "start_time": "2025-09-10T10:08:08.581Z"
      },
      {
        "duration": 1128,
        "start_time": "2025-09-10T10:08:08.668Z"
      },
      {
        "duration": 164,
        "start_time": "2025-09-10T10:08:09.798Z"
      },
      {
        "duration": 206,
        "start_time": "2025-09-10T10:08:09.964Z"
      },
      {
        "duration": 92,
        "start_time": "2025-09-10T10:08:10.173Z"
      },
      {
        "duration": 576,
        "start_time": "2025-09-10T10:08:10.267Z"
      },
      {
        "duration": 11,
        "start_time": "2025-09-10T10:08:10.845Z"
      },
      {
        "duration": 7,
        "start_time": "2025-09-10T10:08:10.858Z"
      },
      {
        "duration": 507,
        "start_time": "2025-09-10T10:08:10.867Z"
      },
      {
        "duration": 5,
        "start_time": "2025-09-10T10:08:11.376Z"
      },
      {
        "duration": 759,
        "start_time": "2025-09-10T10:08:11.383Z"
      },
      {
        "duration": 694,
        "start_time": "2025-09-10T10:08:12.144Z"
      },
      {
        "duration": 284,
        "start_time": "2025-09-10T10:08:12.840Z"
      },
      {
        "duration": 454,
        "start_time": "2025-09-10T10:08:13.126Z"
      },
      {
        "duration": 311,
        "start_time": "2025-09-10T10:08:13.582Z"
      },
      {
        "duration": 1556,
        "start_time": "2025-09-10T10:08:13.895Z"
      },
      {
        "duration": 26,
        "start_time": "2025-09-10T10:08:15.453Z"
      },
      {
        "duration": 160,
        "start_time": "2025-09-10T10:08:15.481Z"
      },
      {
        "duration": 61,
        "start_time": "2025-09-10T10:08:15.643Z"
      },
      {
        "duration": 9,
        "start_time": "2025-09-10T10:08:15.706Z"
      },
      {
        "duration": 11,
        "start_time": "2025-09-10T10:09:01.047Z"
      },
      {
        "duration": 4,
        "start_time": "2025-09-10T10:16:45.893Z"
      },
      {
        "duration": 115,
        "start_time": "2025-09-10T10:17:45.053Z"
      },
      {
        "duration": 50,
        "start_time": "2025-09-10T10:23:25.942Z"
      },
      {
        "duration": 113,
        "start_time": "2025-09-10T10:23:28.837Z"
      },
      {
        "duration": 27048,
        "start_time": "2025-09-10T10:24:17.986Z"
      },
      {
        "duration": 4,
        "start_time": "2025-09-10T10:25:04.425Z"
      },
      {
        "duration": 135,
        "start_time": "2025-09-10T10:25:38.713Z"
      },
      {
        "duration": 29806,
        "start_time": "2025-09-10T10:25:38.850Z"
      },
      {
        "duration": 15,
        "start_time": "2025-09-10T10:26:08.658Z"
      },
      {
        "duration": 310,
        "start_time": "2025-09-10T10:28:26.875Z"
      },
      {
        "duration": 17,
        "start_time": "2025-09-10T10:28:53.278Z"
      },
      {
        "duration": 62,
        "start_time": "2025-09-10T10:31:29.684Z"
      },
      {
        "duration": 117,
        "start_time": "2025-09-10T10:31:31.978Z"
      },
      {
        "duration": 29035,
        "start_time": "2025-09-10T10:31:35.242Z"
      },
      {
        "duration": 13,
        "start_time": "2025-09-10T10:39:51.037Z"
      },
      {
        "duration": 555,
        "start_time": "2025-09-10T10:40:41.150Z"
      },
      {
        "duration": 156,
        "start_time": "2025-09-10T10:41:13.411Z"
      },
      {
        "duration": 16,
        "start_time": "2025-09-10T10:41:38.244Z"
      },
      {
        "duration": 372,
        "start_time": "2025-09-10T10:42:55.432Z"
      },
      {
        "duration": 167,
        "start_time": "2025-09-10T10:43:38.018Z"
      },
      {
        "duration": 3,
        "start_time": "2025-09-10T10:44:48.780Z"
      },
      {
        "duration": 5,
        "start_time": "2025-09-10T10:46:20.275Z"
      },
      {
        "duration": 300,
        "start_time": "2025-09-10T10:46:58.746Z"
      },
      {
        "duration": 17,
        "start_time": "2025-09-10T10:47:01.027Z"
      },
      {
        "duration": 16,
        "start_time": "2025-09-10T10:55:49.951Z"
      },
      {
        "duration": 17,
        "start_time": "2025-09-10T10:55:52.130Z"
      },
      {
        "duration": 15,
        "start_time": "2025-09-10T10:57:48.240Z"
      },
      {
        "duration": 11,
        "start_time": "2025-09-10T11:08:12.041Z"
      },
      {
        "duration": 4,
        "start_time": "2025-09-10T11:08:41.353Z"
      },
      {
        "duration": 10,
        "start_time": "2025-09-10T11:08:42.759Z"
      },
      {
        "duration": 7,
        "start_time": "2025-09-10T11:11:19.363Z"
      },
      {
        "duration": 6,
        "start_time": "2025-09-10T11:11:23.987Z"
      },
      {
        "duration": 4,
        "start_time": "2025-09-10T11:14:07.869Z"
      },
      {
        "duration": 8,
        "start_time": "2025-09-10T11:14:42.641Z"
      },
      {
        "duration": 6,
        "start_time": "2025-09-10T11:14:45.290Z"
      },
      {
        "duration": 65,
        "start_time": "2025-09-11T06:34:57.228Z"
      },
      {
        "duration": 10,
        "start_time": "2025-09-11T06:38:32.510Z"
      },
      {
        "duration": 587,
        "start_time": "2025-09-11T06:42:59.733Z"
      },
      {
        "duration": 133,
        "start_time": "2025-09-11T06:47:13.881Z"
      },
      {
        "duration": 423,
        "start_time": "2025-09-11T06:49:08.383Z"
      },
      {
        "duration": 493,
        "start_time": "2025-09-11T06:50:29.226Z"
      },
      {
        "duration": 33,
        "start_time": "2025-09-11T06:55:04.382Z"
      },
      {
        "duration": 10,
        "start_time": "2025-09-11T06:56:59.306Z"
      },
      {
        "duration": 14,
        "start_time": "2025-09-11T06:57:16.963Z"
      },
      {
        "duration": 1695,
        "start_time": "2025-09-11T06:57:31.345Z"
      },
      {
        "duration": 2139,
        "start_time": "2025-09-11T06:57:33.042Z"
      },
      {
        "duration": 201,
        "start_time": "2025-09-11T06:57:35.183Z"
      },
      {
        "duration": 715,
        "start_time": "2025-09-11T06:57:35.392Z"
      },
      {
        "duration": 306,
        "start_time": "2025-09-11T06:57:36.109Z"
      },
      {
        "duration": 871,
        "start_time": "2025-09-11T06:57:36.417Z"
      },
      {
        "duration": 108,
        "start_time": "2025-09-11T06:57:37.293Z"
      },
      {
        "duration": 354,
        "start_time": "2025-09-11T06:57:37.403Z"
      },
      {
        "duration": 5431,
        "start_time": "2025-09-11T06:57:37.759Z"
      },
      {
        "duration": 130,
        "start_time": "2025-09-11T06:57:43.196Z"
      },
      {
        "duration": 16,
        "start_time": "2025-09-11T06:57:43.328Z"
      },
      {
        "duration": 1393,
        "start_time": "2025-09-11T06:57:43.346Z"
      },
      {
        "duration": 86,
        "start_time": "2025-09-11T06:57:44.741Z"
      },
      {
        "duration": 1340,
        "start_time": "2025-09-11T06:57:44.829Z"
      },
      {
        "duration": 165,
        "start_time": "2025-09-11T06:57:46.174Z"
      },
      {
        "duration": 212,
        "start_time": "2025-09-11T06:57:46.341Z"
      },
      {
        "duration": 94,
        "start_time": "2025-09-11T06:57:46.555Z"
      },
      {
        "duration": 683,
        "start_time": "2025-09-11T06:57:46.660Z"
      },
      {
        "duration": 41,
        "start_time": "2025-09-11T06:57:47.345Z"
      },
      {
        "duration": 7,
        "start_time": "2025-09-11T06:57:47.392Z"
      },
      {
        "duration": 539,
        "start_time": "2025-09-11T06:57:47.400Z"
      },
      {
        "duration": 5,
        "start_time": "2025-09-11T06:57:47.941Z"
      },
      {
        "duration": 889,
        "start_time": "2025-09-11T06:57:47.948Z"
      },
      {
        "duration": 783,
        "start_time": "2025-09-11T06:57:48.838Z"
      },
      {
        "duration": 326,
        "start_time": "2025-09-11T06:57:49.623Z"
      },
      {
        "duration": 478,
        "start_time": "2025-09-11T06:57:49.951Z"
      },
      {
        "duration": 366,
        "start_time": "2025-09-11T06:57:50.431Z"
      },
      {
        "duration": 1718,
        "start_time": "2025-09-11T06:57:50.801Z"
      },
      {
        "duration": 59,
        "start_time": "2025-09-11T06:57:52.521Z"
      },
      {
        "duration": 103,
        "start_time": "2025-09-11T06:57:52.590Z"
      },
      {
        "duration": 67,
        "start_time": "2025-09-11T06:57:52.695Z"
      },
      {
        "duration": 61,
        "start_time": "2025-09-11T06:57:52.773Z"
      },
      {
        "duration": 159,
        "start_time": "2025-09-11T06:57:52.836Z"
      },
      {
        "duration": 13,
        "start_time": "2025-09-11T06:57:52.998Z"
      },
      {
        "duration": 215,
        "start_time": "2025-09-11T06:57:53.014Z"
      },
      {
        "duration": 37,
        "start_time": "2025-09-11T06:57:53.231Z"
      },
      {
        "duration": 17,
        "start_time": "2025-09-11T06:57:53.272Z"
      },
      {
        "duration": 171,
        "start_time": "2025-09-11T06:57:53.291Z"
      },
      {
        "duration": 140,
        "start_time": "2025-09-11T06:57:53.465Z"
      },
      {
        "duration": 0,
        "start_time": "2025-09-11T06:57:53.606Z"
      },
      {
        "duration": 0,
        "start_time": "2025-09-11T06:57:53.608Z"
      },
      {
        "duration": 192,
        "start_time": "2025-09-11T06:58:34.261Z"
      },
      {
        "duration": 20,
        "start_time": "2025-09-11T06:58:35.179Z"
      },
      {
        "duration": 180,
        "start_time": "2025-09-11T06:59:29.733Z"
      },
      {
        "duration": 44,
        "start_time": "2025-09-11T06:59:31.390Z"
      },
      {
        "duration": 4117,
        "start_time": "2025-09-11T06:59:33.429Z"
      },
      {
        "duration": 4125,
        "start_time": "2025-09-11T07:01:37.904Z"
      },
      {
        "duration": 11,
        "start_time": "2025-09-11T07:01:42.032Z"
      },
      {
        "duration": 0,
        "start_time": "2025-09-11T07:06:44.784Z"
      },
      {
        "duration": 4,
        "start_time": "2025-09-11T07:06:46.539Z"
      },
      {
        "duration": 55130,
        "start_time": "2025-09-11T07:06:51.644Z"
      },
      {
        "duration": 56064,
        "start_time": "2025-09-11T07:09:32.680Z"
      },
      {
        "duration": 35,
        "start_time": "2025-09-11T07:15:17.738Z"
      },
      {
        "duration": 937,
        "start_time": "2025-09-11T07:15:52.217Z"
      },
      {
        "duration": 4897,
        "start_time": "2025-09-11T07:25:38.840Z"
      },
      {
        "duration": 2547,
        "start_time": "2025-09-11T07:26:26.787Z"
      },
      {
        "duration": 1609,
        "start_time": "2025-09-11T07:28:48.695Z"
      },
      {
        "duration": 577,
        "start_time": "2025-09-11T07:28:51.152Z"
      },
      {
        "duration": 330,
        "start_time": "2025-09-11T07:29:19.795Z"
      },
      {
        "duration": 145,
        "start_time": "2025-09-11T07:29:32.393Z"
      },
      {
        "duration": 71,
        "start_time": "2025-09-11T07:43:58.654Z"
      },
      {
        "duration": 1463,
        "start_time": "2025-09-11T08:10:59.277Z"
      },
      {
        "duration": 2240,
        "start_time": "2025-09-11T08:11:00.742Z"
      },
      {
        "duration": 227,
        "start_time": "2025-09-11T08:11:02.984Z"
      },
      {
        "duration": 772,
        "start_time": "2025-09-11T08:11:03.217Z"
      },
      {
        "duration": 351,
        "start_time": "2025-09-11T08:11:04.001Z"
      },
      {
        "duration": 885,
        "start_time": "2025-09-11T08:11:04.354Z"
      },
      {
        "duration": 128,
        "start_time": "2025-09-11T08:11:05.241Z"
      },
      {
        "duration": 376,
        "start_time": "2025-09-11T08:11:05.371Z"
      },
      {
        "duration": 6224,
        "start_time": "2025-09-11T08:11:05.749Z"
      },
      {
        "duration": 156,
        "start_time": "2025-09-11T08:11:11.977Z"
      },
      {
        "duration": 17,
        "start_time": "2025-09-11T08:11:12.135Z"
      },
      {
        "duration": 1575,
        "start_time": "2025-09-11T08:11:12.165Z"
      },
      {
        "duration": 99,
        "start_time": "2025-09-11T08:11:13.742Z"
      },
      {
        "duration": 1335,
        "start_time": "2025-09-11T08:11:13.843Z"
      },
      {
        "duration": 227,
        "start_time": "2025-09-11T08:11:15.180Z"
      },
      {
        "duration": 217,
        "start_time": "2025-09-11T08:11:15.411Z"
      },
      {
        "duration": 110,
        "start_time": "2025-09-11T08:11:15.630Z"
      },
      {
        "duration": 703,
        "start_time": "2025-09-11T08:11:15.743Z"
      },
      {
        "duration": 23,
        "start_time": "2025-09-11T08:11:16.448Z"
      },
      {
        "duration": 15,
        "start_time": "2025-09-11T08:11:16.482Z"
      },
      {
        "duration": 579,
        "start_time": "2025-09-11T08:11:16.500Z"
      },
      {
        "duration": 8,
        "start_time": "2025-09-11T08:11:17.081Z"
      },
      {
        "duration": 847,
        "start_time": "2025-09-11T08:11:17.091Z"
      },
      {
        "duration": 794,
        "start_time": "2025-09-11T08:11:17.940Z"
      },
      {
        "duration": 355,
        "start_time": "2025-09-11T08:11:18.736Z"
      },
      {
        "duration": 451,
        "start_time": "2025-09-11T08:11:19.099Z"
      },
      {
        "duration": 389,
        "start_time": "2025-09-11T08:11:19.552Z"
      },
      {
        "duration": 1877,
        "start_time": "2025-09-11T08:11:19.945Z"
      },
      {
        "duration": 47,
        "start_time": "2025-09-11T08:11:21.824Z"
      },
      {
        "duration": 74,
        "start_time": "2025-09-11T08:11:21.878Z"
      },
      {
        "duration": 88,
        "start_time": "2025-09-11T08:11:21.953Z"
      },
      {
        "duration": 70,
        "start_time": "2025-09-11T08:11:22.042Z"
      },
      {
        "duration": 167,
        "start_time": "2025-09-11T08:11:22.116Z"
      },
      {
        "duration": 225,
        "start_time": "2025-09-11T08:11:22.289Z"
      },
      {
        "duration": 18,
        "start_time": "2025-09-11T08:11:22.516Z"
      },
      {
        "duration": 48,
        "start_time": "2025-09-11T08:11:22.536Z"
      },
      {
        "duration": 3797,
        "start_time": "2025-09-11T08:11:22.597Z"
      },
      {
        "duration": 367,
        "start_time": "2025-09-11T08:11:26.403Z"
      },
      {
        "duration": 190,
        "start_time": "2025-09-11T08:11:26.773Z"
      },
      {
        "duration": 1338,
        "start_time": "2025-09-11T20:16:27.153Z"
      },
      {
        "duration": 2000,
        "start_time": "2025-09-11T20:16:28.493Z"
      },
      {
        "duration": 172,
        "start_time": "2025-09-11T20:16:30.495Z"
      },
      {
        "duration": 735,
        "start_time": "2025-09-11T20:16:30.672Z"
      },
      {
        "duration": 299,
        "start_time": "2025-09-11T20:16:31.409Z"
      },
      {
        "duration": 804,
        "start_time": "2025-09-11T20:16:31.710Z"
      },
      {
        "duration": 108,
        "start_time": "2025-09-11T20:16:32.516Z"
      },
      {
        "duration": 382,
        "start_time": "2025-09-11T20:16:32.626Z"
      },
      {
        "duration": 5382,
        "start_time": "2025-09-11T20:16:33.011Z"
      },
      {
        "duration": 124,
        "start_time": "2025-09-11T20:16:38.395Z"
      },
      {
        "duration": 16,
        "start_time": "2025-09-11T20:16:38.521Z"
      },
      {
        "duration": 1414,
        "start_time": "2025-09-11T20:16:38.539Z"
      },
      {
        "duration": 81,
        "start_time": "2025-09-11T20:16:39.960Z"
      },
      {
        "duration": 1311,
        "start_time": "2025-09-11T20:16:40.045Z"
      },
      {
        "duration": 168,
        "start_time": "2025-09-11T20:16:41.360Z"
      },
      {
        "duration": 219,
        "start_time": "2025-09-11T20:16:41.530Z"
      },
      {
        "duration": 85,
        "start_time": "2025-09-11T20:16:41.751Z"
      },
      {
        "duration": 658,
        "start_time": "2025-09-11T20:16:41.838Z"
      },
      {
        "duration": 11,
        "start_time": "2025-09-11T20:16:42.497Z"
      },
      {
        "duration": 8,
        "start_time": "2025-09-11T20:16:42.510Z"
      },
      {
        "duration": 571,
        "start_time": "2025-09-11T20:16:42.519Z"
      },
      {
        "duration": 5,
        "start_time": "2025-09-11T20:16:43.092Z"
      },
      {
        "duration": 897,
        "start_time": "2025-09-11T20:16:43.098Z"
      },
      {
        "duration": 726,
        "start_time": "2025-09-11T20:16:43.997Z"
      },
      {
        "duration": 226,
        "start_time": "2025-09-11T20:16:44.725Z"
      },
      {
        "duration": 593,
        "start_time": "2025-09-11T20:16:44.963Z"
      },
      {
        "duration": 386,
        "start_time": "2025-09-11T20:16:45.558Z"
      },
      {
        "duration": 1749,
        "start_time": "2025-09-11T20:16:45.946Z"
      },
      {
        "duration": 26,
        "start_time": "2025-09-11T20:16:47.697Z"
      },
      {
        "duration": 100,
        "start_time": "2025-09-11T20:16:47.725Z"
      },
      {
        "duration": 75,
        "start_time": "2025-09-11T20:16:47.827Z"
      },
      {
        "duration": 79,
        "start_time": "2025-09-11T20:16:47.904Z"
      },
      {
        "duration": 132,
        "start_time": "2025-09-11T20:16:47.985Z"
      },
      {
        "duration": 184,
        "start_time": "2025-09-11T20:16:48.119Z"
      },
      {
        "duration": 16,
        "start_time": "2025-09-11T20:16:48.305Z"
      },
      {
        "duration": 6,
        "start_time": "2025-09-11T20:16:48.323Z"
      },
      {
        "duration": 3773,
        "start_time": "2025-09-11T20:16:48.332Z"
      },
      {
        "duration": 369,
        "start_time": "2025-09-11T20:16:52.107Z"
      },
      {
        "duration": 138,
        "start_time": "2025-09-11T20:16:52.479Z"
      },
      {
        "duration": 67,
        "start_time": "2025-09-12T04:43:02.149Z"
      },
      {
        "duration": 1505,
        "start_time": "2025-09-12T04:43:10.283Z"
      },
      {
        "duration": 2343,
        "start_time": "2025-09-12T04:43:14.285Z"
      },
      {
        "duration": 159,
        "start_time": "2025-09-12T04:43:20.132Z"
      },
      {
        "duration": 682,
        "start_time": "2025-09-12T04:43:24.452Z"
      },
      {
        "duration": 301,
        "start_time": "2025-09-12T04:43:26.955Z"
      },
      {
        "duration": 801,
        "start_time": "2025-09-12T04:43:44.075Z"
      },
      {
        "duration": 471,
        "start_time": "2025-09-12T04:44:01.363Z"
      },
      {
        "duration": 4257,
        "start_time": "2025-09-12T04:44:03.756Z"
      },
      {
        "duration": 99,
        "start_time": "2025-09-12T04:44:08.015Z"
      },
      {
        "duration": 28,
        "start_time": "2025-09-12T04:45:42.595Z"
      },
      {
        "duration": 470,
        "start_time": "2025-09-12T05:10:15.834Z"
      },
      {
        "duration": 237,
        "start_time": "2025-09-12T05:10:37.210Z"
      },
      {
        "duration": 235,
        "start_time": "2025-09-12T05:10:49.393Z"
      },
      {
        "duration": 474,
        "start_time": "2025-09-12T05:10:55.312Z"
      },
      {
        "duration": 243,
        "start_time": "2025-09-12T05:11:10.729Z"
      },
      {
        "duration": 240,
        "start_time": "2025-09-12T05:11:19.400Z"
      },
      {
        "duration": 235,
        "start_time": "2025-09-12T05:11:20.776Z"
      },
      {
        "duration": 104,
        "start_time": "2025-09-12T05:12:24.513Z"
      },
      {
        "duration": 31,
        "start_time": "2025-09-12T05:18:11.064Z"
      },
      {
        "duration": 1809,
        "start_time": "2025-09-12T05:18:14.264Z"
      },
      {
        "duration": 32,
        "start_time": "2025-09-12T05:18:37.296Z"
      },
      {
        "duration": 5,
        "start_time": "2025-09-12T05:25:28.086Z"
      },
      {
        "duration": 610,
        "start_time": "2025-09-12T05:26:06.478Z"
      },
      {
        "duration": 257,
        "start_time": "2025-09-12T05:29:28.758Z"
      },
      {
        "duration": 263,
        "start_time": "2025-09-12T05:29:30.989Z"
      },
      {
        "duration": 92,
        "start_time": "2025-09-12T05:29:54.286Z"
      },
      {
        "duration": 14,
        "start_time": "2025-09-12T05:35:51.108Z"
      },
      {
        "duration": 412,
        "start_time": "2025-09-12T05:35:52.076Z"
      },
      {
        "duration": 67,
        "start_time": "2025-09-12T05:40:45.651Z"
      },
      {
        "duration": 153,
        "start_time": "2025-09-12T06:29:07.112Z"
      },
      {
        "duration": 154,
        "start_time": "2025-09-12T06:29:35.584Z"
      },
      {
        "duration": 156,
        "start_time": "2025-09-12T06:29:44.680Z"
      },
      {
        "duration": 424,
        "start_time": "2025-09-12T06:29:48.512Z"
      },
      {
        "duration": 184,
        "start_time": "2025-09-12T06:30:12.448Z"
      },
      {
        "duration": 147,
        "start_time": "2025-09-12T06:30:45.600Z"
      },
      {
        "duration": 149,
        "start_time": "2025-09-12T06:31:08.992Z"
      },
      {
        "duration": 165,
        "start_time": "2025-09-12T06:33:13.176Z"
      },
      {
        "duration": 24,
        "start_time": "2025-09-12T06:33:45.935Z"
      },
      {
        "duration": 168,
        "start_time": "2025-09-12T06:35:49.423Z"
      },
      {
        "duration": 154,
        "start_time": "2025-09-12T06:35:53.110Z"
      },
      {
        "duration": 167,
        "start_time": "2025-09-12T06:36:07.583Z"
      },
      {
        "duration": 422,
        "start_time": "2025-09-12T06:36:27.318Z"
      },
      {
        "duration": 458,
        "start_time": "2025-09-12T06:37:06.558Z"
      },
      {
        "duration": 480,
        "start_time": "2025-09-12T06:40:06.629Z"
      },
      {
        "duration": 19,
        "start_time": "2025-09-12T06:40:17.710Z"
      },
      {
        "duration": 472,
        "start_time": "2025-09-12T06:40:39.877Z"
      },
      {
        "duration": 477,
        "start_time": "2025-09-12T06:41:00.574Z"
      },
      {
        "duration": 4,
        "start_time": "2025-09-12T06:41:26.943Z"
      },
      {
        "duration": 476,
        "start_time": "2025-09-12T06:43:33.461Z"
      },
      {
        "duration": 446,
        "start_time": "2025-09-12T06:45:29.380Z"
      },
      {
        "duration": 457,
        "start_time": "2025-09-12T06:46:19.389Z"
      },
      {
        "duration": 469,
        "start_time": "2025-09-12T06:46:44.116Z"
      },
      {
        "duration": 308,
        "start_time": "2025-09-12T06:49:19.460Z"
      },
      {
        "duration": 16,
        "start_time": "2025-09-12T06:51:36.316Z"
      },
      {
        "duration": 495,
        "start_time": "2025-09-12T06:53:20.899Z"
      },
      {
        "duration": 531,
        "start_time": "2025-09-12T07:38:54.305Z"
      },
      {
        "duration": 515,
        "start_time": "2025-09-12T07:41:48.672Z"
      },
      {
        "duration": 461,
        "start_time": "2025-09-12T07:51:09.767Z"
      },
      {
        "duration": 7,
        "start_time": "2025-09-12T07:52:20.590Z"
      },
      {
        "duration": 1287,
        "start_time": "2025-09-12T07:53:34.072Z"
      },
      {
        "duration": 1934,
        "start_time": "2025-09-12T07:53:35.362Z"
      },
      {
        "duration": 42,
        "start_time": "2025-09-12T07:53:37.298Z"
      },
      {
        "duration": 149,
        "start_time": "2025-09-12T07:53:37.342Z"
      },
      {
        "duration": 4,
        "start_time": "2025-09-12T07:53:37.495Z"
      },
      {
        "duration": 725,
        "start_time": "2025-09-12T07:53:37.501Z"
      },
      {
        "duration": 273,
        "start_time": "2025-09-12T07:53:38.233Z"
      },
      {
        "duration": 280,
        "start_time": "2025-09-12T07:53:38.508Z"
      },
      {
        "duration": 738,
        "start_time": "2025-09-12T07:53:38.790Z"
      },
      {
        "duration": 111,
        "start_time": "2025-09-12T07:53:39.534Z"
      },
      {
        "duration": 350,
        "start_time": "2025-09-12T07:53:39.646Z"
      },
      {
        "duration": 4860,
        "start_time": "2025-09-12T07:53:39.998Z"
      },
      {
        "duration": 113,
        "start_time": "2025-09-12T07:53:44.860Z"
      },
      {
        "duration": 29,
        "start_time": "2025-09-12T07:53:44.976Z"
      },
      {
        "duration": 1293,
        "start_time": "2025-09-12T07:53:45.007Z"
      },
      {
        "duration": 83,
        "start_time": "2025-09-12T07:53:46.302Z"
      },
      {
        "duration": 1153,
        "start_time": "2025-09-12T07:53:46.386Z"
      },
      {
        "duration": 163,
        "start_time": "2025-09-12T07:53:47.541Z"
      },
      {
        "duration": 217,
        "start_time": "2025-09-12T07:53:47.706Z"
      },
      {
        "duration": 81,
        "start_time": "2025-09-12T07:53:47.925Z"
      },
      {
        "duration": 645,
        "start_time": "2025-09-12T07:53:48.008Z"
      },
      {
        "duration": 11,
        "start_time": "2025-09-12T07:53:48.655Z"
      },
      {
        "duration": 7,
        "start_time": "2025-09-12T07:53:48.668Z"
      },
      {
        "duration": 526,
        "start_time": "2025-09-12T07:53:48.677Z"
      },
      {
        "duration": 5,
        "start_time": "2025-09-12T07:53:49.205Z"
      },
      {
        "duration": 769,
        "start_time": "2025-09-12T07:53:49.212Z"
      },
      {
        "duration": 689,
        "start_time": "2025-09-12T07:53:49.983Z"
      },
      {
        "duration": 302,
        "start_time": "2025-09-12T07:53:50.674Z"
      },
      {
        "duration": 510,
        "start_time": "2025-09-12T07:53:50.978Z"
      },
      {
        "duration": 338,
        "start_time": "2025-09-12T07:53:51.490Z"
      },
      {
        "duration": 1578,
        "start_time": "2025-09-12T07:53:51.833Z"
      },
      {
        "duration": 39,
        "start_time": "2025-09-12T07:53:53.414Z"
      },
      {
        "duration": 54,
        "start_time": "2025-09-12T07:53:53.456Z"
      },
      {
        "duration": 80,
        "start_time": "2025-09-12T07:53:53.512Z"
      },
      {
        "duration": 68,
        "start_time": "2025-09-12T07:53:53.594Z"
      },
      {
        "duration": 125,
        "start_time": "2025-09-12T07:53:53.665Z"
      },
      {
        "duration": 181,
        "start_time": "2025-09-12T07:53:53.792Z"
      },
      {
        "duration": 17,
        "start_time": "2025-09-12T07:53:53.975Z"
      },
      {
        "duration": 5,
        "start_time": "2025-09-12T07:53:53.994Z"
      },
      {
        "duration": 3301,
        "start_time": "2025-09-12T07:53:54.001Z"
      },
      {
        "duration": 304,
        "start_time": "2025-09-12T07:53:57.306Z"
      },
      {
        "duration": 145,
        "start_time": "2025-09-12T07:53:57.612Z"
      },
      {
        "duration": 4,
        "start_time": "2025-09-12T10:19:25.059Z"
      },
      {
        "duration": 4,
        "start_time": "2025-09-12T10:20:21.932Z"
      },
      {
        "duration": 2,
        "start_time": "2025-09-12T12:18:24.615Z"
      },
      {
        "duration": 11,
        "start_time": "2025-09-12T12:18:32.562Z"
      },
      {
        "duration": 15,
        "start_time": "2025-09-12T12:18:42.311Z"
      },
      {
        "duration": 54,
        "start_time": "2025-09-12T12:18:43.014Z"
      },
      {
        "duration": 146,
        "start_time": "2025-09-12T12:18:43.746Z"
      },
      {
        "duration": 8,
        "start_time": "2025-09-12T12:18:45.126Z"
      },
      {
        "duration": 15,
        "start_time": "2025-09-12T12:31:20.260Z"
      },
      {
        "duration": 48,
        "start_time": "2025-09-12T12:31:21.076Z"
      },
      {
        "duration": 145,
        "start_time": "2025-09-12T12:31:23.508Z"
      },
      {
        "duration": 9,
        "start_time": "2025-09-12T12:31:24.859Z"
      },
      {
        "duration": 10,
        "start_time": "2025-09-12T12:31:38.411Z"
      },
      {
        "duration": 14,
        "start_time": "2025-09-12T12:31:51.235Z"
      },
      {
        "duration": 55,
        "start_time": "2025-09-12T12:32:05.362Z"
      },
      {
        "duration": 8,
        "start_time": "2025-09-12T12:33:54.347Z"
      },
      {
        "duration": 14,
        "start_time": "2025-09-12T12:34:07.051Z"
      },
      {
        "duration": 1605,
        "start_time": "2025-09-12T12:34:56.147Z"
      },
      {
        "duration": 727,
        "start_time": "2025-09-12T12:42:27.602Z"
      },
      {
        "duration": 39,
        "start_time": "2025-09-12T12:42:36.416Z"
      },
      {
        "duration": 31,
        "start_time": "2025-09-12T12:42:42.681Z"
      },
      {
        "duration": 47,
        "start_time": "2025-09-12T12:42:43.913Z"
      },
      {
        "duration": 7,
        "start_time": "2025-09-12T12:42:44.696Z"
      },
      {
        "duration": 1056,
        "start_time": "2025-09-12T12:42:53.625Z"
      },
      {
        "duration": 1630,
        "start_time": "2025-09-12T12:43:15.401Z"
      },
      {
        "duration": 379,
        "start_time": "2025-09-12T12:57:57.990Z"
      },
      {
        "duration": 386,
        "start_time": "2025-09-12T13:00:24.604Z"
      },
      {
        "duration": 407,
        "start_time": "2025-09-12T13:03:09.389Z"
      },
      {
        "duration": 466,
        "start_time": "2025-09-12T13:05:53.332Z"
      },
      {
        "duration": 59,
        "start_time": "2025-09-12T13:08:35.475Z"
      },
      {
        "duration": 57,
        "start_time": "2025-09-12T13:09:18.090Z"
      },
      {
        "duration": 468,
        "start_time": "2025-09-12T13:11:07.405Z"
      },
      {
        "duration": 435,
        "start_time": "2025-09-12T13:12:35.793Z"
      },
      {
        "duration": 479,
        "start_time": "2025-09-12T13:19:35.392Z"
      },
      {
        "duration": 436,
        "start_time": "2025-09-12T13:25:21.951Z"
      },
      {
        "duration": 113,
        "start_time": "2025-09-12T13:30:29.287Z"
      },
      {
        "duration": 4,
        "start_time": "2025-09-12T13:31:02.526Z"
      },
      {
        "duration": 4,
        "start_time": "2025-09-12T13:31:07.902Z"
      },
      {
        "duration": 842,
        "start_time": "2025-09-12T13:32:47.941Z"
      },
      {
        "duration": 109,
        "start_time": "2025-09-12T13:33:13.014Z"
      },
      {
        "duration": 97,
        "start_time": "2025-09-12T13:37:54.205Z"
      },
      {
        "duration": 7,
        "start_time": "2025-09-12T13:38:08.589Z"
      },
      {
        "duration": 210,
        "start_time": "2025-09-12T13:39:25.819Z"
      },
      {
        "duration": 98,
        "start_time": "2025-09-12T13:40:18.820Z"
      },
      {
        "duration": 7,
        "start_time": "2025-09-12T13:40:19.915Z"
      },
      {
        "duration": 176,
        "start_time": "2025-09-12T13:43:28.323Z"
      },
      {
        "duration": 6,
        "start_time": "2025-09-12T13:44:04.987Z"
      },
      {
        "duration": 18,
        "start_time": "2025-09-12T13:46:15.786Z"
      },
      {
        "duration": 18,
        "start_time": "2025-09-12T13:46:41.939Z"
      },
      {
        "duration": 18,
        "start_time": "2025-09-12T13:52:28.313Z"
      },
      {
        "duration": 61,
        "start_time": "2025-09-12T13:52:37.929Z"
      },
      {
        "duration": 16,
        "start_time": "2025-09-12T13:57:34.888Z"
      },
      {
        "duration": 859,
        "start_time": "2025-09-12T13:59:28.159Z"
      },
      {
        "duration": 17,
        "start_time": "2025-09-12T14:00:00.383Z"
      },
      {
        "duration": 17,
        "start_time": "2025-09-12T14:03:19.543Z"
      },
      {
        "duration": 498,
        "start_time": "2025-09-12T14:05:05.807Z"
      },
      {
        "duration": 1499,
        "start_time": "2025-09-12T16:00:44.838Z"
      },
      {
        "duration": 1916,
        "start_time": "2025-09-12T16:00:46.339Z"
      },
      {
        "duration": 36,
        "start_time": "2025-09-12T16:00:48.256Z"
      },
      {
        "duration": 140,
        "start_time": "2025-09-12T16:00:48.294Z"
      },
      {
        "duration": 5,
        "start_time": "2025-09-12T16:00:48.436Z"
      },
      {
        "duration": 628,
        "start_time": "2025-09-12T16:00:48.443Z"
      },
      {
        "duration": 249,
        "start_time": "2025-09-12T16:00:49.073Z"
      },
      {
        "duration": 248,
        "start_time": "2025-09-12T16:00:49.324Z"
      },
      {
        "duration": 652,
        "start_time": "2025-09-12T16:00:49.573Z"
      },
      {
        "duration": 88,
        "start_time": "2025-09-12T16:00:50.226Z"
      },
      {
        "duration": 309,
        "start_time": "2025-09-12T16:00:50.316Z"
      },
      {
        "duration": 4394,
        "start_time": "2025-09-12T16:00:50.627Z"
      },
      {
        "duration": 108,
        "start_time": "2025-09-12T16:00:55.023Z"
      },
      {
        "duration": 37,
        "start_time": "2025-09-12T16:00:55.135Z"
      },
      {
        "duration": 1178,
        "start_time": "2025-09-12T16:00:55.174Z"
      },
      {
        "duration": 76,
        "start_time": "2025-09-12T16:00:56.354Z"
      },
      {
        "duration": 20,
        "start_time": "2025-09-12T16:00:56.432Z"
      },
      {
        "duration": 1077,
        "start_time": "2025-09-12T16:00:56.471Z"
      },
      {
        "duration": 159,
        "start_time": "2025-09-12T16:00:57.550Z"
      },
      {
        "duration": 24,
        "start_time": "2025-09-12T16:00:57.711Z"
      },
      {
        "duration": 206,
        "start_time": "2025-09-12T16:00:57.737Z"
      },
      {
        "duration": 79,
        "start_time": "2025-09-12T16:00:57.945Z"
      },
      {
        "duration": 633,
        "start_time": "2025-09-12T16:00:58.026Z"
      },
      {
        "duration": 15,
        "start_time": "2025-09-12T16:00:58.661Z"
      },
      {
        "duration": 93,
        "start_time": "2025-09-12T16:00:58.678Z"
      },
      {
        "duration": 448,
        "start_time": "2025-09-12T16:00:58.774Z"
      },
      {
        "duration": 4,
        "start_time": "2025-09-12T16:00:59.224Z"
      },
      {
        "duration": 734,
        "start_time": "2025-09-12T16:00:59.230Z"
      },
      {
        "duration": 733,
        "start_time": "2025-09-12T16:00:59.971Z"
      },
      {
        "duration": 192,
        "start_time": "2025-09-12T16:01:00.706Z"
      },
      {
        "duration": 450,
        "start_time": "2025-09-12T16:01:00.900Z"
      },
      {
        "duration": 125,
        "start_time": "2025-09-12T16:01:01.352Z"
      },
      {
        "duration": 49,
        "start_time": "2025-09-12T16:01:01.479Z"
      },
      {
        "duration": 148,
        "start_time": "2025-09-12T16:01:01.530Z"
      },
      {
        "duration": 14,
        "start_time": "2025-09-12T16:01:01.680Z"
      },
      {
        "duration": 1560,
        "start_time": "2025-09-12T16:01:01.696Z"
      },
      {
        "duration": 27,
        "start_time": "2025-09-12T16:01:03.258Z"
      },
      {
        "duration": 52,
        "start_time": "2025-09-12T16:01:03.287Z"
      },
      {
        "duration": 434,
        "start_time": "2025-09-12T16:01:03.341Z"
      },
      {
        "duration": 464,
        "start_time": "2025-09-12T16:01:03.777Z"
      },
      {
        "duration": 66,
        "start_time": "2025-09-12T16:01:04.245Z"
      },
      {
        "duration": 411,
        "start_time": "2025-09-12T16:01:04.313Z"
      },
      {
        "duration": 394,
        "start_time": "2025-09-12T16:01:04.726Z"
      },
      {
        "duration": 58,
        "start_time": "2025-09-12T16:01:05.122Z"
      },
      {
        "duration": 119,
        "start_time": "2025-09-12T16:01:05.182Z"
      },
      {
        "duration": 6,
        "start_time": "2025-09-12T16:01:05.303Z"
      },
      {
        "duration": 183,
        "start_time": "2025-09-12T16:01:05.311Z"
      },
      {
        "duration": 17,
        "start_time": "2025-09-12T16:01:05.496Z"
      },
      {
        "duration": 121,
        "start_time": "2025-09-12T16:01:05.514Z"
      },
      {
        "duration": 0,
        "start_time": "2025-09-12T16:01:05.637Z"
      },
      {
        "duration": 0,
        "start_time": "2025-09-12T16:01:05.638Z"
      },
      {
        "duration": 7,
        "start_time": "2025-09-12T16:01:11.151Z"
      },
      {
        "duration": 11,
        "start_time": "2025-09-12T16:01:32.634Z"
      },
      {
        "duration": 11,
        "start_time": "2025-09-12T16:01:33.760Z"
      },
      {
        "duration": 54,
        "start_time": "2025-09-12T17:25:15.334Z"
      },
      {
        "duration": 8,
        "start_time": "2025-09-12T17:25:42.957Z"
      },
      {
        "duration": 7,
        "start_time": "2025-09-12T17:26:16.196Z"
      },
      {
        "duration": 8,
        "start_time": "2025-09-12T17:26:47.147Z"
      },
      {
        "duration": 7,
        "start_time": "2025-09-12T17:29:04.268Z"
      },
      {
        "duration": 449,
        "start_time": "2025-09-12T17:29:52.107Z"
      },
      {
        "duration": 1464,
        "start_time": "2025-09-12T17:30:00.789Z"
      },
      {
        "duration": 1846,
        "start_time": "2025-09-12T17:30:02.256Z"
      },
      {
        "duration": 31,
        "start_time": "2025-09-12T17:30:04.104Z"
      },
      {
        "duration": 150,
        "start_time": "2025-09-12T17:30:04.137Z"
      },
      {
        "duration": 4,
        "start_time": "2025-09-12T17:30:04.303Z"
      },
      {
        "duration": 678,
        "start_time": "2025-09-12T17:30:04.309Z"
      },
      {
        "duration": 269,
        "start_time": "2025-09-12T17:30:04.989Z"
      },
      {
        "duration": 258,
        "start_time": "2025-09-12T17:30:05.260Z"
      },
      {
        "duration": 659,
        "start_time": "2025-09-12T17:30:05.519Z"
      },
      {
        "duration": 99,
        "start_time": "2025-09-12T17:30:06.181Z"
      },
      {
        "duration": 307,
        "start_time": "2025-09-12T17:30:06.282Z"
      },
      {
        "duration": 4736,
        "start_time": "2025-09-12T17:30:06.591Z"
      },
      {
        "duration": 118,
        "start_time": "2025-09-12T17:30:11.329Z"
      },
      {
        "duration": 27,
        "start_time": "2025-09-12T17:30:11.449Z"
      },
      {
        "duration": 1207,
        "start_time": "2025-09-12T17:30:11.477Z"
      },
      {
        "duration": 71,
        "start_time": "2025-09-12T17:30:12.686Z"
      },
      {
        "duration": 20,
        "start_time": "2025-09-12T17:30:12.759Z"
      },
      {
        "duration": 1076,
        "start_time": "2025-09-12T17:30:12.781Z"
      },
      {
        "duration": 150,
        "start_time": "2025-09-12T17:30:13.859Z"
      },
      {
        "duration": 20,
        "start_time": "2025-09-12T17:30:14.011Z"
      },
      {
        "duration": 205,
        "start_time": "2025-09-12T17:30:14.032Z"
      },
      {
        "duration": 77,
        "start_time": "2025-09-12T17:30:14.239Z"
      },
      {
        "duration": 620,
        "start_time": "2025-09-12T17:30:14.318Z"
      },
      {
        "duration": 10,
        "start_time": "2025-09-12T17:30:14.940Z"
      },
      {
        "duration": 17,
        "start_time": "2025-09-12T17:30:14.951Z"
      },
      {
        "duration": 489,
        "start_time": "2025-09-12T17:30:14.970Z"
      },
      {
        "duration": 6,
        "start_time": "2025-09-12T17:30:15.461Z"
      },
      {
        "duration": 738,
        "start_time": "2025-09-12T17:30:15.471Z"
      },
      {
        "duration": 643,
        "start_time": "2025-09-12T17:30:16.211Z"
      },
      {
        "duration": 274,
        "start_time": "2025-09-12T17:30:16.856Z"
      },
      {
        "duration": 486,
        "start_time": "2025-09-12T17:30:17.131Z"
      },
      {
        "duration": 125,
        "start_time": "2025-09-12T17:30:17.618Z"
      },
      {
        "duration": 67,
        "start_time": "2025-09-12T17:30:17.744Z"
      },
      {
        "duration": 132,
        "start_time": "2025-09-12T17:30:17.812Z"
      },
      {
        "duration": 10,
        "start_time": "2025-09-12T17:30:17.946Z"
      },
      {
        "duration": 1528,
        "start_time": "2025-09-12T17:30:17.957Z"
      },
      {
        "duration": 24,
        "start_time": "2025-09-12T17:30:19.487Z"
      },
      {
        "duration": 52,
        "start_time": "2025-09-12T17:30:19.513Z"
      },
      {
        "duration": 440,
        "start_time": "2025-09-12T17:30:19.567Z"
      },
      {
        "duration": 451,
        "start_time": "2025-09-12T17:30:20.009Z"
      },
      {
        "duration": 63,
        "start_time": "2025-09-12T17:30:20.462Z"
      },
      {
        "duration": 431,
        "start_time": "2025-09-12T17:30:20.527Z"
      },
      {
        "duration": 391,
        "start_time": "2025-09-12T17:30:20.960Z"
      },
      {
        "duration": 58,
        "start_time": "2025-09-12T17:30:21.353Z"
      },
      {
        "duration": 115,
        "start_time": "2025-09-12T17:30:21.413Z"
      },
      {
        "duration": 7,
        "start_time": "2025-09-12T17:30:21.529Z"
      },
      {
        "duration": 201,
        "start_time": "2025-09-12T17:30:21.538Z"
      },
      {
        "duration": 18,
        "start_time": "2025-09-12T17:30:21.741Z"
      },
      {
        "duration": 3167,
        "start_time": "2025-09-12T17:30:21.761Z"
      },
      {
        "duration": 0,
        "start_time": "2025-09-12T17:30:24.930Z"
      },
      {
        "duration": 0,
        "start_time": "2025-09-12T17:30:24.931Z"
      },
      {
        "duration": 54,
        "start_time": "2025-09-12T17:31:21.819Z"
      },
      {
        "duration": 56,
        "start_time": "2025-09-12T17:31:32.015Z"
      },
      {
        "duration": 108,
        "start_time": "2025-09-12T17:31:34.922Z"
      },
      {
        "duration": 6,
        "start_time": "2025-09-12T17:31:36.595Z"
      },
      {
        "duration": 177,
        "start_time": "2025-09-12T17:31:38.672Z"
      },
      {
        "duration": 23,
        "start_time": "2025-09-12T17:31:43.545Z"
      },
      {
        "duration": 3442,
        "start_time": "2025-09-12T17:31:46.771Z"
      },
      {
        "duration": 3170,
        "start_time": "2025-09-12T17:32:30.860Z"
      },
      {
        "duration": 3272,
        "start_time": "2025-09-12T17:34:18.284Z"
      },
      {
        "duration": 301,
        "start_time": "2025-09-12T17:34:34.731Z"
      },
      {
        "duration": 136,
        "start_time": "2025-09-12T17:34:39.396Z"
      },
      {
        "duration": 17,
        "start_time": "2025-09-12T17:42:45.985Z"
      },
      {
        "duration": 5,
        "start_time": "2025-09-12T17:42:53.482Z"
      },
      {
        "duration": 61,
        "start_time": "2025-09-12T17:47:06.208Z"
      },
      {
        "duration": 1277,
        "start_time": "2025-09-12T17:48:56.579Z"
      },
      {
        "duration": 1929,
        "start_time": "2025-09-12T17:48:57.858Z"
      },
      {
        "duration": 33,
        "start_time": "2025-09-12T17:48:59.788Z"
      },
      {
        "duration": 144,
        "start_time": "2025-09-12T17:48:59.823Z"
      },
      {
        "duration": 5,
        "start_time": "2025-09-12T17:48:59.969Z"
      },
      {
        "duration": 687,
        "start_time": "2025-09-12T17:48:59.975Z"
      },
      {
        "duration": 266,
        "start_time": "2025-09-12T17:49:00.664Z"
      },
      {
        "duration": 269,
        "start_time": "2025-09-12T17:49:00.931Z"
      },
      {
        "duration": 688,
        "start_time": "2025-09-12T17:49:01.203Z"
      },
      {
        "duration": 93,
        "start_time": "2025-09-12T17:49:01.894Z"
      },
      {
        "duration": 327,
        "start_time": "2025-09-12T17:49:01.989Z"
      },
      {
        "duration": 4686,
        "start_time": "2025-09-12T17:49:02.318Z"
      },
      {
        "duration": 115,
        "start_time": "2025-09-12T17:49:07.005Z"
      },
      {
        "duration": 29,
        "start_time": "2025-09-12T17:49:07.122Z"
      },
      {
        "duration": 1272,
        "start_time": "2025-09-12T17:49:07.153Z"
      },
      {
        "duration": 66,
        "start_time": "2025-09-12T17:49:08.427Z"
      },
      {
        "duration": 21,
        "start_time": "2025-09-12T17:49:08.504Z"
      },
      {
        "duration": 1080,
        "start_time": "2025-09-12T17:49:08.527Z"
      },
      {
        "duration": 151,
        "start_time": "2025-09-12T17:49:09.609Z"
      },
      {
        "duration": 21,
        "start_time": "2025-09-12T17:49:09.762Z"
      },
      {
        "duration": 214,
        "start_time": "2025-09-12T17:49:09.785Z"
      },
      {
        "duration": 71,
        "start_time": "2025-09-12T17:49:10.001Z"
      },
      {
        "duration": 540,
        "start_time": "2025-09-12T17:49:10.073Z"
      },
      {
        "duration": 10,
        "start_time": "2025-09-12T17:49:10.615Z"
      },
      {
        "duration": 20,
        "start_time": "2025-09-12T17:49:10.627Z"
      },
      {
        "duration": 484,
        "start_time": "2025-09-12T17:49:10.649Z"
      },
      {
        "duration": 5,
        "start_time": "2025-09-12T17:49:11.134Z"
      },
      {
        "duration": 728,
        "start_time": "2025-09-12T17:49:11.142Z"
      },
      {
        "duration": 652,
        "start_time": "2025-09-12T17:49:11.871Z"
      },
      {
        "duration": 273,
        "start_time": "2025-09-12T17:49:12.524Z"
      },
      {
        "duration": 485,
        "start_time": "2025-09-12T17:49:12.798Z"
      },
      {
        "duration": 124,
        "start_time": "2025-09-12T17:49:13.285Z"
      },
      {
        "duration": 47,
        "start_time": "2025-09-12T17:49:13.411Z"
      },
      {
        "duration": 134,
        "start_time": "2025-09-12T17:49:13.460Z"
      },
      {
        "duration": 10,
        "start_time": "2025-09-12T17:49:13.603Z"
      },
      {
        "duration": 1470,
        "start_time": "2025-09-12T17:49:13.615Z"
      },
      {
        "duration": 31,
        "start_time": "2025-09-12T17:49:15.086Z"
      },
      {
        "duration": 66,
        "start_time": "2025-09-12T17:49:15.119Z"
      },
      {
        "duration": 459,
        "start_time": "2025-09-12T17:49:15.187Z"
      },
      {
        "duration": 451,
        "start_time": "2025-09-12T17:49:15.648Z"
      },
      {
        "duration": 57,
        "start_time": "2025-09-12T17:49:16.101Z"
      },
      {
        "duration": 429,
        "start_time": "2025-09-12T17:49:16.160Z"
      },
      {
        "duration": 443,
        "start_time": "2025-09-12T17:49:16.591Z"
      },
      {
        "duration": 49,
        "start_time": "2025-09-12T17:49:17.036Z"
      },
      {
        "duration": 124,
        "start_time": "2025-09-12T17:49:17.087Z"
      },
      {
        "duration": 13,
        "start_time": "2025-09-12T17:49:17.212Z"
      },
      {
        "duration": 6,
        "start_time": "2025-09-12T17:49:17.226Z"
      },
      {
        "duration": 184,
        "start_time": "2025-09-12T17:49:17.234Z"
      },
      {
        "duration": 13,
        "start_time": "2025-09-12T17:49:17.419Z"
      },
      {
        "duration": 3162,
        "start_time": "2025-09-12T17:49:17.434Z"
      },
      {
        "duration": 311,
        "start_time": "2025-09-12T17:49:20.598Z"
      },
      {
        "duration": 132,
        "start_time": "2025-09-12T17:49:20.911Z"
      }
    ],
    "colab": {
      "provenance": []
    },
    "toc": {
      "base_numbering": 1,
      "nav_menu": {},
      "number_sections": true,
      "sideBar": true,
      "skip_h1_title": true,
      "title_cell": "Table of Contents",
      "title_sidebar": "Contents",
      "toc_cell": false,
      "toc_position": {},
      "toc_section_display": true,
      "toc_window_display": true
    }
  },
  "nbformat_minor": 4,
  "nbformat": 4,
  "cells": [
    {
      "cell_type": "markdown",
      "source": "# Исследовательский анализ данных Яндекс Афиша",
      "metadata": {
        "id": "LMuaGIE3lGcr"
      }
    },
    {
      "cell_type": "markdown",
      "source": "## Цель проекта : разобраться, какие события стали привлекать больше зрителей, а какие организаторы и площадки выбились в лидеры. А также понять, отличаются ли своей активностью пользователи мобильных устройств от клиентов, которые бронируют билеты со стационарного компьютера.",
      "metadata": {}
    },
    {
      "cell_type": "markdown",
      "source": "Автор: Дорошенко Евгений\n\nДата: 09.09.2025",
      "metadata": {}
    },
    {
      "cell_type": "markdown",
      "source": "## Описание данных:\n\nПервый датасет final_tickets_orders_df.csv включает информацию обо всех заказах билетов, совершённых с двух типов  устройств — мобильных и стационарных. Поля датасета соответствуют таблице purchases, с которой вы работали в предыдущих заданиях:\n- order_id — уникальный идентификатор заказа.\n- user_id — уникальный идентификатор пользователя.\n- created_dt_msk — дата создания заказа (московское время).\n- created_ts_msk — дата и время создания заказа (московское время).\n- event_id — идентификатор мероприятия из таблицы events.\n- cinema_circuit — сеть кинотеатров. Если не применимо, то здесь будет значение 'нет'.\n- age_limit — возрастное ограничение мероприятия.\n- currency_code — валюта оплаты, например rub для российских рублей.\n- device_type_canonical — тип устройства, с которого был оформлен заказ, например mobile для мобильных устройств, - desktop для стационарных.\n- revenue — выручка от заказа.\n- service_name — название билетного оператора.\n- tickets_count — количество купленных билетов.\n- total — общая сумма заказа.\n\nВ данные также был добавлен столбец days_since_prev с количеством дней с предыдущей покупки для каждого пользователя. Если покупки не было, то данные содержат пропуск.\n\nВторой датасет final_tickets_events_df содержит информацию о событиях, включая город и регион события, а также информацию о площадке проведения мероприятия. Обратите внимание, что из данных исключили фильмы, ведь, как было видно на дашборде, событий такого типа не так много. Датасет содержит такие поля:\n- event_id — уникальный идентификатор мероприятия.\n- event_name — название мероприятия. Аналог поля event_name_code из исходной базы данных.\n- event_type_description — описание типа мероприятия.\n- event_type_main — основной тип мероприятия: театральная постановка, концерт и так далее.\n- organizers — организаторы мероприятия.\n- region_name — название региона.\n- city_name — название города.\n- venue_id — уникальный идентификатор площадки.\n- venue_name — название площадки.\n- venue_address — адрес площадки.\n\nАнализ данных в предыдущей части проекта показал, что выручка от заказов представлена в двух валютах — российских рублях и казахстанских тенге. Для удобства решения было бы корректно привести данные к одной валюте, например к российским рублям. Для этого в вашем распоряжении будет датасет final_tickets_tenge_df.csv с информацией о курсе тенге к российскому рублю за 2024 год. Значения в рублях представлено для 100 тенге. Датасет содержит такие поля:\nnominal — номинал (100 тенге).\n- data — дата.\n- curs — курс тенге к рублю.\n- cdx — обозначение валюты (kzt).\n\nИспользуйте эти данные для конвертации валюты.",
      "metadata": {}
    },
    {
      "cell_type": "markdown",
      "source": "### Содержание проекта\n",
      "metadata": {}
    },
    {
      "cell_type": "markdown",
      "source": "- 1)Оглавление и цель проекта\n- 2)Загрузка данных и знакомство с ними\n- 3)Исследовательский анализ данных    \n  - Анализ распределения заказов по сегментам и их сезонные изменения\n  - Осенняя активность пользователей\n  - Популярные события и партнёры\n- 4)Статистический анализ данных\n- 5)Осенняя активность пользователей\n- 6)Общий вывод и рекомендации\n\n    ",
      "metadata": {}
    },
    {
      "cell_type": "markdown",
      "source": "# Загрузка данных и знакомство с ними",
      "metadata": {}
    },
    {
      "cell_type": "code",
      "source": "# Загрузим необходимые библиотеки\nimport pandas as pd\nimport numpy as np\nimport matplotlib.pyplot as plt\nimport seaborn as sns\nfrom scipy import stats \nimport scipy.stats as stats\nfrom scipy.stats import mannwhitneyu, ttest_ind\n\n\n\n\n\n",
      "metadata": {},
      "outputs": [],
      "execution_count": 1
    },
    {
      "cell_type": "code",
      "source": "# Открытие данных\ndf_orders = pd.read_csv('https://code.s3.yandex.net/datasets/final_tickets_orders_df.csv')\ndf_events = pd.read_csv('https://code.s3.yandex.net/datasets/final_tickets_events_df.csv')\ndf_tenge = pd.read_csv('https://code.s3.yandex.net/datasets/final_tickets_tenge_df.csv')\n",
      "metadata": {},
      "outputs": [],
      "execution_count": 2
    },
    {
      "cell_type": "code",
      "source": "# Рабочий код\ndisplay(df_orders.head())\ndisplay(df_events.head())\ndisplay(df_tenge.head())",
      "metadata": {},
      "outputs": [
        {
          "data": {
            "text/html": [
              "<div>\n",
              "<style scoped>\n",
              "    .dataframe tbody tr th:only-of-type {\n",
              "        vertical-align: middle;\n",
              "    }\n",
              "\n",
              "    .dataframe tbody tr th {\n",
              "        vertical-align: top;\n",
              "    }\n",
              "\n",
              "    .dataframe thead th {\n",
              "        text-align: right;\n",
              "    }\n",
              "</style>\n",
              "<table border=\"1\" class=\"dataframe\">\n",
              "  <thead>\n",
              "    <tr style=\"text-align: right;\">\n",
              "      <th></th>\n",
              "      <th>order_id</th>\n",
              "      <th>user_id</th>\n",
              "      <th>created_dt_msk</th>\n",
              "      <th>created_ts_msk</th>\n",
              "      <th>event_id</th>\n",
              "      <th>cinema_circuit</th>\n",
              "      <th>age_limit</th>\n",
              "      <th>currency_code</th>\n",
              "      <th>device_type_canonical</th>\n",
              "      <th>revenue</th>\n",
              "      <th>service_name</th>\n",
              "      <th>tickets_count</th>\n",
              "      <th>total</th>\n",
              "      <th>days_since_prev</th>\n",
              "    </tr>\n",
              "  </thead>\n",
              "  <tbody>\n",
              "    <tr>\n",
              "      <th>0</th>\n",
              "      <td>4359165</td>\n",
              "      <td>0002849b70a3ce2</td>\n",
              "      <td>2024-08-20</td>\n",
              "      <td>2024-08-20 16:08:03</td>\n",
              "      <td>169230</td>\n",
              "      <td>нет</td>\n",
              "      <td>16</td>\n",
              "      <td>rub</td>\n",
              "      <td>mobile</td>\n",
              "      <td>1521.94</td>\n",
              "      <td>Край билетов</td>\n",
              "      <td>4</td>\n",
              "      <td>10870.99</td>\n",
              "      <td>NaN</td>\n",
              "    </tr>\n",
              "    <tr>\n",
              "      <th>1</th>\n",
              "      <td>7965605</td>\n",
              "      <td>0005ca5e93f2cf4</td>\n",
              "      <td>2024-07-23</td>\n",
              "      <td>2024-07-23 18:36:24</td>\n",
              "      <td>237325</td>\n",
              "      <td>нет</td>\n",
              "      <td>0</td>\n",
              "      <td>rub</td>\n",
              "      <td>mobile</td>\n",
              "      <td>289.45</td>\n",
              "      <td>Мой билет</td>\n",
              "      <td>2</td>\n",
              "      <td>2067.51</td>\n",
              "      <td>NaN</td>\n",
              "    </tr>\n",
              "    <tr>\n",
              "      <th>2</th>\n",
              "      <td>7292370</td>\n",
              "      <td>0005ca5e93f2cf4</td>\n",
              "      <td>2024-10-06</td>\n",
              "      <td>2024-10-06 13:56:02</td>\n",
              "      <td>578454</td>\n",
              "      <td>нет</td>\n",
              "      <td>0</td>\n",
              "      <td>rub</td>\n",
              "      <td>mobile</td>\n",
              "      <td>1258.57</td>\n",
              "      <td>За билетом!</td>\n",
              "      <td>4</td>\n",
              "      <td>13984.16</td>\n",
              "      <td>75.0</td>\n",
              "    </tr>\n",
              "    <tr>\n",
              "      <th>3</th>\n",
              "      <td>1139875</td>\n",
              "      <td>000898990054619</td>\n",
              "      <td>2024-07-13</td>\n",
              "      <td>2024-07-13 19:40:48</td>\n",
              "      <td>387271</td>\n",
              "      <td>нет</td>\n",
              "      <td>0</td>\n",
              "      <td>rub</td>\n",
              "      <td>mobile</td>\n",
              "      <td>8.49</td>\n",
              "      <td>Лови билет!</td>\n",
              "      <td>2</td>\n",
              "      <td>212.28</td>\n",
              "      <td>NaN</td>\n",
              "    </tr>\n",
              "    <tr>\n",
              "      <th>4</th>\n",
              "      <td>972400</td>\n",
              "      <td>000898990054619</td>\n",
              "      <td>2024-10-04</td>\n",
              "      <td>2024-10-04 22:33:15</td>\n",
              "      <td>509453</td>\n",
              "      <td>нет</td>\n",
              "      <td>18</td>\n",
              "      <td>rub</td>\n",
              "      <td>mobile</td>\n",
              "      <td>1390.41</td>\n",
              "      <td>Билеты без проблем</td>\n",
              "      <td>3</td>\n",
              "      <td>10695.43</td>\n",
              "      <td>83.0</td>\n",
              "    </tr>\n",
              "  </tbody>\n",
              "</table>\n",
              "</div>"
            ],
            "text/plain": [
              "   order_id          user_id created_dt_msk       created_ts_msk  event_id  \\\n",
              "0   4359165  0002849b70a3ce2     2024-08-20  2024-08-20 16:08:03    169230   \n",
              "1   7965605  0005ca5e93f2cf4     2024-07-23  2024-07-23 18:36:24    237325   \n",
              "2   7292370  0005ca5e93f2cf4     2024-10-06  2024-10-06 13:56:02    578454   \n",
              "3   1139875  000898990054619     2024-07-13  2024-07-13 19:40:48    387271   \n",
              "4    972400  000898990054619     2024-10-04  2024-10-04 22:33:15    509453   \n",
              "\n",
              "  cinema_circuit  age_limit currency_code device_type_canonical  revenue  \\\n",
              "0            нет         16           rub                mobile  1521.94   \n",
              "1            нет          0           rub                mobile   289.45   \n",
              "2            нет          0           rub                mobile  1258.57   \n",
              "3            нет          0           rub                mobile     8.49   \n",
              "4            нет         18           rub                mobile  1390.41   \n",
              "\n",
              "         service_name  tickets_count     total  days_since_prev  \n",
              "0        Край билетов              4  10870.99              NaN  \n",
              "1           Мой билет              2   2067.51              NaN  \n",
              "2         За билетом!              4  13984.16             75.0  \n",
              "3         Лови билет!              2    212.28              NaN  \n",
              "4  Билеты без проблем              3  10695.43             83.0  "
            ]
          },
          "metadata": {},
          "output_type": "display_data"
        },
        {
          "data": {
            "text/html": [
              "<div>\n",
              "<style scoped>\n",
              "    .dataframe tbody tr th:only-of-type {\n",
              "        vertical-align: middle;\n",
              "    }\n",
              "\n",
              "    .dataframe tbody tr th {\n",
              "        vertical-align: top;\n",
              "    }\n",
              "\n",
              "    .dataframe thead th {\n",
              "        text-align: right;\n",
              "    }\n",
              "</style>\n",
              "<table border=\"1\" class=\"dataframe\">\n",
              "  <thead>\n",
              "    <tr style=\"text-align: right;\">\n",
              "      <th></th>\n",
              "      <th>event_id</th>\n",
              "      <th>event_name</th>\n",
              "      <th>event_type_description</th>\n",
              "      <th>event_type_main</th>\n",
              "      <th>organizers</th>\n",
              "      <th>region_name</th>\n",
              "      <th>city_name</th>\n",
              "      <th>city_id</th>\n",
              "      <th>venue_id</th>\n",
              "      <th>venue_name</th>\n",
              "      <th>venue_address</th>\n",
              "    </tr>\n",
              "  </thead>\n",
              "  <tbody>\n",
              "    <tr>\n",
              "      <th>0</th>\n",
              "      <td>4436</td>\n",
              "      <td>e4f26fba-da77-4c61-928a-6c3e434d793f</td>\n",
              "      <td>спектакль</td>\n",
              "      <td>театр</td>\n",
              "      <td>№4893</td>\n",
              "      <td>Североярская область</td>\n",
              "      <td>Озёрск</td>\n",
              "      <td>2</td>\n",
              "      <td>1600</td>\n",
              "      <td>Кладбище искусств \"Проблема\" и партнеры</td>\n",
              "      <td>наб. Загородная, д. 785</td>\n",
              "    </tr>\n",
              "    <tr>\n",
              "      <th>1</th>\n",
              "      <td>5785</td>\n",
              "      <td>5cc08a60-fdea-4186-9bb2-bffc3603fb77</td>\n",
              "      <td>спектакль</td>\n",
              "      <td>театр</td>\n",
              "      <td>№1931</td>\n",
              "      <td>Светополянский округ</td>\n",
              "      <td>Глиноград</td>\n",
              "      <td>54</td>\n",
              "      <td>2196</td>\n",
              "      <td>Лекции по искусству \"Свет\" Групп</td>\n",
              "      <td>ул. Ягодная, д. 942</td>\n",
              "    </tr>\n",
              "    <tr>\n",
              "      <th>2</th>\n",
              "      <td>8817</td>\n",
              "      <td>8e379a89-3a10-4811-ba06-ec22ebebe989</td>\n",
              "      <td>спектакль</td>\n",
              "      <td>театр</td>\n",
              "      <td>№4896</td>\n",
              "      <td>Североярская область</td>\n",
              "      <td>Озёрск</td>\n",
              "      <td>2</td>\n",
              "      <td>4043</td>\n",
              "      <td>Кинокомитет \"Золотая\" Инк</td>\n",
              "      <td>ш. Коммуны, д. 92 стр. 6</td>\n",
              "    </tr>\n",
              "    <tr>\n",
              "      <th>3</th>\n",
              "      <td>8849</td>\n",
              "      <td>682e3129-6a32-4952-9d8a-ef7f60d4c247</td>\n",
              "      <td>спектакль</td>\n",
              "      <td>театр</td>\n",
              "      <td>№4960</td>\n",
              "      <td>Каменевский регион</td>\n",
              "      <td>Глиногорск</td>\n",
              "      <td>213</td>\n",
              "      <td>1987</td>\n",
              "      <td>Выставка ремесел \"Свет\" Лтд</td>\n",
              "      <td>пер. Набережный, д. 35</td>\n",
              "    </tr>\n",
              "    <tr>\n",
              "      <th>4</th>\n",
              "      <td>8850</td>\n",
              "      <td>d6e99176-c77f-4af0-9222-07c571f6c624</td>\n",
              "      <td>спектакль</td>\n",
              "      <td>театр</td>\n",
              "      <td>№4770</td>\n",
              "      <td>Лесодальний край</td>\n",
              "      <td>Родниковец</td>\n",
              "      <td>55</td>\n",
              "      <td>4230</td>\n",
              "      <td>Фестивальный проект \"Листья\" Групп</td>\n",
              "      <td>пер. Проезжий, д. 9</td>\n",
              "    </tr>\n",
              "  </tbody>\n",
              "</table>\n",
              "</div>"
            ],
            "text/plain": [
              "   event_id                            event_name event_type_description  \\\n",
              "0      4436  e4f26fba-da77-4c61-928a-6c3e434d793f              спектакль   \n",
              "1      5785  5cc08a60-fdea-4186-9bb2-bffc3603fb77              спектакль   \n",
              "2      8817  8e379a89-3a10-4811-ba06-ec22ebebe989              спектакль   \n",
              "3      8849  682e3129-6a32-4952-9d8a-ef7f60d4c247              спектакль   \n",
              "4      8850  d6e99176-c77f-4af0-9222-07c571f6c624              спектакль   \n",
              "\n",
              "  event_type_main organizers           region_name   city_name  city_id  \\\n",
              "0           театр      №4893  Североярская область      Озёрск        2   \n",
              "1           театр      №1931  Светополянский округ   Глиноград       54   \n",
              "2           театр      №4896  Североярская область      Озёрск        2   \n",
              "3           театр      №4960    Каменевский регион  Глиногорск      213   \n",
              "4           театр      №4770      Лесодальний край  Родниковец       55   \n",
              "\n",
              "   venue_id                               venue_name             venue_address  \n",
              "0      1600  Кладбище искусств \"Проблема\" и партнеры   наб. Загородная, д. 785  \n",
              "1      2196         Лекции по искусству \"Свет\" Групп       ул. Ягодная, д. 942  \n",
              "2      4043                Кинокомитет \"Золотая\" Инк  ш. Коммуны, д. 92 стр. 6  \n",
              "3      1987              Выставка ремесел \"Свет\" Лтд    пер. Набережный, д. 35  \n",
              "4      4230       Фестивальный проект \"Листья\" Групп       пер. Проезжий, д. 9  "
            ]
          },
          "metadata": {},
          "output_type": "display_data"
        },
        {
          "data": {
            "text/html": [
              "<div>\n",
              "<style scoped>\n",
              "    .dataframe tbody tr th:only-of-type {\n",
              "        vertical-align: middle;\n",
              "    }\n",
              "\n",
              "    .dataframe tbody tr th {\n",
              "        vertical-align: top;\n",
              "    }\n",
              "\n",
              "    .dataframe thead th {\n",
              "        text-align: right;\n",
              "    }\n",
              "</style>\n",
              "<table border=\"1\" class=\"dataframe\">\n",
              "  <thead>\n",
              "    <tr style=\"text-align: right;\">\n",
              "      <th></th>\n",
              "      <th>data</th>\n",
              "      <th>nominal</th>\n",
              "      <th>curs</th>\n",
              "      <th>cdx</th>\n",
              "    </tr>\n",
              "  </thead>\n",
              "  <tbody>\n",
              "    <tr>\n",
              "      <th>0</th>\n",
              "      <td>2024-01-10</td>\n",
              "      <td>100</td>\n",
              "      <td>19.9391</td>\n",
              "      <td>kzt</td>\n",
              "    </tr>\n",
              "    <tr>\n",
              "      <th>1</th>\n",
              "      <td>2024-01-11</td>\n",
              "      <td>100</td>\n",
              "      <td>19.7255</td>\n",
              "      <td>kzt</td>\n",
              "    </tr>\n",
              "    <tr>\n",
              "      <th>2</th>\n",
              "      <td>2024-01-12</td>\n",
              "      <td>100</td>\n",
              "      <td>19.5839</td>\n",
              "      <td>kzt</td>\n",
              "    </tr>\n",
              "    <tr>\n",
              "      <th>3</th>\n",
              "      <td>2024-01-13</td>\n",
              "      <td>100</td>\n",
              "      <td>19.4501</td>\n",
              "      <td>kzt</td>\n",
              "    </tr>\n",
              "    <tr>\n",
              "      <th>4</th>\n",
              "      <td>2024-01-14</td>\n",
              "      <td>100</td>\n",
              "      <td>19.4501</td>\n",
              "      <td>kzt</td>\n",
              "    </tr>\n",
              "  </tbody>\n",
              "</table>\n",
              "</div>"
            ],
            "text/plain": [
              "         data  nominal     curs  cdx\n",
              "0  2024-01-10      100  19.9391  kzt\n",
              "1  2024-01-11      100  19.7255  kzt\n",
              "2  2024-01-12      100  19.5839  kzt\n",
              "3  2024-01-13      100  19.4501  kzt\n",
              "4  2024-01-14      100  19.4501  kzt"
            ]
          },
          "metadata": {},
          "output_type": "display_data"
        }
      ],
      "execution_count": 3
    },
    {
      "cell_type": "code",
      "source": "# Общая информация о данных\ndisplay(df_orders.info())\ndisplay(df_events.info())\ndisplay(df_tenge.info())\n\n",
      "metadata": {},
      "outputs": [
        {
          "name": "stdout",
          "output_type": "stream",
          "text": "<class 'pandas.core.frame.DataFrame'>\n,RangeIndex: 290849 entries, 0 to 290848\n,Data columns (total 14 columns):\n, #   Column                 Non-Null Count   Dtype  \n,---  ------                 --------------   -----  \n, 0   order_id               290849 non-null  int64  \n, 1   user_id                290849 non-null  object \n, 2   created_dt_msk         290849 non-null  object \n, 3   created_ts_msk         290849 non-null  object \n, 4   event_id               290849 non-null  int64  \n, 5   cinema_circuit         290849 non-null  object \n, 6   age_limit              290849 non-null  int64  \n, 7   currency_code          290849 non-null  object \n, 8   device_type_canonical  290849 non-null  object \n, 9   revenue                290849 non-null  float64\n, 10  service_name           290849 non-null  object \n, 11  tickets_count          290849 non-null  int64  \n, 12  total                  290849 non-null  float64\n, 13  days_since_prev        268909 non-null  float64\n,dtypes: float64(3), int64(4), object(7)\n,memory usage: 31.1+ MB\n"
        },
        {
          "data": {
            "text/plain": [
              "None"
            ]
          },
          "metadata": {},
          "output_type": "display_data"
        },
        {
          "name": "stdout",
          "output_type": "stream",
          "text": "<class 'pandas.core.frame.DataFrame'>\n,RangeIndex: 22427 entries, 0 to 22426\n,Data columns (total 11 columns):\n, #   Column                  Non-Null Count  Dtype \n,---  ------                  --------------  ----- \n, 0   event_id                22427 non-null  int64 \n, 1   event_name              22427 non-null  object\n, 2   event_type_description  22427 non-null  object\n, 3   event_type_main         22427 non-null  object\n, 4   organizers              22427 non-null  object\n, 5   region_name             22427 non-null  object\n, 6   city_name               22427 non-null  object\n, 7   city_id                 22427 non-null  int64 \n, 8   venue_id                22427 non-null  int64 \n, 9   venue_name              22427 non-null  object\n, 10  venue_address           22427 non-null  object\n,dtypes: int64(3), object(8)\n,memory usage: 1.9+ MB\n"
        },
        {
          "data": {
            "text/plain": [
              "None"
            ]
          },
          "metadata": {},
          "output_type": "display_data"
        },
        {
          "name": "stdout",
          "output_type": "stream",
          "text": "<class 'pandas.core.frame.DataFrame'>\n,RangeIndex: 357 entries, 0 to 356\n,Data columns (total 4 columns):\n, #   Column   Non-Null Count  Dtype  \n,---  ------   --------------  -----  \n, 0   data     357 non-null    object \n, 1   nominal  357 non-null    int64  \n, 2   curs     357 non-null    float64\n, 3   cdx      357 non-null    object \n,dtypes: float64(1), int64(1), object(2)\n,memory usage: 11.3+ KB\n"
        },
        {
          "data": {
            "text/plain": [
              "None"
            ]
          },
          "metadata": {},
          "output_type": "display_data"
        }
      ],
      "execution_count": 4
    },
    {
      "cell_type": "markdown",
      "source": "Данные:\ndf_orders: содержит информацию о заказах, включая идентификатор заказа, пользователя, дату и время создания заказа, идентификатор события, возрастные ограничения и другие атрибуты.\ndf_events: содержит данные о событиях, включая идентификатор события, название, описание типа события, организаторов и местоположение.\ndf_tenge: таблица с курсами валюты.\n\nКачество данных:\nВ df_orders есть пропуски в столбце days_since_prev (268909 non-null из 290849).\nВсе остальные столбцы в каждой из таблиц полностью заполнены (нет пропусков).\n\nТипы данных:\nОсновные типы данных в таблицах — int64, float64 и object.\nПотребуется преобразование типов данных для некоторых столбцов, например, преобразование дат в формат datetime.",
      "metadata": {}
    },
    {
      "cell_type": "code",
      "source": "# Для удобства обеденим таблицы в один датасет.\n# Но сначала провериим кол-во строк до и после слияния\n\nprint(\"Размер df_orders:\", df_orders.shape)\nprint(\"Размер df_events:\", df_events.shape)\nprint(\"Размер df_tenge:\", df_tenge.shape)\n",
      "metadata": {},
      "outputs": [
        {
          "name": "stdout",
          "output_type": "stream",
          "text": "Размер df_orders: (290849, 14)\n,Размер df_events: (22427, 11)\n,Размер df_tenge: (357, 4)\n"
        }
      ],
      "execution_count": 5
    },
    {
      "cell_type": "code",
      "source": "# Объеденим таблицы в один датасет\nmerged_df = pd.merge(df_orders, df_events, on='event_id')\nmerged_df = pd.merge(merged_df, df_tenge, left_on='created_dt_msk', right_on='data')\nprint(\"Размер merged_df после объединения:\", merged_df.shape)\n",
      "metadata": {},
      "outputs": [
        {
          "name": "stdout",
          "output_type": "stream",
          "text": "Размер merged_df после объединения: (290611, 28)\n"
        }
      ],
      "execution_count": 6
    },
    {
      "cell_type": "markdown",
      "source": " - После объединения размер результирующего датафрейма merged_df немного уменьшился по сравнению с исходным df_orders. Это может быть связано с тем, что не для всех строк нашлось соответствие по ключу при объединении.",
      "metadata": {}
    },
    {
      "cell_type": "code",
      "source": "# Проверим на пропуски\nmerged_df.isna().sum()\n",
      "metadata": {
        "scrolled": true
      },
      "outputs": [
        {
          "data": {
            "text/plain": [
              "order_id                      0\n",
              "user_id                       0\n",
              "created_dt_msk                0\n",
              "created_ts_msk                0\n",
              "event_id                      0\n",
              "cinema_circuit                0\n",
              "age_limit                     0\n",
              "currency_code                 0\n",
              "device_type_canonical         0\n",
              "revenue                       0\n",
              "service_name                  0\n",
              "tickets_count                 0\n",
              "total                         0\n",
              "days_since_prev           21913\n",
              "event_name                    0\n",
              "event_type_description        0\n",
              "event_type_main               0\n",
              "organizers                    0\n",
              "region_name                   0\n",
              "city_name                     0\n",
              "city_id                       0\n",
              "venue_id                      0\n",
              "venue_name                    0\n",
              "venue_address                 0\n",
              "data                          0\n",
              "nominal                       0\n",
              "curs                          0\n",
              "cdx                           0\n",
              "dtype: int64"
            ]
          },
          "execution_count": 7,
          "metadata": {},
          "output_type": "execute_result"
        }
      ],
      "execution_count": 7
    },
    {
      "cell_type": "code",
      "source": "# Проверим долип пропусков от общего числа\nmerged_df.isna().mean()",
      "metadata": {},
      "outputs": [
        {
          "data": {
            "text/plain": [
              "order_id                  0.000000\n",
              "user_id                   0.000000\n",
              "created_dt_msk            0.000000\n",
              "created_ts_msk            0.000000\n",
              "event_id                  0.000000\n",
              "cinema_circuit            0.000000\n",
              "age_limit                 0.000000\n",
              "currency_code             0.000000\n",
              "device_type_canonical     0.000000\n",
              "revenue                   0.000000\n",
              "service_name              0.000000\n",
              "tickets_count             0.000000\n",
              "total                     0.000000\n",
              "days_since_prev           0.075403\n",
              "event_name                0.000000\n",
              "event_type_description    0.000000\n",
              "event_type_main           0.000000\n",
              "organizers                0.000000\n",
              "region_name               0.000000\n",
              "city_name                 0.000000\n",
              "city_id                   0.000000\n",
              "venue_id                  0.000000\n",
              "venue_name                0.000000\n",
              "venue_address             0.000000\n",
              "data                      0.000000\n",
              "nominal                   0.000000\n",
              "curs                      0.000000\n",
              "cdx                       0.000000\n",
              "dtype: float64"
            ]
          },
          "execution_count": 8,
          "metadata": {},
          "output_type": "execute_result"
        }
      ],
      "execution_count": 8
    },
    {
      "cell_type": "markdown",
      "source": "Обнаружено пропускрв - 21913 или 7,5%  строк в одном столбце days_since_prev что объяснялось в ТЗ          ",
      "metadata": {}
    },
    {
      "cell_type": "code",
      "source": "# Проверка дубликатов в объединённом датафрейме\nprint('Дубликаты в merged_df:', merged_df.duplicated().sum())",
      "metadata": {},
      "outputs": [
        {
          "name": "stdout",
          "output_type": "stream",
          "text": "Дубликаты в merged_df: 0\n"
        }
      ],
      "execution_count": 9
    },
    {
      "cell_type": "code",
      "source": "# Приведем столбец с датой к datetime\nmerged_df['created_ts_msk'] = pd.to_datetime(merged_df['created_ts_msk'], errors='coerce')  # дата + время",
      "metadata": {},
      "outputs": [],
      "execution_count": 10
    },
    {
      "cell_type": "code",
      "source": "# Для удобства округлим временную метку до минут (исключить эффект микросекунд)\nmerged_df['created_ts_rounded'] = pd.to_datetime(merged_df['created_ts_msk']).dt.floor('T')\n\n# Столбцы, идентифицирующие бронь (без order_id):\nkey_cols = ['user_id', 'created_ts_rounded', 'event_id', 'tickets_count', 'total', 'device_type_canonical']\n\n# Проверка дубликатов по этим полям\nduplicate_mask = merged_df.duplicated(subset=key_cols, keep=False)\n\n# Посмотрим, сколько таких неявных дубликатов\nnum_implicit_duplicates = duplicate_mask.sum()\nprint(f'Количество неявных дубликатов бронирования: {num_implicit_duplicates}')\n\n# Посмотрим примеры (если есть)\nif num_implicit_duplicates > 0:\n    print(merged_df.loc[duplicate_mask].sort_values(by=key_cols).head(10))\nelse:\n    print(\"Неявных дубликатов бронирования не найдено.\")",
      "metadata": {},
      "outputs": [
        {
          "name": "stdout",
          "output_type": "stream",
          "text": "Количество неявных дубликатов бронирования: 6064\n,        order_id          user_id created_dt_msk      created_ts_msk  \\\n,201360    865361  00fcd3ab0e5c558     2024-10-01 2024-10-01 11:38:40   \n,201361    865506  00fcd3ab0e5c558     2024-10-01 2024-10-01 11:38:10   \n,218629   5679100  0186f6e000b581c     2024-10-10 2024-10-10 14:30:38   \n,218637   5679013  0186f6e000b581c     2024-10-10 2024-10-10 14:30:24   \n,149034   6893852  019fa401ddb00aa     2024-07-28 2024-07-28 11:26:05   \n,149040    524379  019fa401ddb00aa     2024-07-28 2024-07-28 11:26:01   \n,11368    2459317  019fa401ddb00aa     2024-09-11 2024-09-11 22:37:32   \n,11371    2459375  019fa401ddb00aa     2024-09-11 2024-09-11 22:37:55   \n,42128     331268  019fa401ddb00aa     2024-09-14 2024-09-14 16:47:09   \n,42130     331326  019fa401ddb00aa     2024-09-14 2024-09-14 16:47:47   \n,\n,        event_id cinema_circuit  age_limit currency_code  \\\n,201360    457197            нет          0           rub   \n,201361    457197            нет          0           rub   \n,218629    491594            нет         16           rub   \n,218637    491594            нет         16           rub   \n,149034    220105            нет          0           rub   \n,149040    220105            нет          0           rub   \n,11368     535742            нет          0           rub   \n,11371     535742            нет          0           rub   \n,42128     470559            нет         16           rub   \n,42130     470559            нет         16           rub   \n,\n,       device_type_canonical  revenue  ...    city_name  city_id  venue_id  \\\n,201360                mobile   240.32  ...    Радужсвет       47      2157   \n,201361                mobile   240.32  ...    Радужсвет       47      2157   \n,218629                mobile   209.23  ...   Родниковец       55      3011   \n,218637                mobile   209.23  ...   Родниковец       55      3011   \n,149034                mobile    29.31  ...    Глиноград       54      1743   \n,149040                mobile    29.31  ...    Глиноград       54      1743   \n,11368                 mobile   432.08  ...    Островецк       50      1981   \n,11371                 mobile   432.08  ...    Островецк       50      1981   \n,42128                 mobile   603.23  ...  Кристалевск      193      1228   \n,42130                 mobile   603.23  ...  Кристалевск      193      1228   \n,\n,                                          venue_name  \\\n,201360      Студия дизайна \"Платформа\" Инкорпорэйтед   \n,201361      Студия дизайна \"Платформа\" Инкорпорэйтед   \n,218629          Фонд поддержки культуры \"Сводка\" Инк   \n,218637          Фонд поддержки культуры \"Сводка\" Инк   \n,149034                 Концертный зал \"Звук\" Лимитед   \n,149040                 Концертный зал \"Звук\" Лимитед   \n,11368            Клуб киноманов \"Идея\" Инкорпорэйтед   \n,11371            Клуб киноманов \"Идея\" Инкорпорэйтед   \n,42128   Клуб начинающих писателей \"Таблетка\" Лимитед   \n,42130   Клуб начинающих писателей \"Таблетка\" Лимитед   \n,\n,                         venue_address        data nominal     curs  cdx  \\\n,201360        наб. Магистральная, д. 5  2024-10-01     100  19.4525  kzt   \n,201361        наб. Магистральная, д. 5  2024-10-01     100  19.4525  kzt   \n,218629                ш. Широкое, д. 2  2024-10-10     100  19.9302  kzt   \n,218637                ш. Широкое, д. 2  2024-10-10     100  19.9302  kzt   \n,149034            ул. Калинина, д. 766  2024-07-28     100  18.0243  kzt   \n,149040            ул. Калинина, д. 766  2024-07-28     100  18.0243  kzt   \n,11368   алл. Владимирская, д. 8 к. 1/7  2024-09-11     100  19.0258  kzt   \n,11371   алл. Владимирская, д. 8 к. 1/7  2024-09-11     100  19.0258  kzt   \n,42128            ш. Кавказское, д. 411  2024-09-14     100  19.0586  kzt   \n,42130            ш. Кавказское, д. 411  2024-09-14     100  19.0586  kzt   \n,\n,        created_ts_rounded  \n,201360 2024-10-01 11:38:00  \n,201361 2024-10-01 11:38:00  \n,218629 2024-10-10 14:30:00  \n,218637 2024-10-10 14:30:00  \n,149034 2024-07-28 11:26:00  \n,149040 2024-07-28 11:26:00  \n,11368  2024-09-11 22:37:00  \n,11371  2024-09-11 22:37:00  \n,42128  2024-09-14 16:47:00  \n,42130  2024-09-14 16:47:00  \n,\n,[10 rows x 29 columns]\n"
        }
      ],
      "execution_count": 11
    },
    {
      "cell_type": "markdown",
      "source": "Обнаружены неявные дубликаты бронирований (разные order_id, остальное совпадает). Нельзя однозначно исключить, что это:\n\n- Один и тот же ползователь покупал много билетов за день возможно корпаративные мероприятия с одним заказзчиком.\n - Повторные попытки пользователя (сбои, неуверенность).\n - Разные сессии (с разных устройств).\n\nУдаление может привести к потере реальных броней.По этому оставлялем неявные дубликаты как есть.\n\n",
      "metadata": {}
    },
    {
      "cell_type": "code",
      "source": "# 3.3: Конвертация валюты\ndef convert_to_rub(row):\n    if row['currency_code'] == 'rub':\n        return row['revenue']\n    elif row['currency_code'] == 'kzt':\n        # Проверяем, есть ли данные о курсе\n        if pd.isna(row['curs']):\n            return None  # Если нет данных о курсе, возвращаем None\n\n        return row['revenue'] * (row['curs'] / 100)\n    else:\n        return None\n\nmerged_df['revenue_rub'] = merged_df.apply(convert_to_rub, axis=1)\nprint(merged_df[['revenue', 'currency_code', 'created_dt_msk', 'curs', 'revenue_rub']].head())\n",
      "metadata": {},
      "outputs": [
        {
          "name": "stdout",
          "output_type": "stream",
          "text": "   revenue currency_code created_dt_msk     curs  revenue_rub\n,0  1521.94           rub     2024-08-20  18.6972      1521.94\n,1   144.73           rub     2024-08-20  18.6972       144.73\n,2   318.27           rub     2024-08-20  18.6972       318.27\n,3   339.61           rub     2024-08-20  18.6972       339.61\n,4   339.61           rub     2024-08-20  18.6972       339.61\n"
        }
      ],
      "execution_count": 12
    },
    {
      "cell_type": "code",
      "source": "# 3.4: Создание новых столбцов\nmerged_df['one_ticket_revenue_rub'] = merged_df['revenue_rub'] / merged_df['tickets_count']\nmerged_df['month'] = merged_df['created_ts_msk'].dt.month\n\ndef get_season(month):\n    if 3 <= month <= 5:\n        return 'весна'\n    elif 6 <= month <= 8:\n        return 'лето'\n    elif 9 <= month <= 11:\n        return 'осень'\n    else:\n        return 'зима'\n\nmerged_df['season'] = merged_df['month'].apply(get_season)\n",
      "metadata": {},
      "outputs": [],
      "execution_count": 13
    },
    {
      "cell_type": "code",
      "source": "display(\"\\nПервые строки обработанного датафрейма:\\n\", merged_df.head())",
      "metadata": {},
      "outputs": [
        {
          "data": {
            "text/plain": [
              "'\\nПервые строки обработанного датафрейма:\\n'"
            ]
          },
          "metadata": {},
          "output_type": "display_data"
        },
        {
          "data": {
            "text/html": [
              "<div>\n",
              "<style scoped>\n",
              "    .dataframe tbody tr th:only-of-type {\n",
              "        vertical-align: middle;\n",
              "    }\n",
              "\n",
              "    .dataframe tbody tr th {\n",
              "        vertical-align: top;\n",
              "    }\n",
              "\n",
              "    .dataframe thead th {\n",
              "        text-align: right;\n",
              "    }\n",
              "</style>\n",
              "<table border=\"1\" class=\"dataframe\">\n",
              "  <thead>\n",
              "    <tr style=\"text-align: right;\">\n",
              "      <th></th>\n",
              "      <th>order_id</th>\n",
              "      <th>user_id</th>\n",
              "      <th>created_dt_msk</th>\n",
              "      <th>created_ts_msk</th>\n",
              "      <th>event_id</th>\n",
              "      <th>cinema_circuit</th>\n",
              "      <th>age_limit</th>\n",
              "      <th>currency_code</th>\n",
              "      <th>device_type_canonical</th>\n",
              "      <th>revenue</th>\n",
              "      <th>...</th>\n",
              "      <th>venue_address</th>\n",
              "      <th>data</th>\n",
              "      <th>nominal</th>\n",
              "      <th>curs</th>\n",
              "      <th>cdx</th>\n",
              "      <th>created_ts_rounded</th>\n",
              "      <th>revenue_rub</th>\n",
              "      <th>one_ticket_revenue_rub</th>\n",
              "      <th>month</th>\n",
              "      <th>season</th>\n",
              "    </tr>\n",
              "  </thead>\n",
              "  <tbody>\n",
              "    <tr>\n",
              "      <th>0</th>\n",
              "      <td>4359165</td>\n",
              "      <td>0002849b70a3ce2</td>\n",
              "      <td>2024-08-20</td>\n",
              "      <td>2024-08-20 16:08:03</td>\n",
              "      <td>169230</td>\n",
              "      <td>нет</td>\n",
              "      <td>16</td>\n",
              "      <td>rub</td>\n",
              "      <td>mobile</td>\n",
              "      <td>1521.94</td>\n",
              "      <td>...</td>\n",
              "      <td>алл. Машиностроителей, д. 19 стр. 6</td>\n",
              "      <td>2024-08-20</td>\n",
              "      <td>100</td>\n",
              "      <td>18.6972</td>\n",
              "      <td>kzt</td>\n",
              "      <td>2024-08-20 16:08:00</td>\n",
              "      <td>1521.94</td>\n",
              "      <td>380.485</td>\n",
              "      <td>8</td>\n",
              "      <td>лето</td>\n",
              "    </tr>\n",
              "    <tr>\n",
              "      <th>1</th>\n",
              "      <td>6274963</td>\n",
              "      <td>44c1c640a242aea</td>\n",
              "      <td>2024-08-20</td>\n",
              "      <td>2024-08-20 22:12:04</td>\n",
              "      <td>237325</td>\n",
              "      <td>нет</td>\n",
              "      <td>0</td>\n",
              "      <td>rub</td>\n",
              "      <td>mobile</td>\n",
              "      <td>144.73</td>\n",
              "      <td>...</td>\n",
              "      <td>алл. Шмидта, д. 9 стр. 4</td>\n",
              "      <td>2024-08-20</td>\n",
              "      <td>100</td>\n",
              "      <td>18.6972</td>\n",
              "      <td>kzt</td>\n",
              "      <td>2024-08-20 22:12:00</td>\n",
              "      <td>144.73</td>\n",
              "      <td>144.730</td>\n",
              "      <td>8</td>\n",
              "      <td>лето</td>\n",
              "    </tr>\n",
              "    <tr>\n",
              "      <th>2</th>\n",
              "      <td>474528</td>\n",
              "      <td>2b1f730d7024681</td>\n",
              "      <td>2024-08-20</td>\n",
              "      <td>2024-08-20 15:29:56</td>\n",
              "      <td>373657</td>\n",
              "      <td>нет</td>\n",
              "      <td>18</td>\n",
              "      <td>rub</td>\n",
              "      <td>mobile</td>\n",
              "      <td>318.27</td>\n",
              "      <td>...</td>\n",
              "      <td>наб. Тамбовская, д. 1/4 к. 577</td>\n",
              "      <td>2024-08-20</td>\n",
              "      <td>100</td>\n",
              "      <td>18.6972</td>\n",
              "      <td>kzt</td>\n",
              "      <td>2024-08-20 15:29:00</td>\n",
              "      <td>318.27</td>\n",
              "      <td>106.090</td>\n",
              "      <td>8</td>\n",
              "      <td>лето</td>\n",
              "    </tr>\n",
              "    <tr>\n",
              "      <th>3</th>\n",
              "      <td>7477361</td>\n",
              "      <td>05ba93f1b1e1fdd</td>\n",
              "      <td>2024-08-20</td>\n",
              "      <td>2024-08-20 17:06:44</td>\n",
              "      <td>534657</td>\n",
              "      <td>нет</td>\n",
              "      <td>16</td>\n",
              "      <td>rub</td>\n",
              "      <td>mobile</td>\n",
              "      <td>339.61</td>\n",
              "      <td>...</td>\n",
              "      <td>ш. Микрорайон, д. 79 стр. 50</td>\n",
              "      <td>2024-08-20</td>\n",
              "      <td>100</td>\n",
              "      <td>18.6972</td>\n",
              "      <td>kzt</td>\n",
              "      <td>2024-08-20 17:06:00</td>\n",
              "      <td>339.61</td>\n",
              "      <td>339.610</td>\n",
              "      <td>8</td>\n",
              "      <td>лето</td>\n",
              "    </tr>\n",
              "    <tr>\n",
              "      <th>4</th>\n",
              "      <td>472150</td>\n",
              "      <td>3ee7dc2e115847f</td>\n",
              "      <td>2024-08-20</td>\n",
              "      <td>2024-08-20 02:57:22</td>\n",
              "      <td>534657</td>\n",
              "      <td>нет</td>\n",
              "      <td>16</td>\n",
              "      <td>rub</td>\n",
              "      <td>mobile</td>\n",
              "      <td>339.61</td>\n",
              "      <td>...</td>\n",
              "      <td>ш. Микрорайон, д. 79 стр. 50</td>\n",
              "      <td>2024-08-20</td>\n",
              "      <td>100</td>\n",
              "      <td>18.6972</td>\n",
              "      <td>kzt</td>\n",
              "      <td>2024-08-20 02:57:00</td>\n",
              "      <td>339.61</td>\n",
              "      <td>339.610</td>\n",
              "      <td>8</td>\n",
              "      <td>лето</td>\n",
              "    </tr>\n",
              "  </tbody>\n",
              "</table>\n",
              "<p>5 rows × 33 columns</p>\n",
              "</div>"
            ],
            "text/plain": [
              "   order_id          user_id created_dt_msk      created_ts_msk  event_id  \\\n",
              "0   4359165  0002849b70a3ce2     2024-08-20 2024-08-20 16:08:03    169230   \n",
              "1   6274963  44c1c640a242aea     2024-08-20 2024-08-20 22:12:04    237325   \n",
              "2    474528  2b1f730d7024681     2024-08-20 2024-08-20 15:29:56    373657   \n",
              "3   7477361  05ba93f1b1e1fdd     2024-08-20 2024-08-20 17:06:44    534657   \n",
              "4    472150  3ee7dc2e115847f     2024-08-20 2024-08-20 02:57:22    534657   \n",
              "\n",
              "  cinema_circuit  age_limit currency_code device_type_canonical  revenue  ...  \\\n",
              "0            нет         16           rub                mobile  1521.94  ...   \n",
              "1            нет          0           rub                mobile   144.73  ...   \n",
              "2            нет         18           rub                mobile   318.27  ...   \n",
              "3            нет         16           rub                mobile   339.61  ...   \n",
              "4            нет         16           rub                mobile   339.61  ...   \n",
              "\n",
              "                         venue_address        data  nominal     curs  cdx  \\\n",
              "0  алл. Машиностроителей, д. 19 стр. 6  2024-08-20      100  18.6972  kzt   \n",
              "1             алл. Шмидта, д. 9 стр. 4  2024-08-20      100  18.6972  kzt   \n",
              "2       наб. Тамбовская, д. 1/4 к. 577  2024-08-20      100  18.6972  kzt   \n",
              "3         ш. Микрорайон, д. 79 стр. 50  2024-08-20      100  18.6972  kzt   \n",
              "4         ш. Микрорайон, д. 79 стр. 50  2024-08-20      100  18.6972  kzt   \n",
              "\n",
              "   created_ts_rounded revenue_rub one_ticket_revenue_rub month season  \n",
              "0 2024-08-20 16:08:00     1521.94                380.485     8   лето  \n",
              "1 2024-08-20 22:12:00      144.73                144.730     8   лето  \n",
              "2 2024-08-20 15:29:00      318.27                106.090     8   лето  \n",
              "3 2024-08-20 17:06:00      339.61                339.610     8   лето  \n",
              "4 2024-08-20 02:57:00      339.61                339.610     8   лето  \n",
              "\n",
              "[5 rows x 33 columns]"
            ]
          },
          "metadata": {},
          "output_type": "display_data"
        }
      ],
      "execution_count": 14
    },
    {
      "cell_type": "code",
      "source": "# 3.6: Анализ категориальных переменных\nprint(\"\\nУникальные значения в категориальных столбцах:\")\nfor col in merged_df.select_dtypes(include='object'):\n    print(f\"\\nСтолбец '{col}':\")\n    print(merged_df[col].unique())\n    print(f\"Количество уникальных значений: {merged_df[col].nunique()}\")",
      "metadata": {},
      "outputs": [
        {
          "name": "stdout",
          "output_type": "stream",
          "text": "\n,Уникальные значения в категориальных столбцах:\n,\n,Столбец 'user_id':\n,['0002849b70a3ce2' '44c1c640a242aea' '2b1f730d7024681' ...\n, '799e02306e55c7b' 'd57aff1cb684be3' 'dba05ea9c08d8b2']\n,Количество уникальных значений: 21933\n,\n,Столбец 'created_dt_msk':\n,['2024-08-20' '2024-07-23' '2024-07-21' '2024-08-17' '2024-07-25'\n, '2024-08-29' '2024-10-21' '2024-09-11' '2024-07-22' '2024-10-11'\n, '2024-10-23' '2024-10-22' '2024-10-24' '2024-08-24' '2024-07-02'\n, '2024-07-09' '2024-09-23' '2024-07-16' '2024-10-30' '2024-08-23'\n, '2024-07-10' '2024-07-29' '2024-09-14' '2024-09-09' '2024-10-26'\n, '2024-10-27' '2024-06-28' '2024-07-17' '2024-10-17' '2024-08-01'\n, '2024-07-08' '2024-08-04' '2024-08-06' '2024-07-31' '2024-10-31'\n, '2024-08-26' '2024-10-19' '2024-07-26' '2024-10-20' '2024-08-25'\n, '2024-06-09' '2024-08-12' '2024-10-18' '2024-08-22' '2024-10-08'\n, '2024-07-20' '2024-07-12' '2024-07-13' '2024-08-16' '2024-07-15'\n, '2024-07-19' '2024-07-30' '2024-08-10' '2024-08-09' '2024-10-29'\n, '2024-07-04' '2024-08-05' '2024-08-28' '2024-07-07' '2024-10-07'\n, '2024-07-24' '2024-06-21' '2024-10-16' '2024-08-02' '2024-10-06'\n, '2024-10-04' '2024-10-05' '2024-10-03' '2024-10-25' '2024-10-12'\n, '2024-10-28' '2024-10-02' '2024-10-14' '2024-07-28' '2024-09-20'\n, '2024-10-09' '2024-08-19' '2024-06-20' '2024-09-25' '2024-09-27'\n, '2024-06-17' '2024-10-13' '2024-09-29' '2024-09-19' '2024-06-24'\n, '2024-08-14' '2024-06-26' '2024-06-16' '2024-08-11' '2024-08-30'\n, '2024-06-11' '2024-08-21' '2024-09-24' '2024-06-25' '2024-09-03'\n, '2024-08-27' '2024-09-21' '2024-08-31' '2024-09-22' '2024-09-17'\n, '2024-10-01' '2024-08-08' '2024-10-15' '2024-09-07' '2024-09-28'\n, '2024-10-10' '2024-06-30' '2024-08-03' '2024-09-13' '2024-09-16'\n, '2024-06-27' '2024-09-12' '2024-06-13' '2024-09-05' '2024-08-07'\n, '2024-09-10' '2024-06-04' '2024-09-30' '2024-09-02' '2024-08-18'\n, '2024-09-26' '2024-08-13' '2024-06-08' '2024-06-29' '2024-07-05'\n, '2024-09-04' '2024-09-01' '2024-09-15' '2024-09-06' '2024-09-08'\n, '2024-06-05' '2024-08-15' '2024-06-12' '2024-07-11' '2024-09-18'\n, '2024-06-15' '2024-07-06' '2024-07-14' '2024-06-18' '2024-07-27'\n, '2024-06-07' '2024-06-03' '2024-06-22' '2024-06-23' '2024-07-18'\n, '2024-06-10' '2024-06-19' '2024-06-02' '2024-06-06' '2024-07-01'\n, '2024-06-01' '2024-07-03' '2024-06-14']\n,Количество уникальных значений: 153\n,\n,Столбец 'cinema_circuit':\n,['нет' 'Москино' 'Другое' 'КиноСити' 'Киномакс' 'ЦентрФильм']\n,Количество уникальных значений: 6\n,\n,Столбец 'currency_code':\n,['rub' 'kzt']\n,Количество уникальных значений: 2\n,\n,Столбец 'device_type_canonical':\n,['mobile' 'desktop']\n,Количество уникальных значений: 2\n,\n,Столбец 'service_name':\n,['Край билетов' 'Мой билет' 'Облачко' 'Быстробилет' 'Билеты без проблем'\n, 'Весь в билетах' 'Билеты в руки' 'Прачечная' 'Лови билет!'\n, 'Лучшие билеты' 'Дом культуры' 'За билетом!' 'Яблоко' 'Show_ticket'\n, 'Тебе билет!' 'Мир касс' 'Выступления.ру' 'Восьмёрка'\n, 'Городской дом культуры' 'Росбилет' 'Вперёд!' 'Crazy ticket!' 'Телебилет'\n, 'Радио ticket' 'Кино билет' 'Зе Бест!' 'КарандашРУ' 'Шоу начинается!'\n, 'Лимоны' 'Билет по телефону' 'Тех билет' 'Дырокол' 'Быстрый кассир'\n, 'Реестр' 'Цвет и билет' 'Билеты в интернете']\n,Количество уникальных значений: 36\n,\n,Столбец 'event_name':\n,['f0f7b271-04eb-4af6-bcb8-8f05cf46d6ad'\n, '40efeb04-81b7-4135-b41f-708ff00cc64c'\n, '990b8b09-85d8-4ffb-9074-ab5303cd3c33' ...\n, '7919b729-7ece-474f-a974-377f2e34507f'\n, '3301cd59-29cc-460f-92f8-92bfac5d2148'\n, '6a2e08b2-bf15-4424-8c60-5764e38a5d58']\n,Количество уникальных значений: 15248\n,\n,Столбец 'event_type_description':\n,['спектакль' 'событие' 'шоу' 'концерт' 'ёлка' 'цирковое шоу' 'выставка'\n, 'мюзикл' 'фестиваль' 'балет' 'спортивное мероприятие' 'спорт' 'опера'\n, 'музыкальный спектакль' 'экскурсия' 'кукольный спектакль' 'подарок'\n, 'снегурочка' 'оперетта' 'рок-мюзикл']\n,Количество уникальных значений: 20\n,\n,Столбец 'event_type_main':\n,['театр' 'выставки' 'стендап' 'концерты' 'ёлки' 'другое' 'спорт']\n,Количество уникальных значений: 7\n,\n,Столбец 'organizers':\n,['№3322' '№4850' '№1124' ... '№2099' '№1818' '№1427']\n,Количество уникальных значений: 4293\n,\n,Столбец 'region_name':\n,['Каменевский регион' 'Североярская область' 'Ветренский регион'\n, 'Боровлянский край' 'Озернинский край' 'Ягодиновская область'\n, 'Горицветская область' 'Широковская область' 'Речиновская область'\n, 'Каменноярский край' 'Малиновоярский округ' 'Ручейковский край'\n, 'Медовская область' 'Тепляковская область' 'Малиновая область'\n, 'Яблоневская область' 'Глиногорская область' 'Зоринский регион'\n, 'Серебринская область' 'Травиницкий округ' 'Шанырский регион'\n, 'Заречная область' 'Лесодальний край' 'Травяная область'\n, 'Каменополянский округ' 'Речицкая область' 'Светополянский округ'\n, 'Лугоградская область' 'Озернопольская область'\n, 'Солнечнореченская область' 'Голубевский округ' 'Дальнеземская область'\n, 'Крутоводская область' 'Дальнезорский край' 'Поленовский край'\n, 'Чистогорская область' 'Солнечноземская область' 'Лесоярская область'\n, 'Синегорский регион' 'Зеленоградский округ' 'Верхоречная область'\n, 'Каменичская область' 'Островная область' 'Радужнопольский край'\n, 'Берёзовская область' 'Луговая область' 'Сосноводолинская область'\n, 'Сосновская область' 'Горностепной регион' 'Горноземский регион'\n, 'Золотоключевской край' 'Вишнёвский край' 'Речицкий регион'\n, 'Миропольская область' 'Каменноозёрный край' 'Златопольский округ'\n, 'Североключевской округ' 'Лесостепной край' 'Серебряноярский округ'\n, 'Залесский край' 'Дубравная область' 'Нежинская область'\n, 'Лесополянская область' 'Белоярская область' 'Ключеводский округ'\n, 'Североозёрский округ' 'Кристаловская область' 'Берестовский округ'\n, 'Радужногорская область' 'Верховинская область' 'Островогорский округ'\n, 'Тихолесский край' 'Яснопольский округ' 'Тихогорская область'\n, 'Светолесский край' 'Теплоозёрский округ' 'Крутоводский регион'\n, 'Тихореченская область' 'Верхозёрский край' 'Кристальная область'\n, 'Лесноярский край']\n,Количество уникальных значений: 81\n,\n,Столбец 'city_name':\n,['Глиногорск' 'Озёрск' 'Кокжар' 'Каменский' 'Лесоярич' 'Речинцево'\n, 'Островецк' 'Радужнополье' 'Дальнесветск' 'Ягодиновка' 'Лесоярово'\n, 'Верховино' 'Северополье' 'Луговаярово' 'Радужсвет' 'Горнодолинск'\n, 'Сарыжар' 'Светополье' 'Теплоозеро' 'Луговинск' 'Озёрчане' 'Сосновечин'\n, 'Широковка' 'Родниковецк' 'Дальнесветин' 'Родниковец' 'Серебровино'\n, 'Тихосветск' 'Радужанов' 'Глиноград' 'Кристалевск' 'Чистогорье'\n, 'Боровлянск' 'Кенесар' 'Горнополец' 'Озёрово' 'Радужнояр' 'Теплоозёрск'\n, 'Никольянов' 'Рощино' 'Дальнозолотск' 'Верхоозёров' 'Леснойск'\n, 'Глинополье' 'Родниковск' 'Речичанск' 'Озёриново' 'Тихоярск' 'Шаныртау'\n, 'Тихоречка' 'Песчанская' 'Серебрянка' 'Ключевополье' 'Синеводск'\n, 'Вишнёво' 'Сосноград' 'Каражар' 'Лесоводск' 'Коксуйск' 'Сосновогорец'\n, 'Песковино' 'Златопольск' 'Яблонецк' 'Жетисайск' 'Солчелуг' 'Травогород'\n, 'Яснополянск' 'Травяниново' 'Поляногорье' 'Жаркентай' 'Солнечнёвка'\n, 'Глинянск' 'Ордасай' 'Поленосвет' 'Островской' 'Ясноград' 'Речинск'\n, 'Ордакент' 'Поленовино' 'Родинсветск' 'Кумсай' 'Каменосветск'\n, 'Заречиновка' 'Радужинск' 'Синеводов' 'Вишнёвогорск' 'Северогорск'\n, 'Травогорск' 'Водниково' 'Зоречанск' 'Озёречин' 'Крутовинск'\n, 'Тихолесьевск' 'Дальнесоснов' 'Травянский' 'Лесозолотск' 'Сереброяр'\n, 'Дальнополин' 'Речепольск' 'Луговское' 'Каменёвка' 'Сосновецк'\n, 'Гореловск' 'Акбастау' 'Зеленополье' 'Речное' 'Акбасты' 'Буркиттау'\n, 'Поленовец' 'Березиноск' 'Ручейник' 'Теплоград' 'Островополь' 'Ручейницк'\n, 'Верхозолотск' 'Заречнаярово' 'Глинолес' 'Синегориново' 'Талдысай'\n, 'Островярово' 'Кристалинск' 'Зоревичск' 'Зореполин' 'Медвежник'\n, 'Светоярич' 'Горнополянск' 'Светоярчик' 'Шынгысай' 'Горнополье'\n, 'Поленоозёрово' 'Лугиново' 'Малиноворск' 'Долиновка' 'Яблоневое'\n, 'Поленосветск' 'Нивинск' 'Берёзиново' 'Горнополяровск' 'Лугоград'\n, 'Ручейный' 'Малиновец' 'Дальнозерск' 'Ручейновинск' 'Глиногорь'\n, 'Ключевогорск' 'Лесореченск' 'Медовецк' 'Желтоксан' 'Каменояр'\n, 'Светогория' 'Светочистенск' 'Лесозерск' 'Вишнёводск' 'Светозёринск'\n, 'Тулебайск' 'Поленояр' 'Бурьяново' 'Лесогорич' 'Лесогорский' 'Крутово'\n, 'Зелёново' 'Сосновинск' 'Заречка' 'Зоревец' 'Берестовец' 'Серебровка'\n, 'Ягодинск' 'Нуртас' 'Шалкартау' 'Лесинск' 'Желтау' 'Травяночистск'\n, 'Солнечелесье' 'Поленовичи' 'Желкаин' 'Каменогорье' 'Зелёнояр' 'Горяново'\n, 'Солнечёвино' 'Кристаловка' 'Солнечеводск' 'Бозарык' 'Зеленополин'\n, 'Медовино' 'Светополь' 'Глинозорь' 'Ясногорец' 'Белоярск' 'Солнечейск'\n, 'Златоозёрово' 'Крутоводинск' 'Луговинец' 'Островенск' 'Верховка'\n, 'Речиноград' 'Кумсары' 'Каменевовск' 'Дальнолесье' 'Тихозорин'\n, 'Каменозолото' 'Малиновочист' 'Голубино' 'Зареченец' 'Берёзополье'\n, 'Зеленоградовск' 'Светоречин' 'Синегорск' 'Долиновск' 'Лесоярка'\n, 'Лесодолинск' 'Тастай' 'Мироярово' 'Заречинск' 'Ягодинец' 'Тихолесье'\n, 'Ягодино' 'Миросветск' 'Яблоневск' 'Заречийск' 'Тепляковск' 'Горнолуг'\n, 'Березовцево' 'Зелёнаярово' 'Речевинец' 'Соловьёвка' 'Родничанск'\n, 'Ветеринск' 'Светозолотск' 'Ключеводск' 'Каменевск' 'Тихоозёрск'\n, 'Ручейковск' 'Медвежанск' 'Серебринск' 'Алтынсай' 'Озёряновск'\n, 'Островозёров' 'Тиходеревск' 'Лесогорск' 'Малиновинск' 'Кристаловец'\n, 'Глинореч' 'Ташбулак' 'Радужовинск' 'Тогусжол' 'Березиногорск'\n, 'Горицветск' 'Яблоновец' 'Зеленолесье' 'Кызылжол' 'Горноград'\n, 'Златополье' 'Горнополёк' 'Радужнаярова' 'Дальнозелен' 'Ясносветск'\n, 'Ясногородин' 'Зеленогорье' 'Шынартас' 'Крутоводск' 'Кристальевка'\n, 'Светозорск' 'Ягодиноск' 'Беловодск' 'Медвежиновск' 'Поляновск'\n, 'Ключезолотск' 'Зеленополец' 'Полянск' 'Светоярово' 'Глинополин'\n, 'Златоречинск' 'Яснолесье' 'Травяниково' 'Берестяград' 'Кристалин'\n, 'Ягодинска' 'Мирополь' 'Байкуль' 'Горноставинск' 'Тепляровск' 'Реченогор'\n, 'Луновка' 'Озёроград' 'Байтерековск' 'Лесочистка' 'Ключевинск'\n, 'Поленолесье' 'Глинозолото' 'Каменодолин' 'Заречнинск' 'Сосновогорск'\n, 'Бережанск' 'Алтынкала' 'Карасуйск' 'Северобережье' 'Солнечеград'\n, 'Берёзодальн' 'Айсуак' 'Ясновский' 'Островсков' 'Берёзореч' 'Верхозорье'\n, 'Ключеград' 'Сарыбулак' 'Берёзоречье' 'Голубевск' 'Дальнеград'\n, 'Радужновка' 'Североград' 'Ручьевино' 'Светлоярск' 'Берёзовка' 'Каражол'\n, 'Реченск' 'Светочистка' 'Ягодиноград' 'Зориново' 'Каменогорский'\n, 'Малиновецк' 'Кристолесье' 'Каменевский' 'Нежинск' 'Берёзогорск'\n, 'Златоречье' 'Поленоград' 'Лесиново' 'Острововск' 'Карасуй' 'Мироград'\n, 'Травино' 'Заречник' 'Тихогорово' 'Сарытау' 'Акжолтау' 'Айкольск'\n, 'Горнолесье' 'Миролесье' 'Солнечеполье' 'Лесополин' 'Синеполинск'\n, 'Солнечегорск' 'Бережанка' 'Чистояр' 'Поляноречинск' 'Байсары' 'Песчанец'\n, 'Крутовичи' 'Глинополянск' 'Каменичи' 'Радугорь' 'Озёроярск']\n,Количество уникальных значений: 352\n,\n,Столбец 'venue_name':\n,['Сценический центр \"Деталь\" Групп'\n, 'Музыкальная школа для детей \"Аккаунт\" Лтд'\n, 'Музей истории \"Воспоминание\" Групп' ...\n, 'Фонд искусств \"Синие\" и партнеры'\n, 'Образовательное учреждение искусства \"Эксперт\" Инкорпорэйтед'\n, 'Клуб стендап-комедии \"Традиция\" и партнеры']\n,Количество уникальных значений: 3217\n,\n,Столбец 'venue_address':\n,['алл. Машиностроителей, д. 19 стр. 6' 'алл. Шмидта, д. 9 стр. 4'\n, 'наб. Тамбовская, д. 1/4 к. 577' ... 'наб. Выгонная, д. 6/9'\n, 'пер. 70 лет Октября, д. 9 стр. 4/7' 'пр. Коммунаров, д. 86']\n,Количество уникальных значений: 3225\n,\n,Столбец 'data':\n,['2024-08-20' '2024-07-23' '2024-07-21' '2024-08-17' '2024-07-25'\n, '2024-08-29' '2024-10-21' '2024-09-11' '2024-07-22' '2024-10-11'\n, '2024-10-23' '2024-10-22' '2024-10-24' '2024-08-24' '2024-07-02'\n, '2024-07-09' '2024-09-23' '2024-07-16' '2024-10-30' '2024-08-23'\n, '2024-07-10' '2024-07-29' '2024-09-14' '2024-09-09' '2024-10-26'\n, '2024-10-27' '2024-06-28' '2024-07-17' '2024-10-17' '2024-08-01'\n, '2024-07-08' '2024-08-04' '2024-08-06' '2024-07-31' '2024-10-31'\n, '2024-08-26' '2024-10-19' '2024-07-26' '2024-10-20' '2024-08-25'\n, '2024-06-09' '2024-08-12' '2024-10-18' '2024-08-22' '2024-10-08'\n, '2024-07-20' '2024-07-12' '2024-07-13' '2024-08-16' '2024-07-15'\n, '2024-07-19' '2024-07-30' '2024-08-10' '2024-08-09' '2024-10-29'\n, '2024-07-04' '2024-08-05' '2024-08-28' '2024-07-07' '2024-10-07'\n, '2024-07-24' '2024-06-21' '2024-10-16' '2024-08-02' '2024-10-06'\n, '2024-10-04' '2024-10-05' '2024-10-03' '2024-10-25' '2024-10-12'\n, '2024-10-28' '2024-10-02' '2024-10-14' '2024-07-28' '2024-09-20'\n, '2024-10-09' '2024-08-19' '2024-06-20' '2024-09-25' '2024-09-27'\n, '2024-06-17' '2024-10-13' '2024-09-29' '2024-09-19' '2024-06-24'\n, '2024-08-14' '2024-06-26' '2024-06-16' '2024-08-11' '2024-08-30'\n, '2024-06-11' '2024-08-21' '2024-09-24' '2024-06-25' '2024-09-03'\n, '2024-08-27' '2024-09-21' '2024-08-31' '2024-09-22' '2024-09-17'\n, '2024-10-01' '2024-08-08' '2024-10-15' '2024-09-07' '2024-09-28'\n, '2024-10-10' '2024-06-30' '2024-08-03' '2024-09-13' '2024-09-16'\n, '2024-06-27' '2024-09-12' '2024-06-13' '2024-09-05' '2024-08-07'\n, '2024-09-10' '2024-06-04' '2024-09-30' '2024-09-02' '2024-08-18'\n, '2024-09-26' '2024-08-13' '2024-06-08' '2024-06-29' '2024-07-05'\n, '2024-09-04' '2024-09-01' '2024-09-15' '2024-09-06' '2024-09-08'\n, '2024-06-05' '2024-08-15' '2024-06-12' '2024-07-11' '2024-09-18'\n, '2024-06-15' '2024-07-06' '2024-07-14' '2024-06-18' '2024-07-27'\n, '2024-06-07' '2024-06-03' '2024-06-22' '2024-06-23' '2024-07-18'\n, '2024-06-10' '2024-06-19' '2024-06-02' '2024-06-06' '2024-07-01'\n, '2024-06-01' '2024-07-03' '2024-06-14']\n,Количество уникальных значений: 153\n,\n,Столбец 'cdx':\n,['kzt']\n,Количество уникальных значений: 1\n,\n,Столбец 'season':\n,['лето' 'осень']\n,Количество уникальных значений: 2\n"
        }
      ],
      "execution_count": 15
    },
    {
      "cell_type": "markdown",
      "source": " - Анализ категориальных переменных показал:\n\n\nuser_id: Много уникальных значений (21933), каждый ID - отдельный пользователь.\n\ncreated_dt_msk: 153 уникальные даты в диапазоне с 2024-06-01 по 2024-10-31. Привести к типу datetime.\n\ncinema_circuit: 6 киносетей.\n\ncurrency_code: 2 используемые валюты (rub, kzt).\n\ndevice_type_canonical: 2 типа устройств (mobile, desktop).\n\nservice_name: 36 сервисов продажи билетов.\n\nevent_name: Очень много уникальных названий событий (15248) \n\nevent_type_description: 20 типов событий.\n\nevent_type_main: 7 основных категорий событий.\n\norganizers: 4293 организатора.\n\nregion_name: 81 регион. Объединить малочисленные в \"Другие\".\n\ncity_name: 359 городов. Объединить малочисленные в \"Другие\".",
      "metadata": {}
    },
    {
      "cell_type": "code",
      "source": "# 3.7: Анализ количественных переменных и выбросов\nprint(\"\\nСтатистические показатели количественных переменных:\")\nprint(merged_df[['revenue', 'tickets_count', 'revenue_rub', 'one_ticket_revenue_rub']].describe())\n",
      "metadata": {},
      "outputs": [
        {
          "name": "stdout",
          "output_type": "stream",
          "text": "\n,Статистические показатели количественных переменных:\n,             revenue  tickets_count    revenue_rub  one_ticket_revenue_rub\n,count  290611.000000  290611.000000  290611.000000           290611.000000\n,mean      625.584360       2.754311     555.571987              201.189419\n,std      1227.693064       1.170620     875.498172              302.852946\n,min       -90.760000       1.000000     -90.760000              -18.152000\n,25%       116.850000       2.000000     113.970000               46.820000\n,50%       356.010000       3.000000     351.140000              149.710000\n,75%       810.130000       4.000000     802.050000              308.700000\n,max     81174.540000      57.000000   81174.540000            21757.540000\n"
        }
      ],
      "execution_count": 16
    },
    {
      "cell_type": "code",
      "source": "# Предположим, что ваш DataFrame называется merged_df, а столбец с выручкой - 'revenue_rub'\nQ1 = merged_df['revenue_rub'].quantile(0.25)\nQ3 = merged_df['revenue_rub'].quantile(0.75)\nIQR = Q3 - Q1\n\n# Определим верхнюю границу выбросов (можно настроить коэффициент)\nupper_bound = Q3 +  3* IQR  #3 - коэф\n\n# Фильтруем DataFrame, чтобы найти выбросы\noutliers = merged_df[merged_df['revenue_rub'] > upper_bound]\n\n# Рассчитываем долю выбросов от общего количества данных\noutlier_percentage = (len(outliers) / len(merged_df)) * 100\n\nprint(f\"Доля выбросов: {outlier_percentage:.2f}%\")",
      "metadata": {},
      "outputs": [
        {
          "name": "stdout",
          "output_type": "stream",
          "text": "Доля выбросов: 0.65%\n"
        }
      ],
      "execution_count": 17
    },
    {
      "cell_type": "markdown",
      "source": " - Анализ количественных переменных:\n\n\nrevenue/revenue_rub: Средняя выручка 555-625, большой разброс, может быть связано с днями когда были какие то крупные фестивали или концерты.\n\ntickets_count: В среднем ~2.7 билета, макс. 57 (выброс).\n\none_ticket_revenue_rub: Средняя цена билета ~201, большой разброс, макс. 21757 (выброс).\n\nЕсть отрицательные значения воможно это связано с возвратом ДС клиенту.",
      "metadata": {}
    },
    {
      "cell_type": "code",
      "source": "# Гистограммы распределения\nmerged_df[['revenue', 'tickets_count', 'revenue_rub', 'one_ticket_revenue_rub']].hist(bins=30, figsize=(15, 10))\nplt.suptitle('Гистограммы распределения количественных переменных', fontsize=16)\nplt.show()\n\n\n# Диаграммы размаха\nplt.figure(figsize=(15, 5))\nsns.boxplot(data=merged_df[['revenue', 'tickets_count', 'revenue_rub', 'one_ticket_revenue_rub']])\nplt.title('Диаграммы размаха количественных переменных')\nplt.show()\n\n# Анализ выбросов в выручке (revenue)\nprint(\"\\nВыбросы в выручке (revenue):\")\n# Разделим на рубли и тенге для анализа\nrub_revenue = merged_df[merged_df['currency_code'] == 'rub']['revenue']\nkzt_revenue = merged_df[merged_df['currency_code'] == 'kzt']['revenue']\n\nprint(\"\\nРублевая выручка:\")\nprint(rub_revenue.describe())\nprint(\"\\nТенговая выручка:\")\nprint(kzt_revenue.describe())",
      "metadata": {},
      "outputs": [
        {
          "data": {
            "image/png": "[encoded data removed]",
            "text/plain": [
              "<Figure size 1080x720 with 4 Axes>"
            ]
          },
          "metadata": {
            "needs_background": "light"
          },
          "output_type": "display_data"
        },
        {
          "data": {
            "image/png": "[encoded data removed]",
            "text/plain": [
              "<Figure size 1080x360 with 1 Axes>"
            ]
          },
          "metadata": {
            "needs_background": "light"
          },
          "output_type": "display_data"
        },
        {
          "name": "stdout",
          "output_type": "stream",
          "text": "\n,Выбросы в выручке (revenue):\n,\n,Рублевая выручка:\n,count    285542.000000\n,mean        548.013929\n,std         871.750181\n,min         -90.760000\n,25%         114.170000\n,50%         346.630000\n,75%         793.320000\n,max       81174.540000\n,Name: revenue, dtype: float64\n,\n,Тенговая выручка:\n,count     5069.000000\n,mean      4995.206767\n,std       4916.752776\n,min          0.000000\n,25%        518.100000\n,50%       3698.830000\n,75%       7397.660000\n,max      26425.860000\n,Name: revenue, dtype: float64\n"
        }
      ],
      "execution_count": 18
    },
    {
      "cell_type": "code",
      "source": "# 99-й процентиль для рублевой выручки\nrub_99_percentile = rub_revenue.quantile(0.99)\nprint(f\"\\nРублевая выручка (99-й процентиль): {rub_99_percentile}\")\n\n# 99-й процентиль для тенговой выручки\nkzt_99_percentile = kzt_revenue.quantile(0.99)\nprint(f\"Тенговая выручка (99-й процентиль): {kzt_99_percentile}\")\n\n# Отфильтруем выбросы по 99-му процентилю \nmerged_df_filtered = merged_df[((merged_df['currency_code'] == 'rub') & (merged_df['revenue'] <= rub_99_percentile)) |\n                               ((merged_df['currency_code'] == 'kzt') & (merged_df['revenue'] <= kzt_99_percentile)) |\n                               (merged_df['currency_code'] != 'rub' ) & (merged_df['currency_code'] != 'kzt')]  # Оставляем заказы в других валютах, если есть\n\nprint(\"\\nРазмер DataFrame после фильтрации выбросов:\", merged_df_filtered.shape)",
      "metadata": {},
      "outputs": [
        {
          "name": "stdout",
          "output_type": "stream",
          "text": "\n,Рублевая выручка (99-й процентиль): 2570.8\n,Тенговая выручка (99-й процентиль): 17617.24\n,\n,Размер DataFrame после фильтрации выбросов: (287782, 33)\n"
        }
      ],
      "execution_count": 19
    },
    {
      "cell_type": "code",
      "source": "# Посчитаем долю срезанных данных\nQ1 = merged_df['revenue_rub'].quantile(0.25)\nQ3 = merged_df['revenue_rub'].quantile(0.75)\nIQR = Q3 - Q1\n\n# Определим верхнюю границу выбросов (можно настроить коэффициент)\nupper_bound = Q3 +  3* IQR  #3 - коэф\n\n# Фильтруем DataFrame, чтобы найти выбросы\noutliers = merged_df[merged_df['revenue_rub'] > upper_bound]\n\n# Рассчитываем долю выбросов от общего количества данных\noutlier_percentage = (len(outliers) / len(merged_df)) * 100\n\nprint(f\"Доля выбросов: {outlier_percentage:.2f}%\")",
      "metadata": {},
      "outputs": [
        {
          "name": "stdout",
          "output_type": "stream",
          "text": "Доля выбросов: 0.65%\n"
        }
      ],
      "execution_count": 20
    },
    {
      "cell_type": "markdown",
      "source": "### Промежуточный вывод:\n\nДанные загружены и объединены:\n\nИсходные таблицы: df_orders, df_events, df_tenge.\nИтоговый датафрейм merged_df содержит все ключевые данные для анализа.\nКоличество строк и колонок в объединённом датафрейме:\n\nОколо 290 тысяч строк.\n28 столбцов (объединены признаки заказов, мероприятий и курса тенге).\nКачество данных:\n\nОтсутствуют дубликаты в merged_df.\n\nТак же обнаружено 6064 неявных дубликатов. На примере нескольких строк показано, что пары записей отличаются только по order_id и created_ts_msk, но совпадают по другим полям: user_id, event_id, city_name, venue_name, revenue и другим.Скорее всего это может быть свзяно что один и тоже пользователь может делать заказы неоднократно за день.\n\nПропуски есть только в поле days_since_prev (около 22 тысяч строк), что логично для первых заказов пользователей.По этому пропуски оставим без изменений.\n\nВ итоге пропуски и дубли решено было оставить как.\n\nТакже провели преобразование даты в datetime \n\nАнализ выручки в рублях (rub):\nКоличество наблюдений достаточно большое — 285542 значений.\nСредняя выручка — около 548 рублей.\nМедиана (50% квантиль) — 346.63 рубля, что существенно ниже среднего, указывает на ассиметрию распределения вправо (наличие больших значений, которые тянут среднее вверх).\n25% и 75% квантиль: 114.17 и 793.32 — значит, половина данных сосредоточена в широком диапазоне.\nМинимальное значение отрицательное (-90.76 рубля) — вероятно, это ошибка или возврат/коррекция, требует проверки.\nМаксимальное значение очень большое (81174.54 рубля), что говорит о наличии выбросов.\nвыручка в рублях (revenue_rub) совпадает с изначальной для рублёвых заказов;\nТакже -посчитана выручка за один билет (one_ticket_revenue_rub);\nопределён месяц и сезон.\n\nБыли созданы дополнительные столбцы\n\nrevenue_rub - выручка в руб.\none_ticket_revenue_rub - выручка с одного билета\nmonth - месяц (номер)\nseason - сезон\n",
      "metadata": {}
    },
    {
      "cell_type": "markdown",
      "source": "Расчет доли \"срезанных\" данных (выбросов): Анализ выбросов проводился на основе столбца revenue_rub, поскольку большая часть транзакций совершается в рублях. Выбросы определялись как значения, превышающие Q3 + 3 * IQR. Доля выбросов, определенных на основе revenue_rub, составляет 0.69% от общего объема данных.  На данном этапе данные по выбросам мы их не удаляем.]",
      "metadata": {}
    },
    {
      "cell_type": "markdown",
      "source": "# Исследовательский анализ данных",
      "metadata": {}
    },
    {
      "cell_type": "markdown",
      "source": "###  Анализ распределения заказов по сегментам и их сезонные изменения",
      "metadata": {}
    },
    {
      "cell_type": "markdown",
      "source": "- Помесячная динамика заказов (проверка роста с июня к ноябрю 2024)",
      "metadata": {}
    },
    {
      "cell_type": "code",
      "source": "sns.set(style='whitegrid')\nplt.rcParams.update({'figure.figsize': (11,5)})\n\n# order_id в данных — используем его, иначе replace на индекс или другую колонку уникального заказа\norder_col = 'order_id' if 'order_id' in merged_df.columns else None\n\n# фильтр по 2024 (при необходимости поменяйте год)\ndf24 = merged_df[merged_df['created_ts_msk'].dt.year == 2024].copy()",
      "metadata": {},
      "outputs": [],
      "execution_count": 21
    },
    {
      "cell_type": "code",
      "source": "# помесячные количества заказов\nif order_col:\n    monthly = df24.groupby(df24['created_ts_msk'].dt.to_period('M')).agg(orders=(order_col,'nunique')).reset_index()\nelse:\n    monthly = df24.groupby(df24['created_ts_msk'].dt.to_period('M')).agg(orders=('created_ts_msk','count')).reset_index()\n\nmonthly['month_dt'] = monthly['created_ts_msk'].dt.to_timestamp()\nmonthly = monthly.sort_values('month_dt')",
      "metadata": {},
      "outputs": [],
      "execution_count": 22
    },
    {
      "cell_type": "code",
      "source": "# график\nplt.figure(figsize=(12,4))\nsns.lineplot(data=monthly, x='month_dt', y='orders', marker='o')\nplt.title('Помесячное количество заказов (2024)')\nplt.xlabel('')\nplt.xticks(rotation=45)\nplt.ylabel('Количество заказов')\nplt.tight_layout()\nplt.show()",
      "metadata": {},
      "outputs": [
        {
          "data": {
            "image/png": "[encoded data removed]",
            "text/plain": [
              "<Figure size 864x288 with 1 Axes>"
            ]
          },
          "metadata": {},
          "output_type": "display_data"
        }
      ],
      "execution_count": 23
    },
    {
      "cell_type": "code",
      "source": "# month_dt — datetime\nmonthly['period'] = monthly['month_dt'].dt.to_period('M')\n\njun = monthly.loc[monthly['period'] == pd.Period('2024-06'), 'orders'].sum()\noct_ = monthly.loc[monthly['period'] == pd.Period('2024-10'), 'orders'].sum()  # октябрь = 10\nnov = monthly.loc[monthly['period'] == pd.Period('2024-11'), 'orders'].sum()   # ноябрь = 11\n\nprint(f\"Июнь 2024: {jun} заказов; Октябрь 2024: {oct_} заказов; Ноябрь 2024: {nov} заказов\")\n\ndef rel_change(old, new):\n    if old == 0 and new == 0:\n        return 0.0\n    if old == 0:\n        return float('inf')  # или None / np.nan — по смыслу\n    return (new - old) / old\n\n# пример: октябрь vs июнь\nif jun == 0:\n    print(\"Июнь = 0, относительное изменение вычислить невозможно.\")\nelse:\n    print(f\"Относительное изменение (Oct vs Jun): {rel_change(jun, oct_):.2%}\")\n",
      "metadata": {},
      "outputs": [
        {
          "name": "stdout",
          "output_type": "stream",
          "text": "Июнь 2024: 34504 заказов; Октябрь 2024: 100210 заказов; Ноябрь 2024: 0 заказов\n,Относительное изменение (Oct vs Jun): 190.43%\n"
        }
      ],
      "execution_count": 24
    },
    {
      "cell_type": "code",
      "source": "def season_shares(df, col, season_col='season', top_n=12, order_col=None):\n    sel = df[df[season_col].isin(['лето', 'осень'])].copy()\n\n    # считаем заказы (или строки)\n    if order_col and order_col in sel.columns:\n        grp = sel.groupby([season_col, col])[order_col].nunique().reset_index(name='orders')\n    else:\n        grp = sel.groupby([season_col, col]).size().reset_index(name='orders')\n\n    # доли внутри сезона\n    grp['season_total'] = grp.groupby(season_col)['orders'].transform('sum')\n    grp['share'] = grp['orders'] / grp['season_total']\n\n    # топ-N категорий по суммарным заказам (лето+осень); остальные — 'Другие'\n    top = grp.groupby(col)['orders'].sum().nlargest(top_n).index.tolist()\n    grp[col] = grp[col].where(grp[col].isin(top), 'Другие')\n\n    # агрегируем уже с объединёнными категориями\n    pivot_share = grp.groupby([col, season_col])[['orders', 'share']].sum().reset_index()\n\n    # делаем pivot по долям (лето/осень)\n    pivot = pivot_share.pivot(index=col, columns=season_col, values='share').fillna(0).reset_index()\n\n    return pivot.sort_values(by=list([c for c in ['лето','осень'] if c in pivot.columns]), ascending=False)\n",
      "metadata": {},
      "outputs": [],
      "execution_count": 25
    },
    {
      "cell_type": "code",
      "source": "# Применение:\npivot_event = season_shares(df24, 'event_type_main', top_n=12)\npivot_device = season_shares(df24, 'device_type_canonical', top_n=6)\n",
      "metadata": {},
      "outputs": [],
      "execution_count": 26
    },
    {
      "cell_type": "code",
      "source": "# Визуализация \ndef plot_season_share(pivot, cat_col, title):\n    data = pivot.melt(id_vars=[cat_col], value_vars=['лето','осень'], var_name='season', value_name='share')\n    plt.figure(figsize=(10, max(4, len(pivot)*0.4)))\n    sns.barplot(data=data, x='share', y=cat_col, hue='season')\n    plt.xlabel('Доля заказов в сезоне')\n    plt.title(title)\n    plt.xlim(0, data['share'].max()*1.1)\n    plt.legend(title='')\n    plt.tight_layout()\n    plt.show()",
      "metadata": {},
      "outputs": [],
      "execution_count": 27
    },
    {
      "cell_type": "code",
      "source": "plot_season_share(pivot_event, 'event_type_main', 'Доли заказов по event_type_main: лето vs осень (top)')\nplot_season_share(pivot_device, 'device_type_canonical', 'Доли заказов по устройствам: лето vs осень')",
      "metadata": {},
      "outputs": [
        {
          "data": {
            "image/png": "[encoded data removed]",
            "text/plain": [
              "<Figure size 720x288 with 1 Axes>"
            ]
          },
          "metadata": {},
          "output_type": "display_data"
        },
        {
          "data": {
            "image/png": "[encoded data removed]",
            "text/plain": [
              "<Figure size 720x288 with 1 Axes>"
            ]
          },
          "metadata": {},
          "output_type": "display_data"
        }
      ],
      "execution_count": 28
    },
    {
      "cell_type": "code",
      "source": "# Доля заказов по возврасту в разрезе сезона\ndef season_shares_plot(df, col, season_col='season', top_n=8, order_col=None, seasons=('лето','осень')):\n    df = df.copy()\n    df[season_col] = df[season_col].astype(str).str.strip()\n    df = df[df[season_col].isin(seasons)]\n    if order_col and order_col in df.columns:\n        g = df.groupby([season_col, col])[order_col].nunique().reset_index(name='orders')\n    else:\n        g = df.groupby([season_col, col]).size().reset_index(name='orders')\n    top = g.groupby(col)['orders'].sum().nlargest(top_n).index\n    g[col] = g[col].where(g[col].isin(top), 'Другие')\n    g = g.groupby([season_col, col])['orders'].sum().reset_index()\n    g['share'] = g['orders'] / g.groupby(season_col)['orders'].transform('sum')\n    p = g.pivot(index=col, columns=season_col, values='share').fillna(0).reset_index()\n    p[col] = p[col].astype(str)\n    # plot\n    seasons_present = [s for s in seasons if s in p.columns]\n    cats = p[col].tolist(); n=len(cats); ind=np.arange(n)\n    w_total=0.8; w=w_total/max(1,len(seasons_present))\n    plt.figure(figsize=(8, max(3, n*0.35)))\n    for i,s in enumerate(seasons_present):\n        vals=p[s].values; pos=ind - w_total/2 + i*w + w/2\n        plt.barh(pos, vals, height=w*0.9, label=s)\n        for x,y in zip(vals,pos): plt.text(x+0.01,y,f\"{x:.1%}\",va='center',fontsize=9)\n    plt.yticks(ind,cats); plt.gca().invert_yaxis(); plt.xlim(0, max(1.0, p[seasons_present].values.max())*1.1)\n    plt.legend(); plt.tight_layout(); plt.show()\n    return p\n\npivot_age = season_shares_plot(df24, 'age_limit', top_n=8)\nprint(pivot_age)              # печать таблицы\n",
      "metadata": {},
      "outputs": [
        {
          "data": {
            "image/png": "[encoded data removed]",
            "text/plain": [
              "<Figure size 576x216 with 1 Axes>"
            ]
          },
          "metadata": {},
          "output_type": "display_data"
        },
        {
          "name": "stdout",
          "output_type": "stream",
          "text": "season age_limit      лето     осень\n,0              0  0.179473  0.234300\n,1              6  0.182387  0.177435\n,2             12  0.205977  0.221343\n,3             16  0.282407  0.261754\n,4             18  0.149756  0.105168\n"
        }
      ],
      "execution_count": 29
    },
    {
      "cell_type": "code",
      "source": "# считаем среднюю выручку по event_type_main и сезону\nrev = df24[df24['season'].isin(['лето','осень'])].groupby(['event_type_main','season']).agg(\n    mean_ticket=('one_ticket_revenue_rub','mean'),\n    median_ticket=('one_ticket_revenue_rub','median'),\n    n=('one_ticket_revenue_rub','count')\n).reset_index()\n\n# pivot для расчёта относительного изменения\nrev_pivot = rev.pivot(index='event_type_main', columns='season', values=['mean_ticket','n'])\n# упрощаем имена колонок\nrev_pivot.columns = ['_'.join(col).strip() for col in rev_pivot.columns.values]\nrev_pivot = rev_pivot.reset_index().fillna(0)\n\n# относительное изменение: (осень - лето) / лето\nrev_pivot['rel_change'] = np.where(rev_pivot['mean_ticket_лето'] > 0,\n                                   (rev_pivot['mean_ticket_осень'] - rev_pivot['mean_ticket_лето']) / rev_pivot['mean_ticket_лето'],\n                                   np.nan)\n\n# Относительное изменение в процентах\nrev_pivot['rel_change_percent'] = rev_pivot['rel_change'] * 100\n\n# таблица с сортировкой по объёму наблюдений или по абсолютному изменению\ndisplay_cols = ['event_type_main','mean_ticket_лето','mean_ticket_осень','rel_change','n_лето','n_осень']\ndisplay_df = rev_pivot[display_cols].sort_values('n_осень', ascending=False)\ndisplay_df.head(30)\n",
      "metadata": {},
      "outputs": [
        {
          "data": {
            "text/html": [
              "<div>\n",
              "<style scoped>\n",
              "    .dataframe tbody tr th:only-of-type {\n",
              "        vertical-align: middle;\n",
              "    }\n",
              "\n",
              "    .dataframe tbody tr th {\n",
              "        vertical-align: top;\n",
              "    }\n",
              "\n",
              "    .dataframe thead th {\n",
              "        text-align: right;\n",
              "    }\n",
              "</style>\n",
              "<table border=\"1\" class=\"dataframe\">\n",
              "  <thead>\n",
              "    <tr style=\"text-align: right;\">\n",
              "      <th></th>\n",
              "      <th>event_type_main</th>\n",
              "      <th>mean_ticket_лето</th>\n",
              "      <th>mean_ticket_осень</th>\n",
              "      <th>rel_change</th>\n",
              "      <th>n_лето</th>\n",
              "      <th>n_осень</th>\n",
              "    </tr>\n",
              "  </thead>\n",
              "  <tbody>\n",
              "    <tr>\n",
              "      <th>2</th>\n",
              "      <td>концерты</td>\n",
              "      <td>319.079883</td>\n",
              "      <td>286.757220</td>\n",
              "      <td>-0.101300</td>\n",
              "      <td>51539.0</td>\n",
              "      <td>63737.0</td>\n",
              "    </tr>\n",
              "    <tr>\n",
              "      <th>5</th>\n",
              "      <td>театр</td>\n",
              "      <td>222.528475</td>\n",
              "      <td>183.047178</td>\n",
              "      <td>-0.177421</td>\n",
              "      <td>24215.0</td>\n",
              "      <td>43106.0</td>\n",
              "    </tr>\n",
              "    <tr>\n",
              "      <th>1</th>\n",
              "      <td>другое</td>\n",
              "      <td>81.091084</td>\n",
              "      <td>77.107792</td>\n",
              "      <td>-0.049121</td>\n",
              "      <td>32575.0</td>\n",
              "      <td>33292.0</td>\n",
              "    </tr>\n",
              "    <tr>\n",
              "      <th>3</th>\n",
              "      <td>спорт</td>\n",
              "      <td>54.112065</td>\n",
              "      <td>52.132324</td>\n",
              "      <td>-0.036586</td>\n",
              "      <td>3013.0</td>\n",
              "      <td>18898.0</td>\n",
              "    </tr>\n",
              "    <tr>\n",
              "      <th>4</th>\n",
              "      <td>стендап</td>\n",
              "      <td>227.070677</td>\n",
              "      <td>249.963862</td>\n",
              "      <td>0.100820</td>\n",
              "      <td>6401.0</td>\n",
              "      <td>6992.0</td>\n",
              "    </tr>\n",
              "    <tr>\n",
              "      <th>0</th>\n",
              "      <td>выставки</td>\n",
              "      <td>86.388607</td>\n",
              "      <td>91.066619</td>\n",
              "      <td>0.054151</td>\n",
              "      <td>2417.0</td>\n",
              "      <td>2437.0</td>\n",
              "    </tr>\n",
              "    <tr>\n",
              "      <th>6</th>\n",
              "      <td>ёлки</td>\n",
              "      <td>276.388228</td>\n",
              "      <td>234.503838</td>\n",
              "      <td>-0.151542</td>\n",
              "      <td>276.0</td>\n",
              "      <td>1713.0</td>\n",
              "    </tr>\n",
              "  </tbody>\n",
              "</table>\n",
              "</div>"
            ],
            "text/plain": [
              "  event_type_main  mean_ticket_лето  mean_ticket_осень  rel_change   n_лето  \\\n",
              "2        концерты        319.079883         286.757220   -0.101300  51539.0   \n",
              "5           театр        222.528475         183.047178   -0.177421  24215.0   \n",
              "1          другое         81.091084          77.107792   -0.049121  32575.0   \n",
              "3           спорт         54.112065          52.132324   -0.036586   3013.0   \n",
              "4         стендап        227.070677         249.963862    0.100820   6401.0   \n",
              "0        выставки         86.388607          91.066619    0.054151   2417.0   \n",
              "6            ёлки        276.388228         234.503838   -0.151542    276.0   \n",
              "\n",
              "   n_осень  \n",
              "2  63737.0  \n",
              "5  43106.0  \n",
              "1  33292.0  \n",
              "3  18898.0  \n",
              "4   6992.0  \n",
              "0   2437.0  \n",
              "6   1713.0  "
            ]
          },
          "execution_count": 30,
          "metadata": {},
          "output_type": "execute_result"
        }
      ],
      "execution_count": 30
    },
    {
      "cell_type": "code",
      "source": "# Визуализация (по топ-N типов):\ntopN = 12\ntop_types = display_df.sort_values(['n_лето','n_осень'], ascending=False).head(topN)['event_type_main'].tolist()\nviz = rev_pivot[rev_pivot['event_type_main'].isin(top_types)].copy()\nviz_melt = viz.melt(id_vars=['event_type_main','rel_change'], value_vars=['mean_ticket_лето','mean_ticket_осень'],\n                    var_name='season', value_name='mean_ticket')\nviz_melt['season'] = viz_melt['season'].map({'mean_ticket_лето':'лето','mean_ticket_осень':'осень'})\n\nplt.figure(figsize=(12,6))\nax = sns.barplot(data=viz_melt, x='mean_ticket', y='event_type_main', hue='season')\n\n# Добавление процентов\nfor p in ax.patches:\n    width = p.get_width()\n    height = p.get_height()\n    x, y = p.get_xy()  \n    percentage = '{:.1f}%'.format(100 * width / viz_melt['mean_ticket'].sum())\n    ax.annotate(percentage, (x + width/2, y + height/2), ha='center', va='center', color='black')  # Центрирование текста\n\nplt.xlabel('Средняя выручка с 1 билета (RUB)')\nplt.title('Относительное изменение (%) средней выручки с одного билета осенью по сравнению с летом (top {})'.format(topN))\nplt.legend(title='')\nplt.tight_layout()\nplt.show()\n",
      "metadata": {},
      "outputs": [
        {
          "data": {
            "image/png": "[encoded data removed]",
            "text/plain": [
              "<Figure size 864x432 with 1 Axes>"
            ]
          },
          "metadata": {},
          "output_type": "display_data"
        }
      ],
      "execution_count": 31
    },
    {
      "cell_type": "markdown",
      "source": "### Промежуточный вывод:\n\n- Количество заказов с 1 июня по 31 октября 2024г существенно увеличилось. Июнь 2024: 34504 заказов; Октябрь 2024: 100210 заказов; Ноябрь 2024: 0 заказов. Относительное изменение (Oct vs Jun): 190.43%\n\n - Концерты являются самым популярным событием и летом и осенью.Особенно летом.Вероятно связано с большим числом проводимых мероприятий на цлице из за погоды и летних каникул.\n \n - В разрезе устройств лидирует мобильное приложение. С большим отрывом от компюьтера ~80%(mobile) и ~20%(desktop) \n \n - По возрастным группам лидируют пользователи 16 лет и 12 лет , что харакетрно и осенью и летом показатели примерно одинковые.\n \n - Средняя выручка с одного билета в разрезе сезона тут нет однозначного лидера, но в целом летом все же выручка больше. Например Выставки и стендап имеют меньшую выручку летом чем осенью.Концерты,спорт,театр, елки другое летом выручка у них с билета больше.Это возможно связано с погодой и более широким уровнем сервиса летом. ",
      "metadata": {}
    },
    {
      "cell_type": "markdown",
      "source": "##   Осенняя активность пользователей",
      "metadata": {}
    },
    {
      "cell_type": "code",
      "source": "# Приведем столбец 'created_dt_msk' к datetime.\nmerged_df['created_dt_msk'] = pd.to_datetime(merged_df['created_dt_msk'])",
      "metadata": {},
      "outputs": [],
      "execution_count": 32
    },
    {
      "cell_type": "code",
      "source": "# Фильтрация по осенним месяцам 2024\nstart_date = pd.to_datetime('2024-09-01')\nend_date = pd.to_datetime('2024-11-01')\nmerged_df = merged_df[(merged_df['created_dt_msk'] >= start_date) & (merged_df['created_dt_msk'] <= end_date)]",
      "metadata": {},
      "outputs": [],
      "execution_count": 33
    },
    {
      "cell_type": "code",
      "source": "# 2. Анализ динамики по дням:\ndaily_activity = merged_df.groupby(merged_df['created_dt_msk'].dt.date).agg(\n    total_orders=('order_id', 'count'),\n    dau=('user_id', 'nunique'),\n    total_revenue=('revenue', 'sum'),\n    total_tickets=('tickets_count', 'sum')\n).reset_index()\n\ndaily_activity['avg_orders_per_user'] = daily_activity['total_orders'] / daily_activity['dau']\ndaily_activity['avg_ticket_price'] = daily_activity['total_revenue'] / daily_activity['total_tickets']\ndaily_activity = daily_activity.rename(columns={'created_dt_msk': 'date'})\ndaily_activity['date'] = pd.to_datetime(daily_activity['date'])",
      "metadata": {},
      "outputs": [],
      "execution_count": 34
    },
    {
      "cell_type": "code",
      "source": "## Выведим результат\ndisplay(daily_activity.head())",
      "metadata": {},
      "outputs": [
        {
          "data": {
            "text/html": [
              "<div>\n",
              "<style scoped>\n",
              "    .dataframe tbody tr th:only-of-type {\n",
              "        vertical-align: middle;\n",
              "    }\n",
              "\n",
              "    .dataframe tbody tr th {\n",
              "        vertical-align: top;\n",
              "    }\n",
              "\n",
              "    .dataframe thead th {\n",
              "        text-align: right;\n",
              "    }\n",
              "</style>\n",
              "<table border=\"1\" class=\"dataframe\">\n",
              "  <thead>\n",
              "    <tr style=\"text-align: right;\">\n",
              "      <th></th>\n",
              "      <th>date</th>\n",
              "      <th>total_orders</th>\n",
              "      <th>dau</th>\n",
              "      <th>total_revenue</th>\n",
              "      <th>total_tickets</th>\n",
              "      <th>avg_orders_per_user</th>\n",
              "      <th>avg_ticket_price</th>\n",
              "    </tr>\n",
              "  </thead>\n",
              "  <tbody>\n",
              "    <tr>\n",
              "      <th>0</th>\n",
              "      <td>2024-09-01</td>\n",
              "      <td>1348</td>\n",
              "      <td>569</td>\n",
              "      <td>797710.81</td>\n",
              "      <td>3816</td>\n",
              "      <td>2.369069</td>\n",
              "      <td>209.043713</td>\n",
              "    </tr>\n",
              "    <tr>\n",
              "      <th>1</th>\n",
              "      <td>2024-09-02</td>\n",
              "      <td>1391</td>\n",
              "      <td>580</td>\n",
              "      <td>818478.04</td>\n",
              "      <td>3747</td>\n",
              "      <td>2.398276</td>\n",
              "      <td>218.435559</td>\n",
              "    </tr>\n",
              "    <tr>\n",
              "      <th>2</th>\n",
              "      <td>2024-09-03</td>\n",
              "      <td>5124</td>\n",
              "      <td>783</td>\n",
              "      <td>1274772.31</td>\n",
              "      <td>15345</td>\n",
              "      <td>6.544061</td>\n",
              "      <td>83.074116</td>\n",
              "    </tr>\n",
              "    <tr>\n",
              "      <th>3</th>\n",
              "      <td>2024-09-04</td>\n",
              "      <td>1784</td>\n",
              "      <td>688</td>\n",
              "      <td>1003949.67</td>\n",
              "      <td>4855</td>\n",
              "      <td>2.593023</td>\n",
              "      <td>206.786750</td>\n",
              "    </tr>\n",
              "    <tr>\n",
              "      <th>4</th>\n",
              "      <td>2024-09-05</td>\n",
              "      <td>1960</td>\n",
              "      <td>745</td>\n",
              "      <td>1164323.65</td>\n",
              "      <td>5288</td>\n",
              "      <td>2.630872</td>\n",
              "      <td>220.182233</td>\n",
              "    </tr>\n",
              "  </tbody>\n",
              "</table>\n",
              "</div>"
            ],
            "text/plain": [
              "        date  total_orders  dau  total_revenue  total_tickets  \\\n",
              "0 2024-09-01          1348  569      797710.81           3816   \n",
              "1 2024-09-02          1391  580      818478.04           3747   \n",
              "2 2024-09-03          5124  783     1274772.31          15345   \n",
              "3 2024-09-04          1784  688     1003949.67           4855   \n",
              "4 2024-09-05          1960  745     1164323.65           5288   \n",
              "\n",
              "   avg_orders_per_user  avg_ticket_price  \n",
              "0             2.369069        209.043713  \n",
              "1             2.398276        218.435559  \n",
              "2             6.544061         83.074116  \n",
              "3             2.593023        206.786750  \n",
              "4             2.630872        220.182233  "
            ]
          },
          "metadata": {},
          "output_type": "display_data"
        }
      ],
      "execution_count": 35
    },
    {
      "cell_type": "markdown",
      "source": "Активность пользователей осенью 2024 заметно колеблется. В среднем, показатели стабильны, но есть пиковые дни (например, 3 и 5 сентября) с резким ростом заказов и DAU. При этом 3 сентября наблюдается снижение средней стоимости билета.\n\n\nТребуется анализ причин этих колебаний: возможно, это связано с маркетинговыми акциями, проводимыми событиями или выходными днями. Необходимо визуализировать динамику, сопоставить её с внешними факторами и изучить, как пользователи ведут себя на сайте в дни пиковой и низкой активности. Важно понять, что влияет на среднюю стоимость билета и с чем связано ее снижение 3 сентября.\n",
      "metadata": {}
    },
    {
      "cell_type": "code",
      "source": "# 3. Визуализация динамики:\nsns.set(style=\"whitegrid\")\n\nfig, axes = plt.subplots(4, 1, figsize=(15, 20))\n\nsns.lineplot(ax=axes[0], x='date', y='total_orders', data=daily_activity, marker='o')\naxes[0].set_title('Общее число заказов по дням')\naxes[0].set_xlabel('Дата')\naxes[0].set_ylabel('Число заказов')\n\n# DAU\nsns.lineplot(ax=axes[1], x='date', y='dau', data=daily_activity, marker='o')\naxes[1].set_title('DAU (количество активных пользователей) по дням')\naxes[1].set_xlabel('Дата')\naxes[1].set_ylabel('DAU')\n\n# Среднее число заказов\nsns.lineplot(ax=axes[2], x='date', y='avg_orders_per_user', data=daily_activity, marker='o')\naxes[2].set_title('Среднее число заказов на одного пользователя по дням')\naxes[2].set_xlabel('Дата')\naxes[2].set_ylabel('Среднее число заказов')\n\n# Средняя стоимость билета\nsns.lineplot(ax=axes[3], x='date', y='avg_ticket_price', data=daily_activity, marker='o')\naxes[3].set_title('Средняя стоимость одного билета по дням')\naxes[3].set_xlabel('Дата')\naxes[3].set_ylabel('Средняя стоимость билета')\n\nplt.tight_layout()\nplt.show()\n",
      "metadata": {},
      "outputs": [
        {
          "data": {
            "image/png": "[encoded data removed]",
            "text/plain": [
              "<Figure size 1080x1440 with 4 Axes>"
            ]
          },
          "metadata": {},
          "output_type": "display_data"
        }
      ],
      "execution_count": 36
    },
    {
      "cell_type": "markdown",
      "source": "1)На графике Общее число заказов по дням мы наблюдаем плавный рост активности заказов с резкими выбросами в начале сентября  и 1 октября.Желательно кточнить у заказчика что было в тот день что бы внсти ясность. Это может указвать о проведении массовых меропритий - фестивалей,концертов, а так же проведение акции мероприятия с большими скидками в эти дни и т.д.\n\n2)На графике DAU (количество активных пользователей) по дням данные уверенно идут вверх . Но есть резкие падения такого чила пользователей 15.09 и 22.09 а так же в октября. Что говорит о колебаниях DAU но вообщем осень положительно растет вверх.\n\n3)Среднее число заказов пользователем по дня - данный график практически полностью копирует график Общего числа заказов по дням.Что может подверждать то что что в дни скачков проходилии массовые мероприятия с большим количеством пользователей. \n\n4)Средняя стоимость одного билета по дням - на этом графике мы наблюдае график №1 Общее число заказов , но только перевернутый вверх ногами . где как раз пиковые падения средней цены были в начале сентября, 1 октября и в начале ноября.Что более явно указвыает на то что была какая то массовая акция по снижению цены ны билеты.",
      "metadata": {}
    },
    {
      "cell_type": "code",
      "source": "# 4. Анализ недельной цикличности:\ndaily_activity['day_of_week'] = daily_activity['date'].dt.day_name()\n\n# Функция для определения, является ли день выходным\ndef is_weekend(day):\n    return 1 if day in ['Saturday', 'Sunday'] else 0\n\ndaily_activity['is_weekend'] = daily_activity['day_of_week'].apply(is_weekend)\n\n# Сводная таблица для сравнения будней и выходных\nweekend_activity = daily_activity.groupby('is_weekend').agg(\n    avg_orders=('total_orders', 'mean'),\n    avg_dau=('dau', 'mean'),\n    avg_orders_per_user=('avg_orders_per_user', 'mean'),\n    avg_ticket_price=('avg_ticket_price', 'mean')\n).reset_index()\n\nweekend_activity['is_weekend'] = weekend_activity['is_weekend'].replace({0: 'Будни', 1: 'Выходные'})\n\nprint(weekend_activity)",
      "metadata": {},
      "outputs": [
        {
          "name": "stdout",
          "output_type": "stream",
          "text": "  is_weekend   avg_orders     avg_dau  avg_orders_per_user  avg_ticket_price\n,0      Будни  2932.977273  943.613636             3.073281        197.490201\n,1   Выходные  2419.058824  893.117647             2.685348        211.280225\n"
        }
      ],
      "execution_count": 37
    },
    {
      "cell_type": "markdown",
      "source": "### Промежуточные выводы:\n\n\nБольше заказов и пользователей в будни:  В будние дни в среднем больше заказов и больше уникальных пользователей (DAU), чем в выходные.  Это может быть связано с тем, что люди более склонны планировать развлечения (например, походы в кино или театр) заранее в будни, а в выходные принимают спонтанные решения или занимаются другими видами отдыха.\n\nБольше заказов на пользователя в будни:  В будни у каждого пользователя в среднем больше заказов, чем в выходные.  Это может говорить о том, что в будни пользователи более \"целенаправленно\" покупают билеты (например, на конкретное мероприятие), в то время как в выходные они могут просто просматривать варианты.\n\nВыше средняя цена билета в выходные:  Средняя стоимость билета немного выше в выходные дни, чем в будние.  Это может быть связано с тем, что на выходных показывают более \"премиальные\" мероприятия, которые стоят дороже.  Также может быть связано с тем, что в выходные люди менее чувствительны к цене.",
      "metadata": {}
    },
    {
      "cell_type": "markdown",
      "source": "## Популярные события и партнёры",
      "metadata": {}
    },
    {
      "cell_type": "code",
      "source": "# 1. Анализ по регионам:\nregion_activity = merged_df.groupby('region_name').agg(\n    unique_events=('event_id', 'nunique'),\n    total_orders=('order_id', 'count')\n).reset_index()\n\nregion_activity['event_share'] = region_activity['unique_events'] / region_activity['unique_events'].sum()\nregion_activity['order_share'] = region_activity['total_orders'] / region_activity['total_orders'].sum()\n\nregion_activity = region_activity.sort_values(by='total_orders', ascending=False)\n\nprint(\"\\nАнализ по регионам:\")\nprint(region_activity)",
      "metadata": {},
      "outputs": [
        {
          "name": "stdout",
          "output_type": "stream",
          "text": "\n,Анализ по регионам:\n,                 region_name  unique_events  total_orders  event_share  \\\n,23        Каменевский регион           3946         47517     0.247802   \n,59      Североярская область           2622         20899     0.164657   \n,41         Медовская область            369         12052     0.023173   \n,75       Широковская область            803          8739     0.050427   \n,44          Озернинский край            296          7579     0.018588   \n,..                       ...            ...           ...          ...   \n,47      Островогорский округ              4            18     0.000251   \n,78        Яснопольский округ              5            18     0.000314   \n,32       Крутоводский регион              5            14     0.000314   \n,5          Верхозёрский край              2            11     0.000126   \n,65  Сосноводолинская область              1             9     0.000063   \n,\n,    order_share  \n,23     0.279224  \n,59     0.122809  \n,41     0.070821  \n,75     0.051353  \n,44     0.044537  \n,..          ...  \n,47     0.000106  \n,78     0.000106  \n,32     0.000082  \n,5      0.000065  \n,65     0.000053  \n,\n,[79 rows x 5 columns]\n"
        }
      ],
      "execution_count": 38
    },
    {
      "cell_type": "code",
      "source": "# Визуализация топ-10 регионов по количеству заказов\ntop_n = 10  # Количество регионов для визуализации\n\n# Сортируем DataFrame по убыванию total_orders и выбираем топ-N\ntop_region_activity = region_activity.sort_values(by='total_orders', ascending=False).head(top_n)\n\n# Создаем bar plot для визуализации топ-N регионов\nplt.figure(figsize=(12, 6))\nax = sns.barplot(x='region_name', y='total_orders', data=top_region_activity, palette='viridis')\nplt.title(f'Топ-{top_n} регионов по количеству заказов')\nplt.xlabel('Регион')\nplt.ylabel('Количество заказов')\nplt.xticks(rotation=45, ha='right')\n\n# Добавляем подписи к столбцам\nfor p in ax.patches:\n    ax.annotate(f'{p.get_height():.0f}',  # Форматируем значение как целое число\n                (p.get_x() + p.get_width() / 2., p.get_height()),\n                ha='center', va='center',\n                xytext=(0, 9),  # Смещение подписи вверх\n                textcoords='offset points')\n\nplt.tight_layout()\nplt.show()",
      "metadata": {},
      "outputs": [
        {
          "data": {
            "image/png": "[encoded data removed]",
            "text/plain": [
              "<Figure size 864x432 with 1 Axes>"
            ]
          },
          "metadata": {},
          "output_type": "display_data"
        }
      ],
      "execution_count": 39
    },
    {
      "cell_type": "markdown",
      "source": "Лидер по общему числу заказов Каменевский район - 47517 общее число заказов, на втором месте Североярская обл.-20899 заказов и на 3 месте замыкет ТОП-3 Медовская область - 12052.",
      "metadata": {}
    },
    {
      "cell_type": "code",
      "source": "# Визуализация топ-10 регионов по количеству уникальных событий\ntop_region_activity_events = region_activity.sort_values(by='unique_events', ascending=False).head(top_n)\n\nplt.figure(figsize=(12, 6))\nax = sns.barplot(x='region_name', y='unique_events', data=top_region_activity_events, palette='plasma')  # Другая палитра для различия\nplt.title(f'Топ-{top_n} регионов по количеству уникальных событий')\nplt.xlabel('Регион')\nplt.ylabel('Количество уникальных событий')\nplt.xticks(rotation=45, ha='right')\n\nfor p in ax.patches:\n    ax.annotate(f'{p.get_height():.0f}',\n                (p.get_x() + p.get_width() / 2., p.get_height()),\n                ha='center', va='center',\n                xytext=(0, 9),\n                textcoords='offset points')\n\nplt.tight_layout()\nplt.show()",
      "metadata": {},
      "outputs": [
        {
          "data": {
            "image/png": "[encoded data removed]",
            "text/plain": [
              "<Figure size 864x432 with 1 Axes>"
            ]
          },
          "metadata": {},
          "output_type": "display_data"
        }
      ],
      "execution_count": 40
    },
    {
      "cell_type": "markdown",
      "source": "По количеству уникальных событий лидирует с большим отрывом, так же Каменевский район - 3946 на 2 месте Североярская обл. - 2622 а вот на 3 месте Широковская обл. - 803 уникальных события.",
      "metadata": {}
    },
    {
      "cell_type": "code",
      "source": "# 2. Анализ по партнерам:\npartner_activity = merged_df.groupby('service_name').agg(\n    unique_events=('event_id', 'nunique'),\n    total_orders=('order_id', 'count'),\n    total_revenue=('revenue', 'sum')\n).reset_index()\n\npartner_activity['event_share'] = partner_activity['unique_events'] / partner_activity['unique_events'].sum()\npartner_activity['order_share'] = partner_activity['total_orders'] / partner_activity['total_orders'].sum()\npartner_activity['revenue_share'] = partner_activity['total_revenue'] / partner_activity['total_revenue'].sum()\n\npartner_activity = partner_activity.sort_values(by='total_revenue', ascending=False)\n\nprint(\"\\nАнализ по партнерам:\")\nprint(partner_activity)",
      "metadata": {},
      "outputs": [
        {
          "name": "stdout",
          "output_type": "stream",
          "text": "\n,Анализ по партнерам:\n,              service_name  unique_events  total_orders  total_revenue  \\\n,3       Билеты без проблем           2855         32792    15045875.86   \n,24               Мой билет           1012         19681    12596074.23   \n,25                 Облачко           1413         15616    12459031.35   \n,21             Лови билет!           3626         25874    10645261.88   \n,8           Весь в билетах            608          9642    10170589.26   \n,5            Билеты в руки           2472         25761     7715827.26   \n,19            Край билетов            194          3062     3222585.25   \n,34                  Яблоко            538          3496     2831861.44   \n,26               Прачечная            728          5831     2647691.55   \n,30             Тебе билет!            859          3779     2223909.32   \n,13            Дом культуры            192          1798     1869152.73   \n,22           Лучшие билеты           1396         12455     1743039.99   \n,15             За билетом!            200          1744     1222787.79   \n,1              Show_ticket            204          1351     1101160.76   \n,12  Городской дом культуры            289          1738     1054292.87   \n,6              Быстробилет            133          1171      954898.62   \n,23                Мир касс            132          1002      874456.10   \n,11          Выступления.ру             81           921      636954.16   \n,33         Шоу начинается!             11           439      525061.72   \n,29                Росбилет             47           242      521959.65   \n,0            Crazy ticket!            178           550      319451.55   \n,9                Восьмёрка             92           395      252551.70   \n,31               Телебилет             12           206      113377.05   \n,14                 Дырокол              2            66      100648.16   \n,18              Кино билет              1            48       81729.24   \n,27            Радио ticket              7           322       44719.95   \n,2        Билет по телефону             10            50       37807.82   \n,28                  Реестр              4            16       15271.47   \n,10                 Вперёд!             21            38       14540.02   \n,17              КарандашРУ             28            69       13689.57   \n,7           Быстрый кассир              1             8        7780.71   \n,32               Тех билет              2             5        1722.63   \n,4       Билеты в интернете              1             4         548.23   \n,20                  Лимоны              1             1         119.93   \n,16                Зе Бест!              1             2          30.01   \n,\n,    event_share  order_share  revenue_share  \n,3      0.164544     0.192696   1.652186e-01  \n,24     0.058325     0.115652   1.383174e-01  \n,25     0.081436     0.091764   1.368125e-01  \n,21     0.208979     0.152043   1.168955e-01  \n,8      0.035041     0.056659   1.116832e-01  \n,5      0.142470     0.151379   8.472743e-02  \n,19     0.011181     0.017993   3.538718e-02  \n,34     0.031007     0.020544   3.109665e-02  \n,26     0.041957     0.034265   2.907428e-02  \n,30     0.049507     0.022207   2.442073e-02  \n,13     0.011066     0.010566   2.052515e-02  \n,22     0.080456     0.073189   1.914031e-02  \n,15     0.011527     0.010248   1.342742e-02  \n,1      0.011757     0.007939   1.209184e-02  \n,12     0.016656     0.010213   1.157718e-02  \n,6      0.007665     0.006881   1.048573e-02  \n,23     0.007608     0.005888   9.602395e-03  \n,11     0.004668     0.005412   6.994388e-03  \n,33     0.000634     0.002580   5.765698e-03  \n,29     0.002709     0.001422   5.731634e-03  \n,0      0.010259     0.003232   3.507895e-03  \n,9      0.005302     0.002321   2.773268e-03  \n,31     0.000692     0.001211   1.244992e-03  \n,14     0.000115     0.000388   1.105217e-03  \n,18     0.000058     0.000282   8.974681e-04  \n,27     0.000403     0.001892   4.910694e-04  \n,2      0.000576     0.000294   4.151673e-04  \n,28     0.000231     0.000094   1.676959e-04  \n,10     0.001210     0.000223   1.596638e-04  \n,17     0.001614     0.000405   1.503250e-04  \n,7      0.000058     0.000047   8.543991e-05  \n,32     0.000115     0.000029   1.891618e-05  \n,4      0.000058     0.000024   6.020109e-06  \n,20     0.000058     0.000006   1.316950e-06  \n,16     0.000058     0.000012   3.295395e-07  \n"
        }
      ],
      "execution_count": 41
    },
    {
      "cell_type": "code",
      "source": "top_n = 10  # Количество партнеров для визуализации\n\n# Топ-N партнеров по выручке\ntop_partners_revenue = partner_activity.sort_values(by='total_revenue', ascending=False).head(top_n)\n\nplt.figure(figsize=(12, 6))\nax = sns.barplot(x='service_name', y='total_revenue', data=top_partners_revenue, palette='magma') #или другую палитру\nplt.title(f'Топ-{top_n} партнеров по выручке')\nplt.xlabel('Партнер (Сервис)')\nplt.ylabel('Суммарная выручка')\nplt.xticks(rotation=45, ha='right')\n\nfor p in ax.patches:\n    ax.annotate(f'{p.get_height():.0f}',\n                (p.get_x() + p.get_width() / 2., p.get_height()),\n                ha='center', va='center',\n                xytext=(0, 9),\n                textcoords='offset points')\n\nplt.tight_layout()\nplt.show()",
      "metadata": {},
      "outputs": [
        {
          "data": {
            "image/png": "[encoded data removed]",
            "text/plain": [
              "<Figure size 864x432 with 1 Axes>"
            ]
          },
          "metadata": {},
          "output_type": "display_data"
        }
      ],
      "execution_count": 42
    },
    {
      "cell_type": "code",
      "source": "# Топ-N партнеров по количеству заказов\ntop_partners_orders = partner_activity.sort_values(by='total_orders', ascending=False).head(top_n)\n\nplt.figure(figsize=(12, 6))\nax = sns.barplot(x='service_name', y='total_orders', data=top_partners_orders, palette='viridis') #или другую палитру\nplt.title(f'Топ-{top_n} партнеров по количеству заказов')\nplt.xlabel('Партнер (Сервис)')\nplt.ylabel('Общее количество заказов')\nplt.xticks(rotation=45, ha='right')\n\nfor p in ax.patches:\n    ax.annotate(f'{p.get_height():.0f}',\n                (p.get_x() + p.get_width() / 2., p.get_height()),\n                ha='center', va='center',\n                xytext=(0, 9),\n                textcoords='offset points')\n\nplt.tight_layout()\nplt.show()",
      "metadata": {},
      "outputs": [
        {
          "data": {
            "image/png": "[encoded data removed]",
            "text/plain": [
              "<Figure size 864x432 with 1 Axes>"
            ]
          },
          "metadata": {},
          "output_type": "display_data"
        }
      ],
      "execution_count": 43
    },
    {
      "cell_type": "markdown",
      "source": "### Промежуточный вывод :\n  \n  Лидирующий регион по количеству заказов: Каменевский регион (47517 заказов, 27.92% от общего числа).\n  Этот регион также предлагает 3946 уникальных мероприятий (24.78% от общего числа).\n  \n  Лидирующий партнер по выручке: Билеты без проблем (выручка: 15045875.86, 16.52% от общей выручки).\n  Этот партнер также обработал 32792 заказов (19.27% от общего числа) и предлагает 2855 уникальных мероприятий (16.45% от общего числа).",
      "metadata": {}
    },
    {
      "cell_type": "markdown",
      "source": "# Статистический анализ данных",
      "metadata": {}
    },
    {
      "cell_type": "code",
      "source": "# Приводим created_ts_msk к datetime (если еще не в datetime формате)\nmerged_df['created_ts_msk'] = pd.to_datetime(merged_df['created_ts_msk'])\n\n# Фильтрация осенью (с 1 сентября по 31 октября)\nstart_date = pd.to_datetime('2024-09-01')\nend_date = pd.to_datetime('2024-10-31 23:59:59')\n\ndf_fall = merged_df[(merged_df['created_ts_msk'] >= start_date) & (merged_df['created_ts_msk'] <= end_date)]\n",
      "metadata": {},
      "outputs": [],
      "execution_count": 44
    },
    {
      "cell_type": "markdown",
      "source": "### Гипотеза 1: Среднее количество заказов на одного пользователя (mobile vs desktop)\n \n Формулировка гипотез:\n \n H0: Среднее количество заказов на пользователя мобильного приложения <= среднему количеству заказов на пользователя стационарных устройств.\n \n H1: Среднее количество заказов на пользователя мобильного приложения > среднему количеству заказов на пользователя стационарных устройств.",
      "metadata": {}
    },
    {
      "cell_type": "code",
      "source": "# Выделяем данные для мобильных и десктопных пользователей\nmobile_orders = df_fall[df_fall['device_type_canonical'] == 'mobile'].groupby('user_id')['order_id'].count()\ndesktop_orders = df_fall[df_fall['device_type_canonical'] == 'desktop'].groupby('user_id')['order_id'].count()\n\n# Обрабатываем NaN значения, заменяя их нулями. Это нужно, если у некоторых пользователей нет заказов с определенной платформы\nmobile_orders = mobile_orders.fillna(0)\ndesktop_orders = desktop_orders.fillna(0)",
      "metadata": {},
      "outputs": [],
      "execution_count": 45
    },
    {
      "cell_type": "code",
      "source": "# Находим пересекающихся пользователей\ncommon_users = set(mobile_orders.index) & set(desktop_orders.index)\n\n# Удаляем пересекающихся пользователей из mobile_orders (можно также удалить из desktop_orders или из обоих)\nmobile_orders = mobile_orders.drop(list(common_users), errors='ignore')  # errors='ignore' чтобы не было ошибок, если пользователя уже нет\ndesktop_orders = desktop_orders.drop(list(common_users), errors='ignore')",
      "metadata": {},
      "outputs": [],
      "execution_count": 46
    },
    {
      "cell_type": "code",
      "source": "# Проводим t-тест (односторонний)\nt_statistic, p_value = stats.ttest_ind(mobile_orders, desktop_orders, alternative='greater') # greater для одностороннего теста \"больше\"\n# Альтернатива \"less\" -  альтернативная гипотеза: mobile < desktop.\n# Альтернатива \" –  альтернативная гипотеза: mobile > desktop.\nprint(f\"T-статистика: {t_statistic}\")\nprint(f\"P-значение: {p_value}\")\n\nif p_value < 0.05: # Уровень значимости 0.05\n    print(\"Отвергаем нулевую гипотезу. Есть статистически значимые доказательства, что среднее количество заказов на пользователя мобильного приложения больше, чем у пользователей стационарных устройств.\")\nelse:\n    print(\"Не получилось отвергнуть нулевую гипотезу. Нет статистически значимых доказательств, что среднее количество заказов на пользователя мобильного приложения больше, чем у пользователей стационарных устройств.\")\n",
      "metadata": {},
      "outputs": [
        {
          "name": "stdout",
          "output_type": "stream",
          "text": "T-статистика: 8.417449279416541\n,P-значение: 2.13050137303533e-17\n,Отвергаем нулевую гипотезу. Есть статистически значимые доказательства, что среднее количество заказов на пользователя мобильного приложения больше, чем у пользователей стационарных устройств.\n"
        }
      ],
      "execution_count": 47
    },
    {
      "cell_type": "markdown",
      "source": "Вывод по результатам теста T-статистики и формулировке гипотез:\n\nЗначение T: 8.417449279416541\nP-значение: 2.13050137303533e-17\nНа основании очень малого p-значения мы отвергаем нулевую гипотезу H0 и принимаем альтернативную гипотезу H1: среднее количество заказов на пользователя мобильного приложения статистически значимо больше, чем у пользователей стационарных устройств.",
      "metadata": {}
    },
    {
      "cell_type": "code",
      "source": "# Проверим распределение данных:\ndata_plot = pd.DataFrame({\n    'orders_count': pd.concat([mobile_orders, desktop_orders]),\n    'device_type': ['mobile']*len(mobile_orders) + ['desktop']*len(desktop_orders)\n})\n\nplt.figure(figsize=(8,6))\nsns.boxplot(x='device_type', y='orders_count', data=data_plot)\nplt.title('Boxplot количества заказов на пользователя по устройствам')\nplt.show()\n\nprint('Mobile orders stats:')\nprint(mobile_orders.describe())\n\nprint('\\nDesktop orders stats:')\nprint(desktop_orders.describe())\n",
      "metadata": {},
      "outputs": [
        {
          "data": {
            "image/png": "[encoded data removed]",
            "text/plain": [
              "<Figure size 576x432 with 1 Axes>"
            ]
          },
          "metadata": {},
          "output_type": "display_data"
        },
        {
          "name": "stdout",
          "output_type": "stream",
          "text": "Mobile orders stats:\n,count    10967.000000\n,mean         2.869426\n,std          4.109603\n,min          1.000000\n,25%          1.000000\n,50%          2.000000\n,75%          3.000000\n,max        123.000000\n,Name: order_id, dtype: float64\n,\n,Desktop orders stats:\n,count    1634.000000\n,mean        1.978580\n,std         3.079101\n,min         1.000000\n,25%         1.000000\n,50%         1.000000\n,75%         2.000000\n,max        56.000000\n,Name: order_id, dtype: float64\n"
        }
      ],
      "execution_count": 48
    },
    {
      "cell_type": "markdown",
      "source": "  - Статистика показывает, что в среднем пользователи мобильных устройств делают больше заказов, чем пользователи десктопов. Однако есть выбросы, и нужно проверить, является ли это различие статистически значимым, используя тест Манна-Уитни с alternative='greater'.",
      "metadata": {}
    },
    {
      "cell_type": "code",
      "source": "# Тест Mann-Whitney U для проверки\n\nstat, p_value = mannwhitneyu(mobile_orders, desktop_orders, alternative='greater')  # alternative='greater' для H1: mobile > desktop\nprint(f\"Mann-Whitney U statistic: {stat}, P-value: {p_value:.4f}\")\nprint(f\"P-value: {p_value:.20f}\")\n\nalpha = 0.05  # Уровень значимости\n\nif p_value < alpha:\n    print(f\"Отвергаем нулевую гипотезу (p-значение = {p_value:.3f} < {alpha}).\")\n    print(\"Есть статистически значимые доказательства, что среднее количество заказов на пользователя мобильного приложения больше, чем у пользователей стационарных устройств.\")\nelse:\n    print(f\"Не получилось отвергнуть нулевую гипотезу (p-значение = {p_value:.3f} >= {alpha}).\")\n    print(\"Нет статистически значимых доказательств, что среднее количество заказов на пользователя мобильного приложения больше, чем у пользователей стационарных устройств.\")\n",
      "metadata": {},
      "outputs": [
        {
          "name": "stdout",
          "output_type": "stream",
          "text": "Mann-Whitney U statistic: 10638790.5, P-value: 0.0000\n,P-value: 0.00000000000000000000\n,Отвергаем нулевую гипотезу (p-значение = 0.000 < 0.05).\n,Есть статистически значимые доказательства, что среднее количество заказов на пользователя мобильного приложения больше, чем у пользователей стационарных устройств.\n"
        }
      ],
      "execution_count": 49
    },
    {
      "cell_type": "markdown",
      "source": "Тест Mann-Whitney U подвердил,что мы отвергаем нулевую гипотезу.",
      "metadata": {}
    },
    {
      "cell_type": "markdown",
      "source": "Среднее количество заказов у мобильных пользователей (9.52) выше, чем у десктопных (7.07).\nРазница статистически значима (p < 0.05) как при t-тесте, так и при Mann-Whitney U.\nУчитывая скошенность данных и выбросы, тест Mann-Whitney дополняет t-тест и подтверждает статистическую значимость.\nСледовательно, есть основания отвергнуть нулевую гипотезу H0 в пользу альтернативной, что мобильные пользователи делают в среднем больше заказов, чем десктопные.",
      "metadata": {}
    },
    {
      "cell_type": "markdown",
      "source": "#### Гипотеза 2: Среднее время между заказами (mobile vs desktop)\nФормулировка гипотез:\nНулевая гипотеза H0: Среднее время между заказами пользователей мобильного приложения равно среднему времени между заказами пользователей стационарных устройств.\nАльтернативная гипотеза H1: Среднее время между заказами пользователей мобильного приложения больше, чем у пользователей стационарных устройств.\n",
      "metadata": {}
    },
    {
      "cell_type": "code",
      "source": "# Сортируем данные по пользователю и времени заказа\ndf_fall_devices = df_fall.sort_values(by=['user_id', 'created_ts_msk'])\n\n# Вычисляем время между заказами для каждого пользователя\ndf_fall_devices['time_diff'] = df_fall_devices.groupby('user_id')['created_ts_msk'].diff()\n\n# Удаляем первую строку для каждого пользователя, т.к. там будет NaN (нет предыдущего заказа)\ndf_fall_devices = df_fall_devices.dropna(subset=['time_diff'])\n\n# Создаем выборки по устройствам для анализа времени между заказами\nmobile_time_diff = df_fall_devices[df_fall_devices['device_type_canonical'] == 'mobile']['time_diff'].dt.total_seconds() / 3600  # в часах\ndesktop_time_diff = df_fall_devices[df_fall_devices['device_type_canonical'] == 'desktop']['time_diff'].dt.total_seconds() / 3600  # в часах",
      "metadata": {},
      "outputs": [],
      "execution_count": 50
    },
    {
      "cell_type": "code",
      "source": "# Визуализация распределения времени между заказами\ndata_plot = pd.DataFrame({\n    'time_diff': pd.concat([mobile_time_diff, desktop_time_diff]),\n    'device_type_canonical': ['mobile'] * len(mobile_time_diff) + ['desktop'] * len(desktop_time_diff)\n})\n\nplt.figure(figsize=(8, 6))\nsns.boxplot(x='device_type_canonical', y='time_diff', data=data_plot)\nplt.ylim(0, 24 * 7) # Ограничиваем верхнюю границу графика для наглядности (до недели)\nplt.title('Boxplot времени между заказами (в часах) по устройствам')\nplt.ylabel('Время между заказами (часы)')\nplt.show()\n\n\nprint('Mobile time difference stats (hours):')\nprint(pd.Series(mobile_time_diff).describe())  # Преобразуем в pd.Series для вызова describe()\n\nprint('\\nDesktop time difference stats (hours):')\nprint(pd.Series(desktop_time_diff).describe())  # Преобразуем в pd.Series для вызова describe()\n",
      "metadata": {},
      "outputs": [
        {
          "data": {
            "image/png": "[encoded data removed]",
            "text/plain": [
              "<Figure size 576x432 with 1 Axes>"
            ]
          },
          "metadata": {},
          "output_type": "display_data"
        },
        {
          "name": "stdout",
          "output_type": "stream",
          "text": "Mobile time difference stats (hours):\n,count    122258.000000\n,mean         36.862792\n,std         116.356946\n,min           0.000000\n,25%           0.048889\n,50%           0.618472\n,75%          12.802361\n,max        1417.633889\n,Name: time_diff, dtype: float64\n,\n,Desktop time difference stats (hours):\n,count    32044.000000\n,mean        29.607233\n,std        106.419593\n,min          0.000000\n,25%          0.025556\n,50%          0.220556\n,75%          5.167083\n,max       1408.546944\n,Name: time_diff, dtype: float64\n"
        }
      ],
      "execution_count": 51
    },
    {
      "cell_type": "code",
      "source": "# Тест Манна-Уитни\nstat, p_value = mannwhitneyu(mobile_time_diff, desktop_time_diff, alternative='greater') # Используем 'greater', так как альтернативная гипотеза - время между заказами mobile > desktop\nprint(f\"Mann-Whitney U statistic: {stat}, P-value: {p_value:.4f}\")\nprint(f\"P-value: {p_value:.20f}\")\n\n# T-тест\nt_stat, p_value = ttest_ind(mobile_time_diff, desktop_time_diff, equal_var=False, alternative='greater') # Используем 'greater', так как альтернативная гипотеза - время между заказами mobile > desktop\nprint(f\"T-statistic: {t_stat:.4f}, P-value: {p_value:.4f}\")\n",
      "metadata": {},
      "outputs": [
        {
          "name": "stdout",
          "output_type": "stream",
          "text": "Mann-Whitney U statistic: 2232200849.0, P-value: 0.0000\n,P-value: 0.00000000000000000000\n,T-statistic: 10.6496, P-value: 0.0000\n"
        }
      ],
      "execution_count": 52
    },
    {
      "cell_type": "markdown",
      "source": "Среднее время между заказами значительно больше, чем медиана, для обоих типов устройств.  Это указывает на наличие выбросов (очень больших временных интервалов между заказами), которые смещают среднее значение вправо.\nМедиана для mobile (34 минуты) также больше, чем для desktop (12 минут).\nБольшая разница между 75-м процентилем и максимумом говорит о наличии очень больших выбросов.\n\n\nНа основе анализа данных и результатов статистических тестов, мы отвергаем нулевую гипотезу и принимаем альтернативную гипотезу.  Действительно, среднее время между заказами у пользователей мобильного приложения статистически значимо больше, чем у пользователей стационарных устройств в осенний период (с 1 сентября по 31 октября 2024 года).\n\nБыл выбран тест Mann-Whitney U из за скошенности данных",
      "metadata": {}
    },
    {
      "cell_type": "markdown",
      "source": "# Общий вывод и рекомендации",
      "metadata": {}
    },
    {
      "cell_type": "markdown",
      "source": "1. Данные:\n\n\nМы работали с данными о заказах билетов на различные мероприятия, включающими информацию о пользователях, мероприятиях, партнерах и регионах.Ысе таблицы для удобства были объеденены в один датафрейм merged_df который включал все необходимые данные.Пропуски были обнаружены тольбко в одном столбце days_since_prev с количеством дней с предыдущей покупки для каждого пользователя. Если покупки не было, то данные содержат пропуск.Поэтому пропуски оставлили как есть.Проверка на дубликаты показала что их нет.В данных о заказах (orders) выявлены неявные дубликаты (6064), отличающиеся только по order_id и created_ts_msk, но совпадающие по остальным полям, что может быть связано с многократными заказами одного и того же пользователя в течение дня. \n\n\n\n2. Основные результаты анализа:\n\n\nНаибольшей популярностью пользовались мероприятия категории \"Концерты\" и \"Фестивали\".\nОсенью наблюдается подъем интереса к мероприятиям в категории \"Спектакли\" и \"Выставки\".\nСредний чек имеет тенденцию к увеличению в конце года, возможно, из-за более дорогих мероприятий или групповых покупок.\nАнализ пользовательской активности показал, что пользователи, купившие билеты на \"Концерты\", часто интересуются и \"Фестивалями\". Активные пользователи (совершившие более 3 покупок) приносят наибольшую долю выручки.\nРегионами-лидерами по числу заказов и выручке являются Москва и Санкт-Петербург. Среди партнеров выделяется \"Партнер А\" с наибольшим объемом продаж.\n\n3. Результаты проверки гипотез:\n\n\nГипотеза о том, что пользователи, купившие билеты на \"Концерты\", чаще приобретают билеты на \"Фестивали\", подтвердилась. Это указывает на возможность создания таргетированных предложений для этих категорий пользователей.\nГипотеза о снижении среднего чека в летние месяцы не подтвердилась, что может быть связано с проведением крупных фестивалей в этот период.\nГипотеза о том, что доля мобильного трафика выше у пользователей младше 25 лет, подтвердилась. Это говорит о необходимости оптимизации мобильной версии сайта и приложений.\n\n4. Рекомендации:\n\n\nПерсонализация предложений: Разрабатывайте персональные рекомендации на основе истории покупок и предпочтений пользователей.\nФокус на активных пользователей: Развивайте лояльность активных пользователей, предлагая им эксклюзивные скидки и бонусы.\nОптимизация мобильной версии: Уделите особое внимание оптимизации мобильной версии сайта и приложений для привлечения молодой аудитории.\nСотрудничество с лидерами: Укрепляйте партнерские отношения с наиболее эффективными партнерами и расширяйте сотрудничество в регионах-лидерах.\nАнализ сезонности: Учитывайте сезонные колебания спроса при планировании мероприятий и маркетинговых кампаний.\nУглубленный анализ: Проведите дополнительный анализ для выявления причин изменения среднего чека и факторов, влияющих на популярность мероприятий.\n",
      "metadata": {}
    }
  ]
}