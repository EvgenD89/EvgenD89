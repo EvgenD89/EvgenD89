{
  "metadata": {
    "kernelspec": {
      "name": "python",
      "display_name": "Python (Pyodide)",
      "language": "python"
    },
    "language_info": {
      "codemirror_mode": {
        "name": "python",
        "version": 3
      },
      "file_extension": ".py",
      "mimetype": "text/x-python",
      "name": "python",
      "nbconvert_exporter": "python",
      "pygments_lexer": "ipython3",
      "version": "3.8"
    },
    "ExecuteTimeLog": [
      {
        "duration": 1781,
        "start_time": "2025-06-19T06:24:35.019Z"
      },
      {
        "duration": 0,
        "start_time": "2025-06-19T06:24:36.801Z"
      },
      {
        "duration": 3979,
        "start_time": "2025-06-19T06:25:30.841Z"
      },
      {
        "duration": 2106,
        "start_time": "2025-06-19T06:25:48.976Z"
      },
      {
        "duration": 19,
        "start_time": "2025-06-19T06:25:51.084Z"
      },
      {
        "duration": 8,
        "start_time": "2025-06-19T06:26:02.600Z"
      },
      {
        "duration": 15,
        "start_time": "2025-06-19T06:26:24.651Z"
      },
      {
        "duration": 2779,
        "start_time": "2025-06-19T06:26:27.753Z"
      },
      {
        "duration": 2034,
        "start_time": "2025-06-19T06:26:30.534Z"
      },
      {
        "duration": 14,
        "start_time": "2025-06-19T06:26:32.569Z"
      },
      {
        "duration": 18,
        "start_time": "2025-06-19T06:26:53.244Z"
      },
      {
        "duration": 4,
        "start_time": "2025-06-19T06:27:04.320Z"
      },
      {
        "duration": 4,
        "start_time": "2025-06-19T06:28:52.992Z"
      },
      {
        "duration": 6,
        "start_time": "2025-06-19T06:30:13.607Z"
      },
      {
        "duration": 53,
        "start_time": "2025-06-19T08:22:12.574Z"
      },
      {
        "duration": 7,
        "start_time": "2025-06-19T08:24:30.800Z"
      },
      {
        "duration": 8,
        "start_time": "2025-06-19T08:24:47.492Z"
      },
      {
        "duration": 5439,
        "start_time": "2025-06-19T08:24:51.149Z"
      },
      {
        "duration": 2785,
        "start_time": "2025-06-19T08:24:56.590Z"
      },
      {
        "duration": 11,
        "start_time": "2025-06-19T08:24:59.387Z"
      },
      {
        "duration": 29,
        "start_time": "2025-06-19T08:25:02.670Z"
      },
      {
        "duration": 25,
        "start_time": "2025-06-19T08:26:41.916Z"
      },
      {
        "duration": 212,
        "start_time": "2025-06-19T08:27:43.956Z"
      },
      {
        "duration": 214,
        "start_time": "2025-06-19T08:32:09.635Z"
      },
      {
        "duration": 25,
        "start_time": "2025-06-19T08:32:54.563Z"
      },
      {
        "duration": 9,
        "start_time": "2025-06-19T08:33:38.740Z"
      },
      {
        "duration": 8,
        "start_time": "2025-06-19T08:33:47.235Z"
      },
      {
        "duration": 13,
        "start_time": "2025-06-19T08:35:02.556Z"
      },
      {
        "duration": 10,
        "start_time": "2025-06-19T08:35:13.275Z"
      },
      {
        "duration": 3,
        "start_time": "2025-06-19T09:12:24.516Z"
      },
      {
        "duration": 64,
        "start_time": "2025-06-19T09:30:13.945Z"
      },
      {
        "duration": 5,
        "start_time": "2025-06-19T09:33:30.512Z"
      },
      {
        "duration": 3163,
        "start_time": "2025-06-19T09:35:41.680Z"
      },
      {
        "duration": 2664,
        "start_time": "2025-06-19T09:35:44.847Z"
      },
      {
        "duration": 28,
        "start_time": "2025-06-19T09:35:47.514Z"
      },
      {
        "duration": 40,
        "start_time": "2025-06-19T09:35:49.712Z"
      },
      {
        "duration": 6,
        "start_time": "2025-06-19T09:35:50.863Z"
      },
      {
        "duration": 171,
        "start_time": "2025-06-19T09:48:14.174Z"
      },
      {
        "duration": 87,
        "start_time": "2025-06-19T09:49:13.710Z"
      },
      {
        "duration": 69,
        "start_time": "2025-06-19T09:51:24.110Z"
      },
      {
        "duration": 87,
        "start_time": "2025-06-19T09:53:01.462Z"
      },
      {
        "duration": 4,
        "start_time": "2025-06-19T09:56:12.477Z"
      },
      {
        "duration": 142,
        "start_time": "2025-06-19T09:56:28.325Z"
      },
      {
        "duration": 53,
        "start_time": "2025-06-19T10:03:08.565Z"
      },
      {
        "duration": 4,
        "start_time": "2025-06-19T10:03:11.284Z"
      },
      {
        "duration": 153,
        "start_time": "2025-06-19T10:03:13.628Z"
      },
      {
        "duration": 174,
        "start_time": "2025-06-19T10:13:33.338Z"
      },
      {
        "duration": 74,
        "start_time": "2025-06-19T10:19:07.626Z"
      },
      {
        "duration": 105,
        "start_time": "2025-06-19T10:19:10.730Z"
      },
      {
        "duration": 13,
        "start_time": "2025-06-19T10:30:35.041Z"
      },
      {
        "duration": 92,
        "start_time": "2025-06-19T10:30:57.760Z"
      },
      {
        "duration": 41,
        "start_time": "2025-06-19T10:31:06.336Z"
      },
      {
        "duration": 4,
        "start_time": "2025-06-19T10:31:09.817Z"
      },
      {
        "duration": 213,
        "start_time": "2025-06-19T10:31:34.354Z"
      },
      {
        "duration": 5,
        "start_time": "2025-06-19T10:31:58.664Z"
      },
      {
        "duration": 7,
        "start_time": "2025-06-19T10:32:14.568Z"
      },
      {
        "duration": 20,
        "start_time": "2025-06-19T10:32:48.560Z"
      },
      {
        "duration": 4,
        "start_time": "2025-06-19T10:32:52.680Z"
      },
      {
        "duration": 5,
        "start_time": "2025-06-19T10:32:56.495Z"
      },
      {
        "duration": 7,
        "start_time": "2025-06-19T10:32:57.457Z"
      },
      {
        "duration": 12,
        "start_time": "2025-06-19T12:00:43.810Z"
      },
      {
        "duration": 12,
        "start_time": "2025-06-19T12:00:55.691Z"
      },
      {
        "duration": 13,
        "start_time": "2025-06-19T12:04:05.582Z"
      },
      {
        "duration": 16,
        "start_time": "2025-06-19T12:06:04.097Z"
      },
      {
        "duration": 98,
        "start_time": "2025-06-19T12:11:47.352Z"
      },
      {
        "duration": 13,
        "start_time": "2025-06-19T12:13:24.304Z"
      },
      {
        "duration": 17,
        "start_time": "2025-06-19T12:15:28.472Z"
      },
      {
        "duration": 174,
        "start_time": "2025-06-19T12:15:32.287Z"
      },
      {
        "duration": 25,
        "start_time": "2025-06-19T12:16:05.351Z"
      },
      {
        "duration": 19,
        "start_time": "2025-06-19T12:16:59.267Z"
      },
      {
        "duration": 55,
        "start_time": "2025-06-19T12:20:39.367Z"
      },
      {
        "duration": 131,
        "start_time": "2025-06-19T12:21:00.999Z"
      },
      {
        "duration": 24,
        "start_time": "2025-06-19T12:21:03.230Z"
      },
      {
        "duration": 106,
        "start_time": "2025-06-19T12:21:10.885Z"
      },
      {
        "duration": 110,
        "start_time": "2025-06-19T12:21:12.846Z"
      },
      {
        "duration": 27,
        "start_time": "2025-06-19T12:21:14.454Z"
      },
      {
        "duration": 116,
        "start_time": "2025-06-19T12:21:22.894Z"
      },
      {
        "duration": 25,
        "start_time": "2025-06-19T12:21:25.989Z"
      },
      {
        "duration": 14,
        "start_time": "2025-06-19T12:21:31.447Z"
      },
      {
        "duration": 170,
        "start_time": "2025-06-19T12:21:32.773Z"
      },
      {
        "duration": 55,
        "start_time": "2025-06-19T12:21:55.326Z"
      },
      {
        "duration": 25,
        "start_time": "2025-06-19T12:21:57.254Z"
      },
      {
        "duration": 41,
        "start_time": "2025-06-19T12:22:15.310Z"
      },
      {
        "duration": 16,
        "start_time": "2025-06-19T12:22:16.687Z"
      },
      {
        "duration": 4186,
        "start_time": "2025-06-19T12:22:28.613Z"
      },
      {
        "duration": 3277,
        "start_time": "2025-06-19T12:22:32.802Z"
      },
      {
        "duration": 8,
        "start_time": "2025-06-19T12:22:36.081Z"
      },
      {
        "duration": 34,
        "start_time": "2025-06-19T12:22:36.091Z"
      },
      {
        "duration": 248,
        "start_time": "2025-06-19T12:22:36.127Z"
      },
      {
        "duration": 60,
        "start_time": "2025-06-19T12:22:36.379Z"
      },
      {
        "duration": 22,
        "start_time": "2025-06-19T12:22:36.441Z"
      },
      {
        "duration": 243,
        "start_time": "2025-06-19T12:22:36.465Z"
      },
      {
        "duration": 4,
        "start_time": "2025-06-19T12:22:36.710Z"
      },
      {
        "duration": 192,
        "start_time": "2025-06-19T12:22:36.716Z"
      },
      {
        "duration": 22,
        "start_time": "2025-06-19T12:22:36.910Z"
      },
      {
        "duration": 55,
        "start_time": "2025-06-19T12:22:36.934Z"
      },
      {
        "duration": 4,
        "start_time": "2025-06-19T12:22:36.991Z"
      },
      {
        "duration": 203,
        "start_time": "2025-06-19T12:22:36.998Z"
      },
      {
        "duration": 4,
        "start_time": "2025-06-19T12:22:37.203Z"
      },
      {
        "duration": 93,
        "start_time": "2025-06-19T12:22:37.209Z"
      },
      {
        "duration": 102,
        "start_time": "2025-06-19T12:22:37.303Z"
      },
      {
        "duration": 12,
        "start_time": "2025-06-19T12:22:37.407Z"
      },
      {
        "duration": 186,
        "start_time": "2025-06-19T12:22:37.421Z"
      },
      {
        "duration": 40,
        "start_time": "2025-06-19T12:22:37.609Z"
      },
      {
        "duration": 168,
        "start_time": "2025-06-19T12:22:37.651Z"
      },
      {
        "duration": 93,
        "start_time": "2025-06-19T12:24:07.550Z"
      },
      {
        "duration": 10,
        "start_time": "2025-06-19T12:24:40.094Z"
      },
      {
        "duration": 111,
        "start_time": "2025-06-19T12:25:12.357Z"
      },
      {
        "duration": 3309,
        "start_time": "2025-06-19T12:25:36.837Z"
      },
      {
        "duration": 3454,
        "start_time": "2025-06-19T12:26:38.550Z"
      },
      {
        "duration": 7,
        "start_time": "2025-06-19T12:29:31.628Z"
      },
      {
        "duration": 6,
        "start_time": "2025-06-19T12:29:32.621Z"
      },
      {
        "duration": 5173,
        "start_time": "2025-06-20T15:59:01.384Z"
      },
      {
        "duration": 1975,
        "start_time": "2025-06-20T15:59:06.560Z"
      },
      {
        "duration": 7,
        "start_time": "2025-06-20T15:59:08.537Z"
      },
      {
        "duration": 41,
        "start_time": "2025-06-20T15:59:08.546Z"
      },
      {
        "duration": 227,
        "start_time": "2025-06-20T15:59:08.591Z"
      },
      {
        "duration": 71,
        "start_time": "2025-06-20T15:59:08.820Z"
      },
      {
        "duration": 6,
        "start_time": "2025-06-20T15:59:08.893Z"
      },
      {
        "duration": 225,
        "start_time": "2025-06-20T15:59:08.901Z"
      },
      {
        "duration": 4,
        "start_time": "2025-06-20T15:59:09.128Z"
      },
      {
        "duration": 185,
        "start_time": "2025-06-20T15:59:09.134Z"
      },
      {
        "duration": 23,
        "start_time": "2025-06-20T15:59:09.321Z"
      },
      {
        "duration": 58,
        "start_time": "2025-06-20T15:59:09.346Z"
      },
      {
        "duration": 4,
        "start_time": "2025-06-20T15:59:09.405Z"
      },
      {
        "duration": 183,
        "start_time": "2025-06-20T15:59:09.412Z"
      },
      {
        "duration": 4,
        "start_time": "2025-06-20T15:59:09.597Z"
      },
      {
        "duration": 21,
        "start_time": "2025-06-20T15:59:09.603Z"
      },
      {
        "duration": 104,
        "start_time": "2025-06-20T15:59:09.626Z"
      },
      {
        "duration": 14,
        "start_time": "2025-06-20T15:59:09.732Z"
      },
      {
        "duration": 181,
        "start_time": "2025-06-20T15:59:09.747Z"
      },
      {
        "duration": 98,
        "start_time": "2025-06-20T15:59:09.930Z"
      },
      {
        "duration": 3004,
        "start_time": "2025-06-20T15:59:10.030Z"
      },
      {
        "duration": 6,
        "start_time": "2025-06-20T15:59:13.035Z"
      },
      {
        "duration": 17,
        "start_time": "2025-06-20T15:59:13.043Z"
      },
      {
        "duration": 6,
        "start_time": "2025-06-20T15:59:13.062Z"
      },
      {
        "duration": 149,
        "start_time": "2025-06-20T15:59:13.070Z"
      },
      {
        "duration": 4,
        "start_time": "2025-06-20T15:59:13.221Z"
      },
      {
        "duration": 38,
        "start_time": "2025-06-20T16:13:19.821Z"
      },
      {
        "duration": 1316,
        "start_time": "2025-06-20T16:43:21.730Z"
      },
      {
        "duration": 1377,
        "start_time": "2025-06-20T16:44:52.040Z"
      },
      {
        "duration": 1264,
        "start_time": "2025-06-20T16:45:21.570Z"
      },
      {
        "duration": 91,
        "start_time": "2025-06-20T16:46:41.904Z"
      },
      {
        "duration": 11,
        "start_time": "2025-06-20T16:47:22.704Z"
      },
      {
        "duration": 14,
        "start_time": "2025-06-20T16:55:00.375Z"
      },
      {
        "duration": 34,
        "start_time": "2025-06-20T16:55:18.865Z"
      },
      {
        "duration": 26,
        "start_time": "2025-06-20T16:55:41.415Z"
      },
      {
        "duration": 20,
        "start_time": "2025-06-20T16:57:36.295Z"
      },
      {
        "duration": 8,
        "start_time": "2025-06-20T16:58:33.862Z"
      },
      {
        "duration": 5,
        "start_time": "2025-06-20T16:59:05.622Z"
      },
      {
        "duration": 16,
        "start_time": "2025-06-20T16:59:45.973Z"
      },
      {
        "duration": 19,
        "start_time": "2025-06-20T17:00:01.558Z"
      },
      {
        "duration": 17,
        "start_time": "2025-06-20T17:00:39.846Z"
      },
      {
        "duration": 29,
        "start_time": "2025-06-20T17:01:50.125Z"
      },
      {
        "duration": 17,
        "start_time": "2025-06-20T17:04:30.269Z"
      },
      {
        "duration": 18,
        "start_time": "2025-06-20T17:04:37.485Z"
      },
      {
        "duration": 50,
        "start_time": "2025-06-20T17:06:48.428Z"
      },
      {
        "duration": 1733,
        "start_time": "2025-06-20T17:08:04.429Z"
      },
      {
        "duration": 1605,
        "start_time": "2025-06-20T17:08:53.476Z"
      },
      {
        "duration": 18,
        "start_time": "2025-06-20T17:10:21.451Z"
      },
      {
        "duration": 14,
        "start_time": "2025-06-20T17:10:38.853Z"
      },
      {
        "duration": 40,
        "start_time": "2025-06-20T17:12:08.787Z"
      },
      {
        "duration": 18,
        "start_time": "2025-06-20T17:13:37.324Z"
      },
      {
        "duration": 4600,
        "start_time": "2025-06-20T17:25:05.901Z"
      },
      {
        "duration": 2692,
        "start_time": "2025-06-20T17:25:10.505Z"
      },
      {
        "duration": 8,
        "start_time": "2025-06-20T17:25:13.199Z"
      },
      {
        "duration": 30,
        "start_time": "2025-06-20T17:25:13.209Z"
      },
      {
        "duration": 255,
        "start_time": "2025-06-20T17:25:13.263Z"
      },
      {
        "duration": 79,
        "start_time": "2025-06-20T17:25:13.520Z"
      },
      {
        "duration": 8,
        "start_time": "2025-06-20T17:25:13.601Z"
      },
      {
        "duration": 245,
        "start_time": "2025-06-20T17:25:13.611Z"
      },
      {
        "duration": 11,
        "start_time": "2025-06-20T17:25:13.863Z"
      },
      {
        "duration": 211,
        "start_time": "2025-06-20T17:25:13.876Z"
      },
      {
        "duration": 24,
        "start_time": "2025-06-20T17:25:14.089Z"
      },
      {
        "duration": 69,
        "start_time": "2025-06-20T17:25:14.115Z"
      },
      {
        "duration": 9,
        "start_time": "2025-06-20T17:25:14.189Z"
      },
      {
        "duration": 211,
        "start_time": "2025-06-20T17:25:14.201Z"
      },
      {
        "duration": 4,
        "start_time": "2025-06-20T17:25:14.414Z"
      },
      {
        "duration": 32,
        "start_time": "2025-06-20T17:25:14.419Z"
      },
      {
        "duration": 204,
        "start_time": "2025-06-20T17:25:14.453Z"
      },
      {
        "duration": 22,
        "start_time": "2025-06-20T17:25:14.660Z"
      },
      {
        "duration": 208,
        "start_time": "2025-06-20T17:25:14.686Z"
      },
      {
        "duration": 111,
        "start_time": "2025-06-20T17:25:14.896Z"
      },
      {
        "duration": 3643,
        "start_time": "2025-06-20T17:25:15.010Z"
      },
      {
        "duration": 23,
        "start_time": "2025-06-20T17:25:18.654Z"
      },
      {
        "duration": 10,
        "start_time": "2025-06-20T17:25:18.680Z"
      },
      {
        "duration": 5,
        "start_time": "2025-06-20T17:25:18.693Z"
      },
      {
        "duration": 87,
        "start_time": "2025-06-20T17:25:18.700Z"
      },
      {
        "duration": 6,
        "start_time": "2025-06-20T17:25:18.789Z"
      },
      {
        "duration": 107,
        "start_time": "2025-06-20T17:25:18.797Z"
      },
      {
        "duration": 5573,
        "start_time": "2025-06-20T17:25:18.907Z"
      },
      {
        "duration": 230,
        "start_time": "2025-06-20T17:25:24.497Z"
      },
      {
        "duration": 167,
        "start_time": "2025-06-20T17:25:24.728Z"
      },
      {
        "duration": 26,
        "start_time": "2025-06-20T17:27:11.573Z"
      },
      {
        "duration": 28,
        "start_time": "2025-06-20T17:27:35.057Z"
      },
      {
        "duration": 15,
        "start_time": "2025-06-20T17:28:17.130Z"
      },
      {
        "duration": 99,
        "start_time": "2025-06-20T17:33:20.160Z"
      },
      {
        "duration": 88,
        "start_time": "2025-06-20T17:33:24.192Z"
      },
      {
        "duration": 5091,
        "start_time": "2025-06-20T17:33:25.103Z"
      },
      {
        "duration": 91,
        "start_time": "2025-06-20T17:33:32.808Z"
      },
      {
        "duration": 18,
        "start_time": "2025-06-20T17:36:45.182Z"
      },
      {
        "duration": 4327,
        "start_time": "2025-06-20T17:44:58.382Z"
      },
      {
        "duration": 2342,
        "start_time": "2025-06-20T17:45:02.711Z"
      },
      {
        "duration": 7,
        "start_time": "2025-06-20T17:45:05.055Z"
      },
      {
        "duration": 40,
        "start_time": "2025-06-20T17:45:05.065Z"
      },
      {
        "duration": 220,
        "start_time": "2025-06-20T17:45:05.107Z"
      },
      {
        "duration": 74,
        "start_time": "2025-06-20T17:45:05.329Z"
      },
      {
        "duration": 7,
        "start_time": "2025-06-20T17:45:05.406Z"
      },
      {
        "duration": 288,
        "start_time": "2025-06-20T17:45:05.414Z"
      },
      {
        "duration": 4,
        "start_time": "2025-06-20T17:45:05.703Z"
      },
      {
        "duration": 234,
        "start_time": "2025-06-20T17:45:05.709Z"
      },
      {
        "duration": 28,
        "start_time": "2025-06-20T17:45:05.944Z"
      },
      {
        "duration": 86,
        "start_time": "2025-06-20T17:45:05.975Z"
      },
      {
        "duration": 9,
        "start_time": "2025-06-20T17:45:06.063Z"
      },
      {
        "duration": 208,
        "start_time": "2025-06-20T17:45:06.076Z"
      },
      {
        "duration": 8,
        "start_time": "2025-06-20T17:45:06.286Z"
      },
      {
        "duration": 80,
        "start_time": "2025-06-20T17:45:06.296Z"
      },
      {
        "duration": 129,
        "start_time": "2025-06-20T17:45:06.379Z"
      },
      {
        "duration": 13,
        "start_time": "2025-06-20T17:45:06.510Z"
      },
      {
        "duration": 276,
        "start_time": "2025-06-20T17:45:06.525Z"
      },
      {
        "duration": 107,
        "start_time": "2025-06-20T17:45:06.803Z"
      },
      {
        "duration": 3209,
        "start_time": "2025-06-20T17:45:06.912Z"
      },
      {
        "duration": 6,
        "start_time": "2025-06-20T17:45:10.123Z"
      },
      {
        "duration": 23,
        "start_time": "2025-06-20T17:45:10.131Z"
      },
      {
        "duration": 6,
        "start_time": "2025-06-20T17:45:10.156Z"
      },
      {
        "duration": 51,
        "start_time": "2025-06-20T17:45:10.164Z"
      },
      {
        "duration": 5,
        "start_time": "2025-06-20T17:45:10.217Z"
      },
      {
        "duration": 102,
        "start_time": "2025-06-20T17:45:10.224Z"
      },
      {
        "duration": 5025,
        "start_time": "2025-06-20T17:45:10.329Z"
      },
      {
        "duration": 206,
        "start_time": "2025-06-20T17:45:15.356Z"
      },
      {
        "duration": 412,
        "start_time": "2025-06-20T17:45:15.564Z"
      },
      {
        "duration": 376,
        "start_time": "2025-06-20T17:46:49.611Z"
      },
      {
        "duration": 105,
        "start_time": "2025-06-20T17:50:54.466Z"
      },
      {
        "duration": 4538,
        "start_time": "2025-06-20T17:51:08.027Z"
      },
      {
        "duration": 3683,
        "start_time": "2025-06-20T17:51:12.568Z"
      },
      {
        "duration": 18,
        "start_time": "2025-06-20T17:51:16.252Z"
      },
      {
        "duration": 47,
        "start_time": "2025-06-20T17:51:16.275Z"
      },
      {
        "duration": 269,
        "start_time": "2025-06-20T17:51:16.326Z"
      },
      {
        "duration": 89,
        "start_time": "2025-06-20T17:51:16.597Z"
      },
      {
        "duration": 11,
        "start_time": "2025-06-20T17:51:16.693Z"
      },
      {
        "duration": 237,
        "start_time": "2025-06-20T17:51:16.706Z"
      },
      {
        "duration": 4,
        "start_time": "2025-06-20T17:51:16.945Z"
      },
      {
        "duration": 199,
        "start_time": "2025-06-20T17:51:16.951Z"
      },
      {
        "duration": 37,
        "start_time": "2025-06-20T17:51:17.152Z"
      },
      {
        "duration": 22,
        "start_time": "2025-06-20T17:51:17.191Z"
      },
      {
        "duration": 4,
        "start_time": "2025-06-20T17:51:17.215Z"
      },
      {
        "duration": 228,
        "start_time": "2025-06-20T17:51:17.222Z"
      },
      {
        "duration": 23,
        "start_time": "2025-06-20T17:51:17.452Z"
      },
      {
        "duration": 26,
        "start_time": "2025-06-20T17:51:17.479Z"
      },
      {
        "duration": 109,
        "start_time": "2025-06-20T17:51:17.507Z"
      },
      {
        "duration": 14,
        "start_time": "2025-06-20T17:51:17.618Z"
      },
      {
        "duration": 209,
        "start_time": "2025-06-20T17:51:17.634Z"
      },
      {
        "duration": 129,
        "start_time": "2025-06-20T17:51:17.844Z"
      },
      {
        "duration": 3559,
        "start_time": "2025-06-20T17:51:17.976Z"
      },
      {
        "duration": 7,
        "start_time": "2025-06-20T17:51:21.537Z"
      },
      {
        "duration": 24,
        "start_time": "2025-06-20T17:51:21.545Z"
      },
      {
        "duration": 9,
        "start_time": "2025-06-20T17:51:21.571Z"
      },
      {
        "duration": 49,
        "start_time": "2025-06-20T17:51:21.586Z"
      },
      {
        "duration": 4,
        "start_time": "2025-06-20T17:51:21.637Z"
      },
      {
        "duration": 146,
        "start_time": "2025-06-20T17:51:21.643Z"
      },
      {
        "duration": 5584,
        "start_time": "2025-06-20T17:51:21.791Z"
      },
      {
        "duration": 209,
        "start_time": "2025-06-20T17:51:27.384Z"
      },
      {
        "duration": 396,
        "start_time": "2025-06-20T17:51:27.599Z"
      },
      {
        "duration": 95,
        "start_time": "2025-06-20T17:51:42.027Z"
      },
      {
        "duration": 5,
        "start_time": "2025-06-20T17:53:10.714Z"
      },
      {
        "duration": 10,
        "start_time": "2025-06-20T17:53:51.372Z"
      },
      {
        "duration": 97,
        "start_time": "2025-06-20T17:54:25.898Z"
      },
      {
        "duration": 5,
        "start_time": "2025-06-20T17:54:56.706Z"
      },
      {
        "duration": 904,
        "start_time": "2025-06-20T17:58:14.963Z"
      },
      {
        "duration": 98,
        "start_time": "2025-06-20T18:00:59.884Z"
      },
      {
        "duration": 156,
        "start_time": "2025-06-20T18:09:49.066Z"
      },
      {
        "duration": 4507,
        "start_time": "2025-06-20T18:10:23.313Z"
      },
      {
        "duration": 2549,
        "start_time": "2025-06-20T18:10:27.822Z"
      },
      {
        "duration": 9,
        "start_time": "2025-06-20T18:10:30.385Z"
      },
      {
        "duration": 101,
        "start_time": "2025-06-20T18:10:30.396Z"
      },
      {
        "duration": 242,
        "start_time": "2025-06-20T18:10:30.499Z"
      },
      {
        "duration": 77,
        "start_time": "2025-06-20T18:10:30.743Z"
      },
      {
        "duration": 7,
        "start_time": "2025-06-20T18:10:30.822Z"
      },
      {
        "duration": 268,
        "start_time": "2025-06-20T18:10:30.831Z"
      },
      {
        "duration": 4,
        "start_time": "2025-06-20T18:10:31.101Z"
      },
      {
        "duration": 205,
        "start_time": "2025-06-20T18:10:31.108Z"
      },
      {
        "duration": 22,
        "start_time": "2025-06-20T18:10:31.316Z"
      },
      {
        "duration": 52,
        "start_time": "2025-06-20T18:10:31.340Z"
      },
      {
        "duration": 5,
        "start_time": "2025-06-20T18:10:31.395Z"
      },
      {
        "duration": 231,
        "start_time": "2025-06-20T18:10:31.402Z"
      },
      {
        "duration": 5,
        "start_time": "2025-06-20T18:10:31.635Z"
      },
      {
        "duration": 23,
        "start_time": "2025-06-20T18:10:31.641Z"
      },
      {
        "duration": 108,
        "start_time": "2025-06-20T18:10:31.679Z"
      },
      {
        "duration": 15,
        "start_time": "2025-06-20T18:10:31.791Z"
      },
      {
        "duration": 220,
        "start_time": "2025-06-20T18:10:31.809Z"
      },
      {
        "duration": 114,
        "start_time": "2025-06-20T18:10:32.031Z"
      },
      {
        "duration": 3502,
        "start_time": "2025-06-20T18:10:32.147Z"
      },
      {
        "duration": 5,
        "start_time": "2025-06-20T18:10:35.651Z"
      },
      {
        "duration": 27,
        "start_time": "2025-06-20T18:10:35.669Z"
      },
      {
        "duration": 18,
        "start_time": "2025-06-20T18:10:35.698Z"
      },
      {
        "duration": 82,
        "start_time": "2025-06-20T18:10:35.718Z"
      },
      {
        "duration": 14,
        "start_time": "2025-06-20T18:10:35.809Z"
      },
      {
        "duration": 253,
        "start_time": "2025-06-20T18:10:35.825Z"
      },
      {
        "duration": 0,
        "start_time": "2025-06-20T18:10:36.080Z"
      },
      {
        "duration": 0,
        "start_time": "2025-06-20T18:10:36.081Z"
      },
      {
        "duration": 0,
        "start_time": "2025-06-20T18:10:36.082Z"
      },
      {
        "duration": 0,
        "start_time": "2025-06-20T18:10:36.083Z"
      },
      {
        "duration": 0,
        "start_time": "2025-06-20T18:10:36.085Z"
      },
      {
        "duration": 187,
        "start_time": "2025-06-20T18:14:17.543Z"
      },
      {
        "duration": 38756,
        "start_time": "2025-06-20T18:14:30.236Z"
      },
      {
        "duration": 130,
        "start_time": "2025-06-20T18:15:08.995Z"
      },
      {
        "duration": 5746,
        "start_time": "2025-06-20T18:15:09.128Z"
      },
      {
        "duration": 37561,
        "start_time": "2025-06-20T18:17:19.894Z"
      },
      {
        "duration": 4639,
        "start_time": "2025-06-20T18:18:43.007Z"
      },
      {
        "duration": 3292,
        "start_time": "2025-06-20T18:18:47.649Z"
      },
      {
        "duration": 9,
        "start_time": "2025-06-20T18:18:50.943Z"
      },
      {
        "duration": 72,
        "start_time": "2025-06-20T18:18:50.954Z"
      },
      {
        "duration": 283,
        "start_time": "2025-06-20T18:18:51.028Z"
      },
      {
        "duration": 71,
        "start_time": "2025-06-20T18:18:51.313Z"
      },
      {
        "duration": 11,
        "start_time": "2025-06-20T18:18:51.386Z"
      },
      {
        "duration": 243,
        "start_time": "2025-06-20T18:18:51.399Z"
      },
      {
        "duration": 3,
        "start_time": "2025-06-20T18:18:51.644Z"
      },
      {
        "duration": 205,
        "start_time": "2025-06-20T18:18:51.649Z"
      },
      {
        "duration": 29,
        "start_time": "2025-06-20T18:18:51.856Z"
      },
      {
        "duration": 26,
        "start_time": "2025-06-20T18:18:51.887Z"
      },
      {
        "duration": 4,
        "start_time": "2025-06-20T18:18:51.915Z"
      },
      {
        "duration": 246,
        "start_time": "2025-06-20T18:18:51.922Z"
      },
      {
        "duration": 8,
        "start_time": "2025-06-20T18:18:52.175Z"
      },
      {
        "duration": 8,
        "start_time": "2025-06-20T18:18:52.200Z"
      },
      {
        "duration": 116,
        "start_time": "2025-06-20T18:18:52.210Z"
      },
      {
        "duration": 15,
        "start_time": "2025-06-20T18:18:52.328Z"
      },
      {
        "duration": 220,
        "start_time": "2025-06-20T18:18:52.345Z"
      },
      {
        "duration": 112,
        "start_time": "2025-06-20T18:18:52.573Z"
      },
      {
        "duration": 3730,
        "start_time": "2025-06-20T18:18:52.687Z"
      },
      {
        "duration": 8,
        "start_time": "2025-06-20T18:18:56.419Z"
      },
      {
        "duration": 34,
        "start_time": "2025-06-20T18:18:56.429Z"
      },
      {
        "duration": 9,
        "start_time": "2025-06-20T18:18:56.465Z"
      },
      {
        "duration": 63,
        "start_time": "2025-06-20T18:18:56.477Z"
      },
      {
        "duration": 19,
        "start_time": "2025-06-20T18:18:56.542Z"
      },
      {
        "duration": 251,
        "start_time": "2025-06-20T18:18:56.569Z"
      },
      {
        "duration": 5,
        "start_time": "2025-06-20T18:18:56.823Z"
      },
      {
        "duration": 1106,
        "start_time": "2025-06-20T18:18:56.830Z"
      },
      {
        "duration": 132,
        "start_time": "2025-06-20T18:18:57.938Z"
      },
      {
        "duration": 36665,
        "start_time": "2025-06-20T18:18:58.073Z"
      },
      {
        "duration": 4168,
        "start_time": "2025-06-20T18:22:39.757Z"
      },
      {
        "duration": 2371,
        "start_time": "2025-06-20T18:22:43.928Z"
      },
      {
        "duration": 8,
        "start_time": "2025-06-20T18:22:46.301Z"
      },
      {
        "duration": 50,
        "start_time": "2025-06-20T18:22:46.311Z"
      },
      {
        "duration": 263,
        "start_time": "2025-06-20T18:22:46.365Z"
      },
      {
        "duration": 85,
        "start_time": "2025-06-20T18:22:46.630Z"
      },
      {
        "duration": 35,
        "start_time": "2025-06-20T18:22:46.717Z"
      },
      {
        "duration": 221,
        "start_time": "2025-06-20T18:22:46.754Z"
      },
      {
        "duration": 6,
        "start_time": "2025-06-20T18:22:46.977Z"
      },
      {
        "duration": 169,
        "start_time": "2025-06-20T18:22:46.985Z"
      },
      {
        "duration": 20,
        "start_time": "2025-06-20T18:22:47.160Z"
      },
      {
        "duration": 22,
        "start_time": "2025-06-20T18:22:47.182Z"
      },
      {
        "duration": 5,
        "start_time": "2025-06-20T18:22:47.206Z"
      },
      {
        "duration": 210,
        "start_time": "2025-06-20T18:22:47.214Z"
      },
      {
        "duration": 5,
        "start_time": "2025-06-20T18:22:47.426Z"
      },
      {
        "duration": 27,
        "start_time": "2025-06-20T18:22:47.433Z"
      },
      {
        "duration": 111,
        "start_time": "2025-06-20T18:22:47.463Z"
      },
      {
        "duration": 15,
        "start_time": "2025-06-20T18:22:47.576Z"
      },
      {
        "duration": 205,
        "start_time": "2025-06-20T18:22:47.593Z"
      },
      {
        "duration": 125,
        "start_time": "2025-06-20T18:22:47.800Z"
      },
      {
        "duration": 3398,
        "start_time": "2025-06-20T18:22:47.927Z"
      },
      {
        "duration": 7,
        "start_time": "2025-06-20T18:22:51.327Z"
      },
      {
        "duration": 29,
        "start_time": "2025-06-20T18:22:51.336Z"
      },
      {
        "duration": 4,
        "start_time": "2025-06-20T18:22:51.368Z"
      },
      {
        "duration": 89,
        "start_time": "2025-06-20T18:22:51.374Z"
      },
      {
        "duration": 5,
        "start_time": "2025-06-20T18:22:51.465Z"
      },
      {
        "duration": 188,
        "start_time": "2025-06-20T18:22:51.473Z"
      },
      {
        "duration": 4,
        "start_time": "2025-06-20T18:22:51.664Z"
      },
      {
        "duration": 938,
        "start_time": "2025-06-20T18:22:51.670Z"
      },
      {
        "duration": 130,
        "start_time": "2025-06-20T18:22:52.611Z"
      },
      {
        "duration": 33809,
        "start_time": "2025-06-20T18:22:52.743Z"
      },
      {
        "duration": 6488,
        "start_time": "2025-06-20T18:46:23.315Z"
      },
      {
        "duration": 2469,
        "start_time": "2025-06-20T18:46:29.806Z"
      },
      {
        "duration": 8,
        "start_time": "2025-06-20T18:46:32.277Z"
      },
      {
        "duration": 31,
        "start_time": "2025-06-20T18:46:32.286Z"
      },
      {
        "duration": 237,
        "start_time": "2025-06-20T18:46:32.338Z"
      },
      {
        "duration": 82,
        "start_time": "2025-06-20T18:46:32.576Z"
      },
      {
        "duration": 6,
        "start_time": "2025-06-20T18:46:32.661Z"
      },
      {
        "duration": 235,
        "start_time": "2025-06-20T18:46:32.669Z"
      },
      {
        "duration": 3,
        "start_time": "2025-06-20T18:46:32.906Z"
      },
      {
        "duration": 189,
        "start_time": "2025-06-20T18:46:32.910Z"
      },
      {
        "duration": 4302,
        "start_time": "2025-06-20T18:46:33.101Z"
      },
      {
        "duration": 27,
        "start_time": "2025-06-20T18:46:37.406Z"
      },
      {
        "duration": 39,
        "start_time": "2025-06-20T18:46:37.442Z"
      },
      {
        "duration": 6,
        "start_time": "2025-06-20T18:46:37.484Z"
      },
      {
        "duration": 277,
        "start_time": "2025-06-20T18:46:37.492Z"
      },
      {
        "duration": 5,
        "start_time": "2025-06-20T18:46:37.772Z"
      },
      {
        "duration": 49,
        "start_time": "2025-06-20T18:46:37.779Z"
      },
      {
        "duration": 139,
        "start_time": "2025-06-20T18:46:37.829Z"
      },
      {
        "duration": 17,
        "start_time": "2025-06-20T18:46:37.970Z"
      },
      {
        "duration": 284,
        "start_time": "2025-06-20T18:46:37.990Z"
      },
      {
        "duration": 96,
        "start_time": "2025-06-20T18:46:38.276Z"
      },
      {
        "duration": 3413,
        "start_time": "2025-06-20T18:46:38.374Z"
      },
      {
        "duration": 7,
        "start_time": "2025-06-20T18:46:41.790Z"
      },
      {
        "duration": 29,
        "start_time": "2025-06-20T18:46:41.799Z"
      },
      {
        "duration": 12,
        "start_time": "2025-06-20T18:46:41.830Z"
      },
      {
        "duration": 56,
        "start_time": "2025-06-20T18:46:41.844Z"
      },
      {
        "duration": 5,
        "start_time": "2025-06-20T18:46:41.902Z"
      },
      {
        "duration": 9675,
        "start_time": "2025-06-20T18:46:41.909Z"
      },
      {
        "duration": 184,
        "start_time": "2025-06-20T18:46:51.591Z"
      },
      {
        "duration": 5,
        "start_time": "2025-06-20T18:46:51.776Z"
      },
      {
        "duration": 933,
        "start_time": "2025-06-20T18:46:51.783Z"
      },
      {
        "duration": 97,
        "start_time": "2025-06-20T18:46:52.718Z"
      },
      {
        "duration": 31551,
        "start_time": "2025-06-20T18:46:52.816Z"
      },
      {
        "duration": 44,
        "start_time": "2025-06-20T18:47:24.369Z"
      },
      {
        "duration": 48,
        "start_time": "2025-06-21T10:25:18.904Z"
      },
      {
        "duration": 4642,
        "start_time": "2025-06-21T10:25:25.306Z"
      },
      {
        "duration": 2017,
        "start_time": "2025-06-21T10:25:29.951Z"
      },
      {
        "duration": 7,
        "start_time": "2025-06-21T10:25:31.970Z"
      },
      {
        "duration": 28,
        "start_time": "2025-06-21T10:25:31.980Z"
      },
      {
        "duration": 275,
        "start_time": "2025-06-21T10:25:32.010Z"
      },
      {
        "duration": 59,
        "start_time": "2025-06-21T10:25:32.286Z"
      },
      {
        "duration": 5,
        "start_time": "2025-06-21T10:25:32.347Z"
      },
      {
        "duration": 193,
        "start_time": "2025-06-21T10:25:32.354Z"
      },
      {
        "duration": 3,
        "start_time": "2025-06-21T10:25:32.548Z"
      },
      {
        "duration": 210,
        "start_time": "2025-06-21T10:25:32.553Z"
      },
      {
        "duration": 3823,
        "start_time": "2025-06-21T10:25:32.765Z"
      },
      {
        "duration": 20,
        "start_time": "2025-06-21T10:25:36.590Z"
      },
      {
        "duration": 58,
        "start_time": "2025-06-21T10:25:36.612Z"
      },
      {
        "duration": 15,
        "start_time": "2025-06-21T10:25:36.672Z"
      },
      {
        "duration": 159,
        "start_time": "2025-06-21T10:25:36.688Z"
      },
      {
        "duration": 4,
        "start_time": "2025-06-21T10:25:36.849Z"
      },
      {
        "duration": 16,
        "start_time": "2025-06-21T10:25:36.855Z"
      },
      {
        "duration": 100,
        "start_time": "2025-06-21T10:25:36.872Z"
      },
      {
        "duration": 1332,
        "start_time": "2025-06-21T10:25:36.973Z"
      },
      {
        "duration": 0,
        "start_time": "2025-06-21T10:25:38.307Z"
      },
      {
        "duration": 0,
        "start_time": "2025-06-21T10:25:38.309Z"
      },
      {
        "duration": 0,
        "start_time": "2025-06-21T10:25:38.310Z"
      },
      {
        "duration": 0,
        "start_time": "2025-06-21T10:25:38.311Z"
      },
      {
        "duration": 0,
        "start_time": "2025-06-21T10:25:38.312Z"
      },
      {
        "duration": 0,
        "start_time": "2025-06-21T10:25:38.313Z"
      },
      {
        "duration": 0,
        "start_time": "2025-06-21T10:25:38.315Z"
      },
      {
        "duration": 0,
        "start_time": "2025-06-21T10:25:38.316Z"
      },
      {
        "duration": 0,
        "start_time": "2025-06-21T10:25:38.317Z"
      },
      {
        "duration": 0,
        "start_time": "2025-06-21T10:25:38.318Z"
      },
      {
        "duration": 0,
        "start_time": "2025-06-21T10:25:38.320Z"
      },
      {
        "duration": 0,
        "start_time": "2025-06-21T10:25:38.321Z"
      },
      {
        "duration": 0,
        "start_time": "2025-06-21T10:25:38.323Z"
      },
      {
        "duration": 0,
        "start_time": "2025-06-21T10:25:38.324Z"
      },
      {
        "duration": 0,
        "start_time": "2025-06-21T10:25:38.325Z"
      },
      {
        "duration": 0,
        "start_time": "2025-06-21T10:25:38.326Z"
      },
      {
        "duration": 1205,
        "start_time": "2025-06-21T10:27:08.556Z"
      },
      {
        "duration": 1208,
        "start_time": "2025-06-21T10:28:21.165Z"
      },
      {
        "duration": 83,
        "start_time": "2025-06-21T10:28:48.338Z"
      },
      {
        "duration": 12,
        "start_time": "2025-06-21T10:28:50.008Z"
      },
      {
        "duration": 144,
        "start_time": "2025-06-21T10:28:51.308Z"
      },
      {
        "duration": 78,
        "start_time": "2025-06-21T10:28:52.288Z"
      },
      {
        "duration": 2715,
        "start_time": "2025-06-21T10:28:52.861Z"
      },
      {
        "duration": 2369,
        "start_time": "2025-06-21T10:29:26.565Z"
      },
      {
        "duration": 8,
        "start_time": "2025-06-21T10:29:37.998Z"
      },
      {
        "duration": 7,
        "start_time": "2025-06-21T10:29:40.627Z"
      },
      {
        "duration": 8,
        "start_time": "2025-06-21T10:30:47.975Z"
      },
      {
        "duration": 153,
        "start_time": "2025-06-21T10:31:10.142Z"
      },
      {
        "duration": 261,
        "start_time": "2025-06-21T10:31:24.151Z"
      },
      {
        "duration": 133,
        "start_time": "2025-06-21T10:31:28.765Z"
      },
      {
        "duration": 137,
        "start_time": "2025-06-21T10:31:32.037Z"
      },
      {
        "duration": 231,
        "start_time": "2025-06-21T10:31:37.278Z"
      },
      {
        "duration": 105,
        "start_time": "2025-06-21T10:37:03.094Z"
      },
      {
        "duration": 155,
        "start_time": "2025-06-21T10:37:04.154Z"
      },
      {
        "duration": 91,
        "start_time": "2025-06-21T11:30:26.471Z"
      },
      {
        "duration": 150,
        "start_time": "2025-06-21T11:30:38.556Z"
      },
      {
        "duration": 28,
        "start_time": "2025-06-21T11:52:17.135Z"
      },
      {
        "duration": 151,
        "start_time": "2025-06-21T12:02:24.836Z"
      },
      {
        "duration": 13,
        "start_time": "2025-06-21T12:02:28.551Z"
      },
      {
        "duration": 160,
        "start_time": "2025-06-21T12:02:29.217Z"
      },
      {
        "duration": 89,
        "start_time": "2025-06-21T12:02:30.044Z"
      },
      {
        "duration": 22,
        "start_time": "2025-06-21T12:29:35.656Z"
      },
      {
        "duration": 78,
        "start_time": "2025-06-21T12:38:07.389Z"
      },
      {
        "duration": 3342,
        "start_time": "2025-06-21T12:38:31.247Z"
      },
      {
        "duration": 1155,
        "start_time": "2025-06-21T12:47:55.218Z"
      },
      {
        "duration": 10,
        "start_time": "2025-06-21T12:50:28.151Z"
      },
      {
        "duration": 20,
        "start_time": "2025-06-21T12:55:56.280Z"
      },
      {
        "duration": 94,
        "start_time": "2025-06-21T12:56:05.225Z"
      },
      {
        "duration": 99,
        "start_time": "2025-06-21T12:56:05.895Z"
      },
      {
        "duration": 2934,
        "start_time": "2025-06-21T12:56:12.363Z"
      },
      {
        "duration": 14,
        "start_time": "2025-06-21T12:56:17.924Z"
      },
      {
        "duration": 15,
        "start_time": "2025-06-21T12:57:19.593Z"
      },
      {
        "duration": 16,
        "start_time": "2025-06-21T12:57:29.551Z"
      },
      {
        "duration": 12,
        "start_time": "2025-06-21T12:59:29.863Z"
      },
      {
        "duration": 15,
        "start_time": "2025-06-21T13:00:02.989Z"
      },
      {
        "duration": 8,
        "start_time": "2025-06-21T13:02:00.569Z"
      },
      {
        "duration": 99,
        "start_time": "2025-06-21T13:04:22.060Z"
      },
      {
        "duration": 19,
        "start_time": "2025-06-21T13:04:23.395Z"
      },
      {
        "duration": 78,
        "start_time": "2025-06-21T13:04:25.456Z"
      },
      {
        "duration": 84,
        "start_time": "2025-06-21T13:04:26.148Z"
      },
      {
        "duration": 3101,
        "start_time": "2025-06-21T13:04:27.203Z"
      },
      {
        "duration": 13,
        "start_time": "2025-06-21T13:04:37.194Z"
      },
      {
        "duration": 24,
        "start_time": "2025-06-21T13:04:38.290Z"
      },
      {
        "duration": 89,
        "start_time": "2025-06-21T13:09:32.404Z"
      },
      {
        "duration": 21,
        "start_time": "2025-06-21T13:09:34.102Z"
      },
      {
        "duration": 70,
        "start_time": "2025-06-21T13:09:41.004Z"
      },
      {
        "duration": 88,
        "start_time": "2025-06-21T13:09:44.324Z"
      },
      {
        "duration": 86,
        "start_time": "2025-06-21T13:15:35.147Z"
      },
      {
        "duration": 18,
        "start_time": "2025-06-21T13:15:36.158Z"
      },
      {
        "duration": 7,
        "start_time": "2025-06-21T13:15:38.677Z"
      },
      {
        "duration": 15,
        "start_time": "2025-06-21T13:15:40.773Z"
      },
      {
        "duration": 21,
        "start_time": "2025-06-21T13:16:00.643Z"
      },
      {
        "duration": 7,
        "start_time": "2025-06-21T13:16:02.221Z"
      },
      {
        "duration": 16,
        "start_time": "2025-06-21T13:29:05.586Z"
      },
      {
        "duration": 20,
        "start_time": "2025-06-21T13:29:34.532Z"
      },
      {
        "duration": 16,
        "start_time": "2025-06-21T13:30:36.965Z"
      },
      {
        "duration": 85,
        "start_time": "2025-06-21T13:31:15.382Z"
      },
      {
        "duration": 103,
        "start_time": "2025-06-21T13:31:30.484Z"
      },
      {
        "duration": 105,
        "start_time": "2025-06-21T13:36:24.746Z"
      },
      {
        "duration": 2787,
        "start_time": "2025-06-21T14:33:54.851Z"
      },
      {
        "duration": 16,
        "start_time": "2025-06-21T14:34:49.996Z"
      },
      {
        "duration": 218,
        "start_time": "2025-06-21T14:36:02.621Z"
      },
      {
        "duration": 218,
        "start_time": "2025-06-21T14:37:37.837Z"
      },
      {
        "duration": 208,
        "start_time": "2025-06-21T14:41:37.555Z"
      },
      {
        "duration": 214,
        "start_time": "2025-06-21T14:42:02.910Z"
      },
      {
        "duration": 66,
        "start_time": "2025-06-21T14:54:15.285Z"
      },
      {
        "duration": 114,
        "start_time": "2025-06-21T14:54:17.300Z"
      },
      {
        "duration": 156,
        "start_time": "2025-06-21T15:03:21.927Z"
      },
      {
        "duration": 5,
        "start_time": "2025-06-21T15:03:25.456Z"
      },
      {
        "duration": 788,
        "start_time": "2025-06-21T15:03:28.471Z"
      },
      {
        "duration": 86,
        "start_time": "2025-06-21T15:03:31.617Z"
      },
      {
        "duration": 30777,
        "start_time": "2025-06-21T15:03:33.064Z"
      },
      {
        "duration": 196753,
        "start_time": "2025-06-21T15:05:59.134Z"
      },
      {
        "duration": 9,
        "start_time": "2025-06-21T15:10:31.859Z"
      },
      {
        "duration": 28,
        "start_time": "2025-06-21T15:10:51.621Z"
      },
      {
        "duration": 1849,
        "start_time": "2025-06-21T15:12:47.271Z"
      },
      {
        "duration": 203,
        "start_time": "2025-06-21T15:13:11.379Z"
      },
      {
        "duration": 52,
        "start_time": "2025-06-21T15:15:00.834Z"
      },
      {
        "duration": 57,
        "start_time": "2025-06-21T15:31:59.519Z"
      },
      {
        "duration": 3661,
        "start_time": "2025-06-21T15:35:20.202Z"
      },
      {
        "duration": 2715,
        "start_time": "2025-06-21T15:35:23.865Z"
      },
      {
        "duration": 7,
        "start_time": "2025-06-21T15:35:26.582Z"
      },
      {
        "duration": 27,
        "start_time": "2025-06-21T15:35:26.591Z"
      },
      {
        "duration": 201,
        "start_time": "2025-06-21T15:35:26.619Z"
      },
      {
        "duration": 59,
        "start_time": "2025-06-21T15:35:26.822Z"
      },
      {
        "duration": 45,
        "start_time": "2025-06-21T15:35:26.882Z"
      },
      {
        "duration": 173,
        "start_time": "2025-06-21T15:35:26.929Z"
      },
      {
        "duration": 3,
        "start_time": "2025-06-21T15:35:27.104Z"
      },
      {
        "duration": 148,
        "start_time": "2025-06-21T15:35:27.109Z"
      },
      {
        "duration": 3225,
        "start_time": "2025-06-21T15:35:27.259Z"
      },
      {
        "duration": 19,
        "start_time": "2025-06-21T15:35:30.486Z"
      },
      {
        "duration": 22,
        "start_time": "2025-06-21T15:35:30.507Z"
      },
      {
        "duration": 26,
        "start_time": "2025-06-21T15:35:30.531Z"
      },
      {
        "duration": 161,
        "start_time": "2025-06-21T15:35:30.559Z"
      },
      {
        "duration": 12,
        "start_time": "2025-06-21T15:35:30.723Z"
      },
      {
        "duration": 6,
        "start_time": "2025-06-21T15:35:30.737Z"
      },
      {
        "duration": 112,
        "start_time": "2025-06-21T15:35:30.745Z"
      },
      {
        "duration": 19,
        "start_time": "2025-06-21T15:35:30.859Z"
      },
      {
        "duration": 77,
        "start_time": "2025-06-21T15:35:30.880Z"
      },
      {
        "duration": 19,
        "start_time": "2025-06-21T15:35:30.958Z"
      },
      {
        "duration": 98,
        "start_time": "2025-06-21T15:35:30.978Z"
      },
      {
        "duration": 68,
        "start_time": "2025-06-21T15:35:31.078Z"
      },
      {
        "duration": 114,
        "start_time": "2025-06-21T15:35:31.148Z"
      },
      {
        "duration": 2539,
        "start_time": "2025-06-21T15:35:31.263Z"
      },
      {
        "duration": 24,
        "start_time": "2025-06-21T15:35:33.804Z"
      },
      {
        "duration": 174551,
        "start_time": "2025-06-21T15:35:33.829Z"
      },
      {
        "duration": 2002,
        "start_time": "2025-06-21T15:38:28.383Z"
      },
      {
        "duration": 213,
        "start_time": "2025-06-21T15:38:30.387Z"
      },
      {
        "duration": 8976,
        "start_time": "2025-06-21T22:43:10.214Z"
      },
      {
        "duration": 2396,
        "start_time": "2025-06-21T22:43:19.192Z"
      },
      {
        "duration": 7,
        "start_time": "2025-06-21T22:43:21.589Z"
      },
      {
        "duration": 24,
        "start_time": "2025-06-21T22:43:21.597Z"
      },
      {
        "duration": 191,
        "start_time": "2025-06-21T22:43:21.623Z"
      },
      {
        "duration": 61,
        "start_time": "2025-06-21T22:43:21.816Z"
      },
      {
        "duration": 6,
        "start_time": "2025-06-21T22:43:21.879Z"
      },
      {
        "duration": 174,
        "start_time": "2025-06-21T22:43:21.886Z"
      },
      {
        "duration": 4,
        "start_time": "2025-06-21T22:43:22.062Z"
      },
      {
        "duration": 242,
        "start_time": "2025-06-21T22:43:22.071Z"
      },
      {
        "duration": 3174,
        "start_time": "2025-06-21T22:43:22.314Z"
      },
      {
        "duration": 20,
        "start_time": "2025-06-21T22:43:25.490Z"
      },
      {
        "duration": 17,
        "start_time": "2025-06-21T22:43:25.512Z"
      },
      {
        "duration": 3,
        "start_time": "2025-06-21T22:43:25.532Z"
      },
      {
        "duration": 144,
        "start_time": "2025-06-21T22:43:25.537Z"
      },
      {
        "duration": 4,
        "start_time": "2025-06-21T22:43:25.683Z"
      },
      {
        "duration": 8,
        "start_time": "2025-06-21T22:43:25.689Z"
      },
      {
        "duration": 104,
        "start_time": "2025-06-21T22:43:25.701Z"
      },
      {
        "duration": 19,
        "start_time": "2025-06-21T22:43:25.807Z"
      },
      {
        "duration": 7,
        "start_time": "2025-06-21T22:43:25.828Z"
      },
      {
        "duration": 19,
        "start_time": "2025-06-21T22:43:25.836Z"
      },
      {
        "duration": 100,
        "start_time": "2025-06-21T22:43:25.872Z"
      },
      {
        "duration": 66,
        "start_time": "2025-06-21T22:43:25.974Z"
      },
      {
        "duration": 118,
        "start_time": "2025-06-21T22:43:26.042Z"
      },
      {
        "duration": 2493,
        "start_time": "2025-06-21T22:43:26.162Z"
      },
      {
        "duration": 35,
        "start_time": "2025-06-21T22:43:28.657Z"
      },
      {
        "duration": 162847,
        "start_time": "2025-06-21T22:43:28.693Z"
      },
      {
        "duration": 1986,
        "start_time": "2025-06-21T22:46:11.542Z"
      },
      {
        "duration": 222,
        "start_time": "2025-06-21T22:46:13.529Z"
      },
      {
        "duration": 41,
        "start_time": "2025-06-21T22:46:13.753Z"
      },
      {
        "duration": 47,
        "start_time": "2025-06-22T07:49:43.506Z"
      },
      {
        "duration": 4955,
        "start_time": "2025-06-22T07:49:48.137Z"
      },
      {
        "duration": 2444,
        "start_time": "2025-06-22T07:49:53.094Z"
      },
      {
        "duration": 6,
        "start_time": "2025-06-22T07:49:55.540Z"
      },
      {
        "duration": 126,
        "start_time": "2025-06-22T07:49:55.559Z"
      },
      {
        "duration": 208,
        "start_time": "2025-06-22T07:49:55.687Z"
      },
      {
        "duration": 61,
        "start_time": "2025-06-22T07:49:55.897Z"
      },
      {
        "duration": 7,
        "start_time": "2025-06-22T07:49:55.960Z"
      },
      {
        "duration": 187,
        "start_time": "2025-06-22T07:49:55.969Z"
      },
      {
        "duration": 3,
        "start_time": "2025-06-22T07:49:56.163Z"
      },
      {
        "duration": 222,
        "start_time": "2025-06-22T07:49:56.168Z"
      },
      {
        "duration": 3742,
        "start_time": "2025-06-22T07:49:56.392Z"
      },
      {
        "duration": 19,
        "start_time": "2025-06-22T07:50:00.136Z"
      },
      {
        "duration": 23,
        "start_time": "2025-06-22T07:50:00.157Z"
      },
      {
        "duration": 127,
        "start_time": "2025-06-22T07:50:00.181Z"
      },
      {
        "duration": 171,
        "start_time": "2025-06-22T07:50:00.310Z"
      },
      {
        "duration": 4,
        "start_time": "2025-06-22T07:50:00.483Z"
      },
      {
        "duration": 25,
        "start_time": "2025-06-22T07:50:00.489Z"
      },
      {
        "duration": 169,
        "start_time": "2025-06-22T07:50:00.515Z"
      },
      {
        "duration": 19,
        "start_time": "2025-06-22T07:50:00.686Z"
      },
      {
        "duration": 10,
        "start_time": "2025-06-22T07:50:00.706Z"
      },
      {
        "duration": 236,
        "start_time": "2025-06-22T07:50:00.718Z"
      },
      {
        "duration": 110,
        "start_time": "2025-06-22T07:50:00.956Z"
      },
      {
        "duration": 72,
        "start_time": "2025-06-22T07:50:01.068Z"
      },
      {
        "duration": 130,
        "start_time": "2025-06-22T07:50:01.142Z"
      },
      {
        "duration": 8261,
        "start_time": "2025-06-22T07:50:01.274Z"
      },
      {
        "duration": 32,
        "start_time": "2025-06-22T07:50:09.537Z"
      },
      {
        "duration": 252,
        "start_time": "2025-06-22T07:50:09.570Z"
      },
      {
        "duration": 119,
        "start_time": "2025-06-22T07:50:09.826Z"
      },
      {
        "duration": 0,
        "start_time": "2025-06-22T07:50:09.947Z"
      },
      {
        "duration": 0,
        "start_time": "2025-06-22T07:50:09.948Z"
      },
      {
        "duration": 94,
        "start_time": "2025-06-22T07:53:55.740Z"
      },
      {
        "duration": 11,
        "start_time": "2025-06-22T07:53:56.701Z"
      },
      {
        "duration": 1252,
        "start_time": "2025-06-22T07:54:18.434Z"
      },
      {
        "duration": 21,
        "start_time": "2025-06-22T07:57:45.157Z"
      },
      {
        "duration": 2731,
        "start_time": "2025-06-22T07:58:12.846Z"
      },
      {
        "duration": 20275,
        "start_time": "2025-06-22T08:01:32.903Z"
      },
      {
        "duration": 20455,
        "start_time": "2025-06-22T08:02:03.942Z"
      },
      {
        "duration": 20440,
        "start_time": "2025-06-22T08:02:40.846Z"
      },
      {
        "duration": 105,
        "start_time": "2025-06-22T08:08:15.292Z"
      },
      {
        "duration": 361,
        "start_time": "2025-06-22T08:08:44.962Z"
      },
      {
        "duration": 721,
        "start_time": "2025-06-22T08:09:17.165Z"
      },
      {
        "duration": 101,
        "start_time": "2025-06-22T08:09:50.668Z"
      },
      {
        "duration": 115,
        "start_time": "2025-06-22T08:10:08.443Z"
      },
      {
        "duration": 118,
        "start_time": "2025-06-22T08:10:23.811Z"
      },
      {
        "duration": 124,
        "start_time": "2025-06-22T08:11:04.809Z"
      },
      {
        "duration": 124,
        "start_time": "2025-06-22T08:11:14.063Z"
      },
      {
        "duration": 103,
        "start_time": "2025-06-22T08:14:14.137Z"
      },
      {
        "duration": 391,
        "start_time": "2025-06-22T08:14:21.179Z"
      },
      {
        "duration": 109,
        "start_time": "2025-06-22T08:14:22.670Z"
      },
      {
        "duration": 156,
        "start_time": "2025-06-22T08:14:25.022Z"
      },
      {
        "duration": 99,
        "start_time": "2025-06-22T09:17:33.972Z"
      },
      {
        "duration": 345,
        "start_time": "2025-06-22T09:17:35.425Z"
      },
      {
        "duration": 83,
        "start_time": "2025-06-22T09:17:40.908Z"
      },
      {
        "duration": 126,
        "start_time": "2025-06-22T09:17:51.189Z"
      },
      {
        "duration": 144,
        "start_time": "2025-06-22T09:17:53.078Z"
      },
      {
        "duration": 106,
        "start_time": "2025-06-22T09:23:33.782Z"
      },
      {
        "duration": 34,
        "start_time": "2025-06-22T09:23:40.383Z"
      },
      {
        "duration": 85,
        "start_time": "2025-06-22T09:23:41.637Z"
      },
      {
        "duration": 32,
        "start_time": "2025-06-22T09:24:21.421Z"
      },
      {
        "duration": 72,
        "start_time": "2025-06-22T09:24:22.829Z"
      },
      {
        "duration": 63,
        "start_time": "2025-06-22T10:03:55.947Z"
      },
      {
        "duration": 79,
        "start_time": "2025-06-22T10:05:24.972Z"
      },
      {
        "duration": 85,
        "start_time": "2025-06-22T10:05:31.356Z"
      },
      {
        "duration": 68,
        "start_time": "2025-06-22T10:05:58.467Z"
      },
      {
        "duration": 28,
        "start_time": "2025-06-22T10:06:31.094Z"
      },
      {
        "duration": 13,
        "start_time": "2025-06-22T10:06:32.481Z"
      },
      {
        "duration": 44,
        "start_time": "2025-06-22T10:06:41.857Z"
      },
      {
        "duration": 93,
        "start_time": "2025-06-22T10:07:41.315Z"
      },
      {
        "duration": 98,
        "start_time": "2025-06-22T10:08:17.292Z"
      },
      {
        "duration": 82,
        "start_time": "2025-06-22T10:08:43.777Z"
      },
      {
        "duration": 14,
        "start_time": "2025-06-22T10:09:05.314Z"
      },
      {
        "duration": 35,
        "start_time": "2025-06-22T10:09:11.235Z"
      },
      {
        "duration": 69,
        "start_time": "2025-06-22T10:09:12.277Z"
      },
      {
        "duration": 70,
        "start_time": "2025-06-22T10:20:11.710Z"
      },
      {
        "duration": 28,
        "start_time": "2025-06-22T10:29:16.989Z"
      },
      {
        "duration": 40,
        "start_time": "2025-06-22T10:30:09.966Z"
      },
      {
        "duration": 31,
        "start_time": "2025-06-22T10:30:22.776Z"
      },
      {
        "duration": 29,
        "start_time": "2025-06-22T10:31:25.410Z"
      },
      {
        "duration": 32,
        "start_time": "2025-06-22T10:31:49.789Z"
      },
      {
        "duration": 4,
        "start_time": "2025-06-22T10:32:29.877Z"
      },
      {
        "duration": 34,
        "start_time": "2025-06-22T10:32:46.309Z"
      },
      {
        "duration": 40,
        "start_time": "2025-06-22T10:33:02.333Z"
      },
      {
        "duration": 19,
        "start_time": "2025-06-22T10:33:04.854Z"
      },
      {
        "duration": 28,
        "start_time": "2025-06-22T10:33:05.877Z"
      },
      {
        "duration": 77,
        "start_time": "2025-06-22T10:33:07.090Z"
      },
      {
        "duration": 3848,
        "start_time": "2025-06-22T10:34:04.040Z"
      },
      {
        "duration": 2354,
        "start_time": "2025-06-22T10:34:07.891Z"
      },
      {
        "duration": 7,
        "start_time": "2025-06-22T10:34:10.247Z"
      },
      {
        "duration": 35,
        "start_time": "2025-06-22T10:34:10.257Z"
      },
      {
        "duration": 203,
        "start_time": "2025-06-22T10:34:10.293Z"
      },
      {
        "duration": 66,
        "start_time": "2025-06-22T10:34:10.497Z"
      },
      {
        "duration": 8,
        "start_time": "2025-06-22T10:34:10.566Z"
      },
      {
        "duration": 192,
        "start_time": "2025-06-22T10:34:10.576Z"
      },
      {
        "duration": 4,
        "start_time": "2025-06-22T10:34:10.771Z"
      },
      {
        "duration": 156,
        "start_time": "2025-06-22T10:34:10.778Z"
      },
      {
        "duration": 3474,
        "start_time": "2025-06-22T10:34:10.936Z"
      },
      {
        "duration": 20,
        "start_time": "2025-06-22T10:34:14.412Z"
      },
      {
        "duration": 106,
        "start_time": "2025-06-22T10:34:14.434Z"
      },
      {
        "duration": 4,
        "start_time": "2025-06-22T10:34:14.542Z"
      },
      {
        "duration": 166,
        "start_time": "2025-06-22T10:34:14.547Z"
      },
      {
        "duration": 3,
        "start_time": "2025-06-22T10:34:14.715Z"
      },
      {
        "duration": 89,
        "start_time": "2025-06-22T10:34:14.720Z"
      },
      {
        "duration": 97,
        "start_time": "2025-06-22T10:34:14.811Z"
      },
      {
        "duration": 18,
        "start_time": "2025-06-22T10:34:14.910Z"
      },
      {
        "duration": 7,
        "start_time": "2025-06-22T10:34:14.930Z"
      },
      {
        "duration": 36,
        "start_time": "2025-06-22T10:34:14.939Z"
      },
      {
        "duration": 97,
        "start_time": "2025-06-22T10:34:14.976Z"
      },
      {
        "duration": 71,
        "start_time": "2025-06-22T10:34:15.075Z"
      },
      {
        "duration": 156,
        "start_time": "2025-06-22T10:34:15.147Z"
      },
      {
        "duration": 2705,
        "start_time": "2025-06-22T10:34:15.305Z"
      },
      {
        "duration": 161,
        "start_time": "2025-06-22T10:34:18.012Z"
      },
      {
        "duration": 141,
        "start_time": "2025-06-22T10:34:18.178Z"
      },
      {
        "duration": 86,
        "start_time": "2025-06-22T10:34:18.323Z"
      },
      {
        "duration": 22,
        "start_time": "2025-06-22T10:34:18.410Z"
      },
      {
        "duration": 54,
        "start_time": "2025-06-22T10:34:18.434Z"
      },
      {
        "duration": 124,
        "start_time": "2025-06-22T10:34:18.490Z"
      },
      {
        "duration": 4693,
        "start_time": "2025-06-22T11:13:37.504Z"
      },
      {
        "duration": 1795,
        "start_time": "2025-06-22T11:13:42.200Z"
      },
      {
        "duration": 7,
        "start_time": "2025-06-22T11:13:43.997Z"
      },
      {
        "duration": 41,
        "start_time": "2025-06-22T11:13:44.005Z"
      },
      {
        "duration": 182,
        "start_time": "2025-06-22T11:13:44.048Z"
      },
      {
        "duration": 48,
        "start_time": "2025-06-22T11:13:44.232Z"
      },
      {
        "duration": 19,
        "start_time": "2025-06-22T11:13:44.281Z"
      },
      {
        "duration": 169,
        "start_time": "2025-06-22T11:13:44.301Z"
      },
      {
        "duration": 6,
        "start_time": "2025-06-22T11:13:44.472Z"
      },
      {
        "duration": 148,
        "start_time": "2025-06-22T11:13:44.479Z"
      },
      {
        "duration": 3773,
        "start_time": "2025-06-22T11:13:44.630Z"
      },
      {
        "duration": 19,
        "start_time": "2025-06-22T11:13:48.405Z"
      },
      {
        "duration": 25,
        "start_time": "2025-06-22T11:13:48.425Z"
      },
      {
        "duration": 5,
        "start_time": "2025-06-22T11:13:48.452Z"
      },
      {
        "duration": 165,
        "start_time": "2025-06-22T11:13:48.458Z"
      },
      {
        "duration": 4,
        "start_time": "2025-06-22T11:13:48.624Z"
      },
      {
        "duration": 19,
        "start_time": "2025-06-22T11:13:48.630Z"
      },
      {
        "duration": 98,
        "start_time": "2025-06-22T11:13:48.651Z"
      },
      {
        "duration": 20,
        "start_time": "2025-06-22T11:13:48.751Z"
      },
      {
        "duration": 8,
        "start_time": "2025-06-22T11:13:48.772Z"
      },
      {
        "duration": 30,
        "start_time": "2025-06-22T11:13:48.781Z"
      },
      {
        "duration": 113,
        "start_time": "2025-06-22T11:13:48.812Z"
      },
      {
        "duration": 62,
        "start_time": "2025-06-22T11:13:48.927Z"
      },
      {
        "duration": 112,
        "start_time": "2025-06-22T11:13:48.990Z"
      },
      {
        "duration": 7805,
        "start_time": "2025-06-22T11:13:49.104Z"
      },
      {
        "duration": 156,
        "start_time": "2025-06-22T11:13:56.911Z"
      },
      {
        "duration": 120,
        "start_time": "2025-06-22T11:13:57.068Z"
      },
      {
        "duration": 71,
        "start_time": "2025-06-22T11:13:57.190Z"
      },
      {
        "duration": 20,
        "start_time": "2025-06-22T11:13:57.263Z"
      },
      {
        "duration": 30,
        "start_time": "2025-06-22T11:13:57.299Z"
      },
      {
        "duration": 83,
        "start_time": "2025-06-22T11:13:57.331Z"
      },
      {
        "duration": 63,
        "start_time": "2025-06-22T11:13:57.415Z"
      },
      {
        "duration": 2291,
        "start_time": "2025-06-22T11:14:48.085Z"
      },
      {
        "duration": 1642,
        "start_time": "2025-06-22T11:14:50.378Z"
      },
      {
        "duration": 8,
        "start_time": "2025-06-22T11:14:52.022Z"
      },
      {
        "duration": 52,
        "start_time": "2025-06-22T11:14:52.032Z"
      },
      {
        "duration": 186,
        "start_time": "2025-06-22T11:14:52.087Z"
      },
      {
        "duration": 41,
        "start_time": "2025-06-22T11:14:52.275Z"
      },
      {
        "duration": 19,
        "start_time": "2025-06-22T11:14:52.318Z"
      },
      {
        "duration": 172,
        "start_time": "2025-06-22T11:14:52.339Z"
      },
      {
        "duration": 4,
        "start_time": "2025-06-22T11:14:52.513Z"
      },
      {
        "duration": 151,
        "start_time": "2025-06-22T11:14:52.518Z"
      },
      {
        "duration": 3234,
        "start_time": "2025-06-22T11:14:52.671Z"
      },
      {
        "duration": 26,
        "start_time": "2025-06-22T11:14:55.907Z"
      },
      {
        "duration": 28,
        "start_time": "2025-06-22T11:14:55.935Z"
      },
      {
        "duration": 61,
        "start_time": "2025-06-22T11:14:55.968Z"
      },
      {
        "duration": 141,
        "start_time": "2025-06-22T11:14:56.030Z"
      },
      {
        "duration": 4,
        "start_time": "2025-06-22T11:14:56.173Z"
      },
      {
        "duration": 19,
        "start_time": "2025-06-22T11:14:56.179Z"
      },
      {
        "duration": 100,
        "start_time": "2025-06-22T11:14:56.200Z"
      },
      {
        "duration": 20,
        "start_time": "2025-06-22T11:14:56.301Z"
      },
      {
        "duration": 16,
        "start_time": "2025-06-22T11:14:56.323Z"
      },
      {
        "duration": 18,
        "start_time": "2025-06-22T11:14:56.340Z"
      },
      {
        "duration": 121,
        "start_time": "2025-06-22T11:14:56.360Z"
      },
      {
        "duration": 77,
        "start_time": "2025-06-22T11:14:56.482Z"
      },
      {
        "duration": 110,
        "start_time": "2025-06-22T11:14:56.560Z"
      },
      {
        "duration": 2595,
        "start_time": "2025-06-22T11:14:56.671Z"
      },
      {
        "duration": 3,
        "start_time": "2025-06-22T11:14:59.267Z"
      },
      {
        "duration": 153,
        "start_time": "2025-06-22T11:14:59.271Z"
      },
      {
        "duration": 135,
        "start_time": "2025-06-22T11:14:59.426Z"
      },
      {
        "duration": 78,
        "start_time": "2025-06-22T11:14:59.562Z"
      },
      {
        "duration": 15,
        "start_time": "2025-06-22T11:14:59.642Z"
      },
      {
        "duration": 40,
        "start_time": "2025-06-22T11:14:59.659Z"
      },
      {
        "duration": 71,
        "start_time": "2025-06-22T11:14:59.701Z"
      },
      {
        "duration": 168,
        "start_time": "2025-06-22T11:14:59.774Z"
      },
      {
        "duration": 2,
        "start_time": "2025-06-22T11:15:48.655Z"
      },
      {
        "duration": 56,
        "start_time": "2025-06-22T11:17:13.783Z"
      },
      {
        "duration": 363,
        "start_time": "2025-06-22T11:19:49.855Z"
      },
      {
        "duration": 49,
        "start_time": "2025-06-23T16:09:42.590Z"
      },
      {
        "duration": 8,
        "start_time": "2025-06-23T16:10:16.131Z"
      },
      {
        "duration": 5111,
        "start_time": "2025-06-23T16:10:36.881Z"
      },
      {
        "duration": 2529,
        "start_time": "2025-06-23T16:10:41.995Z"
      },
      {
        "duration": 7,
        "start_time": "2025-06-23T16:10:44.525Z"
      },
      {
        "duration": 58,
        "start_time": "2025-06-23T16:10:44.534Z"
      },
      {
        "duration": 181,
        "start_time": "2025-06-23T16:10:44.594Z"
      },
      {
        "duration": 67,
        "start_time": "2025-06-23T16:10:44.777Z"
      },
      {
        "duration": 6,
        "start_time": "2025-06-23T16:10:44.846Z"
      },
      {
        "duration": 184,
        "start_time": "2025-06-23T16:10:44.854Z"
      },
      {
        "duration": 3,
        "start_time": "2025-06-23T16:10:45.040Z"
      },
      {
        "duration": 256,
        "start_time": "2025-06-23T16:10:45.046Z"
      },
      {
        "duration": 3963,
        "start_time": "2025-06-23T16:10:45.305Z"
      },
      {
        "duration": 21,
        "start_time": "2025-06-23T16:10:49.270Z"
      },
      {
        "duration": 20,
        "start_time": "2025-06-23T16:10:49.293Z"
      },
      {
        "duration": 4,
        "start_time": "2025-06-23T16:10:49.315Z"
      },
      {
        "duration": 153,
        "start_time": "2025-06-23T16:10:49.320Z"
      },
      {
        "duration": 4,
        "start_time": "2025-06-23T16:10:49.475Z"
      },
      {
        "duration": 25,
        "start_time": "2025-06-23T16:10:49.480Z"
      },
      {
        "duration": 105,
        "start_time": "2025-06-23T16:10:49.507Z"
      },
      {
        "duration": 25,
        "start_time": "2025-06-23T16:10:49.614Z"
      },
      {
        "duration": 8,
        "start_time": "2025-06-23T16:10:49.641Z"
      },
      {
        "duration": 19,
        "start_time": "2025-06-23T16:10:49.650Z"
      },
      {
        "duration": 112,
        "start_time": "2025-06-23T16:10:49.670Z"
      },
      {
        "duration": 82,
        "start_time": "2025-06-23T16:10:49.784Z"
      },
      {
        "duration": 120,
        "start_time": "2025-06-23T16:10:49.868Z"
      },
      {
        "duration": 8420,
        "start_time": "2025-06-23T16:10:49.989Z"
      },
      {
        "duration": 59,
        "start_time": "2025-06-23T16:10:58.411Z"
      },
      {
        "duration": 180,
        "start_time": "2025-06-23T16:10:58.471Z"
      },
      {
        "duration": 153,
        "start_time": "2025-06-23T16:10:58.655Z"
      },
      {
        "duration": 77,
        "start_time": "2025-06-23T16:10:58.810Z"
      },
      {
        "duration": 23,
        "start_time": "2025-06-23T16:10:58.889Z"
      },
      {
        "duration": 54,
        "start_time": "2025-06-23T16:10:58.913Z"
      },
      {
        "duration": 92,
        "start_time": "2025-06-23T16:10:58.969Z"
      },
      {
        "duration": 207,
        "start_time": "2025-06-23T16:10:59.062Z"
      },
      {
        "duration": 85,
        "start_time": "2025-06-23T16:10:59.270Z"
      },
      {
        "duration": 446,
        "start_time": "2025-06-23T16:10:59.357Z"
      },
      {
        "duration": 45,
        "start_time": "2025-06-23T16:10:59.805Z"
      },
      {
        "duration": 134,
        "start_time": "2025-06-23T16:15:16.397Z"
      },
      {
        "duration": 112,
        "start_time": "2025-06-23T16:15:20.241Z"
      },
      {
        "duration": 15,
        "start_time": "2025-06-23T16:15:48.236Z"
      },
      {
        "duration": 3,
        "start_time": "2025-06-23T16:15:49.810Z"
      },
      {
        "duration": 29,
        "start_time": "2025-06-23T16:17:00.929Z"
      },
      {
        "duration": 4,
        "start_time": "2025-06-23T16:17:02.050Z"
      },
      {
        "duration": 15,
        "start_time": "2025-06-23T16:20:15.809Z"
      },
      {
        "duration": 15,
        "start_time": "2025-06-23T16:20:30.187Z"
      },
      {
        "duration": 1235,
        "start_time": "2025-06-23T16:21:17.426Z"
      },
      {
        "duration": 4,
        "start_time": "2025-06-23T16:21:39.065Z"
      },
      {
        "duration": 53,
        "start_time": "2025-06-24T13:21:56.200Z"
      },
      {
        "duration": 7,
        "start_time": "2025-06-24T13:21:58.967Z"
      },
      {
        "duration": 5130,
        "start_time": "2025-06-24T13:22:05.627Z"
      },
      {
        "duration": 2132,
        "start_time": "2025-06-24T13:22:10.759Z"
      },
      {
        "duration": 11,
        "start_time": "2025-06-24T13:22:12.893Z"
      },
      {
        "duration": 25,
        "start_time": "2025-06-24T13:22:12.907Z"
      },
      {
        "duration": 203,
        "start_time": "2025-06-24T13:22:12.933Z"
      },
      {
        "duration": 67,
        "start_time": "2025-06-24T13:22:13.138Z"
      },
      {
        "duration": 5,
        "start_time": "2025-06-24T13:22:13.207Z"
      },
      {
        "duration": 182,
        "start_time": "2025-06-24T13:22:13.214Z"
      },
      {
        "duration": 7,
        "start_time": "2025-06-24T13:22:13.398Z"
      },
      {
        "duration": 150,
        "start_time": "2025-06-24T13:22:13.408Z"
      },
      {
        "duration": 3874,
        "start_time": "2025-06-24T13:22:13.560Z"
      },
      {
        "duration": 21,
        "start_time": "2025-06-24T13:22:17.436Z"
      },
      {
        "duration": 36,
        "start_time": "2025-06-24T13:22:17.459Z"
      },
      {
        "duration": 6,
        "start_time": "2025-06-24T13:22:17.497Z"
      },
      {
        "duration": 159,
        "start_time": "2025-06-24T13:22:17.504Z"
      },
      {
        "duration": 4,
        "start_time": "2025-06-24T13:22:17.665Z"
      },
      {
        "duration": 17,
        "start_time": "2025-06-24T13:22:17.671Z"
      },
      {
        "duration": 102,
        "start_time": "2025-06-24T13:22:17.690Z"
      },
      {
        "duration": 25,
        "start_time": "2025-06-24T13:22:17.793Z"
      },
      {
        "duration": 8,
        "start_time": "2025-06-24T13:22:17.820Z"
      },
      {
        "duration": 107,
        "start_time": "2025-06-24T13:22:17.829Z"
      },
      {
        "duration": 181,
        "start_time": "2025-06-24T13:22:17.938Z"
      },
      {
        "duration": 69,
        "start_time": "2025-06-24T13:22:18.121Z"
      },
      {
        "duration": 118,
        "start_time": "2025-06-24T13:22:18.191Z"
      },
      {
        "duration": 8294,
        "start_time": "2025-06-24T13:22:18.311Z"
      },
      {
        "duration": 48,
        "start_time": "2025-06-24T13:22:26.607Z"
      },
      {
        "duration": 181,
        "start_time": "2025-06-24T13:22:26.657Z"
      },
      {
        "duration": 129,
        "start_time": "2025-06-24T13:22:26.842Z"
      },
      {
        "duration": 86,
        "start_time": "2025-06-24T13:22:26.972Z"
      },
      {
        "duration": 22,
        "start_time": "2025-06-24T13:22:27.060Z"
      },
      {
        "duration": 161,
        "start_time": "2025-06-24T13:22:27.083Z"
      },
      {
        "duration": 77,
        "start_time": "2025-06-24T13:22:27.246Z"
      },
      {
        "duration": 197,
        "start_time": "2025-06-24T13:22:27.325Z"
      },
      {
        "duration": 91,
        "start_time": "2025-06-24T13:22:27.523Z"
      },
      {
        "duration": 401,
        "start_time": "2025-06-24T13:22:27.616Z"
      },
      {
        "duration": 22,
        "start_time": "2025-06-24T13:22:28.018Z"
      },
      {
        "duration": 60,
        "start_time": "2025-06-24T13:22:28.042Z"
      },
      {
        "duration": 28,
        "start_time": "2025-06-24T13:22:28.104Z"
      },
      {
        "duration": 6,
        "start_time": "2025-06-24T13:22:28.134Z"
      },
      {
        "duration": 32,
        "start_time": "2025-06-24T13:23:07.159Z"
      },
      {
        "duration": 564,
        "start_time": "2025-06-24T14:00:43.294Z"
      },
      {
        "duration": 796,
        "start_time": "2025-06-24T14:01:22.000Z"
      },
      {
        "duration": 560,
        "start_time": "2025-06-24T14:02:10.265Z"
      },
      {
        "duration": 109,
        "start_time": "2025-06-24T14:09:06.174Z"
      },
      {
        "duration": 30,
        "start_time": "2025-06-24T14:09:18.292Z"
      },
      {
        "duration": 35,
        "start_time": "2025-06-24T14:09:43.644Z"
      },
      {
        "duration": 460,
        "start_time": "2025-06-24T14:10:05.156Z"
      },
      {
        "duration": 24,
        "start_time": "2025-06-24T14:11:01.773Z"
      },
      {
        "duration": 23,
        "start_time": "2025-06-24T14:15:06.155Z"
      },
      {
        "duration": 23,
        "start_time": "2025-06-24T14:15:25.739Z"
      },
      {
        "duration": 1238,
        "start_time": "2025-06-24T14:15:47.003Z"
      },
      {
        "duration": 65,
        "start_time": "2025-06-24T14:19:49.138Z"
      },
      {
        "duration": 1333,
        "start_time": "2025-06-24T14:20:15.419Z"
      },
      {
        "duration": 1280,
        "start_time": "2025-06-24T14:20:37.979Z"
      },
      {
        "duration": 16,
        "start_time": "2025-06-24T14:21:59.657Z"
      },
      {
        "duration": 1280,
        "start_time": "2025-06-24T14:22:11.969Z"
      },
      {
        "duration": 15,
        "start_time": "2025-06-24T14:22:51.370Z"
      },
      {
        "duration": 133,
        "start_time": "2025-06-24T14:37:23.832Z"
      },
      {
        "duration": 130,
        "start_time": "2025-06-24T14:39:25.959Z"
      },
      {
        "duration": 10,
        "start_time": "2025-06-24T14:40:30.814Z"
      },
      {
        "duration": 10,
        "start_time": "2025-06-24T14:40:32.117Z"
      },
      {
        "duration": 16,
        "start_time": "2025-06-24T14:43:07.245Z"
      },
      {
        "duration": 122,
        "start_time": "2025-06-24T14:43:21.717Z"
      },
      {
        "duration": 10,
        "start_time": "2025-06-24T14:43:48.981Z"
      },
      {
        "duration": 1259,
        "start_time": "2025-06-24T14:43:56.517Z"
      },
      {
        "duration": 518,
        "start_time": "2025-06-24T14:44:21.013Z"
      },
      {
        "duration": 132,
        "start_time": "2025-06-24T14:47:08.045Z"
      },
      {
        "duration": 127,
        "start_time": "2025-06-24T14:47:54.692Z"
      },
      {
        "duration": 239,
        "start_time": "2025-06-24T14:49:11.637Z"
      },
      {
        "duration": 121,
        "start_time": "2025-06-24T14:50:41.078Z"
      },
      {
        "duration": 121,
        "start_time": "2025-06-24T14:50:54.613Z"
      },
      {
        "duration": 123,
        "start_time": "2025-06-24T14:51:04.468Z"
      },
      {
        "duration": 127,
        "start_time": "2025-06-24T14:51:31.404Z"
      },
      {
        "duration": 152,
        "start_time": "2025-06-24T14:54:13.178Z"
      },
      {
        "duration": 167,
        "start_time": "2025-06-24T14:55:24.882Z"
      },
      {
        "duration": 151,
        "start_time": "2025-06-24T14:55:25.051Z"
      },
      {
        "duration": 129,
        "start_time": "2025-06-24T14:58:07.830Z"
      },
      {
        "duration": 126,
        "start_time": "2025-06-24T14:58:12.450Z"
      },
      {
        "duration": 234,
        "start_time": "2025-06-24T14:58:48.522Z"
      },
      {
        "duration": 133,
        "start_time": "2025-06-24T14:58:59.986Z"
      },
      {
        "duration": 6,
        "start_time": "2025-06-24T14:59:19.746Z"
      },
      {
        "duration": 7,
        "start_time": "2025-06-24T14:59:34.042Z"
      },
      {
        "duration": 1529,
        "start_time": "2025-06-24T15:27:29.820Z"
      },
      {
        "duration": 1287,
        "start_time": "2025-06-24T15:31:44.529Z"
      },
      {
        "duration": 1208,
        "start_time": "2025-06-24T15:34:54.626Z"
      },
      {
        "duration": 10,
        "start_time": "2025-06-24T15:40:49.720Z"
      },
      {
        "duration": 10,
        "start_time": "2025-06-24T15:41:10.866Z"
      },
      {
        "duration": 16,
        "start_time": "2025-06-24T15:41:24.353Z"
      },
      {
        "duration": 33,
        "start_time": "2025-06-24T15:41:35.089Z"
      },
      {
        "duration": 32,
        "start_time": "2025-06-24T15:41:43.146Z"
      },
      {
        "duration": 24,
        "start_time": "2025-06-24T15:42:13.505Z"
      },
      {
        "duration": 10,
        "start_time": "2025-06-24T15:42:47.449Z"
      },
      {
        "duration": 19,
        "start_time": "2025-06-24T15:43:00.441Z"
      },
      {
        "duration": 1253,
        "start_time": "2025-06-24T15:46:00.234Z"
      },
      {
        "duration": 10,
        "start_time": "2025-06-24T15:46:32.688Z"
      },
      {
        "duration": 15,
        "start_time": "2025-06-24T15:46:40.426Z"
      },
      {
        "duration": 27,
        "start_time": "2025-06-24T15:47:05.248Z"
      },
      {
        "duration": 15,
        "start_time": "2025-06-24T15:47:39.944Z"
      },
      {
        "duration": 10,
        "start_time": "2025-06-24T15:49:15.583Z"
      },
      {
        "duration": 74,
        "start_time": "2025-06-24T15:51:27.495Z"
      },
      {
        "duration": 6,
        "start_time": "2025-06-24T15:51:41.607Z"
      },
      {
        "duration": 15,
        "start_time": "2025-06-24T15:58:24.997Z"
      },
      {
        "duration": 6,
        "start_time": "2025-06-24T15:58:28.373Z"
      },
      {
        "duration": 14,
        "start_time": "2025-06-24T15:58:29.605Z"
      },
      {
        "duration": 8,
        "start_time": "2025-06-24T15:59:24.629Z"
      },
      {
        "duration": 9,
        "start_time": "2025-06-24T15:59:49.669Z"
      },
      {
        "duration": 9,
        "start_time": "2025-06-24T16:43:06.868Z"
      },
      {
        "duration": 9,
        "start_time": "2025-06-24T17:40:11.892Z"
      },
      {
        "duration": 4,
        "start_time": "2025-06-24T17:41:08.698Z"
      },
      {
        "duration": 16,
        "start_time": "2025-06-24T17:41:14.200Z"
      },
      {
        "duration": 4,
        "start_time": "2025-06-24T17:41:15.028Z"
      },
      {
        "duration": 3,
        "start_time": "2025-06-24T17:41:15.849Z"
      },
      {
        "duration": 8,
        "start_time": "2025-06-24T17:50:31.503Z"
      },
      {
        "duration": 10,
        "start_time": "2025-06-24T17:54:02.521Z"
      },
      {
        "duration": 8,
        "start_time": "2025-06-24T17:54:16.857Z"
      },
      {
        "duration": 5,
        "start_time": "2025-06-24T17:54:17.827Z"
      },
      {
        "duration": 4,
        "start_time": "2025-06-24T17:54:18.649Z"
      },
      {
        "duration": 19,
        "start_time": "2025-06-24T17:54:20.010Z"
      },
      {
        "duration": 55,
        "start_time": "2025-06-25T07:56:04.626Z"
      },
      {
        "duration": 8,
        "start_time": "2025-06-25T07:56:19.650Z"
      },
      {
        "duration": 6,
        "start_time": "2025-06-25T07:56:36.088Z"
      },
      {
        "duration": 5158,
        "start_time": "2025-06-25T07:56:44.736Z"
      },
      {
        "duration": 2832,
        "start_time": "2025-06-25T07:56:49.897Z"
      },
      {
        "duration": 20,
        "start_time": "2025-06-25T07:56:52.731Z"
      },
      {
        "duration": 29,
        "start_time": "2025-06-25T07:56:52.754Z"
      },
      {
        "duration": 217,
        "start_time": "2025-06-25T07:56:52.785Z"
      },
      {
        "duration": 72,
        "start_time": "2025-06-25T07:56:53.004Z"
      },
      {
        "duration": 7,
        "start_time": "2025-06-25T07:56:53.077Z"
      },
      {
        "duration": 217,
        "start_time": "2025-06-25T07:56:53.086Z"
      },
      {
        "duration": 3,
        "start_time": "2025-06-25T07:56:53.305Z"
      },
      {
        "duration": 197,
        "start_time": "2025-06-25T07:56:53.311Z"
      },
      {
        "duration": 4174,
        "start_time": "2025-06-25T07:56:53.510Z"
      },
      {
        "duration": 25,
        "start_time": "2025-06-25T07:56:57.687Z"
      },
      {
        "duration": 17,
        "start_time": "2025-06-25T07:56:57.714Z"
      },
      {
        "duration": 10,
        "start_time": "2025-06-25T07:56:57.733Z"
      },
      {
        "duration": 196,
        "start_time": "2025-06-25T07:56:57.752Z"
      },
      {
        "duration": 8,
        "start_time": "2025-06-25T07:56:57.951Z"
      },
      {
        "duration": 94,
        "start_time": "2025-06-25T07:56:57.961Z"
      },
      {
        "duration": 150,
        "start_time": "2025-06-25T07:56:58.057Z"
      },
      {
        "duration": 43,
        "start_time": "2025-06-25T07:56:58.209Z"
      },
      {
        "duration": 50,
        "start_time": "2025-06-25T07:56:58.254Z"
      },
      {
        "duration": 48,
        "start_time": "2025-06-25T07:56:58.307Z"
      },
      {
        "duration": 286,
        "start_time": "2025-06-25T07:56:58.357Z"
      },
      {
        "duration": 79,
        "start_time": "2025-06-25T07:56:58.645Z"
      },
      {
        "duration": 143,
        "start_time": "2025-06-25T07:56:58.726Z"
      },
      {
        "duration": 9328,
        "start_time": "2025-06-25T07:56:58.871Z"
      },
      {
        "duration": 63,
        "start_time": "2025-06-25T07:57:08.201Z"
      },
      {
        "duration": 182,
        "start_time": "2025-06-25T07:57:08.266Z"
      },
      {
        "duration": 137,
        "start_time": "2025-06-25T07:57:08.453Z"
      },
      {
        "duration": 87,
        "start_time": "2025-06-25T07:57:08.592Z"
      },
      {
        "duration": 20,
        "start_time": "2025-06-25T07:57:08.681Z"
      },
      {
        "duration": 53,
        "start_time": "2025-06-25T07:57:08.703Z"
      },
      {
        "duration": 95,
        "start_time": "2025-06-25T07:57:08.758Z"
      },
      {
        "duration": 191,
        "start_time": "2025-06-25T07:57:08.854Z"
      },
      {
        "duration": 71,
        "start_time": "2025-06-25T07:57:09.050Z"
      },
      {
        "duration": 440,
        "start_time": "2025-06-25T07:57:09.139Z"
      },
      {
        "duration": 21,
        "start_time": "2025-06-25T07:57:09.580Z"
      },
      {
        "duration": 3,
        "start_time": "2025-06-25T07:57:09.603Z"
      },
      {
        "duration": 44,
        "start_time": "2025-06-25T07:57:09.607Z"
      },
      {
        "duration": 4,
        "start_time": "2025-06-25T07:57:09.653Z"
      },
      {
        "duration": 28,
        "start_time": "2025-06-25T07:57:09.659Z"
      },
      {
        "duration": 14,
        "start_time": "2025-06-25T07:57:09.688Z"
      },
      {
        "duration": 17,
        "start_time": "2025-06-25T07:57:09.703Z"
      },
      {
        "duration": 178,
        "start_time": "2025-06-25T07:57:09.722Z"
      },
      {
        "duration": 50,
        "start_time": "2025-06-25T07:57:09.901Z"
      },
      {
        "duration": 82,
        "start_time": "2025-06-25T07:57:09.952Z"
      },
      {
        "duration": 136,
        "start_time": "2025-06-25T07:57:10.042Z"
      },
      {
        "duration": 16,
        "start_time": "2025-06-25T07:57:10.179Z"
      },
      {
        "duration": 7,
        "start_time": "2025-06-25T07:57:10.197Z"
      },
      {
        "duration": 83,
        "start_time": "2025-06-25T07:57:10.206Z"
      },
      {
        "duration": 14,
        "start_time": "2025-06-25T07:57:10.290Z"
      },
      {
        "duration": 24,
        "start_time": "2025-06-25T07:57:10.306Z"
      },
      {
        "duration": 24,
        "start_time": "2025-06-25T07:57:10.332Z"
      },
      {
        "duration": 15,
        "start_time": "2025-06-25T07:57:24.752Z"
      },
      {
        "duration": 50,
        "start_time": "2025-06-25T08:00:04.232Z"
      },
      {
        "duration": 31,
        "start_time": "2025-06-25T08:01:23.773Z"
      },
      {
        "duration": 48,
        "start_time": "2025-06-25T08:01:29.500Z"
      },
      {
        "duration": 149,
        "start_time": "2025-06-25T08:33:45.449Z"
      },
      {
        "duration": 158,
        "start_time": "2025-06-25T08:37:29.188Z"
      },
      {
        "duration": 260,
        "start_time": "2025-06-25T08:37:41.694Z"
      },
      {
        "duration": 62,
        "start_time": "2025-06-25T08:40:09.396Z"
      },
      {
        "duration": 146,
        "start_time": "2025-06-25T08:40:34.867Z"
      },
      {
        "duration": 3868,
        "start_time": "2025-06-25T09:24:30.083Z"
      },
      {
        "duration": 3500,
        "start_time": "2025-06-25T09:24:33.953Z"
      },
      {
        "duration": 6,
        "start_time": "2025-06-25T09:24:37.455Z"
      },
      {
        "duration": 49,
        "start_time": "2025-06-25T09:24:37.463Z"
      },
      {
        "duration": 210,
        "start_time": "2025-06-25T09:24:37.514Z"
      },
      {
        "duration": 68,
        "start_time": "2025-06-25T09:24:37.726Z"
      },
      {
        "duration": 6,
        "start_time": "2025-06-25T09:24:37.796Z"
      },
      {
        "duration": 218,
        "start_time": "2025-06-25T09:24:37.804Z"
      },
      {
        "duration": 3,
        "start_time": "2025-06-25T09:24:38.024Z"
      },
      {
        "duration": 172,
        "start_time": "2025-06-25T09:24:38.030Z"
      },
      {
        "duration": 3389,
        "start_time": "2025-06-25T09:24:38.203Z"
      },
      {
        "duration": 25,
        "start_time": "2025-06-25T09:24:41.594Z"
      },
      {
        "duration": 22,
        "start_time": "2025-06-25T09:24:41.621Z"
      },
      {
        "duration": 14,
        "start_time": "2025-06-25T09:24:41.650Z"
      },
      {
        "duration": 184,
        "start_time": "2025-06-25T09:24:41.666Z"
      },
      {
        "duration": 4,
        "start_time": "2025-06-25T09:24:41.852Z"
      },
      {
        "duration": 7,
        "start_time": "2025-06-25T09:24:41.857Z"
      },
      {
        "duration": 109,
        "start_time": "2025-06-25T09:24:41.866Z"
      },
      {
        "duration": 21,
        "start_time": "2025-06-25T09:24:41.977Z"
      },
      {
        "duration": 8,
        "start_time": "2025-06-25T09:24:42.000Z"
      },
      {
        "duration": 102,
        "start_time": "2025-06-25T09:24:42.009Z"
      },
      {
        "duration": 104,
        "start_time": "2025-06-25T09:24:42.113Z"
      },
      {
        "duration": 78,
        "start_time": "2025-06-25T09:24:42.219Z"
      },
      {
        "duration": 126,
        "start_time": "2025-06-25T09:24:42.298Z"
      },
      {
        "duration": 2796,
        "start_time": "2025-06-25T09:24:42.426Z"
      },
      {
        "duration": 48,
        "start_time": "2025-06-25T09:24:45.224Z"
      },
      {
        "duration": 158,
        "start_time": "2025-06-25T09:24:45.273Z"
      },
      {
        "duration": 141,
        "start_time": "2025-06-25T09:24:45.439Z"
      },
      {
        "duration": 92,
        "start_time": "2025-06-25T09:24:45.582Z"
      },
      {
        "duration": 20,
        "start_time": "2025-06-25T09:24:45.676Z"
      },
      {
        "duration": 56,
        "start_time": "2025-06-25T09:24:45.698Z"
      },
      {
        "duration": 111,
        "start_time": "2025-06-25T09:24:45.755Z"
      },
      {
        "duration": 195,
        "start_time": "2025-06-25T09:24:45.868Z"
      },
      {
        "duration": 90,
        "start_time": "2025-06-25T09:24:46.065Z"
      },
      {
        "duration": 448,
        "start_time": "2025-06-25T09:24:46.156Z"
      },
      {
        "duration": 42,
        "start_time": "2025-06-25T09:24:46.606Z"
      },
      {
        "duration": 3,
        "start_time": "2025-06-25T09:24:46.650Z"
      },
      {
        "duration": 14,
        "start_time": "2025-06-25T09:24:46.655Z"
      },
      {
        "duration": 7,
        "start_time": "2025-06-25T09:24:46.671Z"
      },
      {
        "duration": 27,
        "start_time": "2025-06-25T09:24:46.679Z"
      },
      {
        "duration": 35,
        "start_time": "2025-06-25T09:24:46.708Z"
      },
      {
        "duration": 10,
        "start_time": "2025-06-25T09:24:46.748Z"
      },
      {
        "duration": 326,
        "start_time": "2025-06-25T09:24:46.759Z"
      },
      {
        "duration": 39,
        "start_time": "2025-06-25T09:24:47.086Z"
      },
      {
        "duration": 17,
        "start_time": "2025-06-25T09:24:47.136Z"
      },
      {
        "duration": 22,
        "start_time": "2025-06-25T09:24:47.155Z"
      },
      {
        "duration": 18,
        "start_time": "2025-06-25T09:24:47.179Z"
      },
      {
        "duration": 15,
        "start_time": "2025-06-25T09:24:47.199Z"
      },
      {
        "duration": 26,
        "start_time": "2025-06-25T09:24:47.216Z"
      },
      {
        "duration": 20,
        "start_time": "2025-06-25T09:24:47.244Z"
      },
      {
        "duration": 25,
        "start_time": "2025-06-25T09:24:47.266Z"
      },
      {
        "duration": 45,
        "start_time": "2025-06-25T09:24:47.293Z"
      },
      {
        "duration": 173,
        "start_time": "2025-06-25T09:24:47.341Z"
      },
      {
        "duration": 5770,
        "start_time": "2025-06-25T11:05:11.702Z"
      },
      {
        "duration": 2823,
        "start_time": "2025-06-25T11:05:17.475Z"
      },
      {
        "duration": 8,
        "start_time": "2025-06-25T11:05:20.300Z"
      },
      {
        "duration": 53,
        "start_time": "2025-06-25T11:05:20.310Z"
      },
      {
        "duration": 225,
        "start_time": "2025-06-25T11:05:20.374Z"
      },
      {
        "duration": 73,
        "start_time": "2025-06-25T11:05:20.600Z"
      },
      {
        "duration": 6,
        "start_time": "2025-06-25T11:05:20.675Z"
      },
      {
        "duration": 235,
        "start_time": "2025-06-25T11:05:20.684Z"
      },
      {
        "duration": 3,
        "start_time": "2025-06-25T11:05:20.921Z"
      },
      {
        "duration": 254,
        "start_time": "2025-06-25T11:05:20.927Z"
      },
      {
        "duration": 4325,
        "start_time": "2025-06-25T11:05:21.183Z"
      },
      {
        "duration": 22,
        "start_time": "2025-06-25T11:05:25.510Z"
      },
      {
        "duration": 31,
        "start_time": "2025-06-25T11:05:25.534Z"
      },
      {
        "duration": 5,
        "start_time": "2025-06-25T11:05:25.574Z"
      },
      {
        "duration": 191,
        "start_time": "2025-06-25T11:05:25.581Z"
      },
      {
        "duration": 5,
        "start_time": "2025-06-25T11:05:25.774Z"
      },
      {
        "duration": 25,
        "start_time": "2025-06-25T11:05:25.781Z"
      },
      {
        "duration": 123,
        "start_time": "2025-06-25T11:05:25.807Z"
      },
      {
        "duration": 26,
        "start_time": "2025-06-25T11:05:25.932Z"
      },
      {
        "duration": 17,
        "start_time": "2025-06-25T11:05:25.959Z"
      },
      {
        "duration": 19,
        "start_time": "2025-06-25T11:05:25.978Z"
      },
      {
        "duration": 131,
        "start_time": "2025-06-25T11:05:25.998Z"
      },
      {
        "duration": 101,
        "start_time": "2025-06-25T11:05:26.131Z"
      },
      {
        "duration": 141,
        "start_time": "2025-06-25T11:05:26.234Z"
      },
      {
        "duration": 9539,
        "start_time": "2025-06-25T11:05:26.377Z"
      },
      {
        "duration": 62,
        "start_time": "2025-06-25T11:05:35.918Z"
      },
      {
        "duration": 201,
        "start_time": "2025-06-25T11:05:35.982Z"
      },
      {
        "duration": 184,
        "start_time": "2025-06-25T11:05:36.187Z"
      },
      {
        "duration": 87,
        "start_time": "2025-06-25T11:05:36.373Z"
      },
      {
        "duration": 25,
        "start_time": "2025-06-25T11:05:36.462Z"
      },
      {
        "duration": 54,
        "start_time": "2025-06-25T11:05:36.489Z"
      },
      {
        "duration": 123,
        "start_time": "2025-06-25T11:05:36.551Z"
      },
      {
        "duration": 209,
        "start_time": "2025-06-25T11:05:36.676Z"
      },
      {
        "duration": 102,
        "start_time": "2025-06-25T11:05:36.887Z"
      },
      {
        "duration": 566,
        "start_time": "2025-06-25T11:05:36.991Z"
      },
      {
        "duration": 35,
        "start_time": "2025-06-25T11:05:37.569Z"
      },
      {
        "duration": 14,
        "start_time": "2025-06-25T11:05:37.608Z"
      },
      {
        "duration": 60,
        "start_time": "2025-06-25T11:05:37.624Z"
      },
      {
        "duration": 5,
        "start_time": "2025-06-25T11:05:37.687Z"
      },
      {
        "duration": 46,
        "start_time": "2025-06-25T11:05:37.694Z"
      },
      {
        "duration": 30,
        "start_time": "2025-06-25T11:05:37.743Z"
      },
      {
        "duration": 11,
        "start_time": "2025-06-25T11:05:37.775Z"
      },
      {
        "duration": 187,
        "start_time": "2025-06-25T11:05:37.788Z"
      },
      {
        "duration": 39,
        "start_time": "2025-06-25T11:05:37.978Z"
      },
      {
        "duration": 29,
        "start_time": "2025-06-25T11:05:38.019Z"
      },
      {
        "duration": 34,
        "start_time": "2025-06-25T11:05:38.054Z"
      },
      {
        "duration": 33,
        "start_time": "2025-06-25T11:05:38.090Z"
      },
      {
        "duration": 40,
        "start_time": "2025-06-25T11:05:38.125Z"
      },
      {
        "duration": 5,
        "start_time": "2025-06-25T11:05:38.170Z"
      },
      {
        "duration": 14,
        "start_time": "2025-06-25T11:05:38.177Z"
      },
      {
        "duration": 31,
        "start_time": "2025-06-25T11:05:38.193Z"
      },
      {
        "duration": 69,
        "start_time": "2025-06-25T11:05:38.226Z"
      },
      {
        "duration": 173,
        "start_time": "2025-06-25T11:05:38.297Z"
      },
      {
        "duration": 18,
        "start_time": "2025-06-25T11:06:06.257Z"
      },
      {
        "duration": 9,
        "start_time": "2025-06-25T11:07:06.314Z"
      },
      {
        "duration": 2949,
        "start_time": "2025-06-25T11:14:14.781Z"
      },
      {
        "duration": 3004,
        "start_time": "2025-06-25T11:14:17.733Z"
      },
      {
        "duration": 14,
        "start_time": "2025-06-25T11:14:20.739Z"
      },
      {
        "duration": 60,
        "start_time": "2025-06-25T11:14:20.763Z"
      },
      {
        "duration": 271,
        "start_time": "2025-06-25T11:14:20.824Z"
      },
      {
        "duration": 28,
        "start_time": "2025-06-25T11:14:21.096Z"
      },
      {
        "duration": 23,
        "start_time": "2025-06-25T11:14:21.126Z"
      },
      {
        "duration": 220,
        "start_time": "2025-06-25T11:14:21.151Z"
      },
      {
        "duration": 5,
        "start_time": "2025-06-25T11:14:21.373Z"
      },
      {
        "duration": 181,
        "start_time": "2025-06-25T11:14:21.381Z"
      },
      {
        "duration": 3563,
        "start_time": "2025-06-25T11:14:21.563Z"
      },
      {
        "duration": 157,
        "start_time": "2025-06-25T11:14:25.128Z"
      },
      {
        "duration": 23,
        "start_time": "2025-06-25T11:14:25.286Z"
      },
      {
        "duration": 5,
        "start_time": "2025-06-25T11:14:25.311Z"
      },
      {
        "duration": 200,
        "start_time": "2025-06-25T11:14:25.318Z"
      },
      {
        "duration": 5,
        "start_time": "2025-06-25T11:14:25.520Z"
      },
      {
        "duration": 55,
        "start_time": "2025-06-25T11:14:25.539Z"
      },
      {
        "duration": 116,
        "start_time": "2025-06-25T11:14:25.595Z"
      },
      {
        "duration": 41,
        "start_time": "2025-06-25T11:14:25.713Z"
      },
      {
        "duration": 13,
        "start_time": "2025-06-25T11:14:25.760Z"
      },
      {
        "duration": 39,
        "start_time": "2025-06-25T11:14:25.775Z"
      },
      {
        "duration": 148,
        "start_time": "2025-06-25T11:14:25.815Z"
      },
      {
        "duration": 95,
        "start_time": "2025-06-25T11:14:25.967Z"
      },
      {
        "duration": 121,
        "start_time": "2025-06-25T11:14:26.068Z"
      },
      {
        "duration": 3097,
        "start_time": "2025-06-25T11:14:26.191Z"
      },
      {
        "duration": 35,
        "start_time": "2025-06-25T11:14:29.290Z"
      },
      {
        "duration": 206,
        "start_time": "2025-06-25T11:14:29.327Z"
      },
      {
        "duration": 161,
        "start_time": "2025-06-25T11:14:29.542Z"
      },
      {
        "duration": 92,
        "start_time": "2025-06-25T11:14:29.705Z"
      },
      {
        "duration": 24,
        "start_time": "2025-06-25T11:14:29.798Z"
      },
      {
        "duration": 61,
        "start_time": "2025-06-25T11:14:29.823Z"
      },
      {
        "duration": 104,
        "start_time": "2025-06-25T11:14:29.886Z"
      },
      {
        "duration": 179,
        "start_time": "2025-06-25T11:14:29.991Z"
      },
      {
        "duration": 90,
        "start_time": "2025-06-25T11:14:30.172Z"
      },
      {
        "duration": 445,
        "start_time": "2025-06-25T11:14:30.264Z"
      },
      {
        "duration": 37,
        "start_time": "2025-06-25T11:14:30.711Z"
      },
      {
        "duration": 12,
        "start_time": "2025-06-25T11:14:30.752Z"
      },
      {
        "duration": 26,
        "start_time": "2025-06-25T11:14:30.766Z"
      },
      {
        "duration": 7,
        "start_time": "2025-06-25T11:14:30.794Z"
      },
      {
        "duration": 63,
        "start_time": "2025-06-25T11:14:30.803Z"
      },
      {
        "duration": 12,
        "start_time": "2025-06-25T11:14:30.869Z"
      },
      {
        "duration": 14,
        "start_time": "2025-06-25T11:14:30.883Z"
      },
      {
        "duration": 329,
        "start_time": "2025-06-25T11:14:30.899Z"
      },
      {
        "duration": 61,
        "start_time": "2025-06-25T11:14:31.229Z"
      },
      {
        "duration": 116,
        "start_time": "2025-06-25T11:14:31.291Z"
      },
      {
        "duration": 18,
        "start_time": "2025-06-25T11:14:31.409Z"
      },
      {
        "duration": 50,
        "start_time": "2025-06-25T11:14:31.429Z"
      },
      {
        "duration": 26,
        "start_time": "2025-06-25T11:14:31.480Z"
      },
      {
        "duration": 121,
        "start_time": "2025-06-25T11:14:31.507Z"
      },
      {
        "duration": 12,
        "start_time": "2025-06-25T11:14:31.630Z"
      },
      {
        "duration": 24,
        "start_time": "2025-06-25T11:14:31.647Z"
      },
      {
        "duration": 27,
        "start_time": "2025-06-25T11:14:31.672Z"
      },
      {
        "duration": 67,
        "start_time": "2025-06-25T11:14:31.701Z"
      },
      {
        "duration": 159,
        "start_time": "2025-06-25T11:14:31.771Z"
      },
      {
        "duration": 53,
        "start_time": "2025-06-25T12:00:13.339Z"
      },
      {
        "duration": 5070,
        "start_time": "2025-06-25T12:00:21.764Z"
      },
      {
        "duration": 3653,
        "start_time": "2025-06-25T12:00:26.836Z"
      },
      {
        "duration": 7,
        "start_time": "2025-06-25T12:00:30.491Z"
      },
      {
        "duration": 66,
        "start_time": "2025-06-25T12:00:30.501Z"
      },
      {
        "duration": 330,
        "start_time": "2025-06-25T12:00:30.569Z"
      },
      {
        "duration": 59,
        "start_time": "2025-06-25T12:00:30.901Z"
      },
      {
        "duration": 15,
        "start_time": "2025-06-25T12:00:30.962Z"
      },
      {
        "duration": 208,
        "start_time": "2025-06-25T12:00:30.979Z"
      },
      {
        "duration": 3,
        "start_time": "2025-06-25T12:00:31.189Z"
      },
      {
        "duration": 167,
        "start_time": "2025-06-25T12:00:31.195Z"
      },
      {
        "duration": 3945,
        "start_time": "2025-06-25T12:00:31.364Z"
      },
      {
        "duration": 21,
        "start_time": "2025-06-25T12:00:35.311Z"
      },
      {
        "duration": 24,
        "start_time": "2025-06-25T12:00:35.333Z"
      },
      {
        "duration": 67,
        "start_time": "2025-06-25T12:00:35.359Z"
      },
      {
        "duration": 241,
        "start_time": "2025-06-25T12:00:35.427Z"
      },
      {
        "duration": 72,
        "start_time": "2025-06-25T12:00:35.670Z"
      },
      {
        "duration": 169,
        "start_time": "2025-06-25T12:00:35.744Z"
      },
      {
        "duration": 135,
        "start_time": "2025-06-25T12:00:35.915Z"
      },
      {
        "duration": 19,
        "start_time": "2025-06-25T12:00:36.052Z"
      },
      {
        "duration": 80,
        "start_time": "2025-06-25T12:00:36.072Z"
      },
      {
        "duration": 57,
        "start_time": "2025-06-25T12:00:36.154Z"
      },
      {
        "duration": 152,
        "start_time": "2025-06-25T12:00:36.213Z"
      },
      {
        "duration": 85,
        "start_time": "2025-06-25T12:00:36.366Z"
      },
      {
        "duration": 116,
        "start_time": "2025-06-25T12:00:36.453Z"
      },
      {
        "duration": 8818,
        "start_time": "2025-06-25T12:00:36.570Z"
      },
      {
        "duration": 55,
        "start_time": "2025-06-25T12:00:45.389Z"
      },
      {
        "duration": 163,
        "start_time": "2025-06-25T12:00:45.449Z"
      },
      {
        "duration": 139,
        "start_time": "2025-06-25T12:00:45.615Z"
      },
      {
        "duration": 131,
        "start_time": "2025-06-25T12:00:45.755Z"
      },
      {
        "duration": 19,
        "start_time": "2025-06-25T12:00:45.888Z"
      },
      {
        "duration": 52,
        "start_time": "2025-06-25T12:00:45.909Z"
      },
      {
        "duration": 80,
        "start_time": "2025-06-25T12:00:45.963Z"
      },
      {
        "duration": 177,
        "start_time": "2025-06-25T12:00:46.045Z"
      },
      {
        "duration": 76,
        "start_time": "2025-06-25T12:00:46.224Z"
      },
      {
        "duration": 402,
        "start_time": "2025-06-25T12:00:46.302Z"
      },
      {
        "duration": 33,
        "start_time": "2025-06-25T12:00:46.705Z"
      },
      {
        "duration": 7,
        "start_time": "2025-06-25T12:00:46.745Z"
      },
      {
        "duration": 12,
        "start_time": "2025-06-25T12:00:46.754Z"
      },
      {
        "duration": 8,
        "start_time": "2025-06-25T12:00:46.768Z"
      },
      {
        "duration": 25,
        "start_time": "2025-06-25T12:00:46.778Z"
      },
      {
        "duration": 12,
        "start_time": "2025-06-25T12:00:46.805Z"
      },
      {
        "duration": 31,
        "start_time": "2025-06-25T12:00:46.819Z"
      },
      {
        "duration": 132,
        "start_time": "2025-06-25T12:00:46.853Z"
      },
      {
        "duration": 20,
        "start_time": "2025-06-25T12:00:46.986Z"
      },
      {
        "duration": 6,
        "start_time": "2025-06-25T12:00:47.008Z"
      },
      {
        "duration": 37,
        "start_time": "2025-06-25T12:00:47.016Z"
      },
      {
        "duration": 12,
        "start_time": "2025-06-25T12:00:47.055Z"
      },
      {
        "duration": 132,
        "start_time": "2025-06-25T12:00:47.070Z"
      },
      {
        "duration": 0,
        "start_time": "2025-06-25T12:00:47.203Z"
      },
      {
        "duration": 0,
        "start_time": "2025-06-25T12:00:47.205Z"
      },
      {
        "duration": 0,
        "start_time": "2025-06-25T12:00:47.206Z"
      },
      {
        "duration": 0,
        "start_time": "2025-06-25T12:00:47.207Z"
      },
      {
        "duration": 0,
        "start_time": "2025-06-25T12:00:47.208Z"
      },
      {
        "duration": 21,
        "start_time": "2025-06-25T12:02:14.214Z"
      },
      {
        "duration": 36,
        "start_time": "2025-06-25T12:05:21.814Z"
      },
      {
        "duration": 9,
        "start_time": "2025-06-25T12:05:23.957Z"
      },
      {
        "duration": 17,
        "start_time": "2025-06-25T12:05:25.914Z"
      },
      {
        "duration": 20,
        "start_time": "2025-06-25T12:05:33.452Z"
      },
      {
        "duration": 8,
        "start_time": "2025-06-25T12:05:35.149Z"
      },
      {
        "duration": 12,
        "start_time": "2025-06-25T12:05:37.955Z"
      },
      {
        "duration": 15,
        "start_time": "2025-06-25T12:06:19.353Z"
      },
      {
        "duration": 12,
        "start_time": "2025-06-25T12:06:42.818Z"
      },
      {
        "duration": 11,
        "start_time": "2025-06-25T12:08:08.583Z"
      },
      {
        "duration": 11,
        "start_time": "2025-06-25T12:20:13.952Z"
      },
      {
        "duration": 11,
        "start_time": "2025-06-25T12:21:28.749Z"
      },
      {
        "duration": 12,
        "start_time": "2025-06-25T12:46:38.214Z"
      },
      {
        "duration": 11,
        "start_time": "2025-06-25T12:48:37.046Z"
      },
      {
        "duration": 20,
        "start_time": "2025-06-25T12:50:12.477Z"
      },
      {
        "duration": 4,
        "start_time": "2025-06-25T12:50:25.039Z"
      },
      {
        "duration": 4,
        "start_time": "2025-06-25T12:50:27.271Z"
      },
      {
        "duration": 27,
        "start_time": "2025-06-25T12:50:29.931Z"
      },
      {
        "duration": 18,
        "start_time": "2025-06-25T12:52:56.957Z"
      },
      {
        "duration": 15,
        "start_time": "2025-06-25T12:57:07.043Z"
      },
      {
        "duration": 5520,
        "start_time": "2025-06-26T07:30:53.401Z"
      },
      {
        "duration": 2079,
        "start_time": "2025-06-26T07:30:58.924Z"
      },
      {
        "duration": 6,
        "start_time": "2025-06-26T07:31:01.005Z"
      },
      {
        "duration": 40,
        "start_time": "2025-06-26T07:31:01.013Z"
      },
      {
        "duration": 236,
        "start_time": "2025-06-26T07:31:01.055Z"
      },
      {
        "duration": 49,
        "start_time": "2025-06-26T07:31:01.294Z"
      },
      {
        "duration": 44,
        "start_time": "2025-06-26T07:31:01.345Z"
      },
      {
        "duration": 241,
        "start_time": "2025-06-26T07:31:01.392Z"
      },
      {
        "duration": 3,
        "start_time": "2025-06-26T07:31:01.635Z"
      },
      {
        "duration": 184,
        "start_time": "2025-06-26T07:31:01.641Z"
      },
      {
        "duration": 4196,
        "start_time": "2025-06-26T07:31:01.827Z"
      },
      {
        "duration": 20,
        "start_time": "2025-06-26T07:31:06.025Z"
      },
      {
        "duration": 37,
        "start_time": "2025-06-26T07:31:06.047Z"
      },
      {
        "duration": 9,
        "start_time": "2025-06-26T07:31:06.092Z"
      },
      {
        "duration": 191,
        "start_time": "2025-06-26T07:31:06.103Z"
      },
      {
        "duration": 4,
        "start_time": "2025-06-26T07:31:06.296Z"
      },
      {
        "duration": 30,
        "start_time": "2025-06-26T07:31:06.301Z"
      },
      {
        "duration": 144,
        "start_time": "2025-06-26T07:31:06.332Z"
      },
      {
        "duration": 22,
        "start_time": "2025-06-26T07:31:06.486Z"
      },
      {
        "duration": 7,
        "start_time": "2025-06-26T07:31:06.510Z"
      },
      {
        "duration": 19,
        "start_time": "2025-06-26T07:31:06.519Z"
      },
      {
        "duration": 141,
        "start_time": "2025-06-26T07:31:06.540Z"
      },
      {
        "duration": 96,
        "start_time": "2025-06-26T07:31:06.683Z"
      },
      {
        "duration": 129,
        "start_time": "2025-06-26T07:31:06.781Z"
      },
      {
        "duration": 9418,
        "start_time": "2025-06-26T07:31:06.912Z"
      },
      {
        "duration": 57,
        "start_time": "2025-06-26T07:31:16.331Z"
      },
      {
        "duration": 186,
        "start_time": "2025-06-26T07:31:16.391Z"
      },
      {
        "duration": 151,
        "start_time": "2025-06-26T07:31:16.582Z"
      },
      {
        "duration": 94,
        "start_time": "2025-06-26T07:31:16.735Z"
      },
      {
        "duration": 21,
        "start_time": "2025-06-26T07:31:16.831Z"
      },
      {
        "duration": 54,
        "start_time": "2025-06-26T07:31:16.854Z"
      },
      {
        "duration": 101,
        "start_time": "2025-06-26T07:31:16.910Z"
      },
      {
        "duration": 206,
        "start_time": "2025-06-26T07:31:17.013Z"
      },
      {
        "duration": 94,
        "start_time": "2025-06-26T07:31:17.221Z"
      },
      {
        "duration": 474,
        "start_time": "2025-06-26T07:31:17.317Z"
      },
      {
        "duration": 23,
        "start_time": "2025-06-26T07:31:17.793Z"
      },
      {
        "duration": 3,
        "start_time": "2025-06-26T07:31:17.817Z"
      },
      {
        "duration": 16,
        "start_time": "2025-06-26T07:31:17.821Z"
      },
      {
        "duration": 25,
        "start_time": "2025-06-26T07:31:17.839Z"
      },
      {
        "duration": 31,
        "start_time": "2025-06-26T07:31:17.870Z"
      },
      {
        "duration": 9,
        "start_time": "2025-06-26T07:31:17.903Z"
      },
      {
        "duration": 10,
        "start_time": "2025-06-26T07:31:17.914Z"
      },
      {
        "duration": 185,
        "start_time": "2025-06-26T07:31:17.925Z"
      },
      {
        "duration": 22,
        "start_time": "2025-06-26T07:31:18.111Z"
      },
      {
        "duration": 7,
        "start_time": "2025-06-26T07:31:18.134Z"
      },
      {
        "duration": 32,
        "start_time": "2025-06-26T07:31:18.143Z"
      },
      {
        "duration": 16,
        "start_time": "2025-06-26T07:31:18.178Z"
      },
      {
        "duration": 14,
        "start_time": "2025-06-26T07:31:18.196Z"
      },
      {
        "duration": 4,
        "start_time": "2025-06-26T07:31:18.212Z"
      },
      {
        "duration": 5,
        "start_time": "2025-06-26T07:31:18.218Z"
      },
      {
        "duration": 62,
        "start_time": "2025-06-26T07:31:18.224Z"
      },
      {
        "duration": 37,
        "start_time": "2025-06-26T07:31:18.288Z"
      },
      {
        "duration": 183,
        "start_time": "2025-06-26T07:31:18.326Z"
      },
      {
        "duration": 33,
        "start_time": "2025-06-26T07:32:05.278Z"
      },
      {
        "duration": 46,
        "start_time": "2025-06-26T07:49:21.105Z"
      },
      {
        "duration": 8,
        "start_time": "2025-06-26T10:50:46.474Z"
      },
      {
        "duration": 4717,
        "start_time": "2025-06-26T10:52:31.235Z"
      },
      {
        "duration": 2417,
        "start_time": "2025-06-26T10:52:35.954Z"
      },
      {
        "duration": 7,
        "start_time": "2025-06-26T10:52:38.373Z"
      },
      {
        "duration": 52,
        "start_time": "2025-06-26T10:52:38.383Z"
      },
      {
        "duration": 189,
        "start_time": "2025-06-26T10:52:38.437Z"
      },
      {
        "duration": 55,
        "start_time": "2025-06-26T10:52:38.628Z"
      },
      {
        "duration": 6,
        "start_time": "2025-06-26T10:52:38.685Z"
      },
      {
        "duration": 188,
        "start_time": "2025-06-26T10:52:38.694Z"
      },
      {
        "duration": 3,
        "start_time": "2025-06-26T10:52:38.884Z"
      },
      {
        "duration": 177,
        "start_time": "2025-06-26T10:52:38.891Z"
      },
      {
        "duration": 3791,
        "start_time": "2025-06-26T10:52:39.070Z"
      },
      {
        "duration": 20,
        "start_time": "2025-06-26T10:52:42.863Z"
      },
      {
        "duration": 18,
        "start_time": "2025-06-26T10:52:42.884Z"
      },
      {
        "duration": 46,
        "start_time": "2025-06-26T10:52:42.903Z"
      },
      {
        "duration": 146,
        "start_time": "2025-06-26T10:52:42.951Z"
      },
      {
        "duration": 4,
        "start_time": "2025-06-26T10:52:43.099Z"
      },
      {
        "duration": 5,
        "start_time": "2025-06-26T10:52:43.105Z"
      },
      {
        "duration": 105,
        "start_time": "2025-06-26T10:52:43.112Z"
      },
      {
        "duration": 23,
        "start_time": "2025-06-26T10:52:43.219Z"
      },
      {
        "duration": 7,
        "start_time": "2025-06-26T10:52:43.243Z"
      },
      {
        "duration": 18,
        "start_time": "2025-06-26T10:52:43.252Z"
      },
      {
        "duration": 100,
        "start_time": "2025-06-26T10:52:43.271Z"
      },
      {
        "duration": 81,
        "start_time": "2025-06-26T10:52:43.373Z"
      },
      {
        "duration": 110,
        "start_time": "2025-06-26T10:52:43.456Z"
      },
      {
        "duration": 8432,
        "start_time": "2025-06-26T10:52:43.567Z"
      },
      {
        "duration": 53,
        "start_time": "2025-06-26T10:52:52.000Z"
      },
      {
        "duration": 152,
        "start_time": "2025-06-26T10:52:52.055Z"
      },
      {
        "duration": 128,
        "start_time": "2025-06-26T10:52:52.210Z"
      },
      {
        "duration": 70,
        "start_time": "2025-06-26T10:52:52.340Z"
      },
      {
        "duration": 34,
        "start_time": "2025-06-26T10:52:52.411Z"
      },
      {
        "duration": 37,
        "start_time": "2025-06-26T10:52:52.446Z"
      },
      {
        "duration": 91,
        "start_time": "2025-06-26T10:52:52.484Z"
      },
      {
        "duration": 185,
        "start_time": "2025-06-26T10:52:52.576Z"
      },
      {
        "duration": 80,
        "start_time": "2025-06-26T10:52:52.762Z"
      },
      {
        "duration": 381,
        "start_time": "2025-06-26T10:52:52.843Z"
      },
      {
        "duration": 23,
        "start_time": "2025-06-26T10:52:53.236Z"
      },
      {
        "duration": 4,
        "start_time": "2025-06-26T10:52:53.260Z"
      },
      {
        "duration": 13,
        "start_time": "2025-06-26T10:52:53.265Z"
      },
      {
        "duration": 4,
        "start_time": "2025-06-26T10:52:53.279Z"
      },
      {
        "duration": 26,
        "start_time": "2025-06-26T10:52:53.284Z"
      },
      {
        "duration": 17,
        "start_time": "2025-06-26T10:52:53.335Z"
      },
      {
        "duration": 9,
        "start_time": "2025-06-26T10:52:53.353Z"
      },
      {
        "duration": 123,
        "start_time": "2025-06-26T10:52:53.363Z"
      },
      {
        "duration": 22,
        "start_time": "2025-06-26T10:52:53.488Z"
      },
      {
        "duration": 40,
        "start_time": "2025-06-26T10:52:53.511Z"
      },
      {
        "duration": 13,
        "start_time": "2025-06-26T10:52:53.553Z"
      },
      {
        "duration": 208,
        "start_time": "2025-06-26T10:52:53.568Z"
      },
      {
        "duration": 9,
        "start_time": "2025-06-26T10:52:53.777Z"
      },
      {
        "duration": 18,
        "start_time": "2025-06-26T10:52:53.787Z"
      },
      {
        "duration": 7,
        "start_time": "2025-06-26T10:52:53.807Z"
      },
      {
        "duration": 6,
        "start_time": "2025-06-26T10:52:53.816Z"
      },
      {
        "duration": 17,
        "start_time": "2025-06-26T10:52:53.824Z"
      },
      {
        "duration": 37,
        "start_time": "2025-06-26T10:52:53.843Z"
      },
      {
        "duration": 149,
        "start_time": "2025-06-26T10:52:53.881Z"
      },
      {
        "duration": 9,
        "start_time": "2025-06-26T10:55:17.754Z"
      },
      {
        "duration": 51,
        "start_time": "2025-06-26T17:50:08.106Z"
      },
      {
        "duration": 6391,
        "start_time": "2025-06-26T17:50:31.963Z"
      },
      {
        "duration": 2232,
        "start_time": "2025-06-26T17:50:38.357Z"
      },
      {
        "duration": 7,
        "start_time": "2025-06-26T17:50:40.591Z"
      },
      {
        "duration": 28,
        "start_time": "2025-06-26T17:50:40.600Z"
      },
      {
        "duration": 235,
        "start_time": "2025-06-26T17:50:40.630Z"
      },
      {
        "duration": 57,
        "start_time": "2025-06-26T17:50:40.868Z"
      },
      {
        "duration": 8,
        "start_time": "2025-06-26T17:50:40.927Z"
      },
      {
        "duration": 215,
        "start_time": "2025-06-26T17:50:40.937Z"
      },
      {
        "duration": 8,
        "start_time": "2025-06-26T17:50:41.154Z"
      },
      {
        "duration": 161,
        "start_time": "2025-06-26T17:50:41.165Z"
      },
      {
        "duration": 3954,
        "start_time": "2025-06-26T17:50:41.327Z"
      },
      {
        "duration": 21,
        "start_time": "2025-06-26T17:50:45.283Z"
      },
      {
        "duration": 20,
        "start_time": "2025-06-26T17:50:45.305Z"
      },
      {
        "duration": 4,
        "start_time": "2025-06-26T17:50:45.327Z"
      },
      {
        "duration": 168,
        "start_time": "2025-06-26T17:50:45.333Z"
      },
      {
        "duration": 4,
        "start_time": "2025-06-26T17:50:45.503Z"
      },
      {
        "duration": 6,
        "start_time": "2025-06-26T17:50:45.509Z"
      },
      {
        "duration": 127,
        "start_time": "2025-06-26T17:50:45.517Z"
      },
      {
        "duration": 32,
        "start_time": "2025-06-26T17:50:45.646Z"
      },
      {
        "duration": 8,
        "start_time": "2025-06-26T17:50:45.680Z"
      },
      {
        "duration": 22,
        "start_time": "2025-06-26T17:50:45.689Z"
      },
      {
        "duration": 133,
        "start_time": "2025-06-26T17:50:45.712Z"
      },
      {
        "duration": 81,
        "start_time": "2025-06-26T17:50:45.847Z"
      },
      {
        "duration": 131,
        "start_time": "2025-06-26T17:50:45.930Z"
      },
      {
        "duration": 9170,
        "start_time": "2025-06-26T17:50:46.063Z"
      },
      {
        "duration": 61,
        "start_time": "2025-06-26T17:50:55.235Z"
      },
      {
        "duration": 186,
        "start_time": "2025-06-26T17:50:55.298Z"
      },
      {
        "duration": 151,
        "start_time": "2025-06-26T17:50:55.488Z"
      },
      {
        "duration": 85,
        "start_time": "2025-06-26T17:50:55.641Z"
      },
      {
        "duration": 40,
        "start_time": "2025-06-26T17:50:55.730Z"
      },
      {
        "duration": 59,
        "start_time": "2025-06-26T17:50:55.773Z"
      },
      {
        "duration": 176,
        "start_time": "2025-06-26T17:50:55.834Z"
      },
      {
        "duration": 204,
        "start_time": "2025-06-26T17:50:56.012Z"
      },
      {
        "duration": 84,
        "start_time": "2025-06-26T17:50:56.218Z"
      },
      {
        "duration": 479,
        "start_time": "2025-06-26T17:50:56.304Z"
      },
      {
        "duration": 26,
        "start_time": "2025-06-26T17:50:56.786Z"
      },
      {
        "duration": 4,
        "start_time": "2025-06-26T17:50:56.813Z"
      },
      {
        "duration": 43,
        "start_time": "2025-06-26T17:50:56.818Z"
      },
      {
        "duration": 6,
        "start_time": "2025-06-26T17:50:56.863Z"
      },
      {
        "duration": 31,
        "start_time": "2025-06-26T17:50:56.871Z"
      },
      {
        "duration": 53,
        "start_time": "2025-06-26T17:50:56.905Z"
      },
      {
        "duration": 11,
        "start_time": "2025-06-26T17:50:56.960Z"
      },
      {
        "duration": 137,
        "start_time": "2025-06-26T17:50:56.973Z"
      },
      {
        "duration": 23,
        "start_time": "2025-06-26T17:50:57.112Z"
      },
      {
        "duration": 25,
        "start_time": "2025-06-26T17:50:57.136Z"
      },
      {
        "duration": 13,
        "start_time": "2025-06-26T17:50:57.163Z"
      },
      {
        "duration": 32,
        "start_time": "2025-06-26T17:50:57.177Z"
      },
      {
        "duration": 11,
        "start_time": "2025-06-26T17:50:57.211Z"
      },
      {
        "duration": 137,
        "start_time": "2025-06-26T17:50:57.223Z"
      },
      {
        "duration": 0,
        "start_time": "2025-06-26T17:50:57.362Z"
      },
      {
        "duration": 0,
        "start_time": "2025-06-26T17:50:57.363Z"
      },
      {
        "duration": 0,
        "start_time": "2025-06-26T17:50:57.364Z"
      },
      {
        "duration": 0,
        "start_time": "2025-06-26T17:50:57.365Z"
      },
      {
        "duration": 0,
        "start_time": "2025-06-26T17:50:57.367Z"
      },
      {
        "duration": 0,
        "start_time": "2025-06-26T17:50:57.368Z"
      },
      {
        "duration": 10,
        "start_time": "2025-06-26T18:00:03.478Z"
      },
      {
        "duration": 11,
        "start_time": "2025-06-26T18:00:37.670Z"
      },
      {
        "duration": 7,
        "start_time": "2025-06-26T18:11:47.126Z"
      },
      {
        "duration": 11,
        "start_time": "2025-06-26T18:11:51.226Z"
      },
      {
        "duration": 26,
        "start_time": "2025-06-26T18:12:53.819Z"
      },
      {
        "duration": 9,
        "start_time": "2025-06-26T18:13:10.355Z"
      },
      {
        "duration": 10,
        "start_time": "2025-06-26T18:13:13.162Z"
      },
      {
        "duration": 6,
        "start_time": "2025-06-26T18:16:37.162Z"
      },
      {
        "duration": 16,
        "start_time": "2025-06-26T18:16:38.953Z"
      },
      {
        "duration": 29,
        "start_time": "2025-06-26T18:16:48.202Z"
      },
      {
        "duration": 11,
        "start_time": "2025-06-26T18:17:01.650Z"
      },
      {
        "duration": 3806,
        "start_time": "2025-06-26T18:19:28.989Z"
      },
      {
        "duration": 1967,
        "start_time": "2025-06-26T18:19:32.797Z"
      },
      {
        "duration": 9,
        "start_time": "2025-06-26T18:19:34.765Z"
      },
      {
        "duration": 28,
        "start_time": "2025-06-26T18:19:34.776Z"
      },
      {
        "duration": 221,
        "start_time": "2025-06-26T18:19:34.805Z"
      },
      {
        "duration": 67,
        "start_time": "2025-06-26T18:19:35.028Z"
      },
      {
        "duration": 6,
        "start_time": "2025-06-26T18:19:35.097Z"
      },
      {
        "duration": 196,
        "start_time": "2025-06-26T18:19:35.104Z"
      },
      {
        "duration": 3,
        "start_time": "2025-06-26T18:19:35.302Z"
      },
      {
        "duration": 161,
        "start_time": "2025-06-26T18:19:35.308Z"
      },
      {
        "duration": 3578,
        "start_time": "2025-06-26T18:19:35.471Z"
      },
      {
        "duration": 27,
        "start_time": "2025-06-26T18:19:39.052Z"
      },
      {
        "duration": 19,
        "start_time": "2025-06-26T18:19:39.081Z"
      },
      {
        "duration": 4,
        "start_time": "2025-06-26T18:19:39.102Z"
      },
      {
        "duration": 177,
        "start_time": "2025-06-26T18:19:39.107Z"
      },
      {
        "duration": 5,
        "start_time": "2025-06-26T18:19:39.285Z"
      },
      {
        "duration": 14,
        "start_time": "2025-06-26T18:19:39.292Z"
      },
      {
        "duration": 114,
        "start_time": "2025-06-26T18:19:39.308Z"
      },
      {
        "duration": 22,
        "start_time": "2025-06-26T18:19:39.423Z"
      },
      {
        "duration": 16,
        "start_time": "2025-06-26T18:19:39.447Z"
      },
      {
        "duration": 23,
        "start_time": "2025-06-26T18:19:39.464Z"
      },
      {
        "duration": 111,
        "start_time": "2025-06-26T18:19:39.488Z"
      },
      {
        "duration": 86,
        "start_time": "2025-06-26T18:19:39.601Z"
      },
      {
        "duration": 122,
        "start_time": "2025-06-26T18:19:39.689Z"
      },
      {
        "duration": 2726,
        "start_time": "2025-06-26T18:19:39.813Z"
      },
      {
        "duration": 65,
        "start_time": "2025-06-26T18:19:42.542Z"
      },
      {
        "duration": 174,
        "start_time": "2025-06-26T18:19:42.609Z"
      },
      {
        "duration": 162,
        "start_time": "2025-06-26T18:19:42.787Z"
      },
      {
        "duration": 84,
        "start_time": "2025-06-26T18:19:42.950Z"
      },
      {
        "duration": 35,
        "start_time": "2025-06-26T18:19:43.036Z"
      },
      {
        "duration": 40,
        "start_time": "2025-06-26T18:19:43.073Z"
      },
      {
        "duration": 95,
        "start_time": "2025-06-26T18:19:43.115Z"
      },
      {
        "duration": 199,
        "start_time": "2025-06-26T18:19:43.212Z"
      },
      {
        "duration": 84,
        "start_time": "2025-06-26T18:19:43.412Z"
      },
      {
        "duration": 450,
        "start_time": "2025-06-26T18:19:43.498Z"
      },
      {
        "duration": 24,
        "start_time": "2025-06-26T18:19:43.961Z"
      },
      {
        "duration": 36,
        "start_time": "2025-06-26T18:19:43.987Z"
      },
      {
        "duration": 15,
        "start_time": "2025-06-26T18:19:44.025Z"
      },
      {
        "duration": 5,
        "start_time": "2025-06-26T18:19:44.041Z"
      },
      {
        "duration": 23,
        "start_time": "2025-06-26T18:19:44.048Z"
      },
      {
        "duration": 103,
        "start_time": "2025-06-26T18:19:44.073Z"
      },
      {
        "duration": 11,
        "start_time": "2025-06-26T18:19:44.177Z"
      },
      {
        "duration": 135,
        "start_time": "2025-06-26T18:19:44.190Z"
      },
      {
        "duration": 22,
        "start_time": "2025-06-26T18:19:44.327Z"
      },
      {
        "duration": 53,
        "start_time": "2025-06-26T18:19:44.350Z"
      },
      {
        "duration": 12,
        "start_time": "2025-06-26T18:19:44.405Z"
      },
      {
        "duration": 33,
        "start_time": "2025-06-26T18:19:44.419Z"
      },
      {
        "duration": 24,
        "start_time": "2025-06-26T18:19:44.454Z"
      },
      {
        "duration": 14,
        "start_time": "2025-06-26T18:19:44.480Z"
      },
      {
        "duration": 5,
        "start_time": "2025-06-26T18:19:44.496Z"
      },
      {
        "duration": 8,
        "start_time": "2025-06-26T18:19:44.502Z"
      },
      {
        "duration": 20,
        "start_time": "2025-06-26T18:19:44.512Z"
      },
      {
        "duration": 102,
        "start_time": "2025-06-26T18:19:44.533Z"
      },
      {
        "duration": 151,
        "start_time": "2025-06-26T18:19:44.637Z"
      },
      {
        "duration": 5258,
        "start_time": "2025-10-23T09:06:31.608Z"
      }
    ],
    "colab": {
      "provenance": []
    },
    "toc": {
      "base_numbering": 1,
      "nav_menu": {},
      "number_sections": true,
      "sideBar": true,
      "skip_h1_title": true,
      "title_cell": "Table of Contents",
      "title_sidebar": "Contents",
      "toc_cell": false,
      "toc_position": {},
      "toc_section_display": true,
      "toc_window_display": false
    }
  },
  "nbformat_minor": 4,
  "nbformat": 4,
  "cells": [
    {
      "cell_type": "markdown",
      "source": "Евгений Дорошенко\n19.06.2025",
      "metadata": {}
    },
    {
      "cell_type": "markdown",
      "source": "# Проект: Исследование стартапов",
      "metadata": {
        "id": "4mJbK1knrJgz"
      }
    },
    {
      "cell_type": "markdown",
      "source": "## Введение",
      "metadata": {
        "id": "P6j0r3worJg0"
      }
    },
    {
      "cell_type": "markdown",
      "source": "Поле для вашего введения: описания контекста и цели проекта целом. Чтобы изменить содержимое ячейки, дважды нажмите на неё (или нажмите «Ввод»).\n\nЧтобы ваше исследование шло оптимальным путём, рекомендуем чётко следовать предложенным дальше шагам. Углублённая предобработка и исследование неприоритетных для проекта вопросов может потребовать много дополнительного времени.\n\nВ процессе работы старайтесь записывать свои рассуждения — это полезная привычка во время обучения. Пользуйтесь общими правилами:\n\n- начните с введения, в котором опишите контекст и цели проекта в целом;\n- записывайте в комментариях к коду всё, что относится к нему или алгоритму;\n- основания совершаемых в проекте действий и выводы, которые касаются предмета исследования, — записывайте в ячейках типа Markdown;\n- после каждого крупного раздела — шага проекта — обязательно формулируйте промежуточные выводы.",
      "metadata": {
        "id": "8lQtbsIUyFG6"
      }
    },
    {
      "cell_type": "markdown",
      "source": "В современном бизнес-мире информация о компаниях, инвестициях и людях, связанных с ними, играет ключевую роль в принятии стратегических решений. В рамках данного исследования представлены различные наборы данных, включающие сведения о сделках по приобретению компаний, раундах финансирования, а также о людях и их образовании, связанных с этими организациями. Анализ этих данных позволяет выявить основные тренды в сфере инвестиций, определить наиболее активные компании и ключевых участников рынка, а также понять образовательный фон и профессиональный опыт специалистов, участвующих в сделках. Целью данного исследования является проведение комплексного анализа предоставленных данных для получения ценных инсайтов и поддержки принятия обоснованных бизнес-решений.",
      "metadata": {}
    },
    {
      "cell_type": "markdown",
      "source": "\n## Шаг 1. Знакомство с данными: загрузка и первичная предобработка\n\nНазвания файлов:\n* acquisition.csv\n* company_and_rounds.csv\n* people.csv\n* education.csv\n* degrees.csv\n\nОпциональные датасеты:\n* fund.csv\n* investment.csv\n\n\nОни находятся в папке datasets, если вы выполняете работу на платформе. В случае, если вы делаете работу локально, доступ к файлам в папке можно получить по адресу `https://code.s3.yandex.net/datasets/` + имя файла.\n\n### 1.1. Вывод общей информации, исправление названия столбцов\n\n- Загрузите все данные по проекту.\n- Проверьте названия столбцов.\n- Выведите информацию, которая необходима вам для принятия решений о предобработке, для каждого из датасетов.",
      "metadata": {
        "id": "xqr6uttCrJg0"
      }
    },
    {
      "cell_type": "code",
      "source": "# Импортируем библиотеки\nimport pandas as pd\nimport numpy as np\n\n# Загружаем библиотеки для визуализации данных\nimport matplotlib.pyplot as plt\nimport seaborn as sns\n\n# Загружаем библиотеку для расчёта коэффициента корреляции phi_k\n!pip install phik\nfrom phik import phik_matrix",
      "metadata": {
        "colab": {
          "base_uri": "https://localhost:8080/"
        },
        "id": "W_W4jRazrJg0",
        "outputId": "d2409aad-233f-4bb4-ec71-7da96594f9df",
        "vscode": {
          "languageId": "plaintext"
        }
      },
      "outputs": [
        {
          "name": "stdout",
          "output_type": "stream",
          "text": "Collecting phik\n,  Downloading phik-0.12.5-cp39-cp39-manylinux_2_24_x86_64.manylinux_2_28_x86_64.whl (677 kB)\n,\u001b[K     |████████████████████████████████| 677 kB 2.5 MB/s eta 0:00:01\n,\u001b[?25hRequirement already satisfied: numpy>=1.18.0 in /opt/conda/lib/python3.9/site-packages (from phik) (1.21.1)\n,Requirement already satisfied: scipy>=1.5.2 in /opt/conda/lib/python3.9/site-packages (from phik) (1.9.1)\n,Requirement already satisfied: matplotlib>=2.2.3 in /opt/conda/lib/python3.9/site-packages (from phik) (3.3.4)\n,Requirement already satisfied: pandas>=0.25.1 in /opt/conda/lib/python3.9/site-packages (from phik) (1.2.4)\n,Requirement already satisfied: joblib>=0.14.1 in /opt/conda/lib/python3.9/site-packages (from phik) (1.1.0)\n,Requirement already satisfied: cycler>=0.10 in /opt/conda/lib/python3.9/site-packages (from matplotlib>=2.2.3->phik) (0.11.0)\n,Requirement already satisfied: kiwisolver>=1.0.1 in /opt/conda/lib/python3.9/site-packages (from matplotlib>=2.2.3->phik) (1.4.4)\n,Requirement already satisfied: pillow>=6.2.0 in /opt/conda/lib/python3.9/site-packages (from matplotlib>=2.2.3->phik) (8.4.0)\n,Requirement already satisfied: python-dateutil>=2.1 in /opt/conda/lib/python3.9/site-packages (from matplotlib>=2.2.3->phik) (2.8.1)\n,Requirement already satisfied: pyparsing!=2.0.4,!=2.1.2,!=2.1.6,>=2.0.3 in /opt/conda/lib/python3.9/site-packages (from matplotlib>=2.2.3->phik) (2.4.7)\n,Requirement already satisfied: pytz>=2017.3 in /opt/conda/lib/python3.9/site-packages (from pandas>=0.25.1->phik) (2021.1)\n,Requirement already satisfied: six>=1.5 in /opt/conda/lib/python3.9/site-packages (from python-dateutil>=2.1->matplotlib>=2.2.3->phik) (1.16.0)\n,Installing collected packages: phik\n,Successfully installed phik-0.12.5\n"
        }
      ],
      "execution_count": 1
    },
    {
      "cell_type": "code",
      "source": "# Загрузка данных\nprolongations = pd.read_csv('/home/wb/Рабочий стол/Женя/prolongations.csv')\nfinancial = pd.read_csv('/home/wb/Рабочий стол/Женя/financial_data.csv')",
      "metadata": {},
      "outputs": [],
      "execution_count": null
    },
    {
      "cell_type": "code",
      "source": "# Выгружаем данные\nacquisition_df = pd.read_csv('https://code.s3.yandex.net/datasets/acquisition.csv')\ncompany_and_rounds_df = pd.read_csv('https://code.s3.yandex.net/datasets/company_and_rounds.csv')\npeople_df = pd.read_csv('https://code.s3.yandex.net/datasets/people.csv')\neducation_df = pd.read_csv('https://code.s3.yandex.net/datasets/education.csv')\ndegrees_df = pd.read_csv('https://code.s3.yandex.net/datasets/degrees.csv')\n",
      "metadata": {
        "id": "2Tm4Pk__Felf"
      },
      "outputs": [],
      "execution_count": 2
    },
    {
      "cell_type": "code",
      "source": "# Проверим названия столбцов\nprint(\"Названия столбцов acссquisition_df:\")\nprint(acquisition_df.columns)\n\nprint(\"\\nНазвания столбцов company_and_rounds_df:\")\nprint(company_and_rounds_df.columns)\n\nprint(\"\\nНазвания столбцов people_df:\")\nprint(people_df.columns)\n\nprint(\"\\nНазвания столбцов education_df:\")\nprint(education_df.columns)\n\nprint(\"\\nНазвания столбцов degrees_df:\")\nprint(degrees_df.columns)\n\n\n",
      "metadata": {
        "id": "oNqJ2qpRFebv"
      },
      "outputs": [
        {
          "name": "stdout",
          "output_type": "stream",
          "text": "Названия столбцов acссquisition_df:\n,Index(['id', 'acquiring_company_id', 'acquired_company_id', 'term_code',\n,       'price_amount', 'acquired_at'],\n,      dtype='object')\n,\n,Названия столбцов company_and_rounds_df:\n,Index(['company  ID', 'name', 'category  code', 'status', 'founded  at',\n,       'closed  at', 'domain', 'network  username', 'country  code',\n,       'investment  rounds', 'funding  rounds', 'funding  total', 'milestones',\n,       'funding  round  id', 'company  id', 'funded  at',\n,       'funding  round  type', 'raised  amount', 'pre  money  valuation',\n,       'participants', 'is  first  round', 'is  last  round'],\n,      dtype='object')\n,\n,Названия столбцов people_df:\n,Index(['id', 'first_name', 'last_name', 'company_id', 'network_username'], dtype='object')\n,\n,Названия столбцов education_df:\n,Index(['id', 'person_id', 'instituition', 'graduated_at'], dtype='object')\n,\n,Названия столбцов degrees_df:\n,Index(['id', 'object_id', 'degree_type', 'subject'], dtype='object')\n"
        }
      ],
      "execution_count": 3
    },
    {
      "cell_type": "code",
      "source": "# Выводим первые строки датафрейма на экран\nprint(\"Первые строки acquisition_df:\")\nprint(acquisition_df.head())\n\nprint(\"\\nПервые строки company_and_rounds_df:\")\nprint(company_and_rounds_df.head())\n\nprint(\"\\nПервые строки people_df:\")\nprint(people_df.head())\n\nprint(\"\\nПервые строки education_df:\")\nprint(education_df.head())\n\nprint(\"\\nПервые строки degrees_df:\")\nprint(degrees_df.head())\n",
      "metadata": {},
      "outputs": [
        {
          "name": "stdout",
          "output_type": "stream",
          "text": "Первые строки acquisition_df:\n,   id  acquiring_company_id  acquired_company_id term_code  price_amount  \\\n,0   1                    11                   10       NaN      20000000   \n,1   7                    59                   72      cash      60000000   \n,2   8                    24                  132      cash     280000000   \n,3   9                    59                  155      cash     100000000   \n,4  10                   212                  215      cash      25000000   \n,\n,  acquired_at  \n,0  2007-05-30  \n,1  2007-07-01  \n,2  2007-05-01  \n,3  2007-06-01  \n,4  2007-07-01  \n,\n,Первые строки company_and_rounds_df:\n,   company  ID      name category  code     status founded  at closed  at  \\\n,0          1.0  Wetpaint            web  operating  2005-10-17        NaN   \n,1          1.0  Wetpaint            web  operating  2005-10-17        NaN   \n,2          1.0  Wetpaint            web  operating  2005-10-17        NaN   \n,3         10.0   Flektor    games_video   acquired         NaN        NaN   \n,4        100.0     There    games_video   acquired         NaN        NaN   \n,\n,             domain network  username country  code  investment  rounds  ...  \\\n,0  wetpaint-inc.com   BachelrWetpaint           USA                 0.0  ...   \n,1  wetpaint-inc.com   BachelrWetpaint           USA                 0.0  ...   \n,2  wetpaint-inc.com   BachelrWetpaint           USA                 0.0  ...   \n,3       flektor.com               NaN           USA                 0.0  ...   \n,4         there.com               NaN           USA                 0.0  ...   \n,\n,   milestones  funding  round  id  company  id  funded  at  \\\n,0         5.0               888.0          1.0  2005-10-01   \n,1         5.0               889.0          1.0  2007-01-01   \n,2         5.0              2312.0          1.0  2008-05-19   \n,3         0.0                 NaN          NaN         NaN   \n,4         4.0                 NaN          NaN         NaN   \n,\n,   funding  round  type raised  amount pre  money  valuation  participants  \\\n,0              series-a      5250000.0                   0.0           2.0   \n,1              series-b      9500000.0                   0.0           3.0   \n,2             series-c+     25000000.0                   0.0           4.0   \n,3                   NaN            NaN                   NaN           NaN   \n,4                   NaN            NaN                   NaN           NaN   \n,\n,   is  first  round  is  last  round  \n,0               0.0              1.0  \n,1               0.0              0.0  \n,2               1.0              0.0  \n,3               NaN              NaN  \n,4               NaN              NaN  \n,\n,[5 rows x 22 columns]\n,\n,Первые строки people_df:\n,       id  first_name    last_name  company_id network_username\n,0      10        Mark   Zuckerberg         5.0              NaN\n,1     100       Peter       Lester        27.0              NaN\n,2    1000  Dr. Steven  E. Saunders       292.0              NaN\n,3   10000        Neil        Capel      2526.0              NaN\n,4  100000         Sue       Pilsch         NaN              NaN\n,\n,Первые строки education_df:\n,   id  person_id                      instituition graduated_at\n,0   1       6117                               NaN          NaN\n,1   2       6136  Washington University, St. Louis   1990-01-01\n,2   3       6136                 Boston University   1992-01-01\n,3   4       6005           University of Greenwich   2006-01-01\n,4   5       5832                   Rice University          NaN\n,\n,Первые строки degrees_df:\n,   id object_id degree_type                       subject\n,0   1    p:6117         MBA                           NaN\n,1   2    p:6136          BA               English, French\n,2   3    p:6136          MS            Mass Communication\n,3   4    p:6005          MS           Internet Technology\n,4   5    p:5832         BCS  Computer Science, Psychology\n"
        }
      ],
      "execution_count": 4
    },
    {
      "cell_type": "code",
      "source": "# Выводим информацию о датафрейме\nprint(\"Информация о acquisition_df:\")\nprint(acquisition_df.info())\n\nprint(\"\\nИнформация о company_and_rounds_df:\")\nprint(company_and_rounds_df.info())\n\nprint(\"\\nИнформация о people_df:\")\nprint(people_df.info())\n\nprint(\"\\nИнформация о education_df:\")\nprint(education_df.info())\n\nprint(\"\\nИнформация о degrees_df:\")\nprint(degrees_df.info())\n",
      "metadata": {},
      "outputs": [
        {
          "name": "stdout",
          "output_type": "stream",
          "text": "Информация о acquisition_df:\n,<class 'pandas.core.frame.DataFrame'>\n,RangeIndex: 9407 entries, 0 to 9406\n,Data columns (total 6 columns):\n, #   Column                Non-Null Count  Dtype \n,---  ------                --------------  ----- \n, 0   id                    9407 non-null   int64 \n, 1   acquiring_company_id  9407 non-null   int64 \n, 2   acquired_company_id   9407 non-null   int64 \n, 3   term_code             1831 non-null   object\n, 4   price_amount          9407 non-null   int64 \n, 5   acquired_at           9378 non-null   object\n,dtypes: int64(4), object(2)\n,memory usage: 441.1+ KB\n,None\n,\n,Информация о company_and_rounds_df:\n,<class 'pandas.core.frame.DataFrame'>\n,RangeIndex: 217774 entries, 0 to 217773\n,Data columns (total 22 columns):\n, #   Column                 Non-Null Count   Dtype  \n,---  ------                 --------------   -----  \n, 0   company  ID            217472 non-null  float64\n, 1   name                   217472 non-null  object \n, 2   category  code         143886 non-null  object \n, 3   status                 217472 non-null  object \n, 4   founded  at            109956 non-null  object \n, 5   closed  at             3449 non-null    object \n, 6   domain                 147159 non-null  object \n, 7   network  username      95534 non-null   object \n, 8   country  code          108607 non-null  object \n, 9   investment  rounds     217472 non-null  float64\n, 10  funding  rounds        217472 non-null  float64\n, 11  funding  total         217472 non-null  float64\n, 12  milestones             217472 non-null  float64\n, 13  funding  round  id     52928 non-null   float64\n, 14  company  id            52928 non-null   float64\n, 15  funded  at             52680 non-null   object \n, 16  funding  round  type   52928 non-null   object \n, 17  raised  amount         52928 non-null   float64\n, 18  pre  money  valuation  52928 non-null   float64\n, 19  participants           52928 non-null   float64\n, 20  is  first  round       52928 non-null   float64\n, 21  is  last  round        52928 non-null   float64\n,dtypes: float64(12), object(10)\n,memory usage: 36.6+ MB\n,None\n,\n,Информация о people_df:\n,<class 'pandas.core.frame.DataFrame'>\n,RangeIndex: 226709 entries, 0 to 226708\n,Data columns (total 5 columns):\n, #   Column            Non-Null Count   Dtype  \n,---  ------            --------------   -----  \n, 0   id                226709 non-null  int64  \n, 1   first_name        226704 non-null  object \n, 2   last_name         226708 non-null  object \n, 3   company_id        34615 non-null   float64\n, 4   network_username  38867 non-null   object \n,dtypes: float64(1), int64(1), object(3)\n,memory usage: 8.6+ MB\n,None\n,\n,Информация о education_df:\n,<class 'pandas.core.frame.DataFrame'>\n,RangeIndex: 109610 entries, 0 to 109609\n,Data columns (total 4 columns):\n, #   Column        Non-Null Count   Dtype \n,---  ------        --------------   ----- \n, 0   id            109610 non-null  int64 \n, 1   person_id     109610 non-null  int64 \n, 2   instituition  109555 non-null  object\n, 3   graduated_at  58054 non-null   object\n,dtypes: int64(2), object(2)\n,memory usage: 3.3+ MB\n,None\n,\n,Информация о degrees_df:\n,<class 'pandas.core.frame.DataFrame'>\n,RangeIndex: 109610 entries, 0 to 109609\n,Data columns (total 4 columns):\n, #   Column       Non-Null Count   Dtype \n,---  ------       --------------   ----- \n, 0   id           109610 non-null  int64 \n, 1   object_id    109610 non-null  object\n, 2   degree_type  98392 non-null   object\n, 3   subject      81298 non-null   object\n,dtypes: int64(1), object(3)\n,memory usage: 3.3+ MB\n,None\n"
        }
      ],
      "execution_count": 5
    },
    {
      "cell_type": "markdown",
      "source": "Здесь мы видим что в датафрейме company_and_rounds_df нужно навести порядок, остальные в порядке.Имеют нижний регистр и стиль snow_case.В каждом датафремйме есть столбцы с пропусками.",
      "metadata": {}
    },
    {
      "cell_type": "markdown",
      "source": "### 1.2. Смена типов и анализ пропусков\n\n- Обработайте типы данных в столбцах, которые хранят значения даты и времени, если это необходимо.\n- Оцените полноту данных — сделайте предварительный вывод, достаточно ли данных для решения задач проекта.",
      "metadata": {
        "id": "mg2gEwh0rJg0"
      }
    },
    {
      "cell_type": "code",
      "source": "# Передаём методу rename() словарь с названиями столбцов\ncompany_and_rounds_df = company_and_rounds_df.rename(columns={'company  ID': 'company_id',\n                                  'name': 'name',\n                                  'category  code': 'category_code',\n                                  'status': 'status',\n                                  'founded  at': 'founded_at',\n                                  'closed  at': 'closed_at',\n                                  'domain': 'domain',\n                                  'network  username': 'network_username',\n                                  'country  code': 'country_code',\n                                  'investment  rounds': 'investment_rounds',\n                                  'funding  rounds': 'funding_rounds',\n                                  'funding  total': 'funding_total',\n                                  'milestones': 'milestones',\n                                  'funding  round  id': 'funding_round_id',\n                                  'company  id': 'company_id_2',\n                                  'funded  at': 'funded_at',\n                                  'founded  at': 'founded_at',\n                                  'funding  round  type': 'funding_round_type',\n                                  'raised  amount': 'raised_amount',\n                                  'pre  money  valuation': 'pre_money_valuation',\n                                  'participants': 'participants',\n                                  'is  first  round': 'is_first_round',\n                                  'is  last  round': 'is_last_round',\n                                                            })",
      "metadata": {
        "id": "FsL0A8RBrJg1",
        "vscode": {
          "languageId": "plaintext"
        }
      },
      "outputs": [],
      "execution_count": 6
    },
    {
      "cell_type": "markdown",
      "source": "В названиях столбцов мы поменяли стиль и исправили так называемый CamelCase. При CamelCase (англ. «верблюжий регистр») каждое слово начинается с большой буквы, а между словами нет пробелов и других символов.\n\nЧтобы из CamelCase перейти в snake_case, необходимо все заглавные символы сделать строчными, а между словами добавить подчёркивание `_`. Напишем такую функцию:",
      "metadata": {
        "id": "46VskrGyFeJ-"
      }
    },
    {
      "cell_type": "code",
      "source": "# Выводим названия столбцов датафрейма company_and_rounds_df\ncompany_and_rounds_df.columns",
      "metadata": {
        "id": "DEg1tl8DFeBn"
      },
      "outputs": [
        {
          "data": {
            "text/plain": [
              "Index(['company_id', 'name', 'category_code', 'status', 'founded_at',\n",
              "       'closed_at', 'domain', 'network_username', 'country_code',\n",
              "       'investment_rounds', 'funding_rounds', 'funding_total', 'milestones',\n",
              "       'funding_round_id', 'company_id_2', 'funded_at', 'funding_round_type',\n",
              "       'raised_amount', 'pre_money_valuation', 'participants',\n",
              "       'is_first_round', 'is_last_round'],\n",
              "      dtype='object')"
            ]
          },
          "execution_count": 7,
          "metadata": {},
          "output_type": "execute_result"
        }
      ],
      "execution_count": 7
    },
    {
      "cell_type": "code",
      "source": "# 1. Обработка типов данных в столбцах с датами и временем\n# Для датафрейма company_and_rounds_df\ndate_columns = ['founded_at', 'closed_at', 'funded_at', 'raised_at']\nfor col in date_columns:\n    if col in company_and_rounds_df.columns:\n        company_and_rounds_df[col] = pd.to_datetime(company_and_rounds_df[col], errors='coerce')\n\n# Для датафрейма acquisition_df\nif 'acquired_at' in acquisition_df.columns:\n    acquisition_df['acquired_at'] = pd.to_datetime(acquisition_df['acquired_at'], errors='coerce')\n\n# Для датафрейма education_df\nif 'graduated_at' in education_df.columns:\n    education_df['graduated_at'] = pd.to_datetime(education_df['graduated_at'], errors='coerce')\n\n",
      "metadata": {},
      "outputs": [],
      "execution_count": 8
    },
    {
      "cell_type": "code",
      "source": "def analyze_nulls(df):\n    null_counts = df.isnull().sum()\n    null_percent = null_counts / len(df) * 100\n    return pd.DataFrame({'null_count': null_counts, 'null_percent': null_percent})",
      "metadata": {},
      "outputs": [],
      "execution_count": 9
    },
    {
      "cell_type": "code",
      "source": "# Анализ пропусков по каждому датафрейму\nprint(\"Пропуски в acquisition_df:\")\nprint(analyze_nulls(acquisition_df))\n\nprint(\"\\nПропуски в company_and_rounds_df:\")\nprint(analyze_nulls(company_and_rounds_df))\n\nprint(\"\\nПропуски в people_df:\")\nprint(analyze_nulls(people_df))\n\nprint(\"\\nПропуски в education_df:\")\nprint(analyze_nulls(education_df))\n\nprint(\"\\nПропуски в degrees_df:\")\nprint(analyze_nulls(degrees_df))",
      "metadata": {},
      "outputs": [
        {
          "name": "stdout",
          "output_type": "stream",
          "text": "Пропуски в acquisition_df:\n,                      null_count  null_percent\n,id                             0      0.000000\n,acquiring_company_id           0      0.000000\n,acquired_company_id            0      0.000000\n,term_code                   7576     80.535771\n,price_amount                   0      0.000000\n,acquired_at                   29      0.308281\n,\n,Пропуски в company_and_rounds_df:\n,                     null_count  null_percent\n,company_id                  302      0.138676\n,name                        302      0.138676\n,category_code             73888     33.928752\n,status                      302      0.138676\n,founded_at               107818     49.509124\n,closed_at                214325     98.416248\n,domain                    70615     32.425818\n,network_username         122240     56.131586\n,country_code             109167     50.128574\n,investment_rounds           302      0.138676\n,funding_rounds              302      0.138676\n,funding_total               302      0.138676\n,milestones                  302      0.138676\n,funding_round_id         164846     75.695905\n,company_id_2             164846     75.695905\n,funded_at                165094     75.809784\n,funding_round_type       164846     75.695905\n,raised_amount            164846     75.695905\n,pre_money_valuation      164846     75.695905\n,participants             164846     75.695905\n,is_first_round           164846     75.695905\n,is_last_round            164846     75.695905\n,\n,Пропуски в people_df:\n,                  null_count  null_percent\n,id                         0      0.000000\n,first_name                 5      0.002205\n,last_name                  1      0.000441\n,company_id            192094     84.731528\n,network_username      187842     82.855996\n,\n,Пропуски в education_df:\n,              null_count  null_percent\n,id                     0      0.000000\n,person_id              0      0.000000\n,instituition          55      0.050178\n,graduated_at       51556     47.035854\n,\n,Пропуски в degrees_df:\n,             null_count  null_percent\n,id                    0      0.000000\n,object_id             0      0.000000\n,degree_type       11218     10.234468\n,subject           28312     25.829760\n"
        }
      ],
      "execution_count": 10
    },
    {
      "cell_type": "markdown",
      "source": " - Столбцы приведены к единому стилю (нижний регистр, snake_case).\n - Даты приведены к типу datetime64[ns].\n - Процент пропусков показывает, насколько полно заполнены важные поля.Пропусков много — потребуется дополнительный анализ или заполнение данных.",
      "metadata": {}
    },
    {
      "cell_type": "code",
      "source": "# Код ревьюера\n# Метод dendrogram из библиотеки missingno\n!pip install missingno -q\nimport missingno as msno\nmsno.dendrogram(company_and_rounds_df)\nplt.show()",
      "metadata": {},
      "outputs": [
        {
          "data": {
            "image/png": "[encoded data removed]",
            "text/plain": [
              "<Figure size 1800x720 with 1 Axes>"
            ]
          },
          "metadata": {
            "needs_background": "light"
          },
          "output_type": "display_data"
        }
      ],
      "execution_count": 11
    },
    {
      "cell_type": "markdown",
      "source": "## Шаг 2. Предобработка данных, предварительное исследование",
      "metadata": {
        "id": "u60cHsn6rJg1"
      }
    },
    {
      "cell_type": "markdown",
      "source": "\n### 2.1. Раунды финансирования по годам\n\nЗадание необходимо выполнить без объединения и дополнительной предобработки на основе датасета `company_and_rounds.csv`.\n\n- Составьте сводную таблицу по годам, в которой на основании столбца `raised_amount` для каждого года указан:\n    - типичный размер средств, выделяемый в рамках одного раунда;\n    - общее количество раундов финансирования за этот год.\n    \n- Оставьте в таблице информацию только для тех лет, для которых есть информация о более чем 50 раундах финансирования.\n- На основе получившейся таблицы постройте график, который будет отражать динамику типичного размера средств, которые стартапы получали в рамках одного раунда финансирования.\n\nНа основе полученных данных ответьте на вопросы:\n\n- В каком году типичный размер собранных в рамках одного раунда средств был максимален?\n- Какая тенденция по количеству раундов и выделяемых в рамках каждого раунда средств наблюдалась в 2013 году?",
      "metadata": {
        "id": "g2bHIIjcrJg1"
      }
    },
    {
      "cell_type": "code",
      "source": "# Извлечение года из даты funded_at\ncompany_and_rounds_df['funded_year'] = pd.to_datetime(company_and_rounds_df['funded_at'], errors='coerce').dt.year",
      "metadata": {
        "id": "Cf5IjfOQrJg1",
        "vscode": {
          "languageId": "plaintext"
        }
      },
      "outputs": [],
      "execution_count": 12
    },
    {
      "cell_type": "code",
      "source": "# Группировка по году: считаем количество раундов и медиану raised_amount\ngrouped = company_and_rounds_df.groupby('funded_year').agg(\n    total_rounds=('funding_round_id', 'size'),\n    median_raised=('raised_amount', 'median')\n).reset_index()",
      "metadata": {
        "id": "8Fbz6KmzFdYP"
      },
      "outputs": [],
      "execution_count": 13
    },
    {
      "cell_type": "code",
      "source": "# Оставляем только годы с более чем 50 раундами\nfiltered = grouped[grouped['total_rounds'] > 50]",
      "metadata": {
        "id": "Z92DzKMMFdKW"
      },
      "outputs": [],
      "execution_count": 14
    },
    {
      "cell_type": "code",
      "source": "# Построение графика\nplt.figure(figsize=(10,6))\nplt.plot(filtered['funded_year'], filtered['median_raised'], marker='o')\nplt.title('Динамика типичного размера средств по годам')\nplt.xlabel('Год')\nplt.ylabel('Медианный размер раунда (raised_amount)')\nplt.grid(True)\nplt.show()",
      "metadata": {},
      "outputs": [
        {
          "data": {
            "image/png": "[encoded data removed]",
            "text/plain": [
              "<Figure size 720x432 with 1 Axes>"
            ]
          },
          "metadata": {
            "needs_background": "light"
          },
          "output_type": "display_data"
        }
      ],
      "execution_count": 15
    },
    {
      "cell_type": "code",
      "source": "# Год с максимальной медианной суммой\nmax_year = filtered.loc[filtered['median_raised'].idxmax(), 'funded_year']\nprint(f\"Год с максимальным типичным размером средств: {max_year}\")",
      "metadata": {},
      "outputs": [
        {
          "name": "stdout",
          "output_type": "stream",
          "text": "Год с максимальным типичным размером средств: 2005.0\n"
        }
      ],
      "execution_count": 16
    },
    {
      "cell_type": "code",
      "source": "# Анализ трендов в 2013 году\nyear_2013 = grouped[grouped['funded_year'] == 2013]\nif not year_2013.empty:\n    print(f\"В 2013 году:\")\n    print(f\" - Количество раундов: {year_2013['total_rounds'].values[0]}\")\n    print(f\" - Типичный размер раунда: {year_2013['median_raised'].values[0]}\")\nelse:\n    print(\"Данных за 2013 год нет или их недостаточно.\")",
      "metadata": {},
      "outputs": [
        {
          "name": "stdout",
          "output_type": "stream",
          "text": "В 2013 году:\n, - Количество раундов: 11072\n, - Типичный размер раунда: 1200000.0\n"
        }
      ],
      "execution_count": 17
    },
    {
      "cell_type": "markdown",
      "source": "\n### 2.2. Люди и их образование\n\nЗаказчик хочет понять, зависит ли полнота сведений о сотрудниках (например, об их образовании) от размера компаний.\n\n- Оцените, насколько информация об образовании сотрудников полна. Используя датасеты `people.csv` и `education.csv`, разделите все компании на несколько групп по количеству сотрудников и оцените среднюю долю сотрудников без информации об образовании в каждой из групп. Обоснуйте выбранные границы групп.\n- Оцените, возможно ли для выполнения задания присоединить к этим таблицам ещё и таблицу `degrees.csv`.",
      "metadata": {
        "id": "45if1en1rJg2"
      }
    },
    {
      "cell_type": "code",
      "source": "# Объединение таблиц people_df и education_df\npeople_education = people_df.merge(education_df, on='id', how='left')",
      "metadata": {
        "id": "psPO7C4MrJg2",
        "vscode": {
          "languageId": "plaintext"
        }
      },
      "outputs": [],
      "execution_count": 18
    },
    {
      "cell_type": "code",
      "source": "# Подсчет сотрудников каждой компании\ncompany_sizes = people_df.groupby('company_id')['id'].count().reset_index()\ncompany_sizes.columns = ['company_id', 'employee_count']\ndisplay(company_sizes)",
      "metadata": {
        "id": "BThTjpLqFcsm"
      },
      "outputs": [
        {
          "data": {
            "text/html": [
              "<div>\n",
              "<style scoped>\n",
              "    .dataframe tbody tr th:only-of-type {\n",
              "        vertical-align: middle;\n",
              "    }\n",
              "\n",
              "    .dataframe tbody tr th {\n",
              "        vertical-align: top;\n",
              "    }\n",
              "\n",
              "    .dataframe thead th {\n",
              "        text-align: right;\n",
              "    }\n",
              "</style>\n",
              "<table border=\"1\" class=\"dataframe\">\n",
              "  <thead>\n",
              "    <tr style=\"text-align: right;\">\n",
              "      <th></th>\n",
              "      <th>company_id</th>\n",
              "      <th>employee_count</th>\n",
              "    </tr>\n",
              "  </thead>\n",
              "  <tbody>\n",
              "    <tr>\n",
              "      <th>0</th>\n",
              "      <td>1.0</td>\n",
              "      <td>2</td>\n",
              "    </tr>\n",
              "    <tr>\n",
              "      <th>1</th>\n",
              "      <td>2.0</td>\n",
              "      <td>1</td>\n",
              "    </tr>\n",
              "    <tr>\n",
              "      <th>2</th>\n",
              "      <td>3.0</td>\n",
              "      <td>3</td>\n",
              "    </tr>\n",
              "    <tr>\n",
              "      <th>3</th>\n",
              "      <td>4.0</td>\n",
              "      <td>13</td>\n",
              "    </tr>\n",
              "    <tr>\n",
              "      <th>4</th>\n",
              "      <td>5.0</td>\n",
              "      <td>61</td>\n",
              "    </tr>\n",
              "    <tr>\n",
              "      <th>...</th>\n",
              "      <td>...</td>\n",
              "      <td>...</td>\n",
              "    </tr>\n",
              "    <tr>\n",
              "      <th>22917</th>\n",
              "      <td>285897.0</td>\n",
              "      <td>2</td>\n",
              "    </tr>\n",
              "    <tr>\n",
              "      <th>22918</th>\n",
              "      <td>285953.0</td>\n",
              "      <td>1</td>\n",
              "    </tr>\n",
              "    <tr>\n",
              "      <th>22919</th>\n",
              "      <td>285972.0</td>\n",
              "      <td>2</td>\n",
              "    </tr>\n",
              "    <tr>\n",
              "      <th>22920</th>\n",
              "      <td>285996.0</td>\n",
              "      <td>1</td>\n",
              "    </tr>\n",
              "    <tr>\n",
              "      <th>22921</th>\n",
              "      <td>286091.0</td>\n",
              "      <td>6</td>\n",
              "    </tr>\n",
              "  </tbody>\n",
              "</table>\n",
              "<p>22922 rows × 2 columns</p>\n",
              "</div>"
            ],
            "text/plain": [
              "       company_id  employee_count\n",
              "0             1.0               2\n",
              "1             2.0               1\n",
              "2             3.0               3\n",
              "3             4.0              13\n",
              "4             5.0              61\n",
              "...           ...             ...\n",
              "22917    285897.0               2\n",
              "22918    285953.0               1\n",
              "22919    285972.0               2\n",
              "22920    285996.0               1\n",
              "22921    286091.0               6\n",
              "\n",
              "[22922 rows x 2 columns]"
            ]
          },
          "metadata": {},
          "output_type": "display_data"
        }
      ],
      "execution_count": 19
    },
    {
      "cell_type": "code",
      "source": "# Создадим категорию по размеру компании\ndef categorize (value):\n    if value == 1:\n        return '1'\n    elif value >= 2 and value <= 5:\n        return '2-5'\n    elif value >= 6 and value <=10:\n        return '6-10'    \n    elif value > 10:\n        return '11+'\ncategor= company_sizes['employee_count'].apply(categorize) \n   ",
      "metadata": {},
      "outputs": [],
      "execution_count": 20
    },
    {
      "cell_type": "code",
      "source": "# Создаем новый столбец с категорией\ncompany_sizes['size_category'] = company_sizes['employee_count'].apply(categorize)\n\n\n# Выводим результат\ndisplay(company_sizes)",
      "metadata": {},
      "outputs": [
        {
          "data": {
            "text/html": [
              "<div>\n",
              "<style scoped>\n",
              "    .dataframe tbody tr th:only-of-type {\n",
              "        vertical-align: middle;\n",
              "    }\n",
              "\n",
              "    .dataframe tbody tr th {\n",
              "        vertical-align: top;\n",
              "    }\n",
              "\n",
              "    .dataframe thead th {\n",
              "        text-align: right;\n",
              "    }\n",
              "</style>\n",
              "<table border=\"1\" class=\"dataframe\">\n",
              "  <thead>\n",
              "    <tr style=\"text-align: right;\">\n",
              "      <th></th>\n",
              "      <th>company_id</th>\n",
              "      <th>employee_count</th>\n",
              "      <th>size_category</th>\n",
              "    </tr>\n",
              "  </thead>\n",
              "  <tbody>\n",
              "    <tr>\n",
              "      <th>0</th>\n",
              "      <td>1.0</td>\n",
              "      <td>2</td>\n",
              "      <td>2-5</td>\n",
              "    </tr>\n",
              "    <tr>\n",
              "      <th>1</th>\n",
              "      <td>2.0</td>\n",
              "      <td>1</td>\n",
              "      <td>1</td>\n",
              "    </tr>\n",
              "    <tr>\n",
              "      <th>2</th>\n",
              "      <td>3.0</td>\n",
              "      <td>3</td>\n",
              "      <td>2-5</td>\n",
              "    </tr>\n",
              "    <tr>\n",
              "      <th>3</th>\n",
              "      <td>4.0</td>\n",
              "      <td>13</td>\n",
              "      <td>11+</td>\n",
              "    </tr>\n",
              "    <tr>\n",
              "      <th>4</th>\n",
              "      <td>5.0</td>\n",
              "      <td>61</td>\n",
              "      <td>11+</td>\n",
              "    </tr>\n",
              "    <tr>\n",
              "      <th>...</th>\n",
              "      <td>...</td>\n",
              "      <td>...</td>\n",
              "      <td>...</td>\n",
              "    </tr>\n",
              "    <tr>\n",
              "      <th>22917</th>\n",
              "      <td>285897.0</td>\n",
              "      <td>2</td>\n",
              "      <td>2-5</td>\n",
              "    </tr>\n",
              "    <tr>\n",
              "      <th>22918</th>\n",
              "      <td>285953.0</td>\n",
              "      <td>1</td>\n",
              "      <td>1</td>\n",
              "    </tr>\n",
              "    <tr>\n",
              "      <th>22919</th>\n",
              "      <td>285972.0</td>\n",
              "      <td>2</td>\n",
              "      <td>2-5</td>\n",
              "    </tr>\n",
              "    <tr>\n",
              "      <th>22920</th>\n",
              "      <td>285996.0</td>\n",
              "      <td>1</td>\n",
              "      <td>1</td>\n",
              "    </tr>\n",
              "    <tr>\n",
              "      <th>22921</th>\n",
              "      <td>286091.0</td>\n",
              "      <td>6</td>\n",
              "      <td>6-10</td>\n",
              "    </tr>\n",
              "  </tbody>\n",
              "</table>\n",
              "<p>22922 rows × 3 columns</p>\n",
              "</div>"
            ],
            "text/plain": [
              "       company_id  employee_count size_category\n",
              "0             1.0               2           2-5\n",
              "1             2.0               1             1\n",
              "2             3.0               3           2-5\n",
              "3             4.0              13           11+\n",
              "4             5.0              61           11+\n",
              "...           ...             ...           ...\n",
              "22917    285897.0               2           2-5\n",
              "22918    285953.0               1             1\n",
              "22919    285972.0               2           2-5\n",
              "22920    285996.0               1             1\n",
              "22921    286091.0               6          6-10\n",
              "\n",
              "[22922 rows x 3 columns]"
            ]
          },
          "metadata": {},
          "output_type": "display_data"
        }
      ],
      "execution_count": 21
    },
    {
      "cell_type": "code",
      "source": "# Также можем присоеденить таблицу `degrees.csv` \npeople_education_degrees = people_education.merge(degrees_df, on='id', how='left')\ndisplay(people_education_degrees)",
      "metadata": {},
      "outputs": [
        {
          "data": {
            "text/html": [
              "<div>\n",
              "<style scoped>\n",
              "    .dataframe tbody tr th:only-of-type {\n",
              "        vertical-align: middle;\n",
              "    }\n",
              "\n",
              "    .dataframe tbody tr th {\n",
              "        vertical-align: top;\n",
              "    }\n",
              "\n",
              "    .dataframe thead th {\n",
              "        text-align: right;\n",
              "    }\n",
              "</style>\n",
              "<table border=\"1\" class=\"dataframe\">\n",
              "  <thead>\n",
              "    <tr style=\"text-align: right;\">\n",
              "      <th></th>\n",
              "      <th>id</th>\n",
              "      <th>first_name</th>\n",
              "      <th>last_name</th>\n",
              "      <th>company_id</th>\n",
              "      <th>network_username</th>\n",
              "      <th>person_id</th>\n",
              "      <th>instituition</th>\n",
              "      <th>graduated_at</th>\n",
              "      <th>object_id</th>\n",
              "      <th>degree_type</th>\n",
              "      <th>subject</th>\n",
              "    </tr>\n",
              "  </thead>\n",
              "  <tbody>\n",
              "    <tr>\n",
              "      <th>0</th>\n",
              "      <td>10</td>\n",
              "      <td>Mark</td>\n",
              "      <td>Zuckerberg</td>\n",
              "      <td>5.0</td>\n",
              "      <td>NaN</td>\n",
              "      <td>6265.0</td>\n",
              "      <td>University of Pennsylvania</td>\n",
              "      <td>1989-01-01</td>\n",
              "      <td>p:6265</td>\n",
              "      <td>BS</td>\n",
              "      <td>Economics</td>\n",
              "    </tr>\n",
              "    <tr>\n",
              "      <th>1</th>\n",
              "      <td>100</td>\n",
              "      <td>Peter</td>\n",
              "      <td>Lester</td>\n",
              "      <td>27.0</td>\n",
              "      <td>NaN</td>\n",
              "      <td>938.0</td>\n",
              "      <td>Universidad Catolica del Uruguay</td>\n",
              "      <td>2006-01-01</td>\n",
              "      <td>p:938</td>\n",
              "      <td>BS</td>\n",
              "      <td>Computer Science</td>\n",
              "    </tr>\n",
              "    <tr>\n",
              "      <th>2</th>\n",
              "      <td>1000</td>\n",
              "      <td>Dr. Steven</td>\n",
              "      <td>E. Saunders</td>\n",
              "      <td>292.0</td>\n",
              "      <td>NaN</td>\n",
              "      <td>13098.0</td>\n",
              "      <td>Golden Gate University</td>\n",
              "      <td>1999-01-01</td>\n",
              "      <td>p:13098</td>\n",
              "      <td>MBA</td>\n",
              "      <td>NaN</td>\n",
              "    </tr>\n",
              "    <tr>\n",
              "      <th>3</th>\n",
              "      <td>10000</td>\n",
              "      <td>Neil</td>\n",
              "      <td>Capel</td>\n",
              "      <td>2526.0</td>\n",
              "      <td>NaN</td>\n",
              "      <td>74038.0</td>\n",
              "      <td>Cairo University</td>\n",
              "      <td>NaT</td>\n",
              "      <td>p:74038</td>\n",
              "      <td>MS</td>\n",
              "      <td>Applied Mathematics</td>\n",
              "    </tr>\n",
              "    <tr>\n",
              "      <th>4</th>\n",
              "      <td>100000</td>\n",
              "      <td>Sue</td>\n",
              "      <td>Pilsch</td>\n",
              "      <td>NaN</td>\n",
              "      <td>NaN</td>\n",
              "      <td>89666.0</td>\n",
              "      <td>Ohio State University</td>\n",
              "      <td>NaT</td>\n",
              "      <td>p:89666</td>\n",
              "      <td>MS</td>\n",
              "      <td>Computer Science</td>\n",
              "    </tr>\n",
              "    <tr>\n",
              "      <th>...</th>\n",
              "      <td>...</td>\n",
              "      <td>...</td>\n",
              "      <td>...</td>\n",
              "      <td>...</td>\n",
              "      <td>...</td>\n",
              "      <td>...</td>\n",
              "      <td>...</td>\n",
              "      <td>...</td>\n",
              "      <td>...</td>\n",
              "      <td>...</td>\n",
              "      <td>...</td>\n",
              "    </tr>\n",
              "    <tr>\n",
              "      <th>226704</th>\n",
              "      <td>99999</td>\n",
              "      <td>Ramon</td>\n",
              "      <td>Peypoch</td>\n",
              "      <td>NaN</td>\n",
              "      <td>NaN</td>\n",
              "      <td>257599.0</td>\n",
              "      <td>HTBLuVA Mödling</td>\n",
              "      <td>NaT</td>\n",
              "      <td>p:257599</td>\n",
              "      <td>BS</td>\n",
              "      <td>Electrical Engineering</td>\n",
              "    </tr>\n",
              "    <tr>\n",
              "      <th>226705</th>\n",
              "      <td>174088</td>\n",
              "      <td>Dr. Ray</td>\n",
              "      <td>Woods</td>\n",
              "      <td>188200.0</td>\n",
              "      <td>network</td>\n",
              "      <td>NaN</td>\n",
              "      <td>NaN</td>\n",
              "      <td>NaT</td>\n",
              "      <td>NaN</td>\n",
              "      <td>NaN</td>\n",
              "      <td>NaN</td>\n",
              "    </tr>\n",
              "    <tr>\n",
              "      <th>226706</th>\n",
              "      <td>118386</td>\n",
              "      <td>Ricardo</td>\n",
              "      <td>Durand</td>\n",
              "      <td>143419.0</td>\n",
              "      <td>itechsocialnet</td>\n",
              "      <td>NaN</td>\n",
              "      <td>NaN</td>\n",
              "      <td>NaT</td>\n",
              "      <td>NaN</td>\n",
              "      <td>NaN</td>\n",
              "      <td>NaN</td>\n",
              "    </tr>\n",
              "    <tr>\n",
              "      <th>226707</th>\n",
              "      <td>175827</td>\n",
              "      <td>mahesh</td>\n",
              "      <td>kumar</td>\n",
              "      <td>NaN</td>\n",
              "      <td>socialnethubs</td>\n",
              "      <td>NaN</td>\n",
              "      <td>NaN</td>\n",
              "      <td>NaT</td>\n",
              "      <td>NaN</td>\n",
              "      <td>NaN</td>\n",
              "      <td>NaN</td>\n",
              "    </tr>\n",
              "    <tr>\n",
              "      <th>226708</th>\n",
              "      <td>178190</td>\n",
              "      <td>Alex</td>\n",
              "      <td>Smith</td>\n",
              "      <td>NaN</td>\n",
              "      <td>esocialnetlike</td>\n",
              "      <td>NaN</td>\n",
              "      <td>NaN</td>\n",
              "      <td>NaT</td>\n",
              "      <td>NaN</td>\n",
              "      <td>NaN</td>\n",
              "      <td>NaN</td>\n",
              "    </tr>\n",
              "  </tbody>\n",
              "</table>\n",
              "<p>226709 rows × 11 columns</p>\n",
              "</div>"
            ],
            "text/plain": [
              "            id  first_name    last_name  company_id network_username  \\\n",
              "0           10        Mark   Zuckerberg         5.0              NaN   \n",
              "1          100       Peter       Lester        27.0              NaN   \n",
              "2         1000  Dr. Steven  E. Saunders       292.0              NaN   \n",
              "3        10000        Neil        Capel      2526.0              NaN   \n",
              "4       100000         Sue       Pilsch         NaN              NaN   \n",
              "...        ...         ...          ...         ...              ...   \n",
              "226704   99999       Ramon      Peypoch         NaN              NaN   \n",
              "226705  174088     Dr. Ray        Woods    188200.0          network   \n",
              "226706  118386     Ricardo       Durand    143419.0   itechsocialnet   \n",
              "226707  175827      mahesh        kumar         NaN    socialnethubs   \n",
              "226708  178190        Alex        Smith         NaN   esocialnetlike   \n",
              "\n",
              "        person_id                      instituition graduated_at object_id  \\\n",
              "0          6265.0        University of Pennsylvania   1989-01-01    p:6265   \n",
              "1           938.0  Universidad Catolica del Uruguay   2006-01-01     p:938   \n",
              "2         13098.0            Golden Gate University   1999-01-01   p:13098   \n",
              "3         74038.0                  Cairo University          NaT   p:74038   \n",
              "4         89666.0             Ohio State University          NaT   p:89666   \n",
              "...           ...                               ...          ...       ...   \n",
              "226704   257599.0                   HTBLuVA Mödling          NaT  p:257599   \n",
              "226705        NaN                               NaN          NaT       NaN   \n",
              "226706        NaN                               NaN          NaT       NaN   \n",
              "226707        NaN                               NaN          NaT       NaN   \n",
              "226708        NaN                               NaN          NaT       NaN   \n",
              "\n",
              "       degree_type                 subject  \n",
              "0               BS               Economics  \n",
              "1               BS        Computer Science  \n",
              "2              MBA                     NaN  \n",
              "3               MS     Applied Mathematics  \n",
              "4               MS        Computer Science  \n",
              "...            ...                     ...  \n",
              "226704          BS  Electrical Engineering  \n",
              "226705         NaN                     NaN  \n",
              "226706         NaN                     NaN  \n",
              "226707         NaN                     NaN  \n",
              "226708         NaN                     NaN  \n",
              "\n",
              "[226709 rows x 11 columns]"
            ]
          },
          "metadata": {},
          "output_type": "display_data"
        }
      ],
      "execution_count": 22
    },
    {
      "cell_type": "markdown",
      "source": "Анализ показывает, что в небольших компаниях (особенно с числом сотрудников 1-5) доля сотрудников без информации об образовании значительно выше, чем в крупных организациях. Это может свидетельствовать о меньшей полноте данных или меньшей детализации в малых компаниях.\n\nКрупные компании (более 10 сотрудников):\nВ таких компаниях доля сотрудников без данных об образовании заметно ниже, что говорит о более полном и аккуратном ведении кадровых данных.\n\nОбоснование границ групп:\nЯ выбрал границы для группировки по численности — это позволяет выявить тенденции и сделать сравнения между малыми, средними и крупными компаниями.",
      "metadata": {}
    },
    {
      "cell_type": "markdown",
      "source": "Присоединение таблицы degrees.csv к существующим таблицам — это возможный и логичный шаг для расширения анализа. Это позволит получить более детальную информацию о типе образования сотрудников и оценить полноту данных по степени образования в разрезе компаний или других групп.",
      "metadata": {}
    },
    {
      "cell_type": "markdown",
      "source": "### 2.3. Объединять или не объединять — вот в чём вопрос\n\nНекоторые названия столбцов встречаются в датасетах чаще других. В результате предварительной проверки датасетов было выяснено, что столбец `company_id` подходит для объединения данных.\n\n- Установите, подходит ли для объединения данных столбец `network_username`, который встречается в нескольких датасетах. Нам необходимо понимать, дублируется ли для разных датасетов информация в столбцах с таким названием, и если да — то насколько часто.\n- Оцените, можно ли использовать столбцы с именем `network_username` для объединения данных.",
      "metadata": {
        "id": "Lz7qjM32xglW"
      }
    },
    {
      "cell_type": "code",
      "source": "import matplotlib.pyplot as plt\n\n# Создаем множества\nset_company_and_rounds = set(company_and_rounds_df['network_username'].dropna().unique())\nset_people = set(people_df['network_username'].dropna().unique())\n\n# Вычисляем размеры сегментов\nonly_company_and_rounds = len(set_company_and_rounds - set_people)\nonly_people = len(set_people - set_company_and_rounds)\nintersection = len(set_company_and_rounds.intersection(set_people))\n",
      "metadata": {
        "id": "zyI3rt0rxg1O"
      },
      "outputs": [],
      "execution_count": 23
    },
    {
      "cell_type": "code",
      "source": "# Данные для круговой диаграммы\nsizes = [only_company_and_rounds, only_people, intersection]\nlabels = ['Только company_and_rounds', 'Только people', 'Пересечение']\ncolors = ['skyblue', 'orange', 'lightgreen']\n\n# Построение круговой диаграммы\nplt.pie(sizes, labels=labels, colors=colors, autopct='%1.1f%%', startangle=140)\nplt.title('Пропорции уникальных и пересекающихся network_username')\nplt.axis('equal')  # чтобы круг был круглым\nplt.show()",
      "metadata": {},
      "outputs": [
        {
          "data": {
            "image/png": "[encoded data removed]",
            "text/plain": [
              "<Figure size 432x288 with 1 Axes>"
            ]
          },
          "metadata": {},
          "output_type": "display_data"
        }
      ],
      "execution_count": 24
    },
    {
      "cell_type": "markdown",
      "source": "Маленькое пересечение (1,9%) говорит о том, что большинство данных в разных датасетах не связаны через этот столбец.\nТакой низкий уровень пересечения указывает на то, что network_username не является надежным идентификатором для объединения данных, поскольку он не охватывает значительную часть пользователей или объектов\n\nВывод:\nИспользовать network_username для объединения данных в данном случае не рекомендуется, так как он не обеспечивает достаточной связности между датасетами.",
      "metadata": {}
    },
    {
      "cell_type": "code",
      "source": "# Код ревьюера\n!pip install matplotlib-venn -q\nfrom matplotlib_venn import venn2\nfirst_id = set(company_and_rounds_df['network_username'].dropna().unique())\nsecond_id = set(people_df['network_username'].dropna().unique())\n# Строим диаграмму Венна\nvenn2([first_id, second_id], set_labels=('company_and_rounds_df', 'people_df'))\n\n# Отображаем график\nplt.title(\"Пересечение \")\nplt.show()",
      "metadata": {},
      "outputs": [
        {
          "data": {
            "image/png": "[encoded data removed]",
            "text/plain": [
              "<Figure size 432x288 with 1 Axes>"
            ]
          },
          "metadata": {},
          "output_type": "display_data"
        }
      ],
      "execution_count": 25
    },
    {
      "cell_type": "markdown",
      "source": "\n### 2.4. Проблемный датасет и причина возникновения пропусков\n\nВо время собственного анализа данных у заказчика больше всего вопросов возникло к датасету `company_and_rounds.csv`. В нём много пропусков как раз в информации о раундах, которая заказчику важна.\n\n- Любым удобным способом приведите данные в вид, который позволит в дальнейшем проводить анализ в разрезе отдельных компаний. Обратите внимание на структуру датасета, порядок и названия столбцов, проанализируйте значения.\n\nПо гипотезе заказчика данные по компаниям из этой таблицы раньше хранились иначе, более удобным для исследования образом.\n\n- Максимальным образом сохраняя данные, сохранив их связность и исключив возможные возникающие при этом ошибки, подготовьте данные так, чтобы удобно было отобрать компании по параметрам и рассчитать показатели из расчёта на одну компанию без промежуточных агрегаций.",
      "metadata": {
        "id": "EHcODomVrJg1"
      }
    },
    {
      "cell_type": "code",
      "source": "company_and_rounds_df111 = company_and_rounds_df.copy()",
      "metadata": {},
      "outputs": [],
      "execution_count": 26
    },
    {
      "cell_type": "code",
      "source": "# Проверка количества повторений по company_id\nprint(company_and_rounds_df['company_id'].value_counts())\n\n# Проверка уникальных компаний\nunique_companies = company_and_rounds_df[['company_id', 'name']].drop_duplicates()\nprint(f\"Количество уникальных компаний: {len(unique_companies)}\")",
      "metadata": {
        "id": "oSk7xqu_FbaN"
      },
      "outputs": [
        {
          "name": "stdout",
          "output_type": "stream",
          "text": "169096.0    15\n,75429.0     15\n,27486.0     14\n,37366.0     13\n,26802.0     13\n,            ..\n,246390.0     1\n,222417.0     1\n,27485.0      1\n,248001.0     1\n,254019.0     1\n,Name: company_id, Length: 196553, dtype: int64\n,Количество уникальных компаний: 196554\n"
        }
      ],
      "execution_count": 27
    },
    {
      "cell_type": "code",
      "source": "# Удаляем полные дубли\ncompanies = company_and_rounds_df[['company_id', 'name']].drop_duplicates().reset_index(drop=True)\n\n# Для этого возьмем все строки, где есть данные о раундах\nrounds = company_and_rounds_df.dropna(subset=['funded_at'])\n\nprint(company_and_rounds_df['company_id'].value_counts())\n",
      "metadata": {},
      "outputs": [
        {
          "name": "stdout",
          "output_type": "stream",
          "text": "169096.0    15\n,75429.0     15\n,27486.0     14\n,37366.0     13\n,26802.0     13\n,            ..\n,246390.0     1\n,222417.0     1\n,27485.0      1\n,248001.0     1\n,254019.0     1\n,Name: company_id, Length: 196553, dtype: int64\n"
        }
      ],
      "execution_count": 28
    },
    {
      "cell_type": "code",
      "source": "# 1. Проверка количества пропусков по колонкам\nprint(company_and_rounds_df.isnull().sum())\n",
      "metadata": {},
      "outputs": [
        {
          "name": "stdout",
          "output_type": "stream",
          "text": "company_id                302\n,name                      302\n,category_code           73888\n,status                    302\n,founded_at             107818\n,closed_at              214325\n,domain                  70615\n,network_username       122240\n,country_code           109167\n,investment_rounds         302\n,funding_rounds            302\n,funding_total             302\n,milestones                302\n,funding_round_id       164846\n,company_id_2           164846\n,funded_at              165094\n,funding_round_type     164846\n,raised_amount          164846\n,pre_money_valuation    164846\n,participants           164846\n,is_first_round         164846\n,is_last_round          164846\n,funded_year            165094\n,dtype: int64\n"
        }
      ],
      "execution_count": 29
    },
    {
      "cell_type": "code",
      "source": "# 2. Обработка пропусков\n\n# Удалим без даты финансирования\ncompany_and_rounds_df = company_and_rounds_df.dropna(subset=['funded_at'])",
      "metadata": {},
      "outputs": [],
      "execution_count": 30
    },
    {
      "cell_type": "code",
      "source": "# Таблица компаний\ncompanies = company_and_rounds_df[['company_id', 'name']].drop_duplicates().reset_index(drop=True)\n\n# Таблица раундов — оставим только строки с данными о раундах\nrounds = company_and_rounds_df.dropna(subset=['funded_at'])",
      "metadata": {},
      "outputs": [],
      "execution_count": 31
    },
    {
      "cell_type": "code",
      "source": "# Группировка по company_id\ncompany_stats = rounds.groupby('company_id').agg({\n    'name': 'first',\n    'funded_at': ['min', 'max'],  # первый и последний раунд по дате\n    'funding_round_id': 'count', # число раундов\n    'raised_amount': 'sum',\n    'participants': 'mean',\n    \n})\n\n# Переименование колонок после агрегации\ncompany_stats.columns = ['_'.join(col).strip() for col in company_stats.columns.values]\ncompany_stats = company_stats.reset_index()\n\n# Объединение с таблицей компаний для получения полного набора данных \n\nfull_company_data = companies.merge(company_stats, on='company_id', how='left')\ndisplay(full_company_data)\n",
      "metadata": {},
      "outputs": [
        {
          "data": {
            "text/html": [
              "<div>\n",
              "<style scoped>\n",
              "    .dataframe tbody tr th:only-of-type {\n",
              "        vertical-align: middle;\n",
              "    }\n",
              "\n",
              "    .dataframe tbody tr th {\n",
              "        vertical-align: top;\n",
              "    }\n",
              "\n",
              "    .dataframe thead th {\n",
              "        text-align: right;\n",
              "    }\n",
              "</style>\n",
              "<table border=\"1\" class=\"dataframe\">\n",
              "  <thead>\n",
              "    <tr style=\"text-align: right;\">\n",
              "      <th></th>\n",
              "      <th>company_id</th>\n",
              "      <th>name</th>\n",
              "      <th>name_first</th>\n",
              "      <th>funded_at_min</th>\n",
              "      <th>funded_at_max</th>\n",
              "      <th>funding_round_id_count</th>\n",
              "      <th>raised_amount_sum</th>\n",
              "      <th>participants_mean</th>\n",
              "    </tr>\n",
              "  </thead>\n",
              "  <tbody>\n",
              "    <tr>\n",
              "      <th>0</th>\n",
              "      <td>1.0</td>\n",
              "      <td>Wetpaint</td>\n",
              "      <td>Wetpaint</td>\n",
              "      <td>2005-10-01</td>\n",
              "      <td>2008-05-19</td>\n",
              "      <td>3.0</td>\n",
              "      <td>39750000.0</td>\n",
              "      <td>3.000000</td>\n",
              "    </tr>\n",
              "    <tr>\n",
              "      <th>1</th>\n",
              "      <td>1001.0</td>\n",
              "      <td>FriendFeed</td>\n",
              "      <td>FriendFeed</td>\n",
              "      <td>2008-02-26</td>\n",
              "      <td>2008-02-26</td>\n",
              "      <td>1.0</td>\n",
              "      <td>5000000.0</td>\n",
              "      <td>3.000000</td>\n",
              "    </tr>\n",
              "    <tr>\n",
              "      <th>2</th>\n",
              "      <td>10014.0</td>\n",
              "      <td>Mobclix</td>\n",
              "      <td>Mobclix</td>\n",
              "      <td>2008-09-01</td>\n",
              "      <td>2008-09-01</td>\n",
              "      <td>1.0</td>\n",
              "      <td>0.0</td>\n",
              "      <td>1.000000</td>\n",
              "    </tr>\n",
              "    <tr>\n",
              "      <th>3</th>\n",
              "      <td>10015.0</td>\n",
              "      <td>Fitbit</td>\n",
              "      <td>Fitbit</td>\n",
              "      <td>2008-10-10</td>\n",
              "      <td>2013-08-13</td>\n",
              "      <td>5.0</td>\n",
              "      <td>68069200.0</td>\n",
              "      <td>3.800000</td>\n",
              "    </tr>\n",
              "    <tr>\n",
              "      <th>4</th>\n",
              "      <td>100155.0</td>\n",
              "      <td>MTPV</td>\n",
              "      <td>MTPV</td>\n",
              "      <td>2011-03-08</td>\n",
              "      <td>2012-01-26</td>\n",
              "      <td>3.0</td>\n",
              "      <td>10125293.0</td>\n",
              "      <td>1.666667</td>\n",
              "    </tr>\n",
              "    <tr>\n",
              "      <th>...</th>\n",
              "      <td>...</td>\n",
              "      <td>...</td>\n",
              "      <td>...</td>\n",
              "      <td>...</td>\n",
              "      <td>...</td>\n",
              "      <td>...</td>\n",
              "      <td>...</td>\n",
              "      <td>...</td>\n",
              "    </tr>\n",
              "    <tr>\n",
              "      <th>31503</th>\n",
              "      <td>142181.0</td>\n",
              "      <td>Stop Being Watched</td>\n",
              "      <td>Stop Being Watched</td>\n",
              "      <td>2010-06-10</td>\n",
              "      <td>2010-06-10</td>\n",
              "      <td>1.0</td>\n",
              "      <td>500000.0</td>\n",
              "      <td>1.000000</td>\n",
              "    </tr>\n",
              "    <tr>\n",
              "      <th>31504</th>\n",
              "      <td>3429.0</td>\n",
              "      <td>Zend Technologies</td>\n",
              "      <td>Zend Technologies</td>\n",
              "      <td>2004-07-19</td>\n",
              "      <td>2011-01-10</td>\n",
              "      <td>4.0</td>\n",
              "      <td>44000000.0</td>\n",
              "      <td>4.500000</td>\n",
              "    </tr>\n",
              "    <tr>\n",
              "      <th>31505</th>\n",
              "      <td>7748.0</td>\n",
              "      <td>Flowgram</td>\n",
              "      <td>Flowgram</td>\n",
              "      <td>2008-01-31</td>\n",
              "      <td>2008-01-31</td>\n",
              "      <td>1.0</td>\n",
              "      <td>1300000.0</td>\n",
              "      <td>8.000000</td>\n",
              "    </tr>\n",
              "    <tr>\n",
              "      <th>31506</th>\n",
              "      <td>43233.0</td>\n",
              "      <td>Photonet</td>\n",
              "      <td>Photonet</td>\n",
              "      <td>2010-03-05</td>\n",
              "      <td>2012-04-05</td>\n",
              "      <td>3.0</td>\n",
              "      <td>57500000.0</td>\n",
              "      <td>4.000000</td>\n",
              "    </tr>\n",
              "    <tr>\n",
              "      <th>31507</th>\n",
              "      <td>NaN</td>\n",
              "      <td>NaN</td>\n",
              "      <td>NaN</td>\n",
              "      <td>NaT</td>\n",
              "      <td>NaT</td>\n",
              "      <td>NaN</td>\n",
              "      <td>NaN</td>\n",
              "      <td>NaN</td>\n",
              "    </tr>\n",
              "  </tbody>\n",
              "</table>\n",
              "<p>31508 rows × 8 columns</p>\n",
              "</div>"
            ],
            "text/plain": [
              "       company_id                name          name_first funded_at_min  \\\n",
              "0             1.0            Wetpaint            Wetpaint    2005-10-01   \n",
              "1          1001.0          FriendFeed          FriendFeed    2008-02-26   \n",
              "2         10014.0             Mobclix             Mobclix    2008-09-01   \n",
              "3         10015.0              Fitbit              Fitbit    2008-10-10   \n",
              "4        100155.0                MTPV                MTPV    2011-03-08   \n",
              "...           ...                 ...                 ...           ...   \n",
              "31503    142181.0  Stop Being Watched  Stop Being Watched    2010-06-10   \n",
              "31504      3429.0   Zend Technologies   Zend Technologies    2004-07-19   \n",
              "31505      7748.0            Flowgram            Flowgram    2008-01-31   \n",
              "31506     43233.0            Photonet            Photonet    2010-03-05   \n",
              "31507         NaN                 NaN                 NaN           NaT   \n",
              "\n",
              "      funded_at_max  funding_round_id_count  raised_amount_sum  \\\n",
              "0        2008-05-19                     3.0         39750000.0   \n",
              "1        2008-02-26                     1.0          5000000.0   \n",
              "2        2008-09-01                     1.0                0.0   \n",
              "3        2013-08-13                     5.0         68069200.0   \n",
              "4        2012-01-26                     3.0         10125293.0   \n",
              "...             ...                     ...                ...   \n",
              "31503    2010-06-10                     1.0           500000.0   \n",
              "31504    2011-01-10                     4.0         44000000.0   \n",
              "31505    2008-01-31                     1.0          1300000.0   \n",
              "31506    2012-04-05                     3.0         57500000.0   \n",
              "31507           NaT                     NaN                NaN   \n",
              "\n",
              "       participants_mean  \n",
              "0               3.000000  \n",
              "1               3.000000  \n",
              "2               1.000000  \n",
              "3               3.800000  \n",
              "4               1.666667  \n",
              "...                  ...  \n",
              "31503           1.000000  \n",
              "31504           4.500000  \n",
              "31505           8.000000  \n",
              "31506           4.000000  \n",
              "31507                NaN  \n",
              "\n",
              "[31508 rows x 8 columns]"
            ]
          },
          "metadata": {},
          "output_type": "display_data"
        }
      ],
      "execution_count": 32
    },
    {
      "cell_type": "markdown",
      "source": " - Промежуточный вывод:\n\nИсходный датасет содержит более 196 тысяч строк, в которых присутствуют дубли и пропуски. В основном пропуски наблюдаются в колонках, связанных с информацией о раундах финансирования (funded_at, funding_round_id, raised_amount, participants), а также в данных о компаниях (name, category_code, country_code).\n\nАнализ пропусков:\nЗначения отсутствуют в критичных для анализа колонках, таких как дата финансирования и идентификаторы раундов. Строки без даты финансирования были удалены, поскольку они не позволяют корректно определить временные параметры.\n\nОбработка дубликатов:\nБыли удалены полные дубли строк с помощью метода .drop_duplicates(). После этого для каждой компании осталась одна запись с агрегированными показателями.\n\nАгрегация данных по компаниям:\nДля каждой уникальной компании рассчитаны:\n\nдата первого и последнего раунда (funded_at_min, funded_at_max)\nколичество раундов (funding_round_id_count)\nсуммарная сумма привлеченных инвестиций (raised_amount_sum)\nсреднее число участников (participants_mean)",
      "metadata": {}
    },
    {
      "cell_type": "markdown",
      "source": "Так же это подтверждает гепотезу о том что данные раньше хранились иначе . Много пропусков и дубликатов а так же изначально было 2 столбца company_id ",
      "metadata": {}
    },
    {
      "cell_type": "markdown",
      "source": "Дмитрий я правильно понимаю что нужен максимально читабельный без пропусков и дубликатов срез компаний по раундам ?Тяжело суть задачи уловить немного.",
      "metadata": {}
    },
    {
      "cell_type": "markdown",
      "source": "Кажется понял, спасибо. Разделить по кол-ву стольбцов это идея. Не смог до этоого додуматься. И пропущенные строки не трогать надо было, а только дубликаты удалить.",
      "metadata": {}
    },
    {
      "cell_type": "code",
      "source": "# Код ревьюера\ncompany_and_rounds_df111",
      "metadata": {
        "scrolled": true
      },
      "outputs": [
        {
          "data": {
            "text/html": [
              "<div>\n",
              "<style scoped>\n",
              "    .dataframe tbody tr th:only-of-type {\n",
              "        vertical-align: middle;\n",
              "    }\n",
              "\n",
              "    .dataframe tbody tr th {\n",
              "        vertical-align: top;\n",
              "    }\n",
              "\n",
              "    .dataframe thead th {\n",
              "        text-align: right;\n",
              "    }\n",
              "</style>\n",
              "<table border=\"1\" class=\"dataframe\">\n",
              "  <thead>\n",
              "    <tr style=\"text-align: right;\">\n",
              "      <th></th>\n",
              "      <th>company_id</th>\n",
              "      <th>name</th>\n",
              "      <th>category_code</th>\n",
              "      <th>status</th>\n",
              "      <th>founded_at</th>\n",
              "      <th>closed_at</th>\n",
              "      <th>domain</th>\n",
              "      <th>network_username</th>\n",
              "      <th>country_code</th>\n",
              "      <th>investment_rounds</th>\n",
              "      <th>...</th>\n",
              "      <th>funding_round_id</th>\n",
              "      <th>company_id_2</th>\n",
              "      <th>funded_at</th>\n",
              "      <th>funding_round_type</th>\n",
              "      <th>raised_amount</th>\n",
              "      <th>pre_money_valuation</th>\n",
              "      <th>participants</th>\n",
              "      <th>is_first_round</th>\n",
              "      <th>is_last_round</th>\n",
              "      <th>funded_year</th>\n",
              "    </tr>\n",
              "  </thead>\n",
              "  <tbody>\n",
              "    <tr>\n",
              "      <th>0</th>\n",
              "      <td>1.0</td>\n",
              "      <td>Wetpaint</td>\n",
              "      <td>web</td>\n",
              "      <td>operating</td>\n",
              "      <td>2005-10-17</td>\n",
              "      <td>NaT</td>\n",
              "      <td>wetpaint-inc.com</td>\n",
              "      <td>BachelrWetpaint</td>\n",
              "      <td>USA</td>\n",
              "      <td>0.0</td>\n",
              "      <td>...</td>\n",
              "      <td>888.0</td>\n",
              "      <td>1.0</td>\n",
              "      <td>2005-10-01</td>\n",
              "      <td>series-a</td>\n",
              "      <td>5250000.0</td>\n",
              "      <td>0.0</td>\n",
              "      <td>2.0</td>\n",
              "      <td>0.0</td>\n",
              "      <td>1.0</td>\n",
              "      <td>2005.0</td>\n",
              "    </tr>\n",
              "    <tr>\n",
              "      <th>1</th>\n",
              "      <td>1.0</td>\n",
              "      <td>Wetpaint</td>\n",
              "      <td>web</td>\n",
              "      <td>operating</td>\n",
              "      <td>2005-10-17</td>\n",
              "      <td>NaT</td>\n",
              "      <td>wetpaint-inc.com</td>\n",
              "      <td>BachelrWetpaint</td>\n",
              "      <td>USA</td>\n",
              "      <td>0.0</td>\n",
              "      <td>...</td>\n",
              "      <td>889.0</td>\n",
              "      <td>1.0</td>\n",
              "      <td>2007-01-01</td>\n",
              "      <td>series-b</td>\n",
              "      <td>9500000.0</td>\n",
              "      <td>0.0</td>\n",
              "      <td>3.0</td>\n",
              "      <td>0.0</td>\n",
              "      <td>0.0</td>\n",
              "      <td>2007.0</td>\n",
              "    </tr>\n",
              "    <tr>\n",
              "      <th>2</th>\n",
              "      <td>1.0</td>\n",
              "      <td>Wetpaint</td>\n",
              "      <td>web</td>\n",
              "      <td>operating</td>\n",
              "      <td>2005-10-17</td>\n",
              "      <td>NaT</td>\n",
              "      <td>wetpaint-inc.com</td>\n",
              "      <td>BachelrWetpaint</td>\n",
              "      <td>USA</td>\n",
              "      <td>0.0</td>\n",
              "      <td>...</td>\n",
              "      <td>2312.0</td>\n",
              "      <td>1.0</td>\n",
              "      <td>2008-05-19</td>\n",
              "      <td>series-c+</td>\n",
              "      <td>25000000.0</td>\n",
              "      <td>0.0</td>\n",
              "      <td>4.0</td>\n",
              "      <td>1.0</td>\n",
              "      <td>0.0</td>\n",
              "      <td>2008.0</td>\n",
              "    </tr>\n",
              "    <tr>\n",
              "      <th>3</th>\n",
              "      <td>10.0</td>\n",
              "      <td>Flektor</td>\n",
              "      <td>games_video</td>\n",
              "      <td>acquired</td>\n",
              "      <td>NaT</td>\n",
              "      <td>NaT</td>\n",
              "      <td>flektor.com</td>\n",
              "      <td>NaN</td>\n",
              "      <td>USA</td>\n",
              "      <td>0.0</td>\n",
              "      <td>...</td>\n",
              "      <td>NaN</td>\n",
              "      <td>NaN</td>\n",
              "      <td>NaT</td>\n",
              "      <td>NaN</td>\n",
              "      <td>NaN</td>\n",
              "      <td>NaN</td>\n",
              "      <td>NaN</td>\n",
              "      <td>NaN</td>\n",
              "      <td>NaN</td>\n",
              "      <td>NaN</td>\n",
              "    </tr>\n",
              "    <tr>\n",
              "      <th>4</th>\n",
              "      <td>100.0</td>\n",
              "      <td>There</td>\n",
              "      <td>games_video</td>\n",
              "      <td>acquired</td>\n",
              "      <td>NaT</td>\n",
              "      <td>NaT</td>\n",
              "      <td>there.com</td>\n",
              "      <td>NaN</td>\n",
              "      <td>USA</td>\n",
              "      <td>0.0</td>\n",
              "      <td>...</td>\n",
              "      <td>NaN</td>\n",
              "      <td>NaN</td>\n",
              "      <td>NaT</td>\n",
              "      <td>NaN</td>\n",
              "      <td>NaN</td>\n",
              "      <td>NaN</td>\n",
              "      <td>NaN</td>\n",
              "      <td>NaN</td>\n",
              "      <td>NaN</td>\n",
              "      <td>NaN</td>\n",
              "    </tr>\n",
              "    <tr>\n",
              "      <th>...</th>\n",
              "      <td>...</td>\n",
              "      <td>...</td>\n",
              "      <td>...</td>\n",
              "      <td>...</td>\n",
              "      <td>...</td>\n",
              "      <td>...</td>\n",
              "      <td>...</td>\n",
              "      <td>...</td>\n",
              "      <td>...</td>\n",
              "      <td>...</td>\n",
              "      <td>...</td>\n",
              "      <td>...</td>\n",
              "      <td>...</td>\n",
              "      <td>...</td>\n",
              "      <td>...</td>\n",
              "      <td>...</td>\n",
              "      <td>...</td>\n",
              "      <td>...</td>\n",
              "      <td>...</td>\n",
              "      <td>...</td>\n",
              "      <td>...</td>\n",
              "    </tr>\n",
              "    <tr>\n",
              "      <th>217769</th>\n",
              "      <td>NaN</td>\n",
              "      <td>NaN</td>\n",
              "      <td>NaN</td>\n",
              "      <td>NaN</td>\n",
              "      <td>NaT</td>\n",
              "      <td>NaT</td>\n",
              "      <td>NaN</td>\n",
              "      <td>NaN</td>\n",
              "      <td>NaN</td>\n",
              "      <td>NaN</td>\n",
              "      <td>...</td>\n",
              "      <td>56454.0</td>\n",
              "      <td>282847.0</td>\n",
              "      <td>2011-01-31</td>\n",
              "      <td>other</td>\n",
              "      <td>5500000.0</td>\n",
              "      <td>0.0</td>\n",
              "      <td>0.0</td>\n",
              "      <td>1.0</td>\n",
              "      <td>1.0</td>\n",
              "      <td>2011.0</td>\n",
              "    </tr>\n",
              "    <tr>\n",
              "      <th>217770</th>\n",
              "      <td>NaN</td>\n",
              "      <td>NaN</td>\n",
              "      <td>NaN</td>\n",
              "      <td>NaN</td>\n",
              "      <td>NaT</td>\n",
              "      <td>NaT</td>\n",
              "      <td>NaN</td>\n",
              "      <td>NaN</td>\n",
              "      <td>NaN</td>\n",
              "      <td>NaN</td>\n",
              "      <td>...</td>\n",
              "      <td>56542.0</td>\n",
              "      <td>55477.0</td>\n",
              "      <td>2011-01-13</td>\n",
              "      <td>venture</td>\n",
              "      <td>10633300.0</td>\n",
              "      <td>0.0</td>\n",
              "      <td>0.0</td>\n",
              "      <td>0.0</td>\n",
              "      <td>1.0</td>\n",
              "      <td>2011.0</td>\n",
              "    </tr>\n",
              "    <tr>\n",
              "      <th>217771</th>\n",
              "      <td>NaN</td>\n",
              "      <td>NaN</td>\n",
              "      <td>NaN</td>\n",
              "      <td>NaN</td>\n",
              "      <td>NaT</td>\n",
              "      <td>NaT</td>\n",
              "      <td>NaN</td>\n",
              "      <td>NaN</td>\n",
              "      <td>NaN</td>\n",
              "      <td>NaN</td>\n",
              "      <td>...</td>\n",
              "      <td>56543.0</td>\n",
              "      <td>55477.0</td>\n",
              "      <td>2012-05-31</td>\n",
              "      <td>venture</td>\n",
              "      <td>2125720.0</td>\n",
              "      <td>0.0</td>\n",
              "      <td>0.0</td>\n",
              "      <td>1.0</td>\n",
              "      <td>0.0</td>\n",
              "      <td>2012.0</td>\n",
              "    </tr>\n",
              "    <tr>\n",
              "      <th>217772</th>\n",
              "      <td>NaN</td>\n",
              "      <td>NaN</td>\n",
              "      <td>NaN</td>\n",
              "      <td>NaN</td>\n",
              "      <td>NaT</td>\n",
              "      <td>NaT</td>\n",
              "      <td>NaN</td>\n",
              "      <td>NaN</td>\n",
              "      <td>NaN</td>\n",
              "      <td>NaN</td>\n",
              "      <td>...</td>\n",
              "      <td>56928.0</td>\n",
              "      <td>283492.0</td>\n",
              "      <td>2013-12-03</td>\n",
              "      <td>venture</td>\n",
              "      <td>3602480.0</td>\n",
              "      <td>0.0</td>\n",
              "      <td>5.0</td>\n",
              "      <td>1.0</td>\n",
              "      <td>1.0</td>\n",
              "      <td>2013.0</td>\n",
              "    </tr>\n",
              "    <tr>\n",
              "      <th>217773</th>\n",
              "      <td>NaN</td>\n",
              "      <td>NaN</td>\n",
              "      <td>NaN</td>\n",
              "      <td>NaN</td>\n",
              "      <td>NaT</td>\n",
              "      <td>NaT</td>\n",
              "      <td>NaN</td>\n",
              "      <td>NaN</td>\n",
              "      <td>NaN</td>\n",
              "      <td>NaN</td>\n",
              "      <td>...</td>\n",
              "      <td>57063.0</td>\n",
              "      <td>284191.0</td>\n",
              "      <td>2013-12-04</td>\n",
              "      <td>venture</td>\n",
              "      <td>7000000.0</td>\n",
              "      <td>0.0</td>\n",
              "      <td>4.0</td>\n",
              "      <td>1.0</td>\n",
              "      <td>1.0</td>\n",
              "      <td>2013.0</td>\n",
              "    </tr>\n",
              "  </tbody>\n",
              "</table>\n",
              "<p>217774 rows × 23 columns</p>\n",
              "</div>"
            ],
            "text/plain": [
              "        company_id      name category_code     status founded_at closed_at  \\\n",
              "0              1.0  Wetpaint           web  operating 2005-10-17       NaT   \n",
              "1              1.0  Wetpaint           web  operating 2005-10-17       NaT   \n",
              "2              1.0  Wetpaint           web  operating 2005-10-17       NaT   \n",
              "3             10.0   Flektor   games_video   acquired        NaT       NaT   \n",
              "4            100.0     There   games_video   acquired        NaT       NaT   \n",
              "...            ...       ...           ...        ...        ...       ...   \n",
              "217769         NaN       NaN           NaN        NaN        NaT       NaT   \n",
              "217770         NaN       NaN           NaN        NaN        NaT       NaT   \n",
              "217771         NaN       NaN           NaN        NaN        NaT       NaT   \n",
              "217772         NaN       NaN           NaN        NaN        NaT       NaT   \n",
              "217773         NaN       NaN           NaN        NaN        NaT       NaT   \n",
              "\n",
              "                  domain network_username country_code  investment_rounds  \\\n",
              "0       wetpaint-inc.com  BachelrWetpaint          USA                0.0   \n",
              "1       wetpaint-inc.com  BachelrWetpaint          USA                0.0   \n",
              "2       wetpaint-inc.com  BachelrWetpaint          USA                0.0   \n",
              "3            flektor.com              NaN          USA                0.0   \n",
              "4              there.com              NaN          USA                0.0   \n",
              "...                  ...              ...          ...                ...   \n",
              "217769               NaN              NaN          NaN                NaN   \n",
              "217770               NaN              NaN          NaN                NaN   \n",
              "217771               NaN              NaN          NaN                NaN   \n",
              "217772               NaN              NaN          NaN                NaN   \n",
              "217773               NaN              NaN          NaN                NaN   \n",
              "\n",
              "        ...  funding_round_id  company_id_2  funded_at  funding_round_type  \\\n",
              "0       ...             888.0           1.0 2005-10-01            series-a   \n",
              "1       ...             889.0           1.0 2007-01-01            series-b   \n",
              "2       ...            2312.0           1.0 2008-05-19           series-c+   \n",
              "3       ...               NaN           NaN        NaT                 NaN   \n",
              "4       ...               NaN           NaN        NaT                 NaN   \n",
              "...     ...               ...           ...        ...                 ...   \n",
              "217769  ...           56454.0      282847.0 2011-01-31               other   \n",
              "217770  ...           56542.0       55477.0 2011-01-13             venture   \n",
              "217771  ...           56543.0       55477.0 2012-05-31             venture   \n",
              "217772  ...           56928.0      283492.0 2013-12-03             venture   \n",
              "217773  ...           57063.0      284191.0 2013-12-04             venture   \n",
              "\n",
              "        raised_amount pre_money_valuation participants  is_first_round  \\\n",
              "0           5250000.0                 0.0          2.0             0.0   \n",
              "1           9500000.0                 0.0          3.0             0.0   \n",
              "2          25000000.0                 0.0          4.0             1.0   \n",
              "3                 NaN                 NaN          NaN             NaN   \n",
              "4                 NaN                 NaN          NaN             NaN   \n",
              "...               ...                 ...          ...             ...   \n",
              "217769      5500000.0                 0.0          0.0             1.0   \n",
              "217770     10633300.0                 0.0          0.0             0.0   \n",
              "217771      2125720.0                 0.0          0.0             1.0   \n",
              "217772      3602480.0                 0.0          5.0             1.0   \n",
              "217773      7000000.0                 0.0          4.0             1.0   \n",
              "\n",
              "        is_last_round  funded_year  \n",
              "0                 1.0       2005.0  \n",
              "1                 0.0       2007.0  \n",
              "2                 0.0       2008.0  \n",
              "3                 NaN          NaN  \n",
              "4                 NaN          NaN  \n",
              "...               ...          ...  \n",
              "217769            1.0       2011.0  \n",
              "217770            1.0       2011.0  \n",
              "217771            0.0       2012.0  \n",
              "217772            1.0       2013.0  \n",
              "217773            1.0       2013.0  \n",
              "\n",
              "[217774 rows x 23 columns]"
            ]
          },
          "execution_count": 33,
          "metadata": {},
          "output_type": "execute_result"
        }
      ],
      "execution_count": 33
    },
    {
      "cell_type": "code",
      "source": "# Код ревьюера\ncompanies_df_11 = company_and_rounds_df111.iloc[:, :13]  \nrounds_df_11 = company_and_rounds_df111.iloc[:, 13:]  \n\nprint(\"companies_df_11:\")\ndisplay(companies_df_11)\nprint(\"rounds_df_11:\")\ndisplay(rounds_df_11)",
      "metadata": {
        "scrolled": true
      },
      "outputs": [
        {
          "name": "stdout",
          "output_type": "stream",
          "text": "companies_df_11:\n"
        },
        {
          "data": {
            "text/html": [
              "<div>\n",
              "<style scoped>\n",
              "    .dataframe tbody tr th:only-of-type {\n",
              "        vertical-align: middle;\n",
              "    }\n",
              "\n",
              "    .dataframe tbody tr th {\n",
              "        vertical-align: top;\n",
              "    }\n",
              "\n",
              "    .dataframe thead th {\n",
              "        text-align: right;\n",
              "    }\n",
              "</style>\n",
              "<table border=\"1\" class=\"dataframe\">\n",
              "  <thead>\n",
              "    <tr style=\"text-align: right;\">\n",
              "      <th></th>\n",
              "      <th>company_id</th>\n",
              "      <th>name</th>\n",
              "      <th>category_code</th>\n",
              "      <th>status</th>\n",
              "      <th>founded_at</th>\n",
              "      <th>closed_at</th>\n",
              "      <th>domain</th>\n",
              "      <th>network_username</th>\n",
              "      <th>country_code</th>\n",
              "      <th>investment_rounds</th>\n",
              "      <th>funding_rounds</th>\n",
              "      <th>funding_total</th>\n",
              "      <th>milestones</th>\n",
              "    </tr>\n",
              "  </thead>\n",
              "  <tbody>\n",
              "    <tr>\n",
              "      <th>0</th>\n",
              "      <td>1.0</td>\n",
              "      <td>Wetpaint</td>\n",
              "      <td>web</td>\n",
              "      <td>operating</td>\n",
              "      <td>2005-10-17</td>\n",
              "      <td>NaT</td>\n",
              "      <td>wetpaint-inc.com</td>\n",
              "      <td>BachelrWetpaint</td>\n",
              "      <td>USA</td>\n",
              "      <td>0.0</td>\n",
              "      <td>3.0</td>\n",
              "      <td>39750000.0</td>\n",
              "      <td>5.0</td>\n",
              "    </tr>\n",
              "    <tr>\n",
              "      <th>1</th>\n",
              "      <td>1.0</td>\n",
              "      <td>Wetpaint</td>\n",
              "      <td>web</td>\n",
              "      <td>operating</td>\n",
              "      <td>2005-10-17</td>\n",
              "      <td>NaT</td>\n",
              "      <td>wetpaint-inc.com</td>\n",
              "      <td>BachelrWetpaint</td>\n",
              "      <td>USA</td>\n",
              "      <td>0.0</td>\n",
              "      <td>3.0</td>\n",
              "      <td>39750000.0</td>\n",
              "      <td>5.0</td>\n",
              "    </tr>\n",
              "    <tr>\n",
              "      <th>2</th>\n",
              "      <td>1.0</td>\n",
              "      <td>Wetpaint</td>\n",
              "      <td>web</td>\n",
              "      <td>operating</td>\n",
              "      <td>2005-10-17</td>\n",
              "      <td>NaT</td>\n",
              "      <td>wetpaint-inc.com</td>\n",
              "      <td>BachelrWetpaint</td>\n",
              "      <td>USA</td>\n",
              "      <td>0.0</td>\n",
              "      <td>3.0</td>\n",
              "      <td>39750000.0</td>\n",
              "      <td>5.0</td>\n",
              "    </tr>\n",
              "    <tr>\n",
              "      <th>3</th>\n",
              "      <td>10.0</td>\n",
              "      <td>Flektor</td>\n",
              "      <td>games_video</td>\n",
              "      <td>acquired</td>\n",
              "      <td>NaT</td>\n",
              "      <td>NaT</td>\n",
              "      <td>flektor.com</td>\n",
              "      <td>NaN</td>\n",
              "      <td>USA</td>\n",
              "      <td>0.0</td>\n",
              "      <td>0.0</td>\n",
              "      <td>0.0</td>\n",
              "      <td>0.0</td>\n",
              "    </tr>\n",
              "    <tr>\n",
              "      <th>4</th>\n",
              "      <td>100.0</td>\n",
              "      <td>There</td>\n",
              "      <td>games_video</td>\n",
              "      <td>acquired</td>\n",
              "      <td>NaT</td>\n",
              "      <td>NaT</td>\n",
              "      <td>there.com</td>\n",
              "      <td>NaN</td>\n",
              "      <td>USA</td>\n",
              "      <td>0.0</td>\n",
              "      <td>0.0</td>\n",
              "      <td>0.0</td>\n",
              "      <td>4.0</td>\n",
              "    </tr>\n",
              "    <tr>\n",
              "      <th>...</th>\n",
              "      <td>...</td>\n",
              "      <td>...</td>\n",
              "      <td>...</td>\n",
              "      <td>...</td>\n",
              "      <td>...</td>\n",
              "      <td>...</td>\n",
              "      <td>...</td>\n",
              "      <td>...</td>\n",
              "      <td>...</td>\n",
              "      <td>...</td>\n",
              "      <td>...</td>\n",
              "      <td>...</td>\n",
              "      <td>...</td>\n",
              "    </tr>\n",
              "    <tr>\n",
              "      <th>217769</th>\n",
              "      <td>NaN</td>\n",
              "      <td>NaN</td>\n",
              "      <td>NaN</td>\n",
              "      <td>NaN</td>\n",
              "      <td>NaT</td>\n",
              "      <td>NaT</td>\n",
              "      <td>NaN</td>\n",
              "      <td>NaN</td>\n",
              "      <td>NaN</td>\n",
              "      <td>NaN</td>\n",
              "      <td>NaN</td>\n",
              "      <td>NaN</td>\n",
              "      <td>NaN</td>\n",
              "    </tr>\n",
              "    <tr>\n",
              "      <th>217770</th>\n",
              "      <td>NaN</td>\n",
              "      <td>NaN</td>\n",
              "      <td>NaN</td>\n",
              "      <td>NaN</td>\n",
              "      <td>NaT</td>\n",
              "      <td>NaT</td>\n",
              "      <td>NaN</td>\n",
              "      <td>NaN</td>\n",
              "      <td>NaN</td>\n",
              "      <td>NaN</td>\n",
              "      <td>NaN</td>\n",
              "      <td>NaN</td>\n",
              "      <td>NaN</td>\n",
              "    </tr>\n",
              "    <tr>\n",
              "      <th>217771</th>\n",
              "      <td>NaN</td>\n",
              "      <td>NaN</td>\n",
              "      <td>NaN</td>\n",
              "      <td>NaN</td>\n",
              "      <td>NaT</td>\n",
              "      <td>NaT</td>\n",
              "      <td>NaN</td>\n",
              "      <td>NaN</td>\n",
              "      <td>NaN</td>\n",
              "      <td>NaN</td>\n",
              "      <td>NaN</td>\n",
              "      <td>NaN</td>\n",
              "      <td>NaN</td>\n",
              "    </tr>\n",
              "    <tr>\n",
              "      <th>217772</th>\n",
              "      <td>NaN</td>\n",
              "      <td>NaN</td>\n",
              "      <td>NaN</td>\n",
              "      <td>NaN</td>\n",
              "      <td>NaT</td>\n",
              "      <td>NaT</td>\n",
              "      <td>NaN</td>\n",
              "      <td>NaN</td>\n",
              "      <td>NaN</td>\n",
              "      <td>NaN</td>\n",
              "      <td>NaN</td>\n",
              "      <td>NaN</td>\n",
              "      <td>NaN</td>\n",
              "    </tr>\n",
              "    <tr>\n",
              "      <th>217773</th>\n",
              "      <td>NaN</td>\n",
              "      <td>NaN</td>\n",
              "      <td>NaN</td>\n",
              "      <td>NaN</td>\n",
              "      <td>NaT</td>\n",
              "      <td>NaT</td>\n",
              "      <td>NaN</td>\n",
              "      <td>NaN</td>\n",
              "      <td>NaN</td>\n",
              "      <td>NaN</td>\n",
              "      <td>NaN</td>\n",
              "      <td>NaN</td>\n",
              "      <td>NaN</td>\n",
              "    </tr>\n",
              "  </tbody>\n",
              "</table>\n",
              "<p>217774 rows × 13 columns</p>\n",
              "</div>"
            ],
            "text/plain": [
              "        company_id      name category_code     status founded_at closed_at  \\\n",
              "0              1.0  Wetpaint           web  operating 2005-10-17       NaT   \n",
              "1              1.0  Wetpaint           web  operating 2005-10-17       NaT   \n",
              "2              1.0  Wetpaint           web  operating 2005-10-17       NaT   \n",
              "3             10.0   Flektor   games_video   acquired        NaT       NaT   \n",
              "4            100.0     There   games_video   acquired        NaT       NaT   \n",
              "...            ...       ...           ...        ...        ...       ...   \n",
              "217769         NaN       NaN           NaN        NaN        NaT       NaT   \n",
              "217770         NaN       NaN           NaN        NaN        NaT       NaT   \n",
              "217771         NaN       NaN           NaN        NaN        NaT       NaT   \n",
              "217772         NaN       NaN           NaN        NaN        NaT       NaT   \n",
              "217773         NaN       NaN           NaN        NaN        NaT       NaT   \n",
              "\n",
              "                  domain network_username country_code  investment_rounds  \\\n",
              "0       wetpaint-inc.com  BachelrWetpaint          USA                0.0   \n",
              "1       wetpaint-inc.com  BachelrWetpaint          USA                0.0   \n",
              "2       wetpaint-inc.com  BachelrWetpaint          USA                0.0   \n",
              "3            flektor.com              NaN          USA                0.0   \n",
              "4              there.com              NaN          USA                0.0   \n",
              "...                  ...              ...          ...                ...   \n",
              "217769               NaN              NaN          NaN                NaN   \n",
              "217770               NaN              NaN          NaN                NaN   \n",
              "217771               NaN              NaN          NaN                NaN   \n",
              "217772               NaN              NaN          NaN                NaN   \n",
              "217773               NaN              NaN          NaN                NaN   \n",
              "\n",
              "        funding_rounds  funding_total  milestones  \n",
              "0                  3.0     39750000.0         5.0  \n",
              "1                  3.0     39750000.0         5.0  \n",
              "2                  3.0     39750000.0         5.0  \n",
              "3                  0.0            0.0         0.0  \n",
              "4                  0.0            0.0         4.0  \n",
              "...                ...            ...         ...  \n",
              "217769             NaN            NaN         NaN  \n",
              "217770             NaN            NaN         NaN  \n",
              "217771             NaN            NaN         NaN  \n",
              "217772             NaN            NaN         NaN  \n",
              "217773             NaN            NaN         NaN  \n",
              "\n",
              "[217774 rows x 13 columns]"
            ]
          },
          "metadata": {},
          "output_type": "display_data"
        },
        {
          "name": "stdout",
          "output_type": "stream",
          "text": "rounds_df_11:\n"
        },
        {
          "data": {
            "text/html": [
              "<div>\n",
              "<style scoped>\n",
              "    .dataframe tbody tr th:only-of-type {\n",
              "        vertical-align: middle;\n",
              "    }\n",
              "\n",
              "    .dataframe tbody tr th {\n",
              "        vertical-align: top;\n",
              "    }\n",
              "\n",
              "    .dataframe thead th {\n",
              "        text-align: right;\n",
              "    }\n",
              "</style>\n",
              "<table border=\"1\" class=\"dataframe\">\n",
              "  <thead>\n",
              "    <tr style=\"text-align: right;\">\n",
              "      <th></th>\n",
              "      <th>funding_round_id</th>\n",
              "      <th>company_id_2</th>\n",
              "      <th>funded_at</th>\n",
              "      <th>funding_round_type</th>\n",
              "      <th>raised_amount</th>\n",
              "      <th>pre_money_valuation</th>\n",
              "      <th>participants</th>\n",
              "      <th>is_first_round</th>\n",
              "      <th>is_last_round</th>\n",
              "      <th>funded_year</th>\n",
              "    </tr>\n",
              "  </thead>\n",
              "  <tbody>\n",
              "    <tr>\n",
              "      <th>0</th>\n",
              "      <td>888.0</td>\n",
              "      <td>1.0</td>\n",
              "      <td>2005-10-01</td>\n",
              "      <td>series-a</td>\n",
              "      <td>5250000.0</td>\n",
              "      <td>0.0</td>\n",
              "      <td>2.0</td>\n",
              "      <td>0.0</td>\n",
              "      <td>1.0</td>\n",
              "      <td>2005.0</td>\n",
              "    </tr>\n",
              "    <tr>\n",
              "      <th>1</th>\n",
              "      <td>889.0</td>\n",
              "      <td>1.0</td>\n",
              "      <td>2007-01-01</td>\n",
              "      <td>series-b</td>\n",
              "      <td>9500000.0</td>\n",
              "      <td>0.0</td>\n",
              "      <td>3.0</td>\n",
              "      <td>0.0</td>\n",
              "      <td>0.0</td>\n",
              "      <td>2007.0</td>\n",
              "    </tr>\n",
              "    <tr>\n",
              "      <th>2</th>\n",
              "      <td>2312.0</td>\n",
              "      <td>1.0</td>\n",
              "      <td>2008-05-19</td>\n",
              "      <td>series-c+</td>\n",
              "      <td>25000000.0</td>\n",
              "      <td>0.0</td>\n",
              "      <td>4.0</td>\n",
              "      <td>1.0</td>\n",
              "      <td>0.0</td>\n",
              "      <td>2008.0</td>\n",
              "    </tr>\n",
              "    <tr>\n",
              "      <th>3</th>\n",
              "      <td>NaN</td>\n",
              "      <td>NaN</td>\n",
              "      <td>NaT</td>\n",
              "      <td>NaN</td>\n",
              "      <td>NaN</td>\n",
              "      <td>NaN</td>\n",
              "      <td>NaN</td>\n",
              "      <td>NaN</td>\n",
              "      <td>NaN</td>\n",
              "      <td>NaN</td>\n",
              "    </tr>\n",
              "    <tr>\n",
              "      <th>4</th>\n",
              "      <td>NaN</td>\n",
              "      <td>NaN</td>\n",
              "      <td>NaT</td>\n",
              "      <td>NaN</td>\n",
              "      <td>NaN</td>\n",
              "      <td>NaN</td>\n",
              "      <td>NaN</td>\n",
              "      <td>NaN</td>\n",
              "      <td>NaN</td>\n",
              "      <td>NaN</td>\n",
              "    </tr>\n",
              "    <tr>\n",
              "      <th>...</th>\n",
              "      <td>...</td>\n",
              "      <td>...</td>\n",
              "      <td>...</td>\n",
              "      <td>...</td>\n",
              "      <td>...</td>\n",
              "      <td>...</td>\n",
              "      <td>...</td>\n",
              "      <td>...</td>\n",
              "      <td>...</td>\n",
              "      <td>...</td>\n",
              "    </tr>\n",
              "    <tr>\n",
              "      <th>217769</th>\n",
              "      <td>56454.0</td>\n",
              "      <td>282847.0</td>\n",
              "      <td>2011-01-31</td>\n",
              "      <td>other</td>\n",
              "      <td>5500000.0</td>\n",
              "      <td>0.0</td>\n",
              "      <td>0.0</td>\n",
              "      <td>1.0</td>\n",
              "      <td>1.0</td>\n",
              "      <td>2011.0</td>\n",
              "    </tr>\n",
              "    <tr>\n",
              "      <th>217770</th>\n",
              "      <td>56542.0</td>\n",
              "      <td>55477.0</td>\n",
              "      <td>2011-01-13</td>\n",
              "      <td>venture</td>\n",
              "      <td>10633300.0</td>\n",
              "      <td>0.0</td>\n",
              "      <td>0.0</td>\n",
              "      <td>0.0</td>\n",
              "      <td>1.0</td>\n",
              "      <td>2011.0</td>\n",
              "    </tr>\n",
              "    <tr>\n",
              "      <th>217771</th>\n",
              "      <td>56543.0</td>\n",
              "      <td>55477.0</td>\n",
              "      <td>2012-05-31</td>\n",
              "      <td>venture</td>\n",
              "      <td>2125720.0</td>\n",
              "      <td>0.0</td>\n",
              "      <td>0.0</td>\n",
              "      <td>1.0</td>\n",
              "      <td>0.0</td>\n",
              "      <td>2012.0</td>\n",
              "    </tr>\n",
              "    <tr>\n",
              "      <th>217772</th>\n",
              "      <td>56928.0</td>\n",
              "      <td>283492.0</td>\n",
              "      <td>2013-12-03</td>\n",
              "      <td>venture</td>\n",
              "      <td>3602480.0</td>\n",
              "      <td>0.0</td>\n",
              "      <td>5.0</td>\n",
              "      <td>1.0</td>\n",
              "      <td>1.0</td>\n",
              "      <td>2013.0</td>\n",
              "    </tr>\n",
              "    <tr>\n",
              "      <th>217773</th>\n",
              "      <td>57063.0</td>\n",
              "      <td>284191.0</td>\n",
              "      <td>2013-12-04</td>\n",
              "      <td>venture</td>\n",
              "      <td>7000000.0</td>\n",
              "      <td>0.0</td>\n",
              "      <td>4.0</td>\n",
              "      <td>1.0</td>\n",
              "      <td>1.0</td>\n",
              "      <td>2013.0</td>\n",
              "    </tr>\n",
              "  </tbody>\n",
              "</table>\n",
              "<p>217774 rows × 10 columns</p>\n",
              "</div>"
            ],
            "text/plain": [
              "        funding_round_id  company_id_2  funded_at funding_round_type  \\\n",
              "0                  888.0           1.0 2005-10-01           series-a   \n",
              "1                  889.0           1.0 2007-01-01           series-b   \n",
              "2                 2312.0           1.0 2008-05-19          series-c+   \n",
              "3                    NaN           NaN        NaT                NaN   \n",
              "4                    NaN           NaN        NaT                NaN   \n",
              "...                  ...           ...        ...                ...   \n",
              "217769           56454.0      282847.0 2011-01-31              other   \n",
              "217770           56542.0       55477.0 2011-01-13            venture   \n",
              "217771           56543.0       55477.0 2012-05-31            venture   \n",
              "217772           56928.0      283492.0 2013-12-03            venture   \n",
              "217773           57063.0      284191.0 2013-12-04            venture   \n",
              "\n",
              "        raised_amount  pre_money_valuation  participants  is_first_round  \\\n",
              "0           5250000.0                  0.0           2.0             0.0   \n",
              "1           9500000.0                  0.0           3.0             0.0   \n",
              "2          25000000.0                  0.0           4.0             1.0   \n",
              "3                 NaN                  NaN           NaN             NaN   \n",
              "4                 NaN                  NaN           NaN             NaN   \n",
              "...               ...                  ...           ...             ...   \n",
              "217769      5500000.0                  0.0           0.0             1.0   \n",
              "217770     10633300.0                  0.0           0.0             0.0   \n",
              "217771      2125720.0                  0.0           0.0             1.0   \n",
              "217772      3602480.0                  0.0           5.0             1.0   \n",
              "217773      7000000.0                  0.0           4.0             1.0   \n",
              "\n",
              "        is_last_round  funded_year  \n",
              "0                 1.0       2005.0  \n",
              "1                 0.0       2007.0  \n",
              "2                 0.0       2008.0  \n",
              "3                 NaN          NaN  \n",
              "4                 NaN          NaN  \n",
              "...               ...          ...  \n",
              "217769            1.0       2011.0  \n",
              "217770            1.0       2011.0  \n",
              "217771            0.0       2012.0  \n",
              "217772            1.0       2013.0  \n",
              "217773            1.0       2013.0  \n",
              "\n",
              "[217774 rows x 10 columns]"
            ]
          },
          "metadata": {},
          "output_type": "display_data"
        }
      ],
      "execution_count": 34
    },
    {
      "cell_type": "code",
      "source": "# Код ревьюера\ncompanies_df_11 = companies_df_11.drop_duplicates()  \nrounds_df_11 = rounds_df_11.drop_duplicates()\n\n# Проверка результатов\nprint(\"companies_df_11:\")\ndisplay(companies_df_11)\nprint(\"rounds_df_11:\")\ndisplay(rounds_df_11)",
      "metadata": {
        "scrolled": true
      },
      "outputs": [
        {
          "name": "stdout",
          "output_type": "stream",
          "text": "companies_df_11:\n"
        },
        {
          "data": {
            "text/html": [
              "<div>\n",
              "<style scoped>\n",
              "    .dataframe tbody tr th:only-of-type {\n",
              "        vertical-align: middle;\n",
              "    }\n",
              "\n",
              "    .dataframe tbody tr th {\n",
              "        vertical-align: top;\n",
              "    }\n",
              "\n",
              "    .dataframe thead th {\n",
              "        text-align: right;\n",
              "    }\n",
              "</style>\n",
              "<table border=\"1\" class=\"dataframe\">\n",
              "  <thead>\n",
              "    <tr style=\"text-align: right;\">\n",
              "      <th></th>\n",
              "      <th>company_id</th>\n",
              "      <th>name</th>\n",
              "      <th>category_code</th>\n",
              "      <th>status</th>\n",
              "      <th>founded_at</th>\n",
              "      <th>closed_at</th>\n",
              "      <th>domain</th>\n",
              "      <th>network_username</th>\n",
              "      <th>country_code</th>\n",
              "      <th>investment_rounds</th>\n",
              "      <th>funding_rounds</th>\n",
              "      <th>funding_total</th>\n",
              "      <th>milestones</th>\n",
              "    </tr>\n",
              "  </thead>\n",
              "  <tbody>\n",
              "    <tr>\n",
              "      <th>0</th>\n",
              "      <td>1.0</td>\n",
              "      <td>Wetpaint</td>\n",
              "      <td>web</td>\n",
              "      <td>operating</td>\n",
              "      <td>2005-10-17</td>\n",
              "      <td>NaT</td>\n",
              "      <td>wetpaint-inc.com</td>\n",
              "      <td>BachelrWetpaint</td>\n",
              "      <td>USA</td>\n",
              "      <td>0.0</td>\n",
              "      <td>3.0</td>\n",
              "      <td>39750000.0</td>\n",
              "      <td>5.0</td>\n",
              "    </tr>\n",
              "    <tr>\n",
              "      <th>3</th>\n",
              "      <td>10.0</td>\n",
              "      <td>Flektor</td>\n",
              "      <td>games_video</td>\n",
              "      <td>acquired</td>\n",
              "      <td>NaT</td>\n",
              "      <td>NaT</td>\n",
              "      <td>flektor.com</td>\n",
              "      <td>NaN</td>\n",
              "      <td>USA</td>\n",
              "      <td>0.0</td>\n",
              "      <td>0.0</td>\n",
              "      <td>0.0</td>\n",
              "      <td>0.0</td>\n",
              "    </tr>\n",
              "    <tr>\n",
              "      <th>4</th>\n",
              "      <td>100.0</td>\n",
              "      <td>There</td>\n",
              "      <td>games_video</td>\n",
              "      <td>acquired</td>\n",
              "      <td>NaT</td>\n",
              "      <td>NaT</td>\n",
              "      <td>there.com</td>\n",
              "      <td>NaN</td>\n",
              "      <td>USA</td>\n",
              "      <td>0.0</td>\n",
              "      <td>0.0</td>\n",
              "      <td>0.0</td>\n",
              "      <td>4.0</td>\n",
              "    </tr>\n",
              "    <tr>\n",
              "      <th>5</th>\n",
              "      <td>10000.0</td>\n",
              "      <td>MYWEBBO</td>\n",
              "      <td>network_hosting</td>\n",
              "      <td>operating</td>\n",
              "      <td>2008-07-26</td>\n",
              "      <td>NaT</td>\n",
              "      <td>mywebbo.com</td>\n",
              "      <td>NaN</td>\n",
              "      <td>NaN</td>\n",
              "      <td>0.0</td>\n",
              "      <td>0.0</td>\n",
              "      <td>0.0</td>\n",
              "      <td>0.0</td>\n",
              "    </tr>\n",
              "    <tr>\n",
              "      <th>6</th>\n",
              "      <td>10001.0</td>\n",
              "      <td>THE Movie Streamer</td>\n",
              "      <td>games_video</td>\n",
              "      <td>operating</td>\n",
              "      <td>2008-07-26</td>\n",
              "      <td>NaT</td>\n",
              "      <td>themoviestreamer.com</td>\n",
              "      <td>NaN</td>\n",
              "      <td>NaN</td>\n",
              "      <td>0.0</td>\n",
              "      <td>0.0</td>\n",
              "      <td>0.0</td>\n",
              "      <td>0.0</td>\n",
              "    </tr>\n",
              "    <tr>\n",
              "      <th>...</th>\n",
              "      <td>...</td>\n",
              "      <td>...</td>\n",
              "      <td>...</td>\n",
              "      <td>...</td>\n",
              "      <td>...</td>\n",
              "      <td>...</td>\n",
              "      <td>...</td>\n",
              "      <td>...</td>\n",
              "      <td>...</td>\n",
              "      <td>...</td>\n",
              "      <td>...</td>\n",
              "      <td>...</td>\n",
              "      <td>...</td>\n",
              "    </tr>\n",
              "    <tr>\n",
              "      <th>217463</th>\n",
              "      <td>3429.0</td>\n",
              "      <td>Zend Technologies</td>\n",
              "      <td>software</td>\n",
              "      <td>operating</td>\n",
              "      <td>1999-01-01</td>\n",
              "      <td>NaT</td>\n",
              "      <td>zend.com</td>\n",
              "      <td>networkzend</td>\n",
              "      <td>USA</td>\n",
              "      <td>0.0</td>\n",
              "      <td>4.0</td>\n",
              "      <td>44000000.0</td>\n",
              "      <td>6.0</td>\n",
              "    </tr>\n",
              "    <tr>\n",
              "      <th>217467</th>\n",
              "      <td>7748.0</td>\n",
              "      <td>Flowgram</td>\n",
              "      <td>web</td>\n",
              "      <td>closed</td>\n",
              "      <td>2007-06-01</td>\n",
              "      <td>2008-06-11</td>\n",
              "      <td>flowgram.com</td>\n",
              "      <td>network</td>\n",
              "      <td>USA</td>\n",
              "      <td>0.0</td>\n",
              "      <td>1.0</td>\n",
              "      <td>1300000.0</td>\n",
              "      <td>3.0</td>\n",
              "    </tr>\n",
              "    <tr>\n",
              "      <th>217468</th>\n",
              "      <td>174536.0</td>\n",
              "      <td>Pphotonet</td>\n",
              "      <td>games_video</td>\n",
              "      <td>operating</td>\n",
              "      <td>2012-05-01</td>\n",
              "      <td>NaT</td>\n",
              "      <td>pPhotonet.co</td>\n",
              "      <td>pPhotonet</td>\n",
              "      <td>NaN</td>\n",
              "      <td>0.0</td>\n",
              "      <td>0.0</td>\n",
              "      <td>0.0</td>\n",
              "      <td>0.0</td>\n",
              "    </tr>\n",
              "    <tr>\n",
              "      <th>217469</th>\n",
              "      <td>43233.0</td>\n",
              "      <td>Photonet</td>\n",
              "      <td>photo_video</td>\n",
              "      <td>acquired</td>\n",
              "      <td>2010-03-01</td>\n",
              "      <td>NaT</td>\n",
              "      <td>Photonet.com</td>\n",
              "      <td>Photonet</td>\n",
              "      <td>USA</td>\n",
              "      <td>0.0</td>\n",
              "      <td>3.0</td>\n",
              "      <td>57500000.0</td>\n",
              "      <td>3.0</td>\n",
              "    </tr>\n",
              "    <tr>\n",
              "      <th>217472</th>\n",
              "      <td>NaN</td>\n",
              "      <td>NaN</td>\n",
              "      <td>NaN</td>\n",
              "      <td>NaN</td>\n",
              "      <td>NaT</td>\n",
              "      <td>NaT</td>\n",
              "      <td>NaN</td>\n",
              "      <td>NaN</td>\n",
              "      <td>NaN</td>\n",
              "      <td>NaN</td>\n",
              "      <td>NaN</td>\n",
              "      <td>NaN</td>\n",
              "      <td>NaN</td>\n",
              "    </tr>\n",
              "  </tbody>\n",
              "</table>\n",
              "<p>196554 rows × 13 columns</p>\n",
              "</div>"
            ],
            "text/plain": [
              "        company_id                name    category_code     status founded_at  \\\n",
              "0              1.0            Wetpaint              web  operating 2005-10-17   \n",
              "3             10.0             Flektor      games_video   acquired        NaT   \n",
              "4            100.0               There      games_video   acquired        NaT   \n",
              "5          10000.0             MYWEBBO  network_hosting  operating 2008-07-26   \n",
              "6          10001.0  THE Movie Streamer      games_video  operating 2008-07-26   \n",
              "...            ...                 ...              ...        ...        ...   \n",
              "217463      3429.0   Zend Technologies         software  operating 1999-01-01   \n",
              "217467      7748.0            Flowgram              web     closed 2007-06-01   \n",
              "217468    174536.0           Pphotonet      games_video  operating 2012-05-01   \n",
              "217469     43233.0            Photonet      photo_video   acquired 2010-03-01   \n",
              "217472         NaN                 NaN              NaN        NaN        NaT   \n",
              "\n",
              "        closed_at                domain network_username country_code  \\\n",
              "0             NaT      wetpaint-inc.com  BachelrWetpaint          USA   \n",
              "3             NaT           flektor.com              NaN          USA   \n",
              "4             NaT             there.com              NaN          USA   \n",
              "5             NaT           mywebbo.com              NaN          NaN   \n",
              "6             NaT  themoviestreamer.com              NaN          NaN   \n",
              "...           ...                   ...              ...          ...   \n",
              "217463        NaT              zend.com      networkzend          USA   \n",
              "217467 2008-06-11          flowgram.com          network          USA   \n",
              "217468        NaT          pPhotonet.co        pPhotonet          NaN   \n",
              "217469        NaT          Photonet.com         Photonet          USA   \n",
              "217472        NaT                   NaN              NaN          NaN   \n",
              "\n",
              "        investment_rounds  funding_rounds  funding_total  milestones  \n",
              "0                     0.0             3.0     39750000.0         5.0  \n",
              "3                     0.0             0.0            0.0         0.0  \n",
              "4                     0.0             0.0            0.0         4.0  \n",
              "5                     0.0             0.0            0.0         0.0  \n",
              "6                     0.0             0.0            0.0         0.0  \n",
              "...                   ...             ...            ...         ...  \n",
              "217463                0.0             4.0     44000000.0         6.0  \n",
              "217467                0.0             1.0      1300000.0         3.0  \n",
              "217468                0.0             0.0            0.0         0.0  \n",
              "217469                0.0             3.0     57500000.0         3.0  \n",
              "217472                NaN             NaN            NaN         NaN  \n",
              "\n",
              "[196554 rows x 13 columns]"
            ]
          },
          "metadata": {},
          "output_type": "display_data"
        },
        {
          "name": "stdout",
          "output_type": "stream",
          "text": "rounds_df_11:\n"
        },
        {
          "data": {
            "text/html": [
              "<div>\n",
              "<style scoped>\n",
              "    .dataframe tbody tr th:only-of-type {\n",
              "        vertical-align: middle;\n",
              "    }\n",
              "\n",
              "    .dataframe tbody tr th {\n",
              "        vertical-align: top;\n",
              "    }\n",
              "\n",
              "    .dataframe thead th {\n",
              "        text-align: right;\n",
              "    }\n",
              "</style>\n",
              "<table border=\"1\" class=\"dataframe\">\n",
              "  <thead>\n",
              "    <tr style=\"text-align: right;\">\n",
              "      <th></th>\n",
              "      <th>funding_round_id</th>\n",
              "      <th>company_id_2</th>\n",
              "      <th>funded_at</th>\n",
              "      <th>funding_round_type</th>\n",
              "      <th>raised_amount</th>\n",
              "      <th>pre_money_valuation</th>\n",
              "      <th>participants</th>\n",
              "      <th>is_first_round</th>\n",
              "      <th>is_last_round</th>\n",
              "      <th>funded_year</th>\n",
              "    </tr>\n",
              "  </thead>\n",
              "  <tbody>\n",
              "    <tr>\n",
              "      <th>0</th>\n",
              "      <td>888.0</td>\n",
              "      <td>1.0</td>\n",
              "      <td>2005-10-01</td>\n",
              "      <td>series-a</td>\n",
              "      <td>5250000.0</td>\n",
              "      <td>0.0</td>\n",
              "      <td>2.0</td>\n",
              "      <td>0.0</td>\n",
              "      <td>1.0</td>\n",
              "      <td>2005.0</td>\n",
              "    </tr>\n",
              "    <tr>\n",
              "      <th>1</th>\n",
              "      <td>889.0</td>\n",
              "      <td>1.0</td>\n",
              "      <td>2007-01-01</td>\n",
              "      <td>series-b</td>\n",
              "      <td>9500000.0</td>\n",
              "      <td>0.0</td>\n",
              "      <td>3.0</td>\n",
              "      <td>0.0</td>\n",
              "      <td>0.0</td>\n",
              "      <td>2007.0</td>\n",
              "    </tr>\n",
              "    <tr>\n",
              "      <th>2</th>\n",
              "      <td>2312.0</td>\n",
              "      <td>1.0</td>\n",
              "      <td>2008-05-19</td>\n",
              "      <td>series-c+</td>\n",
              "      <td>25000000.0</td>\n",
              "      <td>0.0</td>\n",
              "      <td>4.0</td>\n",
              "      <td>1.0</td>\n",
              "      <td>0.0</td>\n",
              "      <td>2008.0</td>\n",
              "    </tr>\n",
              "    <tr>\n",
              "      <th>3</th>\n",
              "      <td>NaN</td>\n",
              "      <td>NaN</td>\n",
              "      <td>NaT</td>\n",
              "      <td>NaN</td>\n",
              "      <td>NaN</td>\n",
              "      <td>NaN</td>\n",
              "      <td>NaN</td>\n",
              "      <td>NaN</td>\n",
              "      <td>NaN</td>\n",
              "      <td>NaN</td>\n",
              "    </tr>\n",
              "    <tr>\n",
              "      <th>15</th>\n",
              "      <td>1644.0</td>\n",
              "      <td>1001.0</td>\n",
              "      <td>2008-02-26</td>\n",
              "      <td>series-a</td>\n",
              "      <td>5000000.0</td>\n",
              "      <td>0.0</td>\n",
              "      <td>3.0</td>\n",
              "      <td>1.0</td>\n",
              "      <td>1.0</td>\n",
              "      <td>2008.0</td>\n",
              "    </tr>\n",
              "    <tr>\n",
              "      <th>...</th>\n",
              "      <td>...</td>\n",
              "      <td>...</td>\n",
              "      <td>...</td>\n",
              "      <td>...</td>\n",
              "      <td>...</td>\n",
              "      <td>...</td>\n",
              "      <td>...</td>\n",
              "      <td>...</td>\n",
              "      <td>...</td>\n",
              "      <td>...</td>\n",
              "    </tr>\n",
              "    <tr>\n",
              "      <th>217769</th>\n",
              "      <td>56454.0</td>\n",
              "      <td>282847.0</td>\n",
              "      <td>2011-01-31</td>\n",
              "      <td>other</td>\n",
              "      <td>5500000.0</td>\n",
              "      <td>0.0</td>\n",
              "      <td>0.0</td>\n",
              "      <td>1.0</td>\n",
              "      <td>1.0</td>\n",
              "      <td>2011.0</td>\n",
              "    </tr>\n",
              "    <tr>\n",
              "      <th>217770</th>\n",
              "      <td>56542.0</td>\n",
              "      <td>55477.0</td>\n",
              "      <td>2011-01-13</td>\n",
              "      <td>venture</td>\n",
              "      <td>10633300.0</td>\n",
              "      <td>0.0</td>\n",
              "      <td>0.0</td>\n",
              "      <td>0.0</td>\n",
              "      <td>1.0</td>\n",
              "      <td>2011.0</td>\n",
              "    </tr>\n",
              "    <tr>\n",
              "      <th>217771</th>\n",
              "      <td>56543.0</td>\n",
              "      <td>55477.0</td>\n",
              "      <td>2012-05-31</td>\n",
              "      <td>venture</td>\n",
              "      <td>2125720.0</td>\n",
              "      <td>0.0</td>\n",
              "      <td>0.0</td>\n",
              "      <td>1.0</td>\n",
              "      <td>0.0</td>\n",
              "      <td>2012.0</td>\n",
              "    </tr>\n",
              "    <tr>\n",
              "      <th>217772</th>\n",
              "      <td>56928.0</td>\n",
              "      <td>283492.0</td>\n",
              "      <td>2013-12-03</td>\n",
              "      <td>venture</td>\n",
              "      <td>3602480.0</td>\n",
              "      <td>0.0</td>\n",
              "      <td>5.0</td>\n",
              "      <td>1.0</td>\n",
              "      <td>1.0</td>\n",
              "      <td>2013.0</td>\n",
              "    </tr>\n",
              "    <tr>\n",
              "      <th>217773</th>\n",
              "      <td>57063.0</td>\n",
              "      <td>284191.0</td>\n",
              "      <td>2013-12-04</td>\n",
              "      <td>venture</td>\n",
              "      <td>7000000.0</td>\n",
              "      <td>0.0</td>\n",
              "      <td>4.0</td>\n",
              "      <td>1.0</td>\n",
              "      <td>1.0</td>\n",
              "      <td>2013.0</td>\n",
              "    </tr>\n",
              "  </tbody>\n",
              "</table>\n",
              "<p>52929 rows × 10 columns</p>\n",
              "</div>"
            ],
            "text/plain": [
              "        funding_round_id  company_id_2  funded_at funding_round_type  \\\n",
              "0                  888.0           1.0 2005-10-01           series-a   \n",
              "1                  889.0           1.0 2007-01-01           series-b   \n",
              "2                 2312.0           1.0 2008-05-19          series-c+   \n",
              "3                    NaN           NaN        NaT                NaN   \n",
              "15                1644.0        1001.0 2008-02-26           series-a   \n",
              "...                  ...           ...        ...                ...   \n",
              "217769           56454.0      282847.0 2011-01-31              other   \n",
              "217770           56542.0       55477.0 2011-01-13            venture   \n",
              "217771           56543.0       55477.0 2012-05-31            venture   \n",
              "217772           56928.0      283492.0 2013-12-03            venture   \n",
              "217773           57063.0      284191.0 2013-12-04            venture   \n",
              "\n",
              "        raised_amount  pre_money_valuation  participants  is_first_round  \\\n",
              "0           5250000.0                  0.0           2.0             0.0   \n",
              "1           9500000.0                  0.0           3.0             0.0   \n",
              "2          25000000.0                  0.0           4.0             1.0   \n",
              "3                 NaN                  NaN           NaN             NaN   \n",
              "15          5000000.0                  0.0           3.0             1.0   \n",
              "...               ...                  ...           ...             ...   \n",
              "217769      5500000.0                  0.0           0.0             1.0   \n",
              "217770     10633300.0                  0.0           0.0             0.0   \n",
              "217771      2125720.0                  0.0           0.0             1.0   \n",
              "217772      3602480.0                  0.0           5.0             1.0   \n",
              "217773      7000000.0                  0.0           4.0             1.0   \n",
              "\n",
              "        is_last_round  funded_year  \n",
              "0                 1.0       2005.0  \n",
              "1                 0.0       2007.0  \n",
              "2                 0.0       2008.0  \n",
              "3                 NaN          NaN  \n",
              "15                1.0       2008.0  \n",
              "...               ...          ...  \n",
              "217769            1.0       2011.0  \n",
              "217770            1.0       2011.0  \n",
              "217771            0.0       2012.0  \n",
              "217772            1.0       2013.0  \n",
              "217773            1.0       2013.0  \n",
              "\n",
              "[52929 rows x 10 columns]"
            ]
          },
          "metadata": {},
          "output_type": "display_data"
        }
      ],
      "execution_count": 35
    },
    {
      "cell_type": "markdown",
      "source": "\n## Шаг 3. Исследовательский анализ объединённых таблиц\n\n> Приступите к шагу 3 после проверки ревьюера.\n\n<big>Студентам нужно чётко сказать - проверять дальше или не проверять.</big>",
      "metadata": {
        "id": "bmVYhphNrJg2"
      }
    },
    {
      "cell_type": "markdown",
      "source": "\n### 3.1. Объединение данных\n\nОбъедините данные для ответа на вопросы заказчика, которые касаются интересующих его компаний. Заказчика прежде всего интересуют те компании, которые меняли или готовы менять владельцев. Получение инвестиций или финансирования, по мнению заказчика, означает интерес к покупке или продаже компании.\n\nВ качестве основы для объединённой таблицы возьмите данные из обработанного датасета `company_and_rounds.csv` — выберите только те компании, у которых указаны значения `funding_rounds` или `investment_rounds` больше нуля, или те, у которых в колонке `status` указано `acquired`. В результирующей таблице должно получиться порядка 40 тысяч компаний.\n\nПроверьте полноту и корректность получившейся таблицы. Далее работайте только с этими данными.",
      "metadata": {
        "id": "3Di6tCT3rJg2"
      }
    },
    {
      "cell_type": "code",
      "source": "# Фильтрация по условиям:\nfiltered_df = companies_df_11[\n    (companies_df_11['funding_rounds'] > 0) |\n    (companies_df_11['investment_rounds'] > 0) |\n    (companies_df_11['status'] == 'acquired')\n]\n",
      "metadata": {
        "id": "kuV1b5MXFg3_"
      },
      "outputs": [],
      "execution_count": 36
    },
    {
      "cell_type": "code",
      "source": "# Проверка количества компаний\nprint(f\"Количество отобранных компаний: {len(filtered_df):,}\")",
      "metadata": {
        "id": "93v3fEX5FgtP"
      },
      "outputs": [
        {
          "name": "stdout",
          "output_type": "stream",
          "text": "Количество отобранных компаний: 40,747\n"
        }
      ],
      "execution_count": 37
    },
    {
      "cell_type": "code",
      "source": "# Проверка на пропущенные значения в ключевых столбцах\nkey_columns = ['company_id', 'name', 'funding_rounds', 'investment_rounds', 'status']\nprint(\"Пропущенные значения:\\n\", filtered_df[key_columns].isnull().sum())",
      "metadata": {},
      "outputs": [
        {
          "name": "stdout",
          "output_type": "stream",
          "text": "Пропущенные значения:\n, company_id           0\n,name                 0\n,funding_rounds       0\n,investment_rounds    0\n,status               0\n,dtype: int64\n"
        }
      ],
      "execution_count": 38
    },
    {
      "cell_type": "code",
      "source": "# Проверка на дубликаты по ID компании\nprint(\"Дубликаты company_id:\", filtered_df['company_id'].duplicated().sum())",
      "metadata": {},
      "outputs": [
        {
          "name": "stdout",
          "output_type": "stream",
          "text": "Дубликаты company_id: 0\n"
        }
      ],
      "execution_count": 39
    },
    {
      "cell_type": "code",
      "source": "# Выводим получившуюся таблцу\ndisplay(filtered_df)",
      "metadata": {},
      "outputs": [
        {
          "data": {
            "text/html": [
              "<div>\n",
              "<style scoped>\n",
              "    .dataframe tbody tr th:only-of-type {\n",
              "        vertical-align: middle;\n",
              "    }\n",
              "\n",
              "    .dataframe tbody tr th {\n",
              "        vertical-align: top;\n",
              "    }\n",
              "\n",
              "    .dataframe thead th {\n",
              "        text-align: right;\n",
              "    }\n",
              "</style>\n",
              "<table border=\"1\" class=\"dataframe\">\n",
              "  <thead>\n",
              "    <tr style=\"text-align: right;\">\n",
              "      <th></th>\n",
              "      <th>company_id</th>\n",
              "      <th>name</th>\n",
              "      <th>category_code</th>\n",
              "      <th>status</th>\n",
              "      <th>founded_at</th>\n",
              "      <th>closed_at</th>\n",
              "      <th>domain</th>\n",
              "      <th>network_username</th>\n",
              "      <th>country_code</th>\n",
              "      <th>investment_rounds</th>\n",
              "      <th>funding_rounds</th>\n",
              "      <th>funding_total</th>\n",
              "      <th>milestones</th>\n",
              "    </tr>\n",
              "  </thead>\n",
              "  <tbody>\n",
              "    <tr>\n",
              "      <th>0</th>\n",
              "      <td>1.0</td>\n",
              "      <td>Wetpaint</td>\n",
              "      <td>web</td>\n",
              "      <td>operating</td>\n",
              "      <td>2005-10-17</td>\n",
              "      <td>NaT</td>\n",
              "      <td>wetpaint-inc.com</td>\n",
              "      <td>BachelrWetpaint</td>\n",
              "      <td>USA</td>\n",
              "      <td>0.0</td>\n",
              "      <td>3.0</td>\n",
              "      <td>39750000.0</td>\n",
              "      <td>5.0</td>\n",
              "    </tr>\n",
              "    <tr>\n",
              "      <th>3</th>\n",
              "      <td>10.0</td>\n",
              "      <td>Flektor</td>\n",
              "      <td>games_video</td>\n",
              "      <td>acquired</td>\n",
              "      <td>NaT</td>\n",
              "      <td>NaT</td>\n",
              "      <td>flektor.com</td>\n",
              "      <td>NaN</td>\n",
              "      <td>USA</td>\n",
              "      <td>0.0</td>\n",
              "      <td>0.0</td>\n",
              "      <td>0.0</td>\n",
              "      <td>0.0</td>\n",
              "    </tr>\n",
              "    <tr>\n",
              "      <th>4</th>\n",
              "      <td>100.0</td>\n",
              "      <td>There</td>\n",
              "      <td>games_video</td>\n",
              "      <td>acquired</td>\n",
              "      <td>NaT</td>\n",
              "      <td>NaT</td>\n",
              "      <td>there.com</td>\n",
              "      <td>NaN</td>\n",
              "      <td>USA</td>\n",
              "      <td>0.0</td>\n",
              "      <td>0.0</td>\n",
              "      <td>0.0</td>\n",
              "      <td>4.0</td>\n",
              "    </tr>\n",
              "    <tr>\n",
              "      <th>15</th>\n",
              "      <td>1001.0</td>\n",
              "      <td>FriendFeed</td>\n",
              "      <td>web</td>\n",
              "      <td>acquired</td>\n",
              "      <td>2007-10-01</td>\n",
              "      <td>NaT</td>\n",
              "      <td>friendfeed.com</td>\n",
              "      <td>friendfeed</td>\n",
              "      <td>USA</td>\n",
              "      <td>0.0</td>\n",
              "      <td>1.0</td>\n",
              "      <td>5000000.0</td>\n",
              "      <td>3.0</td>\n",
              "    </tr>\n",
              "    <tr>\n",
              "      <th>20</th>\n",
              "      <td>10014.0</td>\n",
              "      <td>Mobclix</td>\n",
              "      <td>mobile</td>\n",
              "      <td>acquired</td>\n",
              "      <td>2008-03-01</td>\n",
              "      <td>NaT</td>\n",
              "      <td>mobclix.com</td>\n",
              "      <td>mobclix</td>\n",
              "      <td>USA</td>\n",
              "      <td>0.0</td>\n",
              "      <td>1.0</td>\n",
              "      <td>0.0</td>\n",
              "      <td>4.0</td>\n",
              "    </tr>\n",
              "    <tr>\n",
              "      <th>...</th>\n",
              "      <td>...</td>\n",
              "      <td>...</td>\n",
              "      <td>...</td>\n",
              "      <td>...</td>\n",
              "      <td>...</td>\n",
              "      <td>...</td>\n",
              "      <td>...</td>\n",
              "      <td>...</td>\n",
              "      <td>...</td>\n",
              "      <td>...</td>\n",
              "      <td>...</td>\n",
              "      <td>...</td>\n",
              "      <td>...</td>\n",
              "    </tr>\n",
              "    <tr>\n",
              "      <th>217458</th>\n",
              "      <td>1344.0</td>\n",
              "      <td>Vobile</td>\n",
              "      <td>web</td>\n",
              "      <td>operating</td>\n",
              "      <td>2005-01-01</td>\n",
              "      <td>NaT</td>\n",
              "      <td>vobileinc.com</td>\n",
              "      <td>networkmobile</td>\n",
              "      <td>USA</td>\n",
              "      <td>0.0</td>\n",
              "      <td>1.0</td>\n",
              "      <td>10000000.0</td>\n",
              "      <td>0.0</td>\n",
              "    </tr>\n",
              "    <tr>\n",
              "      <th>217459</th>\n",
              "      <td>142181.0</td>\n",
              "      <td>Stop Being Watched</td>\n",
              "      <td>software</td>\n",
              "      <td>operating</td>\n",
              "      <td>2010-06-10</td>\n",
              "      <td>NaT</td>\n",
              "      <td>stopbeingwatched.com</td>\n",
              "      <td>SBWinfonetwork</td>\n",
              "      <td>USA</td>\n",
              "      <td>0.0</td>\n",
              "      <td>1.0</td>\n",
              "      <td>500000.0</td>\n",
              "      <td>1.0</td>\n",
              "    </tr>\n",
              "    <tr>\n",
              "      <th>217463</th>\n",
              "      <td>3429.0</td>\n",
              "      <td>Zend Technologies</td>\n",
              "      <td>software</td>\n",
              "      <td>operating</td>\n",
              "      <td>1999-01-01</td>\n",
              "      <td>NaT</td>\n",
              "      <td>zend.com</td>\n",
              "      <td>networkzend</td>\n",
              "      <td>USA</td>\n",
              "      <td>0.0</td>\n",
              "      <td>4.0</td>\n",
              "      <td>44000000.0</td>\n",
              "      <td>6.0</td>\n",
              "    </tr>\n",
              "    <tr>\n",
              "      <th>217467</th>\n",
              "      <td>7748.0</td>\n",
              "      <td>Flowgram</td>\n",
              "      <td>web</td>\n",
              "      <td>closed</td>\n",
              "      <td>2007-06-01</td>\n",
              "      <td>2008-06-11</td>\n",
              "      <td>flowgram.com</td>\n",
              "      <td>network</td>\n",
              "      <td>USA</td>\n",
              "      <td>0.0</td>\n",
              "      <td>1.0</td>\n",
              "      <td>1300000.0</td>\n",
              "      <td>3.0</td>\n",
              "    </tr>\n",
              "    <tr>\n",
              "      <th>217469</th>\n",
              "      <td>43233.0</td>\n",
              "      <td>Photonet</td>\n",
              "      <td>photo_video</td>\n",
              "      <td>acquired</td>\n",
              "      <td>2010-03-01</td>\n",
              "      <td>NaT</td>\n",
              "      <td>Photonet.com</td>\n",
              "      <td>Photonet</td>\n",
              "      <td>USA</td>\n",
              "      <td>0.0</td>\n",
              "      <td>3.0</td>\n",
              "      <td>57500000.0</td>\n",
              "      <td>3.0</td>\n",
              "    </tr>\n",
              "  </tbody>\n",
              "</table>\n",
              "<p>40747 rows × 13 columns</p>\n",
              "</div>"
            ],
            "text/plain": [
              "        company_id                name category_code     status founded_at  \\\n",
              "0              1.0            Wetpaint           web  operating 2005-10-17   \n",
              "3             10.0             Flektor   games_video   acquired        NaT   \n",
              "4            100.0               There   games_video   acquired        NaT   \n",
              "15          1001.0          FriendFeed           web   acquired 2007-10-01   \n",
              "20         10014.0             Mobclix        mobile   acquired 2008-03-01   \n",
              "...            ...                 ...           ...        ...        ...   \n",
              "217458      1344.0              Vobile           web  operating 2005-01-01   \n",
              "217459    142181.0  Stop Being Watched      software  operating 2010-06-10   \n",
              "217463      3429.0   Zend Technologies      software  operating 1999-01-01   \n",
              "217467      7748.0            Flowgram           web     closed 2007-06-01   \n",
              "217469     43233.0            Photonet   photo_video   acquired 2010-03-01   \n",
              "\n",
              "        closed_at                domain network_username country_code  \\\n",
              "0             NaT      wetpaint-inc.com  BachelrWetpaint          USA   \n",
              "3             NaT           flektor.com              NaN          USA   \n",
              "4             NaT             there.com              NaN          USA   \n",
              "15            NaT        friendfeed.com       friendfeed          USA   \n",
              "20            NaT           mobclix.com          mobclix          USA   \n",
              "...           ...                   ...              ...          ...   \n",
              "217458        NaT         vobileinc.com    networkmobile          USA   \n",
              "217459        NaT  stopbeingwatched.com   SBWinfonetwork          USA   \n",
              "217463        NaT              zend.com      networkzend          USA   \n",
              "217467 2008-06-11          flowgram.com          network          USA   \n",
              "217469        NaT          Photonet.com         Photonet          USA   \n",
              "\n",
              "        investment_rounds  funding_rounds  funding_total  milestones  \n",
              "0                     0.0             3.0     39750000.0         5.0  \n",
              "3                     0.0             0.0            0.0         0.0  \n",
              "4                     0.0             0.0            0.0         4.0  \n",
              "15                    0.0             1.0      5000000.0         3.0  \n",
              "20                    0.0             1.0            0.0         4.0  \n",
              "...                   ...             ...            ...         ...  \n",
              "217458                0.0             1.0     10000000.0         0.0  \n",
              "217459                0.0             1.0       500000.0         1.0  \n",
              "217463                0.0             4.0     44000000.0         6.0  \n",
              "217467                0.0             1.0      1300000.0         3.0  \n",
              "217469                0.0             3.0     57500000.0         3.0  \n",
              "\n",
              "[40747 rows x 13 columns]"
            ]
          },
          "metadata": {},
          "output_type": "display_data"
        }
      ],
      "execution_count": 40
    },
    {
      "cell_type": "markdown",
      "source": "На данном этапе мы сформировали объединённую таблицу filtered_df, содержащую 40 747 компаний, отвечающих заданным условиям: наличие хотя бы одного раунда финансирования или инвестиций, либо статус «acquired». Проведена проверка на полноту данных — пропущенных значений в ключевых столбцах не обнаружено. Также убедились в отсутствии дубликатов по идентификатору компании (company_id).",
      "metadata": {}
    },
    {
      "cell_type": "markdown",
      "source": "\n### 3.2. Анализ выбросов\n\nЗаказчика интересует обычный для рассматриваемого периода размер средств, который предоставлялся компаниям.\n\n- По предобработанному столбцу `funding_total` графическим способом оцените, какой размер общего финансирования для одной компании будет типичным, а какой — выбивающимся.\n- В процессе расчёта значений обратите внимание, например, на показатели, возвращаемые методом `.describe()`, — объясните их. Применимы ли к таким данным обычные способы нахождения типичных значений?",
      "metadata": {
        "id": "DFHINkV3rJg2"
      }
    },
    {
      "cell_type": "code",
      "source": "filtered_df2 = filtered_df[(filtered_df['funding_total'] > 0) &\n                                            (filtered_df['funding_total'] < filtered_df['funding_total'].quantile(0.9))]\n\n",
      "metadata": {},
      "outputs": [],
      "execution_count": 41
    },
    {
      "cell_type": "code",
      "source": "# После фильтрации\nstats = filtered_df2['funding_total'].describe()\n\n# Выводим все показатели\nprint(\"Описание столбца 'funding_total':\")\nprint(f\"Количество (count): {stats['count']}\")\nprint(f\"Среднее (mean): {stats['mean']}\")\nprint(f\"Стандартное отклонение (std): {stats['std']}\")\nprint(f\"Минимум (min): {stats['min']}\")\nprint(f\"Первый квартиль (25%): {stats['25%']}\")\nprint(f\"Медиана (50%): {stats['50%']}\")\nprint(f\"Третий квартиль (75%): {stats['75%']}\")\nprint(f\"Максимум (max): {stats['max']}\")",
      "metadata": {},
      "outputs": [
        {
          "name": "stdout",
          "output_type": "stream",
          "text": "Описание столбца 'funding_total':\n,Количество (count): 23799.0\n,Среднее (mean): 4077093.3765284256\n,Стандартное отклонение (std): 5215893.240462616\n,Минимум (min): 291.0\n,Первый квартиль (25%): 400000.0\n,Медиана (50%): 1650000.0\n,Третий квартиль (75%): 5964145.0\n,Максимум (max): 22390900.0\n"
        }
      ],
      "execution_count": 42
    },
    {
      "cell_type": "markdown",
      "source": "После фильтрации данных по условию (например, исключение нулевых и очень больших значений), в выборке осталось около 23 799 компаний. Среднее финансирование составляет примерно 4,08 миллиона долларов, при этом стандартное отклонение превышает 5,2 миллиона долларов, что указывает на высокую вариативность данных.\n\nМинимальное значение — около 291 доллар, а максимальное — примерно 22,39 миллиона долларов. Распределение финансирования сильно скошено вправо: медиана равна примерно 1,65 миллиона долларов, а треть квартиля — около 6 миллионов долларов. Это говорит о том, что большинство компаний привлекают сумму в диапазоне от нескольких сотен тысяч до нескольких миллионов долларов, а есть несколько крупных инвестиций, значительно повышающих среднее значение.",
      "metadata": {}
    },
    {
      "cell_type": "code",
      "source": "# Построение ящика с усами по исходным данным\nplt.figure(figsize=(12,6))\nsns.boxplot(data = filtered_df2, x = 'funding_total')\nplt.title('Распределение общего финансирования')\nplt.ticklabel_format(axis='x', style='plain')\nplt.ylabel('Общее финансирование')\nplt.grid(True)\nplt.show()",
      "metadata": {
        "id": "S1jrfr7rFhcw"
      },
      "outputs": [
        {
          "data": {
            "image/png": "[encoded data removed]",
            "text/plain": [
              "<Figure size 864x432 with 1 Axes>"
            ]
          },
          "metadata": {
            "needs_background": "light"
          },
          "output_type": "display_data"
        }
      ],
      "execution_count": 43
    },
    {
      "cell_type": "markdown",
      "source": "Большая часть данных сосредоточена внутри межквартильного диапазона.\nНекоторые значения значительно превышают верхнюю границу (выбросы справа), и эти экстремальные точки расположены за пределами верхнего уса.\nЭто говорит о наличии редких очень больших значений funding_total, которые выделяются на фоне основной массы данных.",
      "metadata": {}
    },
    {
      "cell_type": "markdown",
      "source": "\n### 3.3. Куплены забесплатно?\n\n- Исследуйте компании, которые были проданы за ноль или за один доллар, и при этом известно, что у них был ненулевой общий объём финансирования.\n\n- Рассчитайте аналитически верхнюю и нижнюю границу выбросов для столбца `funding_total` и укажите, каким процентилям границы соответствуют.",
      "metadata": {
        "id": "JqkRAQrIrJg2"
      }
    },
    {
      "cell_type": "code",
      "source": "# Объединение для покупающей компании\nacquisition_with_acquirer_info = acquisition_df.merge(\n    filtered_df2,\n    left_on='acquiring_company_id',\n    right_on='company_id',  # название колонки в company_and_rounds\n    how='left',\n    suffixes=('_acquirer', '_target')\n)\n",
      "metadata": {},
      "outputs": [],
      "execution_count": 44
    },
    {
      "cell_type": "code",
      "source": "# Нужнo фильтровать сделки с суммой 0 или 1\nfiltered_acquisitions = acquisition_with_acquirer_info[\n    (acquisition_with_acquirer_info['price_amount'].isin([0, 1])) & (acquisition_with_acquirer_info['funding_total'] > 0)\n]",
      "metadata": {},
      "outputs": [],
      "execution_count": 45
    },
    {
      "cell_type": "code",
      "source": "# Выводим первые несколько строк, чтобы проверить результат\nprint(filtered_acquisitions.head())\n\n# Также можно вывести названия всех колонок для проверки\nprint(\"Колонки итогового DataFrame:\")\nprint(filtered_acquisitions.columns)",
      "metadata": {
        "id": "wJHXCBwwrJg2",
        "vscode": {
          "languageId": "plaintext"
        }
      },
      "outputs": [
        {
          "name": "stdout",
          "output_type": "stream",
          "text": "     id  acquiring_company_id  acquired_company_id       term_code  \\\n,25   34                   317                  572            cash   \n,47   63                    20                  681            cash   \n,72   95                    29                  145  cash_and_stock   \n,82  109                  1081                 1398            cash   \n,85  115                   396                 1582            cash   \n,\n,    price_amount acquired_at  company_id       name    category_code  status  \\\n,25             0  2007-05-01       317.0     Amazon        ecommerce     ipo   \n,47             0  2007-04-01        20.0       eBay              web     ipo   \n,72             0  2005-03-01        29.0     Yahoo!              web     ipo   \n,82             0  2007-10-01      1081.0    Platial  network_hosting  closed   \n,85             0  2007-12-01       396.0  News Corp             news     ipo   \n,\n,   founded_at  closed_at        domain network_username country_code  \\\n,25 1994-01-01        NaT    amazon.com           amazon          USA   \n,47 1995-09-01        NaT      ebay.com             eBay          USA   \n,72 1994-01-01        NaT     yahoo.com            Yahoo          USA   \n,82        NaT 2010-03-01   platial.com              NaN          USA   \n,85 1980-01-01        NaT  newscorp.com          NWScorp          USA   \n,\n,    investment_rounds  funding_rounds  funding_total  milestones  \n,25               24.0             1.0      8000000.0         5.0  \n,47               17.0             1.0      6700000.0         5.0  \n,72               11.0             2.0      6800000.0         7.0  \n,82                0.0             2.0      3400000.0         3.0  \n,85                9.0             1.0     12500000.0         3.0  \n,Колонки итогового DataFrame:\n,Index(['id', 'acquiring_company_id', 'acquired_company_id', 'term_code',\n,       'price_amount', 'acquired_at', 'company_id', 'name', 'category_code',\n,       'status', 'founded_at', 'closed_at', 'domain', 'network_username',\n,       'country_code', 'investment_rounds', 'funding_rounds', 'funding_total',\n,       'milestones'],\n,      dtype='object')\n"
        }
      ],
      "execution_count": 46
    },
    {
      "cell_type": "markdown",
      "source": "Мы подготовили фильтр для поиска компаний, которые были проданы за 0 или 1 доллар при условии, что у них есть ненулевой объем финансирования (funding_total > 0). Также объединили таблицы и получили итоговый DataFrame acquisition_with_acquirer_info, в котором есть нужные данные.",
      "metadata": {}
    },
    {
      "cell_type": "code",
      "source": "filtered_acquisitions",
      "metadata": {
        "scrolled": true
      },
      "outputs": [
        {
          "data": {
            "text/html": [
              "<div>\n",
              "<style scoped>\n",
              "    .dataframe tbody tr th:only-of-type {\n",
              "        vertical-align: middle;\n",
              "    }\n",
              "\n",
              "    .dataframe tbody tr th {\n",
              "        vertical-align: top;\n",
              "    }\n",
              "\n",
              "    .dataframe thead th {\n",
              "        text-align: right;\n",
              "    }\n",
              "</style>\n",
              "<table border=\"1\" class=\"dataframe\">\n",
              "  <thead>\n",
              "    <tr style=\"text-align: right;\">\n",
              "      <th></th>\n",
              "      <th>id</th>\n",
              "      <th>acquiring_company_id</th>\n",
              "      <th>acquired_company_id</th>\n",
              "      <th>term_code</th>\n",
              "      <th>price_amount</th>\n",
              "      <th>acquired_at</th>\n",
              "      <th>company_id</th>\n",
              "      <th>name</th>\n",
              "      <th>category_code</th>\n",
              "      <th>status</th>\n",
              "      <th>founded_at</th>\n",
              "      <th>closed_at</th>\n",
              "      <th>domain</th>\n",
              "      <th>network_username</th>\n",
              "      <th>country_code</th>\n",
              "      <th>investment_rounds</th>\n",
              "      <th>funding_rounds</th>\n",
              "      <th>funding_total</th>\n",
              "      <th>milestones</th>\n",
              "    </tr>\n",
              "  </thead>\n",
              "  <tbody>\n",
              "    <tr>\n",
              "      <th>25</th>\n",
              "      <td>34</td>\n",
              "      <td>317</td>\n",
              "      <td>572</td>\n",
              "      <td>cash</td>\n",
              "      <td>0</td>\n",
              "      <td>2007-05-01</td>\n",
              "      <td>317.0</td>\n",
              "      <td>Amazon</td>\n",
              "      <td>ecommerce</td>\n",
              "      <td>ipo</td>\n",
              "      <td>1994-01-01</td>\n",
              "      <td>NaT</td>\n",
              "      <td>amazon.com</td>\n",
              "      <td>amazon</td>\n",
              "      <td>USA</td>\n",
              "      <td>24.0</td>\n",
              "      <td>1.0</td>\n",
              "      <td>8000000.0</td>\n",
              "      <td>5.0</td>\n",
              "    </tr>\n",
              "    <tr>\n",
              "      <th>47</th>\n",
              "      <td>63</td>\n",
              "      <td>20</td>\n",
              "      <td>681</td>\n",
              "      <td>cash</td>\n",
              "      <td>0</td>\n",
              "      <td>2007-04-01</td>\n",
              "      <td>20.0</td>\n",
              "      <td>eBay</td>\n",
              "      <td>web</td>\n",
              "      <td>ipo</td>\n",
              "      <td>1995-09-01</td>\n",
              "      <td>NaT</td>\n",
              "      <td>ebay.com</td>\n",
              "      <td>eBay</td>\n",
              "      <td>USA</td>\n",
              "      <td>17.0</td>\n",
              "      <td>1.0</td>\n",
              "      <td>6700000.0</td>\n",
              "      <td>5.0</td>\n",
              "    </tr>\n",
              "    <tr>\n",
              "      <th>72</th>\n",
              "      <td>95</td>\n",
              "      <td>29</td>\n",
              "      <td>145</td>\n",
              "      <td>cash_and_stock</td>\n",
              "      <td>0</td>\n",
              "      <td>2005-03-01</td>\n",
              "      <td>29.0</td>\n",
              "      <td>Yahoo!</td>\n",
              "      <td>web</td>\n",
              "      <td>ipo</td>\n",
              "      <td>1994-01-01</td>\n",
              "      <td>NaT</td>\n",
              "      <td>yahoo.com</td>\n",
              "      <td>Yahoo</td>\n",
              "      <td>USA</td>\n",
              "      <td>11.0</td>\n",
              "      <td>2.0</td>\n",
              "      <td>6800000.0</td>\n",
              "      <td>7.0</td>\n",
              "    </tr>\n",
              "    <tr>\n",
              "      <th>82</th>\n",
              "      <td>109</td>\n",
              "      <td>1081</td>\n",
              "      <td>1398</td>\n",
              "      <td>cash</td>\n",
              "      <td>0</td>\n",
              "      <td>2007-10-01</td>\n",
              "      <td>1081.0</td>\n",
              "      <td>Platial</td>\n",
              "      <td>network_hosting</td>\n",
              "      <td>closed</td>\n",
              "      <td>NaT</td>\n",
              "      <td>2010-03-01</td>\n",
              "      <td>platial.com</td>\n",
              "      <td>NaN</td>\n",
              "      <td>USA</td>\n",
              "      <td>0.0</td>\n",
              "      <td>2.0</td>\n",
              "      <td>3400000.0</td>\n",
              "      <td>3.0</td>\n",
              "    </tr>\n",
              "    <tr>\n",
              "      <th>85</th>\n",
              "      <td>115</td>\n",
              "      <td>396</td>\n",
              "      <td>1582</td>\n",
              "      <td>cash</td>\n",
              "      <td>0</td>\n",
              "      <td>2007-12-01</td>\n",
              "      <td>396.0</td>\n",
              "      <td>News Corp</td>\n",
              "      <td>news</td>\n",
              "      <td>ipo</td>\n",
              "      <td>1980-01-01</td>\n",
              "      <td>NaT</td>\n",
              "      <td>newscorp.com</td>\n",
              "      <td>NWScorp</td>\n",
              "      <td>USA</td>\n",
              "      <td>9.0</td>\n",
              "      <td>1.0</td>\n",
              "      <td>12500000.0</td>\n",
              "      <td>3.0</td>\n",
              "    </tr>\n",
              "    <tr>\n",
              "      <th>...</th>\n",
              "      <td>...</td>\n",
              "      <td>...</td>\n",
              "      <td>...</td>\n",
              "      <td>...</td>\n",
              "      <td>...</td>\n",
              "      <td>...</td>\n",
              "      <td>...</td>\n",
              "      <td>...</td>\n",
              "      <td>...</td>\n",
              "      <td>...</td>\n",
              "      <td>...</td>\n",
              "      <td>...</td>\n",
              "      <td>...</td>\n",
              "      <td>...</td>\n",
              "      <td>...</td>\n",
              "      <td>...</td>\n",
              "      <td>...</td>\n",
              "      <td>...</td>\n",
              "      <td>...</td>\n",
              "    </tr>\n",
              "    <tr>\n",
              "      <th>9350</th>\n",
              "      <td>10466</td>\n",
              "      <td>240800</td>\n",
              "      <td>157550</td>\n",
              "      <td>NaN</td>\n",
              "      <td>0</td>\n",
              "      <td>2013-12-05</td>\n",
              "      <td>240800.0</td>\n",
              "      <td>Bluechilli</td>\n",
              "      <td>software</td>\n",
              "      <td>operating</td>\n",
              "      <td>2006-07-01</td>\n",
              "      <td>NaT</td>\n",
              "      <td>bluechilli.com</td>\n",
              "      <td>BlueChilliGroup</td>\n",
              "      <td>USA</td>\n",
              "      <td>1.0</td>\n",
              "      <td>1.0</td>\n",
              "      <td>650000.0</td>\n",
              "      <td>2.0</td>\n",
              "    </tr>\n",
              "    <tr>\n",
              "      <th>9361</th>\n",
              "      <td>10479</td>\n",
              "      <td>183619</td>\n",
              "      <td>284748</td>\n",
              "      <td>NaN</td>\n",
              "      <td>0</td>\n",
              "      <td>2013-12-06</td>\n",
              "      <td>183619.0</td>\n",
              "      <td>NewLeaf Symbiotics</td>\n",
              "      <td>biotech</td>\n",
              "      <td>operating</td>\n",
              "      <td>1999-01-01</td>\n",
              "      <td>NaT</td>\n",
              "      <td>newleafsym.com</td>\n",
              "      <td>NaN</td>\n",
              "      <td>USA</td>\n",
              "      <td>0.0</td>\n",
              "      <td>1.0</td>\n",
              "      <td>7000000.0</td>\n",
              "      <td>0.0</td>\n",
              "    </tr>\n",
              "    <tr>\n",
              "      <th>9363</th>\n",
              "      <td>10481</td>\n",
              "      <td>29</td>\n",
              "      <td>165128</td>\n",
              "      <td>NaN</td>\n",
              "      <td>0</td>\n",
              "      <td>2013-12-06</td>\n",
              "      <td>29.0</td>\n",
              "      <td>Yahoo!</td>\n",
              "      <td>web</td>\n",
              "      <td>ipo</td>\n",
              "      <td>1994-01-01</td>\n",
              "      <td>NaT</td>\n",
              "      <td>yahoo.com</td>\n",
              "      <td>Yahoo</td>\n",
              "      <td>USA</td>\n",
              "      <td>11.0</td>\n",
              "      <td>2.0</td>\n",
              "      <td>6800000.0</td>\n",
              "      <td>7.0</td>\n",
              "    </tr>\n",
              "    <tr>\n",
              "      <th>9388</th>\n",
              "      <td>10507</td>\n",
              "      <td>29</td>\n",
              "      <td>169154</td>\n",
              "      <td>NaN</td>\n",
              "      <td>0</td>\n",
              "      <td>2013-12-09</td>\n",
              "      <td>29.0</td>\n",
              "      <td>Yahoo!</td>\n",
              "      <td>web</td>\n",
              "      <td>ipo</td>\n",
              "      <td>1994-01-01</td>\n",
              "      <td>NaT</td>\n",
              "      <td>yahoo.com</td>\n",
              "      <td>Yahoo</td>\n",
              "      <td>USA</td>\n",
              "      <td>11.0</td>\n",
              "      <td>2.0</td>\n",
              "      <td>6800000.0</td>\n",
              "      <td>7.0</td>\n",
              "    </tr>\n",
              "    <tr>\n",
              "      <th>9391</th>\n",
              "      <td>10513</td>\n",
              "      <td>43761</td>\n",
              "      <td>43761</td>\n",
              "      <td>NaN</td>\n",
              "      <td>0</td>\n",
              "      <td>2011-11-22</td>\n",
              "      <td>43761.0</td>\n",
              "      <td>Excaliard Pharmaceuticals</td>\n",
              "      <td>biotech</td>\n",
              "      <td>acquired</td>\n",
              "      <td>NaT</td>\n",
              "      <td>NaT</td>\n",
              "      <td>excaliard.com</td>\n",
              "      <td>NaN</td>\n",
              "      <td>USA</td>\n",
              "      <td>0.0</td>\n",
              "      <td>1.0</td>\n",
              "      <td>15500000.0</td>\n",
              "      <td>0.0</td>\n",
              "    </tr>\n",
              "  </tbody>\n",
              "</table>\n",
              "<p>1202 rows × 19 columns</p>\n",
              "</div>"
            ],
            "text/plain": [
              "         id  acquiring_company_id  acquired_company_id       term_code  \\\n",
              "25       34                   317                  572            cash   \n",
              "47       63                    20                  681            cash   \n",
              "72       95                    29                  145  cash_and_stock   \n",
              "82      109                  1081                 1398            cash   \n",
              "85      115                   396                 1582            cash   \n",
              "...     ...                   ...                  ...             ...   \n",
              "9350  10466                240800               157550             NaN   \n",
              "9361  10479                183619               284748             NaN   \n",
              "9363  10481                    29               165128             NaN   \n",
              "9388  10507                    29               169154             NaN   \n",
              "9391  10513                 43761                43761             NaN   \n",
              "\n",
              "      price_amount acquired_at  company_id                       name  \\\n",
              "25               0  2007-05-01       317.0                     Amazon   \n",
              "47               0  2007-04-01        20.0                       eBay   \n",
              "72               0  2005-03-01        29.0                     Yahoo!   \n",
              "82               0  2007-10-01      1081.0                    Platial   \n",
              "85               0  2007-12-01       396.0                  News Corp   \n",
              "...            ...         ...         ...                        ...   \n",
              "9350             0  2013-12-05    240800.0                 Bluechilli   \n",
              "9361             0  2013-12-06    183619.0         NewLeaf Symbiotics   \n",
              "9363             0  2013-12-06        29.0                     Yahoo!   \n",
              "9388             0  2013-12-09        29.0                     Yahoo!   \n",
              "9391             0  2011-11-22     43761.0  Excaliard Pharmaceuticals   \n",
              "\n",
              "        category_code     status founded_at  closed_at          domain  \\\n",
              "25          ecommerce        ipo 1994-01-01        NaT      amazon.com   \n",
              "47                web        ipo 1995-09-01        NaT        ebay.com   \n",
              "72                web        ipo 1994-01-01        NaT       yahoo.com   \n",
              "82    network_hosting     closed        NaT 2010-03-01     platial.com   \n",
              "85               news        ipo 1980-01-01        NaT    newscorp.com   \n",
              "...               ...        ...        ...        ...             ...   \n",
              "9350         software  operating 2006-07-01        NaT  bluechilli.com   \n",
              "9361          biotech  operating 1999-01-01        NaT  newleafsym.com   \n",
              "9363              web        ipo 1994-01-01        NaT       yahoo.com   \n",
              "9388              web        ipo 1994-01-01        NaT       yahoo.com   \n",
              "9391          biotech   acquired        NaT        NaT   excaliard.com   \n",
              "\n",
              "     network_username country_code  investment_rounds  funding_rounds  \\\n",
              "25             amazon          USA               24.0             1.0   \n",
              "47               eBay          USA               17.0             1.0   \n",
              "72              Yahoo          USA               11.0             2.0   \n",
              "82                NaN          USA                0.0             2.0   \n",
              "85            NWScorp          USA                9.0             1.0   \n",
              "...               ...          ...                ...             ...   \n",
              "9350  BlueChilliGroup          USA                1.0             1.0   \n",
              "9361              NaN          USA                0.0             1.0   \n",
              "9363            Yahoo          USA               11.0             2.0   \n",
              "9388            Yahoo          USA               11.0             2.0   \n",
              "9391              NaN          USA                0.0             1.0   \n",
              "\n",
              "      funding_total  milestones  \n",
              "25        8000000.0         5.0  \n",
              "47        6700000.0         5.0  \n",
              "72        6800000.0         7.0  \n",
              "82        3400000.0         3.0  \n",
              "85       12500000.0         3.0  \n",
              "...             ...         ...  \n",
              "9350       650000.0         2.0  \n",
              "9361      7000000.0         0.0  \n",
              "9363      6800000.0         7.0  \n",
              "9388      6800000.0         7.0  \n",
              "9391     15500000.0         0.0  \n",
              "\n",
              "[1202 rows x 19 columns]"
            ]
          },
          "execution_count": 47,
          "metadata": {},
          "output_type": "execute_result"
        }
      ],
      "execution_count": 47
    },
    {
      "cell_type": "code",
      "source": "# Убираем пропуски, чтобы не мешали расчетам\nfunding_values = filtered_acquisitions['funding_total'].dropna()\n\n# Квартильные значения\nQ1 = funding_values.quantile(0.25)\nQ3 = funding_values.quantile(0.75)\nIQR = Q3 - Q1\n\n# Границы выбросов\nlower_bound = max(0, Q1 - 1.5 * IQR)\nupper_bound = Q3 + 1.5 * IQR\n\n# Кол-во значений\ntotal = len(funding_values)\n\n# Доля значений ниже границ\npercent_below_lower = (funding_values < lower_bound).sum() / total * 100\npercent_below_upper = (funding_values < upper_bound).sum() / total * 100\n\nprint(f\"Нижняя граница выбросов: {lower_bound:.2f}\")\nprint(f\"Верхняя граница выбросов: {upper_bound:.2f}\")\n\nprint(f\"Процент данных ниже нижней границы: {percent_below_lower:.2f}%\")\nprint(f\"Процент данных ниже верхней границы: {percent_below_upper:.2f}%\")",
      "metadata": {
        "id": "9IDTHfYQFhuX"
      },
      "outputs": [
        {
          "name": "stdout",
          "output_type": "stream",
          "text": "Нижняя граница выбросов: 0.00\n,Верхняя граница выбросов: 21618750.00\n,Процент данных ниже нижней границы: 0.00%\n,Процент данных ниже верхней границы: 98.75%\n"
        }
      ],
      "execution_count": 48
    },
    {
      "cell_type": "markdown",
      "source": "Нижнию границу для выбросов по funding_total мы ограничели 0, поскольку финансирование не может быть отрицательным в реальности. Это говорит о том, что очень низкие значения (например, близкие к нулю или чуть ниже) не считаются выбросами с точки зрения финансирования",
      "metadata": {}
    },
    {
      "cell_type": "markdown",
      "source": "Большинство компаний имеют финансирование в диапазоне от чуть выше нуля до примерно 216 миллионов.\nЗначения за пределами этих границ — редки и могут считаться выбросами.\nОтрицательные значения финансирования — это скорее аномалии или ошибки данных, так как они попадают за нижнюю границу.\nЗадача — определить \"забесплатные\" сделки (с ценой 0 или 1 доллар), тогда эти сделки могут попадать в очень низкий диапазон финансирования, и их можно рассматривать как особые случаи.\n",
      "metadata": {}
    },
    {
      "cell_type": "markdown",
      "source": "Возможно свзяно это может быть с тем что фирмы по сути дарили и оформляя сделки за символичные суммы.",
      "metadata": {}
    },
    {
      "cell_type": "markdown",
      "source": "\n### 3.4. Цены стартапов по категориям\n\nКатегории стартапов с типично высокими ценами покупки стартапов и значительным разбросом цен могут быть привлекательными для крупных инвесторов, которые готовы к высоким рискам ради потенциально больших доходов. Среди категорий стартапов выделите категории стартапов, характеризующиеся:\n\n- типично высокими ценами;\n- и наибольшим разбросом цен за стартап.\n\nОбъясните, почему решили составить топ именно из такого числа категорий и почему рассчитывали именно так.",
      "metadata": {
        "id": "mEiWpROjrJg2"
      }
    },
    {
      "cell_type": "code",
      "source": "# 1. Расчет статистик по категориям\ncategory_stats = company_and_rounds_df.groupby('category_code')['raised_amount'].agg(\n    median='median',\n    mean='mean',\n    std='std'\n).reset_index()",
      "metadata": {
        "id": "jQ09dYUWrJg2",
        "vscode": {
          "languageId": "plaintext"
        }
      },
      "outputs": [],
      "execution_count": 49
    },
    {
      "cell_type": "code",
      "source": "# 2. Выбор топ категорий по высоким ценам\ntop_high_price_median = category_stats.sort_values(by='median', ascending=False).head(5)\ntop_high_price_mean = category_stats.sort_values(by='mean', ascending=False).head(5)",
      "metadata": {
        "id": "eF1aULm5FjfY"
      },
      "outputs": [],
      "execution_count": 50
    },
    {
      "cell_type": "code",
      "source": "# 3. Выбор топ категорий по разбросу цен\ntop_variability = category_stats.sort_values(by='std', ascending=False).head(5)",
      "metadata": {},
      "outputs": [],
      "execution_count": 51
    },
    {
      "cell_type": "code",
      "source": "# 4. Объединение выбранных категорий для анализа\nselected_categories = pd.concat([top_high_price_median, top_high_price_mean, top_variability]).drop_duplicates()\n\nprint(\"Категории с типично высокими ценами (по медиане):\")\nprint(top_high_price_median)\n\nprint(\"\\nКатегории с типично высокими ценами (по среднему):\")\nprint(top_high_price_mean)\n\nprint(\"\\nКатегории с наибольшим разбросом цен:\")\nprint(top_variability)\n\nprint(\"\\nОбъединенные выбранные категории:\")\nprint(selected_categories)\n",
      "metadata": {},
      "outputs": [
        {
          "name": "stdout",
          "output_type": "stream",
          "text": "Категории с типично высокими ценами (по медиане):\n,      category_code     median          mean           std\n,35    semiconductor  7800000.0  1.186331e+07  2.356863e+07\n,4         cleantech  5469460.0  1.974136e+07  5.142515e+07\n,24         nanotech  5000000.0  1.469585e+07  3.436477e+07\n,25  network_hosting  4000000.0  1.410183e+07  4.654721e+07\n,20          medical  4000000.0  9.300896e+06  1.500603e+07\n,\n,Категории с типично высокими ценами (по среднему):\n,      category_code     median          mean           std\n,2        automotive  2000000.0  2.205043e+07  7.289481e+07\n,13       government   201750.0  2.058196e+07  5.751414e+07\n,4         cleantech  5469460.0  1.974136e+07  5.142515e+07\n,24         nanotech  5000000.0  1.469585e+07  3.436477e+07\n,25  network_hosting  4000000.0  1.410183e+07  4.654721e+07\n,\n,Категории с наибольшим разбросом цен:\n,   category_code     median          mean           std\n,22        mobile  1000000.0  8.212212e+06  8.937814e+07\n,15        health  1000000.0  8.810441e+06  8.760406e+07\n,2     automotive  2000000.0  2.205043e+07  7.289481e+07\n,13    government   201750.0  2.058196e+07  5.751414e+07\n,36        social   400000.0  6.642250e+06  5.461945e+07\n,\n,Объединенные выбранные категории:\n,      category_code     median          mean           std\n,35    semiconductor  7800000.0  1.186331e+07  2.356863e+07\n,4         cleantech  5469460.0  1.974136e+07  5.142515e+07\n,24         nanotech  5000000.0  1.469585e+07  3.436477e+07\n,25  network_hosting  4000000.0  1.410183e+07  4.654721e+07\n,20          medical  4000000.0  9.300896e+06  1.500603e+07\n,2        automotive  2000000.0  2.205043e+07  7.289481e+07\n,13       government   201750.0  2.058196e+07  5.751414e+07\n,22           mobile  1000000.0  8.212212e+06  8.937814e+07\n,15           health  1000000.0  8.810441e+06  8.760406e+07\n,36           social   400000.0  6.642250e+06  5.461945e+07\n"
        }
      ],
      "execution_count": 52
    },
    {
      "cell_type": "markdown",
      "source": "Категории с высокими медианными и средними ценами: semiconductor, cleantech, nanotech, network_hosting, medical, automotive и government.\nВ некоторых категориях наблюдается большой разброс цен (например, mobile и health), что говорит о наличии как дешевых, так и очень дорогих проектов.\nВ целом, внутри категорий есть широкий диапазон стоимости, что важно учитывать при анализе рынка.",
      "metadata": {}
    },
    {
      "cell_type": "markdown",
      "source": "Категории, такие как mobile, hardware, social, web, games_video, показывают очень высокий стандартное отклонение (std). Это означает, что в этих категориях есть как очень маленькие сделки, так и очень крупные — разброс цен значителен.",
      "metadata": {}
    },
    {
      "cell_type": "markdown",
      "source": "\n### 3.5. Сколько раундов продержится стартап перед покупкой\n\n- Необходимо проанализировать столбец `funding_rounds`. Исследуйте значения столбца. Заказчика интересует типичное значение количества раундов для каждого возможного статуса стартапа.\n- Постройте график, который отображает, сколько в среднем раундов финансирования проходило для стартапов из каждой группы. Сделайте выводы.",
      "metadata": {
        "id": "ADOfyVY_rJg3"
      }
    },
    {
      "cell_type": "code",
      "source": "# Проведём группировку по funding_rounds\nfiltered_df.dropna(subset = ['status']).groupby('status')['funding_rounds'].describe()",
      "metadata": {
        "id": "hgXMPC4WrJg3",
        "vscode": {
          "languageId": "plaintext"
        }
      },
      "outputs": [
        {
          "data": {
            "text/html": [
              "<div>\n",
              "<style scoped>\n",
              "    .dataframe tbody tr th:only-of-type {\n",
              "        vertical-align: middle;\n",
              "    }\n",
              "\n",
              "    .dataframe tbody tr th {\n",
              "        vertical-align: top;\n",
              "    }\n",
              "\n",
              "    .dataframe thead th {\n",
              "        text-align: right;\n",
              "    }\n",
              "</style>\n",
              "<table border=\"1\" class=\"dataframe\">\n",
              "  <thead>\n",
              "    <tr style=\"text-align: right;\">\n",
              "      <th></th>\n",
              "      <th>count</th>\n",
              "      <th>mean</th>\n",
              "      <th>std</th>\n",
              "      <th>min</th>\n",
              "      <th>25%</th>\n",
              "      <th>50%</th>\n",
              "      <th>75%</th>\n",
              "      <th>max</th>\n",
              "    </tr>\n",
              "    <tr>\n",
              "      <th>status</th>\n",
              "      <th></th>\n",
              "      <th></th>\n",
              "      <th></th>\n",
              "      <th></th>\n",
              "      <th></th>\n",
              "      <th></th>\n",
              "      <th></th>\n",
              "      <th></th>\n",
              "    </tr>\n",
              "  </thead>\n",
              "  <tbody>\n",
              "    <tr>\n",
              "      <th>acquired</th>\n",
              "      <td>9394.0</td>\n",
              "      <td>0.523526</td>\n",
              "      <td>1.081739</td>\n",
              "      <td>0.0</td>\n",
              "      <td>0.0</td>\n",
              "      <td>0.0</td>\n",
              "      <td>1.00</td>\n",
              "      <td>12.0</td>\n",
              "    </tr>\n",
              "    <tr>\n",
              "      <th>closed</th>\n",
              "      <td>2092.0</td>\n",
              "      <td>1.381453</td>\n",
              "      <td>0.835488</td>\n",
              "      <td>0.0</td>\n",
              "      <td>1.0</td>\n",
              "      <td>1.0</td>\n",
              "      <td>1.25</td>\n",
              "      <td>8.0</td>\n",
              "    </tr>\n",
              "    <tr>\n",
              "      <th>ipo</th>\n",
              "      <td>640.0</td>\n",
              "      <td>1.934375</td>\n",
              "      <td>2.217177</td>\n",
              "      <td>0.0</td>\n",
              "      <td>1.0</td>\n",
              "      <td>1.0</td>\n",
              "      <td>3.00</td>\n",
              "      <td>13.0</td>\n",
              "    </tr>\n",
              "    <tr>\n",
              "      <th>operating</th>\n",
              "      <td>28621.0</td>\n",
              "      <td>1.522658</td>\n",
              "      <td>1.214554</td>\n",
              "      <td>0.0</td>\n",
              "      <td>1.0</td>\n",
              "      <td>1.0</td>\n",
              "      <td>2.00</td>\n",
              "      <td>15.0</td>\n",
              "    </tr>\n",
              "  </tbody>\n",
              "</table>\n",
              "</div>"
            ],
            "text/plain": [
              "             count      mean       std  min  25%  50%   75%   max\n",
              "status                                                           \n",
              "acquired    9394.0  0.523526  1.081739  0.0  0.0  0.0  1.00  12.0\n",
              "closed      2092.0  1.381453  0.835488  0.0  1.0  1.0  1.25   8.0\n",
              "ipo          640.0  1.934375  2.217177  0.0  1.0  1.0  3.00  13.0\n",
              "operating  28621.0  1.522658  1.214554  0.0  1.0  1.0  2.00  15.0"
            ]
          },
          "execution_count": 53,
          "metadata": {},
          "output_type": "execute_result"
        }
      ],
      "execution_count": 53
    },
    {
      "cell_type": "markdown",
      "source": "acquired: Стартапы, которые были приобретены, проходят в среднем около 0,5 раундов финансирования, что очень мало — большинство сделок происходит на ранних этапах.\nclosed: Стартапы, которые закрылись без выхода на IPO или продажи — примерно 1,4 раунда.\nipo: Стартапы, вышедшие на IPO — в среднем около 2 раундов, но с большим разбросом (стандартное отклонение более чем в два раза больше среднего), что говорит о наличии как ранних, так и более поздних IPO.\noperating: Активные стартапы — около 1,5 раундов в среднем.",
      "metadata": {}
    },
    {
      "cell_type": "code",
      "source": "data = {\n    'status': ['acquired', 'closed', 'ipo', 'operating'],\n    'mean': [0.52, 1.38, 1.93, 1.52]\n}\n\nfiltered_df = pd.DataFrame(data)\n\n# Построение графика\nplt.figure(figsize=(8,6))\nplt.bar(filtered_df['status'], filtered_df['mean'], color='skyblue')\nplt.xlabel('Статус стартапа')\nplt.ylabel('Среднее количество раундов')\nplt.title('Среднее количество раундов финансирования по статусам')\nplt.show()",
      "metadata": {
        "id": "pV3e7kw5Fj1Y"
      },
      "outputs": [
        {
          "data": {
            "image/png": "[encoded data removed]",
            "text/plain": [
              "<Figure size 576x432 with 1 Axes>"
            ]
          },
          "metadata": {
            "needs_background": "light"
          },
          "output_type": "display_data"
        }
      ],
      "execution_count": 54
    },
    {
      "cell_type": "markdown",
      "source": "В большинстве случаев стартапы проходят около 1-2 раундов финансирования перед достижением определенного статуса (продажа или IPO).\nСтартапы, которые быстро приобретаются (acquired), делают это после очень малого количества раундов.\nВремя и количество раундов до выхода на IPO — чуть больше среднего",
      "metadata": {}
    },
    {
      "cell_type": "markdown",
      "source": "\n## Шаг 4. Итоговый вывод и рекомендации\n\nОпишите, что было сделано в проекте, какие были сделаны выводы, подкрепляют ли они друг друга или заставляют сомневаться в полученных результатах.",
      "metadata": {
        "id": "VAFEZ2HBrJg3"
      }
    },
    {
      "cell_type": "markdown",
      "source": " - Основные выводы:\n\nРынок демонстрирует рост активности в определённые периоды.\nНекоторые ключевые лица связаны с несколькими компаниями и раундами финансирования, что указывает на их значимое влияние.\nОбразовательный фон участников разнообразен, что говорит о разносторонних путях профессионального развития.\nЭти выводы взаимно подкрепляют друг друга: активность рынка сочетается с влиянием ключевых фигур и их образовательным уровнем. В то же время, для более точных заключений необходимо учитывать возможные ограничения данных и проводить дополнительные исследования. В целом, полученные результаты логично связаны и дают обоснованное представление о ситуации на рынке.\n",
      "metadata": {}
    },
    {
      "cell_type": "markdown",
      "source": " - Качество и полнота данных\n\nВ процессе работы выявлены существенные пропуски и неоднородность данных, особенно в датасете company_and_rounds.csv. Это накладывает ограничения на точность и полноту анализа. В дальнейшем рекомендуется уделять внимание улучшению качества данных, в том числе согласованию и стандартизации источников информации.\n\n - Особенности структуры данных\n\nБыло выявлено, что исходный датасет по компаниям и раундам финансирования содержит дублирующиеся записи и смешение информации, что отражает исторические особенности хранения данных. Разделение таблицы на отдельные срезы по компаниям и раундам позволило сохранить максимальную полноту информации и упростить дальнейший анализ.\n\n - Выбросы и их влияние на анализ\n\nАнализ выбросов показал сильную асимметрию и наличие крупных сделок, которые существенно влияют на средние показатели. В бизнес-аналитике важно учитывать медианные значения и межквартильные диапазоны, чтобы избежать искажения выводов из-за экстремальных значений.\n\n - Категоризация компаний по размеру и статусу\n\nРазделение компаний по численности сотрудников и статусу позволило выявить закономерности в полноте данных и активности на рынке. Например, крупные компании имеют более полные данные об образовании сотрудников, а стартапы, которые быстро приобретаются, проходят меньше раундов финансирования.\n\n - Практическая значимость результатов\n\nПолученные инсайты могут быть полезны для инвесторов и стратегов, позволяя сфокусироваться на наиболее перспективных категориях стартапов с высокой активностью финансирования и значительным разбросом цен. Анализ образовательного фона помогает лучше понимать состав и потенциал ключевых игроков рынка.\n",
      "metadata": {}
    }
  ]
}