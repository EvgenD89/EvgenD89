{
  "metadata": {
    "kernelspec": {
      "name": "python",
      "display_name": "Python (Pyodide)",
      "language": "python"
    },
    "language_info": {
      "codemirror_mode": {
        "name": "python",
        "version": 3
      },
      "file_extension": ".py",
      "mimetype": "text/x-python",
      "name": "python",
      "nbconvert_exporter": "python",
      "pygments_lexer": "ipython3",
      "version": "3.8"
    },
    "ExecuteTimeLog": [
      {
        "duration": 54,
        "start_time": "2025-05-17T10:57:24.589Z"
      },
      {
        "duration": 8,
        "start_time": "2025-05-17T10:58:55.418Z"
      },
      {
        "duration": 7,
        "start_time": "2025-05-17T10:58:57.131Z"
      },
      {
        "duration": 69,
        "start_time": "2025-05-17T11:07:26.561Z"
      },
      {
        "duration": 462,
        "start_time": "2025-05-17T11:17:36.942Z"
      },
      {
        "duration": 128,
        "start_time": "2025-05-17T11:17:38.093Z"
      },
      {
        "duration": 19,
        "start_time": "2025-05-17T11:17:39.069Z"
      },
      {
        "duration": 24,
        "start_time": "2025-05-17T11:17:41.621Z"
      },
      {
        "duration": 12,
        "start_time": "2025-05-17T11:17:43.713Z"
      },
      {
        "duration": 14,
        "start_time": "2025-05-17T11:17:45.197Z"
      },
      {
        "duration": 4,
        "start_time": "2025-05-17T11:17:52.405Z"
      },
      {
        "duration": 5,
        "start_time": "2025-05-17T11:17:54.525Z"
      },
      {
        "duration": 4,
        "start_time": "2025-05-17T11:17:57.070Z"
      },
      {
        "duration": 3,
        "start_time": "2025-05-17T11:17:59.557Z"
      },
      {
        "duration": 14,
        "start_time": "2025-05-17T11:18:00.573Z"
      },
      {
        "duration": 21,
        "start_time": "2025-05-17T11:18:01.470Z"
      },
      {
        "duration": 15,
        "start_time": "2025-05-17T11:18:02.717Z"
      },
      {
        "duration": 3,
        "start_time": "2025-05-17T11:18:09.157Z"
      },
      {
        "duration": 8,
        "start_time": "2025-05-17T11:18:10.205Z"
      },
      {
        "duration": 3,
        "start_time": "2025-05-17T11:18:11.413Z"
      },
      {
        "duration": 4,
        "start_time": "2025-05-17T11:18:12.061Z"
      },
      {
        "duration": 5,
        "start_time": "2025-05-17T11:18:13.493Z"
      },
      {
        "duration": 5,
        "start_time": "2025-05-17T11:18:17.268Z"
      },
      {
        "duration": 5,
        "start_time": "2025-05-17T11:18:18.005Z"
      },
      {
        "duration": 7,
        "start_time": "2025-05-17T11:18:18.958Z"
      },
      {
        "duration": 11,
        "start_time": "2025-05-17T11:18:20.213Z"
      },
      {
        "duration": 3,
        "start_time": "2025-05-17T11:18:22.512Z"
      },
      {
        "duration": 28,
        "start_time": "2025-05-17T11:18:23.901Z"
      },
      {
        "duration": 13,
        "start_time": "2025-05-17T11:18:25.533Z"
      },
      {
        "duration": 13,
        "start_time": "2025-05-17T11:18:27.909Z"
      },
      {
        "duration": 19,
        "start_time": "2025-05-17T11:18:29.685Z"
      },
      {
        "duration": 10,
        "start_time": "2025-05-17T11:18:30.669Z"
      },
      {
        "duration": 3,
        "start_time": "2025-05-17T11:18:32.469Z"
      },
      {
        "duration": 2,
        "start_time": "2025-05-17T11:18:43.101Z"
      },
      {
        "duration": 13,
        "start_time": "2025-05-17T11:18:43.917Z"
      },
      {
        "duration": 14,
        "start_time": "2025-05-17T11:18:45.405Z"
      },
      {
        "duration": 3,
        "start_time": "2025-05-17T11:18:46.220Z"
      },
      {
        "duration": 2,
        "start_time": "2025-05-17T11:18:47.198Z"
      },
      {
        "duration": 3,
        "start_time": "2025-05-17T11:18:48.165Z"
      },
      {
        "duration": 10,
        "start_time": "2025-05-17T11:18:55.805Z"
      },
      {
        "duration": 14,
        "start_time": "2025-05-17T11:18:56.924Z"
      },
      {
        "duration": 11,
        "start_time": "2025-05-17T11:19:00.404Z"
      },
      {
        "duration": 6,
        "start_time": "2025-05-17T11:19:02.077Z"
      },
      {
        "duration": 5,
        "start_time": "2025-05-17T11:19:03.828Z"
      },
      {
        "duration": 3,
        "start_time": "2025-05-17T11:19:05.541Z"
      },
      {
        "duration": 6,
        "start_time": "2025-05-17T11:19:06.445Z"
      },
      {
        "duration": 5,
        "start_time": "2025-05-17T11:19:07.916Z"
      },
      {
        "duration": 5,
        "start_time": "2025-05-17T11:19:09.454Z"
      },
      {
        "duration": 5,
        "start_time": "2025-05-17T11:19:13.877Z"
      },
      {
        "duration": 449,
        "start_time": "2025-05-17T11:21:57.826Z"
      },
      {
        "duration": 103,
        "start_time": "2025-05-17T11:21:58.277Z"
      },
      {
        "duration": 19,
        "start_time": "2025-05-17T11:21:58.382Z"
      },
      {
        "duration": 22,
        "start_time": "2025-05-17T11:21:58.403Z"
      },
      {
        "duration": 35,
        "start_time": "2025-05-17T11:21:58.426Z"
      },
      {
        "duration": 14,
        "start_time": "2025-05-17T11:21:58.464Z"
      },
      {
        "duration": 3,
        "start_time": "2025-05-17T11:21:58.479Z"
      },
      {
        "duration": 5,
        "start_time": "2025-05-17T11:21:58.484Z"
      },
      {
        "duration": 5,
        "start_time": "2025-05-17T11:21:58.490Z"
      },
      {
        "duration": 2,
        "start_time": "2025-05-17T11:21:58.498Z"
      },
      {
        "duration": 20,
        "start_time": "2025-05-17T11:21:58.502Z"
      },
      {
        "duration": 52,
        "start_time": "2025-05-17T11:21:58.524Z"
      },
      {
        "duration": 109,
        "start_time": "2025-05-17T11:21:58.577Z"
      },
      {
        "duration": 3,
        "start_time": "2025-05-17T11:21:58.688Z"
      },
      {
        "duration": 15,
        "start_time": "2025-05-17T11:21:58.692Z"
      },
      {
        "duration": 4,
        "start_time": "2025-05-17T11:21:58.708Z"
      },
      {
        "duration": 4,
        "start_time": "2025-05-17T11:21:58.714Z"
      },
      {
        "duration": 6,
        "start_time": "2025-05-17T11:21:58.720Z"
      },
      {
        "duration": 8,
        "start_time": "2025-05-17T11:21:58.728Z"
      },
      {
        "duration": 24,
        "start_time": "2025-05-17T11:21:58.738Z"
      },
      {
        "duration": 5,
        "start_time": "2025-05-17T11:21:58.763Z"
      },
      {
        "duration": 11,
        "start_time": "2025-05-17T11:21:58.770Z"
      },
      {
        "duration": 4,
        "start_time": "2025-05-17T11:21:58.782Z"
      },
      {
        "duration": 29,
        "start_time": "2025-05-17T11:21:58.788Z"
      },
      {
        "duration": 12,
        "start_time": "2025-05-17T11:21:58.819Z"
      },
      {
        "duration": 10,
        "start_time": "2025-05-17T11:21:58.861Z"
      },
      {
        "duration": 19,
        "start_time": "2025-05-17T11:21:58.873Z"
      },
      {
        "duration": 9,
        "start_time": "2025-05-17T11:21:58.896Z"
      },
      {
        "duration": 4,
        "start_time": "2025-05-17T11:21:58.906Z"
      },
      {
        "duration": 3,
        "start_time": "2025-05-17T11:21:58.911Z"
      },
      {
        "duration": 51,
        "start_time": "2025-05-17T11:21:58.915Z"
      },
      {
        "duration": 13,
        "start_time": "2025-05-17T11:21:58.969Z"
      },
      {
        "duration": 94,
        "start_time": "2025-05-17T11:21:58.985Z"
      },
      {
        "duration": 25,
        "start_time": "2025-05-17T11:21:59.081Z"
      },
      {
        "duration": 5,
        "start_time": "2025-05-17T11:21:59.108Z"
      },
      {
        "duration": 11,
        "start_time": "2025-05-17T11:21:59.114Z"
      },
      {
        "duration": 14,
        "start_time": "2025-05-17T11:21:59.127Z"
      },
      {
        "duration": 10,
        "start_time": "2025-05-17T11:21:59.143Z"
      },
      {
        "duration": 6,
        "start_time": "2025-05-17T11:21:59.155Z"
      },
      {
        "duration": 10,
        "start_time": "2025-05-17T11:21:59.162Z"
      },
      {
        "duration": 5,
        "start_time": "2025-05-17T11:21:59.173Z"
      },
      {
        "duration": 7,
        "start_time": "2025-05-17T11:21:59.179Z"
      },
      {
        "duration": 5,
        "start_time": "2025-05-17T11:21:59.187Z"
      },
      {
        "duration": 4,
        "start_time": "2025-05-17T11:21:59.194Z"
      },
      {
        "duration": 6,
        "start_time": "2025-05-17T11:21:59.200Z"
      },
      {
        "duration": 58,
        "start_time": "2025-05-18T09:57:42.204Z"
      },
      {
        "duration": 7,
        "start_time": "2025-05-18T09:57:44.162Z"
      },
      {
        "duration": 7,
        "start_time": "2025-05-18T09:57:45.737Z"
      },
      {
        "duration": 5,
        "start_time": "2025-05-18T09:57:51.786Z"
      },
      {
        "duration": 417,
        "start_time": "2025-05-18T09:58:01.562Z"
      },
      {
        "duration": 89,
        "start_time": "2025-05-18T09:58:02.554Z"
      },
      {
        "duration": 19,
        "start_time": "2025-05-18T09:58:03.529Z"
      },
      {
        "duration": 21,
        "start_time": "2025-05-18T09:58:05.585Z"
      },
      {
        "duration": 13,
        "start_time": "2025-05-18T09:58:08.073Z"
      },
      {
        "duration": 13,
        "start_time": "2025-05-18T09:58:09.450Z"
      },
      {
        "duration": 4,
        "start_time": "2025-05-18T09:58:12.281Z"
      },
      {
        "duration": 6,
        "start_time": "2025-05-18T09:58:13.610Z"
      },
      {
        "duration": 5,
        "start_time": "2025-05-18T09:58:15.170Z"
      },
      {
        "duration": 3,
        "start_time": "2025-05-18T09:58:16.562Z"
      },
      {
        "duration": 13,
        "start_time": "2025-05-18T09:58:17.578Z"
      },
      {
        "duration": 27,
        "start_time": "2025-05-18T09:58:18.305Z"
      },
      {
        "duration": 15,
        "start_time": "2025-05-18T09:58:19.785Z"
      },
      {
        "duration": 2,
        "start_time": "2025-05-18T09:58:26.618Z"
      },
      {
        "duration": 10,
        "start_time": "2025-05-18T09:58:27.329Z"
      },
      {
        "duration": 3,
        "start_time": "2025-05-18T09:58:28.417Z"
      },
      {
        "duration": 5,
        "start_time": "2025-05-18T09:58:28.961Z"
      },
      {
        "duration": 6,
        "start_time": "2025-05-18T09:58:29.761Z"
      },
      {
        "duration": 5,
        "start_time": "2025-05-18T09:58:41.065Z"
      },
      {
        "duration": 5,
        "start_time": "2025-05-18T09:58:42.817Z"
      },
      {
        "duration": 6,
        "start_time": "2025-05-18T09:58:45.249Z"
      },
      {
        "duration": 13,
        "start_time": "2025-05-18T09:58:45.994Z"
      },
      {
        "duration": 3,
        "start_time": "2025-05-18T10:00:41.834Z"
      },
      {
        "duration": 3,
        "start_time": "2025-05-18T10:01:08.073Z"
      },
      {
        "duration": 441,
        "start_time": "2025-05-18T10:01:43.513Z"
      },
      {
        "duration": 85,
        "start_time": "2025-05-18T10:01:44.745Z"
      },
      {
        "duration": 17,
        "start_time": "2025-05-18T10:01:45.793Z"
      },
      {
        "duration": 21,
        "start_time": "2025-05-18T10:01:47.082Z"
      },
      {
        "duration": 12,
        "start_time": "2025-05-18T10:01:48.793Z"
      },
      {
        "duration": 14,
        "start_time": "2025-05-18T10:01:50.145Z"
      },
      {
        "duration": 3,
        "start_time": "2025-05-18T10:01:52.658Z"
      },
      {
        "duration": 4,
        "start_time": "2025-05-18T10:01:53.857Z"
      },
      {
        "duration": 4,
        "start_time": "2025-05-18T10:01:57.329Z"
      },
      {
        "duration": 2,
        "start_time": "2025-05-18T10:02:03.754Z"
      },
      {
        "duration": 14,
        "start_time": "2025-05-18T10:02:04.713Z"
      },
      {
        "duration": 17,
        "start_time": "2025-05-18T10:02:05.465Z"
      },
      {
        "duration": 15,
        "start_time": "2025-05-18T10:02:19.385Z"
      },
      {
        "duration": 3,
        "start_time": "2025-05-18T10:02:50.921Z"
      },
      {
        "duration": 8,
        "start_time": "2025-05-18T10:02:51.689Z"
      },
      {
        "duration": 4,
        "start_time": "2025-05-18T10:02:52.369Z"
      },
      {
        "duration": 4,
        "start_time": "2025-05-18T10:02:53.016Z"
      },
      {
        "duration": 5,
        "start_time": "2025-05-18T10:02:53.977Z"
      },
      {
        "duration": 4,
        "start_time": "2025-05-18T10:02:58.834Z"
      },
      {
        "duration": 5,
        "start_time": "2025-05-18T10:03:00.593Z"
      },
      {
        "duration": 3,
        "start_time": "2025-05-18T10:03:02.737Z"
      },
      {
        "duration": 18,
        "start_time": "2025-05-18T10:03:03.489Z"
      },
      {
        "duration": 10,
        "start_time": "2025-05-18T10:03:05.105Z"
      },
      {
        "duration": 4,
        "start_time": "2025-05-18T10:05:03.233Z"
      },
      {
        "duration": 25,
        "start_time": "2025-05-18T10:05:05.073Z"
      },
      {
        "duration": 12,
        "start_time": "2025-05-18T10:05:07.881Z"
      },
      {
        "duration": 11,
        "start_time": "2025-05-18T10:05:08.713Z"
      },
      {
        "duration": 20,
        "start_time": "2025-05-18T10:05:10.201Z"
      },
      {
        "duration": 4,
        "start_time": "2025-05-18T10:05:20.433Z"
      },
      {
        "duration": 48,
        "start_time": "2025-05-18T10:09:16.202Z"
      },
      {
        "duration": 18,
        "start_time": "2025-05-18T10:10:40.904Z"
      },
      {
        "duration": 3,
        "start_time": "2025-05-18T10:10:58.065Z"
      },
      {
        "duration": 21,
        "start_time": "2025-05-18T10:13:19.160Z"
      },
      {
        "duration": 3,
        "start_time": "2025-05-18T10:13:46.072Z"
      },
      {
        "duration": 3,
        "start_time": "2025-05-18T10:13:46.888Z"
      },
      {
        "duration": 19,
        "start_time": "2025-05-18T10:13:56.952Z"
      },
      {
        "duration": 3,
        "start_time": "2025-05-18T10:13:58.424Z"
      },
      {
        "duration": 3,
        "start_time": "2025-05-18T10:14:00.072Z"
      },
      {
        "duration": 5,
        "start_time": "2025-05-18T10:14:00.639Z"
      },
      {
        "duration": 69,
        "start_time": "2025-05-18T10:17:07.591Z"
      },
      {
        "duration": 2,
        "start_time": "2025-05-18T10:17:22.024Z"
      },
      {
        "duration": 85,
        "start_time": "2025-05-18T10:17:22.903Z"
      },
      {
        "duration": 20,
        "start_time": "2025-05-18T10:17:23.743Z"
      },
      {
        "duration": 15,
        "start_time": "2025-05-18T10:17:25.479Z"
      },
      {
        "duration": 12,
        "start_time": "2025-05-18T10:17:41.312Z"
      },
      {
        "duration": 12,
        "start_time": "2025-05-18T10:17:42.615Z"
      },
      {
        "duration": 4,
        "start_time": "2025-05-18T10:17:45.471Z"
      },
      {
        "duration": 5,
        "start_time": "2025-05-18T10:17:46.471Z"
      },
      {
        "duration": 4,
        "start_time": "2025-05-18T10:17:48.271Z"
      },
      {
        "duration": 2,
        "start_time": "2025-05-18T10:17:49.735Z"
      },
      {
        "duration": 14,
        "start_time": "2025-05-18T10:17:50.519Z"
      },
      {
        "duration": 18,
        "start_time": "2025-05-18T10:17:51.407Z"
      },
      {
        "duration": 15,
        "start_time": "2025-05-18T10:17:56.679Z"
      },
      {
        "duration": 3,
        "start_time": "2025-05-18T10:17:59.398Z"
      },
      {
        "duration": 8,
        "start_time": "2025-05-18T10:18:00.135Z"
      },
      {
        "duration": 3,
        "start_time": "2025-05-18T10:18:00.823Z"
      },
      {
        "duration": 3,
        "start_time": "2025-05-18T10:18:01.367Z"
      },
      {
        "duration": 6,
        "start_time": "2025-05-18T10:18:02.647Z"
      },
      {
        "duration": 6,
        "start_time": "2025-05-18T10:18:08.919Z"
      },
      {
        "duration": 5,
        "start_time": "2025-05-18T10:18:23.279Z"
      },
      {
        "duration": 4,
        "start_time": "2025-05-18T10:18:25.080Z"
      },
      {
        "duration": 3,
        "start_time": "2025-05-18T10:18:27.415Z"
      },
      {
        "duration": 28,
        "start_time": "2025-05-18T10:18:28.088Z"
      },
      {
        "duration": 15,
        "start_time": "2025-05-18T10:18:29.199Z"
      },
      {
        "duration": 5,
        "start_time": "2025-05-18T10:18:31.431Z"
      },
      {
        "duration": 25,
        "start_time": "2025-05-18T10:18:34.303Z"
      },
      {
        "duration": 11,
        "start_time": "2025-05-18T10:19:52.024Z"
      },
      {
        "duration": 11,
        "start_time": "2025-05-18T10:19:53.407Z"
      },
      {
        "duration": 18,
        "start_time": "2025-05-18T10:19:58.871Z"
      },
      {
        "duration": 8,
        "start_time": "2025-05-18T10:20:01.383Z"
      },
      {
        "duration": 4,
        "start_time": "2025-05-18T10:20:07.206Z"
      },
      {
        "duration": 3,
        "start_time": "2025-05-18T10:20:17.760Z"
      },
      {
        "duration": 11,
        "start_time": "2025-05-18T10:20:18.398Z"
      },
      {
        "duration": 3,
        "start_time": "2025-05-18T10:20:21.167Z"
      },
      {
        "duration": 23,
        "start_time": "2025-05-18T10:20:22.678Z"
      },
      {
        "duration": 2,
        "start_time": "2025-05-18T10:20:23.431Z"
      },
      {
        "duration": 4,
        "start_time": "2025-05-18T10:20:24.070Z"
      },
      {
        "duration": 446,
        "start_time": "2025-05-18T10:21:41.058Z"
      },
      {
        "duration": 78,
        "start_time": "2025-05-18T10:21:42.002Z"
      },
      {
        "duration": 18,
        "start_time": "2025-05-18T10:21:42.834Z"
      },
      {
        "duration": 23,
        "start_time": "2025-05-18T10:21:44.299Z"
      },
      {
        "duration": 16,
        "start_time": "2025-05-18T10:21:45.753Z"
      },
      {
        "duration": 23,
        "start_time": "2025-05-18T10:21:47.233Z"
      },
      {
        "duration": 4,
        "start_time": "2025-05-18T10:21:49.626Z"
      },
      {
        "duration": 5,
        "start_time": "2025-05-18T10:21:50.594Z"
      },
      {
        "duration": 4,
        "start_time": "2025-05-18T10:21:53.299Z"
      },
      {
        "duration": 3,
        "start_time": "2025-05-18T10:21:54.450Z"
      },
      {
        "duration": 24,
        "start_time": "2025-05-18T10:21:55.618Z"
      },
      {
        "duration": 30,
        "start_time": "2025-05-18T10:21:56.251Z"
      },
      {
        "duration": 22,
        "start_time": "2025-05-18T10:21:57.634Z"
      },
      {
        "duration": 3,
        "start_time": "2025-05-18T10:22:00.513Z"
      },
      {
        "duration": 9,
        "start_time": "2025-05-18T10:22:01.257Z"
      },
      {
        "duration": 6,
        "start_time": "2025-05-18T10:22:01.786Z"
      },
      {
        "duration": 4,
        "start_time": "2025-05-18T10:22:02.353Z"
      },
      {
        "duration": 6,
        "start_time": "2025-05-18T10:22:04.225Z"
      },
      {
        "duration": 4,
        "start_time": "2025-05-18T10:22:16.410Z"
      },
      {
        "duration": 6,
        "start_time": "2025-05-18T10:22:17.529Z"
      },
      {
        "duration": 3,
        "start_time": "2025-05-18T10:22:19.386Z"
      },
      {
        "duration": 19,
        "start_time": "2025-05-18T10:22:20.018Z"
      },
      {
        "duration": 10,
        "start_time": "2025-05-18T10:22:22.313Z"
      },
      {
        "duration": 4,
        "start_time": "2025-05-18T10:22:34.794Z"
      },
      {
        "duration": 28,
        "start_time": "2025-05-18T10:22:36.865Z"
      },
      {
        "duration": 13,
        "start_time": "2025-05-18T10:22:42.505Z"
      },
      {
        "duration": 13,
        "start_time": "2025-05-18T10:22:43.553Z"
      },
      {
        "duration": 20,
        "start_time": "2025-05-18T10:22:45.001Z"
      },
      {
        "duration": 9,
        "start_time": "2025-05-18T10:22:46.817Z"
      },
      {
        "duration": 3,
        "start_time": "2025-05-18T10:22:55.274Z"
      },
      {
        "duration": 3,
        "start_time": "2025-05-18T10:23:01.009Z"
      },
      {
        "duration": 14,
        "start_time": "2025-05-18T10:23:01.890Z"
      },
      {
        "duration": 7,
        "start_time": "2025-05-18T10:23:04.410Z"
      },
      {
        "duration": 22,
        "start_time": "2025-05-18T10:23:14.313Z"
      },
      {
        "duration": 3,
        "start_time": "2025-05-18T10:23:19.913Z"
      },
      {
        "duration": 4,
        "start_time": "2025-05-18T10:23:21.802Z"
      },
      {
        "duration": 20,
        "start_time": "2025-05-18T10:23:31.145Z"
      },
      {
        "duration": 3,
        "start_time": "2025-05-18T10:23:32.594Z"
      },
      {
        "duration": 3,
        "start_time": "2025-05-18T10:23:33.609Z"
      },
      {
        "duration": 5,
        "start_time": "2025-05-18T10:23:34.233Z"
      },
      {
        "duration": 20,
        "start_time": "2025-05-18T10:23:55.570Z"
      },
      {
        "duration": 24,
        "start_time": "2025-05-18T10:23:56.617Z"
      },
      {
        "duration": 20,
        "start_time": "2025-05-18T10:24:10.593Z"
      },
      {
        "duration": 9,
        "start_time": "2025-05-18T10:24:11.425Z"
      },
      {
        "duration": 3,
        "start_time": "2025-05-18T10:24:21.698Z"
      },
      {
        "duration": 3,
        "start_time": "2025-05-18T10:24:24.121Z"
      },
      {
        "duration": 7,
        "start_time": "2025-05-18T10:24:24.825Z"
      },
      {
        "duration": 5,
        "start_time": "2025-05-18T10:24:25.993Z"
      },
      {
        "duration": 5,
        "start_time": "2025-05-18T10:24:26.761Z"
      },
      {
        "duration": 6,
        "start_time": "2025-05-18T10:25:04.041Z"
      },
      {
        "duration": 410,
        "start_time": "2025-05-18T10:26:39.947Z"
      },
      {
        "duration": 96,
        "start_time": "2025-05-18T10:26:40.843Z"
      },
      {
        "duration": 22,
        "start_time": "2025-05-18T10:26:41.755Z"
      },
      {
        "duration": 24,
        "start_time": "2025-05-18T10:26:44.491Z"
      },
      {
        "duration": 18,
        "start_time": "2025-05-18T10:26:46.715Z"
      },
      {
        "duration": 16,
        "start_time": "2025-05-18T10:26:48.146Z"
      },
      {
        "duration": 4,
        "start_time": "2025-05-18T10:26:52.355Z"
      },
      {
        "duration": 6,
        "start_time": "2025-05-18T10:26:53.243Z"
      },
      {
        "duration": 4,
        "start_time": "2025-05-18T10:26:54.682Z"
      },
      {
        "duration": 4,
        "start_time": "2025-05-18T10:26:55.915Z"
      },
      {
        "duration": 21,
        "start_time": "2025-05-18T10:26:56.556Z"
      },
      {
        "duration": 28,
        "start_time": "2025-05-18T10:26:57.066Z"
      },
      {
        "duration": 23,
        "start_time": "2025-05-18T10:26:58.435Z"
      },
      {
        "duration": 3,
        "start_time": "2025-05-18T10:27:01.259Z"
      },
      {
        "duration": 9,
        "start_time": "2025-05-18T10:27:02.242Z"
      },
      {
        "duration": 4,
        "start_time": "2025-05-18T10:27:02.747Z"
      },
      {
        "duration": 5,
        "start_time": "2025-05-18T10:27:03.187Z"
      },
      {
        "duration": 6,
        "start_time": "2025-05-18T10:27:03.747Z"
      },
      {
        "duration": 5,
        "start_time": "2025-05-18T10:27:07.067Z"
      },
      {
        "duration": 5,
        "start_time": "2025-05-18T10:27:12.795Z"
      },
      {
        "duration": 3,
        "start_time": "2025-05-18T10:27:17.434Z"
      },
      {
        "duration": 19,
        "start_time": "2025-05-18T10:27:18.234Z"
      },
      {
        "duration": 14,
        "start_time": "2025-05-18T10:27:28.996Z"
      },
      {
        "duration": 455,
        "start_time": "2025-05-18T10:28:30.522Z"
      },
      {
        "duration": 95,
        "start_time": "2025-05-18T10:28:31.642Z"
      },
      {
        "duration": 18,
        "start_time": "2025-05-18T10:28:32.497Z"
      },
      {
        "duration": 30,
        "start_time": "2025-05-18T10:28:33.986Z"
      },
      {
        "duration": 15,
        "start_time": "2025-05-18T10:28:35.625Z"
      },
      {
        "duration": 14,
        "start_time": "2025-05-18T10:28:36.554Z"
      },
      {
        "duration": 4,
        "start_time": "2025-05-18T10:28:39.401Z"
      },
      {
        "duration": 5,
        "start_time": "2025-05-18T10:28:40.202Z"
      },
      {
        "duration": 6,
        "start_time": "2025-05-18T10:28:42.018Z"
      },
      {
        "duration": 4,
        "start_time": "2025-05-18T10:28:43.282Z"
      },
      {
        "duration": 14,
        "start_time": "2025-05-18T10:28:43.969Z"
      },
      {
        "duration": 29,
        "start_time": "2025-05-18T10:28:44.594Z"
      },
      {
        "duration": 14,
        "start_time": "2025-05-18T10:28:46.658Z"
      },
      {
        "duration": 11,
        "start_time": "2025-05-18T10:29:05.210Z"
      },
      {
        "duration": 17,
        "start_time": "2025-05-18T10:29:06.757Z"
      },
      {
        "duration": 4,
        "start_time": "2025-05-18T10:29:09.603Z"
      },
      {
        "duration": 6,
        "start_time": "2025-05-18T10:29:10.729Z"
      },
      {
        "duration": 4,
        "start_time": "2025-05-18T10:29:12.514Z"
      },
      {
        "duration": 3,
        "start_time": "2025-05-18T10:29:14.202Z"
      },
      {
        "duration": 6,
        "start_time": "2025-05-18T10:29:14.873Z"
      },
      {
        "duration": 6,
        "start_time": "2025-05-18T10:29:15.354Z"
      },
      {
        "duration": 16,
        "start_time": "2025-05-18T10:29:16.817Z"
      },
      {
        "duration": 3,
        "start_time": "2025-05-18T10:29:19.505Z"
      },
      {
        "duration": 12,
        "start_time": "2025-05-18T10:29:20.762Z"
      },
      {
        "duration": 5,
        "start_time": "2025-05-18T10:29:21.585Z"
      },
      {
        "duration": 5,
        "start_time": "2025-05-18T10:29:22.266Z"
      },
      {
        "duration": 6,
        "start_time": "2025-05-18T10:29:22.778Z"
      },
      {
        "duration": 5,
        "start_time": "2025-05-18T10:29:28.001Z"
      },
      {
        "duration": 5,
        "start_time": "2025-05-18T10:29:29.467Z"
      },
      {
        "duration": 3,
        "start_time": "2025-05-18T10:29:38.682Z"
      },
      {
        "duration": 26,
        "start_time": "2025-05-18T10:29:39.441Z"
      },
      {
        "duration": 14,
        "start_time": "2025-05-18T10:29:40.314Z"
      },
      {
        "duration": 421,
        "start_time": "2025-05-18T10:33:53.473Z"
      },
      {
        "duration": 152,
        "start_time": "2025-05-18T10:33:54.282Z"
      },
      {
        "duration": 17,
        "start_time": "2025-05-18T10:33:55.009Z"
      },
      {
        "duration": 19,
        "start_time": "2025-05-18T10:33:56.658Z"
      },
      {
        "duration": 12,
        "start_time": "2025-05-18T10:33:58.089Z"
      },
      {
        "duration": 13,
        "start_time": "2025-05-18T10:33:59.097Z"
      },
      {
        "duration": 4,
        "start_time": "2025-05-18T10:34:01.561Z"
      },
      {
        "duration": 4,
        "start_time": "2025-05-18T10:34:03.018Z"
      },
      {
        "duration": 4,
        "start_time": "2025-05-18T10:34:04.602Z"
      },
      {
        "duration": 2,
        "start_time": "2025-05-18T10:34:06.777Z"
      },
      {
        "duration": 14,
        "start_time": "2025-05-18T10:34:07.449Z"
      },
      {
        "duration": 18,
        "start_time": "2025-05-18T10:34:07.930Z"
      },
      {
        "duration": 15,
        "start_time": "2025-05-18T10:34:09.161Z"
      },
      {
        "duration": 2,
        "start_time": "2025-05-18T10:34:11.170Z"
      },
      {
        "duration": 7,
        "start_time": "2025-05-18T10:34:11.945Z"
      },
      {
        "duration": 3,
        "start_time": "2025-05-18T10:34:12.586Z"
      },
      {
        "duration": 3,
        "start_time": "2025-05-18T10:34:13.929Z"
      },
      {
        "duration": 5,
        "start_time": "2025-05-18T10:34:14.601Z"
      },
      {
        "duration": 6,
        "start_time": "2025-05-18T10:34:19.402Z"
      },
      {
        "duration": 5,
        "start_time": "2025-05-18T10:34:21.537Z"
      },
      {
        "duration": 4,
        "start_time": "2025-05-18T10:34:23.601Z"
      },
      {
        "duration": 141,
        "start_time": "2025-05-18T10:34:24.417Z"
      },
      {
        "duration": 8,
        "start_time": "2025-05-18T10:34:46.809Z"
      },
      {
        "duration": 456,
        "start_time": "2025-05-18T10:37:24.017Z"
      },
      {
        "duration": 82,
        "start_time": "2025-05-18T10:37:24.920Z"
      },
      {
        "duration": 17,
        "start_time": "2025-05-18T10:37:25.353Z"
      },
      {
        "duration": 27,
        "start_time": "2025-05-18T10:37:26.793Z"
      },
      {
        "duration": 11,
        "start_time": "2025-05-18T10:37:28.257Z"
      },
      {
        "duration": 13,
        "start_time": "2025-05-18T10:37:29.185Z"
      },
      {
        "duration": 4,
        "start_time": "2025-05-18T10:37:31.529Z"
      },
      {
        "duration": 4,
        "start_time": "2025-05-18T10:37:33.521Z"
      },
      {
        "duration": 4,
        "start_time": "2025-05-18T10:37:36.361Z"
      },
      {
        "duration": 3,
        "start_time": "2025-05-18T10:37:38.760Z"
      },
      {
        "duration": 15,
        "start_time": "2025-05-18T10:37:39.416Z"
      },
      {
        "duration": 19,
        "start_time": "2025-05-18T10:37:40.529Z"
      },
      {
        "duration": 15,
        "start_time": "2025-05-18T10:37:42.456Z"
      },
      {
        "duration": 3,
        "start_time": "2025-05-18T10:37:45.729Z"
      },
      {
        "duration": 9,
        "start_time": "2025-05-18T10:37:46.472Z"
      },
      {
        "duration": 3,
        "start_time": "2025-05-18T10:37:47.065Z"
      },
      {
        "duration": 3,
        "start_time": "2025-05-18T10:37:47.918Z"
      },
      {
        "duration": 5,
        "start_time": "2025-05-18T10:37:51.521Z"
      },
      {
        "duration": 5,
        "start_time": "2025-05-18T10:37:53.801Z"
      },
      {
        "duration": 3,
        "start_time": "2025-05-18T10:37:55.201Z"
      },
      {
        "duration": 10,
        "start_time": "2025-05-18T10:37:56.721Z"
      },
      {
        "duration": 69,
        "start_time": "2025-05-18T10:38:35.073Z"
      },
      {
        "duration": 8,
        "start_time": "2025-05-18T10:39:40.657Z"
      },
      {
        "duration": 410,
        "start_time": "2025-05-18T10:39:53.894Z"
      },
      {
        "duration": 83,
        "start_time": "2025-05-18T10:39:54.306Z"
      },
      {
        "duration": 31,
        "start_time": "2025-05-18T10:39:54.392Z"
      },
      {
        "duration": 35,
        "start_time": "2025-05-18T10:39:54.426Z"
      },
      {
        "duration": 15,
        "start_time": "2025-05-18T10:39:54.464Z"
      },
      {
        "duration": 28,
        "start_time": "2025-05-18T10:39:54.481Z"
      },
      {
        "duration": 14,
        "start_time": "2025-05-18T10:39:54.511Z"
      },
      {
        "duration": 23,
        "start_time": "2025-05-18T10:39:54.527Z"
      },
      {
        "duration": 21,
        "start_time": "2025-05-18T10:39:54.552Z"
      },
      {
        "duration": 12,
        "start_time": "2025-05-18T10:39:54.575Z"
      },
      {
        "duration": 22,
        "start_time": "2025-05-18T10:39:54.589Z"
      },
      {
        "duration": 41,
        "start_time": "2025-05-18T10:39:54.613Z"
      },
      {
        "duration": 18,
        "start_time": "2025-05-18T10:39:54.656Z"
      },
      {
        "duration": 4,
        "start_time": "2025-05-18T10:39:54.678Z"
      },
      {
        "duration": 31,
        "start_time": "2025-05-18T10:39:54.684Z"
      },
      {
        "duration": 36,
        "start_time": "2025-05-18T10:39:54.717Z"
      },
      {
        "duration": 10,
        "start_time": "2025-05-18T10:39:54.754Z"
      },
      {
        "duration": 6,
        "start_time": "2025-05-18T10:39:54.766Z"
      },
      {
        "duration": 13,
        "start_time": "2025-05-18T10:39:54.774Z"
      },
      {
        "duration": 17,
        "start_time": "2025-05-18T10:39:54.789Z"
      },
      {
        "duration": 136,
        "start_time": "2025-05-18T10:39:54.808Z"
      },
      {
        "duration": 0,
        "start_time": "2025-05-18T10:39:54.946Z"
      },
      {
        "duration": 0,
        "start_time": "2025-05-18T10:39:54.947Z"
      },
      {
        "duration": 0,
        "start_time": "2025-05-18T10:39:54.948Z"
      },
      {
        "duration": 0,
        "start_time": "2025-05-18T10:39:54.949Z"
      },
      {
        "duration": 0,
        "start_time": "2025-05-18T10:39:54.950Z"
      },
      {
        "duration": 0,
        "start_time": "2025-05-18T10:39:54.951Z"
      },
      {
        "duration": 0,
        "start_time": "2025-05-18T10:39:54.952Z"
      },
      {
        "duration": 0,
        "start_time": "2025-05-18T10:39:54.953Z"
      },
      {
        "duration": 0,
        "start_time": "2025-05-18T10:39:54.954Z"
      },
      {
        "duration": 0,
        "start_time": "2025-05-18T10:39:54.955Z"
      },
      {
        "duration": 0,
        "start_time": "2025-05-18T10:39:54.956Z"
      },
      {
        "duration": 0,
        "start_time": "2025-05-18T10:39:54.957Z"
      },
      {
        "duration": 0,
        "start_time": "2025-05-18T10:39:54.958Z"
      },
      {
        "duration": 0,
        "start_time": "2025-05-18T10:39:54.959Z"
      },
      {
        "duration": 0,
        "start_time": "2025-05-18T10:39:54.960Z"
      },
      {
        "duration": 0,
        "start_time": "2025-05-18T10:39:54.961Z"
      },
      {
        "duration": 0,
        "start_time": "2025-05-18T10:39:54.962Z"
      },
      {
        "duration": 0,
        "start_time": "2025-05-18T10:39:54.964Z"
      },
      {
        "duration": 0,
        "start_time": "2025-05-18T10:39:54.966Z"
      },
      {
        "duration": 0,
        "start_time": "2025-05-18T10:39:54.967Z"
      },
      {
        "duration": 0,
        "start_time": "2025-05-18T10:39:54.968Z"
      },
      {
        "duration": 0,
        "start_time": "2025-05-18T10:39:54.970Z"
      },
      {
        "duration": 0,
        "start_time": "2025-05-18T10:39:54.971Z"
      },
      {
        "duration": 0,
        "start_time": "2025-05-18T10:39:54.973Z"
      },
      {
        "duration": 0,
        "start_time": "2025-05-18T10:39:54.974Z"
      },
      {
        "duration": 0,
        "start_time": "2025-05-18T10:39:54.975Z"
      },
      {
        "duration": 0,
        "start_time": "2025-05-18T10:39:54.977Z"
      },
      {
        "duration": 0,
        "start_time": "2025-05-18T10:39:54.978Z"
      },
      {
        "duration": 445,
        "start_time": "2025-05-18T10:41:27.603Z"
      },
      {
        "duration": 77,
        "start_time": "2025-05-18T10:41:28.050Z"
      },
      {
        "duration": 17,
        "start_time": "2025-05-18T10:41:28.129Z"
      },
      {
        "duration": 22,
        "start_time": "2025-05-18T10:41:28.147Z"
      },
      {
        "duration": 12,
        "start_time": "2025-05-18T10:41:28.172Z"
      },
      {
        "duration": 16,
        "start_time": "2025-05-18T10:41:28.185Z"
      },
      {
        "duration": 33,
        "start_time": "2025-05-18T10:41:28.203Z"
      },
      {
        "duration": 8,
        "start_time": "2025-05-18T10:41:28.238Z"
      },
      {
        "duration": 5,
        "start_time": "2025-05-18T10:41:28.248Z"
      },
      {
        "duration": 4,
        "start_time": "2025-05-18T10:41:28.255Z"
      },
      {
        "duration": 16,
        "start_time": "2025-05-18T10:41:28.261Z"
      },
      {
        "duration": 18,
        "start_time": "2025-05-18T10:41:28.279Z"
      },
      {
        "duration": 46,
        "start_time": "2025-05-18T10:41:28.298Z"
      },
      {
        "duration": 3,
        "start_time": "2025-05-18T10:41:28.347Z"
      },
      {
        "duration": 17,
        "start_time": "2025-05-18T10:41:28.351Z"
      },
      {
        "duration": 15,
        "start_time": "2025-05-18T10:41:28.370Z"
      },
      {
        "duration": 13,
        "start_time": "2025-05-18T10:41:28.387Z"
      },
      {
        "duration": 14,
        "start_time": "2025-05-18T10:41:28.402Z"
      },
      {
        "duration": 13,
        "start_time": "2025-05-18T10:41:28.418Z"
      },
      {
        "duration": 6,
        "start_time": "2025-05-18T10:41:28.432Z"
      },
      {
        "duration": 12,
        "start_time": "2025-05-18T10:41:28.439Z"
      },
      {
        "duration": 14,
        "start_time": "2025-05-18T10:41:28.453Z"
      },
      {
        "duration": 6,
        "start_time": "2025-05-18T10:41:28.469Z"
      },
      {
        "duration": 29,
        "start_time": "2025-05-18T10:41:28.476Z"
      },
      {
        "duration": 11,
        "start_time": "2025-05-18T10:41:28.507Z"
      },
      {
        "duration": 20,
        "start_time": "2025-05-18T10:41:28.520Z"
      },
      {
        "duration": 28,
        "start_time": "2025-05-18T10:41:28.542Z"
      },
      {
        "duration": 9,
        "start_time": "2025-05-18T10:41:28.571Z"
      },
      {
        "duration": 4,
        "start_time": "2025-05-18T10:41:28.582Z"
      },
      {
        "duration": 3,
        "start_time": "2025-05-18T10:41:28.587Z"
      },
      {
        "duration": 10,
        "start_time": "2025-05-18T10:41:28.592Z"
      },
      {
        "duration": 3,
        "start_time": "2025-05-18T10:41:28.636Z"
      },
      {
        "duration": 22,
        "start_time": "2025-05-18T10:41:28.641Z"
      },
      {
        "duration": 2,
        "start_time": "2025-05-18T10:41:28.665Z"
      },
      {
        "duration": 13,
        "start_time": "2025-05-18T10:41:28.669Z"
      },
      {
        "duration": 21,
        "start_time": "2025-05-18T10:41:28.683Z"
      },
      {
        "duration": 2,
        "start_time": "2025-05-18T10:41:28.706Z"
      },
      {
        "duration": 3,
        "start_time": "2025-05-18T10:41:28.737Z"
      },
      {
        "duration": 5,
        "start_time": "2025-05-18T10:41:28.741Z"
      },
      {
        "duration": 14,
        "start_time": "2025-05-18T10:41:28.747Z"
      },
      {
        "duration": 22,
        "start_time": "2025-05-18T10:41:28.764Z"
      },
      {
        "duration": 55,
        "start_time": "2025-05-18T10:41:28.788Z"
      },
      {
        "duration": 5,
        "start_time": "2025-05-18T10:41:28.845Z"
      },
      {
        "duration": 4,
        "start_time": "2025-05-18T10:41:28.852Z"
      },
      {
        "duration": 4,
        "start_time": "2025-05-18T10:41:28.858Z"
      },
      {
        "duration": 7,
        "start_time": "2025-05-18T10:41:28.864Z"
      },
      {
        "duration": 23,
        "start_time": "2025-05-18T10:41:28.872Z"
      },
      {
        "duration": 20,
        "start_time": "2025-05-18T10:41:28.897Z"
      },
      {
        "duration": 19,
        "start_time": "2025-05-18T10:41:28.918Z"
      },
      {
        "duration": 475,
        "start_time": "2025-05-18T10:48:45.382Z"
      },
      {
        "duration": 191,
        "start_time": "2025-05-18T10:48:45.860Z"
      },
      {
        "duration": 17,
        "start_time": "2025-05-18T10:48:46.053Z"
      },
      {
        "duration": 154,
        "start_time": "2025-05-18T10:48:46.072Z"
      },
      {
        "duration": 29,
        "start_time": "2025-05-18T10:48:46.228Z"
      },
      {
        "duration": 17,
        "start_time": "2025-05-18T10:48:46.259Z"
      },
      {
        "duration": 24,
        "start_time": "2025-05-18T10:48:46.277Z"
      },
      {
        "duration": 60,
        "start_time": "2025-05-18T10:48:46.302Z"
      },
      {
        "duration": 13,
        "start_time": "2025-05-18T10:48:46.364Z"
      },
      {
        "duration": 18,
        "start_time": "2025-05-18T10:48:46.379Z"
      },
      {
        "duration": 26,
        "start_time": "2025-05-18T10:48:46.399Z"
      },
      {
        "duration": 34,
        "start_time": "2025-05-18T10:48:46.428Z"
      },
      {
        "duration": 23,
        "start_time": "2025-05-18T10:48:46.464Z"
      },
      {
        "duration": 2,
        "start_time": "2025-05-18T10:48:46.490Z"
      },
      {
        "duration": 32,
        "start_time": "2025-05-18T10:48:46.494Z"
      },
      {
        "duration": 32,
        "start_time": "2025-05-18T10:48:46.529Z"
      },
      {
        "duration": 16,
        "start_time": "2025-05-18T10:48:46.563Z"
      },
      {
        "duration": 13,
        "start_time": "2025-05-18T10:48:46.581Z"
      },
      {
        "duration": 16,
        "start_time": "2025-05-18T10:48:46.596Z"
      },
      {
        "duration": 26,
        "start_time": "2025-05-18T10:48:46.614Z"
      },
      {
        "duration": 21,
        "start_time": "2025-05-18T10:48:46.642Z"
      },
      {
        "duration": 14,
        "start_time": "2025-05-18T10:48:46.664Z"
      },
      {
        "duration": 20,
        "start_time": "2025-05-18T10:48:46.680Z"
      },
      {
        "duration": 49,
        "start_time": "2025-05-18T10:48:46.702Z"
      },
      {
        "duration": 12,
        "start_time": "2025-05-18T10:48:46.753Z"
      },
      {
        "duration": 31,
        "start_time": "2025-05-18T10:48:46.766Z"
      },
      {
        "duration": 38,
        "start_time": "2025-05-18T10:48:46.799Z"
      },
      {
        "duration": 61,
        "start_time": "2025-05-18T10:48:46.839Z"
      },
      {
        "duration": 35,
        "start_time": "2025-05-18T10:48:46.902Z"
      },
      {
        "duration": 14,
        "start_time": "2025-05-18T10:48:46.938Z"
      },
      {
        "duration": 21,
        "start_time": "2025-05-18T10:48:46.954Z"
      },
      {
        "duration": 3,
        "start_time": "2025-05-18T10:48:46.977Z"
      },
      {
        "duration": 29,
        "start_time": "2025-05-18T10:48:46.982Z"
      },
      {
        "duration": 3,
        "start_time": "2025-05-18T10:48:47.012Z"
      },
      {
        "duration": 27,
        "start_time": "2025-05-18T10:48:47.016Z"
      },
      {
        "duration": 27,
        "start_time": "2025-05-18T10:48:47.044Z"
      },
      {
        "duration": 2,
        "start_time": "2025-05-18T10:48:47.073Z"
      },
      {
        "duration": 27,
        "start_time": "2025-05-18T10:48:47.077Z"
      },
      {
        "duration": 31,
        "start_time": "2025-05-18T10:48:47.106Z"
      },
      {
        "duration": 48,
        "start_time": "2025-05-18T10:48:47.139Z"
      },
      {
        "duration": 47,
        "start_time": "2025-05-18T10:48:47.191Z"
      },
      {
        "duration": 25,
        "start_time": "2025-05-18T10:48:47.240Z"
      },
      {
        "duration": 124,
        "start_time": "2025-05-18T10:48:47.266Z"
      },
      {
        "duration": 22,
        "start_time": "2025-05-18T10:48:47.392Z"
      },
      {
        "duration": 10,
        "start_time": "2025-05-18T10:48:47.416Z"
      },
      {
        "duration": 14,
        "start_time": "2025-05-18T10:48:47.428Z"
      },
      {
        "duration": 6,
        "start_time": "2025-05-18T10:48:47.444Z"
      },
      {
        "duration": 6,
        "start_time": "2025-05-18T10:48:47.452Z"
      },
      {
        "duration": 10,
        "start_time": "2025-05-18T10:48:47.460Z"
      },
      {
        "duration": 19,
        "start_time": "2025-05-18T10:50:39.562Z"
      },
      {
        "duration": 8,
        "start_time": "2025-05-18T10:50:44.322Z"
      },
      {
        "duration": 14,
        "start_time": "2025-05-18T10:50:56.297Z"
      },
      {
        "duration": 435,
        "start_time": "2025-05-18T10:51:18.516Z"
      },
      {
        "duration": 187,
        "start_time": "2025-05-18T10:51:18.953Z"
      },
      {
        "duration": 19,
        "start_time": "2025-05-18T10:51:19.142Z"
      },
      {
        "duration": 22,
        "start_time": "2025-05-18T10:51:19.163Z"
      },
      {
        "duration": 12,
        "start_time": "2025-05-18T10:51:19.188Z"
      },
      {
        "duration": 44,
        "start_time": "2025-05-18T10:51:19.202Z"
      },
      {
        "duration": 3,
        "start_time": "2025-05-18T10:51:19.248Z"
      },
      {
        "duration": 10,
        "start_time": "2025-05-18T10:51:19.253Z"
      },
      {
        "duration": 6,
        "start_time": "2025-05-18T10:51:19.265Z"
      },
      {
        "duration": 70,
        "start_time": "2025-05-18T10:51:19.273Z"
      },
      {
        "duration": 43,
        "start_time": "2025-05-18T10:51:19.345Z"
      },
      {
        "duration": 17,
        "start_time": "2025-05-18T10:51:19.390Z"
      },
      {
        "duration": 15,
        "start_time": "2025-05-18T10:51:19.409Z"
      },
      {
        "duration": 3,
        "start_time": "2025-05-18T10:51:19.427Z"
      },
      {
        "duration": 13,
        "start_time": "2025-05-18T10:51:19.431Z"
      },
      {
        "duration": 6,
        "start_time": "2025-05-18T10:51:19.446Z"
      },
      {
        "duration": 6,
        "start_time": "2025-05-18T10:51:19.453Z"
      },
      {
        "duration": 6,
        "start_time": "2025-05-18T10:51:19.461Z"
      },
      {
        "duration": 8,
        "start_time": "2025-05-18T10:51:19.469Z"
      },
      {
        "duration": 11,
        "start_time": "2025-05-18T10:51:19.478Z"
      },
      {
        "duration": 21,
        "start_time": "2025-05-18T10:51:19.490Z"
      },
      {
        "duration": 27,
        "start_time": "2025-05-18T10:51:19.513Z"
      },
      {
        "duration": 16,
        "start_time": "2025-05-18T10:51:19.542Z"
      },
      {
        "duration": 4,
        "start_time": "2025-05-18T10:51:19.560Z"
      },
      {
        "duration": 26,
        "start_time": "2025-05-18T10:51:19.565Z"
      },
      {
        "duration": 11,
        "start_time": "2025-05-18T10:51:19.593Z"
      },
      {
        "duration": 39,
        "start_time": "2025-05-18T10:51:19.606Z"
      },
      {
        "duration": 20,
        "start_time": "2025-05-18T10:51:19.647Z"
      },
      {
        "duration": 8,
        "start_time": "2025-05-18T10:51:19.668Z"
      },
      {
        "duration": 9,
        "start_time": "2025-05-18T10:51:19.677Z"
      },
      {
        "duration": 9,
        "start_time": "2025-05-18T10:51:19.687Z"
      },
      {
        "duration": 43,
        "start_time": "2025-05-18T10:51:19.697Z"
      },
      {
        "duration": 3,
        "start_time": "2025-05-18T10:51:19.742Z"
      },
      {
        "duration": 26,
        "start_time": "2025-05-18T10:51:19.747Z"
      },
      {
        "duration": 2,
        "start_time": "2025-05-18T10:51:19.775Z"
      },
      {
        "duration": 26,
        "start_time": "2025-05-18T10:51:19.779Z"
      },
      {
        "duration": 31,
        "start_time": "2025-05-18T10:51:19.806Z"
      },
      {
        "duration": 2,
        "start_time": "2025-05-18T10:51:19.839Z"
      },
      {
        "duration": 7,
        "start_time": "2025-05-18T10:51:19.842Z"
      },
      {
        "duration": 6,
        "start_time": "2025-05-18T10:51:19.851Z"
      },
      {
        "duration": 17,
        "start_time": "2025-05-18T10:51:19.861Z"
      },
      {
        "duration": 28,
        "start_time": "2025-05-18T10:51:19.880Z"
      },
      {
        "duration": 37,
        "start_time": "2025-05-18T10:51:19.909Z"
      },
      {
        "duration": 6,
        "start_time": "2025-05-18T10:51:19.948Z"
      },
      {
        "duration": 7,
        "start_time": "2025-05-18T10:51:19.956Z"
      },
      {
        "duration": 4,
        "start_time": "2025-05-18T10:51:19.964Z"
      },
      {
        "duration": 11,
        "start_time": "2025-05-18T10:51:19.969Z"
      },
      {
        "duration": 6,
        "start_time": "2025-05-18T10:51:19.981Z"
      },
      {
        "duration": 48,
        "start_time": "2025-05-18T10:51:19.989Z"
      },
      {
        "duration": 16,
        "start_time": "2025-05-18T10:51:20.039Z"
      },
      {
        "duration": 3,
        "start_time": "2025-05-18T10:52:28.395Z"
      },
      {
        "duration": 10,
        "start_time": "2025-05-18T10:52:29.249Z"
      },
      {
        "duration": 4,
        "start_time": "2025-05-18T10:52:36.489Z"
      },
      {
        "duration": 19,
        "start_time": "2025-05-18T10:52:37.257Z"
      },
      {
        "duration": 2,
        "start_time": "2025-05-18T10:52:37.850Z"
      },
      {
        "duration": 3,
        "start_time": "2025-05-18T10:52:39.082Z"
      },
      {
        "duration": 19,
        "start_time": "2025-05-18T10:53:24.794Z"
      },
      {
        "duration": 3,
        "start_time": "2025-05-18T10:53:25.777Z"
      },
      {
        "duration": 2,
        "start_time": "2025-05-18T10:53:26.802Z"
      },
      {
        "duration": 4,
        "start_time": "2025-05-18T10:53:27.465Z"
      },
      {
        "duration": 7,
        "start_time": "2025-05-18T10:53:51.282Z"
      },
      {
        "duration": 12,
        "start_time": "2025-05-18T10:54:14.042Z"
      },
      {
        "duration": 6,
        "start_time": "2025-05-18T10:54:14.857Z"
      },
      {
        "duration": 4,
        "start_time": "2025-05-18T10:54:24.257Z"
      },
      {
        "duration": 4,
        "start_time": "2025-05-18T10:54:26.961Z"
      },
      {
        "duration": 8,
        "start_time": "2025-05-18T10:54:27.737Z"
      },
      {
        "duration": 4,
        "start_time": "2025-05-18T10:54:28.722Z"
      },
      {
        "duration": 5,
        "start_time": "2025-05-18T10:54:29.513Z"
      },
      {
        "duration": 102,
        "start_time": "2025-05-18T11:00:13.999Z"
      },
      {
        "duration": 122,
        "start_time": "2025-05-18T11:00:46.264Z"
      },
      {
        "duration": 67,
        "start_time": "2025-05-18T11:00:59.824Z"
      },
      {
        "duration": 62,
        "start_time": "2025-05-18T11:01:03.168Z"
      },
      {
        "duration": 71,
        "start_time": "2025-05-18T11:02:25.704Z"
      },
      {
        "duration": 64,
        "start_time": "2025-05-18T11:03:03.231Z"
      },
      {
        "duration": 69,
        "start_time": "2025-05-18T11:03:45.174Z"
      },
      {
        "duration": 5,
        "start_time": "2025-05-18T11:06:19.471Z"
      },
      {
        "duration": 71,
        "start_time": "2025-05-18T11:15:18.611Z"
      },
      {
        "duration": 61,
        "start_time": "2025-05-18T11:17:38.474Z"
      },
      {
        "duration": 27,
        "start_time": "2025-05-18T11:17:51.114Z"
      },
      {
        "duration": 62,
        "start_time": "2025-05-18T11:20:02.904Z"
      },
      {
        "duration": 64,
        "start_time": "2025-05-19T11:16:11.831Z"
      },
      {
        "duration": 444,
        "start_time": "2025-05-19T11:16:28.619Z"
      },
      {
        "duration": 138,
        "start_time": "2025-05-19T11:16:29.065Z"
      },
      {
        "duration": 16,
        "start_time": "2025-05-19T11:16:29.205Z"
      },
      {
        "duration": 26,
        "start_time": "2025-05-19T11:16:29.223Z"
      },
      {
        "duration": 18,
        "start_time": "2025-05-19T11:16:29.251Z"
      },
      {
        "duration": 20,
        "start_time": "2025-05-19T11:16:29.271Z"
      },
      {
        "duration": 3,
        "start_time": "2025-05-19T11:16:29.293Z"
      },
      {
        "duration": 5,
        "start_time": "2025-05-19T11:16:29.298Z"
      },
      {
        "duration": 31,
        "start_time": "2025-05-19T11:16:29.305Z"
      },
      {
        "duration": 10,
        "start_time": "2025-05-19T11:16:29.340Z"
      },
      {
        "duration": 15,
        "start_time": "2025-05-19T11:16:29.352Z"
      },
      {
        "duration": 17,
        "start_time": "2025-05-19T11:16:29.368Z"
      },
      {
        "duration": 55,
        "start_time": "2025-05-19T11:16:29.386Z"
      },
      {
        "duration": 2,
        "start_time": "2025-05-19T11:16:29.443Z"
      },
      {
        "duration": 95,
        "start_time": "2025-05-19T11:16:29.447Z"
      },
      {
        "duration": 4,
        "start_time": "2025-05-19T11:16:29.545Z"
      },
      {
        "duration": 20,
        "start_time": "2025-05-19T11:16:29.551Z"
      },
      {
        "duration": 6,
        "start_time": "2025-05-19T11:16:29.573Z"
      },
      {
        "duration": 16,
        "start_time": "2025-05-19T11:16:29.580Z"
      },
      {
        "duration": 12,
        "start_time": "2025-05-19T11:16:29.598Z"
      },
      {
        "duration": 30,
        "start_time": "2025-05-19T11:16:29.612Z"
      },
      {
        "duration": 16,
        "start_time": "2025-05-19T11:16:29.644Z"
      },
      {
        "duration": 13,
        "start_time": "2025-05-19T11:16:29.662Z"
      },
      {
        "duration": 4,
        "start_time": "2025-05-19T11:16:29.678Z"
      },
      {
        "duration": 67,
        "start_time": "2025-05-19T11:16:29.684Z"
      },
      {
        "duration": 11,
        "start_time": "2025-05-19T11:16:29.753Z"
      },
      {
        "duration": 12,
        "start_time": "2025-05-19T11:16:29.766Z"
      },
      {
        "duration": 18,
        "start_time": "2025-05-19T11:16:29.781Z"
      },
      {
        "duration": 41,
        "start_time": "2025-05-19T11:16:29.800Z"
      },
      {
        "duration": 3,
        "start_time": "2025-05-19T11:16:29.843Z"
      },
      {
        "duration": 3,
        "start_time": "2025-05-19T11:16:29.847Z"
      },
      {
        "duration": 11,
        "start_time": "2025-05-19T11:16:29.852Z"
      },
      {
        "duration": 3,
        "start_time": "2025-05-19T11:16:29.865Z"
      },
      {
        "duration": 26,
        "start_time": "2025-05-19T11:16:29.870Z"
      },
      {
        "duration": 3,
        "start_time": "2025-05-19T11:16:29.935Z"
      },
      {
        "duration": 3,
        "start_time": "2025-05-19T11:16:29.940Z"
      },
      {
        "duration": 22,
        "start_time": "2025-05-19T11:16:29.945Z"
      },
      {
        "duration": 3,
        "start_time": "2025-05-19T11:16:29.969Z"
      },
      {
        "duration": 17,
        "start_time": "2025-05-19T11:16:29.973Z"
      },
      {
        "duration": 31,
        "start_time": "2025-05-19T11:16:29.992Z"
      },
      {
        "duration": 65,
        "start_time": "2025-05-19T11:16:30.025Z"
      },
      {
        "duration": 50,
        "start_time": "2025-05-19T11:16:30.092Z"
      },
      {
        "duration": 55,
        "start_time": "2025-05-19T11:16:30.145Z"
      },
      {
        "duration": 14,
        "start_time": "2025-05-19T11:16:30.202Z"
      },
      {
        "duration": 25,
        "start_time": "2025-05-19T11:16:30.217Z"
      },
      {
        "duration": 21,
        "start_time": "2025-05-19T11:16:30.244Z"
      },
      {
        "duration": 12,
        "start_time": "2025-05-19T11:16:30.267Z"
      },
      {
        "duration": 11,
        "start_time": "2025-05-19T11:16:30.281Z"
      },
      {
        "duration": 21,
        "start_time": "2025-05-19T11:16:30.293Z"
      },
      {
        "duration": 32,
        "start_time": "2025-05-19T11:16:30.317Z"
      },
      {
        "duration": 424,
        "start_time": "2025-05-19T11:24:23.974Z"
      },
      {
        "duration": 88,
        "start_time": "2025-05-19T11:24:24.400Z"
      },
      {
        "duration": 16,
        "start_time": "2025-05-19T11:24:24.490Z"
      },
      {
        "duration": 23,
        "start_time": "2025-05-19T11:24:24.508Z"
      },
      {
        "duration": 22,
        "start_time": "2025-05-19T11:24:24.533Z"
      },
      {
        "duration": 13,
        "start_time": "2025-05-19T11:24:24.556Z"
      },
      {
        "duration": 9,
        "start_time": "2025-05-19T11:24:24.571Z"
      },
      {
        "duration": 36,
        "start_time": "2025-05-19T11:24:24.583Z"
      },
      {
        "duration": 19,
        "start_time": "2025-05-19T11:24:24.621Z"
      },
      {
        "duration": 6,
        "start_time": "2025-05-19T11:24:24.644Z"
      },
      {
        "duration": 20,
        "start_time": "2025-05-19T11:24:24.652Z"
      },
      {
        "duration": 16,
        "start_time": "2025-05-19T11:24:24.673Z"
      },
      {
        "duration": 15,
        "start_time": "2025-05-19T11:24:24.691Z"
      },
      {
        "duration": 34,
        "start_time": "2025-05-19T11:24:24.708Z"
      },
      {
        "duration": 16,
        "start_time": "2025-05-19T11:24:24.744Z"
      },
      {
        "duration": 3,
        "start_time": "2025-05-19T11:24:24.763Z"
      },
      {
        "duration": 6,
        "start_time": "2025-05-19T11:24:24.768Z"
      },
      {
        "duration": 9,
        "start_time": "2025-05-19T11:24:24.778Z"
      },
      {
        "duration": 9,
        "start_time": "2025-05-19T11:24:24.789Z"
      },
      {
        "duration": 29,
        "start_time": "2025-05-19T11:24:24.800Z"
      },
      {
        "duration": 32,
        "start_time": "2025-05-19T11:24:24.830Z"
      },
      {
        "duration": 11,
        "start_time": "2025-05-19T11:24:24.864Z"
      },
      {
        "duration": 9,
        "start_time": "2025-05-19T11:24:24.876Z"
      },
      {
        "duration": 3,
        "start_time": "2025-05-19T11:24:24.886Z"
      },
      {
        "duration": 65,
        "start_time": "2025-05-19T11:24:24.891Z"
      },
      {
        "duration": 16,
        "start_time": "2025-05-19T11:24:24.957Z"
      },
      {
        "duration": 92,
        "start_time": "2025-05-19T11:24:24.974Z"
      },
      {
        "duration": 38,
        "start_time": "2025-05-19T11:24:25.071Z"
      },
      {
        "duration": 10,
        "start_time": "2025-05-19T11:24:25.111Z"
      },
      {
        "duration": 5,
        "start_time": "2025-05-19T11:24:25.123Z"
      },
      {
        "duration": 3,
        "start_time": "2025-05-19T11:24:25.130Z"
      },
      {
        "duration": 17,
        "start_time": "2025-05-19T11:24:25.135Z"
      },
      {
        "duration": 4,
        "start_time": "2025-05-19T11:24:25.154Z"
      },
      {
        "duration": 26,
        "start_time": "2025-05-19T11:24:25.160Z"
      },
      {
        "duration": 2,
        "start_time": "2025-05-19T11:24:25.188Z"
      },
      {
        "duration": 36,
        "start_time": "2025-05-19T11:24:25.191Z"
      },
      {
        "duration": 40,
        "start_time": "2025-05-19T11:24:25.228Z"
      },
      {
        "duration": 2,
        "start_time": "2025-05-19T11:24:25.270Z"
      },
      {
        "duration": 12,
        "start_time": "2025-05-19T11:24:25.274Z"
      },
      {
        "duration": 6,
        "start_time": "2025-05-19T11:24:25.288Z"
      },
      {
        "duration": 16,
        "start_time": "2025-05-19T11:24:25.296Z"
      },
      {
        "duration": 47,
        "start_time": "2025-05-19T11:24:25.314Z"
      },
      {
        "duration": 16,
        "start_time": "2025-05-19T11:24:25.363Z"
      },
      {
        "duration": 10,
        "start_time": "2025-05-19T11:24:25.381Z"
      },
      {
        "duration": 5,
        "start_time": "2025-05-19T11:24:25.392Z"
      },
      {
        "duration": 7,
        "start_time": "2025-05-19T11:24:25.398Z"
      },
      {
        "duration": 38,
        "start_time": "2025-05-19T11:24:25.407Z"
      },
      {
        "duration": 8,
        "start_time": "2025-05-19T11:24:25.449Z"
      },
      {
        "duration": 5,
        "start_time": "2025-05-19T11:24:25.462Z"
      },
      {
        "duration": 95,
        "start_time": "2025-05-19T11:24:25.469Z"
      },
      {
        "duration": 11,
        "start_time": "2025-05-19T11:25:59.367Z"
      },
      {
        "duration": 8,
        "start_time": "2025-05-19T11:26:58.258Z"
      },
      {
        "duration": 8,
        "start_time": "2025-05-19T11:26:59.657Z"
      },
      {
        "duration": 6,
        "start_time": "2025-05-19T11:27:12.770Z"
      },
      {
        "duration": 19,
        "start_time": "2025-05-19T11:27:28.433Z"
      }
    ],
    "colab": {
      "provenance": []
    },
    "toc": {
      "base_numbering": 1,
      "nav_menu": {},
      "number_sections": true,
      "sideBar": true,
      "skip_h1_title": true,
      "title_cell": "Table of Contents",
      "title_sidebar": "Contents",
      "toc_cell": false,
      "toc_position": {},
      "toc_section_display": true,
      "toc_window_display": false
    }
  },
  "nbformat_minor": 5,
  "nbformat": 4,
  "cells": [
    {
      "id": "ae0ec30d",
      "cell_type": "markdown",
      "source": "# Обзор и анализ игры «Секреты Темнолесья».\n\n- Автор:Дорошенко Евгений\n- Дата:16.05.2025",
      "metadata": {
        "id": "e06910dd"
      }
    },
    {
      "id": "4149134c",
      "cell_type": "markdown",
      "source": "### Цели и задачи проекта\nЦель проекта — провести обзор игровых платформ, изучить объемы продаж игр различных жанров и региональные предпочтения игроков, с акцентом на RPG-игры.",
      "metadata": {
        "id": "4149134c"
      }
    },
    {
      "id": "728986ea",
      "cell_type": "markdown",
      "source": "# Описание данных\nДанные /datasets/new_games.csv содержат информацию о продажах игр разных жанров и платформ, а также пользовательские и экспертные оценки игр:\n- 'Name' — название игры;\n- 'Platform' — название платформы;\n- 'Year of Release' — год выпуска игры;\n- 'Genre' — жанр игры;\n- 'NA sales' — продажи в Северной Америке (в миллионах проданных копий);\n- 'EU sales' — продажи в Европе (в миллионах проданных копий);\n- 'JP sales' — продажи в Японии (в миллионах проданных копий);\n- 'Other sales' — продажи в других странах (в миллионах проданных копий);\n- 'Critic Score' — оценка критиков (от 0 до 100);\n- 'User Score' — оценка пользователей (от 0 до 10);\n- 'Rating' — рейтинг организации ESRB (англ. Entertainment Software Rating Board); Эта ассоциация определяет рейтинг компьютерных - игр и присваивает им подходящую возрастную категорию.",
      "metadata": {
        "id": "728986ea"
      }
    },
    {
      "id": "4fecaf95",
      "cell_type": "markdown",
      "source": "### Содержимое проекта\n\n1. [Загрузка и знакомство с данными](#загрузка-и-знакомство-с-данными)\n2. [Проверка ошибок в данных и их предобработка](#проверка-ошибок-в-данных-и-их-предобработка)\n3. [Фильтрация данных](#фильтрация-данных)\n4. [Категоризация данных](#категоризация-данных)\n5. [Итоговый вывод](#итоговый-вывод)",
      "metadata": {
        "id": "4fecaf95"
      }
    },
    {
      "id": "6f7d21d6",
      "cell_type": "markdown",
      "source": "## Загрузка и знакомство с данными:\n\nЗагрузите необходимые библиотеки Python и данные датасета /datasets/new_games.csv.\n",
      "metadata": {
        "id": "6f7d21d6"
      }
    },
    {
      "id": "75db408c",
      "cell_type": "markdown",
      "source": "Импортируем библиотеку pandas\n",
      "metadata": {}
    },
    {
      "id": "ebb66dc5",
      "cell_type": "code",
      "source": "# Импортируем библиотеку pandas\nimport pandas as pd",
      "metadata": {
        "id": "ebb66dc5"
      },
      "outputs": [],
      "execution_count": 1
    },
    {
      "id": "0f2711d2",
      "cell_type": "markdown",
      "source": "Выгружаем данные из датасета hotel_dataset.csv в датафрейм new_games",
      "metadata": {}
    },
    {
      "id": "ce87c1db",
      "cell_type": "code",
      "source": "# Выгружаем данные из датасета hotel_dataset.csv в датафрейм new_games\nnew_games = pd.read_csv('https://code.s3.yandex.net/datasets/new_games.csv')",
      "metadata": {
        "id": "ce87c1db"
      },
      "outputs": [],
      "execution_count": 2
    },
    {
      "id": "e0a8705f",
      "cell_type": "markdown",
      "source": "- Познакомьтесь с данными: выведите первые строки и результат метода `info()`.\n",
      "metadata": {
        "id": "e0a8705f"
      }
    },
    {
      "id": "30ce0b87",
      "cell_type": "markdown",
      "source": "Выводим информацию о датафрейме",
      "metadata": {}
    },
    {
      "id": "3937acf7",
      "cell_type": "code",
      "source": "# Выводим информацию о датафрейме\nnew_games.info()",
      "metadata": {
        "id": "3937acf7"
      },
      "outputs": [
        {
          "name": "stdout",
          "output_type": "stream",
          "text": "<class 'pandas.core.frame.DataFrame'>\n,RangeIndex: 16956 entries, 0 to 16955\n,Data columns (total 11 columns):\n, #   Column           Non-Null Count  Dtype  \n,---  ------           --------------  -----  \n, 0   Name             16954 non-null  object \n, 1   Platform         16956 non-null  object \n, 2   Year of Release  16681 non-null  float64\n, 3   Genre            16954 non-null  object \n, 4   NA sales         16956 non-null  float64\n, 5   EU sales         16956 non-null  object \n, 6   JP sales         16956 non-null  object \n, 7   Other sales      16956 non-null  float64\n, 8   Critic Score     8242 non-null   float64\n, 9   User Score       10152 non-null  object \n, 10  Rating           10085 non-null  object \n,dtypes: float64(4), object(7)\n,memory usage: 1.4+ MB\n"
        }
      ],
      "execution_count": 3
    },
    {
      "id": "5c797f69",
      "cell_type": "markdown",
      "source": "Выводим первые строки датафрейма на экран",
      "metadata": {}
    },
    {
      "id": "d7c8eb4b",
      "cell_type": "code",
      "source": "# Выводим первые строки датафрейма на экран\nnew_games.head()",
      "metadata": {
        "id": "d7c8eb4b"
      },
      "outputs": [
        {
          "data": {
            "text/html": [
              "<div>\n",
              "<style scoped>\n",
              "    .dataframe tbody tr th:only-of-type {\n",
              "        vertical-align: middle;\n",
              "    }\n",
              "\n",
              "    .dataframe tbody tr th {\n",
              "        vertical-align: top;\n",
              "    }\n",
              "\n",
              "    .dataframe thead th {\n",
              "        text-align: right;\n",
              "    }\n",
              "</style>\n",
              "<table border=\"1\" class=\"dataframe\">\n",
              "  <thead>\n",
              "    <tr style=\"text-align: right;\">\n",
              "      <th></th>\n",
              "      <th>Name</th>\n",
              "      <th>Platform</th>\n",
              "      <th>Year of Release</th>\n",
              "      <th>Genre</th>\n",
              "      <th>NA sales</th>\n",
              "      <th>EU sales</th>\n",
              "      <th>JP sales</th>\n",
              "      <th>Other sales</th>\n",
              "      <th>Critic Score</th>\n",
              "      <th>User Score</th>\n",
              "      <th>Rating</th>\n",
              "    </tr>\n",
              "  </thead>\n",
              "  <tbody>\n",
              "    <tr>\n",
              "      <th>0</th>\n",
              "      <td>Wii Sports</td>\n",
              "      <td>Wii</td>\n",
              "      <td>2006.0</td>\n",
              "      <td>Sports</td>\n",
              "      <td>41.36</td>\n",
              "      <td>28.96</td>\n",
              "      <td>3.77</td>\n",
              "      <td>8.45</td>\n",
              "      <td>76.0</td>\n",
              "      <td>8</td>\n",
              "      <td>E</td>\n",
              "    </tr>\n",
              "    <tr>\n",
              "      <th>1</th>\n",
              "      <td>Super Mario Bros.</td>\n",
              "      <td>NES</td>\n",
              "      <td>1985.0</td>\n",
              "      <td>Platform</td>\n",
              "      <td>29.08</td>\n",
              "      <td>3.58</td>\n",
              "      <td>6.81</td>\n",
              "      <td>0.77</td>\n",
              "      <td>NaN</td>\n",
              "      <td>NaN</td>\n",
              "      <td>NaN</td>\n",
              "    </tr>\n",
              "    <tr>\n",
              "      <th>2</th>\n",
              "      <td>Mario Kart Wii</td>\n",
              "      <td>Wii</td>\n",
              "      <td>2008.0</td>\n",
              "      <td>Racing</td>\n",
              "      <td>15.68</td>\n",
              "      <td>12.76</td>\n",
              "      <td>3.79</td>\n",
              "      <td>3.29</td>\n",
              "      <td>82.0</td>\n",
              "      <td>8.3</td>\n",
              "      <td>E</td>\n",
              "    </tr>\n",
              "    <tr>\n",
              "      <th>3</th>\n",
              "      <td>Wii Sports Resort</td>\n",
              "      <td>Wii</td>\n",
              "      <td>2009.0</td>\n",
              "      <td>Sports</td>\n",
              "      <td>15.61</td>\n",
              "      <td>10.93</td>\n",
              "      <td>3.28</td>\n",
              "      <td>2.95</td>\n",
              "      <td>80.0</td>\n",
              "      <td>8</td>\n",
              "      <td>E</td>\n",
              "    </tr>\n",
              "    <tr>\n",
              "      <th>4</th>\n",
              "      <td>Pokemon Red/Pokemon Blue</td>\n",
              "      <td>GB</td>\n",
              "      <td>1996.0</td>\n",
              "      <td>Role-Playing</td>\n",
              "      <td>11.27</td>\n",
              "      <td>8.89</td>\n",
              "      <td>10.22</td>\n",
              "      <td>1.00</td>\n",
              "      <td>NaN</td>\n",
              "      <td>NaN</td>\n",
              "      <td>NaN</td>\n",
              "    </tr>\n",
              "  </tbody>\n",
              "</table>\n",
              "</div>"
            ],
            "text/plain": [
              "                       Name Platform  Year of Release         Genre  NA sales  \\\n",
              "0                Wii Sports      Wii           2006.0        Sports     41.36   \n",
              "1         Super Mario Bros.      NES           1985.0      Platform     29.08   \n",
              "2            Mario Kart Wii      Wii           2008.0        Racing     15.68   \n",
              "3         Wii Sports Resort      Wii           2009.0        Sports     15.61   \n",
              "4  Pokemon Red/Pokemon Blue       GB           1996.0  Role-Playing     11.27   \n",
              "\n",
              "  EU sales JP sales  Other sales  Critic Score User Score Rating  \n",
              "0    28.96     3.77         8.45          76.0          8      E  \n",
              "1     3.58     6.81         0.77           NaN        NaN    NaN  \n",
              "2    12.76     3.79         3.29          82.0        8.3      E  \n",
              "3    10.93     3.28         2.95          80.0          8      E  \n",
              "4     8.89    10.22         1.00           NaN        NaN    NaN  "
            ]
          },
          "execution_count": 4,
          "metadata": {},
          "output_type": "execute_result"
        }
      ],
      "execution_count": 4
    },
    {
      "id": "f097d022",
      "cell_type": "markdown",
      "source": "Выводим количество пропущенных строк в датафрейме",
      "metadata": {}
    },
    {
      "id": "fc561cac",
      "cell_type": "code",
      "source": "# Выводим количество пропущенных строк в датафрейме\nnew_games.isna().sum()",
      "metadata": {
        "id": "fc561cac"
      },
      "outputs": [
        {
          "data": {
            "text/plain": [
              "Name                  2\n",
              "Platform              0\n",
              "Year of Release     275\n",
              "Genre                 2\n",
              "NA sales              0\n",
              "EU sales              0\n",
              "JP sales              0\n",
              "Other sales           0\n",
              "Critic Score       8714\n",
              "User Score         6804\n",
              "Rating             6871\n",
              "dtype: int64"
            ]
          },
          "execution_count": 5,
          "metadata": {},
          "output_type": "execute_result"
        }
      ],
      "execution_count": 5
    },
    {
      "id": "e1f6d8ab",
      "cell_type": "markdown",
      "source": "Подсчитываем процент строк с пропусками",
      "metadata": {}
    },
    {
      "id": "415aa687",
      "cell_type": "code",
      "source": "# Подсчитываем процент строк с пропусками\nnew_games.isna().sum() / len(new_games) * 100",
      "metadata": {},
      "outputs": [
        {
          "data": {
            "text/plain": [
              "Name                0.011795\n",
              "Platform            0.000000\n",
              "Year of Release     1.621845\n",
              "Genre               0.011795\n",
              "NA sales            0.000000\n",
              "EU sales            0.000000\n",
              "JP sales            0.000000\n",
              "Other sales         0.000000\n",
              "Critic Score       51.391838\n",
              "User Score         40.127389\n",
              "Rating             40.522529\n",
              "dtype: float64"
            ]
          },
          "execution_count": 6,
          "metadata": {},
          "output_type": "execute_result"
        }
      ],
      "execution_count": 6
    },
    {
      "id": "26267bc0",
      "cell_type": "markdown",
      "source": "- Сделайте вывод о полученных данных: данные какого объёма вам предоставили, соответствуют ли они описанию, встречаются ли в них пропуски, используются ли верные типы данных.\n- Отметьте другие особенности данных, которые вы обнаружили и на которые стоит обратить внимание при предобработке. Например, вы можете проверить названия столбцов: все ли названия отражают содержимое данных и прописаны в удобном для работы виде.",
      "metadata": {
        "id": "26267bc0"
      }
    },
    {
      "id": "05f55eb6",
      "cell_type": "markdown",
      "source": "<font color='#777778'>Используйте ячейки типа Markdown для промежуточных выводов и расширенных комментариев к действиям с данными. </font>",
      "metadata": {
        "id": "05f55eb6"
      }
    },
    {
      "id": "3f4b3daf",
      "cell_type": "markdown",
      "source": "Датасет `new_games.csv` содержит 11 столбцов и 16956 строк, в которых представлена информация о бронированиях гостиничных номеров.\n\nИзучим типы данных и их корректность:\n- **Строковые данные (object).** Семь столбцов представлены типом `object ` — это `Name`, `Platform` , `Genre`, `EU sales`,`JP sales`, `User Score`, ` Rating` . Выбранный тип данных является корректным, так как эти столбцы содержат инфорамцию типа `object `\n- **Числовые значения с плавающей запятой (float64).** Четыре столбца, `Year of Release`,`NA sales`, `Other sales`,`Critic Score` Год релиза, продажи в Северной Америке, продажи в других странах и оценки критиков с типом данных `float64`. Это верное решение, так как такие данные могут включать дробные значения.\n\nПосле анализа типов данных видно, что большинство столбцов корректно представлены. Однако для оптимизации можно использовать целочисленные типы с уменьшенной разрядностью и преобразовать строковые данные даты и времени в тип `datetime64`.",
      "metadata": {
        "id": "81651b8d"
      }
    },
    {
      "id": "ac7c692c",
      "cell_type": "markdown",
      "source": "Из 11 столбцов 4 с пропусками :'Year of Release' - 275 пропусков или 1.6%, 'Critic Score' - 8714 или 51%, 'User Score' - 6804 или 40%, 'Rating' - 6871 или 40% имеют пропуски.Больше всего пропусков в столбце 'Critic Score' 8714 строки или 51% с типом данных float64.Вероятнее всего пропуски в данном столбце связаны с тем что не так часто ставится оценка.",
      "metadata": {
        "id": "191981db"
      }
    },
    {
      "id": "774bf76e",
      "cell_type": "markdown",
      "source": "---\n\n## 2.  Проверка ошибок в данных и их предобработка\n\n\n### 2.1. Названия, или метки, столбцов датафрейма\n\n- Выведите на экран названия всех столбцов датафрейма и проверьте их стиль написания.\n- Приведите все столбцы к стилю snake case. Названия должны быть в нижнем регистре, а вместо пробелов — подчёркивания.",
      "metadata": {
        "id": "774bf76e"
      }
    },
    {
      "id": "477cb805",
      "cell_type": "markdown",
      "source": "Выводим названия столбцов",
      "metadata": {}
    },
    {
      "id": "b9276a2b",
      "cell_type": "code",
      "source": "# Выводим названия столбцов\nprint(new_games.columns)",
      "metadata": {
        "id": "b9276a2b"
      },
      "outputs": [
        {
          "name": "stdout",
          "output_type": "stream",
          "text": "Index(['Name', 'Platform', 'Year of Release', 'Genre', 'NA sales', 'EU sales',\n,       'JP sales', 'Other sales', 'Critic Score', 'User Score', 'Rating'],\n,      dtype='object')\n"
        }
      ],
      "execution_count": 7
    },
    {
      "id": "d9149f70",
      "cell_type": "markdown",
      "source": "Приводим названия столбцов к стилю snake case и проверяем результат",
      "metadata": {}
    },
    {
      "id": "d554563c",
      "cell_type": "code",
      "source": "# Приводим названия столбцов к стилю snake case\nnew_games.columns = new_games.columns.str.lower().str.replace(' ', '_')\n\n# Проверяем результат\nprint(new_games.columns)",
      "metadata": {
        "id": "d554563c"
      },
      "outputs": [
        {
          "name": "stdout",
          "output_type": "stream",
          "text": "Index(['name', 'platform', 'year_of_release', 'genre', 'na_sales', 'eu_sales',\n,       'jp_sales', 'other_sales', 'critic_score', 'user_score', 'rating'],\n,      dtype='object')\n"
        }
      ],
      "execution_count": 8
    },
    {
      "id": "41bc6bf8",
      "cell_type": "markdown",
      "source": "### 2.2. Типы данных\n\n- Если встречаются некорректные типы данных, предположите их причины.\n- При необходимости проведите преобразование типов данных. Помните, что столбцы с числовыми данными и пропусками нельзя преобразовать к типу `int64`. Сначала вам понадобится обработать пропуски, а затем преобразовать типы данных.",
      "metadata": {
        "id": "41bc6bf8"
      }
    },
    {
      "id": "676b1a62",
      "cell_type": "markdown",
      "source": "Проверяем типы данных ",
      "metadata": {}
    },
    {
      "id": "8adaac81",
      "cell_type": "code",
      "source": "# Проверяем типы данных \nprint(new_games.dtypes)",
      "metadata": {
        "id": "8adaac81"
      },
      "outputs": [
        {
          "name": "stdout",
          "output_type": "stream",
          "text": "name                object\n,platform            object\n,year_of_release    float64\n,genre               object\n,na_sales           float64\n,eu_sales            object\n,jp_sales            object\n,other_sales        float64\n,critic_score       float64\n,user_score          object\n,rating              object\n,dtype: object\n"
        }
      ],
      "execution_count": 9
    },
    {
      "id": "2fa01ea6",
      "cell_type": "markdown",
      "source": "Заменяем неподходящие значения на NaN для столбцов с продажами",
      "metadata": {}
    },
    {
      "id": "e8412c01",
      "cell_type": "code",
      "source": "# Заменяем неподходящие значения на NaN для столбцов с продажами\nreplace_dict = {\n    'unknown': None,\n    'n/a': None,\n    'None': None,\n    'tbd': None\n}",
      "metadata": {
        "id": "e8412c01"
      },
      "outputs": [],
      "execution_count": 10
    },
    {
      "id": "f5c15fd3",
      "cell_type": "markdown",
      "source": "Применяем замену для столбцов 'eu_sales', 'jp_sales', 'user_score'",
      "metadata": {}
    },
    {
      "id": "9e53cff4",
      "cell_type": "code",
      "source": "# Применяем замену для столбцов 'eu_sales', 'jp_sales', 'user_score'\nnew_games['eu_sales'].replace(replace_dict, inplace=True)\nnew_games['jp_sales'].replace(replace_dict, inplace=True)\nnew_games['user_score'].replace(replace_dict, inplace=True)",
      "metadata": {
        "id": "9e53cff4"
      },
      "outputs": [],
      "execution_count": 11
    },
    {
      "id": "fe74dd1c",
      "cell_type": "markdown",
      "source": "Преобразуем столбцы в числовой тип",
      "metadata": {}
    },
    {
      "id": "88acca1a",
      "cell_type": "code",
      "source": "# Преобразуем столбцы в числовой тип\nnew_games['eu_sales'] = pd.to_numeric(new_games['eu_sales'], errors='coerce')\nnew_games['jp_sales'] = pd.to_numeric(new_games['jp_sales'], errors='coerce')\nnew_games['user_score'] = pd.to_numeric(new_games['user_score'], errors='coerce')",
      "metadata": {},
      "outputs": [],
      "execution_count": 12
    },
    {
      "id": "59c91a52",
      "cell_type": "markdown",
      "source": "Проверяем результат",
      "metadata": {}
    },
    {
      "id": "2e3d4c1d",
      "cell_type": "code",
      "source": "# Проверяем результат\nprint(new_games.info())",
      "metadata": {},
      "outputs": [
        {
          "name": "stdout",
          "output_type": "stream",
          "text": "<class 'pandas.core.frame.DataFrame'>\n,RangeIndex: 16956 entries, 0 to 16955\n,Data columns (total 11 columns):\n, #   Column           Non-Null Count  Dtype  \n,---  ------           --------------  -----  \n, 0   name             16954 non-null  object \n, 1   platform         16956 non-null  object \n, 2   year_of_release  16681 non-null  float64\n, 3   genre            16954 non-null  object \n, 4   na_sales         16956 non-null  float64\n, 5   eu_sales         16950 non-null  float64\n, 6   jp_sales         16952 non-null  float64\n, 7   other_sales      16956 non-null  float64\n, 8   critic_score     8242 non-null   float64\n, 9   user_score       7688 non-null   float64\n, 10  rating           10085 non-null  object \n,dtypes: float64(7), object(4)\n,memory usage: 1.4+ MB\n,None\n"
        }
      ],
      "execution_count": 13
    },
    {
      "id": "63378edf",
      "cell_type": "markdown",
      "source": "- В числовых столбцах могут встретиться строковые значения, например `unknown` или другие. Приводите такие столбцы к числовому типу данных, заменив строковые значения на пропуски.",
      "metadata": {
        "id": "63378edf"
      }
    },
    {
      "id": "09a4c38e",
      "cell_type": "markdown",
      "source": "Пропуски были заменены на NAn а тип данных object переделан на числовой float64",
      "metadata": {
        "id": "5033ee32"
      }
    },
    {
      "id": "b39893cb",
      "cell_type": "markdown",
      "source": "### 2.3. Наличие пропусков в данных\n\n- Посчитайте количество пропусков в каждом столбце в абсолютных и относительных значениях.\n",
      "metadata": {
        "id": "b39893cb"
      }
    },
    {
      "id": "2d9bfe13",
      "cell_type": "markdown",
      "source": "Общее число строк в датафрейме",
      "metadata": {}
    },
    {
      "id": "0f1c91a8",
      "cell_type": "code",
      "source": "# Общее число строк в датафрейме\ntotal_rows = len(new_games)",
      "metadata": {
        "id": "0f1c91a8"
      },
      "outputs": [],
      "execution_count": 14
    },
    {
      "id": "a9ab7cb7",
      "cell_type": "markdown",
      "source": "Количество пропусков в каждом столбц",
      "metadata": {}
    },
    {
      "id": "86cd1cc1",
      "cell_type": "code",
      "source": "# Количество пропусков в каждом столбце\nmissing_counts = new_games.isnull().sum()",
      "metadata": {
        "id": "86cd1cc1"
      },
      "outputs": [],
      "execution_count": 15
    },
    {
      "id": "e6b28641",
      "cell_type": "markdown",
      "source": "Относительные пропуски (в процентах)",
      "metadata": {}
    },
    {
      "id": "247a6cf7",
      "cell_type": "code",
      "source": "# Относительные пропуски (в процентах)\nmissing_percentages = (missing_counts / total_rows) * 100",
      "metadata": {
        "id": "247a6cf7"
      },
      "outputs": [],
      "execution_count": 16
    },
    {
      "id": "be9ae898",
      "cell_type": "markdown",
      "source": "Создаем таблицу с результатами",
      "metadata": {}
    },
    {
      "id": "8241e6c8",
      "cell_type": "code",
      "source": "# Создаем таблицу с результатами\nmissing_summary = pd.DataFrame({\n    'Количество пропусков': missing_counts,\n    'Процент пропусков': missing_percentages\n})",
      "metadata": {},
      "outputs": [],
      "execution_count": 17
    },
    {
      "id": "cb450e56",
      "cell_type": "markdown",
      "source": "Выведим резульатат",
      "metadata": {}
    },
    {
      "id": "b186acaf",
      "cell_type": "code",
      "source": "# Выведим резульатат\nprint(missing_summary)",
      "metadata": {},
      "outputs": [
        {
          "name": "stdout",
          "output_type": "stream",
          "text": "                 Количество пропусков  Процент пропусков\n,name                                2           0.011795\n,platform                            0           0.000000\n,year_of_release                   275           1.621845\n,genre                               2           0.011795\n,na_sales                            0           0.000000\n,eu_sales                            6           0.035386\n,jp_sales                            4           0.023590\n,other_sales                         0           0.000000\n,critic_score                     8714          51.391838\n,user_score                       9268          54.659118\n,rating                           6871          40.522529\n"
        }
      ],
      "execution_count": 18
    },
    {
      "id": "cf796f51",
      "cell_type": "markdown",
      "source": "- Изучите данные с пропущенными значениями. Напишите промежуточный вывод: для каких столбцов характерны пропуски и сколько их. Предположите, почему пропуски могли возникнуть. Укажите, какие действия с этими данными можно сделать и почему.\n",
      "metadata": {
        "id": "cf796f51"
      }
    },
    {
      "id": "382acb97",
      "cell_type": "markdown",
      "source": "1.Из 11 стоблоцов пропуски есть в 9 , но лишь в 3х столбцах процент просуков значитильный по этому рассмотрим их более детально.",
      "metadata": {
        "id": "bd69e642"
      }
    },
    {
      "id": "b12185ba",
      "cell_type": "markdown",
      "source": "2.Меньше всего пропусков в стобце rating 6871 или 40,5% . Думаю это может быть связано с тем что оценка по рейтингу не проставлялсь в чуть менее половины случаев.",
      "metadata": {
        "id": "b6965b19"
      }
    },
    {
      "id": "b34e5906",
      "cell_type": "markdown",
      "source": "2.На 2 месте по пропускам столбец critic_score - 8714 пропусков или 51%.  Тут возможно также оценка не проставлялась в более чем половине случаев.",
      "metadata": {
        "id": "cc2d1374"
      }
    },
    {
      "id": "f9b0649c",
      "cell_type": "markdown",
      "source": "3.Больше всего пропусков в столбце user_score - 9268. Или 55 % .Это много. Столбец указывает на оценку пользователейю.Можно сделать вывод что на более половину игр оценки не ставились.",
      "metadata": {}
    },
    {
      "id": "bbbe3bda",
      "cell_type": "markdown",
      "source": "- Обработайте пропущенные значения. Для каждого случая вы можете выбрать оптимальный, на ваш взгляд, вариант: заменить на определённое значение, оставить как есть или удалить.\n- Если вы решите заменить пропуски на значение-индикатор, то убедитесь, что предложенное значение не может быть использовано в данных.\n- Если вы нашли пропуски в данных с количеством проданных копий игры в том или ином регионе, их можно заменить на среднее значение в зависимости от названия платформы и года выхода игры.",
      "metadata": {
        "id": "bbbe3bda"
      }
    },
    {
      "id": "dab53aaa",
      "cell_type": "markdown",
      "source": "Заменить пропуски на 'unknown', чтобы сохранить информацию о неизвестных рейтингах.",
      "metadata": {}
    },
    {
      "id": "154be65d",
      "cell_type": "code",
      "source": "# Заменить пропуски на 'unknown', чтобы сохранить информацию о неизвестных рейтингах.\nnew_games['rating'] = new_games['rating'].fillna('unknown')",
      "metadata": {
        "id": "154be65d"
      },
      "outputs": [],
      "execution_count": 19
    },
    {
      "id": "b2c7b99e",
      "cell_type": "markdown",
      "source": "Заменим пропуски на значение -1.",
      "metadata": {}
    },
    {
      "id": "3f42817b",
      "cell_type": "code",
      "source": "# Заменим пропуски на значение -1.\nmedian_year = new_games['year_of_release'].median()\nnew_games['year_of_release'] = new_games['year_of_release'].fillna(-1)",
      "metadata": {
        "id": "3f42817b"
      },
      "outputs": [],
      "execution_count": 20
    },
    {
      "id": "82d48cce",
      "cell_type": "markdown",
      "source": "Вычисляем средние значения по группам и заполняем пропуски средними значениями",
      "metadata": {}
    },
    {
      "id": "2784c760",
      "cell_type": "code",
      "source": "def fill_sales_with_mean(new_games, sales_column):\n    # Вычисляем средние значения по группам\n    mean_values = new_games.groupby(['year_of_release', 'platform'])[sales_column].transform('mean')\n    # Заполняем пропуски средними значениями\n    new_games[sales_column] = new_games[sales_column].fillna(mean_values)\n    return new_games\n\n# Заполняем пропуски для каждого региона\nnew_games = fill_sales_with_mean(new_games, 'na_sales')\nnew_games = fill_sales_with_mean(new_games, 'eu_sales')\nnew_games = fill_sales_with_mean(new_games, 'jp_sales')\nnew_games = fill_sales_with_mean(new_games, 'other_sales')",
      "metadata": {
        "id": "2784c760"
      },
      "outputs": [],
      "execution_count": 21
    },
    {
      "id": "1782b1c5",
      "cell_type": "markdown",
      "source": "Заполняем пропуски в 'critic_score' и 'user_score' средним значением с групировкой по году и платформе",
      "metadata": {}
    },
    {
      "id": "3e366dd4",
      "cell_type": "code",
      "source": "# Заполняем пропуски в critic_score средним по группам\ncritic_group_mean = new_games.groupby(['year_of_release', 'platform'])['critic_score'].transform('mean')\nnew_games['critic_score'] = new_games['critic_score'].fillna(critic_group_mean)\n\n# Заполняем пропуски в user_score средним по группам\nuser_group_mean = new_games.groupby(['year_of_release', 'platform'])['user_score'].transform('mean')\nnew_games['user_score'] = new_games['user_score'].fillna(user_group_mean)\n",
      "metadata": {},
      "outputs": [],
      "execution_count": 22
    },
    {
      "id": "4de17ab3",
      "cell_type": "markdown",
      "source": "Проверка пропусков после обработки",
      "metadata": {}
    },
    {
      "id": "0fe8d6cf",
      "cell_type": "code",
      "source": "# Вывод доли пропусков в процентах\nprint(\"Доля пропусков в каждой колонке:\")\nprint(missing_fraction * 100)\n# Проверка пропусков после обработки\nprint(\"\\nПропуски после обработки:\")\nprint(new_games.isnull().sum())\n",
      "metadata": {},
      "outputs": [
        {
          "name": "stdout",
          "output_type": "stream",
          "text": "Доля пропусков в каждой колонке:\n,name               0.011965\n,platform           0.000000\n,year_of_release    0.000000\n,genre              0.011965\n,na_sales           0.000000\n,eu_sales           0.000000\n,jp_sales           0.000000\n,other_sales        0.000000\n,critic_score       8.890218\n,user_score         7.574035\n,rating             0.000000\n,dtype: float64\n,\n,Пропуски после обработки:\n,name                  2\n,platform              0\n,year_of_release       0\n,genre                 2\n,na_sales              0\n,eu_sales              0\n,jp_sales              0\n,other_sales           0\n,critic_score       1486\n,user_score         1266\n,rating                0\n,dtype: int64\n"
        }
      ],
      "execution_count": 55
    },
    {
      "id": "a63363fd",
      "cell_type": "markdown",
      "source": "### 2.4. Явные и неявные дубликаты в данных\n\n- Изучите уникальные значения в категориальных данных, например с названиями жанра игры, платформы, рейтинга и года выпуска. Проверьте, встречаются ли среди данных неявные дубликаты, связанные с опечатками или разным способом написания.\n- При необходимости проведите нормализацию данных с текстовыми значениями. Названия или жанры игр можно привести к нижнему регистру, а названия рейтинга — к верхнему.",
      "metadata": {
        "id": "a63363fd"
      }
    },
    {
      "id": "3076b23c",
      "cell_type": "markdown",
      "source": "Функция для вывода уникальных значений и их нормализации",
      "metadata": {}
    },
    {
      "id": "491c9c39",
      "cell_type": "code",
      "source": "# Функция для вывода уникальных значений и их нормализации\ndef check_and_normalize(column, to_lower=True):\n    unique_values = column.unique()\n    print(f'Уникальные значения в столбце {column.name}: {unique_values}')\n    \n    # Нормализация\n    if to_lower:\n        column = column.str.lower()\n    else:\n        column = column.str.upper()\n    \n    return column",
      "metadata": {
        "id": "491c9c39"
      },
      "outputs": [],
      "execution_count": 24
    },
    {
      "id": "fecb2141",
      "cell_type": "markdown",
      "source": "Нормализация жанров игр и платформ и рейтинга",
      "metadata": {}
    },
    {
      "id": "f1627198",
      "cell_type": "code",
      "source": "# Нормализация жанров игр и платформ\nnew_games['genre'] = check_and_normalize(new_games['genre'], to_lower=True)\nnew_games['platform'] = check_and_normalize(new_games['platform'], to_lower=True)\n\n# Нормализация рейтинга\nnew_games['rating'] = check_and_normalize(new_games['rating'], to_lower=False)",
      "metadata": {
        "id": "f1627198"
      },
      "outputs": [
        {
          "name": "stdout",
          "output_type": "stream",
          "text": "Уникальные значения в столбце genre: ['Sports' 'Platform' 'Racing' 'Role-Playing' 'Puzzle' 'Misc' 'Shooter'\n, 'Simulation' 'Action' 'Fighting' 'Adventure' 'Strategy' nan 'MISC'\n, 'ROLE-PLAYING' 'RACING' 'ACTION' 'SHOOTER' 'FIGHTING' 'SPORTS' 'PLATFORM'\n, 'ADVENTURE' 'SIMULATION' 'PUZZLE' 'STRATEGY']\n,Уникальные значения в столбце platform: ['Wii' 'NES' 'GB' 'DS' 'X360' 'PS3' 'PS2' 'SNES' 'GBA' 'PS4' '3DS' 'N64'\n, 'PS' 'XB' 'PC' '2600' 'PSP' 'XOne' 'WiiU' 'GC' 'GEN' 'DC' 'PSV' 'SAT'\n, 'SCD' 'WS' 'NG' 'TG16' '3DO' 'GG' 'PCFX']\n,Уникальные значения в столбце rating: ['E' 'unknown' 'M' 'T' 'E10+' 'K-A' 'AO' 'EC' 'RP']\n"
        }
      ],
      "execution_count": 25
    },
    {
      "id": "74b9e2bd",
      "cell_type": "markdown",
      "source": "Нормализация года выпуска ",
      "metadata": {}
    },
    {
      "id": "a0cac80c",
      "cell_type": "code",
      "source": "# Нормализация года выпуска \nnew_games['year_of_release'] = new_games['year_of_release'].astype(str)",
      "metadata": {
        "id": "a0cac80c"
      },
      "outputs": [],
      "execution_count": 26
    },
    {
      "id": "36b72087",
      "cell_type": "markdown",
      "source": "Проверяем уникальные значения после нормализации",
      "metadata": {}
    },
    {
      "id": "c0c636db",
      "cell_type": "code",
      "source": "# Проверяем уникальные значения после нормализации\nprint(\"\\nПосле нормализации:\")\nprint(f'Уникальные значения в жанрах: {new_games[\"genre\"].unique()}')\nprint(f'Уникальные значения в платформах: {new_games[\"platform\"].unique()}')\nprint(f'Уникальные значения в рейтингах: {new_games[\"rating\"].unique()}')\nprint(f'Уникальные значения в годах выпуска: {new_games[\"year_of_release\"].unique()}')",
      "metadata": {},
      "outputs": [
        {
          "name": "stdout",
          "output_type": "stream",
          "text": "\n,После нормализации:\n,Уникальные значения в жанрах: ['sports' 'platform' 'racing' 'role-playing' 'puzzle' 'misc' 'shooter'\n, 'simulation' 'action' 'fighting' 'adventure' 'strategy' nan]\n,Уникальные значения в платформах: ['wii' 'nes' 'gb' 'ds' 'x360' 'ps3' 'ps2' 'snes' 'gba' 'ps4' '3ds' 'n64'\n, 'ps' 'xb' 'pc' '2600' 'psp' 'xone' 'wiiu' 'gc' 'gen' 'dc' 'psv' 'sat'\n, 'scd' 'ws' 'ng' 'tg16' '3do' 'gg' 'pcfx']\n,Уникальные значения в рейтингах: ['E' 'UNKNOWN' 'M' 'T' 'E10+' 'K-A' 'AO' 'EC' 'RP']\n,Уникальные значения в годах выпуска: ['2006.0' '1985.0' '2008.0' '2009.0' '1996.0' '1989.0' '1984.0' '2005.0'\n, '1999.0' '2007.0' '2010.0' '2013.0' '2004.0' '1990.0' '1988.0' '2002.0'\n, '2001.0' '2011.0' '1998.0' '2015.0' '2012.0' '2014.0' '1992.0' '1997.0'\n, '1993.0' '1994.0' '1982.0' '2016.0' '2003.0' '1986.0' '2000.0' '-1.0'\n, '1995.0' '1991.0' '1981.0' '1987.0' '1980.0' '1983.0']\n"
        }
      ],
      "execution_count": 27
    },
    {
      "id": "fc3d3db4",
      "cell_type": "markdown",
      "source": "- После того как нормализуете данные и устраните неявные дубликаты, проверьте наличие явных дубликатов в данных.",
      "metadata": {
        "id": "fc3d3db4"
      }
    },
    {
      "id": "7cd731e4",
      "cell_type": "markdown",
      "source": "Проверяем наличие явных дубликатов",
      "metadata": {}
    },
    {
      "id": "fc5c91b5",
      "cell_type": "code",
      "source": "# Проверяем наличие явных дубликатов\nduplicates = new_games.duplicated()\nnum_duplicates = duplicates.sum()\n\nprint(f'Количество явных дубликатов: {num_duplicates}')",
      "metadata": {
        "id": "fc5c91b5"
      },
      "outputs": [
        {
          "name": "stdout",
          "output_type": "stream",
          "text": "Количество явных дубликатов: 241\n"
        }
      ],
      "execution_count": 28
    },
    {
      "id": "b1e950f7",
      "cell_type": "markdown",
      "source": "Если явные дубликаты существуют, удаляем их",
      "metadata": {}
    },
    {
      "id": "2f61e076",
      "cell_type": "code",
      "source": "# Если явные дубликаты существуют, удаляем их\nif num_duplicates > 0:\n    new_games = new_games[~duplicates]\n    print('Явные дубликаты были удалены.')\nelse:\n    print('Явных дубликатов не найдено.')",
      "metadata": {
        "id": "2f61e076"
      },
      "outputs": [
        {
          "name": "stdout",
          "output_type": "stream",
          "text": "Явные дубликаты были удалены.\n"
        }
      ],
      "execution_count": 29
    },
    {
      "id": "e10121bb",
      "cell_type": "markdown",
      "source": "Проверяем количество строк после удаления дубликатов",
      "metadata": {}
    },
    {
      "id": "29e57705",
      "cell_type": "code",
      "source": "# Проверяем количество строк после удаления дубликатов\nprint(f'Количество строк в данных после удаления явных дубликатов: {len(new_games)}')",
      "metadata": {
        "id": "29e57705"
      },
      "outputs": [
        {
          "name": "stdout",
          "output_type": "stream",
          "text": "Количество строк в данных после удаления явных дубликатов: 16715\n"
        }
      ],
      "execution_count": 30
    },
    {
      "id": "54616bae",
      "cell_type": "markdown",
      "source": "- Напишите промежуточный вывод: укажите количество найденных дубликатов и действия по их обработке.",
      "metadata": {
        "id": "54616bae"
      }
    },
    {
      "id": "2997f789",
      "cell_type": "markdown",
      "source": "После выполнения проверки на наличие явных дубликатов в нашем DataFrame new_games, были получены следующие результаты:Количество найденных явных дубликатов:  241\n\nДействия по обработке дубликатов:\nОбнаружение дубликатов: Мы использовали метод duplicated() для определения строк, которые полностью повторяются в DataFrame. В результате было найдено 241.\n\nУдаление дубликатов: После выявления явных дубликатов, мы применили метод drop_duplicates() для их удаления. В результате были удалены все повторяющиеся строки, и DataFrame был обновлён.\n\nПроверка уникальности: После удаления дубликатов мы снова проверили уникальные значения в ключевых столбцах, чтобы убедиться, что данные теперь чисты и готовы для дальнейшего анализа.\n\nИтог:\nКоличество строк в данных после удаления явных дубликатов: 16715.",
      "metadata": {
        "id": "8548f894"
      }
    },
    {
      "id": "72645ae9",
      "cell_type": "markdown",
      "source": "- В процессе подготовки данных вы могли что-либо удалять, например строки с пропусками или ошибками, дубликаты и прочее. В этом случае посчитайте количество удалённых строк в абсолютном и относительном значениях.",
      "metadata": {
        "id": "72645ae9"
      }
    },
    {
      "id": "e0ea0b7e",
      "cell_type": "markdown",
      "source": "Сохраняем исходное количество строк",
      "metadata": {}
    },
    {
      "id": "f9d8ee19",
      "cell_type": "code",
      "source": "# Сохраняем исходное количество строк\ninitial_count = len(new_games)",
      "metadata": {
        "id": "f9d8ee19"
      },
      "outputs": [],
      "execution_count": 31
    },
    {
      "id": "5789f109",
      "cell_type": "markdown",
      "source": "Проверяем наличие пропусков",
      "metadata": {}
    },
    {
      "id": "3d7a9d8e",
      "cell_type": "code",
      "source": "# Проверяем наличие пропусков\nmissing_data = new_games.isnull().sum()\nprint(\"Количество пропусков в каждом столбце:\")\nprint(missing_data[missing_data > 0])\n",
      "metadata": {
        "id": "3d7a9d8e"
      },
      "outputs": [
        {
          "name": "stdout",
          "output_type": "stream",
          "text": "Количество пропусков в каждом столбце:\n,name               2\n,genre              2\n,critic_score    1486\n,user_score      1266\n,dtype: int64\n"
        }
      ],
      "execution_count": 32
    },
    {
      "id": "b0bd7f97",
      "cell_type": "markdown",
      "source": "Заполнение пропусков в региональных продажах средними значениями по группам",
      "metadata": {}
    },
    {
      "id": "679a247c",
      "cell_type": "code",
      "source": "# Заполнение пропусков в региональных продажах средними значениями по группам\ndef fill_sales_with_mean(df, sales_column):\n    mean_values = new_games.groupby(['year_of_release', 'platform'])[sales_column].transform('mean')\n    return new_games[sales_column].fillna(mean_values)",
      "metadata": {},
      "outputs": [],
      "execution_count": 33
    },
    {
      "id": "ccb18c85",
      "cell_type": "markdown",
      "source": "Заполняем пропуски только в столбцах с продажами",
      "metadata": {}
    },
    {
      "id": "649ca006",
      "cell_type": "code",
      "source": "# Заполняем пропуски только в столбцах с продажами\nfor col in ['eu_sales', 'jp_sales', 'na_sales', 'other_sales']:\n    new_games[col] = fill_sales_with_mean(new_games, col)",
      "metadata": {},
      "outputs": [],
      "execution_count": 34
    },
    {
      "id": "63b0eecc",
      "cell_type": "markdown",
      "source": "Сравниваем количество строк после обработки",
      "metadata": {}
    },
    {
      "id": "9135ca47",
      "cell_type": "code",
      "source": "# Сравниваем количество строк после обработки\nfinal_count = len(new_games)",
      "metadata": {},
      "outputs": [],
      "execution_count": 35
    },
    {
      "id": "84236735",
      "cell_type": "markdown",
      "source": "Выводим информацию о количестве строк",
      "metadata": {}
    },
    {
      "id": "9975957a",
      "cell_type": "code",
      "source": "# Выводим информацию о количестве строк\nprint(f'Исходное количество строк: {initial_count}')\nprint(f'Количество строк после обработки: {final_count}')",
      "metadata": {},
      "outputs": [
        {
          "name": "stdout",
          "output_type": "stream",
          "text": "Исходное количество строк: 16715\n,Количество строк после обработки: 16715\n"
        }
      ],
      "execution_count": 36
    },
    {
      "id": "1778e369",
      "cell_type": "markdown",
      "source": "Удаляем явные дубликаты",
      "metadata": {}
    },
    {
      "id": "1e48a7ce",
      "cell_type": "code",
      "source": "# Удаляем явные дубликаты\nnew_games = new_games.drop_duplicates()\nprint('Явные дубликаты были удалены.')",
      "metadata": {
        "id": "1e48a7ce"
      },
      "outputs": [
        {
          "name": "stdout",
          "output_type": "stream",
          "text": "Явные дубликаты были удалены.\n"
        }
      ],
      "execution_count": 37
    },
    {
      "id": "8fc58d82",
      "cell_type": "markdown",
      "source": "Считаем текущее количество строк",
      "metadata": {}
    },
    {
      "id": "032af11c",
      "cell_type": "code",
      "source": "# Считаем текущее количество строк\nfinal_count = len(new_games)",
      "metadata": {},
      "outputs": [],
      "execution_count": 38
    },
    {
      "id": "4582b631",
      "cell_type": "markdown",
      "source": "Вычисляем количество удалённых строк",
      "metadata": {}
    },
    {
      "id": "bdac37db",
      "cell_type": "code",
      "source": "# Вычисляем количество удалённых строк\ndeleted_rows = initial_count - final_count\nrelative_deleted_rows = (deleted_rows / initial_count) * 100 if initial_count > 0 else 0",
      "metadata": {},
      "outputs": [],
      "execution_count": 39
    },
    {
      "id": "6618e0f2",
      "cell_type": "markdown",
      "source": "Выводим результаты",
      "metadata": {}
    },
    {
      "id": "d658c637",
      "cell_type": "code",
      "source": "# Выводим результаты\nprint(f'Исходное количество строк: {initial_count}')\nprint(f'Количество удалённых строк: {deleted_rows} (относительно: {relative_deleted_rows:.2f}%)')\nprint(f'Количество строк в данных после обработки: {final_count}')",
      "metadata": {},
      "outputs": [
        {
          "name": "stdout",
          "output_type": "stream",
          "text": "Исходное количество строк: 16715\n,Количество удалённых строк: 0 (относительно: 0.00%)\n,Количество строк в данных после обработки: 16715\n"
        }
      ],
      "execution_count": 40
    },
    {
      "id": "47613d75",
      "cell_type": "markdown",
      "source": "- После проведения предобработки данных напишите общий промежуточный вывод.",
      "metadata": {
        "id": "47613d75"
      }
    },
    {
      "id": "19cbd5b1",
      "cell_type": "markdown",
      "source": "После проведения предобработки данных было выполнено несколько этапов очистки и подготовки данных. В результате:\n\nИсходное количество строк в исходном датасете составляло 16 715.\nВ процессе обработки не было удалено ни одной строки, что подтверждается значением 0 (относительно: 0.00%).\nПосле всех этапов предобработки количество строк осталось неизменным — 16 715.\nЭто говорит о том, что все необходимые преобразования были выполнены без потери информации. В дальнейшем можно переходить к анализу и моделированию, основываясь на полностью подготовленных данных.",
      "metadata": {
        "id": "12a69dba"
      }
    },
    {
      "id": "613f0eb0",
      "cell_type": "markdown",
      "source": "---\n\n## 3. Фильтрация данных\n\nКоллеги хотят изучить историю продаж игр в начале XXI века, и их интересует период с 2000 по 2013 год включительно. Отберите данные по этому показателю. Сохраните новый срез данных в отдельном датафрейме, например `df_actual`.",
      "metadata": {
        "id": "613f0eb0"
      }
    },
    {
      "id": "2dbe013d",
      "cell_type": "markdown",
      "source": "Фильтрация данных по году и преобразование столбца year_of_release в числовой формат",
      "metadata": {}
    },
    {
      "id": "2344916d",
      "cell_type": "code",
      "source": "# Фильтрация данных по году и преобразование столбца year_of_release в числовой формат\nnew_games['year_of_release'] = pd.to_numeric(new_games['year_of_release'], errors='coerce')\ndf_actual = new_games[(new_games['year_of_release'] >= 2000) & (new_games['year_of_release'] <= 2013)]",
      "metadata": {
        "id": "2344916d"
      },
      "outputs": [],
      "execution_count": 41
    },
    {
      "id": "2336a283",
      "cell_type": "markdown",
      "source": "Проверяем результат",
      "metadata": {}
    },
    {
      "id": "44d7529f",
      "cell_type": "code",
      "source": "# Проверяем результат\ndisplay(df_actual)",
      "metadata": {
        "id": "44d7529f"
      },
      "outputs": [
        {
          "data": {
            "text/html": [
              "<div>\n",
              "<style scoped>\n",
              "    .dataframe tbody tr th:only-of-type {\n",
              "        vertical-align: middle;\n",
              "    }\n",
              "\n",
              "    .dataframe tbody tr th {\n",
              "        vertical-align: top;\n",
              "    }\n",
              "\n",
              "    .dataframe thead th {\n",
              "        text-align: right;\n",
              "    }\n",
              "</style>\n",
              "<table border=\"1\" class=\"dataframe\">\n",
              "  <thead>\n",
              "    <tr style=\"text-align: right;\">\n",
              "      <th></th>\n",
              "      <th>name</th>\n",
              "      <th>platform</th>\n",
              "      <th>year_of_release</th>\n",
              "      <th>genre</th>\n",
              "      <th>na_sales</th>\n",
              "      <th>eu_sales</th>\n",
              "      <th>jp_sales</th>\n",
              "      <th>other_sales</th>\n",
              "      <th>critic_score</th>\n",
              "      <th>user_score</th>\n",
              "      <th>rating</th>\n",
              "    </tr>\n",
              "  </thead>\n",
              "  <tbody>\n",
              "    <tr>\n",
              "      <th>0</th>\n",
              "      <td>Wii Sports</td>\n",
              "      <td>wii</td>\n",
              "      <td>2006.0</td>\n",
              "      <td>sports</td>\n",
              "      <td>41.36</td>\n",
              "      <td>28.96</td>\n",
              "      <td>3.77</td>\n",
              "      <td>8.45</td>\n",
              "      <td>76.000000</td>\n",
              "      <td>8.000000</td>\n",
              "      <td>E</td>\n",
              "    </tr>\n",
              "    <tr>\n",
              "      <th>2</th>\n",
              "      <td>Mario Kart Wii</td>\n",
              "      <td>wii</td>\n",
              "      <td>2008.0</td>\n",
              "      <td>racing</td>\n",
              "      <td>15.68</td>\n",
              "      <td>12.76</td>\n",
              "      <td>3.79</td>\n",
              "      <td>3.29</td>\n",
              "      <td>82.000000</td>\n",
              "      <td>8.300000</td>\n",
              "      <td>E</td>\n",
              "    </tr>\n",
              "    <tr>\n",
              "      <th>3</th>\n",
              "      <td>Wii Sports Resort</td>\n",
              "      <td>wii</td>\n",
              "      <td>2009.0</td>\n",
              "      <td>sports</td>\n",
              "      <td>15.61</td>\n",
              "      <td>10.93</td>\n",
              "      <td>3.28</td>\n",
              "      <td>2.95</td>\n",
              "      <td>80.000000</td>\n",
              "      <td>8.000000</td>\n",
              "      <td>E</td>\n",
              "    </tr>\n",
              "    <tr>\n",
              "      <th>6</th>\n",
              "      <td>New Super Mario Bros.</td>\n",
              "      <td>ds</td>\n",
              "      <td>2006.0</td>\n",
              "      <td>platform</td>\n",
              "      <td>11.28</td>\n",
              "      <td>9.14</td>\n",
              "      <td>6.50</td>\n",
              "      <td>2.88</td>\n",
              "      <td>89.000000</td>\n",
              "      <td>8.500000</td>\n",
              "      <td>E</td>\n",
              "    </tr>\n",
              "    <tr>\n",
              "      <th>7</th>\n",
              "      <td>Wii Play</td>\n",
              "      <td>wii</td>\n",
              "      <td>2006.0</td>\n",
              "      <td>misc</td>\n",
              "      <td>13.96</td>\n",
              "      <td>9.18</td>\n",
              "      <td>2.93</td>\n",
              "      <td>2.84</td>\n",
              "      <td>58.000000</td>\n",
              "      <td>6.600000</td>\n",
              "      <td>E</td>\n",
              "    </tr>\n",
              "    <tr>\n",
              "      <th>...</th>\n",
              "      <td>...</td>\n",
              "      <td>...</td>\n",
              "      <td>...</td>\n",
              "      <td>...</td>\n",
              "      <td>...</td>\n",
              "      <td>...</td>\n",
              "      <td>...</td>\n",
              "      <td>...</td>\n",
              "      <td>...</td>\n",
              "      <td>...</td>\n",
              "      <td>...</td>\n",
              "    </tr>\n",
              "    <tr>\n",
              "      <th>16947</th>\n",
              "      <td>Men in Black II: Alien Escape</td>\n",
              "      <td>gc</td>\n",
              "      <td>2003.0</td>\n",
              "      <td>shooter</td>\n",
              "      <td>0.01</td>\n",
              "      <td>0.00</td>\n",
              "      <td>0.00</td>\n",
              "      <td>0.00</td>\n",
              "      <td>69.243478</td>\n",
              "      <td>7.691919</td>\n",
              "      <td>T</td>\n",
              "    </tr>\n",
              "    <tr>\n",
              "      <th>16949</th>\n",
              "      <td>Woody Woodpecker in Crazy Castle 5</td>\n",
              "      <td>gba</td>\n",
              "      <td>2002.0</td>\n",
              "      <td>platform</td>\n",
              "      <td>0.01</td>\n",
              "      <td>0.00</td>\n",
              "      <td>0.00</td>\n",
              "      <td>0.00</td>\n",
              "      <td>66.854962</td>\n",
              "      <td>7.451786</td>\n",
              "      <td>UNKNOWN</td>\n",
              "    </tr>\n",
              "    <tr>\n",
              "      <th>16950</th>\n",
              "      <td>SCORE International Baja 1000: The Official Game</td>\n",
              "      <td>ps2</td>\n",
              "      <td>2008.0</td>\n",
              "      <td>racing</td>\n",
              "      <td>0.00</td>\n",
              "      <td>0.00</td>\n",
              "      <td>0.00</td>\n",
              "      <td>0.00</td>\n",
              "      <td>63.666667</td>\n",
              "      <td>7.185455</td>\n",
              "      <td>UNKNOWN</td>\n",
              "    </tr>\n",
              "    <tr>\n",
              "      <th>16952</th>\n",
              "      <td>LMA Manager 2007</td>\n",
              "      <td>x360</td>\n",
              "      <td>2006.0</td>\n",
              "      <td>sports</td>\n",
              "      <td>0.00</td>\n",
              "      <td>0.01</td>\n",
              "      <td>0.00</td>\n",
              "      <td>0.00</td>\n",
              "      <td>69.842105</td>\n",
              "      <td>6.984211</td>\n",
              "      <td>UNKNOWN</td>\n",
              "    </tr>\n",
              "    <tr>\n",
              "      <th>16954</th>\n",
              "      <td>Spirits &amp; Spells</td>\n",
              "      <td>gba</td>\n",
              "      <td>2003.0</td>\n",
              "      <td>platform</td>\n",
              "      <td>0.01</td>\n",
              "      <td>0.00</td>\n",
              "      <td>0.00</td>\n",
              "      <td>0.00</td>\n",
              "      <td>68.123711</td>\n",
              "      <td>7.958904</td>\n",
              "      <td>UNKNOWN</td>\n",
              "    </tr>\n",
              "  </tbody>\n",
              "</table>\n",
              "<p>12781 rows × 11 columns</p>\n",
              "</div>"
            ],
            "text/plain": [
              "                                                   name platform  \\\n",
              "0                                            Wii Sports      wii   \n",
              "2                                        Mario Kart Wii      wii   \n",
              "3                                     Wii Sports Resort      wii   \n",
              "6                                 New Super Mario Bros.       ds   \n",
              "7                                              Wii Play      wii   \n",
              "...                                                 ...      ...   \n",
              "16947                     Men in Black II: Alien Escape       gc   \n",
              "16949                Woody Woodpecker in Crazy Castle 5      gba   \n",
              "16950  SCORE International Baja 1000: The Official Game      ps2   \n",
              "16952                                  LMA Manager 2007     x360   \n",
              "16954                                  Spirits & Spells      gba   \n",
              "\n",
              "       year_of_release     genre  na_sales  eu_sales  jp_sales  other_sales  \\\n",
              "0               2006.0    sports     41.36     28.96      3.77         8.45   \n",
              "2               2008.0    racing     15.68     12.76      3.79         3.29   \n",
              "3               2009.0    sports     15.61     10.93      3.28         2.95   \n",
              "6               2006.0  platform     11.28      9.14      6.50         2.88   \n",
              "7               2006.0      misc     13.96      9.18      2.93         2.84   \n",
              "...                ...       ...       ...       ...       ...          ...   \n",
              "16947           2003.0   shooter      0.01      0.00      0.00         0.00   \n",
              "16949           2002.0  platform      0.01      0.00      0.00         0.00   \n",
              "16950           2008.0    racing      0.00      0.00      0.00         0.00   \n",
              "16952           2006.0    sports      0.00      0.01      0.00         0.00   \n",
              "16954           2003.0  platform      0.01      0.00      0.00         0.00   \n",
              "\n",
              "       critic_score  user_score   rating  \n",
              "0         76.000000    8.000000        E  \n",
              "2         82.000000    8.300000        E  \n",
              "3         80.000000    8.000000        E  \n",
              "6         89.000000    8.500000        E  \n",
              "7         58.000000    6.600000        E  \n",
              "...             ...         ...      ...  \n",
              "16947     69.243478    7.691919        T  \n",
              "16949     66.854962    7.451786  UNKNOWN  \n",
              "16950     63.666667    7.185455  UNKNOWN  \n",
              "16952     69.842105    6.984211  UNKNOWN  \n",
              "16954     68.123711    7.958904  UNKNOWN  \n",
              "\n",
              "[12781 rows x 11 columns]"
            ]
          },
          "metadata": {},
          "output_type": "display_data"
        }
      ],
      "execution_count": 42
    },
    {
      "id": "d3930d3e",
      "cell_type": "markdown",
      "source": "В результате фильтрации исходного датасета по периоду с 2000 по 2013 год был сформирован новый срез данных df_actual. Этот срез включает информацию о названиях игр, платформах, жанрах, годах выпуска, региональных продажах, оценках критиков и пользователей, а также рейтингах. Такой отбор позволяет сосредоточиться на истории продаж и оценки игр в начале XXI века, что удобно для анализа тенденций рынка, популярности жанров и платформ в этот период. ",
      "metadata": {}
    },
    {
      "id": "a6f10b01",
      "cell_type": "markdown",
      "source": "---\n\n## 4. Категоризация данных\n    \nПроведите категоризацию данных:\n- Разделите все игры по оценкам пользователей и выделите такие категории: высокая оценка (от 8 до 10 включительно), средняя оценка (от 3 до 8, не включая правую границу интервала) и низкая оценка (от 0 до 3, не включая правую границу интервала).",
      "metadata": {
        "id": "a6f10b01"
      }
    },
    {
      "id": "fbf5a2c1",
      "cell_type": "markdown",
      "source": "Разделим игры на 4 категории ",
      "metadata": {}
    },
    {
      "id": "3db87229",
      "cell_type": "code",
      "source": "# Разделим игры на 4 категории \ndef categorize_user_score(score):\n    if pd.isnull(score):\n        return 'нет оценки'\n    elif score >=8:\n        return 'высокая'\n    elif score >=3:\n        return 'средняя'\n    else:\n        return 'низкая'\n\ndf_actual = df_actual.copy()\ndf_actual['user_score_category'] = df_actual['user_score'].apply(categorize_user_score)",
      "metadata": {
        "id": "3db87229"
      },
      "outputs": [],
      "execution_count": 43
    },
    {
      "id": "88c65cce",
      "cell_type": "markdown",
      "source": "Теперь можно выполнить анализ по категориям Например, подсчитаем количество игр в каждой категории",
      "metadata": {}
    },
    {
      "id": "9b0ca0f2",
      "cell_type": "code",
      "source": "# Теперь можно выполнить анализ по категориям\n# Например, подсчитаем количество игр в каждой категории\ncategory_counts = df_actual['user_score_category'].value_counts()\nprint(category_counts)",
      "metadata": {
        "id": "9b0ca0f2"
      },
      "outputs": [
        {
          "name": "stdout",
          "output_type": "stream",
          "text": "средняя       10192\n,высокая        2359\n,низкая          116\n,нет оценки      114\n,Name: user_score_category, dtype: int64\n"
        }
      ],
      "execution_count": 44
    },
    {
      "id": "6cdc8ce2",
      "cell_type": "markdown",
      "source": "Создаем копию DataFrame, чтобы избежать предупреждений",
      "metadata": {}
    },
    {
      "id": "35438bd6",
      "cell_type": "code",
      "source": "# Создаем копию DataFrame, чтобы избежать предупреждений\ndf_actual = df_actual.copy()",
      "metadata": {
        "id": "35438bd6"
      },
      "outputs": [],
      "execution_count": 45
    },
    {
      "id": "f8f34b40",
      "cell_type": "markdown",
      "source": "- Разделите все игры по оценкам критиков и выделите такие категории: высокая оценка (от 80 до 100 включительно), средняя оценка (от 30 до 80, не включая правую границу интервала) и низкая оценка (от 0 до 30, не включая правую границу интервала).",
      "metadata": {
        "id": "f8f34b40"
      }
    },
    {
      "id": "7e432ccf",
      "cell_type": "markdown",
      "source": "Категоризация критических оценок с помощью pandas.cut",
      "metadata": {}
    },
    {
      "id": "e3f7acb0",
      "cell_type": "code",
      "source": "# Категоризация критических оценок с помощью pandas.cut\nbins = [0, 30, 80, 100]\nlabels = ['низкая', 'средняя', 'высокая']",
      "metadata": {
        "id": "e3f7acb0"
      },
      "outputs": [],
      "execution_count": 46
    },
    {
      "id": "2bd52d3f",
      "cell_type": "markdown",
      "source": "Создаем новую колонку с категориями",
      "metadata": {}
    },
    {
      "id": "548fde17",
      "cell_type": "code",
      "source": "# Создаем новую колонку с категориями\ndf_actual['critic_score_category'] = pd.cut(\n    df_actual['critic_score'],\n    bins=bins,\n    labels=labels,\n    right=False  # интервал включает левую границу, исключая правую\n)",
      "metadata": {
        "id": "548fde17"
      },
      "outputs": [],
      "execution_count": 47
    },
    {
      "id": "olkTlTlAUDR9",
      "cell_type": "markdown",
      "source": "- После категоризации данных проверьте результат: сгруппируйте данные по выделенным категориям и посчитайте количество игр в каждой категории.",
      "metadata": {
        "id": "olkTlTlAUDR9"
      }
    },
    {
      "id": "267c7640",
      "cell_type": "markdown",
      "source": "Группируем по категориям и считаем количество игр в каждой",
      "metadata": {}
    },
    {
      "id": "HW0Nsp-4UMSL",
      "cell_type": "code",
      "source": "# Группируем по категориям и считаем количество игр в каждой\ncategory_counts = df_actual.groupby('critic_score_category').size()",
      "metadata": {
        "id": "HW0Nsp-4UMSL"
      },
      "outputs": [],
      "execution_count": 48
    },
    {
      "id": "fd12f7eb",
      "cell_type": "markdown",
      "source": "Дополнительно отсортируем по количеству",
      "metadata": {}
    },
    {
      "id": "x2ne0HIpUMMD",
      "cell_type": "code",
      "source": "# дополнительно отсортируем по количеству\ncategory_counts_sorted = category_counts.sort_values(ascending=False)\nprint(category_counts_sorted)",
      "metadata": {
        "id": "x2ne0HIpUMMD"
      },
      "outputs": [
        {
          "name": "stdout",
          "output_type": "stream",
          "text": "critic_score_category\n,средняя    10724\n,высокая     1760\n,низкая        55\n,dtype: int64\n"
        }
      ],
      "execution_count": 49
    },
    {
      "id": "95e12415",
      "cell_type": "markdown",
      "source": "Анализ распределения игр по категориям оценок критиков показывает, что большинство игр в выбранном периоде (2000–2013 годы) получили средние оценки — 10724 игр, что свидетельствует о высокой степени объективности в оценках критиков.",
      "metadata": {
        "id": "U6kiXU3JUMCc"
      }
    },
    {
      "id": "6a98444c",
      "cell_type": "markdown",
      "source": "- Выделите топ-7 платформ по количеству игр, выпущенных за весь актуальный период.",
      "metadata": {
        "id": "6a98444c"
      }
    },
    {
      "id": "61a063e0",
      "cell_type": "markdown",
      "source": "Группируем по платформам и считаем количество игр для каждой и выводим результат",
      "metadata": {}
    },
    {
      "id": "003caa2c",
      "cell_type": "code",
      "source": "# Группируем по платформам и считаем количество игр для каждой\ntop_platforms = df_actual['platform'].value_counts().head(7)\n\n# Выводим результат\nprint(top_platforms)",
      "metadata": {
        "id": "003caa2c"
      },
      "outputs": [
        {
          "name": "stdout",
          "output_type": "stream",
          "text": "ps2     2127\n,ds      2120\n,wii     1275\n,psp     1180\n,x360    1121\n,ps3     1087\n,gba      811\n,Name: platform, dtype: int64\n"
        }
      ],
      "execution_count": 50
    },
    {
      "id": "16d32689",
      "cell_type": "markdown",
      "source": "Это показывает, что наиболее популярной платформой в выбранном периоде является PlayStation 2 (PS2) - 2127, за ней следуют Nintendo DS + 2120, Wii - 1275, PSP - 1180, Xbox 360 - 1121, PlayStation 3 - 1087 и Game Boy Advance- 811.",
      "metadata": {}
    },
    {
      "id": "c0158881",
      "cell_type": "markdown",
      "source": "---\n\n## 5. Итоговый вывод\n\nВ конце напишите основной вывод и отразите, какую работу проделали. Не забудьте указать описание среза данных и новых полей, которые добавили в исходный датасет.",
      "metadata": {
        "id": "c0158881"
      }
    },
    {
      "id": "6bb65fa9",
      "cell_type": "markdown",
      "source": "В ходе выполнения предобработки данных о видеоиграх за актуальный период были проведены комплексные мероприятия по подготовке датасета к дальнейшему анализу. В частности, выполнены следующие шаги:",
      "metadata": {
        "id": "20175f5b"
      }
    },
    {
      "id": "9532e880",
      "cell_type": "markdown",
      "source": "Проверка и стандартизация названий столбцов: все названия приведены к стилю snake_case, что обеспечивает единообразие и удобство работы с данными.\nАнализ типов данных и их корректировка: выявлены и исправлены несоответствия в типах данных заменены строковые значения в числовых столбцах на NaN для последующей обработки.\nОбработка пропусков: определены причины пропусков и заполнены пропущенные значения средними или модой в зависимости от типа данных, что позволяет сохранить максимальную информацию.\nНормализация категориальных признаков: привели к нижнему регистру названия жанров, платформ, рейтингов для устранения неявных дубликатов и опечаток.\nУдаление дубликатов: выявлены и удалены явные дубликаты строк, что повысило качество данных.\nФильтрация по периоду с 2000 по 2013 год включительно: создан новый срез данных df_actual, содержащий только игры, выпущенные в указанный период.",
      "metadata": {
        "id": "0c1afc40"
      }
    },
    {
      "id": "2af61313",
      "cell_type": "markdown",
      "source": "Описание среза данных:\n\nВ результате был сформирован датафрейм df_actual, содержащий информацию о видеоиграх, выпущенных с 1 января 2000 года по 31 декабря 2013 года. В этом срезе сохранена вся релевантная информация о названиях игр, платформах, жанрах, датах выхода, продажах по регионам, оценках критиков и пользователей.\n\nДобавленные новые поля:\n\nuser_score_category — категория пользовательских оценок (высокая/средняя/низкая).\ncritic_score_category — категория оценок критиков (высокая/средняя/низкая).\nЭти поля позволяют более удобно анализировать качество игр по различным критериям и выявлять закономерности в распределении оценок.\n\nДанная работа подготовила данные к дальнейшему анализу, обеспечив их качество и порядок.",
      "metadata": {
        "id": "9fe570b3"
      }
    }
  ]
}